{
 "cells": [
  {
   "cell_type": "markdown",
   "metadata": {
    "hideCode": false,
    "hidePrompt": false
   },
   "source": [
    "# NCHS Market Segmentation\n",
    "\n",
    "![](banner_nchs.jpg)\n",
    "\n",
    "Cluster Analysis & Evaluation"
   ]
  },
  {
   "cell_type": "code",
   "execution_count": 1,
   "metadata": {
    "hide_input": false
   },
   "outputs": [
    {
     "data": {
      "text/html": [
       "<p style=\"text-align:center; font-size:10px;\">\n",
       ".................................................... start of document ....................................................\n",
       "</p>"
      ]
     },
     "metadata": {},
     "output_type": "display_data"
    }
   ],
   "source": [
    "f = \"setup.R\"; for (i in 1:10) { if (file.exists(f)) break else f = paste0(\"../\", f) }; source(f)"
   ]
  },
  {
   "cell_type": "markdown",
   "metadata": {},
   "source": [
    "## Situation\n",
    "\n",
    "* **Role:** Product Category Manager for Personal Health Management Applications. \n",
    "* **Business Decision:** How to segment the market for personal health management products and how many products to develop?\n",
    "* **Approach:** Use k-means applied to diet survey data to segment the market in various ways and compare relative business value of various product development strategies.\n",
    "* **Dataset:**  Centers for Disease Control & Prevention, National Center for Health Statistics, National Health & Nutrition Examination Survey 2013-14, Diet Survey (https://www.cdc.gov/nchs/nhanes/index.htm)"
   ]
  },
  {
   "cell_type": "markdown",
   "metadata": {},
   "source": [
    "## Business Decision Framework"
   ]
  },
  {
   "cell_type": "markdown",
   "metadata": {},
   "source": [
    "**A decision model.**\n",
    "\n",
    "How we make money ...\n",
    "\n",
    "* Potential market share of segment is proportional to cluster share of data.\n",
    "* Market share is potential market share reduced by inverse intracluster dispersion (times a calibration factor).  So, the more alike people within a segment are, the more the product features can be tuned to those people, the more people will find the product attractive, and the more people will become customers.\n",
    "* Volume is market share of total market size.\n",
    "\n",
    "\n",
    "* Revenue is volume times price per product unit.\n",
    "\n",
    "\n",
    "* Fixed cost is for development of a product.  So, the more segments, the more products will be developed, the more total fixed cost. <br>\n",
    "_(Fixed cost is variable in terms of number of segments, but not variable in terms of number of product units sold.)_\n",
    "* Variable cost is for service associated with product units sold.\n",
    "* Cost is fixed cost plus variable cost times volume.\n",
    "\n",
    "\n",
    "* Profit is revenue minus cost."
   ]
  },
  {
   "cell_type": "markdown",
   "metadata": {},
   "source": [
    "**Influence diagram of decision model.**\n",
    "\n",
    "![](business_model_influence_diagram.jpg)"
   ]
  },
  {
   "cell_type": "markdown",
   "metadata": {},
   "source": [
    "**Business parameters.** "
   ]
  },
  {
   "cell_type": "code",
   "execution_count": 2,
   "metadata": {
    "hide_input": true
   },
   "outputs": [
    {
     "data": {
      "text/html": [
       "<table>\n",
       "<thead><tr><th scope=col>market_size</th><th scope=col>calibration</th><th scope=col>price</th><th scope=col>cost.fixed</th><th scope=col>cost.variable</th></tr></thead>\n",
       "<tbody>\n",
       "\t<tr><td>100000</td><td>0.25  </td><td>999.99</td><td>150000</td><td>100   </td></tr>\n",
       "</tbody>\n",
       "</table>\n"
      ],
      "text/latex": [
       "\\begin{tabular}{r|lllll}\n",
       " market\\_size & calibration & price & cost.fixed & cost.variable\\\\\n",
       "\\hline\n",
       "\t 100000 & 0.25   & 999.99 & 150000 & 100   \\\\\n",
       "\\end{tabular}\n"
      ],
      "text/markdown": [
       "\n",
       "| market_size | calibration | price | cost.fixed | cost.variable |\n",
       "|---|---|---|---|---|\n",
       "| 100000 | 0.25   | 999.99 | 150000 | 100    |\n",
       "\n"
      ],
      "text/plain": [
       "  market_size calibration price  cost.fixed cost.variable\n",
       "1 100000      0.25        999.99 150000     100          "
      ]
     },
     "metadata": {},
     "output_type": "display_data"
    }
   ],
   "source": [
    "market_size = 100000\n",
    "calibration = 0.25\n",
    "price = 999.99\n",
    "cost.fixed = 150000\n",
    "cost.variable = 100\n",
    "\n",
    "data.frame(market_size, calibration, price, cost.fixed, cost.variable)"
   ]
  },
  {
   "cell_type": "markdown",
   "metadata": {},
   "source": [
    "## Data "
   ]
  },
  {
   "cell_type": "markdown",
   "metadata": {},
   "source": [
    "Data Dictionary: https://wwwn.cdc.gov/Nchs/Nhanes/2013-2014/DR1IFF_H.htm"
   ]
  },
  {
   "cell_type": "code",
   "execution_count": 3,
   "metadata": {
    "hide_input": true
   },
   "outputs": [
    {
     "data": {
      "text/html": [
       "<table>\n",
       "<thead><tr><th scope=col>observations</th><th scope=col>variables</th></tr></thead>\n",
       "<tbody>\n",
       "\t<tr><td>9813</td><td>168 </td></tr>\n",
       "</tbody>\n",
       "</table>\n"
      ],
      "text/latex": [
       "\\begin{tabular}{r|ll}\n",
       " observations & variables\\\\\n",
       "\\hline\n",
       "\t 9813 & 168 \\\\\n",
       "\\end{tabular}\n"
      ],
      "text/markdown": [
       "\n",
       "| observations | variables |\n",
       "|---|---|\n",
       "| 9813 | 168  |\n",
       "\n"
      ],
      "text/plain": [
       "  observations variables\n",
       "1 9813         168      "
      ]
     },
     "metadata": {},
     "output_type": "display_data"
    },
    {
     "data": {
      "text/html": [
       "<table>\n",
       "<thead><tr><th scope=col>SEQN</th><th scope=col>WTDRD1</th><th scope=col>WTDR2D</th><th scope=col>DR1DRSTZ</th><th scope=col>DR1EXMER</th><th scope=col>DRABF</th><th scope=col>DRDINT</th><th scope=col>DR1DBIH</th><th scope=col>DR1DAY</th><th scope=col>DR1LANG</th><th scope=col>DR1MNRSP</th><th scope=col>DR1HELPD</th><th scope=col>DBQ095Z</th><th scope=col>DBD100</th><th scope=col>DRQSPREP</th><th scope=col>DR1STY</th><th scope=col>DR1SKY</th><th scope=col>DRQSDIET</th><th scope=col>DRQSDT1</th><th scope=col>DRQSDT2</th><th scope=col>DRQSDT3</th><th scope=col>DRQSDT4</th><th scope=col>DRQSDT5</th><th scope=col>DRQSDT6</th><th scope=col>DRQSDT7</th><th scope=col>DRQSDT8</th><th scope=col>DRQSDT9</th><th scope=col>DRQSDT10</th><th scope=col>DRQSDT11</th><th scope=col>DRQSDT12</th><th scope=col>DRQSDT91</th><th scope=col>DR1TNUMF</th><th scope=col>DR1TKCAL</th><th scope=col>DR1TPROT</th><th scope=col>DR1TCARB</th><th scope=col>DR1TSUGR</th><th scope=col>DR1TFIBE</th><th scope=col>...</th><th scope=col>DRD370D</th><th scope=col>DRD370DQ</th><th scope=col>DRD370E</th><th scope=col>DRD370EQ</th><th scope=col>DRD370F</th><th scope=col>DRD370FQ</th><th scope=col>DRD370G</th><th scope=col>DRD370GQ</th><th scope=col>DRD370H</th><th scope=col>DRD370HQ</th><th scope=col>DRD370I</th><th scope=col>DRD370IQ</th><th scope=col>DRD370J</th><th scope=col>DRD370JQ</th><th scope=col>DRD370K</th><th scope=col>DRD370KQ</th><th scope=col>DRD370L</th><th scope=col>DRD370LQ</th><th scope=col>DRD370M</th><th scope=col>DRD370MQ</th><th scope=col>DRD370N</th><th scope=col>DRD370NQ</th><th scope=col>DRD370O</th><th scope=col>DRD370OQ</th><th scope=col>DRD370P</th><th scope=col>DRD370PQ</th><th scope=col>DRD370Q</th><th scope=col>DRD370QQ</th><th scope=col>DRD370R</th><th scope=col>DRD370RQ</th><th scope=col>DRD370S</th><th scope=col>DRD370SQ</th><th scope=col>DRD370T</th><th scope=col>DRD370TQ</th><th scope=col>DRD370U</th><th scope=col>DRD370UQ</th><th scope=col>DRD370V</th></tr></thead>\n",
       "<tbody>\n",
       "\t<tr><td>73557    </td><td> 16888.33</td><td> 12930.89</td><td>1        </td><td>49       </td><td>2        </td><td>2        </td><td> 6       </td><td>2        </td><td>1        </td><td>1        </td><td>13       </td><td>3        </td><td> 2       </td><td>4        </td><td>2        </td><td>NA       </td><td>2        </td><td>NA       </td><td>NA       </td><td>NA       </td><td>NA       </td><td>NA       </td><td>NA       </td><td>NA       </td><td>NA       </td><td>NA       </td><td>NA       </td><td>NA       </td><td>NA       </td><td>NA       </td><td>11       </td><td>1574     </td><td> 43.63   </td><td>239.59   </td><td>176.47   </td><td>10.8     </td><td>...      </td><td>NA       </td><td>NA       </td><td>NA       </td><td>NA       </td><td>NA       </td><td>NA       </td><td>NA       </td><td>NA       </td><td>NA       </td><td>NA       </td><td>NA       </td><td>NA       </td><td>NA       </td><td>NA       </td><td>NA       </td><td>NA       </td><td>NA       </td><td>NA       </td><td>NA       </td><td>NA       </td><td>NA       </td><td>NA       </td><td>NA       </td><td>NA       </td><td>NA       </td><td>NA       </td><td>NA       </td><td>NA       </td><td>NA       </td><td>NA       </td><td>NA       </td><td>NA       </td><td>NA       </td><td>NA       </td><td>NA       </td><td>NA       </td><td>NA       </td></tr>\n",
       "\t<tr><td>73558    </td><td> 17932.14</td><td> 12684.15</td><td>1        </td><td>59       </td><td>2        </td><td>2        </td><td> 4       </td><td>1        </td><td>1        </td><td>1        </td><td>13       </td><td>1        </td><td> 2       </td><td>3        </td><td>1        </td><td> 1       </td><td>2        </td><td>NA       </td><td>NA       </td><td>NA       </td><td>NA       </td><td>NA       </td><td>NA       </td><td>NA       </td><td>NA       </td><td>NA       </td><td>NA       </td><td>NA       </td><td>NA       </td><td>NA       </td><td> 8       </td><td>5062     </td><td>338.13   </td><td>423.78   </td><td> 44.99   </td><td>16.7     </td><td>...      </td><td> 2       </td><td>NA       </td><td> 2       </td><td>NA       </td><td> 2       </td><td>NA       </td><td> 2       </td><td>NA       </td><td> 2       </td><td>NA       </td><td> 2       </td><td>NA       </td><td> 2       </td><td>NA       </td><td> 1       </td><td> 1       </td><td> 2       </td><td>NA       </td><td> 2       </td><td>NA       </td><td> 2       </td><td>NA       </td><td> 2       </td><td>NA       </td><td> 2       </td><td>NA       </td><td> 2       </td><td>NA       </td><td> 2       </td><td>NA       </td><td> 2       </td><td>NA       </td><td> 2       </td><td>NA       </td><td> 2       </td><td>NA       </td><td> 2       </td></tr>\n",
       "\t<tr><td>73559    </td><td> 59641.81</td><td> 39394.24</td><td>1        </td><td>49       </td><td>2        </td><td>2        </td><td>18       </td><td>6        </td><td>1        </td><td>1        </td><td>13       </td><td>1        </td><td> 1       </td><td>2        </td><td>2        </td><td>NA       </td><td>1        </td><td>NA       </td><td>NA       </td><td>NA       </td><td>NA       </td><td>NA       </td><td>NA       </td><td> 7       </td><td>NA       </td><td>NA       </td><td>NA       </td><td>NA       </td><td>NA       </td><td>NA       </td><td>27       </td><td>1743     </td><td> 64.61   </td><td>224.39   </td><td>102.90   </td><td> 9.9     </td><td>...      </td><td>NA       </td><td>NA       </td><td>NA       </td><td>NA       </td><td>NA       </td><td>NA       </td><td>NA       </td><td>NA       </td><td>NA       </td><td>NA       </td><td>NA       </td><td>NA       </td><td>NA       </td><td>NA       </td><td>NA       </td><td>NA       </td><td>NA       </td><td>NA       </td><td>NA       </td><td>NA       </td><td>NA       </td><td>NA       </td><td>NA       </td><td>NA       </td><td>NA       </td><td>NA       </td><td>NA       </td><td>NA       </td><td>NA       </td><td>NA       </td><td>NA       </td><td>NA       </td><td>NA       </td><td>NA       </td><td>NA       </td><td>NA       </td><td>NA       </td></tr>\n",
       "\t<tr><td>73560    </td><td>142203.07</td><td>125966.37</td><td>1        </td><td>54       </td><td>2        </td><td>2        </td><td>21       </td><td>3        </td><td>1        </td><td>1        </td><td>12       </td><td>1        </td><td> 1       </td><td>3        </td><td>2        </td><td>NA       </td><td>2        </td><td>NA       </td><td>NA       </td><td>NA       </td><td>NA       </td><td>NA       </td><td>NA       </td><td>NA       </td><td>NA       </td><td>NA       </td><td>NA       </td><td>NA       </td><td>NA       </td><td>NA       </td><td>19       </td><td>1490     </td><td> 77.75   </td><td>162.92   </td><td> 80.58   </td><td>10.6     </td><td>...      </td><td>NA       </td><td>NA       </td><td>NA       </td><td>NA       </td><td>NA       </td><td>NA       </td><td>NA       </td><td>NA       </td><td>NA       </td><td>NA       </td><td>NA       </td><td>NA       </td><td>NA       </td><td>NA       </td><td>NA       </td><td>NA       </td><td>NA       </td><td>NA       </td><td>NA       </td><td>NA       </td><td>NA       </td><td>NA       </td><td>NA       </td><td>NA       </td><td>NA       </td><td>NA       </td><td>NA       </td><td>NA       </td><td>NA       </td><td>NA       </td><td>NA       </td><td>NA       </td><td>NA       </td><td>NA       </td><td>NA       </td><td>NA       </td><td>NA       </td></tr>\n",
       "\t<tr><td>73561    </td><td> 59052.36</td><td> 39004.89</td><td>1        </td><td>63       </td><td>2        </td><td>2        </td><td>18       </td><td>1        </td><td>1        </td><td>1        </td><td>13       </td><td>4        </td><td>NA       </td><td>4        </td><td>2        </td><td>NA       </td><td>1        </td><td>NA       </td><td>NA       </td><td>NA       </td><td>NA       </td><td>NA       </td><td>NA       </td><td>NA       </td><td>NA       </td><td>NA       </td><td>NA       </td><td>NA       </td><td>NA       </td><td>91       </td><td> 7       </td><td>1421     </td><td> 55.24   </td><td>178.20   </td><td> 87.78   </td><td>12.3     </td><td>...      </td><td> 2       </td><td>NA       </td><td> 2       </td><td>NA       </td><td> 2       </td><td>NA       </td><td> 2       </td><td>NA       </td><td> 2       </td><td>NA       </td><td> 2       </td><td>NA       </td><td> 2       </td><td>NA       </td><td> 2       </td><td>NA       </td><td> 2       </td><td>NA       </td><td> 2       </td><td>NA       </td><td> 2       </td><td>NA       </td><td> 2       </td><td>NA       </td><td> 2       </td><td>NA       </td><td> 2       </td><td>NA       </td><td> 2       </td><td>NA       </td><td> 2       </td><td>NA       </td><td> 2       </td><td>NA       </td><td> 2       </td><td>NA       </td><td> 2       </td></tr>\n",
       "\t<tr><td>73562    </td><td> 49890.83</td><td>     0.00</td><td>1        </td><td>49       </td><td>2        </td><td>1        </td><td>11       </td><td>3        </td><td>1        </td><td>1        </td><td>13       </td><td>1        </td><td> 3       </td><td>3        </td><td>1        </td><td> 1       </td><td>2        </td><td>NA       </td><td>NA       </td><td>NA       </td><td>NA       </td><td>NA       </td><td>NA       </td><td>NA       </td><td>NA       </td><td>NA       </td><td>NA       </td><td>NA       </td><td>NA       </td><td>NA       </td><td>17       </td><td>1785     </td><td> 55.11   </td><td>189.59   </td><td> 81.75   </td><td>22.6     </td><td>...      </td><td> 2       </td><td>NA       </td><td> 1       </td><td> 1       </td><td> 2       </td><td>NA       </td><td> 2       </td><td>NA       </td><td> 2       </td><td>NA       </td><td> 2       </td><td>NA       </td><td> 2       </td><td>NA       </td><td> 2       </td><td>NA       </td><td> 2       </td><td>NA       </td><td> 2       </td><td>NA       </td><td> 2       </td><td>NA       </td><td> 2       </td><td>NA       </td><td> 2       </td><td>NA       </td><td> 2       </td><td>NA       </td><td> 2       </td><td>NA       </td><td> 2       </td><td>NA       </td><td> 2       </td><td>NA       </td><td> 2       </td><td>NA       </td><td> 2       </td></tr>\n",
       "</tbody>\n",
       "</table>\n"
      ],
      "text/latex": [
       "\\begin{tabular}{r|llllllllllllllllllllllllllllllllllllllllllllllllllllllllllllllllllllllllllllllllllllllllllllllllllllllllllllllllllllllllllllllllllllllllllllllllllllllllllllllllllllllll}\n",
       " SEQN & WTDRD1 & WTDR2D & DR1DRSTZ & DR1EXMER & DRABF & DRDINT & DR1DBIH & DR1DAY & DR1LANG & DR1MNRSP & DR1HELPD & DBQ095Z & DBD100 & DRQSPREP & DR1STY & DR1SKY & DRQSDIET & DRQSDT1 & DRQSDT2 & DRQSDT3 & DRQSDT4 & DRQSDT5 & DRQSDT6 & DRQSDT7 & DRQSDT8 & DRQSDT9 & DRQSDT10 & DRQSDT11 & DRQSDT12 & DRQSDT91 & DR1TNUMF & DR1TKCAL & DR1TPROT & DR1TCARB & DR1TSUGR & DR1TFIBE & ... & DRD370D & DRD370DQ & DRD370E & DRD370EQ & DRD370F & DRD370FQ & DRD370G & DRD370GQ & DRD370H & DRD370HQ & DRD370I & DRD370IQ & DRD370J & DRD370JQ & DRD370K & DRD370KQ & DRD370L & DRD370LQ & DRD370M & DRD370MQ & DRD370N & DRD370NQ & DRD370O & DRD370OQ & DRD370P & DRD370PQ & DRD370Q & DRD370QQ & DRD370R & DRD370RQ & DRD370S & DRD370SQ & DRD370T & DRD370TQ & DRD370U & DRD370UQ & DRD370V\\\\\n",
       "\\hline\n",
       "\t 73557     &  16888.33 &  12930.89 & 1         & 49        & 2         & 2         &  6        & 2         & 1         & 1         & 13        & 3         &  2        & 4         & 2         & NA        & 2         & NA        & NA        & NA        & NA        & NA        & NA        & NA        & NA        & NA        & NA        & NA        & NA        & NA        & 11        & 1574      &  43.63    & 239.59    & 176.47    & 10.8      & ...       & NA        & NA        & NA        & NA        & NA        & NA        & NA        & NA        & NA        & NA        & NA        & NA        & NA        & NA        & NA        & NA        & NA        & NA        & NA        & NA        & NA        & NA        & NA        & NA        & NA        & NA        & NA        & NA        & NA        & NA        & NA        & NA        & NA        & NA        & NA        & NA        & NA       \\\\\n",
       "\t 73558     &  17932.14 &  12684.15 & 1         & 59        & 2         & 2         &  4        & 1         & 1         & 1         & 13        & 1         &  2        & 3         & 1         &  1        & 2         & NA        & NA        & NA        & NA        & NA        & NA        & NA        & NA        & NA        & NA        & NA        & NA        & NA        &  8        & 5062      & 338.13    & 423.78    &  44.99    & 16.7      & ...       &  2        & NA        &  2        & NA        &  2        & NA        &  2        & NA        &  2        & NA        &  2        & NA        &  2        & NA        &  1        &  1        &  2        & NA        &  2        & NA        &  2        & NA        &  2        & NA        &  2        & NA        &  2        & NA        &  2        & NA        &  2        & NA        &  2        & NA        &  2        & NA        &  2       \\\\\n",
       "\t 73559     &  59641.81 &  39394.24 & 1         & 49        & 2         & 2         & 18        & 6         & 1         & 1         & 13        & 1         &  1        & 2         & 2         & NA        & 1         & NA        & NA        & NA        & NA        & NA        & NA        &  7        & NA        & NA        & NA        & NA        & NA        & NA        & 27        & 1743      &  64.61    & 224.39    & 102.90    &  9.9      & ...       & NA        & NA        & NA        & NA        & NA        & NA        & NA        & NA        & NA        & NA        & NA        & NA        & NA        & NA        & NA        & NA        & NA        & NA        & NA        & NA        & NA        & NA        & NA        & NA        & NA        & NA        & NA        & NA        & NA        & NA        & NA        & NA        & NA        & NA        & NA        & NA        & NA       \\\\\n",
       "\t 73560     & 142203.07 & 125966.37 & 1         & 54        & 2         & 2         & 21        & 3         & 1         & 1         & 12        & 1         &  1        & 3         & 2         & NA        & 2         & NA        & NA        & NA        & NA        & NA        & NA        & NA        & NA        & NA        & NA        & NA        & NA        & NA        & 19        & 1490      &  77.75    & 162.92    &  80.58    & 10.6      & ...       & NA        & NA        & NA        & NA        & NA        & NA        & NA        & NA        & NA        & NA        & NA        & NA        & NA        & NA        & NA        & NA        & NA        & NA        & NA        & NA        & NA        & NA        & NA        & NA        & NA        & NA        & NA        & NA        & NA        & NA        & NA        & NA        & NA        & NA        & NA        & NA        & NA       \\\\\n",
       "\t 73561     &  59052.36 &  39004.89 & 1         & 63        & 2         & 2         & 18        & 1         & 1         & 1         & 13        & 4         & NA        & 4         & 2         & NA        & 1         & NA        & NA        & NA        & NA        & NA        & NA        & NA        & NA        & NA        & NA        & NA        & NA        & 91        &  7        & 1421      &  55.24    & 178.20    &  87.78    & 12.3      & ...       &  2        & NA        &  2        & NA        &  2        & NA        &  2        & NA        &  2        & NA        &  2        & NA        &  2        & NA        &  2        & NA        &  2        & NA        &  2        & NA        &  2        & NA        &  2        & NA        &  2        & NA        &  2        & NA        &  2        & NA        &  2        & NA        &  2        & NA        &  2        & NA        &  2       \\\\\n",
       "\t 73562     &  49890.83 &      0.00 & 1         & 49        & 2         & 1         & 11        & 3         & 1         & 1         & 13        & 1         &  3        & 3         & 1         &  1        & 2         & NA        & NA        & NA        & NA        & NA        & NA        & NA        & NA        & NA        & NA        & NA        & NA        & NA        & 17        & 1785      &  55.11    & 189.59    &  81.75    & 22.6      & ...       &  2        & NA        &  1        &  1        &  2        & NA        &  2        & NA        &  2        & NA        &  2        & NA        &  2        & NA        &  2        & NA        &  2        & NA        &  2        & NA        &  2        & NA        &  2        & NA        &  2        & NA        &  2        & NA        &  2        & NA        &  2        & NA        &  2        & NA        &  2        & NA        &  2       \\\\\n",
       "\\end{tabular}\n"
      ],
      "text/markdown": [
       "\n",
       "| SEQN | WTDRD1 | WTDR2D | DR1DRSTZ | DR1EXMER | DRABF | DRDINT | DR1DBIH | DR1DAY | DR1LANG | DR1MNRSP | DR1HELPD | DBQ095Z | DBD100 | DRQSPREP | DR1STY | DR1SKY | DRQSDIET | DRQSDT1 | DRQSDT2 | DRQSDT3 | DRQSDT4 | DRQSDT5 | DRQSDT6 | DRQSDT7 | DRQSDT8 | DRQSDT9 | DRQSDT10 | DRQSDT11 | DRQSDT12 | DRQSDT91 | DR1TNUMF | DR1TKCAL | DR1TPROT | DR1TCARB | DR1TSUGR | DR1TFIBE | ... | DRD370D | DRD370DQ | DRD370E | DRD370EQ | DRD370F | DRD370FQ | DRD370G | DRD370GQ | DRD370H | DRD370HQ | DRD370I | DRD370IQ | DRD370J | DRD370JQ | DRD370K | DRD370KQ | DRD370L | DRD370LQ | DRD370M | DRD370MQ | DRD370N | DRD370NQ | DRD370O | DRD370OQ | DRD370P | DRD370PQ | DRD370Q | DRD370QQ | DRD370R | DRD370RQ | DRD370S | DRD370SQ | DRD370T | DRD370TQ | DRD370U | DRD370UQ | DRD370V |\n",
       "|---|---|---|---|---|---|---|---|---|---|---|---|---|---|---|---|---|---|---|---|---|---|---|---|---|---|---|---|---|---|---|---|---|---|---|---|---|---|---|---|---|---|---|---|---|---|---|---|---|---|---|---|---|---|---|---|---|---|---|---|---|---|---|---|---|---|---|---|---|---|---|---|---|---|---|\n",
       "| 73557     |  16888.33 |  12930.89 | 1         | 49        | 2         | 2         |  6        | 2         | 1         | 1         | 13        | 3         |  2        | 4         | 2         | NA        | 2         | NA        | NA        | NA        | NA        | NA        | NA        | NA        | NA        | NA        | NA        | NA        | NA        | NA        | 11        | 1574      |  43.63    | 239.59    | 176.47    | 10.8      | ...       | NA        | NA        | NA        | NA        | NA        | NA        | NA        | NA        | NA        | NA        | NA        | NA        | NA        | NA        | NA        | NA        | NA        | NA        | NA        | NA        | NA        | NA        | NA        | NA        | NA        | NA        | NA        | NA        | NA        | NA        | NA        | NA        | NA        | NA        | NA        | NA        | NA        |\n",
       "| 73558     |  17932.14 |  12684.15 | 1         | 59        | 2         | 2         |  4        | 1         | 1         | 1         | 13        | 1         |  2        | 3         | 1         |  1        | 2         | NA        | NA        | NA        | NA        | NA        | NA        | NA        | NA        | NA        | NA        | NA        | NA        | NA        |  8        | 5062      | 338.13    | 423.78    |  44.99    | 16.7      | ...       |  2        | NA        |  2        | NA        |  2        | NA        |  2        | NA        |  2        | NA        |  2        | NA        |  2        | NA        |  1        |  1        |  2        | NA        |  2        | NA        |  2        | NA        |  2        | NA        |  2        | NA        |  2        | NA        |  2        | NA        |  2        | NA        |  2        | NA        |  2        | NA        |  2        |\n",
       "| 73559     |  59641.81 |  39394.24 | 1         | 49        | 2         | 2         | 18        | 6         | 1         | 1         | 13        | 1         |  1        | 2         | 2         | NA        | 1         | NA        | NA        | NA        | NA        | NA        | NA        |  7        | NA        | NA        | NA        | NA        | NA        | NA        | 27        | 1743      |  64.61    | 224.39    | 102.90    |  9.9      | ...       | NA        | NA        | NA        | NA        | NA        | NA        | NA        | NA        | NA        | NA        | NA        | NA        | NA        | NA        | NA        | NA        | NA        | NA        | NA        | NA        | NA        | NA        | NA        | NA        | NA        | NA        | NA        | NA        | NA        | NA        | NA        | NA        | NA        | NA        | NA        | NA        | NA        |\n",
       "| 73560     | 142203.07 | 125966.37 | 1         | 54        | 2         | 2         | 21        | 3         | 1         | 1         | 12        | 1         |  1        | 3         | 2         | NA        | 2         | NA        | NA        | NA        | NA        | NA        | NA        | NA        | NA        | NA        | NA        | NA        | NA        | NA        | 19        | 1490      |  77.75    | 162.92    |  80.58    | 10.6      | ...       | NA        | NA        | NA        | NA        | NA        | NA        | NA        | NA        | NA        | NA        | NA        | NA        | NA        | NA        | NA        | NA        | NA        | NA        | NA        | NA        | NA        | NA        | NA        | NA        | NA        | NA        | NA        | NA        | NA        | NA        | NA        | NA        | NA        | NA        | NA        | NA        | NA        |\n",
       "| 73561     |  59052.36 |  39004.89 | 1         | 63        | 2         | 2         | 18        | 1         | 1         | 1         | 13        | 4         | NA        | 4         | 2         | NA        | 1         | NA        | NA        | NA        | NA        | NA        | NA        | NA        | NA        | NA        | NA        | NA        | NA        | 91        |  7        | 1421      |  55.24    | 178.20    |  87.78    | 12.3      | ...       |  2        | NA        |  2        | NA        |  2        | NA        |  2        | NA        |  2        | NA        |  2        | NA        |  2        | NA        |  2        | NA        |  2        | NA        |  2        | NA        |  2        | NA        |  2        | NA        |  2        | NA        |  2        | NA        |  2        | NA        |  2        | NA        |  2        | NA        |  2        | NA        |  2        |\n",
       "| 73562     |  49890.83 |      0.00 | 1         | 49        | 2         | 1         | 11        | 3         | 1         | 1         | 13        | 1         |  3        | 3         | 1         |  1        | 2         | NA        | NA        | NA        | NA        | NA        | NA        | NA        | NA        | NA        | NA        | NA        | NA        | NA        | 17        | 1785      |  55.11    | 189.59    |  81.75    | 22.6      | ...       |  2        | NA        |  1        |  1        |  2        | NA        |  2        | NA        |  2        | NA        |  2        | NA        |  2        | NA        |  2        | NA        |  2        | NA        |  2        | NA        |  2        | NA        |  2        | NA        |  2        | NA        |  2        | NA        |  2        | NA        |  2        | NA        |  2        | NA        |  2        | NA        |  2        |\n",
       "\n"
      ],
      "text/plain": [
       "  SEQN  WTDRD1    WTDR2D    DR1DRSTZ DR1EXMER DRABF DRDINT DR1DBIH DR1DAY\n",
       "1 73557  16888.33  12930.89 1        49       2     2       6      2     \n",
       "2 73558  17932.14  12684.15 1        59       2     2       4      1     \n",
       "3 73559  59641.81  39394.24 1        49       2     2      18      6     \n",
       "4 73560 142203.07 125966.37 1        54       2     2      21      3     \n",
       "5 73561  59052.36  39004.89 1        63       2     2      18      1     \n",
       "6 73562  49890.83      0.00 1        49       2     1      11      3     \n",
       "  DR1LANG DR1MNRSP DR1HELPD DBQ095Z DBD100 DRQSPREP DR1STY DR1SKY DRQSDIET\n",
       "1 1       1        13       3        2     4        2      NA     2       \n",
       "2 1       1        13       1        2     3        1       1     2       \n",
       "3 1       1        13       1        1     2        2      NA     1       \n",
       "4 1       1        12       1        1     3        2      NA     2       \n",
       "5 1       1        13       4       NA     4        2      NA     1       \n",
       "6 1       1        13       1        3     3        1       1     2       \n",
       "  DRQSDT1 DRQSDT2 DRQSDT3 DRQSDT4 DRQSDT5 DRQSDT6 DRQSDT7 DRQSDT8 DRQSDT9\n",
       "1 NA      NA      NA      NA      NA      NA      NA      NA      NA     \n",
       "2 NA      NA      NA      NA      NA      NA      NA      NA      NA     \n",
       "3 NA      NA      NA      NA      NA      NA       7      NA      NA     \n",
       "4 NA      NA      NA      NA      NA      NA      NA      NA      NA     \n",
       "5 NA      NA      NA      NA      NA      NA      NA      NA      NA     \n",
       "6 NA      NA      NA      NA      NA      NA      NA      NA      NA     \n",
       "  DRQSDT10 DRQSDT11 DRQSDT12 DRQSDT91 DR1TNUMF DR1TKCAL DR1TPROT DR1TCARB\n",
       "1 NA       NA       NA       NA       11       1574      43.63   239.59  \n",
       "2 NA       NA       NA       NA        8       5062     338.13   423.78  \n",
       "3 NA       NA       NA       NA       27       1743      64.61   224.39  \n",
       "4 NA       NA       NA       NA       19       1490      77.75   162.92  \n",
       "5 NA       NA       NA       91        7       1421      55.24   178.20  \n",
       "6 NA       NA       NA       NA       17       1785      55.11   189.59  \n",
       "  DR1TSUGR DR1TFIBE ... DRD370D DRD370DQ DRD370E DRD370EQ DRD370F DRD370FQ\n",
       "1 176.47   10.8     ... NA      NA       NA      NA       NA      NA      \n",
       "2  44.99   16.7     ...  2      NA        2      NA        2      NA      \n",
       "3 102.90    9.9     ... NA      NA       NA      NA       NA      NA      \n",
       "4  80.58   10.6     ... NA      NA       NA      NA       NA      NA      \n",
       "5  87.78   12.3     ...  2      NA        2      NA        2      NA      \n",
       "6  81.75   22.6     ...  2      NA        1       1        2      NA      \n",
       "  DRD370G DRD370GQ DRD370H DRD370HQ DRD370I DRD370IQ DRD370J DRD370JQ DRD370K\n",
       "1 NA      NA       NA      NA       NA      NA       NA      NA       NA     \n",
       "2  2      NA        2      NA        2      NA        2      NA        1     \n",
       "3 NA      NA       NA      NA       NA      NA       NA      NA       NA     \n",
       "4 NA      NA       NA      NA       NA      NA       NA      NA       NA     \n",
       "5  2      NA        2      NA        2      NA        2      NA        2     \n",
       "6  2      NA        2      NA        2      NA        2      NA        2     \n",
       "  DRD370KQ DRD370L DRD370LQ DRD370M DRD370MQ DRD370N DRD370NQ DRD370O DRD370OQ\n",
       "1 NA       NA      NA       NA      NA       NA      NA       NA      NA      \n",
       "2  1        2      NA        2      NA        2      NA        2      NA      \n",
       "3 NA       NA      NA       NA      NA       NA      NA       NA      NA      \n",
       "4 NA       NA      NA       NA      NA       NA      NA       NA      NA      \n",
       "5 NA        2      NA        2      NA        2      NA        2      NA      \n",
       "6 NA        2      NA        2      NA        2      NA        2      NA      \n",
       "  DRD370P DRD370PQ DRD370Q DRD370QQ DRD370R DRD370RQ DRD370S DRD370SQ DRD370T\n",
       "1 NA      NA       NA      NA       NA      NA       NA      NA       NA     \n",
       "2  2      NA        2      NA        2      NA        2      NA        2     \n",
       "3 NA      NA       NA      NA       NA      NA       NA      NA       NA     \n",
       "4 NA      NA       NA      NA       NA      NA       NA      NA       NA     \n",
       "5  2      NA        2      NA        2      NA        2      NA        2     \n",
       "6  2      NA        2      NA        2      NA        2      NA        2     \n",
       "  DRD370TQ DRD370U DRD370UQ DRD370V\n",
       "1 NA       NA      NA       NA     \n",
       "2 NA        2      NA        2     \n",
       "3 NA       NA      NA       NA     \n",
       "4 NA       NA      NA       NA     \n",
       "5 NA        2      NA        2     \n",
       "6 NA        2      NA        2     "
      ]
     },
     "metadata": {},
     "output_type": "display_data"
    }
   ],
   "source": [
    "data = read.csv(\"diet.csv\")\n",
    "size(data)\n",
    "head(data)"
   ]
  },
  {
   "cell_type": "markdown",
   "metadata": {},
   "source": [
    "Set aside observation identifiers, remove variables with all missing data, impute missing data by column means, remove non-varying variables."
   ]
  },
  {
   "cell_type": "code",
   "execution_count": 4,
   "metadata": {
    "hide_input": true
   },
   "outputs": [
    {
     "data": {
      "text/html": [
       "<table>\n",
       "<thead><tr><th scope=col>WTDRD1</th><th scope=col>WTDR2D</th><th scope=col>DR1DRSTZ</th><th scope=col>DR1EXMER</th><th scope=col>DRABF</th><th scope=col>DRDINT</th><th scope=col>DR1DBIH</th><th scope=col>DR1DAY</th><th scope=col>DR1LANG</th><th scope=col>DR1MNRSP</th><th scope=col>DR1HELPD</th><th scope=col>DBQ095Z</th><th scope=col>DBD100</th><th scope=col>DRQSPREP</th><th scope=col>DR1STY</th><th scope=col>DR1SKY</th><th scope=col>DRQSDIET</th><th scope=col>DR1TNUMF</th><th scope=col>DR1TKCAL</th><th scope=col>DR1TPROT</th><th scope=col>DR1TCARB</th><th scope=col>DR1TSUGR</th><th scope=col>DR1TFIBE</th><th scope=col>DR1TTFAT</th><th scope=col>DR1TSFAT</th><th scope=col>DR1TMFAT</th><th scope=col>DR1TPFAT</th><th scope=col>DR1TCHOL</th><th scope=col>DR1TATOC</th><th scope=col>DR1TATOA</th><th scope=col>DR1TRET</th><th scope=col>DR1TVARA</th><th scope=col>DR1TACAR</th><th scope=col>DR1TBCAR</th><th scope=col>DR1TCRYP</th><th scope=col>DR1TLYCO</th><th scope=col>DR1TLZ</th><th scope=col>...</th><th scope=col>DRD370CQ</th><th scope=col>DRD370D</th><th scope=col>DRD370DQ</th><th scope=col>DRD370E</th><th scope=col>DRD370EQ</th><th scope=col>DRD370F</th><th scope=col>DRD370FQ</th><th scope=col>DRD370G</th><th scope=col>DRD370GQ</th><th scope=col>DRD370H</th><th scope=col>DRD370HQ</th><th scope=col>DRD370I</th><th scope=col>DRD370IQ</th><th scope=col>DRD370J</th><th scope=col>DRD370JQ</th><th scope=col>DRD370K</th><th scope=col>DRD370KQ</th><th scope=col>DRD370L</th><th scope=col>DRD370LQ</th><th scope=col>DRD370M</th><th scope=col>DRD370MQ</th><th scope=col>DRD370N</th><th scope=col>DRD370NQ</th><th scope=col>DRD370O</th><th scope=col>DRD370OQ</th><th scope=col>DRD370P</th><th scope=col>DRD370PQ</th><th scope=col>DRD370Q</th><th scope=col>DRD370QQ</th><th scope=col>DRD370R</th><th scope=col>DRD370RQ</th><th scope=col>DRD370S</th><th scope=col>DRD370SQ</th><th scope=col>DRD370T</th><th scope=col>DRD370TQ</th><th scope=col>DRD370U</th><th scope=col>DRD370UQ</th></tr></thead>\n",
       "<tbody>\n",
       "\t<tr><td> 16888.33</td><td> 12930.89</td><td>1        </td><td>49       </td><td>2        </td><td>2        </td><td> 6       </td><td>2        </td><td>1        </td><td>1        </td><td>13       </td><td>3        </td><td>2.000000 </td><td>4        </td><td>2        </td><td>2.180249 </td><td>2        </td><td>11       </td><td>1574     </td><td> 43.63   </td><td>239.59   </td><td>176.47   </td><td>10.8     </td><td> 52.81   </td><td>17.819   </td><td>18.493   </td><td> 8.829   </td><td> 209     </td><td> 3.92    </td><td>0        </td><td>  70     </td><td> 110     </td><td> 60      </td><td> 304     </td><td>278      </td><td>1398     </td><td> 430     </td><td>...      </td><td>2.110169 </td><td>1.838508 </td><td>2.042322 </td><td>1.890842 </td><td>1.881932 </td><td>1.949814 </td><td>2.373541 </td><td>1.962507 </td><td>1.84375  </td><td>1.981254 </td><td>2.1875   </td><td>1.97891  </td><td>1.685185 </td><td>1.997657 </td><td>1.666667 </td><td>1.971295 </td><td>2.020408 </td><td>1.993165 </td><td>2.028571 </td><td>1.653583 </td><td>2.476325 </td><td>1.958016 </td><td>2.237209 </td><td>1.983011 </td><td>1.666667 </td><td>1.998047 </td><td>1.5      </td><td>1.988088 </td><td>1.557377 </td><td>1.966608 </td><td>1.766082 </td><td>1.994728 </td><td>2.481481 </td><td>1.742628 </td><td>2.622155 </td><td>1.938098 </td><td>2.400631 </td></tr>\n",
       "\t<tr><td> 17932.14</td><td> 12684.15</td><td>1        </td><td>59       </td><td>2        </td><td>2        </td><td> 4       </td><td>1        </td><td>1        </td><td>1        </td><td>13       </td><td>1        </td><td>2.000000 </td><td>3        </td><td>1        </td><td>1.000000 </td><td>2        </td><td> 8       </td><td>5062     </td><td>338.13   </td><td>423.78   </td><td> 44.99   </td><td>16.7     </td><td>124.29   </td><td>53.408   </td><td>35.481   </td><td>20.505   </td><td>2584     </td><td>20.94    </td><td>0        </td><td>1477     </td><td>1488     </td><td>  0      </td><td> 145     </td><td> 12      </td><td>   0     </td><td> 899     </td><td>...      </td><td>2.110169 </td><td>2.000000 </td><td>2.042322 </td><td>2.000000 </td><td>1.881932 </td><td>2.000000 </td><td>2.373541 </td><td>2.000000 </td><td>1.84375  </td><td>2.000000 </td><td>2.1875   </td><td>2.00000  </td><td>1.685185 </td><td>2.000000 </td><td>1.666667 </td><td>1.000000 </td><td>1.000000 </td><td>2.000000 </td><td>2.028571 </td><td>2.000000 </td><td>2.476325 </td><td>2.000000 </td><td>2.237209 </td><td>2.000000 </td><td>1.666667 </td><td>2.000000 </td><td>1.5      </td><td>2.000000 </td><td>1.557377 </td><td>2.000000 </td><td>1.766082 </td><td>2.000000 </td><td>2.481481 </td><td>2.000000 </td><td>2.622155 </td><td>2.000000 </td><td>2.400631 </td></tr>\n",
       "\t<tr><td> 59641.81</td><td> 39394.24</td><td>1        </td><td>49       </td><td>2        </td><td>2        </td><td>18       </td><td>6        </td><td>1        </td><td>1        </td><td>13       </td><td>1        </td><td>1.000000 </td><td>2        </td><td>2        </td><td>2.180249 </td><td>1        </td><td>27       </td><td>1743     </td><td> 64.61   </td><td>224.39   </td><td>102.90   </td><td> 9.9     </td><td> 65.97   </td><td>25.263   </td><td>20.902   </td><td>12.953   </td><td>  88     </td><td> 8.87    </td><td>0        </td><td> 616     </td><td> 655     </td><td> 21      </td><td> 449     </td><td> 35      </td><td> 515     </td><td> 300     </td><td>...      </td><td>2.110169 </td><td>1.838508 </td><td>2.042322 </td><td>1.890842 </td><td>1.881932 </td><td>1.949814 </td><td>2.373541 </td><td>1.962507 </td><td>1.84375  </td><td>1.981254 </td><td>2.1875   </td><td>1.97891  </td><td>1.685185 </td><td>1.997657 </td><td>1.666667 </td><td>1.971295 </td><td>2.020408 </td><td>1.993165 </td><td>2.028571 </td><td>1.653583 </td><td>2.476325 </td><td>1.958016 </td><td>2.237209 </td><td>1.983011 </td><td>1.666667 </td><td>1.998047 </td><td>1.5      </td><td>1.988088 </td><td>1.557377 </td><td>1.966608 </td><td>1.766082 </td><td>1.994728 </td><td>2.481481 </td><td>1.742628 </td><td>2.622155 </td><td>1.938098 </td><td>2.400631 </td></tr>\n",
       "\t<tr><td>142203.07</td><td>125966.37</td><td>1        </td><td>54       </td><td>2        </td><td>2        </td><td>21       </td><td>3        </td><td>1        </td><td>1        </td><td>12       </td><td>1        </td><td>1.000000 </td><td>3        </td><td>2        </td><td>2.180249 </td><td>2        </td><td>19       </td><td>1490     </td><td> 77.75   </td><td>162.92   </td><td> 80.58   </td><td>10.6     </td><td> 58.27   </td><td>23.511   </td><td>16.986   </td><td> 9.617   </td><td> 187     </td><td> 2.16    </td><td>0        </td><td> 515     </td><td> 545     </td><td> 20      </td><td> 237     </td><td>223      </td><td>   0     </td><td> 583     </td><td>...      </td><td>2.110169 </td><td>1.838508 </td><td>2.042322 </td><td>1.890842 </td><td>1.881932 </td><td>1.949814 </td><td>2.373541 </td><td>1.962507 </td><td>1.84375  </td><td>1.981254 </td><td>2.1875   </td><td>1.97891  </td><td>1.685185 </td><td>1.997657 </td><td>1.666667 </td><td>1.971295 </td><td>2.020408 </td><td>1.993165 </td><td>2.028571 </td><td>1.653583 </td><td>2.476325 </td><td>1.958016 </td><td>2.237209 </td><td>1.983011 </td><td>1.666667 </td><td>1.998047 </td><td>1.5      </td><td>1.988088 </td><td>1.557377 </td><td>1.966608 </td><td>1.766082 </td><td>1.994728 </td><td>2.481481 </td><td>1.742628 </td><td>2.622155 </td><td>1.938098 </td><td>2.400631 </td></tr>\n",
       "\t<tr><td> 59052.36</td><td> 39004.89</td><td>1        </td><td>63       </td><td>2        </td><td>2        </td><td>18       </td><td>1        </td><td>1        </td><td>1        </td><td>13       </td><td>4        </td><td>1.652899 </td><td>4        </td><td>2        </td><td>2.180249 </td><td>1        </td><td> 7       </td><td>1421     </td><td> 55.24   </td><td>178.20   </td><td> 87.78   </td><td>12.3     </td><td> 55.36   </td><td> 4.479   </td><td>26.216   </td><td> 1.263   </td><td>  41     </td><td>53.17    </td><td>0        </td><td> 738     </td><td> 863     </td><td>  0      </td><td>1476     </td><td>  0      </td><td>   0     </td><td>   0     </td><td>...      </td><td>2.110169 </td><td>2.000000 </td><td>2.042322 </td><td>2.000000 </td><td>1.881932 </td><td>2.000000 </td><td>2.373541 </td><td>2.000000 </td><td>1.84375  </td><td>2.000000 </td><td>2.1875   </td><td>2.00000  </td><td>1.685185 </td><td>2.000000 </td><td>1.666667 </td><td>2.000000 </td><td>2.020408 </td><td>2.000000 </td><td>2.028571 </td><td>2.000000 </td><td>2.476325 </td><td>2.000000 </td><td>2.237209 </td><td>2.000000 </td><td>1.666667 </td><td>2.000000 </td><td>1.5      </td><td>2.000000 </td><td>1.557377 </td><td>2.000000 </td><td>1.766082 </td><td>2.000000 </td><td>2.481481 </td><td>2.000000 </td><td>2.622155 </td><td>2.000000 </td><td>2.400631 </td></tr>\n",
       "\t<tr><td> 49890.83</td><td>     0.00</td><td>1        </td><td>49       </td><td>2        </td><td>1        </td><td>11       </td><td>3        </td><td>1        </td><td>1        </td><td>13       </td><td>1        </td><td>3.000000 </td><td>3        </td><td>1        </td><td>1.000000 </td><td>2        </td><td>17       </td><td>1785     </td><td> 55.11   </td><td>189.59   </td><td> 81.75   </td><td>22.6     </td><td> 93.92   </td><td>22.155   </td><td>40.013   </td><td>23.550   </td><td> 534     </td><td>12.30    </td><td>0        </td><td> 272     </td><td> 355     </td><td>172      </td><td> 776     </td><td>300      </td><td>2339     </td><td>2101     </td><td>...      </td><td>2.110169 </td><td>2.000000 </td><td>2.042322 </td><td>1.000000 </td><td>1.000000 </td><td>2.000000 </td><td>2.373541 </td><td>2.000000 </td><td>1.84375  </td><td>2.000000 </td><td>2.1875   </td><td>2.00000  </td><td>1.685185 </td><td>2.000000 </td><td>1.666667 </td><td>2.000000 </td><td>2.020408 </td><td>2.000000 </td><td>2.028571 </td><td>2.000000 </td><td>2.476325 </td><td>2.000000 </td><td>2.237209 </td><td>2.000000 </td><td>1.666667 </td><td>2.000000 </td><td>1.5      </td><td>2.000000 </td><td>1.557377 </td><td>2.000000 </td><td>1.766082 </td><td>2.000000 </td><td>2.481481 </td><td>2.000000 </td><td>2.622155 </td><td>2.000000 </td><td>2.400631 </td></tr>\n",
       "</tbody>\n",
       "</table>\n"
      ],
      "text/latex": [
       "\\begin{tabular}{r|llllllllllllllllllllllllllllllllllllllllllllllllllllllllllllllllllllllllllllllllllllllllllllllllllllllllllllllllllllllllllllllllllllllllllllllllllllllll}\n",
       " WTDRD1 & WTDR2D & DR1DRSTZ & DR1EXMER & DRABF & DRDINT & DR1DBIH & DR1DAY & DR1LANG & DR1MNRSP & DR1HELPD & DBQ095Z & DBD100 & DRQSPREP & DR1STY & DR1SKY & DRQSDIET & DR1TNUMF & DR1TKCAL & DR1TPROT & DR1TCARB & DR1TSUGR & DR1TFIBE & DR1TTFAT & DR1TSFAT & DR1TMFAT & DR1TPFAT & DR1TCHOL & DR1TATOC & DR1TATOA & DR1TRET & DR1TVARA & DR1TACAR & DR1TBCAR & DR1TCRYP & DR1TLYCO & DR1TLZ & ... & DRD370CQ & DRD370D & DRD370DQ & DRD370E & DRD370EQ & DRD370F & DRD370FQ & DRD370G & DRD370GQ & DRD370H & DRD370HQ & DRD370I & DRD370IQ & DRD370J & DRD370JQ & DRD370K & DRD370KQ & DRD370L & DRD370LQ & DRD370M & DRD370MQ & DRD370N & DRD370NQ & DRD370O & DRD370OQ & DRD370P & DRD370PQ & DRD370Q & DRD370QQ & DRD370R & DRD370RQ & DRD370S & DRD370SQ & DRD370T & DRD370TQ & DRD370U & DRD370UQ\\\\\n",
       "\\hline\n",
       "\t  16888.33 &  12930.89 & 1         & 49        & 2         & 2         &  6        & 2         & 1         & 1         & 13        & 3         & 2.000000  & 4         & 2         & 2.180249  & 2         & 11        & 1574      &  43.63    & 239.59    & 176.47    & 10.8      &  52.81    & 17.819    & 18.493    &  8.829    &  209      &  3.92     & 0         &   70      &  110      &  60       &  304      & 278       & 1398      &  430      & ...       & 2.110169  & 1.838508  & 2.042322  & 1.890842  & 1.881932  & 1.949814  & 2.373541  & 1.962507  & 1.84375   & 1.981254  & 2.1875    & 1.97891   & 1.685185  & 1.997657  & 1.666667  & 1.971295  & 2.020408  & 1.993165  & 2.028571  & 1.653583  & 2.476325  & 1.958016  & 2.237209  & 1.983011  & 1.666667  & 1.998047  & 1.5       & 1.988088  & 1.557377  & 1.966608  & 1.766082  & 1.994728  & 2.481481  & 1.742628  & 2.622155  & 1.938098  & 2.400631 \\\\\n",
       "\t  17932.14 &  12684.15 & 1         & 59        & 2         & 2         &  4        & 1         & 1         & 1         & 13        & 1         & 2.000000  & 3         & 1         & 1.000000  & 2         &  8        & 5062      & 338.13    & 423.78    &  44.99    & 16.7      & 124.29    & 53.408    & 35.481    & 20.505    & 2584      & 20.94     & 0         & 1477      & 1488      &   0       &  145      &  12       &    0      &  899      & ...       & 2.110169  & 2.000000  & 2.042322  & 2.000000  & 1.881932  & 2.000000  & 2.373541  & 2.000000  & 1.84375   & 2.000000  & 2.1875    & 2.00000   & 1.685185  & 2.000000  & 1.666667  & 1.000000  & 1.000000  & 2.000000  & 2.028571  & 2.000000  & 2.476325  & 2.000000  & 2.237209  & 2.000000  & 1.666667  & 2.000000  & 1.5       & 2.000000  & 1.557377  & 2.000000  & 1.766082  & 2.000000  & 2.481481  & 2.000000  & 2.622155  & 2.000000  & 2.400631 \\\\\n",
       "\t  59641.81 &  39394.24 & 1         & 49        & 2         & 2         & 18        & 6         & 1         & 1         & 13        & 1         & 1.000000  & 2         & 2         & 2.180249  & 1         & 27        & 1743      &  64.61    & 224.39    & 102.90    &  9.9      &  65.97    & 25.263    & 20.902    & 12.953    &   88      &  8.87     & 0         &  616      &  655      &  21       &  449      &  35       &  515      &  300      & ...       & 2.110169  & 1.838508  & 2.042322  & 1.890842  & 1.881932  & 1.949814  & 2.373541  & 1.962507  & 1.84375   & 1.981254  & 2.1875    & 1.97891   & 1.685185  & 1.997657  & 1.666667  & 1.971295  & 2.020408  & 1.993165  & 2.028571  & 1.653583  & 2.476325  & 1.958016  & 2.237209  & 1.983011  & 1.666667  & 1.998047  & 1.5       & 1.988088  & 1.557377  & 1.966608  & 1.766082  & 1.994728  & 2.481481  & 1.742628  & 2.622155  & 1.938098  & 2.400631 \\\\\n",
       "\t 142203.07 & 125966.37 & 1         & 54        & 2         & 2         & 21        & 3         & 1         & 1         & 12        & 1         & 1.000000  & 3         & 2         & 2.180249  & 2         & 19        & 1490      &  77.75    & 162.92    &  80.58    & 10.6      &  58.27    & 23.511    & 16.986    &  9.617    &  187      &  2.16     & 0         &  515      &  545      &  20       &  237      & 223       &    0      &  583      & ...       & 2.110169  & 1.838508  & 2.042322  & 1.890842  & 1.881932  & 1.949814  & 2.373541  & 1.962507  & 1.84375   & 1.981254  & 2.1875    & 1.97891   & 1.685185  & 1.997657  & 1.666667  & 1.971295  & 2.020408  & 1.993165  & 2.028571  & 1.653583  & 2.476325  & 1.958016  & 2.237209  & 1.983011  & 1.666667  & 1.998047  & 1.5       & 1.988088  & 1.557377  & 1.966608  & 1.766082  & 1.994728  & 2.481481  & 1.742628  & 2.622155  & 1.938098  & 2.400631 \\\\\n",
       "\t  59052.36 &  39004.89 & 1         & 63        & 2         & 2         & 18        & 1         & 1         & 1         & 13        & 4         & 1.652899  & 4         & 2         & 2.180249  & 1         &  7        & 1421      &  55.24    & 178.20    &  87.78    & 12.3      &  55.36    &  4.479    & 26.216    &  1.263    &   41      & 53.17     & 0         &  738      &  863      &   0       & 1476      &   0       &    0      &    0      & ...       & 2.110169  & 2.000000  & 2.042322  & 2.000000  & 1.881932  & 2.000000  & 2.373541  & 2.000000  & 1.84375   & 2.000000  & 2.1875    & 2.00000   & 1.685185  & 2.000000  & 1.666667  & 2.000000  & 2.020408  & 2.000000  & 2.028571  & 2.000000  & 2.476325  & 2.000000  & 2.237209  & 2.000000  & 1.666667  & 2.000000  & 1.5       & 2.000000  & 1.557377  & 2.000000  & 1.766082  & 2.000000  & 2.481481  & 2.000000  & 2.622155  & 2.000000  & 2.400631 \\\\\n",
       "\t  49890.83 &      0.00 & 1         & 49        & 2         & 1         & 11        & 3         & 1         & 1         & 13        & 1         & 3.000000  & 3         & 1         & 1.000000  & 2         & 17        & 1785      &  55.11    & 189.59    &  81.75    & 22.6      &  93.92    & 22.155    & 40.013    & 23.550    &  534      & 12.30     & 0         &  272      &  355      & 172       &  776      & 300       & 2339      & 2101      & ...       & 2.110169  & 2.000000  & 2.042322  & 1.000000  & 1.000000  & 2.000000  & 2.373541  & 2.000000  & 1.84375   & 2.000000  & 2.1875    & 2.00000   & 1.685185  & 2.000000  & 1.666667  & 2.000000  & 2.020408  & 2.000000  & 2.028571  & 2.000000  & 2.476325  & 2.000000  & 2.237209  & 2.000000  & 1.666667  & 2.000000  & 1.5       & 2.000000  & 1.557377  & 2.000000  & 1.766082  & 2.000000  & 2.481481  & 2.000000  & 2.622155  & 2.000000  & 2.400631 \\\\\n",
       "\\end{tabular}\n"
      ],
      "text/markdown": [
       "\n",
       "| WTDRD1 | WTDR2D | DR1DRSTZ | DR1EXMER | DRABF | DRDINT | DR1DBIH | DR1DAY | DR1LANG | DR1MNRSP | DR1HELPD | DBQ095Z | DBD100 | DRQSPREP | DR1STY | DR1SKY | DRQSDIET | DR1TNUMF | DR1TKCAL | DR1TPROT | DR1TCARB | DR1TSUGR | DR1TFIBE | DR1TTFAT | DR1TSFAT | DR1TMFAT | DR1TPFAT | DR1TCHOL | DR1TATOC | DR1TATOA | DR1TRET | DR1TVARA | DR1TACAR | DR1TBCAR | DR1TCRYP | DR1TLYCO | DR1TLZ | ... | DRD370CQ | DRD370D | DRD370DQ | DRD370E | DRD370EQ | DRD370F | DRD370FQ | DRD370G | DRD370GQ | DRD370H | DRD370HQ | DRD370I | DRD370IQ | DRD370J | DRD370JQ | DRD370K | DRD370KQ | DRD370L | DRD370LQ | DRD370M | DRD370MQ | DRD370N | DRD370NQ | DRD370O | DRD370OQ | DRD370P | DRD370PQ | DRD370Q | DRD370QQ | DRD370R | DRD370RQ | DRD370S | DRD370SQ | DRD370T | DRD370TQ | DRD370U | DRD370UQ |\n",
       "|---|---|---|---|---|---|---|---|---|---|---|---|---|---|---|---|---|---|---|---|---|---|---|---|---|---|---|---|---|---|---|---|---|---|---|---|---|---|---|---|---|---|---|---|---|---|---|---|---|---|---|---|---|---|---|---|---|---|---|---|---|---|---|---|---|---|---|---|---|---|---|---|---|---|---|\n",
       "|  16888.33 |  12930.89 | 1         | 49        | 2         | 2         |  6        | 2         | 1         | 1         | 13        | 3         | 2.000000  | 4         | 2         | 2.180249  | 2         | 11        | 1574      |  43.63    | 239.59    | 176.47    | 10.8      |  52.81    | 17.819    | 18.493    |  8.829    |  209      |  3.92     | 0         |   70      |  110      |  60       |  304      | 278       | 1398      |  430      | ...       | 2.110169  | 1.838508  | 2.042322  | 1.890842  | 1.881932  | 1.949814  | 2.373541  | 1.962507  | 1.84375   | 1.981254  | 2.1875    | 1.97891   | 1.685185  | 1.997657  | 1.666667  | 1.971295  | 2.020408  | 1.993165  | 2.028571  | 1.653583  | 2.476325  | 1.958016  | 2.237209  | 1.983011  | 1.666667  | 1.998047  | 1.5       | 1.988088  | 1.557377  | 1.966608  | 1.766082  | 1.994728  | 2.481481  | 1.742628  | 2.622155  | 1.938098  | 2.400631  |\n",
       "|  17932.14 |  12684.15 | 1         | 59        | 2         | 2         |  4        | 1         | 1         | 1         | 13        | 1         | 2.000000  | 3         | 1         | 1.000000  | 2         |  8        | 5062      | 338.13    | 423.78    |  44.99    | 16.7      | 124.29    | 53.408    | 35.481    | 20.505    | 2584      | 20.94     | 0         | 1477      | 1488      |   0       |  145      |  12       |    0      |  899      | ...       | 2.110169  | 2.000000  | 2.042322  | 2.000000  | 1.881932  | 2.000000  | 2.373541  | 2.000000  | 1.84375   | 2.000000  | 2.1875    | 2.00000   | 1.685185  | 2.000000  | 1.666667  | 1.000000  | 1.000000  | 2.000000  | 2.028571  | 2.000000  | 2.476325  | 2.000000  | 2.237209  | 2.000000  | 1.666667  | 2.000000  | 1.5       | 2.000000  | 1.557377  | 2.000000  | 1.766082  | 2.000000  | 2.481481  | 2.000000  | 2.622155  | 2.000000  | 2.400631  |\n",
       "|  59641.81 |  39394.24 | 1         | 49        | 2         | 2         | 18        | 6         | 1         | 1         | 13        | 1         | 1.000000  | 2         | 2         | 2.180249  | 1         | 27        | 1743      |  64.61    | 224.39    | 102.90    |  9.9      |  65.97    | 25.263    | 20.902    | 12.953    |   88      |  8.87     | 0         |  616      |  655      |  21       |  449      |  35       |  515      |  300      | ...       | 2.110169  | 1.838508  | 2.042322  | 1.890842  | 1.881932  | 1.949814  | 2.373541  | 1.962507  | 1.84375   | 1.981254  | 2.1875    | 1.97891   | 1.685185  | 1.997657  | 1.666667  | 1.971295  | 2.020408  | 1.993165  | 2.028571  | 1.653583  | 2.476325  | 1.958016  | 2.237209  | 1.983011  | 1.666667  | 1.998047  | 1.5       | 1.988088  | 1.557377  | 1.966608  | 1.766082  | 1.994728  | 2.481481  | 1.742628  | 2.622155  | 1.938098  | 2.400631  |\n",
       "| 142203.07 | 125966.37 | 1         | 54        | 2         | 2         | 21        | 3         | 1         | 1         | 12        | 1         | 1.000000  | 3         | 2         | 2.180249  | 2         | 19        | 1490      |  77.75    | 162.92    |  80.58    | 10.6      |  58.27    | 23.511    | 16.986    |  9.617    |  187      |  2.16     | 0         |  515      |  545      |  20       |  237      | 223       |    0      |  583      | ...       | 2.110169  | 1.838508  | 2.042322  | 1.890842  | 1.881932  | 1.949814  | 2.373541  | 1.962507  | 1.84375   | 1.981254  | 2.1875    | 1.97891   | 1.685185  | 1.997657  | 1.666667  | 1.971295  | 2.020408  | 1.993165  | 2.028571  | 1.653583  | 2.476325  | 1.958016  | 2.237209  | 1.983011  | 1.666667  | 1.998047  | 1.5       | 1.988088  | 1.557377  | 1.966608  | 1.766082  | 1.994728  | 2.481481  | 1.742628  | 2.622155  | 1.938098  | 2.400631  |\n",
       "|  59052.36 |  39004.89 | 1         | 63        | 2         | 2         | 18        | 1         | 1         | 1         | 13        | 4         | 1.652899  | 4         | 2         | 2.180249  | 1         |  7        | 1421      |  55.24    | 178.20    |  87.78    | 12.3      |  55.36    |  4.479    | 26.216    |  1.263    |   41      | 53.17     | 0         |  738      |  863      |   0       | 1476      |   0       |    0      |    0      | ...       | 2.110169  | 2.000000  | 2.042322  | 2.000000  | 1.881932  | 2.000000  | 2.373541  | 2.000000  | 1.84375   | 2.000000  | 2.1875    | 2.00000   | 1.685185  | 2.000000  | 1.666667  | 2.000000  | 2.020408  | 2.000000  | 2.028571  | 2.000000  | 2.476325  | 2.000000  | 2.237209  | 2.000000  | 1.666667  | 2.000000  | 1.5       | 2.000000  | 1.557377  | 2.000000  | 1.766082  | 2.000000  | 2.481481  | 2.000000  | 2.622155  | 2.000000  | 2.400631  |\n",
       "|  49890.83 |      0.00 | 1         | 49        | 2         | 1         | 11        | 3         | 1         | 1         | 13        | 1         | 3.000000  | 3         | 1         | 1.000000  | 2         | 17        | 1785      |  55.11    | 189.59    |  81.75    | 22.6      |  93.92    | 22.155    | 40.013    | 23.550    |  534      | 12.30     | 0         |  272      |  355      | 172       |  776      | 300       | 2339      | 2101      | ...       | 2.110169  | 2.000000  | 2.042322  | 1.000000  | 1.000000  | 2.000000  | 2.373541  | 2.000000  | 1.84375   | 2.000000  | 2.1875    | 2.00000   | 1.685185  | 2.000000  | 1.666667  | 2.000000  | 2.020408  | 2.000000  | 2.028571  | 2.000000  | 2.476325  | 2.000000  | 2.237209  | 2.000000  | 1.666667  | 2.000000  | 1.5       | 2.000000  | 1.557377  | 2.000000  | 1.766082  | 2.000000  | 2.481481  | 2.000000  | 2.622155  | 2.000000  | 2.400631  |\n",
       "\n"
      ],
      "text/plain": [
       "  WTDRD1    WTDR2D    DR1DRSTZ DR1EXMER DRABF DRDINT DR1DBIH DR1DAY DR1LANG\n",
       "1  16888.33  12930.89 1        49       2     2       6      2      1      \n",
       "2  17932.14  12684.15 1        59       2     2       4      1      1      \n",
       "3  59641.81  39394.24 1        49       2     2      18      6      1      \n",
       "4 142203.07 125966.37 1        54       2     2      21      3      1      \n",
       "5  59052.36  39004.89 1        63       2     2      18      1      1      \n",
       "6  49890.83      0.00 1        49       2     1      11      3      1      \n",
       "  DR1MNRSP DR1HELPD DBQ095Z DBD100   DRQSPREP DR1STY DR1SKY   DRQSDIET DR1TNUMF\n",
       "1 1        13       3       2.000000 4        2      2.180249 2        11      \n",
       "2 1        13       1       2.000000 3        1      1.000000 2         8      \n",
       "3 1        13       1       1.000000 2        2      2.180249 1        27      \n",
       "4 1        12       1       1.000000 3        2      2.180249 2        19      \n",
       "5 1        13       4       1.652899 4        2      2.180249 1         7      \n",
       "6 1        13       1       3.000000 3        1      1.000000 2        17      \n",
       "  DR1TKCAL DR1TPROT DR1TCARB DR1TSUGR DR1TFIBE DR1TTFAT DR1TSFAT DR1TMFAT\n",
       "1 1574      43.63   239.59   176.47   10.8      52.81   17.819   18.493  \n",
       "2 5062     338.13   423.78    44.99   16.7     124.29   53.408   35.481  \n",
       "3 1743      64.61   224.39   102.90    9.9      65.97   25.263   20.902  \n",
       "4 1490      77.75   162.92    80.58   10.6      58.27   23.511   16.986  \n",
       "5 1421      55.24   178.20    87.78   12.3      55.36    4.479   26.216  \n",
       "6 1785      55.11   189.59    81.75   22.6      93.92   22.155   40.013  \n",
       "  DR1TPFAT DR1TCHOL DR1TATOC DR1TATOA DR1TRET DR1TVARA DR1TACAR DR1TBCAR\n",
       "1  8.829    209      3.92    0          70     110      60       304    \n",
       "2 20.505   2584     20.94    0        1477    1488       0       145    \n",
       "3 12.953     88      8.87    0         616     655      21       449    \n",
       "4  9.617    187      2.16    0         515     545      20       237    \n",
       "5  1.263     41     53.17    0         738     863       0      1476    \n",
       "6 23.550    534     12.30    0         272     355     172       776    \n",
       "  DR1TCRYP DR1TLYCO DR1TLZ ... DRD370CQ DRD370D  DRD370DQ DRD370E  DRD370EQ\n",
       "1 278      1398      430   ... 2.110169 1.838508 2.042322 1.890842 1.881932\n",
       "2  12         0      899   ... 2.110169 2.000000 2.042322 2.000000 1.881932\n",
       "3  35       515      300   ... 2.110169 1.838508 2.042322 1.890842 1.881932\n",
       "4 223         0      583   ... 2.110169 1.838508 2.042322 1.890842 1.881932\n",
       "5   0         0        0   ... 2.110169 2.000000 2.042322 2.000000 1.881932\n",
       "6 300      2339     2101   ... 2.110169 2.000000 2.042322 1.000000 1.000000\n",
       "  DRD370F  DRD370FQ DRD370G  DRD370GQ DRD370H  DRD370HQ DRD370I DRD370IQ\n",
       "1 1.949814 2.373541 1.962507 1.84375  1.981254 2.1875   1.97891 1.685185\n",
       "2 2.000000 2.373541 2.000000 1.84375  2.000000 2.1875   2.00000 1.685185\n",
       "3 1.949814 2.373541 1.962507 1.84375  1.981254 2.1875   1.97891 1.685185\n",
       "4 1.949814 2.373541 1.962507 1.84375  1.981254 2.1875   1.97891 1.685185\n",
       "5 2.000000 2.373541 2.000000 1.84375  2.000000 2.1875   2.00000 1.685185\n",
       "6 2.000000 2.373541 2.000000 1.84375  2.000000 2.1875   2.00000 1.685185\n",
       "  DRD370J  DRD370JQ DRD370K  DRD370KQ DRD370L  DRD370LQ DRD370M  DRD370MQ\n",
       "1 1.997657 1.666667 1.971295 2.020408 1.993165 2.028571 1.653583 2.476325\n",
       "2 2.000000 1.666667 1.000000 1.000000 2.000000 2.028571 2.000000 2.476325\n",
       "3 1.997657 1.666667 1.971295 2.020408 1.993165 2.028571 1.653583 2.476325\n",
       "4 1.997657 1.666667 1.971295 2.020408 1.993165 2.028571 1.653583 2.476325\n",
       "5 2.000000 1.666667 2.000000 2.020408 2.000000 2.028571 2.000000 2.476325\n",
       "6 2.000000 1.666667 2.000000 2.020408 2.000000 2.028571 2.000000 2.476325\n",
       "  DRD370N  DRD370NQ DRD370O  DRD370OQ DRD370P  DRD370PQ DRD370Q  DRD370QQ\n",
       "1 1.958016 2.237209 1.983011 1.666667 1.998047 1.5      1.988088 1.557377\n",
       "2 2.000000 2.237209 2.000000 1.666667 2.000000 1.5      2.000000 1.557377\n",
       "3 1.958016 2.237209 1.983011 1.666667 1.998047 1.5      1.988088 1.557377\n",
       "4 1.958016 2.237209 1.983011 1.666667 1.998047 1.5      1.988088 1.557377\n",
       "5 2.000000 2.237209 2.000000 1.666667 2.000000 1.5      2.000000 1.557377\n",
       "6 2.000000 2.237209 2.000000 1.666667 2.000000 1.5      2.000000 1.557377\n",
       "  DRD370R  DRD370RQ DRD370S  DRD370SQ DRD370T  DRD370TQ DRD370U  DRD370UQ\n",
       "1 1.966608 1.766082 1.994728 2.481481 1.742628 2.622155 1.938098 2.400631\n",
       "2 2.000000 1.766082 2.000000 2.481481 2.000000 2.622155 2.000000 2.400631\n",
       "3 1.966608 1.766082 1.994728 2.481481 1.742628 2.622155 1.938098 2.400631\n",
       "4 1.966608 1.766082 1.994728 2.481481 1.742628 2.622155 1.938098 2.400631\n",
       "5 2.000000 1.766082 2.000000 2.481481 2.000000 2.622155 2.000000 2.400631\n",
       "6 2.000000 1.766082 2.000000 2.481481 2.000000 2.622155 2.000000 2.400631"
      ]
     },
     "metadata": {},
     "output_type": "display_data"
    }
   ],
   "source": [
    "datax = data[, -1] # remove identifiers\n",
    "datax = datax[, var_info.na_count(datax)/nrow(datax) < 1] # remove variable swith all missing values\n",
    "datax = impute(datax) # impute with column means\n",
    "datax = datax[, var_info.var(datax) != 0]\n",
    "\n",
    "head(datax)"
   ]
  },
  {
   "cell_type": "markdown",
   "metadata": {},
   "source": [
    "Normalize the dataset."
   ]
  },
  {
   "cell_type": "code",
   "execution_count": 5,
   "metadata": {
    "hide_input": true
   },
   "outputs": [
    {
     "data": {
      "text/html": [
       "<table>\n",
       "<thead><tr><th scope=col>WTDRD1</th><th scope=col>WTDR2D</th><th scope=col>DR1DRSTZ</th><th scope=col>DR1EXMER</th><th scope=col>DRABF</th><th scope=col>DRDINT</th><th scope=col>DR1DBIH</th><th scope=col>DR1DAY</th><th scope=col>DR1LANG</th><th scope=col>DR1MNRSP</th><th scope=col>DR1HELPD</th><th scope=col>DBQ095Z</th><th scope=col>DBD100</th><th scope=col>DRQSPREP</th><th scope=col>DR1STY</th><th scope=col>DR1SKY</th><th scope=col>DRQSDIET</th><th scope=col>DR1TNUMF</th><th scope=col>DR1TKCAL</th><th scope=col>DR1TPROT</th><th scope=col>DR1TCARB</th><th scope=col>DR1TSUGR</th><th scope=col>DR1TFIBE</th><th scope=col>DR1TTFAT</th><th scope=col>DR1TSFAT</th><th scope=col>DR1TMFAT</th><th scope=col>DR1TPFAT</th><th scope=col>DR1TCHOL</th><th scope=col>DR1TATOC</th><th scope=col>DR1TATOA</th><th scope=col>DR1TRET</th><th scope=col>DR1TVARA</th><th scope=col>DR1TACAR</th><th scope=col>DR1TBCAR</th><th scope=col>DR1TCRYP</th><th scope=col>DR1TLYCO</th><th scope=col>DR1TLZ</th><th scope=col>...</th><th scope=col>DRD370CQ</th><th scope=col>DRD370D</th><th scope=col>DRD370DQ</th><th scope=col>DRD370E</th><th scope=col>DRD370EQ</th><th scope=col>DRD370F</th><th scope=col>DRD370FQ</th><th scope=col>DRD370G</th><th scope=col>DRD370GQ</th><th scope=col>DRD370H</th><th scope=col>DRD370HQ</th><th scope=col>DRD370I</th><th scope=col>DRD370IQ</th><th scope=col>DRD370J</th><th scope=col>DRD370JQ</th><th scope=col>DRD370K</th><th scope=col>DRD370KQ</th><th scope=col>DRD370L</th><th scope=col>DRD370LQ</th><th scope=col>DRD370M</th><th scope=col>DRD370MQ</th><th scope=col>DRD370N</th><th scope=col>DRD370NQ</th><th scope=col>DRD370O</th><th scope=col>DRD370OQ</th><th scope=col>DRD370P</th><th scope=col>DRD370PQ</th><th scope=col>DRD370Q</th><th scope=col>DRD370QQ</th><th scope=col>DRD370R</th><th scope=col>DRD370RQ</th><th scope=col>DRD370S</th><th scope=col>DRD370SQ</th><th scope=col>DRD370T</th><th scope=col>DRD370TQ</th><th scope=col>DRD370U</th><th scope=col>DRD370UQ</th></tr></thead>\n",
       "<tbody>\n",
       "\t<tr><td>-0.4111059   </td><td>-0.47989322  </td><td>-0.3745279   </td><td>0.2679972    </td><td>0.1334286    </td><td> 0.4032245   </td><td>-0.9152355   </td><td>-1.2104875   </td><td>-0.2970813   </td><td>-0.2571996   </td><td>0.4163555    </td><td>-0.05271334  </td><td> 0.576773    </td><td> 0.7342345   </td><td> 0.1730159   </td><td> 1.128879e-16</td><td> 0.1411048   </td><td>-0.7538070   </td><td>-0.4254569   </td><td>-0.7411811   </td><td>-0.02723015  </td><td> 0.98224203  </td><td>-0.4739902   </td><td>-0.5253386   </td><td>-0.46897667  </td><td>-0.46780197  </td><td>-0.7315103   </td><td>-0.2450510   </td><td>-0.6448514   </td><td>-0.2623888   </td><td>-0.9809673   </td><td>-0.96816299  </td><td>-0.2888421   </td><td>-0.41799078  </td><td> 0.6130811   </td><td>-0.4080687   </td><td>-0.2983294   </td><td>...          </td><td>0            </td><td>0.0000000    </td><td>9.320481e-16 </td><td> 0.000000    </td><td>-6.338235e-16</td><td>0.0000000    </td><td>-1.292613e-15</td><td>0.0000000    </td><td>0            </td><td>-2.266171e-15</td><td>0            </td><td>0.0000000    </td><td>0            </td><td>-6.356789e-15</td><td>-8.518529e-15</td><td> 1.840708e-15</td><td> 0.000000    </td><td>0.0000000    </td><td>0            </td><td>-6.459393e-16</td><td>-4.595095e-16</td><td>-1.532546e-15</td><td>0            </td><td>0.0000000    </td><td>-2.030525e-15</td><td>0.00000000   </td><td>0            </td><td>0.0000000    </td><td>-1.966883e-15</td><td>0.0000000    </td><td>-1.423785e-15</td><td>0.0000000    </td><td>3.254103e-15 </td><td>0.0000000    </td><td>-4.33993e-16 </td><td>1.275455e-15 </td><td>0            </td></tr>\n",
       "\t<tr><td>-0.3821605   </td><td>-0.48504129  </td><td>-0.3745279   </td><td>0.7827184    </td><td>0.1334286    </td><td> 0.4032245   </td><td>-1.0951152   </td><td>-1.6944071   </td><td>-0.2970813   </td><td>-0.2571996   </td><td>0.4163555    </td><td>-0.23495354  </td><td> 0.576773    </td><td>-0.1598154   </td><td>-1.3256024   </td><td>-3.000203e-01</td><td> 0.1411048   </td><td>-1.2960147   </td><td> 3.3744072   </td><td> 6.3212930   </td><td> 1.56644553  </td><td>-0.94049517  </td><td> 0.1505105   </td><td> 1.1594181   </td><td> 1.93416244  </td><td> 0.61480506  </td><td> 0.2656336   </td><td>10.6601539   </td><td> 1.9252672   </td><td>-0.2623888   </td><td> 2.9235265   </td><td> 1.79714145  </td><td>-0.3508516   </td><td>-0.46169709  </td><td>-0.2203027   </td><td>-0.5992346   </td><td>-0.1304132   </td><td>...          </td><td>0            </td><td>0.6074676    </td><td>9.320481e-16 </td><td> 0.484540    </td><td>-6.338235e-16</td><td>0.3181787    </td><td>-1.292613e-15</td><td>0.2731949    </td><td>0            </td><td> 1.913238e-01</td><td>0            </td><td>0.2031723    </td><td>0            </td><td> 6.708479e-02</td><td>-8.518529e-15</td><td>-8.051849e+00</td><td>-4.186405    </td><td>0.1148278    </td><td>0            </td><td> 1.007744e+00</td><td>-4.595095e-16</td><td> 2.897723e-01</td><td>0            </td><td>0.1819719    </td><td>-2.030525e-15</td><td>0.06122777   </td><td>0            </td><td>0.1519816    </td><td>-1.966883e-15</td><td>0.2572746    </td><td>-1.423785e-15</td><td>0.1007752    </td><td>3.254103e-15 </td><td>0.8148843    </td><td>-4.33993e-16 </td><td>3.555736e-01 </td><td>0            </td></tr>\n",
       "\t<tr><td> 0.7744623   </td><td> 0.07224368  </td><td>-0.3745279   </td><td>0.2679972    </td><td>0.1334286    </td><td> 0.4032245   </td><td> 0.1640426   </td><td> 0.7251906   </td><td>-0.2970813   </td><td>-0.2571996   </td><td>0.4163555    </td><td>-0.23495354  </td><td>-1.084912    </td><td>-1.0538652   </td><td> 0.1730159   </td><td> 1.128879e-16</td><td>-1.6019657   </td><td> 2.1379672   </td><td>-0.2413465   </td><td>-0.2380547   </td><td>-0.15874582  </td><td>-0.09363092  </td><td>-0.5692531   </td><td>-0.2151624   </td><td> 0.03367773  </td><td>-0.31428182  </td><td>-0.3793159   </td><td>-0.8006425   </td><td> 0.1026273   </td><td>-0.2623888   </td><td> 0.5342094   </td><td> 0.12551692  </td><td>-0.3291483   </td><td>-0.37813282  </td><td>-0.1482432   </td><td>-0.5288123   </td><td>-0.3448733   </td><td>...          </td><td>0            </td><td>0.0000000    </td><td>9.320481e-16 </td><td> 0.000000    </td><td>-6.338235e-16</td><td>0.0000000    </td><td>-1.292613e-15</td><td>0.0000000    </td><td>0            </td><td>-2.266171e-15</td><td>0            </td><td>0.0000000    </td><td>0            </td><td>-6.356789e-15</td><td>-8.518529e-15</td><td> 1.840708e-15</td><td> 0.000000    </td><td>0.0000000    </td><td>0            </td><td>-6.459393e-16</td><td>-4.595095e-16</td><td>-1.532546e-15</td><td>0            </td><td>0.0000000    </td><td>-2.030525e-15</td><td>0.00000000   </td><td>0            </td><td>0.0000000    </td><td>-1.966883e-15</td><td>0.0000000    </td><td>-1.423785e-15</td><td>0.0000000    </td><td>3.254103e-15 </td><td>0.0000000    </td><td>-4.33993e-16 </td><td>1.275455e-15 </td><td>0            </td></tr>\n",
       "\t<tr><td> 3.0639132   </td><td> 1.87850305  </td><td>-0.3745279   </td><td>0.5253578    </td><td>0.1334286    </td><td> 0.4032245   </td><td> 0.4338621   </td><td>-0.7265680   </td><td>-0.2970813   </td><td>-0.2571996   </td><td>0.1529313    </td><td>-0.23495354  </td><td>-1.084912    </td><td>-0.1598154   </td><td> 0.1730159   </td><td> 1.128879e-16</td><td> 0.1411048   </td><td> 0.6920801   </td><td>-0.5169674   </td><td> 0.0770587   </td><td>-0.69060555  </td><td>-0.42003413  </td><td>-0.4951597   </td><td>-0.3966485   </td><td>-0.08462567  </td><td>-0.56383969  </td><td>-0.6642142   </td><td>-0.3460676   </td><td>-0.9106216   </td><td>-0.2623888   </td><td> 0.2539295   </td><td>-0.09522581  </td><td>-0.3301818   </td><td>-0.43640790  </td><td> 0.4407649   </td><td>-0.5992346   </td><td>-0.2435508   </td><td>...          </td><td>0            </td><td>0.0000000    </td><td>9.320481e-16 </td><td> 0.000000    </td><td>-6.338235e-16</td><td>0.0000000    </td><td>-1.292613e-15</td><td>0.0000000    </td><td>0            </td><td>-2.266171e-15</td><td>0            </td><td>0.0000000    </td><td>0            </td><td>-6.356789e-15</td><td>-8.518529e-15</td><td> 1.840708e-15</td><td> 0.000000    </td><td>0.0000000    </td><td>0            </td><td>-6.459393e-16</td><td>-4.595095e-16</td><td>-1.532546e-15</td><td>0            </td><td>0.0000000    </td><td>-2.030525e-15</td><td>0.00000000   </td><td>0            </td><td>0.0000000    </td><td>-1.966883e-15</td><td>0.0000000    </td><td>-1.423785e-15</td><td>0.0000000    </td><td>3.254103e-15 </td><td>0.0000000    </td><td>-4.33993e-16 </td><td>1.275455e-15 </td><td>0            </td></tr>\n",
       "\t<tr><td> 0.7581165   </td><td> 0.06412033  </td><td>-0.3745279   </td><td>0.9886069    </td><td>0.1334286    </td><td> 0.4032245   </td><td> 0.1640426   </td><td>-1.6944071   </td><td>-0.2970813   </td><td>-0.2571996   </td><td>0.4163555    </td><td> 0.03840676  </td><td> 0.000000    </td><td> 0.7342345   </td><td> 0.1730159   </td><td> 1.128879e-16</td><td>-1.6019657   </td><td>-1.4767505   </td><td>-0.5921367   </td><td>-0.4627589   </td><td>-0.55839770  </td><td>-0.31474277  </td><td>-0.3152188   </td><td>-0.4652361   </td><td>-1.36975713  </td><td> 0.02436745  </td><td>-1.3776555   </td><td>-1.0164508   </td><td> 6.7921838   </td><td>-0.2623888   </td><td> 0.8727654   </td><td> 0.54292137  </td><td>-0.3508516   </td><td>-0.09582852  </td><td>-0.2578990   </td><td>-0.5992346   </td><td>-0.4522824   </td><td>...          </td><td>0            </td><td>0.6074676    </td><td>9.320481e-16 </td><td> 0.484540    </td><td>-6.338235e-16</td><td>0.3181787    </td><td>-1.292613e-15</td><td>0.2731949    </td><td>0            </td><td> 1.913238e-01</td><td>0            </td><td>0.2031723    </td><td>0            </td><td> 6.708479e-02</td><td>-8.518529e-15</td><td> 2.379618e-01</td><td> 0.000000    </td><td>0.1148278    </td><td>0            </td><td> 1.007744e+00</td><td>-4.595095e-16</td><td> 2.897723e-01</td><td>0            </td><td>0.1819719    </td><td>-2.030525e-15</td><td>0.06122777   </td><td>0            </td><td>0.1519816    </td><td>-1.966883e-15</td><td>0.2572746    </td><td>-1.423785e-15</td><td>0.1007752    </td><td>3.254103e-15 </td><td>0.8148843    </td><td>-4.33993e-16 </td><td>3.555736e-01 </td><td>0            </td></tr>\n",
       "\t<tr><td> 0.5040643   </td><td>-0.74968608  </td><td>-0.3745279   </td><td>0.2679972    </td><td>0.1334286    </td><td>-2.8095879   </td><td>-0.4655363   </td><td>-0.7265680   </td><td>-0.2970813   </td><td>-0.2571996   </td><td>0.4163555    </td><td>-0.23495354  </td><td> 2.238458    </td><td>-0.1598154   </td><td>-1.3256024   </td><td>-3.000203e-01</td><td> 0.1411048   </td><td> 0.3306083   </td><td>-0.1955913   </td><td>-0.4658765   </td><td>-0.45984747  </td><td>-0.40292429  </td><td> 0.7750113   </td><td> 0.4436086   </td><td>-0.17618926  </td><td> 0.90361922  </td><td> 0.5256801   </td><td> 1.2472402   </td><td> 0.6205772   </td><td>-0.2623888   </td><td>-0.4204074   </td><td>-0.47650872  </td><td>-0.1730911   </td><td>-0.28824625  </td><td> 0.6820075   </td><td>-0.2793941   </td><td> 0.2999392   </td><td>...          </td><td>0            </td><td>0.6074676    </td><td>9.320481e-16 </td><td>-3.954332    </td><td>-2.517464e+00</td><td>0.3181787    </td><td>-1.292613e-15</td><td>0.2731949    </td><td>0            </td><td> 1.913238e-01</td><td>0            </td><td>0.2031723    </td><td>0            </td><td> 6.708479e-02</td><td>-8.518529e-15</td><td> 2.379618e-01</td><td> 0.000000    </td><td>0.1148278    </td><td>0            </td><td> 1.007744e+00</td><td>-4.595095e-16</td><td> 2.897723e-01</td><td>0            </td><td>0.1819719    </td><td>-2.030525e-15</td><td>0.06122777   </td><td>0            </td><td>0.1519816    </td><td>-1.966883e-15</td><td>0.2572746    </td><td>-1.423785e-15</td><td>0.1007752    </td><td>3.254103e-15 </td><td>0.8148843    </td><td>-4.33993e-16 </td><td>3.555736e-01 </td><td>0            </td></tr>\n",
       "</tbody>\n",
       "</table>\n"
      ],
      "text/latex": [
       "\\begin{tabular}{llllllllllllllllllllllllllllllllllllllllllllllllllllllllllllllllllllllllllllllllllllllllllllllllllllllllllllllllllllllllllllllllllllllllllllllllllllllll}\n",
       " WTDRD1 & WTDR2D & DR1DRSTZ & DR1EXMER & DRABF & DRDINT & DR1DBIH & DR1DAY & DR1LANG & DR1MNRSP & DR1HELPD & DBQ095Z & DBD100 & DRQSPREP & DR1STY & DR1SKY & DRQSDIET & DR1TNUMF & DR1TKCAL & DR1TPROT & DR1TCARB & DR1TSUGR & DR1TFIBE & DR1TTFAT & DR1TSFAT & DR1TMFAT & DR1TPFAT & DR1TCHOL & DR1TATOC & DR1TATOA & DR1TRET & DR1TVARA & DR1TACAR & DR1TBCAR & DR1TCRYP & DR1TLYCO & DR1TLZ & ... & DRD370CQ & DRD370D & DRD370DQ & DRD370E & DRD370EQ & DRD370F & DRD370FQ & DRD370G & DRD370GQ & DRD370H & DRD370HQ & DRD370I & DRD370IQ & DRD370J & DRD370JQ & DRD370K & DRD370KQ & DRD370L & DRD370LQ & DRD370M & DRD370MQ & DRD370N & DRD370NQ & DRD370O & DRD370OQ & DRD370P & DRD370PQ & DRD370Q & DRD370QQ & DRD370R & DRD370RQ & DRD370S & DRD370SQ & DRD370T & DRD370TQ & DRD370U & DRD370UQ\\\\\n",
       "\\hline\n",
       "\t -0.4111059    & -0.47989322   & -0.3745279    & 0.2679972     & 0.1334286     &  0.4032245    & -0.9152355    & -1.2104875    & -0.2970813    & -0.2571996    & 0.4163555     & -0.05271334   &  0.576773     &  0.7342345    &  0.1730159    &  1.128879e-16 &  0.1411048    & -0.7538070    & -0.4254569    & -0.7411811    & -0.02723015   &  0.98224203   & -0.4739902    & -0.5253386    & -0.46897667   & -0.46780197   & -0.7315103    & -0.2450510    & -0.6448514    & -0.2623888    & -0.9809673    & -0.96816299   & -0.2888421    & -0.41799078   &  0.6130811    & -0.4080687    & -0.2983294    & ...           & 0             & 0.0000000     & 9.320481e-16  &  0.000000     & -6.338235e-16 & 0.0000000     & -1.292613e-15 & 0.0000000     & 0             & -2.266171e-15 & 0             & 0.0000000     & 0             & -6.356789e-15 & -8.518529e-15 &  1.840708e-15 &  0.000000     & 0.0000000     & 0             & -6.459393e-16 & -4.595095e-16 & -1.532546e-15 & 0             & 0.0000000     & -2.030525e-15 & 0.00000000    & 0             & 0.0000000     & -1.966883e-15 & 0.0000000     & -1.423785e-15 & 0.0000000     & 3.254103e-15  & 0.0000000     & -4.33993e-16  & 1.275455e-15  & 0            \\\\\n",
       "\t -0.3821605    & -0.48504129   & -0.3745279    & 0.7827184     & 0.1334286     &  0.4032245    & -1.0951152    & -1.6944071    & -0.2970813    & -0.2571996    & 0.4163555     & -0.23495354   &  0.576773     & -0.1598154    & -1.3256024    & -3.000203e-01 &  0.1411048    & -1.2960147    &  3.3744072    &  6.3212930    &  1.56644553   & -0.94049517   &  0.1505105    &  1.1594181    &  1.93416244   &  0.61480506   &  0.2656336    & 10.6601539    &  1.9252672    & -0.2623888    &  2.9235265    &  1.79714145   & -0.3508516    & -0.46169709   & -0.2203027    & -0.5992346    & -0.1304132    & ...           & 0             & 0.6074676     & 9.320481e-16  &  0.484540     & -6.338235e-16 & 0.3181787     & -1.292613e-15 & 0.2731949     & 0             &  1.913238e-01 & 0             & 0.2031723     & 0             &  6.708479e-02 & -8.518529e-15 & -8.051849e+00 & -4.186405     & 0.1148278     & 0             &  1.007744e+00 & -4.595095e-16 &  2.897723e-01 & 0             & 0.1819719     & -2.030525e-15 & 0.06122777    & 0             & 0.1519816     & -1.966883e-15 & 0.2572746     & -1.423785e-15 & 0.1007752     & 3.254103e-15  & 0.8148843     & -4.33993e-16  & 3.555736e-01  & 0            \\\\\n",
       "\t  0.7744623    &  0.07224368   & -0.3745279    & 0.2679972     & 0.1334286     &  0.4032245    &  0.1640426    &  0.7251906    & -0.2970813    & -0.2571996    & 0.4163555     & -0.23495354   & -1.084912     & -1.0538652    &  0.1730159    &  1.128879e-16 & -1.6019657    &  2.1379672    & -0.2413465    & -0.2380547    & -0.15874582   & -0.09363092   & -0.5692531    & -0.2151624    &  0.03367773   & -0.31428182   & -0.3793159    & -0.8006425    &  0.1026273    & -0.2623888    &  0.5342094    &  0.12551692   & -0.3291483    & -0.37813282   & -0.1482432    & -0.5288123    & -0.3448733    & ...           & 0             & 0.0000000     & 9.320481e-16  &  0.000000     & -6.338235e-16 & 0.0000000     & -1.292613e-15 & 0.0000000     & 0             & -2.266171e-15 & 0             & 0.0000000     & 0             & -6.356789e-15 & -8.518529e-15 &  1.840708e-15 &  0.000000     & 0.0000000     & 0             & -6.459393e-16 & -4.595095e-16 & -1.532546e-15 & 0             & 0.0000000     & -2.030525e-15 & 0.00000000    & 0             & 0.0000000     & -1.966883e-15 & 0.0000000     & -1.423785e-15 & 0.0000000     & 3.254103e-15  & 0.0000000     & -4.33993e-16  & 1.275455e-15  & 0            \\\\\n",
       "\t  3.0639132    &  1.87850305   & -0.3745279    & 0.5253578     & 0.1334286     &  0.4032245    &  0.4338621    & -0.7265680    & -0.2970813    & -0.2571996    & 0.1529313     & -0.23495354   & -1.084912     & -0.1598154    &  0.1730159    &  1.128879e-16 &  0.1411048    &  0.6920801    & -0.5169674    &  0.0770587    & -0.69060555   & -0.42003413   & -0.4951597    & -0.3966485    & -0.08462567   & -0.56383969   & -0.6642142    & -0.3460676    & -0.9106216    & -0.2623888    &  0.2539295    & -0.09522581   & -0.3301818    & -0.43640790   &  0.4407649    & -0.5992346    & -0.2435508    & ...           & 0             & 0.0000000     & 9.320481e-16  &  0.000000     & -6.338235e-16 & 0.0000000     & -1.292613e-15 & 0.0000000     & 0             & -2.266171e-15 & 0             & 0.0000000     & 0             & -6.356789e-15 & -8.518529e-15 &  1.840708e-15 &  0.000000     & 0.0000000     & 0             & -6.459393e-16 & -4.595095e-16 & -1.532546e-15 & 0             & 0.0000000     & -2.030525e-15 & 0.00000000    & 0             & 0.0000000     & -1.966883e-15 & 0.0000000     & -1.423785e-15 & 0.0000000     & 3.254103e-15  & 0.0000000     & -4.33993e-16  & 1.275455e-15  & 0            \\\\\n",
       "\t  0.7581165    &  0.06412033   & -0.3745279    & 0.9886069     & 0.1334286     &  0.4032245    &  0.1640426    & -1.6944071    & -0.2970813    & -0.2571996    & 0.4163555     &  0.03840676   &  0.000000     &  0.7342345    &  0.1730159    &  1.128879e-16 & -1.6019657    & -1.4767505    & -0.5921367    & -0.4627589    & -0.55839770   & -0.31474277   & -0.3152188    & -0.4652361    & -1.36975713   &  0.02436745   & -1.3776555    & -1.0164508    &  6.7921838    & -0.2623888    &  0.8727654    &  0.54292137   & -0.3508516    & -0.09582852   & -0.2578990    & -0.5992346    & -0.4522824    & ...           & 0             & 0.6074676     & 9.320481e-16  &  0.484540     & -6.338235e-16 & 0.3181787     & -1.292613e-15 & 0.2731949     & 0             &  1.913238e-01 & 0             & 0.2031723     & 0             &  6.708479e-02 & -8.518529e-15 &  2.379618e-01 &  0.000000     & 0.1148278     & 0             &  1.007744e+00 & -4.595095e-16 &  2.897723e-01 & 0             & 0.1819719     & -2.030525e-15 & 0.06122777    & 0             & 0.1519816     & -1.966883e-15 & 0.2572746     & -1.423785e-15 & 0.1007752     & 3.254103e-15  & 0.8148843     & -4.33993e-16  & 3.555736e-01  & 0            \\\\\n",
       "\t  0.5040643    & -0.74968608   & -0.3745279    & 0.2679972     & 0.1334286     & -2.8095879    & -0.4655363    & -0.7265680    & -0.2970813    & -0.2571996    & 0.4163555     & -0.23495354   &  2.238458     & -0.1598154    & -1.3256024    & -3.000203e-01 &  0.1411048    &  0.3306083    & -0.1955913    & -0.4658765    & -0.45984747   & -0.40292429   &  0.7750113    &  0.4436086    & -0.17618926   &  0.90361922   &  0.5256801    &  1.2472402    &  0.6205772    & -0.2623888    & -0.4204074    & -0.47650872   & -0.1730911    & -0.28824625   &  0.6820075    & -0.2793941    &  0.2999392    & ...           & 0             & 0.6074676     & 9.320481e-16  & -3.954332     & -2.517464e+00 & 0.3181787     & -1.292613e-15 & 0.2731949     & 0             &  1.913238e-01 & 0             & 0.2031723     & 0             &  6.708479e-02 & -8.518529e-15 &  2.379618e-01 &  0.000000     & 0.1148278     & 0             &  1.007744e+00 & -4.595095e-16 &  2.897723e-01 & 0             & 0.1819719     & -2.030525e-15 & 0.06122777    & 0             & 0.1519816     & -1.966883e-15 & 0.2572746     & -1.423785e-15 & 0.1007752     & 3.254103e-15  & 0.8148843     & -4.33993e-16  & 3.555736e-01  & 0            \\\\\n",
       "\\end{tabular}\n"
      ],
      "text/markdown": [
       "\n",
       "| WTDRD1 | WTDR2D | DR1DRSTZ | DR1EXMER | DRABF | DRDINT | DR1DBIH | DR1DAY | DR1LANG | DR1MNRSP | DR1HELPD | DBQ095Z | DBD100 | DRQSPREP | DR1STY | DR1SKY | DRQSDIET | DR1TNUMF | DR1TKCAL | DR1TPROT | DR1TCARB | DR1TSUGR | DR1TFIBE | DR1TTFAT | DR1TSFAT | DR1TMFAT | DR1TPFAT | DR1TCHOL | DR1TATOC | DR1TATOA | DR1TRET | DR1TVARA | DR1TACAR | DR1TBCAR | DR1TCRYP | DR1TLYCO | DR1TLZ | ... | DRD370CQ | DRD370D | DRD370DQ | DRD370E | DRD370EQ | DRD370F | DRD370FQ | DRD370G | DRD370GQ | DRD370H | DRD370HQ | DRD370I | DRD370IQ | DRD370J | DRD370JQ | DRD370K | DRD370KQ | DRD370L | DRD370LQ | DRD370M | DRD370MQ | DRD370N | DRD370NQ | DRD370O | DRD370OQ | DRD370P | DRD370PQ | DRD370Q | DRD370QQ | DRD370R | DRD370RQ | DRD370S | DRD370SQ | DRD370T | DRD370TQ | DRD370U | DRD370UQ |\n",
       "|---|---|---|---|---|---|---|---|---|---|---|---|---|---|---|---|---|---|---|---|---|---|---|---|---|---|---|---|---|---|---|---|---|---|---|---|---|---|---|---|---|---|---|---|---|---|---|---|---|---|---|---|---|---|---|---|---|---|---|---|---|---|---|---|---|---|---|---|---|---|---|---|---|---|---|\n",
       "| -0.4111059    | -0.47989322   | -0.3745279    | 0.2679972     | 0.1334286     |  0.4032245    | -0.9152355    | -1.2104875    | -0.2970813    | -0.2571996    | 0.4163555     | -0.05271334   |  0.576773     |  0.7342345    |  0.1730159    |  1.128879e-16 |  0.1411048    | -0.7538070    | -0.4254569    | -0.7411811    | -0.02723015   |  0.98224203   | -0.4739902    | -0.5253386    | -0.46897667   | -0.46780197   | -0.7315103    | -0.2450510    | -0.6448514    | -0.2623888    | -0.9809673    | -0.96816299   | -0.2888421    | -0.41799078   |  0.6130811    | -0.4080687    | -0.2983294    | ...           | 0             | 0.0000000     | 9.320481e-16  |  0.000000     | -6.338235e-16 | 0.0000000     | -1.292613e-15 | 0.0000000     | 0             | -2.266171e-15 | 0             | 0.0000000     | 0             | -6.356789e-15 | -8.518529e-15 |  1.840708e-15 |  0.000000     | 0.0000000     | 0             | -6.459393e-16 | -4.595095e-16 | -1.532546e-15 | 0             | 0.0000000     | -2.030525e-15 | 0.00000000    | 0             | 0.0000000     | -1.966883e-15 | 0.0000000     | -1.423785e-15 | 0.0000000     | 3.254103e-15  | 0.0000000     | -4.33993e-16  | 1.275455e-15  | 0             |\n",
       "| -0.3821605    | -0.48504129   | -0.3745279    | 0.7827184     | 0.1334286     |  0.4032245    | -1.0951152    | -1.6944071    | -0.2970813    | -0.2571996    | 0.4163555     | -0.23495354   |  0.576773     | -0.1598154    | -1.3256024    | -3.000203e-01 |  0.1411048    | -1.2960147    |  3.3744072    |  6.3212930    |  1.56644553   | -0.94049517   |  0.1505105    |  1.1594181    |  1.93416244   |  0.61480506   |  0.2656336    | 10.6601539    |  1.9252672    | -0.2623888    |  2.9235265    |  1.79714145   | -0.3508516    | -0.46169709   | -0.2203027    | -0.5992346    | -0.1304132    | ...           | 0             | 0.6074676     | 9.320481e-16  |  0.484540     | -6.338235e-16 | 0.3181787     | -1.292613e-15 | 0.2731949     | 0             |  1.913238e-01 | 0             | 0.2031723     | 0             |  6.708479e-02 | -8.518529e-15 | -8.051849e+00 | -4.186405     | 0.1148278     | 0             |  1.007744e+00 | -4.595095e-16 |  2.897723e-01 | 0             | 0.1819719     | -2.030525e-15 | 0.06122777    | 0             | 0.1519816     | -1.966883e-15 | 0.2572746     | -1.423785e-15 | 0.1007752     | 3.254103e-15  | 0.8148843     | -4.33993e-16  | 3.555736e-01  | 0             |\n",
       "|  0.7744623    |  0.07224368   | -0.3745279    | 0.2679972     | 0.1334286     |  0.4032245    |  0.1640426    |  0.7251906    | -0.2970813    | -0.2571996    | 0.4163555     | -0.23495354   | -1.084912     | -1.0538652    |  0.1730159    |  1.128879e-16 | -1.6019657    |  2.1379672    | -0.2413465    | -0.2380547    | -0.15874582   | -0.09363092   | -0.5692531    | -0.2151624    |  0.03367773   | -0.31428182   | -0.3793159    | -0.8006425    |  0.1026273    | -0.2623888    |  0.5342094    |  0.12551692   | -0.3291483    | -0.37813282   | -0.1482432    | -0.5288123    | -0.3448733    | ...           | 0             | 0.0000000     | 9.320481e-16  |  0.000000     | -6.338235e-16 | 0.0000000     | -1.292613e-15 | 0.0000000     | 0             | -2.266171e-15 | 0             | 0.0000000     | 0             | -6.356789e-15 | -8.518529e-15 |  1.840708e-15 |  0.000000     | 0.0000000     | 0             | -6.459393e-16 | -4.595095e-16 | -1.532546e-15 | 0             | 0.0000000     | -2.030525e-15 | 0.00000000    | 0             | 0.0000000     | -1.966883e-15 | 0.0000000     | -1.423785e-15 | 0.0000000     | 3.254103e-15  | 0.0000000     | -4.33993e-16  | 1.275455e-15  | 0             |\n",
       "|  3.0639132    |  1.87850305   | -0.3745279    | 0.5253578     | 0.1334286     |  0.4032245    |  0.4338621    | -0.7265680    | -0.2970813    | -0.2571996    | 0.1529313     | -0.23495354   | -1.084912     | -0.1598154    |  0.1730159    |  1.128879e-16 |  0.1411048    |  0.6920801    | -0.5169674    |  0.0770587    | -0.69060555   | -0.42003413   | -0.4951597    | -0.3966485    | -0.08462567   | -0.56383969   | -0.6642142    | -0.3460676    | -0.9106216    | -0.2623888    |  0.2539295    | -0.09522581   | -0.3301818    | -0.43640790   |  0.4407649    | -0.5992346    | -0.2435508    | ...           | 0             | 0.0000000     | 9.320481e-16  |  0.000000     | -6.338235e-16 | 0.0000000     | -1.292613e-15 | 0.0000000     | 0             | -2.266171e-15 | 0             | 0.0000000     | 0             | -6.356789e-15 | -8.518529e-15 |  1.840708e-15 |  0.000000     | 0.0000000     | 0             | -6.459393e-16 | -4.595095e-16 | -1.532546e-15 | 0             | 0.0000000     | -2.030525e-15 | 0.00000000    | 0             | 0.0000000     | -1.966883e-15 | 0.0000000     | -1.423785e-15 | 0.0000000     | 3.254103e-15  | 0.0000000     | -4.33993e-16  | 1.275455e-15  | 0             |\n",
       "|  0.7581165    |  0.06412033   | -0.3745279    | 0.9886069     | 0.1334286     |  0.4032245    |  0.1640426    | -1.6944071    | -0.2970813    | -0.2571996    | 0.4163555     |  0.03840676   |  0.000000     |  0.7342345    |  0.1730159    |  1.128879e-16 | -1.6019657    | -1.4767505    | -0.5921367    | -0.4627589    | -0.55839770   | -0.31474277   | -0.3152188    | -0.4652361    | -1.36975713   |  0.02436745   | -1.3776555    | -1.0164508    |  6.7921838    | -0.2623888    |  0.8727654    |  0.54292137   | -0.3508516    | -0.09582852   | -0.2578990    | -0.5992346    | -0.4522824    | ...           | 0             | 0.6074676     | 9.320481e-16  |  0.484540     | -6.338235e-16 | 0.3181787     | -1.292613e-15 | 0.2731949     | 0             |  1.913238e-01 | 0             | 0.2031723     | 0             |  6.708479e-02 | -8.518529e-15 |  2.379618e-01 |  0.000000     | 0.1148278     | 0             |  1.007744e+00 | -4.595095e-16 |  2.897723e-01 | 0             | 0.1819719     | -2.030525e-15 | 0.06122777    | 0             | 0.1519816     | -1.966883e-15 | 0.2572746     | -1.423785e-15 | 0.1007752     | 3.254103e-15  | 0.8148843     | -4.33993e-16  | 3.555736e-01  | 0             |\n",
       "|  0.5040643    | -0.74968608   | -0.3745279    | 0.2679972     | 0.1334286     | -2.8095879    | -0.4655363    | -0.7265680    | -0.2970813    | -0.2571996    | 0.4163555     | -0.23495354   |  2.238458     | -0.1598154    | -1.3256024    | -3.000203e-01 |  0.1411048    |  0.3306083    | -0.1955913    | -0.4658765    | -0.45984747   | -0.40292429   |  0.7750113    |  0.4436086    | -0.17618926   |  0.90361922   |  0.5256801    |  1.2472402    |  0.6205772    | -0.2623888    | -0.4204074    | -0.47650872   | -0.1730911    | -0.28824625   |  0.6820075    | -0.2793941    |  0.2999392    | ...           | 0             | 0.6074676     | 9.320481e-16  | -3.954332     | -2.517464e+00 | 0.3181787     | -1.292613e-15 | 0.2731949     | 0             |  1.913238e-01 | 0             | 0.2031723     | 0             |  6.708479e-02 | -8.518529e-15 |  2.379618e-01 |  0.000000     | 0.1148278     | 0             |  1.007744e+00 | -4.595095e-16 |  2.897723e-01 | 0             | 0.1819719     | -2.030525e-15 | 0.06122777    | 0             | 0.1519816     | -1.966883e-15 | 0.2572746     | -1.423785e-15 | 0.1007752     | 3.254103e-15  | 0.8148843     | -4.33993e-16  | 3.555736e-01  | 0             |\n",
       "\n"
      ],
      "text/plain": [
       "     WTDRD1     WTDR2D      DR1DRSTZ   DR1EXMER  DRABF     DRDINT    \n",
       "[1,] -0.4111059 -0.47989322 -0.3745279 0.2679972 0.1334286  0.4032245\n",
       "[2,] -0.3821605 -0.48504129 -0.3745279 0.7827184 0.1334286  0.4032245\n",
       "[3,]  0.7744623  0.07224368 -0.3745279 0.2679972 0.1334286  0.4032245\n",
       "[4,]  3.0639132  1.87850305 -0.3745279 0.5253578 0.1334286  0.4032245\n",
       "[5,]  0.7581165  0.06412033 -0.3745279 0.9886069 0.1334286  0.4032245\n",
       "[6,]  0.5040643 -0.74968608 -0.3745279 0.2679972 0.1334286 -2.8095879\n",
       "     DR1DBIH    DR1DAY     DR1LANG    DR1MNRSP   DR1HELPD  DBQ095Z    \n",
       "[1,] -0.9152355 -1.2104875 -0.2970813 -0.2571996 0.4163555 -0.05271334\n",
       "[2,] -1.0951152 -1.6944071 -0.2970813 -0.2571996 0.4163555 -0.23495354\n",
       "[3,]  0.1640426  0.7251906 -0.2970813 -0.2571996 0.4163555 -0.23495354\n",
       "[4,]  0.4338621 -0.7265680 -0.2970813 -0.2571996 0.1529313 -0.23495354\n",
       "[5,]  0.1640426 -1.6944071 -0.2970813 -0.2571996 0.4163555  0.03840676\n",
       "[6,] -0.4655363 -0.7265680 -0.2970813 -0.2571996 0.4163555 -0.23495354\n",
       "     DBD100    DRQSPREP   DR1STY     DR1SKY        DRQSDIET   DR1TNUMF  \n",
       "[1,]  0.576773  0.7342345  0.1730159  1.128879e-16  0.1411048 -0.7538070\n",
       "[2,]  0.576773 -0.1598154 -1.3256024 -3.000203e-01  0.1411048 -1.2960147\n",
       "[3,] -1.084912 -1.0538652  0.1730159  1.128879e-16 -1.6019657  2.1379672\n",
       "[4,] -1.084912 -0.1598154  0.1730159  1.128879e-16  0.1411048  0.6920801\n",
       "[5,]  0.000000  0.7342345  0.1730159  1.128879e-16 -1.6019657 -1.4767505\n",
       "[6,]  2.238458 -0.1598154 -1.3256024 -3.000203e-01  0.1411048  0.3306083\n",
       "     DR1TKCAL   DR1TPROT   DR1TCARB    DR1TSUGR    DR1TFIBE   DR1TTFAT  \n",
       "[1,] -0.4254569 -0.7411811 -0.02723015  0.98224203 -0.4739902 -0.5253386\n",
       "[2,]  3.3744072  6.3212930  1.56644553 -0.94049517  0.1505105  1.1594181\n",
       "[3,] -0.2413465 -0.2380547 -0.15874582 -0.09363092 -0.5692531 -0.2151624\n",
       "[4,] -0.5169674  0.0770587 -0.69060555 -0.42003413 -0.4951597 -0.3966485\n",
       "[5,] -0.5921367 -0.4627589 -0.55839770 -0.31474277 -0.3152188 -0.4652361\n",
       "[6,] -0.1955913 -0.4658765 -0.45984747 -0.40292429  0.7750113  0.4436086\n",
       "     DR1TSFAT    DR1TMFAT    DR1TPFAT   DR1TCHOL   DR1TATOC   DR1TATOA  \n",
       "[1,] -0.46897667 -0.46780197 -0.7315103 -0.2450510 -0.6448514 -0.2623888\n",
       "[2,]  1.93416244  0.61480506  0.2656336 10.6601539  1.9252672 -0.2623888\n",
       "[3,]  0.03367773 -0.31428182 -0.3793159 -0.8006425  0.1026273 -0.2623888\n",
       "[4,] -0.08462567 -0.56383969 -0.6642142 -0.3460676 -0.9106216 -0.2623888\n",
       "[5,] -1.36975713  0.02436745 -1.3776555 -1.0164508  6.7921838 -0.2623888\n",
       "[6,] -0.17618926  0.90361922  0.5256801  1.2472402  0.6205772 -0.2623888\n",
       "     DR1TRET    DR1TVARA    DR1TACAR   DR1TBCAR    DR1TCRYP   DR1TLYCO  \n",
       "[1,] -0.9809673 -0.96816299 -0.2888421 -0.41799078  0.6130811 -0.4080687\n",
       "[2,]  2.9235265  1.79714145 -0.3508516 -0.46169709 -0.2203027 -0.5992346\n",
       "[3,]  0.5342094  0.12551692 -0.3291483 -0.37813282 -0.1482432 -0.5288123\n",
       "[4,]  0.2539295 -0.09522581 -0.3301818 -0.43640790  0.4407649 -0.5992346\n",
       "[5,]  0.8727654  0.54292137 -0.3508516 -0.09582852 -0.2578990 -0.5992346\n",
       "[6,] -0.4204074 -0.47650872 -0.1730911 -0.28824625  0.6820075 -0.2793941\n",
       "     DR1TLZ     ... DRD370CQ DRD370D   DRD370DQ     DRD370E   DRD370EQ     \n",
       "[1,] -0.2983294 ... 0        0.0000000 9.320481e-16  0.000000 -6.338235e-16\n",
       "[2,] -0.1304132 ... 0        0.6074676 9.320481e-16  0.484540 -6.338235e-16\n",
       "[3,] -0.3448733 ... 0        0.0000000 9.320481e-16  0.000000 -6.338235e-16\n",
       "[4,] -0.2435508 ... 0        0.0000000 9.320481e-16  0.000000 -6.338235e-16\n",
       "[5,] -0.4522824 ... 0        0.6074676 9.320481e-16  0.484540 -6.338235e-16\n",
       "[6,]  0.2999392 ... 0        0.6074676 9.320481e-16 -3.954332 -2.517464e+00\n",
       "     DRD370F   DRD370FQ      DRD370G   DRD370GQ DRD370H       DRD370HQ\n",
       "[1,] 0.0000000 -1.292613e-15 0.0000000 0        -2.266171e-15 0       \n",
       "[2,] 0.3181787 -1.292613e-15 0.2731949 0         1.913238e-01 0       \n",
       "[3,] 0.0000000 -1.292613e-15 0.0000000 0        -2.266171e-15 0       \n",
       "[4,] 0.0000000 -1.292613e-15 0.0000000 0        -2.266171e-15 0       \n",
       "[5,] 0.3181787 -1.292613e-15 0.2731949 0         1.913238e-01 0       \n",
       "[6,] 0.3181787 -1.292613e-15 0.2731949 0         1.913238e-01 0       \n",
       "     DRD370I   DRD370IQ DRD370J       DRD370JQ      DRD370K       DRD370KQ \n",
       "[1,] 0.0000000 0        -6.356789e-15 -8.518529e-15  1.840708e-15  0.000000\n",
       "[2,] 0.2031723 0         6.708479e-02 -8.518529e-15 -8.051849e+00 -4.186405\n",
       "[3,] 0.0000000 0        -6.356789e-15 -8.518529e-15  1.840708e-15  0.000000\n",
       "[4,] 0.0000000 0        -6.356789e-15 -8.518529e-15  1.840708e-15  0.000000\n",
       "[5,] 0.2031723 0         6.708479e-02 -8.518529e-15  2.379618e-01  0.000000\n",
       "[6,] 0.2031723 0         6.708479e-02 -8.518529e-15  2.379618e-01  0.000000\n",
       "     DRD370L   DRD370LQ DRD370M       DRD370MQ      DRD370N       DRD370NQ\n",
       "[1,] 0.0000000 0        -6.459393e-16 -4.595095e-16 -1.532546e-15 0       \n",
       "[2,] 0.1148278 0         1.007744e+00 -4.595095e-16  2.897723e-01 0       \n",
       "[3,] 0.0000000 0        -6.459393e-16 -4.595095e-16 -1.532546e-15 0       \n",
       "[4,] 0.0000000 0        -6.459393e-16 -4.595095e-16 -1.532546e-15 0       \n",
       "[5,] 0.1148278 0         1.007744e+00 -4.595095e-16  2.897723e-01 0       \n",
       "[6,] 0.1148278 0         1.007744e+00 -4.595095e-16  2.897723e-01 0       \n",
       "     DRD370O   DRD370OQ      DRD370P    DRD370PQ DRD370Q   DRD370QQ     \n",
       "[1,] 0.0000000 -2.030525e-15 0.00000000 0        0.0000000 -1.966883e-15\n",
       "[2,] 0.1819719 -2.030525e-15 0.06122777 0        0.1519816 -1.966883e-15\n",
       "[3,] 0.0000000 -2.030525e-15 0.00000000 0        0.0000000 -1.966883e-15\n",
       "[4,] 0.0000000 -2.030525e-15 0.00000000 0        0.0000000 -1.966883e-15\n",
       "[5,] 0.1819719 -2.030525e-15 0.06122777 0        0.1519816 -1.966883e-15\n",
       "[6,] 0.1819719 -2.030525e-15 0.06122777 0        0.1519816 -1.966883e-15\n",
       "     DRD370R   DRD370RQ      DRD370S   DRD370SQ     DRD370T   DRD370TQ    \n",
       "[1,] 0.0000000 -1.423785e-15 0.0000000 3.254103e-15 0.0000000 -4.33993e-16\n",
       "[2,] 0.2572746 -1.423785e-15 0.1007752 3.254103e-15 0.8148843 -4.33993e-16\n",
       "[3,] 0.0000000 -1.423785e-15 0.0000000 3.254103e-15 0.0000000 -4.33993e-16\n",
       "[4,] 0.0000000 -1.423785e-15 0.0000000 3.254103e-15 0.0000000 -4.33993e-16\n",
       "[5,] 0.2572746 -1.423785e-15 0.1007752 3.254103e-15 0.8148843 -4.33993e-16\n",
       "[6,] 0.2572746 -1.423785e-15 0.1007752 3.254103e-15 0.8148843 -4.33993e-16\n",
       "     DRD370U      DRD370UQ\n",
       "[1,] 1.275455e-15 0       \n",
       "[2,] 3.555736e-01 0       \n",
       "[3,] 1.275455e-15 0       \n",
       "[4,] 1.275455e-15 0       \n",
       "[5,] 3.555736e-01 0       \n",
       "[6,] 3.555736e-01 0       "
      ]
     },
     "metadata": {},
     "output_type": "display_data"
    }
   ],
   "source": [
    "datax.norm = scale(datax)\n",
    "head(datax.norm)"
   ]
  },
  {
   "cell_type": "markdown",
   "metadata": {},
   "source": [
    "## Market Segmentation Models"
   ]
  },
  {
   "cell_type": "markdown",
   "metadata": {},
   "source": [
    "**Find 2-segment market segmentation model.**"
   ]
  },
  {
   "cell_type": "code",
   "execution_count": 6,
   "metadata": {
    "hide_input": true,
    "scrolled": true
   },
   "outputs": [
    {
     "data": {
      "text/html": [
       "<table>\n",
       "<thead><tr><th scope=col>WTDRD1</th><th scope=col>WTDR2D</th><th scope=col>DR1DRSTZ</th><th scope=col>DR1EXMER</th><th scope=col>DRABF</th><th scope=col>DRDINT</th><th scope=col>DR1DBIH</th><th scope=col>DR1DAY</th><th scope=col>DR1LANG</th><th scope=col>DR1MNRSP</th><th scope=col>DR1HELPD</th><th scope=col>DBQ095Z</th><th scope=col>DBD100</th><th scope=col>DRQSPREP</th><th scope=col>DR1STY</th><th scope=col>DR1SKY</th><th scope=col>DRQSDIET</th><th scope=col>DR1TNUMF</th><th scope=col>DR1TKCAL</th><th scope=col>DR1TPROT</th><th scope=col>DR1TCARB</th><th scope=col>DR1TSUGR</th><th scope=col>DR1TFIBE</th><th scope=col>DR1TTFAT</th><th scope=col>DR1TSFAT</th><th scope=col>DR1TMFAT</th><th scope=col>DR1TPFAT</th><th scope=col>DR1TCHOL</th><th scope=col>DR1TATOC</th><th scope=col>DR1TATOA</th><th scope=col>DR1TRET</th><th scope=col>DR1TVARA</th><th scope=col>DR1TACAR</th><th scope=col>DR1TBCAR</th><th scope=col>DR1TCRYP</th><th scope=col>DR1TLYCO</th><th scope=col>DR1TLZ</th><th scope=col>...</th><th scope=col>DRD370D</th><th scope=col>DRD370DQ</th><th scope=col>DRD370E</th><th scope=col>DRD370EQ</th><th scope=col>DRD370F</th><th scope=col>DRD370FQ</th><th scope=col>DRD370G</th><th scope=col>DRD370GQ</th><th scope=col>DRD370H</th><th scope=col>DRD370HQ</th><th scope=col>DRD370I</th><th scope=col>DRD370IQ</th><th scope=col>DRD370J</th><th scope=col>DRD370JQ</th><th scope=col>DRD370K</th><th scope=col>DRD370KQ</th><th scope=col>DRD370L</th><th scope=col>DRD370LQ</th><th scope=col>DRD370M</th><th scope=col>DRD370MQ</th><th scope=col>DRD370N</th><th scope=col>DRD370NQ</th><th scope=col>DRD370O</th><th scope=col>DRD370OQ</th><th scope=col>DRD370P</th><th scope=col>DRD370PQ</th><th scope=col>DRD370Q</th><th scope=col>DRD370QQ</th><th scope=col>DRD370R</th><th scope=col>DRD370RQ</th><th scope=col>DRD370S</th><th scope=col>DRD370SQ</th><th scope=col>DRD370T</th><th scope=col>DRD370TQ</th><th scope=col>DRD370U</th><th scope=col>DRD370UQ</th><th scope=col>cluster.2</th></tr></thead>\n",
       "<tbody>\n",
       "\t<tr><td> 16888.33</td><td> 12930.89</td><td>1        </td><td>49       </td><td>2        </td><td>2        </td><td> 6       </td><td>2        </td><td>1        </td><td>1        </td><td>13       </td><td>3        </td><td>2.000000 </td><td>4        </td><td>2        </td><td>2.180249 </td><td>2        </td><td>11       </td><td>1574     </td><td> 43.63   </td><td>239.59   </td><td>176.47   </td><td>10.8     </td><td> 52.81   </td><td>17.819   </td><td>18.493   </td><td> 8.829   </td><td> 209     </td><td> 3.92    </td><td>0        </td><td>  70     </td><td> 110     </td><td> 60      </td><td> 304     </td><td>278      </td><td>1398     </td><td> 430     </td><td>...      </td><td>1.838508 </td><td>2.042322 </td><td>1.890842 </td><td>1.881932 </td><td>1.949814 </td><td>2.373541 </td><td>1.962507 </td><td>1.84375  </td><td>1.981254 </td><td>2.1875   </td><td>1.97891  </td><td>1.685185 </td><td>1.997657 </td><td>1.666667 </td><td>1.971295 </td><td>2.020408 </td><td>1.993165 </td><td>2.028571 </td><td>1.653583 </td><td>2.476325 </td><td>1.958016 </td><td>2.237209 </td><td>1.983011 </td><td>1.666667 </td><td>1.998047 </td><td>1.5      </td><td>1.988088 </td><td>1.557377 </td><td>1.966608 </td><td>1.766082 </td><td>1.994728 </td><td>2.481481 </td><td>1.742628 </td><td>2.622155 </td><td>1.938098 </td><td>2.400631 </td><td>2        </td></tr>\n",
       "\t<tr><td> 17932.14</td><td> 12684.15</td><td>1        </td><td>59       </td><td>2        </td><td>2        </td><td> 4       </td><td>1        </td><td>1        </td><td>1        </td><td>13       </td><td>1        </td><td>2.000000 </td><td>3        </td><td>1        </td><td>1.000000 </td><td>2        </td><td> 8       </td><td>5062     </td><td>338.13   </td><td>423.78   </td><td> 44.99   </td><td>16.7     </td><td>124.29   </td><td>53.408   </td><td>35.481   </td><td>20.505   </td><td>2584     </td><td>20.94    </td><td>0        </td><td>1477     </td><td>1488     </td><td>  0      </td><td> 145     </td><td> 12      </td><td>   0     </td><td> 899     </td><td>...      </td><td>2.000000 </td><td>2.042322 </td><td>2.000000 </td><td>1.881932 </td><td>2.000000 </td><td>2.373541 </td><td>2.000000 </td><td>1.84375  </td><td>2.000000 </td><td>2.1875   </td><td>2.00000  </td><td>1.685185 </td><td>2.000000 </td><td>1.666667 </td><td>1.000000 </td><td>1.000000 </td><td>2.000000 </td><td>2.028571 </td><td>2.000000 </td><td>2.476325 </td><td>2.000000 </td><td>2.237209 </td><td>2.000000 </td><td>1.666667 </td><td>2.000000 </td><td>1.5      </td><td>2.000000 </td><td>1.557377 </td><td>2.000000 </td><td>1.766082 </td><td>2.000000 </td><td>2.481481 </td><td>2.000000 </td><td>2.622155 </td><td>2.000000 </td><td>2.400631 </td><td>1        </td></tr>\n",
       "\t<tr><td> 59641.81</td><td> 39394.24</td><td>1        </td><td>49       </td><td>2        </td><td>2        </td><td>18       </td><td>6        </td><td>1        </td><td>1        </td><td>13       </td><td>1        </td><td>1.000000 </td><td>2        </td><td>2        </td><td>2.180249 </td><td>1        </td><td>27       </td><td>1743     </td><td> 64.61   </td><td>224.39   </td><td>102.90   </td><td> 9.9     </td><td> 65.97   </td><td>25.263   </td><td>20.902   </td><td>12.953   </td><td>  88     </td><td> 8.87    </td><td>0        </td><td> 616     </td><td> 655     </td><td> 21      </td><td> 449     </td><td> 35      </td><td> 515     </td><td> 300     </td><td>...      </td><td>1.838508 </td><td>2.042322 </td><td>1.890842 </td><td>1.881932 </td><td>1.949814 </td><td>2.373541 </td><td>1.962507 </td><td>1.84375  </td><td>1.981254 </td><td>2.1875   </td><td>1.97891  </td><td>1.685185 </td><td>1.997657 </td><td>1.666667 </td><td>1.971295 </td><td>2.020408 </td><td>1.993165 </td><td>2.028571 </td><td>1.653583 </td><td>2.476325 </td><td>1.958016 </td><td>2.237209 </td><td>1.983011 </td><td>1.666667 </td><td>1.998047 </td><td>1.5      </td><td>1.988088 </td><td>1.557377 </td><td>1.966608 </td><td>1.766082 </td><td>1.994728 </td><td>2.481481 </td><td>1.742628 </td><td>2.622155 </td><td>1.938098 </td><td>2.400631 </td><td>2        </td></tr>\n",
       "\t<tr><td>142203.07</td><td>125966.37</td><td>1        </td><td>54       </td><td>2        </td><td>2        </td><td>21       </td><td>3        </td><td>1        </td><td>1        </td><td>12       </td><td>1        </td><td>1.000000 </td><td>3        </td><td>2        </td><td>2.180249 </td><td>2        </td><td>19       </td><td>1490     </td><td> 77.75   </td><td>162.92   </td><td> 80.58   </td><td>10.6     </td><td> 58.27   </td><td>23.511   </td><td>16.986   </td><td> 9.617   </td><td> 187     </td><td> 2.16    </td><td>0        </td><td> 515     </td><td> 545     </td><td> 20      </td><td> 237     </td><td>223      </td><td>   0     </td><td> 583     </td><td>...      </td><td>1.838508 </td><td>2.042322 </td><td>1.890842 </td><td>1.881932 </td><td>1.949814 </td><td>2.373541 </td><td>1.962507 </td><td>1.84375  </td><td>1.981254 </td><td>2.1875   </td><td>1.97891  </td><td>1.685185 </td><td>1.997657 </td><td>1.666667 </td><td>1.971295 </td><td>2.020408 </td><td>1.993165 </td><td>2.028571 </td><td>1.653583 </td><td>2.476325 </td><td>1.958016 </td><td>2.237209 </td><td>1.983011 </td><td>1.666667 </td><td>1.998047 </td><td>1.5      </td><td>1.988088 </td><td>1.557377 </td><td>1.966608 </td><td>1.766082 </td><td>1.994728 </td><td>2.481481 </td><td>1.742628 </td><td>2.622155 </td><td>1.938098 </td><td>2.400631 </td><td>2        </td></tr>\n",
       "\t<tr><td> 59052.36</td><td> 39004.89</td><td>1        </td><td>63       </td><td>2        </td><td>2        </td><td>18       </td><td>1        </td><td>1        </td><td>1        </td><td>13       </td><td>4        </td><td>1.652899 </td><td>4        </td><td>2        </td><td>2.180249 </td><td>1        </td><td> 7       </td><td>1421     </td><td> 55.24   </td><td>178.20   </td><td> 87.78   </td><td>12.3     </td><td> 55.36   </td><td> 4.479   </td><td>26.216   </td><td> 1.263   </td><td>  41     </td><td>53.17    </td><td>0        </td><td> 738     </td><td> 863     </td><td>  0      </td><td>1476     </td><td>  0      </td><td>   0     </td><td>   0     </td><td>...      </td><td>2.000000 </td><td>2.042322 </td><td>2.000000 </td><td>1.881932 </td><td>2.000000 </td><td>2.373541 </td><td>2.000000 </td><td>1.84375  </td><td>2.000000 </td><td>2.1875   </td><td>2.00000  </td><td>1.685185 </td><td>2.000000 </td><td>1.666667 </td><td>2.000000 </td><td>2.020408 </td><td>2.000000 </td><td>2.028571 </td><td>2.000000 </td><td>2.476325 </td><td>2.000000 </td><td>2.237209 </td><td>2.000000 </td><td>1.666667 </td><td>2.000000 </td><td>1.5      </td><td>2.000000 </td><td>1.557377 </td><td>2.000000 </td><td>1.766082 </td><td>2.000000 </td><td>2.481481 </td><td>2.000000 </td><td>2.622155 </td><td>2.000000 </td><td>2.400631 </td><td>2        </td></tr>\n",
       "\t<tr><td> 49890.83</td><td>     0.00</td><td>1        </td><td>49       </td><td>2        </td><td>1        </td><td>11       </td><td>3        </td><td>1        </td><td>1        </td><td>13       </td><td>1        </td><td>3.000000 </td><td>3        </td><td>1        </td><td>1.000000 </td><td>2        </td><td>17       </td><td>1785     </td><td> 55.11   </td><td>189.59   </td><td> 81.75   </td><td>22.6     </td><td> 93.92   </td><td>22.155   </td><td>40.013   </td><td>23.550   </td><td> 534     </td><td>12.30    </td><td>0        </td><td> 272     </td><td> 355     </td><td>172      </td><td> 776     </td><td>300      </td><td>2339     </td><td>2101     </td><td>...      </td><td>2.000000 </td><td>2.042322 </td><td>1.000000 </td><td>1.000000 </td><td>2.000000 </td><td>2.373541 </td><td>2.000000 </td><td>1.84375  </td><td>2.000000 </td><td>2.1875   </td><td>2.00000  </td><td>1.685185 </td><td>2.000000 </td><td>1.666667 </td><td>2.000000 </td><td>2.020408 </td><td>2.000000 </td><td>2.028571 </td><td>2.000000 </td><td>2.476325 </td><td>2.000000 </td><td>2.237209 </td><td>2.000000 </td><td>1.666667 </td><td>2.000000 </td><td>1.5      </td><td>2.000000 </td><td>1.557377 </td><td>2.000000 </td><td>1.766082 </td><td>2.000000 </td><td>2.481481 </td><td>2.000000 </td><td>2.622155 </td><td>2.000000 </td><td>2.400631 </td><td>2        </td></tr>\n",
       "</tbody>\n",
       "</table>\n"
      ],
      "text/latex": [
       "\\begin{tabular}{r|lllllllllllllllllllllllllllllllllllllllllllllllllllllllllllllllllllllllllllllllllllllllllllllllllllllllllllllllllllllllllllllllllllllllllllllllllllllllll}\n",
       " WTDRD1 & WTDR2D & DR1DRSTZ & DR1EXMER & DRABF & DRDINT & DR1DBIH & DR1DAY & DR1LANG & DR1MNRSP & DR1HELPD & DBQ095Z & DBD100 & DRQSPREP & DR1STY & DR1SKY & DRQSDIET & DR1TNUMF & DR1TKCAL & DR1TPROT & DR1TCARB & DR1TSUGR & DR1TFIBE & DR1TTFAT & DR1TSFAT & DR1TMFAT & DR1TPFAT & DR1TCHOL & DR1TATOC & DR1TATOA & DR1TRET & DR1TVARA & DR1TACAR & DR1TBCAR & DR1TCRYP & DR1TLYCO & DR1TLZ & ... & DRD370D & DRD370DQ & DRD370E & DRD370EQ & DRD370F & DRD370FQ & DRD370G & DRD370GQ & DRD370H & DRD370HQ & DRD370I & DRD370IQ & DRD370J & DRD370JQ & DRD370K & DRD370KQ & DRD370L & DRD370LQ & DRD370M & DRD370MQ & DRD370N & DRD370NQ & DRD370O & DRD370OQ & DRD370P & DRD370PQ & DRD370Q & DRD370QQ & DRD370R & DRD370RQ & DRD370S & DRD370SQ & DRD370T & DRD370TQ & DRD370U & DRD370UQ & cluster.2\\\\\n",
       "\\hline\n",
       "\t  16888.33 &  12930.89 & 1         & 49        & 2         & 2         &  6        & 2         & 1         & 1         & 13        & 3         & 2.000000  & 4         & 2         & 2.180249  & 2         & 11        & 1574      &  43.63    & 239.59    & 176.47    & 10.8      &  52.81    & 17.819    & 18.493    &  8.829    &  209      &  3.92     & 0         &   70      &  110      &  60       &  304      & 278       & 1398      &  430      & ...       & 1.838508  & 2.042322  & 1.890842  & 1.881932  & 1.949814  & 2.373541  & 1.962507  & 1.84375   & 1.981254  & 2.1875    & 1.97891   & 1.685185  & 1.997657  & 1.666667  & 1.971295  & 2.020408  & 1.993165  & 2.028571  & 1.653583  & 2.476325  & 1.958016  & 2.237209  & 1.983011  & 1.666667  & 1.998047  & 1.5       & 1.988088  & 1.557377  & 1.966608  & 1.766082  & 1.994728  & 2.481481  & 1.742628  & 2.622155  & 1.938098  & 2.400631  & 2        \\\\\n",
       "\t  17932.14 &  12684.15 & 1         & 59        & 2         & 2         &  4        & 1         & 1         & 1         & 13        & 1         & 2.000000  & 3         & 1         & 1.000000  & 2         &  8        & 5062      & 338.13    & 423.78    &  44.99    & 16.7      & 124.29    & 53.408    & 35.481    & 20.505    & 2584      & 20.94     & 0         & 1477      & 1488      &   0       &  145      &  12       &    0      &  899      & ...       & 2.000000  & 2.042322  & 2.000000  & 1.881932  & 2.000000  & 2.373541  & 2.000000  & 1.84375   & 2.000000  & 2.1875    & 2.00000   & 1.685185  & 2.000000  & 1.666667  & 1.000000  & 1.000000  & 2.000000  & 2.028571  & 2.000000  & 2.476325  & 2.000000  & 2.237209  & 2.000000  & 1.666667  & 2.000000  & 1.5       & 2.000000  & 1.557377  & 2.000000  & 1.766082  & 2.000000  & 2.481481  & 2.000000  & 2.622155  & 2.000000  & 2.400631  & 1        \\\\\n",
       "\t  59641.81 &  39394.24 & 1         & 49        & 2         & 2         & 18        & 6         & 1         & 1         & 13        & 1         & 1.000000  & 2         & 2         & 2.180249  & 1         & 27        & 1743      &  64.61    & 224.39    & 102.90    &  9.9      &  65.97    & 25.263    & 20.902    & 12.953    &   88      &  8.87     & 0         &  616      &  655      &  21       &  449      &  35       &  515      &  300      & ...       & 1.838508  & 2.042322  & 1.890842  & 1.881932  & 1.949814  & 2.373541  & 1.962507  & 1.84375   & 1.981254  & 2.1875    & 1.97891   & 1.685185  & 1.997657  & 1.666667  & 1.971295  & 2.020408  & 1.993165  & 2.028571  & 1.653583  & 2.476325  & 1.958016  & 2.237209  & 1.983011  & 1.666667  & 1.998047  & 1.5       & 1.988088  & 1.557377  & 1.966608  & 1.766082  & 1.994728  & 2.481481  & 1.742628  & 2.622155  & 1.938098  & 2.400631  & 2        \\\\\n",
       "\t 142203.07 & 125966.37 & 1         & 54        & 2         & 2         & 21        & 3         & 1         & 1         & 12        & 1         & 1.000000  & 3         & 2         & 2.180249  & 2         & 19        & 1490      &  77.75    & 162.92    &  80.58    & 10.6      &  58.27    & 23.511    & 16.986    &  9.617    &  187      &  2.16     & 0         &  515      &  545      &  20       &  237      & 223       &    0      &  583      & ...       & 1.838508  & 2.042322  & 1.890842  & 1.881932  & 1.949814  & 2.373541  & 1.962507  & 1.84375   & 1.981254  & 2.1875    & 1.97891   & 1.685185  & 1.997657  & 1.666667  & 1.971295  & 2.020408  & 1.993165  & 2.028571  & 1.653583  & 2.476325  & 1.958016  & 2.237209  & 1.983011  & 1.666667  & 1.998047  & 1.5       & 1.988088  & 1.557377  & 1.966608  & 1.766082  & 1.994728  & 2.481481  & 1.742628  & 2.622155  & 1.938098  & 2.400631  & 2        \\\\\n",
       "\t  59052.36 &  39004.89 & 1         & 63        & 2         & 2         & 18        & 1         & 1         & 1         & 13        & 4         & 1.652899  & 4         & 2         & 2.180249  & 1         &  7        & 1421      &  55.24    & 178.20    &  87.78    & 12.3      &  55.36    &  4.479    & 26.216    &  1.263    &   41      & 53.17     & 0         &  738      &  863      &   0       & 1476      &   0       &    0      &    0      & ...       & 2.000000  & 2.042322  & 2.000000  & 1.881932  & 2.000000  & 2.373541  & 2.000000  & 1.84375   & 2.000000  & 2.1875    & 2.00000   & 1.685185  & 2.000000  & 1.666667  & 2.000000  & 2.020408  & 2.000000  & 2.028571  & 2.000000  & 2.476325  & 2.000000  & 2.237209  & 2.000000  & 1.666667  & 2.000000  & 1.5       & 2.000000  & 1.557377  & 2.000000  & 1.766082  & 2.000000  & 2.481481  & 2.000000  & 2.622155  & 2.000000  & 2.400631  & 2        \\\\\n",
       "\t  49890.83 &      0.00 & 1         & 49        & 2         & 1         & 11        & 3         & 1         & 1         & 13        & 1         & 3.000000  & 3         & 1         & 1.000000  & 2         & 17        & 1785      &  55.11    & 189.59    &  81.75    & 22.6      &  93.92    & 22.155    & 40.013    & 23.550    &  534      & 12.30     & 0         &  272      &  355      & 172       &  776      & 300       & 2339      & 2101      & ...       & 2.000000  & 2.042322  & 1.000000  & 1.000000  & 2.000000  & 2.373541  & 2.000000  & 1.84375   & 2.000000  & 2.1875    & 2.00000   & 1.685185  & 2.000000  & 1.666667  & 2.000000  & 2.020408  & 2.000000  & 2.028571  & 2.000000  & 2.476325  & 2.000000  & 2.237209  & 2.000000  & 1.666667  & 2.000000  & 1.5       & 2.000000  & 1.557377  & 2.000000  & 1.766082  & 2.000000  & 2.481481  & 2.000000  & 2.622155  & 2.000000  & 2.400631  & 2        \\\\\n",
       "\\end{tabular}\n"
      ],
      "text/markdown": [
       "\n",
       "| WTDRD1 | WTDR2D | DR1DRSTZ | DR1EXMER | DRABF | DRDINT | DR1DBIH | DR1DAY | DR1LANG | DR1MNRSP | DR1HELPD | DBQ095Z | DBD100 | DRQSPREP | DR1STY | DR1SKY | DRQSDIET | DR1TNUMF | DR1TKCAL | DR1TPROT | DR1TCARB | DR1TSUGR | DR1TFIBE | DR1TTFAT | DR1TSFAT | DR1TMFAT | DR1TPFAT | DR1TCHOL | DR1TATOC | DR1TATOA | DR1TRET | DR1TVARA | DR1TACAR | DR1TBCAR | DR1TCRYP | DR1TLYCO | DR1TLZ | ... | DRD370D | DRD370DQ | DRD370E | DRD370EQ | DRD370F | DRD370FQ | DRD370G | DRD370GQ | DRD370H | DRD370HQ | DRD370I | DRD370IQ | DRD370J | DRD370JQ | DRD370K | DRD370KQ | DRD370L | DRD370LQ | DRD370M | DRD370MQ | DRD370N | DRD370NQ | DRD370O | DRD370OQ | DRD370P | DRD370PQ | DRD370Q | DRD370QQ | DRD370R | DRD370RQ | DRD370S | DRD370SQ | DRD370T | DRD370TQ | DRD370U | DRD370UQ | cluster.2 |\n",
       "|---|---|---|---|---|---|---|---|---|---|---|---|---|---|---|---|---|---|---|---|---|---|---|---|---|---|---|---|---|---|---|---|---|---|---|---|---|---|---|---|---|---|---|---|---|---|---|---|---|---|---|---|---|---|---|---|---|---|---|---|---|---|---|---|---|---|---|---|---|---|---|---|---|---|---|\n",
       "|  16888.33 |  12930.89 | 1         | 49        | 2         | 2         |  6        | 2         | 1         | 1         | 13        | 3         | 2.000000  | 4         | 2         | 2.180249  | 2         | 11        | 1574      |  43.63    | 239.59    | 176.47    | 10.8      |  52.81    | 17.819    | 18.493    |  8.829    |  209      |  3.92     | 0         |   70      |  110      |  60       |  304      | 278       | 1398      |  430      | ...       | 1.838508  | 2.042322  | 1.890842  | 1.881932  | 1.949814  | 2.373541  | 1.962507  | 1.84375   | 1.981254  | 2.1875    | 1.97891   | 1.685185  | 1.997657  | 1.666667  | 1.971295  | 2.020408  | 1.993165  | 2.028571  | 1.653583  | 2.476325  | 1.958016  | 2.237209  | 1.983011  | 1.666667  | 1.998047  | 1.5       | 1.988088  | 1.557377  | 1.966608  | 1.766082  | 1.994728  | 2.481481  | 1.742628  | 2.622155  | 1.938098  | 2.400631  | 2         |\n",
       "|  17932.14 |  12684.15 | 1         | 59        | 2         | 2         |  4        | 1         | 1         | 1         | 13        | 1         | 2.000000  | 3         | 1         | 1.000000  | 2         |  8        | 5062      | 338.13    | 423.78    |  44.99    | 16.7      | 124.29    | 53.408    | 35.481    | 20.505    | 2584      | 20.94     | 0         | 1477      | 1488      |   0       |  145      |  12       |    0      |  899      | ...       | 2.000000  | 2.042322  | 2.000000  | 1.881932  | 2.000000  | 2.373541  | 2.000000  | 1.84375   | 2.000000  | 2.1875    | 2.00000   | 1.685185  | 2.000000  | 1.666667  | 1.000000  | 1.000000  | 2.000000  | 2.028571  | 2.000000  | 2.476325  | 2.000000  | 2.237209  | 2.000000  | 1.666667  | 2.000000  | 1.5       | 2.000000  | 1.557377  | 2.000000  | 1.766082  | 2.000000  | 2.481481  | 2.000000  | 2.622155  | 2.000000  | 2.400631  | 1         |\n",
       "|  59641.81 |  39394.24 | 1         | 49        | 2         | 2         | 18        | 6         | 1         | 1         | 13        | 1         | 1.000000  | 2         | 2         | 2.180249  | 1         | 27        | 1743      |  64.61    | 224.39    | 102.90    |  9.9      |  65.97    | 25.263    | 20.902    | 12.953    |   88      |  8.87     | 0         |  616      |  655      |  21       |  449      |  35       |  515      |  300      | ...       | 1.838508  | 2.042322  | 1.890842  | 1.881932  | 1.949814  | 2.373541  | 1.962507  | 1.84375   | 1.981254  | 2.1875    | 1.97891   | 1.685185  | 1.997657  | 1.666667  | 1.971295  | 2.020408  | 1.993165  | 2.028571  | 1.653583  | 2.476325  | 1.958016  | 2.237209  | 1.983011  | 1.666667  | 1.998047  | 1.5       | 1.988088  | 1.557377  | 1.966608  | 1.766082  | 1.994728  | 2.481481  | 1.742628  | 2.622155  | 1.938098  | 2.400631  | 2         |\n",
       "| 142203.07 | 125966.37 | 1         | 54        | 2         | 2         | 21        | 3         | 1         | 1         | 12        | 1         | 1.000000  | 3         | 2         | 2.180249  | 2         | 19        | 1490      |  77.75    | 162.92    |  80.58    | 10.6      |  58.27    | 23.511    | 16.986    |  9.617    |  187      |  2.16     | 0         |  515      |  545      |  20       |  237      | 223       |    0      |  583      | ...       | 1.838508  | 2.042322  | 1.890842  | 1.881932  | 1.949814  | 2.373541  | 1.962507  | 1.84375   | 1.981254  | 2.1875    | 1.97891   | 1.685185  | 1.997657  | 1.666667  | 1.971295  | 2.020408  | 1.993165  | 2.028571  | 1.653583  | 2.476325  | 1.958016  | 2.237209  | 1.983011  | 1.666667  | 1.998047  | 1.5       | 1.988088  | 1.557377  | 1.966608  | 1.766082  | 1.994728  | 2.481481  | 1.742628  | 2.622155  | 1.938098  | 2.400631  | 2         |\n",
       "|  59052.36 |  39004.89 | 1         | 63        | 2         | 2         | 18        | 1         | 1         | 1         | 13        | 4         | 1.652899  | 4         | 2         | 2.180249  | 1         |  7        | 1421      |  55.24    | 178.20    |  87.78    | 12.3      |  55.36    |  4.479    | 26.216    |  1.263    |   41      | 53.17     | 0         |  738      |  863      |   0       | 1476      |   0       |    0      |    0      | ...       | 2.000000  | 2.042322  | 2.000000  | 1.881932  | 2.000000  | 2.373541  | 2.000000  | 1.84375   | 2.000000  | 2.1875    | 2.00000   | 1.685185  | 2.000000  | 1.666667  | 2.000000  | 2.020408  | 2.000000  | 2.028571  | 2.000000  | 2.476325  | 2.000000  | 2.237209  | 2.000000  | 1.666667  | 2.000000  | 1.5       | 2.000000  | 1.557377  | 2.000000  | 1.766082  | 2.000000  | 2.481481  | 2.000000  | 2.622155  | 2.000000  | 2.400631  | 2         |\n",
       "|  49890.83 |      0.00 | 1         | 49        | 2         | 1         | 11        | 3         | 1         | 1         | 13        | 1         | 3.000000  | 3         | 1         | 1.000000  | 2         | 17        | 1785      |  55.11    | 189.59    |  81.75    | 22.6      |  93.92    | 22.155    | 40.013    | 23.550    |  534      | 12.30     | 0         |  272      |  355      | 172       |  776      | 300       | 2339      | 2101      | ...       | 2.000000  | 2.042322  | 1.000000  | 1.000000  | 2.000000  | 2.373541  | 2.000000  | 1.84375   | 2.000000  | 2.1875    | 2.00000   | 1.685185  | 2.000000  | 1.666667  | 2.000000  | 2.020408  | 2.000000  | 2.028571  | 2.000000  | 2.476325  | 2.000000  | 2.237209  | 2.000000  | 1.666667  | 2.000000  | 1.5       | 2.000000  | 1.557377  | 2.000000  | 1.766082  | 2.000000  | 2.481481  | 2.000000  | 2.622155  | 2.000000  | 2.400631  | 2         |\n",
       "\n"
      ],
      "text/plain": [
       "  WTDRD1    WTDR2D    DR1DRSTZ DR1EXMER DRABF DRDINT DR1DBIH DR1DAY DR1LANG\n",
       "1  16888.33  12930.89 1        49       2     2       6      2      1      \n",
       "2  17932.14  12684.15 1        59       2     2       4      1      1      \n",
       "3  59641.81  39394.24 1        49       2     2      18      6      1      \n",
       "4 142203.07 125966.37 1        54       2     2      21      3      1      \n",
       "5  59052.36  39004.89 1        63       2     2      18      1      1      \n",
       "6  49890.83      0.00 1        49       2     1      11      3      1      \n",
       "  DR1MNRSP DR1HELPD DBQ095Z DBD100   DRQSPREP DR1STY DR1SKY   DRQSDIET DR1TNUMF\n",
       "1 1        13       3       2.000000 4        2      2.180249 2        11      \n",
       "2 1        13       1       2.000000 3        1      1.000000 2         8      \n",
       "3 1        13       1       1.000000 2        2      2.180249 1        27      \n",
       "4 1        12       1       1.000000 3        2      2.180249 2        19      \n",
       "5 1        13       4       1.652899 4        2      2.180249 1         7      \n",
       "6 1        13       1       3.000000 3        1      1.000000 2        17      \n",
       "  DR1TKCAL DR1TPROT DR1TCARB DR1TSUGR DR1TFIBE DR1TTFAT DR1TSFAT DR1TMFAT\n",
       "1 1574      43.63   239.59   176.47   10.8      52.81   17.819   18.493  \n",
       "2 5062     338.13   423.78    44.99   16.7     124.29   53.408   35.481  \n",
       "3 1743      64.61   224.39   102.90    9.9      65.97   25.263   20.902  \n",
       "4 1490      77.75   162.92    80.58   10.6      58.27   23.511   16.986  \n",
       "5 1421      55.24   178.20    87.78   12.3      55.36    4.479   26.216  \n",
       "6 1785      55.11   189.59    81.75   22.6      93.92   22.155   40.013  \n",
       "  DR1TPFAT DR1TCHOL DR1TATOC DR1TATOA DR1TRET DR1TVARA DR1TACAR DR1TBCAR\n",
       "1  8.829    209      3.92    0          70     110      60       304    \n",
       "2 20.505   2584     20.94    0        1477    1488       0       145    \n",
       "3 12.953     88      8.87    0         616     655      21       449    \n",
       "4  9.617    187      2.16    0         515     545      20       237    \n",
       "5  1.263     41     53.17    0         738     863       0      1476    \n",
       "6 23.550    534     12.30    0         272     355     172       776    \n",
       "  DR1TCRYP DR1TLYCO DR1TLZ ... DRD370D  DRD370DQ DRD370E  DRD370EQ DRD370F \n",
       "1 278      1398      430   ... 1.838508 2.042322 1.890842 1.881932 1.949814\n",
       "2  12         0      899   ... 2.000000 2.042322 2.000000 1.881932 2.000000\n",
       "3  35       515      300   ... 1.838508 2.042322 1.890842 1.881932 1.949814\n",
       "4 223         0      583   ... 1.838508 2.042322 1.890842 1.881932 1.949814\n",
       "5   0         0        0   ... 2.000000 2.042322 2.000000 1.881932 2.000000\n",
       "6 300      2339     2101   ... 2.000000 2.042322 1.000000 1.000000 2.000000\n",
       "  DRD370FQ DRD370G  DRD370GQ DRD370H  DRD370HQ DRD370I DRD370IQ DRD370J \n",
       "1 2.373541 1.962507 1.84375  1.981254 2.1875   1.97891 1.685185 1.997657\n",
       "2 2.373541 2.000000 1.84375  2.000000 2.1875   2.00000 1.685185 2.000000\n",
       "3 2.373541 1.962507 1.84375  1.981254 2.1875   1.97891 1.685185 1.997657\n",
       "4 2.373541 1.962507 1.84375  1.981254 2.1875   1.97891 1.685185 1.997657\n",
       "5 2.373541 2.000000 1.84375  2.000000 2.1875   2.00000 1.685185 2.000000\n",
       "6 2.373541 2.000000 1.84375  2.000000 2.1875   2.00000 1.685185 2.000000\n",
       "  DRD370JQ DRD370K  DRD370KQ DRD370L  DRD370LQ DRD370M  DRD370MQ DRD370N \n",
       "1 1.666667 1.971295 2.020408 1.993165 2.028571 1.653583 2.476325 1.958016\n",
       "2 1.666667 1.000000 1.000000 2.000000 2.028571 2.000000 2.476325 2.000000\n",
       "3 1.666667 1.971295 2.020408 1.993165 2.028571 1.653583 2.476325 1.958016\n",
       "4 1.666667 1.971295 2.020408 1.993165 2.028571 1.653583 2.476325 1.958016\n",
       "5 1.666667 2.000000 2.020408 2.000000 2.028571 2.000000 2.476325 2.000000\n",
       "6 1.666667 2.000000 2.020408 2.000000 2.028571 2.000000 2.476325 2.000000\n",
       "  DRD370NQ DRD370O  DRD370OQ DRD370P  DRD370PQ DRD370Q  DRD370QQ DRD370R \n",
       "1 2.237209 1.983011 1.666667 1.998047 1.5      1.988088 1.557377 1.966608\n",
       "2 2.237209 2.000000 1.666667 2.000000 1.5      2.000000 1.557377 2.000000\n",
       "3 2.237209 1.983011 1.666667 1.998047 1.5      1.988088 1.557377 1.966608\n",
       "4 2.237209 1.983011 1.666667 1.998047 1.5      1.988088 1.557377 1.966608\n",
       "5 2.237209 2.000000 1.666667 2.000000 1.5      2.000000 1.557377 2.000000\n",
       "6 2.237209 2.000000 1.666667 2.000000 1.5      2.000000 1.557377 2.000000\n",
       "  DRD370RQ DRD370S  DRD370SQ DRD370T  DRD370TQ DRD370U  DRD370UQ cluster.2\n",
       "1 1.766082 1.994728 2.481481 1.742628 2.622155 1.938098 2.400631 2        \n",
       "2 1.766082 2.000000 2.481481 2.000000 2.622155 2.000000 2.400631 1        \n",
       "3 1.766082 1.994728 2.481481 1.742628 2.622155 1.938098 2.400631 2        \n",
       "4 1.766082 1.994728 2.481481 1.742628 2.622155 1.938098 2.400631 2        \n",
       "5 1.766082 2.000000 2.481481 2.000000 2.622155 2.000000 2.400631 2        \n",
       "6 1.766082 2.000000 2.481481 2.000000 2.622155 2.000000 2.400631 2        "
      ]
     },
     "metadata": {},
     "output_type": "display_data"
    }
   ],
   "source": [
    "set.seed(12345)\n",
    "cluster.2 = kmeans(datax.norm, 2, nstart=1)$cluster # k-means\n",
    "\n",
    "data.2 = datax\n",
    "data.2$cluster.2 = cluster.2\n",
    "head(data.2)"
   ]
  },
  {
   "cell_type": "markdown",
   "metadata": {},
   "source": [
    "**Find a 3-segment market segmentation model.**"
   ]
  },
  {
   "cell_type": "code",
   "execution_count": 7,
   "metadata": {
    "hide_input": false,
    "scrolled": false
   },
   "outputs": [
    {
     "data": {
      "text/html": [
       "<table>\n",
       "<thead><tr><th scope=col>WTDRD1</th><th scope=col>WTDR2D</th><th scope=col>DR1DRSTZ</th><th scope=col>DR1EXMER</th><th scope=col>DRABF</th><th scope=col>DRDINT</th><th scope=col>DR1DBIH</th><th scope=col>DR1DAY</th><th scope=col>DR1LANG</th><th scope=col>DR1MNRSP</th><th scope=col>DR1HELPD</th><th scope=col>DBQ095Z</th><th scope=col>DBD100</th><th scope=col>DRQSPREP</th><th scope=col>DR1STY</th><th scope=col>DR1SKY</th><th scope=col>DRQSDIET</th><th scope=col>DR1TNUMF</th><th scope=col>DR1TKCAL</th><th scope=col>DR1TPROT</th><th scope=col>DR1TCARB</th><th scope=col>DR1TSUGR</th><th scope=col>DR1TFIBE</th><th scope=col>DR1TTFAT</th><th scope=col>DR1TSFAT</th><th scope=col>DR1TMFAT</th><th scope=col>DR1TPFAT</th><th scope=col>DR1TCHOL</th><th scope=col>DR1TATOC</th><th scope=col>DR1TATOA</th><th scope=col>DR1TRET</th><th scope=col>DR1TVARA</th><th scope=col>DR1TACAR</th><th scope=col>DR1TBCAR</th><th scope=col>DR1TCRYP</th><th scope=col>DR1TLYCO</th><th scope=col>DR1TLZ</th><th scope=col>...</th><th scope=col>DRD370D</th><th scope=col>DRD370DQ</th><th scope=col>DRD370E</th><th scope=col>DRD370EQ</th><th scope=col>DRD370F</th><th scope=col>DRD370FQ</th><th scope=col>DRD370G</th><th scope=col>DRD370GQ</th><th scope=col>DRD370H</th><th scope=col>DRD370HQ</th><th scope=col>DRD370I</th><th scope=col>DRD370IQ</th><th scope=col>DRD370J</th><th scope=col>DRD370JQ</th><th scope=col>DRD370K</th><th scope=col>DRD370KQ</th><th scope=col>DRD370L</th><th scope=col>DRD370LQ</th><th scope=col>DRD370M</th><th scope=col>DRD370MQ</th><th scope=col>DRD370N</th><th scope=col>DRD370NQ</th><th scope=col>DRD370O</th><th scope=col>DRD370OQ</th><th scope=col>DRD370P</th><th scope=col>DRD370PQ</th><th scope=col>DRD370Q</th><th scope=col>DRD370QQ</th><th scope=col>DRD370R</th><th scope=col>DRD370RQ</th><th scope=col>DRD370S</th><th scope=col>DRD370SQ</th><th scope=col>DRD370T</th><th scope=col>DRD370TQ</th><th scope=col>DRD370U</th><th scope=col>DRD370UQ</th><th scope=col>cluster.3</th></tr></thead>\n",
       "<tbody>\n",
       "\t<tr><td> 16888.33</td><td> 12930.89</td><td>1        </td><td>49       </td><td>2        </td><td>2        </td><td> 6       </td><td>2        </td><td>1        </td><td>1        </td><td>13       </td><td>3        </td><td>2.000000 </td><td>4        </td><td>2        </td><td>2.180249 </td><td>2        </td><td>11       </td><td>1574     </td><td> 43.63   </td><td>239.59   </td><td>176.47   </td><td>10.8     </td><td> 52.81   </td><td>17.819   </td><td>18.493   </td><td> 8.829   </td><td> 209     </td><td> 3.92    </td><td>0        </td><td>  70     </td><td> 110     </td><td> 60      </td><td> 304     </td><td>278      </td><td>1398     </td><td> 430     </td><td>...      </td><td>1.838508 </td><td>2.042322 </td><td>1.890842 </td><td>1.881932 </td><td>1.949814 </td><td>2.373541 </td><td>1.962507 </td><td>1.84375  </td><td>1.981254 </td><td>2.1875   </td><td>1.97891  </td><td>1.685185 </td><td>1.997657 </td><td>1.666667 </td><td>1.971295 </td><td>2.020408 </td><td>1.993165 </td><td>2.028571 </td><td>1.653583 </td><td>2.476325 </td><td>1.958016 </td><td>2.237209 </td><td>1.983011 </td><td>1.666667 </td><td>1.998047 </td><td>1.5      </td><td>1.988088 </td><td>1.557377 </td><td>1.966608 </td><td>1.766082 </td><td>1.994728 </td><td>2.481481 </td><td>1.742628 </td><td>2.622155 </td><td>1.938098 </td><td>2.400631 </td><td>2        </td></tr>\n",
       "\t<tr><td> 17932.14</td><td> 12684.15</td><td>1        </td><td>59       </td><td>2        </td><td>2        </td><td> 4       </td><td>1        </td><td>1        </td><td>1        </td><td>13       </td><td>1        </td><td>2.000000 </td><td>3        </td><td>1        </td><td>1.000000 </td><td>2        </td><td> 8       </td><td>5062     </td><td>338.13   </td><td>423.78   </td><td> 44.99   </td><td>16.7     </td><td>124.29   </td><td>53.408   </td><td>35.481   </td><td>20.505   </td><td>2584     </td><td>20.94    </td><td>0        </td><td>1477     </td><td>1488     </td><td>  0      </td><td> 145     </td><td> 12      </td><td>   0     </td><td> 899     </td><td>...      </td><td>2.000000 </td><td>2.042322 </td><td>2.000000 </td><td>1.881932 </td><td>2.000000 </td><td>2.373541 </td><td>2.000000 </td><td>1.84375  </td><td>2.000000 </td><td>2.1875   </td><td>2.00000  </td><td>1.685185 </td><td>2.000000 </td><td>1.666667 </td><td>1.000000 </td><td>1.000000 </td><td>2.000000 </td><td>2.028571 </td><td>2.000000 </td><td>2.476325 </td><td>2.000000 </td><td>2.237209 </td><td>2.000000 </td><td>1.666667 </td><td>2.000000 </td><td>1.5      </td><td>2.000000 </td><td>1.557377 </td><td>2.000000 </td><td>1.766082 </td><td>2.000000 </td><td>2.481481 </td><td>2.000000 </td><td>2.622155 </td><td>2.000000 </td><td>2.400631 </td><td>3        </td></tr>\n",
       "\t<tr><td> 59641.81</td><td> 39394.24</td><td>1        </td><td>49       </td><td>2        </td><td>2        </td><td>18       </td><td>6        </td><td>1        </td><td>1        </td><td>13       </td><td>1        </td><td>1.000000 </td><td>2        </td><td>2        </td><td>2.180249 </td><td>1        </td><td>27       </td><td>1743     </td><td> 64.61   </td><td>224.39   </td><td>102.90   </td><td> 9.9     </td><td> 65.97   </td><td>25.263   </td><td>20.902   </td><td>12.953   </td><td>  88     </td><td> 8.87    </td><td>0        </td><td> 616     </td><td> 655     </td><td> 21      </td><td> 449     </td><td> 35      </td><td> 515     </td><td> 300     </td><td>...      </td><td>1.838508 </td><td>2.042322 </td><td>1.890842 </td><td>1.881932 </td><td>1.949814 </td><td>2.373541 </td><td>1.962507 </td><td>1.84375  </td><td>1.981254 </td><td>2.1875   </td><td>1.97891  </td><td>1.685185 </td><td>1.997657 </td><td>1.666667 </td><td>1.971295 </td><td>2.020408 </td><td>1.993165 </td><td>2.028571 </td><td>1.653583 </td><td>2.476325 </td><td>1.958016 </td><td>2.237209 </td><td>1.983011 </td><td>1.666667 </td><td>1.998047 </td><td>1.5      </td><td>1.988088 </td><td>1.557377 </td><td>1.966608 </td><td>1.766082 </td><td>1.994728 </td><td>2.481481 </td><td>1.742628 </td><td>2.622155 </td><td>1.938098 </td><td>2.400631 </td><td>2        </td></tr>\n",
       "\t<tr><td>142203.07</td><td>125966.37</td><td>1        </td><td>54       </td><td>2        </td><td>2        </td><td>21       </td><td>3        </td><td>1        </td><td>1        </td><td>12       </td><td>1        </td><td>1.000000 </td><td>3        </td><td>2        </td><td>2.180249 </td><td>2        </td><td>19       </td><td>1490     </td><td> 77.75   </td><td>162.92   </td><td> 80.58   </td><td>10.6     </td><td> 58.27   </td><td>23.511   </td><td>16.986   </td><td> 9.617   </td><td> 187     </td><td> 2.16    </td><td>0        </td><td> 515     </td><td> 545     </td><td> 20      </td><td> 237     </td><td>223      </td><td>   0     </td><td> 583     </td><td>...      </td><td>1.838508 </td><td>2.042322 </td><td>1.890842 </td><td>1.881932 </td><td>1.949814 </td><td>2.373541 </td><td>1.962507 </td><td>1.84375  </td><td>1.981254 </td><td>2.1875   </td><td>1.97891  </td><td>1.685185 </td><td>1.997657 </td><td>1.666667 </td><td>1.971295 </td><td>2.020408 </td><td>1.993165 </td><td>2.028571 </td><td>1.653583 </td><td>2.476325 </td><td>1.958016 </td><td>2.237209 </td><td>1.983011 </td><td>1.666667 </td><td>1.998047 </td><td>1.5      </td><td>1.988088 </td><td>1.557377 </td><td>1.966608 </td><td>1.766082 </td><td>1.994728 </td><td>2.481481 </td><td>1.742628 </td><td>2.622155 </td><td>1.938098 </td><td>2.400631 </td><td>2        </td></tr>\n",
       "\t<tr><td> 59052.36</td><td> 39004.89</td><td>1        </td><td>63       </td><td>2        </td><td>2        </td><td>18       </td><td>1        </td><td>1        </td><td>1        </td><td>13       </td><td>4        </td><td>1.652899 </td><td>4        </td><td>2        </td><td>2.180249 </td><td>1        </td><td> 7       </td><td>1421     </td><td> 55.24   </td><td>178.20   </td><td> 87.78   </td><td>12.3     </td><td> 55.36   </td><td> 4.479   </td><td>26.216   </td><td> 1.263   </td><td>  41     </td><td>53.17    </td><td>0        </td><td> 738     </td><td> 863     </td><td>  0      </td><td>1476     </td><td>  0      </td><td>   0     </td><td>   0     </td><td>...      </td><td>2.000000 </td><td>2.042322 </td><td>2.000000 </td><td>1.881932 </td><td>2.000000 </td><td>2.373541 </td><td>2.000000 </td><td>1.84375  </td><td>2.000000 </td><td>2.1875   </td><td>2.00000  </td><td>1.685185 </td><td>2.000000 </td><td>1.666667 </td><td>2.000000 </td><td>2.020408 </td><td>2.000000 </td><td>2.028571 </td><td>2.000000 </td><td>2.476325 </td><td>2.000000 </td><td>2.237209 </td><td>2.000000 </td><td>1.666667 </td><td>2.000000 </td><td>1.5      </td><td>2.000000 </td><td>1.557377 </td><td>2.000000 </td><td>1.766082 </td><td>2.000000 </td><td>2.481481 </td><td>2.000000 </td><td>2.622155 </td><td>2.000000 </td><td>2.400631 </td><td>2        </td></tr>\n",
       "\t<tr><td> 49890.83</td><td>     0.00</td><td>1        </td><td>49       </td><td>2        </td><td>1        </td><td>11       </td><td>3        </td><td>1        </td><td>1        </td><td>13       </td><td>1        </td><td>3.000000 </td><td>3        </td><td>1        </td><td>1.000000 </td><td>2        </td><td>17       </td><td>1785     </td><td> 55.11   </td><td>189.59   </td><td> 81.75   </td><td>22.6     </td><td> 93.92   </td><td>22.155   </td><td>40.013   </td><td>23.550   </td><td> 534     </td><td>12.30    </td><td>0        </td><td> 272     </td><td> 355     </td><td>172      </td><td> 776     </td><td>300      </td><td>2339     </td><td>2101     </td><td>...      </td><td>2.000000 </td><td>2.042322 </td><td>1.000000 </td><td>1.000000 </td><td>2.000000 </td><td>2.373541 </td><td>2.000000 </td><td>1.84375  </td><td>2.000000 </td><td>2.1875   </td><td>2.00000  </td><td>1.685185 </td><td>2.000000 </td><td>1.666667 </td><td>2.000000 </td><td>2.020408 </td><td>2.000000 </td><td>2.028571 </td><td>2.000000 </td><td>2.476325 </td><td>2.000000 </td><td>2.237209 </td><td>2.000000 </td><td>1.666667 </td><td>2.000000 </td><td>1.5      </td><td>2.000000 </td><td>1.557377 </td><td>2.000000 </td><td>1.766082 </td><td>2.000000 </td><td>2.481481 </td><td>2.000000 </td><td>2.622155 </td><td>2.000000 </td><td>2.400631 </td><td>1        </td></tr>\n",
       "</tbody>\n",
       "</table>\n"
      ],
      "text/latex": [
       "\\begin{tabular}{r|lllllllllllllllllllllllllllllllllllllllllllllllllllllllllllllllllllllllllllllllllllllllllllllllllllllllllllllllllllllllllllllllllllllllllllllllllllllllll}\n",
       " WTDRD1 & WTDR2D & DR1DRSTZ & DR1EXMER & DRABF & DRDINT & DR1DBIH & DR1DAY & DR1LANG & DR1MNRSP & DR1HELPD & DBQ095Z & DBD100 & DRQSPREP & DR1STY & DR1SKY & DRQSDIET & DR1TNUMF & DR1TKCAL & DR1TPROT & DR1TCARB & DR1TSUGR & DR1TFIBE & DR1TTFAT & DR1TSFAT & DR1TMFAT & DR1TPFAT & DR1TCHOL & DR1TATOC & DR1TATOA & DR1TRET & DR1TVARA & DR1TACAR & DR1TBCAR & DR1TCRYP & DR1TLYCO & DR1TLZ & ... & DRD370D & DRD370DQ & DRD370E & DRD370EQ & DRD370F & DRD370FQ & DRD370G & DRD370GQ & DRD370H & DRD370HQ & DRD370I & DRD370IQ & DRD370J & DRD370JQ & DRD370K & DRD370KQ & DRD370L & DRD370LQ & DRD370M & DRD370MQ & DRD370N & DRD370NQ & DRD370O & DRD370OQ & DRD370P & DRD370PQ & DRD370Q & DRD370QQ & DRD370R & DRD370RQ & DRD370S & DRD370SQ & DRD370T & DRD370TQ & DRD370U & DRD370UQ & cluster.3\\\\\n",
       "\\hline\n",
       "\t  16888.33 &  12930.89 & 1         & 49        & 2         & 2         &  6        & 2         & 1         & 1         & 13        & 3         & 2.000000  & 4         & 2         & 2.180249  & 2         & 11        & 1574      &  43.63    & 239.59    & 176.47    & 10.8      &  52.81    & 17.819    & 18.493    &  8.829    &  209      &  3.92     & 0         &   70      &  110      &  60       &  304      & 278       & 1398      &  430      & ...       & 1.838508  & 2.042322  & 1.890842  & 1.881932  & 1.949814  & 2.373541  & 1.962507  & 1.84375   & 1.981254  & 2.1875    & 1.97891   & 1.685185  & 1.997657  & 1.666667  & 1.971295  & 2.020408  & 1.993165  & 2.028571  & 1.653583  & 2.476325  & 1.958016  & 2.237209  & 1.983011  & 1.666667  & 1.998047  & 1.5       & 1.988088  & 1.557377  & 1.966608  & 1.766082  & 1.994728  & 2.481481  & 1.742628  & 2.622155  & 1.938098  & 2.400631  & 2        \\\\\n",
       "\t  17932.14 &  12684.15 & 1         & 59        & 2         & 2         &  4        & 1         & 1         & 1         & 13        & 1         & 2.000000  & 3         & 1         & 1.000000  & 2         &  8        & 5062      & 338.13    & 423.78    &  44.99    & 16.7      & 124.29    & 53.408    & 35.481    & 20.505    & 2584      & 20.94     & 0         & 1477      & 1488      &   0       &  145      &  12       &    0      &  899      & ...       & 2.000000  & 2.042322  & 2.000000  & 1.881932  & 2.000000  & 2.373541  & 2.000000  & 1.84375   & 2.000000  & 2.1875    & 2.00000   & 1.685185  & 2.000000  & 1.666667  & 1.000000  & 1.000000  & 2.000000  & 2.028571  & 2.000000  & 2.476325  & 2.000000  & 2.237209  & 2.000000  & 1.666667  & 2.000000  & 1.5       & 2.000000  & 1.557377  & 2.000000  & 1.766082  & 2.000000  & 2.481481  & 2.000000  & 2.622155  & 2.000000  & 2.400631  & 3        \\\\\n",
       "\t  59641.81 &  39394.24 & 1         & 49        & 2         & 2         & 18        & 6         & 1         & 1         & 13        & 1         & 1.000000  & 2         & 2         & 2.180249  & 1         & 27        & 1743      &  64.61    & 224.39    & 102.90    &  9.9      &  65.97    & 25.263    & 20.902    & 12.953    &   88      &  8.87     & 0         &  616      &  655      &  21       &  449      &  35       &  515      &  300      & ...       & 1.838508  & 2.042322  & 1.890842  & 1.881932  & 1.949814  & 2.373541  & 1.962507  & 1.84375   & 1.981254  & 2.1875    & 1.97891   & 1.685185  & 1.997657  & 1.666667  & 1.971295  & 2.020408  & 1.993165  & 2.028571  & 1.653583  & 2.476325  & 1.958016  & 2.237209  & 1.983011  & 1.666667  & 1.998047  & 1.5       & 1.988088  & 1.557377  & 1.966608  & 1.766082  & 1.994728  & 2.481481  & 1.742628  & 2.622155  & 1.938098  & 2.400631  & 2        \\\\\n",
       "\t 142203.07 & 125966.37 & 1         & 54        & 2         & 2         & 21        & 3         & 1         & 1         & 12        & 1         & 1.000000  & 3         & 2         & 2.180249  & 2         & 19        & 1490      &  77.75    & 162.92    &  80.58    & 10.6      &  58.27    & 23.511    & 16.986    &  9.617    &  187      &  2.16     & 0         &  515      &  545      &  20       &  237      & 223       &    0      &  583      & ...       & 1.838508  & 2.042322  & 1.890842  & 1.881932  & 1.949814  & 2.373541  & 1.962507  & 1.84375   & 1.981254  & 2.1875    & 1.97891   & 1.685185  & 1.997657  & 1.666667  & 1.971295  & 2.020408  & 1.993165  & 2.028571  & 1.653583  & 2.476325  & 1.958016  & 2.237209  & 1.983011  & 1.666667  & 1.998047  & 1.5       & 1.988088  & 1.557377  & 1.966608  & 1.766082  & 1.994728  & 2.481481  & 1.742628  & 2.622155  & 1.938098  & 2.400631  & 2        \\\\\n",
       "\t  59052.36 &  39004.89 & 1         & 63        & 2         & 2         & 18        & 1         & 1         & 1         & 13        & 4         & 1.652899  & 4         & 2         & 2.180249  & 1         &  7        & 1421      &  55.24    & 178.20    &  87.78    & 12.3      &  55.36    &  4.479    & 26.216    &  1.263    &   41      & 53.17     & 0         &  738      &  863      &   0       & 1476      &   0       &    0      &    0      & ...       & 2.000000  & 2.042322  & 2.000000  & 1.881932  & 2.000000  & 2.373541  & 2.000000  & 1.84375   & 2.000000  & 2.1875    & 2.00000   & 1.685185  & 2.000000  & 1.666667  & 2.000000  & 2.020408  & 2.000000  & 2.028571  & 2.000000  & 2.476325  & 2.000000  & 2.237209  & 2.000000  & 1.666667  & 2.000000  & 1.5       & 2.000000  & 1.557377  & 2.000000  & 1.766082  & 2.000000  & 2.481481  & 2.000000  & 2.622155  & 2.000000  & 2.400631  & 2        \\\\\n",
       "\t  49890.83 &      0.00 & 1         & 49        & 2         & 1         & 11        & 3         & 1         & 1         & 13        & 1         & 3.000000  & 3         & 1         & 1.000000  & 2         & 17        & 1785      &  55.11    & 189.59    &  81.75    & 22.6      &  93.92    & 22.155    & 40.013    & 23.550    &  534      & 12.30     & 0         &  272      &  355      & 172       &  776      & 300       & 2339      & 2101      & ...       & 2.000000  & 2.042322  & 1.000000  & 1.000000  & 2.000000  & 2.373541  & 2.000000  & 1.84375   & 2.000000  & 2.1875    & 2.00000   & 1.685185  & 2.000000  & 1.666667  & 2.000000  & 2.020408  & 2.000000  & 2.028571  & 2.000000  & 2.476325  & 2.000000  & 2.237209  & 2.000000  & 1.666667  & 2.000000  & 1.5       & 2.000000  & 1.557377  & 2.000000  & 1.766082  & 2.000000  & 2.481481  & 2.000000  & 2.622155  & 2.000000  & 2.400631  & 1        \\\\\n",
       "\\end{tabular}\n"
      ],
      "text/markdown": [
       "\n",
       "| WTDRD1 | WTDR2D | DR1DRSTZ | DR1EXMER | DRABF | DRDINT | DR1DBIH | DR1DAY | DR1LANG | DR1MNRSP | DR1HELPD | DBQ095Z | DBD100 | DRQSPREP | DR1STY | DR1SKY | DRQSDIET | DR1TNUMF | DR1TKCAL | DR1TPROT | DR1TCARB | DR1TSUGR | DR1TFIBE | DR1TTFAT | DR1TSFAT | DR1TMFAT | DR1TPFAT | DR1TCHOL | DR1TATOC | DR1TATOA | DR1TRET | DR1TVARA | DR1TACAR | DR1TBCAR | DR1TCRYP | DR1TLYCO | DR1TLZ | ... | DRD370D | DRD370DQ | DRD370E | DRD370EQ | DRD370F | DRD370FQ | DRD370G | DRD370GQ | DRD370H | DRD370HQ | DRD370I | DRD370IQ | DRD370J | DRD370JQ | DRD370K | DRD370KQ | DRD370L | DRD370LQ | DRD370M | DRD370MQ | DRD370N | DRD370NQ | DRD370O | DRD370OQ | DRD370P | DRD370PQ | DRD370Q | DRD370QQ | DRD370R | DRD370RQ | DRD370S | DRD370SQ | DRD370T | DRD370TQ | DRD370U | DRD370UQ | cluster.3 |\n",
       "|---|---|---|---|---|---|---|---|---|---|---|---|---|---|---|---|---|---|---|---|---|---|---|---|---|---|---|---|---|---|---|---|---|---|---|---|---|---|---|---|---|---|---|---|---|---|---|---|---|---|---|---|---|---|---|---|---|---|---|---|---|---|---|---|---|---|---|---|---|---|---|---|---|---|---|\n",
       "|  16888.33 |  12930.89 | 1         | 49        | 2         | 2         |  6        | 2         | 1         | 1         | 13        | 3         | 2.000000  | 4         | 2         | 2.180249  | 2         | 11        | 1574      |  43.63    | 239.59    | 176.47    | 10.8      |  52.81    | 17.819    | 18.493    |  8.829    |  209      |  3.92     | 0         |   70      |  110      |  60       |  304      | 278       | 1398      |  430      | ...       | 1.838508  | 2.042322  | 1.890842  | 1.881932  | 1.949814  | 2.373541  | 1.962507  | 1.84375   | 1.981254  | 2.1875    | 1.97891   | 1.685185  | 1.997657  | 1.666667  | 1.971295  | 2.020408  | 1.993165  | 2.028571  | 1.653583  | 2.476325  | 1.958016  | 2.237209  | 1.983011  | 1.666667  | 1.998047  | 1.5       | 1.988088  | 1.557377  | 1.966608  | 1.766082  | 1.994728  | 2.481481  | 1.742628  | 2.622155  | 1.938098  | 2.400631  | 2         |\n",
       "|  17932.14 |  12684.15 | 1         | 59        | 2         | 2         |  4        | 1         | 1         | 1         | 13        | 1         | 2.000000  | 3         | 1         | 1.000000  | 2         |  8        | 5062      | 338.13    | 423.78    |  44.99    | 16.7      | 124.29    | 53.408    | 35.481    | 20.505    | 2584      | 20.94     | 0         | 1477      | 1488      |   0       |  145      |  12       |    0      |  899      | ...       | 2.000000  | 2.042322  | 2.000000  | 1.881932  | 2.000000  | 2.373541  | 2.000000  | 1.84375   | 2.000000  | 2.1875    | 2.00000   | 1.685185  | 2.000000  | 1.666667  | 1.000000  | 1.000000  | 2.000000  | 2.028571  | 2.000000  | 2.476325  | 2.000000  | 2.237209  | 2.000000  | 1.666667  | 2.000000  | 1.5       | 2.000000  | 1.557377  | 2.000000  | 1.766082  | 2.000000  | 2.481481  | 2.000000  | 2.622155  | 2.000000  | 2.400631  | 3         |\n",
       "|  59641.81 |  39394.24 | 1         | 49        | 2         | 2         | 18        | 6         | 1         | 1         | 13        | 1         | 1.000000  | 2         | 2         | 2.180249  | 1         | 27        | 1743      |  64.61    | 224.39    | 102.90    |  9.9      |  65.97    | 25.263    | 20.902    | 12.953    |   88      |  8.87     | 0         |  616      |  655      |  21       |  449      |  35       |  515      |  300      | ...       | 1.838508  | 2.042322  | 1.890842  | 1.881932  | 1.949814  | 2.373541  | 1.962507  | 1.84375   | 1.981254  | 2.1875    | 1.97891   | 1.685185  | 1.997657  | 1.666667  | 1.971295  | 2.020408  | 1.993165  | 2.028571  | 1.653583  | 2.476325  | 1.958016  | 2.237209  | 1.983011  | 1.666667  | 1.998047  | 1.5       | 1.988088  | 1.557377  | 1.966608  | 1.766082  | 1.994728  | 2.481481  | 1.742628  | 2.622155  | 1.938098  | 2.400631  | 2         |\n",
       "| 142203.07 | 125966.37 | 1         | 54        | 2         | 2         | 21        | 3         | 1         | 1         | 12        | 1         | 1.000000  | 3         | 2         | 2.180249  | 2         | 19        | 1490      |  77.75    | 162.92    |  80.58    | 10.6      |  58.27    | 23.511    | 16.986    |  9.617    |  187      |  2.16     | 0         |  515      |  545      |  20       |  237      | 223       |    0      |  583      | ...       | 1.838508  | 2.042322  | 1.890842  | 1.881932  | 1.949814  | 2.373541  | 1.962507  | 1.84375   | 1.981254  | 2.1875    | 1.97891   | 1.685185  | 1.997657  | 1.666667  | 1.971295  | 2.020408  | 1.993165  | 2.028571  | 1.653583  | 2.476325  | 1.958016  | 2.237209  | 1.983011  | 1.666667  | 1.998047  | 1.5       | 1.988088  | 1.557377  | 1.966608  | 1.766082  | 1.994728  | 2.481481  | 1.742628  | 2.622155  | 1.938098  | 2.400631  | 2         |\n",
       "|  59052.36 |  39004.89 | 1         | 63        | 2         | 2         | 18        | 1         | 1         | 1         | 13        | 4         | 1.652899  | 4         | 2         | 2.180249  | 1         |  7        | 1421      |  55.24    | 178.20    |  87.78    | 12.3      |  55.36    |  4.479    | 26.216    |  1.263    |   41      | 53.17     | 0         |  738      |  863      |   0       | 1476      |   0       |    0      |    0      | ...       | 2.000000  | 2.042322  | 2.000000  | 1.881932  | 2.000000  | 2.373541  | 2.000000  | 1.84375   | 2.000000  | 2.1875    | 2.00000   | 1.685185  | 2.000000  | 1.666667  | 2.000000  | 2.020408  | 2.000000  | 2.028571  | 2.000000  | 2.476325  | 2.000000  | 2.237209  | 2.000000  | 1.666667  | 2.000000  | 1.5       | 2.000000  | 1.557377  | 2.000000  | 1.766082  | 2.000000  | 2.481481  | 2.000000  | 2.622155  | 2.000000  | 2.400631  | 2         |\n",
       "|  49890.83 |      0.00 | 1         | 49        | 2         | 1         | 11        | 3         | 1         | 1         | 13        | 1         | 3.000000  | 3         | 1         | 1.000000  | 2         | 17        | 1785      |  55.11    | 189.59    |  81.75    | 22.6      |  93.92    | 22.155    | 40.013    | 23.550    |  534      | 12.30     | 0         |  272      |  355      | 172       |  776      | 300       | 2339      | 2101      | ...       | 2.000000  | 2.042322  | 1.000000  | 1.000000  | 2.000000  | 2.373541  | 2.000000  | 1.84375   | 2.000000  | 2.1875    | 2.00000   | 1.685185  | 2.000000  | 1.666667  | 2.000000  | 2.020408  | 2.000000  | 2.028571  | 2.000000  | 2.476325  | 2.000000  | 2.237209  | 2.000000  | 1.666667  | 2.000000  | 1.5       | 2.000000  | 1.557377  | 2.000000  | 1.766082  | 2.000000  | 2.481481  | 2.000000  | 2.622155  | 2.000000  | 2.400631  | 1         |\n",
       "\n"
      ],
      "text/plain": [
       "  WTDRD1    WTDR2D    DR1DRSTZ DR1EXMER DRABF DRDINT DR1DBIH DR1DAY DR1LANG\n",
       "1  16888.33  12930.89 1        49       2     2       6      2      1      \n",
       "2  17932.14  12684.15 1        59       2     2       4      1      1      \n",
       "3  59641.81  39394.24 1        49       2     2      18      6      1      \n",
       "4 142203.07 125966.37 1        54       2     2      21      3      1      \n",
       "5  59052.36  39004.89 1        63       2     2      18      1      1      \n",
       "6  49890.83      0.00 1        49       2     1      11      3      1      \n",
       "  DR1MNRSP DR1HELPD DBQ095Z DBD100   DRQSPREP DR1STY DR1SKY   DRQSDIET DR1TNUMF\n",
       "1 1        13       3       2.000000 4        2      2.180249 2        11      \n",
       "2 1        13       1       2.000000 3        1      1.000000 2         8      \n",
       "3 1        13       1       1.000000 2        2      2.180249 1        27      \n",
       "4 1        12       1       1.000000 3        2      2.180249 2        19      \n",
       "5 1        13       4       1.652899 4        2      2.180249 1         7      \n",
       "6 1        13       1       3.000000 3        1      1.000000 2        17      \n",
       "  DR1TKCAL DR1TPROT DR1TCARB DR1TSUGR DR1TFIBE DR1TTFAT DR1TSFAT DR1TMFAT\n",
       "1 1574      43.63   239.59   176.47   10.8      52.81   17.819   18.493  \n",
       "2 5062     338.13   423.78    44.99   16.7     124.29   53.408   35.481  \n",
       "3 1743      64.61   224.39   102.90    9.9      65.97   25.263   20.902  \n",
       "4 1490      77.75   162.92    80.58   10.6      58.27   23.511   16.986  \n",
       "5 1421      55.24   178.20    87.78   12.3      55.36    4.479   26.216  \n",
       "6 1785      55.11   189.59    81.75   22.6      93.92   22.155   40.013  \n",
       "  DR1TPFAT DR1TCHOL DR1TATOC DR1TATOA DR1TRET DR1TVARA DR1TACAR DR1TBCAR\n",
       "1  8.829    209      3.92    0          70     110      60       304    \n",
       "2 20.505   2584     20.94    0        1477    1488       0       145    \n",
       "3 12.953     88      8.87    0         616     655      21       449    \n",
       "4  9.617    187      2.16    0         515     545      20       237    \n",
       "5  1.263     41     53.17    0         738     863       0      1476    \n",
       "6 23.550    534     12.30    0         272     355     172       776    \n",
       "  DR1TCRYP DR1TLYCO DR1TLZ ... DRD370D  DRD370DQ DRD370E  DRD370EQ DRD370F \n",
       "1 278      1398      430   ... 1.838508 2.042322 1.890842 1.881932 1.949814\n",
       "2  12         0      899   ... 2.000000 2.042322 2.000000 1.881932 2.000000\n",
       "3  35       515      300   ... 1.838508 2.042322 1.890842 1.881932 1.949814\n",
       "4 223         0      583   ... 1.838508 2.042322 1.890842 1.881932 1.949814\n",
       "5   0         0        0   ... 2.000000 2.042322 2.000000 1.881932 2.000000\n",
       "6 300      2339     2101   ... 2.000000 2.042322 1.000000 1.000000 2.000000\n",
       "  DRD370FQ DRD370G  DRD370GQ DRD370H  DRD370HQ DRD370I DRD370IQ DRD370J \n",
       "1 2.373541 1.962507 1.84375  1.981254 2.1875   1.97891 1.685185 1.997657\n",
       "2 2.373541 2.000000 1.84375  2.000000 2.1875   2.00000 1.685185 2.000000\n",
       "3 2.373541 1.962507 1.84375  1.981254 2.1875   1.97891 1.685185 1.997657\n",
       "4 2.373541 1.962507 1.84375  1.981254 2.1875   1.97891 1.685185 1.997657\n",
       "5 2.373541 2.000000 1.84375  2.000000 2.1875   2.00000 1.685185 2.000000\n",
       "6 2.373541 2.000000 1.84375  2.000000 2.1875   2.00000 1.685185 2.000000\n",
       "  DRD370JQ DRD370K  DRD370KQ DRD370L  DRD370LQ DRD370M  DRD370MQ DRD370N \n",
       "1 1.666667 1.971295 2.020408 1.993165 2.028571 1.653583 2.476325 1.958016\n",
       "2 1.666667 1.000000 1.000000 2.000000 2.028571 2.000000 2.476325 2.000000\n",
       "3 1.666667 1.971295 2.020408 1.993165 2.028571 1.653583 2.476325 1.958016\n",
       "4 1.666667 1.971295 2.020408 1.993165 2.028571 1.653583 2.476325 1.958016\n",
       "5 1.666667 2.000000 2.020408 2.000000 2.028571 2.000000 2.476325 2.000000\n",
       "6 1.666667 2.000000 2.020408 2.000000 2.028571 2.000000 2.476325 2.000000\n",
       "  DRD370NQ DRD370O  DRD370OQ DRD370P  DRD370PQ DRD370Q  DRD370QQ DRD370R \n",
       "1 2.237209 1.983011 1.666667 1.998047 1.5      1.988088 1.557377 1.966608\n",
       "2 2.237209 2.000000 1.666667 2.000000 1.5      2.000000 1.557377 2.000000\n",
       "3 2.237209 1.983011 1.666667 1.998047 1.5      1.988088 1.557377 1.966608\n",
       "4 2.237209 1.983011 1.666667 1.998047 1.5      1.988088 1.557377 1.966608\n",
       "5 2.237209 2.000000 1.666667 2.000000 1.5      2.000000 1.557377 2.000000\n",
       "6 2.237209 2.000000 1.666667 2.000000 1.5      2.000000 1.557377 2.000000\n",
       "  DRD370RQ DRD370S  DRD370SQ DRD370T  DRD370TQ DRD370U  DRD370UQ cluster.3\n",
       "1 1.766082 1.994728 2.481481 1.742628 2.622155 1.938098 2.400631 2        \n",
       "2 1.766082 2.000000 2.481481 2.000000 2.622155 2.000000 2.400631 3        \n",
       "3 1.766082 1.994728 2.481481 1.742628 2.622155 1.938098 2.400631 2        \n",
       "4 1.766082 1.994728 2.481481 1.742628 2.622155 1.938098 2.400631 2        \n",
       "5 1.766082 2.000000 2.481481 2.000000 2.622155 2.000000 2.400631 2        \n",
       "6 1.766082 2.000000 2.481481 2.000000 2.622155 2.000000 2.400631 1        "
      ]
     },
     "metadata": {},
     "output_type": "display_data"
    }
   ],
   "source": [
    "set.seed(12345)\n",
    "cluster.3 = kmeans(datax.norm, 3, nstart=1)$cluster # k-means\n",
    "\n",
    "data.3 = datax\n",
    "data.3$cluster.3 = cluster.3\n",
    "head(data.3)"
   ]
  },
  {
   "cell_type": "markdown",
   "metadata": {},
   "source": [
    "**Find a 4-segment market segmentation model.**"
   ]
  },
  {
   "cell_type": "code",
   "execution_count": 8,
   "metadata": {
    "hide_input": false,
    "scrolled": false
   },
   "outputs": [
    {
     "data": {
      "text/html": [
       "<table>\n",
       "<thead><tr><th scope=col>WTDRD1</th><th scope=col>WTDR2D</th><th scope=col>DR1DRSTZ</th><th scope=col>DR1EXMER</th><th scope=col>DRABF</th><th scope=col>DRDINT</th><th scope=col>DR1DBIH</th><th scope=col>DR1DAY</th><th scope=col>DR1LANG</th><th scope=col>DR1MNRSP</th><th scope=col>DR1HELPD</th><th scope=col>DBQ095Z</th><th scope=col>DBD100</th><th scope=col>DRQSPREP</th><th scope=col>DR1STY</th><th scope=col>DR1SKY</th><th scope=col>DRQSDIET</th><th scope=col>DR1TNUMF</th><th scope=col>DR1TKCAL</th><th scope=col>DR1TPROT</th><th scope=col>DR1TCARB</th><th scope=col>DR1TSUGR</th><th scope=col>DR1TFIBE</th><th scope=col>DR1TTFAT</th><th scope=col>DR1TSFAT</th><th scope=col>DR1TMFAT</th><th scope=col>DR1TPFAT</th><th scope=col>DR1TCHOL</th><th scope=col>DR1TATOC</th><th scope=col>DR1TATOA</th><th scope=col>DR1TRET</th><th scope=col>DR1TVARA</th><th scope=col>DR1TACAR</th><th scope=col>DR1TBCAR</th><th scope=col>DR1TCRYP</th><th scope=col>DR1TLYCO</th><th scope=col>DR1TLZ</th><th scope=col>...</th><th scope=col>DRD370D</th><th scope=col>DRD370DQ</th><th scope=col>DRD370E</th><th scope=col>DRD370EQ</th><th scope=col>DRD370F</th><th scope=col>DRD370FQ</th><th scope=col>DRD370G</th><th scope=col>DRD370GQ</th><th scope=col>DRD370H</th><th scope=col>DRD370HQ</th><th scope=col>DRD370I</th><th scope=col>DRD370IQ</th><th scope=col>DRD370J</th><th scope=col>DRD370JQ</th><th scope=col>DRD370K</th><th scope=col>DRD370KQ</th><th scope=col>DRD370L</th><th scope=col>DRD370LQ</th><th scope=col>DRD370M</th><th scope=col>DRD370MQ</th><th scope=col>DRD370N</th><th scope=col>DRD370NQ</th><th scope=col>DRD370O</th><th scope=col>DRD370OQ</th><th scope=col>DRD370P</th><th scope=col>DRD370PQ</th><th scope=col>DRD370Q</th><th scope=col>DRD370QQ</th><th scope=col>DRD370R</th><th scope=col>DRD370RQ</th><th scope=col>DRD370S</th><th scope=col>DRD370SQ</th><th scope=col>DRD370T</th><th scope=col>DRD370TQ</th><th scope=col>DRD370U</th><th scope=col>DRD370UQ</th><th scope=col>cluster.4</th></tr></thead>\n",
       "<tbody>\n",
       "\t<tr><td> 16888.33</td><td> 12930.89</td><td>1        </td><td>49       </td><td>2        </td><td>2        </td><td> 6       </td><td>2        </td><td>1        </td><td>1        </td><td>13       </td><td>3        </td><td>2.000000 </td><td>4        </td><td>2        </td><td>2.180249 </td><td>2        </td><td>11       </td><td>1574     </td><td> 43.63   </td><td>239.59   </td><td>176.47   </td><td>10.8     </td><td> 52.81   </td><td>17.819   </td><td>18.493   </td><td> 8.829   </td><td> 209     </td><td> 3.92    </td><td>0        </td><td>  70     </td><td> 110     </td><td> 60      </td><td> 304     </td><td>278      </td><td>1398     </td><td> 430     </td><td>...      </td><td>1.838508 </td><td>2.042322 </td><td>1.890842 </td><td>1.881932 </td><td>1.949814 </td><td>2.373541 </td><td>1.962507 </td><td>1.84375  </td><td>1.981254 </td><td>2.1875   </td><td>1.97891  </td><td>1.685185 </td><td>1.997657 </td><td>1.666667 </td><td>1.971295 </td><td>2.020408 </td><td>1.993165 </td><td>2.028571 </td><td>1.653583 </td><td>2.476325 </td><td>1.958016 </td><td>2.237209 </td><td>1.983011 </td><td>1.666667 </td><td>1.998047 </td><td>1.5      </td><td>1.988088 </td><td>1.557377 </td><td>1.966608 </td><td>1.766082 </td><td>1.994728 </td><td>2.481481 </td><td>1.742628 </td><td>2.622155 </td><td>1.938098 </td><td>2.400631 </td><td>2        </td></tr>\n",
       "\t<tr><td> 17932.14</td><td> 12684.15</td><td>1        </td><td>59       </td><td>2        </td><td>2        </td><td> 4       </td><td>1        </td><td>1        </td><td>1        </td><td>13       </td><td>1        </td><td>2.000000 </td><td>3        </td><td>1        </td><td>1.000000 </td><td>2        </td><td> 8       </td><td>5062     </td><td>338.13   </td><td>423.78   </td><td> 44.99   </td><td>16.7     </td><td>124.29   </td><td>53.408   </td><td>35.481   </td><td>20.505   </td><td>2584     </td><td>20.94    </td><td>0        </td><td>1477     </td><td>1488     </td><td>  0      </td><td> 145     </td><td> 12      </td><td>   0     </td><td> 899     </td><td>...      </td><td>2.000000 </td><td>2.042322 </td><td>2.000000 </td><td>1.881932 </td><td>2.000000 </td><td>2.373541 </td><td>2.000000 </td><td>1.84375  </td><td>2.000000 </td><td>2.1875   </td><td>2.00000  </td><td>1.685185 </td><td>2.000000 </td><td>1.666667 </td><td>1.000000 </td><td>1.000000 </td><td>2.000000 </td><td>2.028571 </td><td>2.000000 </td><td>2.476325 </td><td>2.000000 </td><td>2.237209 </td><td>2.000000 </td><td>1.666667 </td><td>2.000000 </td><td>1.5      </td><td>2.000000 </td><td>1.557377 </td><td>2.000000 </td><td>1.766082 </td><td>2.000000 </td><td>2.481481 </td><td>2.000000 </td><td>2.622155 </td><td>2.000000 </td><td>2.400631 </td><td>3        </td></tr>\n",
       "\t<tr><td> 59641.81</td><td> 39394.24</td><td>1        </td><td>49       </td><td>2        </td><td>2        </td><td>18       </td><td>6        </td><td>1        </td><td>1        </td><td>13       </td><td>1        </td><td>1.000000 </td><td>2        </td><td>2        </td><td>2.180249 </td><td>1        </td><td>27       </td><td>1743     </td><td> 64.61   </td><td>224.39   </td><td>102.90   </td><td> 9.9     </td><td> 65.97   </td><td>25.263   </td><td>20.902   </td><td>12.953   </td><td>  88     </td><td> 8.87    </td><td>0        </td><td> 616     </td><td> 655     </td><td> 21      </td><td> 449     </td><td> 35      </td><td> 515     </td><td> 300     </td><td>...      </td><td>1.838508 </td><td>2.042322 </td><td>1.890842 </td><td>1.881932 </td><td>1.949814 </td><td>2.373541 </td><td>1.962507 </td><td>1.84375  </td><td>1.981254 </td><td>2.1875   </td><td>1.97891  </td><td>1.685185 </td><td>1.997657 </td><td>1.666667 </td><td>1.971295 </td><td>2.020408 </td><td>1.993165 </td><td>2.028571 </td><td>1.653583 </td><td>2.476325 </td><td>1.958016 </td><td>2.237209 </td><td>1.983011 </td><td>1.666667 </td><td>1.998047 </td><td>1.5      </td><td>1.988088 </td><td>1.557377 </td><td>1.966608 </td><td>1.766082 </td><td>1.994728 </td><td>2.481481 </td><td>1.742628 </td><td>2.622155 </td><td>1.938098 </td><td>2.400631 </td><td>2        </td></tr>\n",
       "\t<tr><td>142203.07</td><td>125966.37</td><td>1        </td><td>54       </td><td>2        </td><td>2        </td><td>21       </td><td>3        </td><td>1        </td><td>1        </td><td>12       </td><td>1        </td><td>1.000000 </td><td>3        </td><td>2        </td><td>2.180249 </td><td>2        </td><td>19       </td><td>1490     </td><td> 77.75   </td><td>162.92   </td><td> 80.58   </td><td>10.6     </td><td> 58.27   </td><td>23.511   </td><td>16.986   </td><td> 9.617   </td><td> 187     </td><td> 2.16    </td><td>0        </td><td> 515     </td><td> 545     </td><td> 20      </td><td> 237     </td><td>223      </td><td>   0     </td><td> 583     </td><td>...      </td><td>1.838508 </td><td>2.042322 </td><td>1.890842 </td><td>1.881932 </td><td>1.949814 </td><td>2.373541 </td><td>1.962507 </td><td>1.84375  </td><td>1.981254 </td><td>2.1875   </td><td>1.97891  </td><td>1.685185 </td><td>1.997657 </td><td>1.666667 </td><td>1.971295 </td><td>2.020408 </td><td>1.993165 </td><td>2.028571 </td><td>1.653583 </td><td>2.476325 </td><td>1.958016 </td><td>2.237209 </td><td>1.983011 </td><td>1.666667 </td><td>1.998047 </td><td>1.5      </td><td>1.988088 </td><td>1.557377 </td><td>1.966608 </td><td>1.766082 </td><td>1.994728 </td><td>2.481481 </td><td>1.742628 </td><td>2.622155 </td><td>1.938098 </td><td>2.400631 </td><td>2        </td></tr>\n",
       "\t<tr><td> 59052.36</td><td> 39004.89</td><td>1        </td><td>63       </td><td>2        </td><td>2        </td><td>18       </td><td>1        </td><td>1        </td><td>1        </td><td>13       </td><td>4        </td><td>1.652899 </td><td>4        </td><td>2        </td><td>2.180249 </td><td>1        </td><td> 7       </td><td>1421     </td><td> 55.24   </td><td>178.20   </td><td> 87.78   </td><td>12.3     </td><td> 55.36   </td><td> 4.479   </td><td>26.216   </td><td> 1.263   </td><td>  41     </td><td>53.17    </td><td>0        </td><td> 738     </td><td> 863     </td><td>  0      </td><td>1476     </td><td>  0      </td><td>   0     </td><td>   0     </td><td>...      </td><td>2.000000 </td><td>2.042322 </td><td>2.000000 </td><td>1.881932 </td><td>2.000000 </td><td>2.373541 </td><td>2.000000 </td><td>1.84375  </td><td>2.000000 </td><td>2.1875   </td><td>2.00000  </td><td>1.685185 </td><td>2.000000 </td><td>1.666667 </td><td>2.000000 </td><td>2.020408 </td><td>2.000000 </td><td>2.028571 </td><td>2.000000 </td><td>2.476325 </td><td>2.000000 </td><td>2.237209 </td><td>2.000000 </td><td>1.666667 </td><td>2.000000 </td><td>1.5      </td><td>2.000000 </td><td>1.557377 </td><td>2.000000 </td><td>1.766082 </td><td>2.000000 </td><td>2.481481 </td><td>2.000000 </td><td>2.622155 </td><td>2.000000 </td><td>2.400631 </td><td>2        </td></tr>\n",
       "\t<tr><td> 49890.83</td><td>     0.00</td><td>1        </td><td>49       </td><td>2        </td><td>1        </td><td>11       </td><td>3        </td><td>1        </td><td>1        </td><td>13       </td><td>1        </td><td>3.000000 </td><td>3        </td><td>1        </td><td>1.000000 </td><td>2        </td><td>17       </td><td>1785     </td><td> 55.11   </td><td>189.59   </td><td> 81.75   </td><td>22.6     </td><td> 93.92   </td><td>22.155   </td><td>40.013   </td><td>23.550   </td><td> 534     </td><td>12.30    </td><td>0        </td><td> 272     </td><td> 355     </td><td>172      </td><td> 776     </td><td>300      </td><td>2339     </td><td>2101     </td><td>...      </td><td>2.000000 </td><td>2.042322 </td><td>1.000000 </td><td>1.000000 </td><td>2.000000 </td><td>2.373541 </td><td>2.000000 </td><td>1.84375  </td><td>2.000000 </td><td>2.1875   </td><td>2.00000  </td><td>1.685185 </td><td>2.000000 </td><td>1.666667 </td><td>2.000000 </td><td>2.020408 </td><td>2.000000 </td><td>2.028571 </td><td>2.000000 </td><td>2.476325 </td><td>2.000000 </td><td>2.237209 </td><td>2.000000 </td><td>1.666667 </td><td>2.000000 </td><td>1.5      </td><td>2.000000 </td><td>1.557377 </td><td>2.000000 </td><td>1.766082 </td><td>2.000000 </td><td>2.481481 </td><td>2.000000 </td><td>2.622155 </td><td>2.000000 </td><td>2.400631 </td><td>1        </td></tr>\n",
       "</tbody>\n",
       "</table>\n"
      ],
      "text/latex": [
       "\\begin{tabular}{r|lllllllllllllllllllllllllllllllllllllllllllllllllllllllllllllllllllllllllllllllllllllllllllllllllllllllllllllllllllllllllllllllllllllllllllllllllllllllll}\n",
       " WTDRD1 & WTDR2D & DR1DRSTZ & DR1EXMER & DRABF & DRDINT & DR1DBIH & DR1DAY & DR1LANG & DR1MNRSP & DR1HELPD & DBQ095Z & DBD100 & DRQSPREP & DR1STY & DR1SKY & DRQSDIET & DR1TNUMF & DR1TKCAL & DR1TPROT & DR1TCARB & DR1TSUGR & DR1TFIBE & DR1TTFAT & DR1TSFAT & DR1TMFAT & DR1TPFAT & DR1TCHOL & DR1TATOC & DR1TATOA & DR1TRET & DR1TVARA & DR1TACAR & DR1TBCAR & DR1TCRYP & DR1TLYCO & DR1TLZ & ... & DRD370D & DRD370DQ & DRD370E & DRD370EQ & DRD370F & DRD370FQ & DRD370G & DRD370GQ & DRD370H & DRD370HQ & DRD370I & DRD370IQ & DRD370J & DRD370JQ & DRD370K & DRD370KQ & DRD370L & DRD370LQ & DRD370M & DRD370MQ & DRD370N & DRD370NQ & DRD370O & DRD370OQ & DRD370P & DRD370PQ & DRD370Q & DRD370QQ & DRD370R & DRD370RQ & DRD370S & DRD370SQ & DRD370T & DRD370TQ & DRD370U & DRD370UQ & cluster.4\\\\\n",
       "\\hline\n",
       "\t  16888.33 &  12930.89 & 1         & 49        & 2         & 2         &  6        & 2         & 1         & 1         & 13        & 3         & 2.000000  & 4         & 2         & 2.180249  & 2         & 11        & 1574      &  43.63    & 239.59    & 176.47    & 10.8      &  52.81    & 17.819    & 18.493    &  8.829    &  209      &  3.92     & 0         &   70      &  110      &  60       &  304      & 278       & 1398      &  430      & ...       & 1.838508  & 2.042322  & 1.890842  & 1.881932  & 1.949814  & 2.373541  & 1.962507  & 1.84375   & 1.981254  & 2.1875    & 1.97891   & 1.685185  & 1.997657  & 1.666667  & 1.971295  & 2.020408  & 1.993165  & 2.028571  & 1.653583  & 2.476325  & 1.958016  & 2.237209  & 1.983011  & 1.666667  & 1.998047  & 1.5       & 1.988088  & 1.557377  & 1.966608  & 1.766082  & 1.994728  & 2.481481  & 1.742628  & 2.622155  & 1.938098  & 2.400631  & 2        \\\\\n",
       "\t  17932.14 &  12684.15 & 1         & 59        & 2         & 2         &  4        & 1         & 1         & 1         & 13        & 1         & 2.000000  & 3         & 1         & 1.000000  & 2         &  8        & 5062      & 338.13    & 423.78    &  44.99    & 16.7      & 124.29    & 53.408    & 35.481    & 20.505    & 2584      & 20.94     & 0         & 1477      & 1488      &   0       &  145      &  12       &    0      &  899      & ...       & 2.000000  & 2.042322  & 2.000000  & 1.881932  & 2.000000  & 2.373541  & 2.000000  & 1.84375   & 2.000000  & 2.1875    & 2.00000   & 1.685185  & 2.000000  & 1.666667  & 1.000000  & 1.000000  & 2.000000  & 2.028571  & 2.000000  & 2.476325  & 2.000000  & 2.237209  & 2.000000  & 1.666667  & 2.000000  & 1.5       & 2.000000  & 1.557377  & 2.000000  & 1.766082  & 2.000000  & 2.481481  & 2.000000  & 2.622155  & 2.000000  & 2.400631  & 3        \\\\\n",
       "\t  59641.81 &  39394.24 & 1         & 49        & 2         & 2         & 18        & 6         & 1         & 1         & 13        & 1         & 1.000000  & 2         & 2         & 2.180249  & 1         & 27        & 1743      &  64.61    & 224.39    & 102.90    &  9.9      &  65.97    & 25.263    & 20.902    & 12.953    &   88      &  8.87     & 0         &  616      &  655      &  21       &  449      &  35       &  515      &  300      & ...       & 1.838508  & 2.042322  & 1.890842  & 1.881932  & 1.949814  & 2.373541  & 1.962507  & 1.84375   & 1.981254  & 2.1875    & 1.97891   & 1.685185  & 1.997657  & 1.666667  & 1.971295  & 2.020408  & 1.993165  & 2.028571  & 1.653583  & 2.476325  & 1.958016  & 2.237209  & 1.983011  & 1.666667  & 1.998047  & 1.5       & 1.988088  & 1.557377  & 1.966608  & 1.766082  & 1.994728  & 2.481481  & 1.742628  & 2.622155  & 1.938098  & 2.400631  & 2        \\\\\n",
       "\t 142203.07 & 125966.37 & 1         & 54        & 2         & 2         & 21        & 3         & 1         & 1         & 12        & 1         & 1.000000  & 3         & 2         & 2.180249  & 2         & 19        & 1490      &  77.75    & 162.92    &  80.58    & 10.6      &  58.27    & 23.511    & 16.986    &  9.617    &  187      &  2.16     & 0         &  515      &  545      &  20       &  237      & 223       &    0      &  583      & ...       & 1.838508  & 2.042322  & 1.890842  & 1.881932  & 1.949814  & 2.373541  & 1.962507  & 1.84375   & 1.981254  & 2.1875    & 1.97891   & 1.685185  & 1.997657  & 1.666667  & 1.971295  & 2.020408  & 1.993165  & 2.028571  & 1.653583  & 2.476325  & 1.958016  & 2.237209  & 1.983011  & 1.666667  & 1.998047  & 1.5       & 1.988088  & 1.557377  & 1.966608  & 1.766082  & 1.994728  & 2.481481  & 1.742628  & 2.622155  & 1.938098  & 2.400631  & 2        \\\\\n",
       "\t  59052.36 &  39004.89 & 1         & 63        & 2         & 2         & 18        & 1         & 1         & 1         & 13        & 4         & 1.652899  & 4         & 2         & 2.180249  & 1         &  7        & 1421      &  55.24    & 178.20    &  87.78    & 12.3      &  55.36    &  4.479    & 26.216    &  1.263    &   41      & 53.17     & 0         &  738      &  863      &   0       & 1476      &   0       &    0      &    0      & ...       & 2.000000  & 2.042322  & 2.000000  & 1.881932  & 2.000000  & 2.373541  & 2.000000  & 1.84375   & 2.000000  & 2.1875    & 2.00000   & 1.685185  & 2.000000  & 1.666667  & 2.000000  & 2.020408  & 2.000000  & 2.028571  & 2.000000  & 2.476325  & 2.000000  & 2.237209  & 2.000000  & 1.666667  & 2.000000  & 1.5       & 2.000000  & 1.557377  & 2.000000  & 1.766082  & 2.000000  & 2.481481  & 2.000000  & 2.622155  & 2.000000  & 2.400631  & 2        \\\\\n",
       "\t  49890.83 &      0.00 & 1         & 49        & 2         & 1         & 11        & 3         & 1         & 1         & 13        & 1         & 3.000000  & 3         & 1         & 1.000000  & 2         & 17        & 1785      &  55.11    & 189.59    &  81.75    & 22.6      &  93.92    & 22.155    & 40.013    & 23.550    &  534      & 12.30     & 0         &  272      &  355      & 172       &  776      & 300       & 2339      & 2101      & ...       & 2.000000  & 2.042322  & 1.000000  & 1.000000  & 2.000000  & 2.373541  & 2.000000  & 1.84375   & 2.000000  & 2.1875    & 2.00000   & 1.685185  & 2.000000  & 1.666667  & 2.000000  & 2.020408  & 2.000000  & 2.028571  & 2.000000  & 2.476325  & 2.000000  & 2.237209  & 2.000000  & 1.666667  & 2.000000  & 1.5       & 2.000000  & 1.557377  & 2.000000  & 1.766082  & 2.000000  & 2.481481  & 2.000000  & 2.622155  & 2.000000  & 2.400631  & 1        \\\\\n",
       "\\end{tabular}\n"
      ],
      "text/markdown": [
       "\n",
       "| WTDRD1 | WTDR2D | DR1DRSTZ | DR1EXMER | DRABF | DRDINT | DR1DBIH | DR1DAY | DR1LANG | DR1MNRSP | DR1HELPD | DBQ095Z | DBD100 | DRQSPREP | DR1STY | DR1SKY | DRQSDIET | DR1TNUMF | DR1TKCAL | DR1TPROT | DR1TCARB | DR1TSUGR | DR1TFIBE | DR1TTFAT | DR1TSFAT | DR1TMFAT | DR1TPFAT | DR1TCHOL | DR1TATOC | DR1TATOA | DR1TRET | DR1TVARA | DR1TACAR | DR1TBCAR | DR1TCRYP | DR1TLYCO | DR1TLZ | ... | DRD370D | DRD370DQ | DRD370E | DRD370EQ | DRD370F | DRD370FQ | DRD370G | DRD370GQ | DRD370H | DRD370HQ | DRD370I | DRD370IQ | DRD370J | DRD370JQ | DRD370K | DRD370KQ | DRD370L | DRD370LQ | DRD370M | DRD370MQ | DRD370N | DRD370NQ | DRD370O | DRD370OQ | DRD370P | DRD370PQ | DRD370Q | DRD370QQ | DRD370R | DRD370RQ | DRD370S | DRD370SQ | DRD370T | DRD370TQ | DRD370U | DRD370UQ | cluster.4 |\n",
       "|---|---|---|---|---|---|---|---|---|---|---|---|---|---|---|---|---|---|---|---|---|---|---|---|---|---|---|---|---|---|---|---|---|---|---|---|---|---|---|---|---|---|---|---|---|---|---|---|---|---|---|---|---|---|---|---|---|---|---|---|---|---|---|---|---|---|---|---|---|---|---|---|---|---|---|\n",
       "|  16888.33 |  12930.89 | 1         | 49        | 2         | 2         |  6        | 2         | 1         | 1         | 13        | 3         | 2.000000  | 4         | 2         | 2.180249  | 2         | 11        | 1574      |  43.63    | 239.59    | 176.47    | 10.8      |  52.81    | 17.819    | 18.493    |  8.829    |  209      |  3.92     | 0         |   70      |  110      |  60       |  304      | 278       | 1398      |  430      | ...       | 1.838508  | 2.042322  | 1.890842  | 1.881932  | 1.949814  | 2.373541  | 1.962507  | 1.84375   | 1.981254  | 2.1875    | 1.97891   | 1.685185  | 1.997657  | 1.666667  | 1.971295  | 2.020408  | 1.993165  | 2.028571  | 1.653583  | 2.476325  | 1.958016  | 2.237209  | 1.983011  | 1.666667  | 1.998047  | 1.5       | 1.988088  | 1.557377  | 1.966608  | 1.766082  | 1.994728  | 2.481481  | 1.742628  | 2.622155  | 1.938098  | 2.400631  | 2         |\n",
       "|  17932.14 |  12684.15 | 1         | 59        | 2         | 2         |  4        | 1         | 1         | 1         | 13        | 1         | 2.000000  | 3         | 1         | 1.000000  | 2         |  8        | 5062      | 338.13    | 423.78    |  44.99    | 16.7      | 124.29    | 53.408    | 35.481    | 20.505    | 2584      | 20.94     | 0         | 1477      | 1488      |   0       |  145      |  12       |    0      |  899      | ...       | 2.000000  | 2.042322  | 2.000000  | 1.881932  | 2.000000  | 2.373541  | 2.000000  | 1.84375   | 2.000000  | 2.1875    | 2.00000   | 1.685185  | 2.000000  | 1.666667  | 1.000000  | 1.000000  | 2.000000  | 2.028571  | 2.000000  | 2.476325  | 2.000000  | 2.237209  | 2.000000  | 1.666667  | 2.000000  | 1.5       | 2.000000  | 1.557377  | 2.000000  | 1.766082  | 2.000000  | 2.481481  | 2.000000  | 2.622155  | 2.000000  | 2.400631  | 3         |\n",
       "|  59641.81 |  39394.24 | 1         | 49        | 2         | 2         | 18        | 6         | 1         | 1         | 13        | 1         | 1.000000  | 2         | 2         | 2.180249  | 1         | 27        | 1743      |  64.61    | 224.39    | 102.90    |  9.9      |  65.97    | 25.263    | 20.902    | 12.953    |   88      |  8.87     | 0         |  616      |  655      |  21       |  449      |  35       |  515      |  300      | ...       | 1.838508  | 2.042322  | 1.890842  | 1.881932  | 1.949814  | 2.373541  | 1.962507  | 1.84375   | 1.981254  | 2.1875    | 1.97891   | 1.685185  | 1.997657  | 1.666667  | 1.971295  | 2.020408  | 1.993165  | 2.028571  | 1.653583  | 2.476325  | 1.958016  | 2.237209  | 1.983011  | 1.666667  | 1.998047  | 1.5       | 1.988088  | 1.557377  | 1.966608  | 1.766082  | 1.994728  | 2.481481  | 1.742628  | 2.622155  | 1.938098  | 2.400631  | 2         |\n",
       "| 142203.07 | 125966.37 | 1         | 54        | 2         | 2         | 21        | 3         | 1         | 1         | 12        | 1         | 1.000000  | 3         | 2         | 2.180249  | 2         | 19        | 1490      |  77.75    | 162.92    |  80.58    | 10.6      |  58.27    | 23.511    | 16.986    |  9.617    |  187      |  2.16     | 0         |  515      |  545      |  20       |  237      | 223       |    0      |  583      | ...       | 1.838508  | 2.042322  | 1.890842  | 1.881932  | 1.949814  | 2.373541  | 1.962507  | 1.84375   | 1.981254  | 2.1875    | 1.97891   | 1.685185  | 1.997657  | 1.666667  | 1.971295  | 2.020408  | 1.993165  | 2.028571  | 1.653583  | 2.476325  | 1.958016  | 2.237209  | 1.983011  | 1.666667  | 1.998047  | 1.5       | 1.988088  | 1.557377  | 1.966608  | 1.766082  | 1.994728  | 2.481481  | 1.742628  | 2.622155  | 1.938098  | 2.400631  | 2         |\n",
       "|  59052.36 |  39004.89 | 1         | 63        | 2         | 2         | 18        | 1         | 1         | 1         | 13        | 4         | 1.652899  | 4         | 2         | 2.180249  | 1         |  7        | 1421      |  55.24    | 178.20    |  87.78    | 12.3      |  55.36    |  4.479    | 26.216    |  1.263    |   41      | 53.17     | 0         |  738      |  863      |   0       | 1476      |   0       |    0      |    0      | ...       | 2.000000  | 2.042322  | 2.000000  | 1.881932  | 2.000000  | 2.373541  | 2.000000  | 1.84375   | 2.000000  | 2.1875    | 2.00000   | 1.685185  | 2.000000  | 1.666667  | 2.000000  | 2.020408  | 2.000000  | 2.028571  | 2.000000  | 2.476325  | 2.000000  | 2.237209  | 2.000000  | 1.666667  | 2.000000  | 1.5       | 2.000000  | 1.557377  | 2.000000  | 1.766082  | 2.000000  | 2.481481  | 2.000000  | 2.622155  | 2.000000  | 2.400631  | 2         |\n",
       "|  49890.83 |      0.00 | 1         | 49        | 2         | 1         | 11        | 3         | 1         | 1         | 13        | 1         | 3.000000  | 3         | 1         | 1.000000  | 2         | 17        | 1785      |  55.11    | 189.59    |  81.75    | 22.6      |  93.92    | 22.155    | 40.013    | 23.550    |  534      | 12.30     | 0         |  272      |  355      | 172       |  776      | 300       | 2339      | 2101      | ...       | 2.000000  | 2.042322  | 1.000000  | 1.000000  | 2.000000  | 2.373541  | 2.000000  | 1.84375   | 2.000000  | 2.1875    | 2.00000   | 1.685185  | 2.000000  | 1.666667  | 2.000000  | 2.020408  | 2.000000  | 2.028571  | 2.000000  | 2.476325  | 2.000000  | 2.237209  | 2.000000  | 1.666667  | 2.000000  | 1.5       | 2.000000  | 1.557377  | 2.000000  | 1.766082  | 2.000000  | 2.481481  | 2.000000  | 2.622155  | 2.000000  | 2.400631  | 1         |\n",
       "\n"
      ],
      "text/plain": [
       "  WTDRD1    WTDR2D    DR1DRSTZ DR1EXMER DRABF DRDINT DR1DBIH DR1DAY DR1LANG\n",
       "1  16888.33  12930.89 1        49       2     2       6      2      1      \n",
       "2  17932.14  12684.15 1        59       2     2       4      1      1      \n",
       "3  59641.81  39394.24 1        49       2     2      18      6      1      \n",
       "4 142203.07 125966.37 1        54       2     2      21      3      1      \n",
       "5  59052.36  39004.89 1        63       2     2      18      1      1      \n",
       "6  49890.83      0.00 1        49       2     1      11      3      1      \n",
       "  DR1MNRSP DR1HELPD DBQ095Z DBD100   DRQSPREP DR1STY DR1SKY   DRQSDIET DR1TNUMF\n",
       "1 1        13       3       2.000000 4        2      2.180249 2        11      \n",
       "2 1        13       1       2.000000 3        1      1.000000 2         8      \n",
       "3 1        13       1       1.000000 2        2      2.180249 1        27      \n",
       "4 1        12       1       1.000000 3        2      2.180249 2        19      \n",
       "5 1        13       4       1.652899 4        2      2.180249 1         7      \n",
       "6 1        13       1       3.000000 3        1      1.000000 2        17      \n",
       "  DR1TKCAL DR1TPROT DR1TCARB DR1TSUGR DR1TFIBE DR1TTFAT DR1TSFAT DR1TMFAT\n",
       "1 1574      43.63   239.59   176.47   10.8      52.81   17.819   18.493  \n",
       "2 5062     338.13   423.78    44.99   16.7     124.29   53.408   35.481  \n",
       "3 1743      64.61   224.39   102.90    9.9      65.97   25.263   20.902  \n",
       "4 1490      77.75   162.92    80.58   10.6      58.27   23.511   16.986  \n",
       "5 1421      55.24   178.20    87.78   12.3      55.36    4.479   26.216  \n",
       "6 1785      55.11   189.59    81.75   22.6      93.92   22.155   40.013  \n",
       "  DR1TPFAT DR1TCHOL DR1TATOC DR1TATOA DR1TRET DR1TVARA DR1TACAR DR1TBCAR\n",
       "1  8.829    209      3.92    0          70     110      60       304    \n",
       "2 20.505   2584     20.94    0        1477    1488       0       145    \n",
       "3 12.953     88      8.87    0         616     655      21       449    \n",
       "4  9.617    187      2.16    0         515     545      20       237    \n",
       "5  1.263     41     53.17    0         738     863       0      1476    \n",
       "6 23.550    534     12.30    0         272     355     172       776    \n",
       "  DR1TCRYP DR1TLYCO DR1TLZ ... DRD370D  DRD370DQ DRD370E  DRD370EQ DRD370F \n",
       "1 278      1398      430   ... 1.838508 2.042322 1.890842 1.881932 1.949814\n",
       "2  12         0      899   ... 2.000000 2.042322 2.000000 1.881932 2.000000\n",
       "3  35       515      300   ... 1.838508 2.042322 1.890842 1.881932 1.949814\n",
       "4 223         0      583   ... 1.838508 2.042322 1.890842 1.881932 1.949814\n",
       "5   0         0        0   ... 2.000000 2.042322 2.000000 1.881932 2.000000\n",
       "6 300      2339     2101   ... 2.000000 2.042322 1.000000 1.000000 2.000000\n",
       "  DRD370FQ DRD370G  DRD370GQ DRD370H  DRD370HQ DRD370I DRD370IQ DRD370J \n",
       "1 2.373541 1.962507 1.84375  1.981254 2.1875   1.97891 1.685185 1.997657\n",
       "2 2.373541 2.000000 1.84375  2.000000 2.1875   2.00000 1.685185 2.000000\n",
       "3 2.373541 1.962507 1.84375  1.981254 2.1875   1.97891 1.685185 1.997657\n",
       "4 2.373541 1.962507 1.84375  1.981254 2.1875   1.97891 1.685185 1.997657\n",
       "5 2.373541 2.000000 1.84375  2.000000 2.1875   2.00000 1.685185 2.000000\n",
       "6 2.373541 2.000000 1.84375  2.000000 2.1875   2.00000 1.685185 2.000000\n",
       "  DRD370JQ DRD370K  DRD370KQ DRD370L  DRD370LQ DRD370M  DRD370MQ DRD370N \n",
       "1 1.666667 1.971295 2.020408 1.993165 2.028571 1.653583 2.476325 1.958016\n",
       "2 1.666667 1.000000 1.000000 2.000000 2.028571 2.000000 2.476325 2.000000\n",
       "3 1.666667 1.971295 2.020408 1.993165 2.028571 1.653583 2.476325 1.958016\n",
       "4 1.666667 1.971295 2.020408 1.993165 2.028571 1.653583 2.476325 1.958016\n",
       "5 1.666667 2.000000 2.020408 2.000000 2.028571 2.000000 2.476325 2.000000\n",
       "6 1.666667 2.000000 2.020408 2.000000 2.028571 2.000000 2.476325 2.000000\n",
       "  DRD370NQ DRD370O  DRD370OQ DRD370P  DRD370PQ DRD370Q  DRD370QQ DRD370R \n",
       "1 2.237209 1.983011 1.666667 1.998047 1.5      1.988088 1.557377 1.966608\n",
       "2 2.237209 2.000000 1.666667 2.000000 1.5      2.000000 1.557377 2.000000\n",
       "3 2.237209 1.983011 1.666667 1.998047 1.5      1.988088 1.557377 1.966608\n",
       "4 2.237209 1.983011 1.666667 1.998047 1.5      1.988088 1.557377 1.966608\n",
       "5 2.237209 2.000000 1.666667 2.000000 1.5      2.000000 1.557377 2.000000\n",
       "6 2.237209 2.000000 1.666667 2.000000 1.5      2.000000 1.557377 2.000000\n",
       "  DRD370RQ DRD370S  DRD370SQ DRD370T  DRD370TQ DRD370U  DRD370UQ cluster.4\n",
       "1 1.766082 1.994728 2.481481 1.742628 2.622155 1.938098 2.400631 2        \n",
       "2 1.766082 2.000000 2.481481 2.000000 2.622155 2.000000 2.400631 3        \n",
       "3 1.766082 1.994728 2.481481 1.742628 2.622155 1.938098 2.400631 2        \n",
       "4 1.766082 1.994728 2.481481 1.742628 2.622155 1.938098 2.400631 2        \n",
       "5 1.766082 2.000000 2.481481 2.000000 2.622155 2.000000 2.400631 2        \n",
       "6 1.766082 2.000000 2.481481 2.000000 2.622155 2.000000 2.400631 1        "
      ]
     },
     "metadata": {},
     "output_type": "display_data"
    }
   ],
   "source": [
    "set.seed(12345)\n",
    "cluster.4 = kmeans(datax.norm, 4, nstart=1)$cluster # k-means\n",
    "\n",
    "data.4 = datax\n",
    "data.4$cluster.4 = cluster.4\n",
    "head(data.4)"
   ]
  },
  {
   "cell_type": "markdown",
   "metadata": {},
   "source": [
    "**Visualizations.**"
   ]
  },
  {
   "cell_type": "code",
   "execution_count": 9,
   "metadata": {
    "hide_input": true
   },
   "outputs": [
    {
     "data": {
      "text/html": [
       "<table>\n",
       "<thead><tr><th scope=col>size_cluster_1</th><th scope=col>size_cluster_2</th></tr></thead>\n",
       "<tbody>\n",
       "\t<tr><td>2097</td><td>7716</td></tr>\n",
       "</tbody>\n",
       "</table>\n"
      ],
      "text/latex": [
       "\\begin{tabular}{r|ll}\n",
       " size\\_cluster\\_1 & size\\_cluster\\_2\\\\\n",
       "\\hline\n",
       "\t 2097 & 7716\\\\\n",
       "\\end{tabular}\n"
      ],
      "text/markdown": [
       "\n",
       "| size_cluster_1 | size_cluster_2 |\n",
       "|---|---|\n",
       "| 2097 | 7716 |\n",
       "\n"
      ],
      "text/plain": [
       "  size_cluster_1 size_cluster_2\n",
       "1 2097           7716          "
      ]
     },
     "metadata": {},
     "output_type": "display_data"
    },
    {
     "data": {
      "image/png": "[encoded data removed]",
      "text/plain": [
       "plot without title"
      ]
     },
     "metadata": {},
     "output_type": "display_data"
    }
   ],
   "source": [
    "d = data.frame(display_row=sort(rep(1:40, length.out=length(cluster.2))), display_column=rep(1:(length(cluster.2)%/%40), length.out=length(cluster.2)), cluster=factor(cluster.2, sort(unique(cluster.2))))\n",
    "\n",
    "data.frame(size_cluster_1=length(which(cluster.2==1)),\n",
    "           size_cluster_2=length(which(cluster.2==2)))\n",
    "\n",
    "ggplot(d) + ggtitle(\"2 Segments\") +\n",
    "geom_point(aes(x=display_column, y=display_row, color=cluster), size=0.1) +\n",
    "scale_color_manual(values=PALETTE) + theme.legend_title"
   ]
  },
  {
   "cell_type": "code",
   "execution_count": 10,
   "metadata": {
    "hide_input": true
   },
   "outputs": [
    {
     "data": {
      "text/html": [
       "<table>\n",
       "<thead><tr><th scope=col>size_cluster_1</th><th scope=col>size_cluster_2</th><th scope=col>size_cluster_3</th></tr></thead>\n",
       "<tbody>\n",
       "\t<tr><td>2866</td><td>6263</td><td>684 </td></tr>\n",
       "</tbody>\n",
       "</table>\n"
      ],
      "text/latex": [
       "\\begin{tabular}{r|lll}\n",
       " size\\_cluster\\_1 & size\\_cluster\\_2 & size\\_cluster\\_3\\\\\n",
       "\\hline\n",
       "\t 2866 & 6263 & 684 \\\\\n",
       "\\end{tabular}\n"
      ],
      "text/markdown": [
       "\n",
       "| size_cluster_1 | size_cluster_2 | size_cluster_3 |\n",
       "|---|---|---|\n",
       "| 2866 | 6263 | 684  |\n",
       "\n"
      ],
      "text/plain": [
       "  size_cluster_1 size_cluster_2 size_cluster_3\n",
       "1 2866           6263           684           "
      ]
     },
     "metadata": {},
     "output_type": "display_data"
    },
    {
     "data": {
      "image/png": "[encoded data removed]",
      "text/plain": [
       "plot without title"
      ]
     },
     "metadata": {},
     "output_type": "display_data"
    }
   ],
   "source": [
    "d = data.frame(display_row=sort(rep(1:40, length.out=length(cluster.3))), display_column=rep(1:(length(cluster.3)%/%40), length.out=length(cluster.3)), cluster=factor(cluster.3, sort(unique(cluster.3))))\n",
    "\n",
    "data.frame(size_cluster_1=length(which(cluster.3==1)),\n",
    "           size_cluster_2=length(which(cluster.3==2)),\n",
    "           size_cluster_3=length(which(cluster.3==3)))\n",
    "\n",
    "ggplot(d) + ggtitle(\"3 Segments\") +\n",
    "geom_point(aes(x=display_column, y=display_row, color=cluster), size=0.1) +\n",
    "scale_color_manual(values=PALETTE) + theme.legend_title"
   ]
  },
  {
   "cell_type": "code",
   "execution_count": 11,
   "metadata": {
    "hide_input": true
   },
   "outputs": [
    {
     "data": {
      "text/html": [
       "<table>\n",
       "<thead><tr><th scope=col>size_cluster_1</th><th scope=col>size_cluster_2</th><th scope=col>size_cluster_3</th><th scope=col>size_cluster_4</th></tr></thead>\n",
       "<tbody>\n",
       "\t<tr><td>2049</td><td>6028</td><td>603 </td><td>1133</td></tr>\n",
       "</tbody>\n",
       "</table>\n"
      ],
      "text/latex": [
       "\\begin{tabular}{r|llll}\n",
       " size\\_cluster\\_1 & size\\_cluster\\_2 & size\\_cluster\\_3 & size\\_cluster\\_4\\\\\n",
       "\\hline\n",
       "\t 2049 & 6028 & 603  & 1133\\\\\n",
       "\\end{tabular}\n"
      ],
      "text/markdown": [
       "\n",
       "| size_cluster_1 | size_cluster_2 | size_cluster_3 | size_cluster_4 |\n",
       "|---|---|---|---|\n",
       "| 2049 | 6028 | 603  | 1133 |\n",
       "\n"
      ],
      "text/plain": [
       "  size_cluster_1 size_cluster_2 size_cluster_3 size_cluster_4\n",
       "1 2049           6028           603            1133          "
      ]
     },
     "metadata": {},
     "output_type": "display_data"
    },
    {
     "data": {
      "image/png": "[encoded data removed]",
      "text/plain": [
       "plot without title"
      ]
     },
     "metadata": {},
     "output_type": "display_data"
    }
   ],
   "source": [
    "d = data.frame(display_row=sort(rep(1:40, length.out=length(cluster.4))), display_column=rep(1:(length(cluster.4)%/%40), length.out=length(cluster.4)), cluster=factor(cluster.4, sort(unique(cluster.4))))\n",
    "\n",
    "data.frame(size_cluster_1=length(which(cluster.4==1)),\n",
    "           size_cluster_2=length(which(cluster.4==2)),\n",
    "           size_cluster_3=length(which(cluster.4==3)),\n",
    "           size_cluster_4=length(which(cluster.4==4)))\n",
    "\n",
    "ggplot(d) + ggtitle(\"4 Segments\") +\n",
    "geom_point(aes(x=display_column, y=display_row, color=cluster), size=0.1) +\n",
    "scale_color_manual(values=PALETTE) + theme.legend_title"
   ]
  },
  {
   "cell_type": "markdown",
   "metadata": {},
   "source": [
    "## Evaluation of Segmentation Models"
   ]
  },
  {
   "cell_type": "markdown",
   "metadata": {},
   "source": [
    "**Evaluate the 2-segment market segmentation model by dispersion ratio.**"
   ]
  },
  {
   "cell_type": "code",
   "execution_count": 12,
   "metadata": {
    "hide_input": true
   },
   "outputs": [],
   "source": [
    "datax.2.1 = datax.norm[cluster.2==1,]\n",
    "datax.2.2 = datax.norm[cluster.2==2,]"
   ]
  },
  {
   "cell_type": "code",
   "execution_count": 13,
   "metadata": {
    "hide_input": true
   },
   "outputs": [
    {
     "data": {
      "text/html": [
       "<table>\n",
       "<thead><tr><th scope=col>cluster_size.2.1</th><th scope=col>intracluster_dispersion.2.1</th></tr></thead>\n",
       "<tbody>\n",
       "\t<tr><td>2097   </td><td>20.4465</td></tr>\n",
       "</tbody>\n",
       "</table>\n"
      ],
      "text/latex": [
       "\\begin{tabular}{r|ll}\n",
       " cluster\\_size.2.1 & intracluster\\_dispersion.2.1\\\\\n",
       "\\hline\n",
       "\t 2097    & 20.4465\\\\\n",
       "\\end{tabular}\n"
      ],
      "text/markdown": [
       "\n",
       "| cluster_size.2.1 | intracluster_dispersion.2.1 |\n",
       "|---|---|\n",
       "| 2097    | 20.4465 |\n",
       "\n"
      ],
      "text/plain": [
       "  cluster_size.2.1 intracluster_dispersion.2.1\n",
       "1 2097             20.4465                    "
      ]
     },
     "metadata": {},
     "output_type": "display_data"
    },
    {
     "data": {
      "text/html": [
       "<table>\n",
       "<thead><tr><th scope=col>WTDRD1</th><th scope=col>WTDR2D</th><th scope=col>DR1DRSTZ</th><th scope=col>DR1EXMER</th><th scope=col>DRABF</th><th scope=col>DRDINT</th><th scope=col>DR1DBIH</th><th scope=col>DR1DAY</th><th scope=col>DR1LANG</th><th scope=col>DR1MNRSP</th><th scope=col>DR1HELPD</th><th scope=col>DBQ095Z</th><th scope=col>DBD100</th><th scope=col>DRQSPREP</th><th scope=col>DR1STY</th><th scope=col>DR1SKY</th><th scope=col>DRQSDIET</th><th scope=col>DR1TNUMF</th><th scope=col>DR1TKCAL</th><th scope=col>DR1TPROT</th><th scope=col>DR1TCARB</th><th scope=col>DR1TSUGR</th><th scope=col>DR1TFIBE</th><th scope=col>DR1TTFAT</th><th scope=col>DR1TSFAT</th><th scope=col>DR1TMFAT</th><th scope=col>DR1TPFAT</th><th scope=col>DR1TCHOL</th><th scope=col>DR1TATOC</th><th scope=col>DR1TATOA</th><th scope=col>DR1TRET</th><th scope=col>DR1TVARA</th><th scope=col>DR1TACAR</th><th scope=col>DR1TBCAR</th><th scope=col>DR1TCRYP</th><th scope=col>DR1TLYCO</th><th scope=col>DR1TLZ</th><th scope=col>...</th><th scope=col>DRD370CQ</th><th scope=col>DRD370D</th><th scope=col>DRD370DQ</th><th scope=col>DRD370E</th><th scope=col>DRD370EQ</th><th scope=col>DRD370F</th><th scope=col>DRD370FQ</th><th scope=col>DRD370G</th><th scope=col>DRD370GQ</th><th scope=col>DRD370H</th><th scope=col>DRD370HQ</th><th scope=col>DRD370I</th><th scope=col>DRD370IQ</th><th scope=col>DRD370J</th><th scope=col>DRD370JQ</th><th scope=col>DRD370K</th><th scope=col>DRD370KQ</th><th scope=col>DRD370L</th><th scope=col>DRD370LQ</th><th scope=col>DRD370M</th><th scope=col>DRD370MQ</th><th scope=col>DRD370N</th><th scope=col>DRD370NQ</th><th scope=col>DRD370O</th><th scope=col>DRD370OQ</th><th scope=col>DRD370P</th><th scope=col>DRD370PQ</th><th scope=col>DRD370Q</th><th scope=col>DRD370QQ</th><th scope=col>DRD370R</th><th scope=col>DRD370RQ</th><th scope=col>DRD370S</th><th scope=col>DRD370SQ</th><th scope=col>DRD370T</th><th scope=col>DRD370TQ</th><th scope=col>DRD370U</th><th scope=col>DRD370UQ</th></tr></thead>\n",
       "<tbody>\n",
       "\t<tr><td>0.32884      </td><td>0.1761682    </td><td>-0.3745279   </td><td>-0.0134671   </td><td>0.1334286    </td><td>0.04471321   </td><td>0.02651748   </td><td>-0.02041934  </td><td>-0.02879377  </td><td>-0.1562945   </td><td>0.1472055    </td><td>-0.08917007  </td><td>0.06022246   </td><td>0.00646001   </td><td>-0.1378563   </td><td>-0.01375317  </td><td>-0.07335026  </td><td>0.598911     </td><td>1.324283     </td><td>1.205736     </td><td>1.080047     </td><td>0.7377811    </td><td>0.9183775    </td><td>1.28628      </td><td>1.23187      </td><td>1.221828     </td><td>1.045112     </td><td>0.9260667    </td><td>0.8890326    </td><td>0.1418641    </td><td>0.7762315    </td><td>0.7609473    </td><td>0.161183     </td><td>0.3050146    </td><td>0.07474515   </td><td>0.4385436    </td><td>0.309895     </td><td>...          </td><td>-0.03643774  </td><td>-0.003428571 </td><td>0.0243714    </td><td>-0.06811411  </td><td>-0.01382653  </td><td>-0.008284955 </td><td>0.01211963   </td><td>-0.008722581 </td><td>0.01607742   </td><td>-0.04261048  </td><td>0.04244338   </td><td>-0.04352653  </td><td>-0.01277636  </td><td>-0.009821187 </td><td>-0.01219649  </td><td>-0.03879069  </td><td>0.007785874  </td><td>-0.01146949  </td><td>-0.001870825 </td><td>-0.07354699  </td><td>0.08819441   </td><td>-0.04351967  </td><td>0.08783978   </td><td>-0.01642484  </td><td>-2.037115e-15</td><td>-0.01893185  </td><td>-1.694189e-18</td><td>-0.0628127   </td><td>-0.0424493   </td><td>-0.0009233808</td><td>0.006097671  </td><td>-0.04209781  </td><td>-0.002717804 </td><td>-0.02367424  </td><td>0.0102852    </td><td>-0.02283751  </td><td>0.01058324   </td></tr>\n",
       "</tbody>\n",
       "</table>\n"
      ],
      "text/latex": [
       "\\begin{tabular}{r|llllllllllllllllllllllllllllllllllllllllllllllllllllllllllllllllllllllllllllllllllllllllllllllllllllllllllllllllllllllllllllllllllllllllllllllllllllllll}\n",
       " WTDRD1 & WTDR2D & DR1DRSTZ & DR1EXMER & DRABF & DRDINT & DR1DBIH & DR1DAY & DR1LANG & DR1MNRSP & DR1HELPD & DBQ095Z & DBD100 & DRQSPREP & DR1STY & DR1SKY & DRQSDIET & DR1TNUMF & DR1TKCAL & DR1TPROT & DR1TCARB & DR1TSUGR & DR1TFIBE & DR1TTFAT & DR1TSFAT & DR1TMFAT & DR1TPFAT & DR1TCHOL & DR1TATOC & DR1TATOA & DR1TRET & DR1TVARA & DR1TACAR & DR1TBCAR & DR1TCRYP & DR1TLYCO & DR1TLZ & ... & DRD370CQ & DRD370D & DRD370DQ & DRD370E & DRD370EQ & DRD370F & DRD370FQ & DRD370G & DRD370GQ & DRD370H & DRD370HQ & DRD370I & DRD370IQ & DRD370J & DRD370JQ & DRD370K & DRD370KQ & DRD370L & DRD370LQ & DRD370M & DRD370MQ & DRD370N & DRD370NQ & DRD370O & DRD370OQ & DRD370P & DRD370PQ & DRD370Q & DRD370QQ & DRD370R & DRD370RQ & DRD370S & DRD370SQ & DRD370T & DRD370TQ & DRD370U & DRD370UQ\\\\\n",
       "\\hline\n",
       "\t 0.32884       & 0.1761682     & -0.3745279    & -0.0134671    & 0.1334286     & 0.04471321    & 0.02651748    & -0.02041934   & -0.02879377   & -0.1562945    & 0.1472055     & -0.08917007   & 0.06022246    & 0.00646001    & -0.1378563    & -0.01375317   & -0.07335026   & 0.598911      & 1.324283      & 1.205736      & 1.080047      & 0.7377811     & 0.9183775     & 1.28628       & 1.23187       & 1.221828      & 1.045112      & 0.9260667     & 0.8890326     & 0.1418641     & 0.7762315     & 0.7609473     & 0.161183      & 0.3050146     & 0.07474515    & 0.4385436     & 0.309895      & ...           & -0.03643774   & -0.003428571  & 0.0243714     & -0.06811411   & -0.01382653   & -0.008284955  & 0.01211963    & -0.008722581  & 0.01607742    & -0.04261048   & 0.04244338    & -0.04352653   & -0.01277636   & -0.009821187  & -0.01219649   & -0.03879069   & 0.007785874   & -0.01146949   & -0.001870825  & -0.07354699   & 0.08819441    & -0.04351967   & 0.08783978    & -0.01642484   & -2.037115e-15 & -0.01893185   & -1.694189e-18 & -0.0628127    & -0.0424493    & -0.0009233808 & 0.006097671   & -0.04209781   & -0.002717804  & -0.02367424   & 0.0102852     & -0.02283751   & 0.01058324   \\\\\n",
       "\\end{tabular}\n"
      ],
      "text/markdown": [
       "\n",
       "| WTDRD1 | WTDR2D | DR1DRSTZ | DR1EXMER | DRABF | DRDINT | DR1DBIH | DR1DAY | DR1LANG | DR1MNRSP | DR1HELPD | DBQ095Z | DBD100 | DRQSPREP | DR1STY | DR1SKY | DRQSDIET | DR1TNUMF | DR1TKCAL | DR1TPROT | DR1TCARB | DR1TSUGR | DR1TFIBE | DR1TTFAT | DR1TSFAT | DR1TMFAT | DR1TPFAT | DR1TCHOL | DR1TATOC | DR1TATOA | DR1TRET | DR1TVARA | DR1TACAR | DR1TBCAR | DR1TCRYP | DR1TLYCO | DR1TLZ | ... | DRD370CQ | DRD370D | DRD370DQ | DRD370E | DRD370EQ | DRD370F | DRD370FQ | DRD370G | DRD370GQ | DRD370H | DRD370HQ | DRD370I | DRD370IQ | DRD370J | DRD370JQ | DRD370K | DRD370KQ | DRD370L | DRD370LQ | DRD370M | DRD370MQ | DRD370N | DRD370NQ | DRD370O | DRD370OQ | DRD370P | DRD370PQ | DRD370Q | DRD370QQ | DRD370R | DRD370RQ | DRD370S | DRD370SQ | DRD370T | DRD370TQ | DRD370U | DRD370UQ |\n",
       "|---|---|---|---|---|---|---|---|---|---|---|---|---|---|---|---|---|---|---|---|---|---|---|---|---|---|---|---|---|---|---|---|---|---|---|---|---|---|---|---|---|---|---|---|---|---|---|---|---|---|---|---|---|---|---|---|---|---|---|---|---|---|---|---|---|---|---|---|---|---|---|---|---|---|---|\n",
       "| 0.32884       | 0.1761682     | -0.3745279    | -0.0134671    | 0.1334286     | 0.04471321    | 0.02651748    | -0.02041934   | -0.02879377   | -0.1562945    | 0.1472055     | -0.08917007   | 0.06022246    | 0.00646001    | -0.1378563    | -0.01375317   | -0.07335026   | 0.598911      | 1.324283      | 1.205736      | 1.080047      | 0.7377811     | 0.9183775     | 1.28628       | 1.23187       | 1.221828      | 1.045112      | 0.9260667     | 0.8890326     | 0.1418641     | 0.7762315     | 0.7609473     | 0.161183      | 0.3050146     | 0.07474515    | 0.4385436     | 0.309895      | ...           | -0.03643774   | -0.003428571  | 0.0243714     | -0.06811411   | -0.01382653   | -0.008284955  | 0.01211963    | -0.008722581  | 0.01607742    | -0.04261048   | 0.04244338    | -0.04352653   | -0.01277636   | -0.009821187  | -0.01219649   | -0.03879069   | 0.007785874   | -0.01146949   | -0.001870825  | -0.07354699   | 0.08819441    | -0.04351967   | 0.08783978    | -0.01642484   | -2.037115e-15 | -0.01893185   | -1.694189e-18 | -0.0628127    | -0.0424493    | -0.0009233808 | 0.006097671   | -0.04209781   | -0.002717804  | -0.02367424   | 0.0102852     | -0.02283751   | 0.01058324    |\n",
       "\n"
      ],
      "text/plain": [
       "  WTDRD1  WTDR2D    DR1DRSTZ   DR1EXMER   DRABF     DRDINT     DR1DBIH   \n",
       "1 0.32884 0.1761682 -0.3745279 -0.0134671 0.1334286 0.04471321 0.02651748\n",
       "  DR1DAY      DR1LANG     DR1MNRSP   DR1HELPD  DBQ095Z     DBD100    \n",
       "1 -0.02041934 -0.02879377 -0.1562945 0.1472055 -0.08917007 0.06022246\n",
       "  DRQSPREP   DR1STY     DR1SKY      DRQSDIET    DR1TNUMF DR1TKCAL DR1TPROT\n",
       "1 0.00646001 -0.1378563 -0.01375317 -0.07335026 0.598911 1.324283 1.205736\n",
       "  DR1TCARB DR1TSUGR  DR1TFIBE  DR1TTFAT DR1TSFAT DR1TMFAT DR1TPFAT DR1TCHOL \n",
       "1 1.080047 0.7377811 0.9183775 1.28628  1.23187  1.221828 1.045112 0.9260667\n",
       "  DR1TATOC  DR1TATOA  DR1TRET   DR1TVARA  DR1TACAR DR1TBCAR  DR1TCRYP  \n",
       "1 0.8890326 0.1418641 0.7762315 0.7609473 0.161183 0.3050146 0.07474515\n",
       "  DR1TLYCO  DR1TLZ   ... DRD370CQ    DRD370D      DRD370DQ  DRD370E    \n",
       "1 0.4385436 0.309895 ... -0.03643774 -0.003428571 0.0243714 -0.06811411\n",
       "  DRD370EQ    DRD370F      DRD370FQ   DRD370G      DRD370GQ   DRD370H    \n",
       "1 -0.01382653 -0.008284955 0.01211963 -0.008722581 0.01607742 -0.04261048\n",
       "  DRD370HQ   DRD370I     DRD370IQ    DRD370J      DRD370JQ    DRD370K    \n",
       "1 0.04244338 -0.04352653 -0.01277636 -0.009821187 -0.01219649 -0.03879069\n",
       "  DRD370KQ    DRD370L     DRD370LQ     DRD370M     DRD370MQ   DRD370N    \n",
       "1 0.007785874 -0.01146949 -0.001870825 -0.07354699 0.08819441 -0.04351967\n",
       "  DRD370NQ   DRD370O     DRD370OQ      DRD370P     DRD370PQ      DRD370Q   \n",
       "1 0.08783978 -0.01642484 -2.037115e-15 -0.01893185 -1.694189e-18 -0.0628127\n",
       "  DRD370QQ   DRD370R       DRD370RQ    DRD370S     DRD370SQ     DRD370T    \n",
       "1 -0.0424493 -0.0009233808 0.006097671 -0.04209781 -0.002717804 -0.02367424\n",
       "  DRD370TQ  DRD370U     DRD370UQ  \n",
       "1 0.0102852 -0.02283751 0.01058324"
      ]
     },
     "metadata": {},
     "output_type": "display_data"
    }
   ],
   "source": [
    "intracluster_dispersion.2.1 = mean(dist(datax.2.1))\n",
    "cluster_size.2.1 = nrow(datax.2.1)\n",
    "cluster_centroid.2.1 = as.data.frame(t(colMeans(datax.2.1)))\n",
    "\n",
    "data.frame(cluster_size.2.1, intracluster_dispersion.2.1)\n",
    "cluster_centroid.2.1"
   ]
  },
  {
   "cell_type": "code",
   "execution_count": 14,
   "metadata": {
    "hide_input": true
   },
   "outputs": [
    {
     "data": {
      "text/html": [
       "<table>\n",
       "<thead><tr><th scope=col>cluster_size.2.2</th><th scope=col>intracluster_dispersion.2.2</th></tr></thead>\n",
       "<tbody>\n",
       "\t<tr><td>7716   </td><td>12.8746</td></tr>\n",
       "</tbody>\n",
       "</table>\n"
      ],
      "text/latex": [
       "\\begin{tabular}{r|ll}\n",
       " cluster\\_size.2.2 & intracluster\\_dispersion.2.2\\\\\n",
       "\\hline\n",
       "\t 7716    & 12.8746\\\\\n",
       "\\end{tabular}\n"
      ],
      "text/markdown": [
       "\n",
       "| cluster_size.2.2 | intracluster_dispersion.2.2 |\n",
       "|---|---|\n",
       "| 7716    | 12.8746 |\n",
       "\n"
      ],
      "text/plain": [
       "  cluster_size.2.2 intracluster_dispersion.2.2\n",
       "1 7716             12.8746                    "
      ]
     },
     "metadata": {},
     "output_type": "display_data"
    },
    {
     "data": {
      "text/html": [
       "<table>\n",
       "<thead><tr><th scope=col>WTDRD1</th><th scope=col>WTDR2D</th><th scope=col>DR1DRSTZ</th><th scope=col>DR1EXMER</th><th scope=col>DRABF</th><th scope=col>DRDINT</th><th scope=col>DR1DBIH</th><th scope=col>DR1DAY</th><th scope=col>DR1LANG</th><th scope=col>DR1MNRSP</th><th scope=col>DR1HELPD</th><th scope=col>DBQ095Z</th><th scope=col>DBD100</th><th scope=col>DRQSPREP</th><th scope=col>DR1STY</th><th scope=col>DR1SKY</th><th scope=col>DRQSDIET</th><th scope=col>DR1TNUMF</th><th scope=col>DR1TKCAL</th><th scope=col>DR1TPROT</th><th scope=col>DR1TCARB</th><th scope=col>DR1TSUGR</th><th scope=col>DR1TFIBE</th><th scope=col>DR1TTFAT</th><th scope=col>DR1TSFAT</th><th scope=col>DR1TMFAT</th><th scope=col>DR1TPFAT</th><th scope=col>DR1TCHOL</th><th scope=col>DR1TATOC</th><th scope=col>DR1TATOA</th><th scope=col>DR1TRET</th><th scope=col>DR1TVARA</th><th scope=col>DR1TACAR</th><th scope=col>DR1TBCAR</th><th scope=col>DR1TCRYP</th><th scope=col>DR1TLYCO</th><th scope=col>DR1TLZ</th><th scope=col>...</th><th scope=col>DRD370CQ</th><th scope=col>DRD370D</th><th scope=col>DRD370DQ</th><th scope=col>DRD370E</th><th scope=col>DRD370EQ</th><th scope=col>DRD370F</th><th scope=col>DRD370FQ</th><th scope=col>DRD370G</th><th scope=col>DRD370GQ</th><th scope=col>DRD370H</th><th scope=col>DRD370HQ</th><th scope=col>DRD370I</th><th scope=col>DRD370IQ</th><th scope=col>DRD370J</th><th scope=col>DRD370JQ</th><th scope=col>DRD370K</th><th scope=col>DRD370KQ</th><th scope=col>DRD370L</th><th scope=col>DRD370LQ</th><th scope=col>DRD370M</th><th scope=col>DRD370MQ</th><th scope=col>DRD370N</th><th scope=col>DRD370NQ</th><th scope=col>DRD370O</th><th scope=col>DRD370OQ</th><th scope=col>DRD370P</th><th scope=col>DRD370PQ</th><th scope=col>DRD370Q</th><th scope=col>DRD370QQ</th><th scope=col>DRD370R</th><th scope=col>DRD370RQ</th><th scope=col>DRD370S</th><th scope=col>DRD370SQ</th><th scope=col>DRD370T</th><th scope=col>DRD370TQ</th><th scope=col>DRD370U</th><th scope=col>DRD370UQ</th></tr></thead>\n",
       "<tbody>\n",
       "\t<tr><td>-0.08936981  </td><td>-0.04787776  </td><td>0.1017865    </td><td>0.003659994  </td><td>-0.03626229  </td><td>-0.01215184  </td><td>-0.007206733 </td><td>0.005549424  </td><td>0.007825368  </td><td>0.04247662   </td><td>-0.04000648  </td><td>0.02423401   </td><td>-0.01636684  </td><td>-0.001755656 </td><td>0.0374656    </td><td>0.003737739  </td><td>0.01993462   </td><td>-0.1627678   </td><td>-0.3599043   </td><td>-0.3276864   </td><td>-0.2935276   </td><td>-0.2005089   </td><td>-0.2495901   </td><td>-0.3495761   </td><td>-0.3347889   </td><td>-0.3320597   </td><td>-0.2840331   </td><td>-0.2516799   </td><td>-0.241615    </td><td>-0.03855484  </td><td>-0.2109587   </td><td>-0.2068049   </td><td>-0.04380518  </td><td>-0.08289472  </td><td>-0.02031371  </td><td>-0.1191843   </td><td>-0.08422109  </td><td>...          </td><td>0.00990279   </td><td>0.0009317928 </td><td>-0.006623487 </td><td>0.01851157   </td><td>0.003757677  </td><td>0.002251626  </td><td>-0.003293789 </td><td>0.002370561  </td><td>-0.004369407 </td><td>0.01158038   </td><td>-0.01153496  </td><td>0.01182933   </td><td>0.003472269  </td><td>0.002669133  </td><td>0.003314675  </td><td>0.01054226   </td><td>-0.00211599  </td><td>0.003117096  </td><td>0.0005084397 </td><td>0.01998808   </td><td>-0.02396885  </td><td>0.01182747   </td><td>-0.02387248  </td><td>0.004463828  </td><td>-2.034896e-15</td><td>0.005145164  </td><td>-4.604346e-19</td><td>0.01707079   </td><td>0.01153657   </td><td>0.0002509499 </td><td>-0.001657182 </td><td>0.01144104   </td><td>0.0007386257 </td><td>0.006434017  </td><td>-0.002795238 </td><td>0.006206618  </td><td>-0.002876238 </td></tr>\n",
       "</tbody>\n",
       "</table>\n"
      ],
      "text/latex": [
       "\\begin{tabular}{r|llllllllllllllllllllllllllllllllllllllllllllllllllllllllllllllllllllllllllllllllllllllllllllllllllllllllllllllllllllllllllllllllllllllllllllllllllllllll}\n",
       " WTDRD1 & WTDR2D & DR1DRSTZ & DR1EXMER & DRABF & DRDINT & DR1DBIH & DR1DAY & DR1LANG & DR1MNRSP & DR1HELPD & DBQ095Z & DBD100 & DRQSPREP & DR1STY & DR1SKY & DRQSDIET & DR1TNUMF & DR1TKCAL & DR1TPROT & DR1TCARB & DR1TSUGR & DR1TFIBE & DR1TTFAT & DR1TSFAT & DR1TMFAT & DR1TPFAT & DR1TCHOL & DR1TATOC & DR1TATOA & DR1TRET & DR1TVARA & DR1TACAR & DR1TBCAR & DR1TCRYP & DR1TLYCO & DR1TLZ & ... & DRD370CQ & DRD370D & DRD370DQ & DRD370E & DRD370EQ & DRD370F & DRD370FQ & DRD370G & DRD370GQ & DRD370H & DRD370HQ & DRD370I & DRD370IQ & DRD370J & DRD370JQ & DRD370K & DRD370KQ & DRD370L & DRD370LQ & DRD370M & DRD370MQ & DRD370N & DRD370NQ & DRD370O & DRD370OQ & DRD370P & DRD370PQ & DRD370Q & DRD370QQ & DRD370R & DRD370RQ & DRD370S & DRD370SQ & DRD370T & DRD370TQ & DRD370U & DRD370UQ\\\\\n",
       "\\hline\n",
       "\t -0.08936981   & -0.04787776   & 0.1017865     & 0.003659994   & -0.03626229   & -0.01215184   & -0.007206733  & 0.005549424   & 0.007825368   & 0.04247662    & -0.04000648   & 0.02423401    & -0.01636684   & -0.001755656  & 0.0374656     & 0.003737739   & 0.01993462    & -0.1627678    & -0.3599043    & -0.3276864    & -0.2935276    & -0.2005089    & -0.2495901    & -0.3495761    & -0.3347889    & -0.3320597    & -0.2840331    & -0.2516799    & -0.241615     & -0.03855484   & -0.2109587    & -0.2068049    & -0.04380518   & -0.08289472   & -0.02031371   & -0.1191843    & -0.08422109   & ...           & 0.00990279    & 0.0009317928  & -0.006623487  & 0.01851157    & 0.003757677   & 0.002251626   & -0.003293789  & 0.002370561   & -0.004369407  & 0.01158038    & -0.01153496   & 0.01182933    & 0.003472269   & 0.002669133   & 0.003314675   & 0.01054226    & -0.00211599   & 0.003117096   & 0.0005084397  & 0.01998808    & -0.02396885   & 0.01182747    & -0.02387248   & 0.004463828   & -2.034896e-15 & 0.005145164   & -4.604346e-19 & 0.01707079    & 0.01153657    & 0.0002509499  & -0.001657182  & 0.01144104    & 0.0007386257  & 0.006434017   & -0.002795238  & 0.006206618   & -0.002876238 \\\\\n",
       "\\end{tabular}\n"
      ],
      "text/markdown": [
       "\n",
       "| WTDRD1 | WTDR2D | DR1DRSTZ | DR1EXMER | DRABF | DRDINT | DR1DBIH | DR1DAY | DR1LANG | DR1MNRSP | DR1HELPD | DBQ095Z | DBD100 | DRQSPREP | DR1STY | DR1SKY | DRQSDIET | DR1TNUMF | DR1TKCAL | DR1TPROT | DR1TCARB | DR1TSUGR | DR1TFIBE | DR1TTFAT | DR1TSFAT | DR1TMFAT | DR1TPFAT | DR1TCHOL | DR1TATOC | DR1TATOA | DR1TRET | DR1TVARA | DR1TACAR | DR1TBCAR | DR1TCRYP | DR1TLYCO | DR1TLZ | ... | DRD370CQ | DRD370D | DRD370DQ | DRD370E | DRD370EQ | DRD370F | DRD370FQ | DRD370G | DRD370GQ | DRD370H | DRD370HQ | DRD370I | DRD370IQ | DRD370J | DRD370JQ | DRD370K | DRD370KQ | DRD370L | DRD370LQ | DRD370M | DRD370MQ | DRD370N | DRD370NQ | DRD370O | DRD370OQ | DRD370P | DRD370PQ | DRD370Q | DRD370QQ | DRD370R | DRD370RQ | DRD370S | DRD370SQ | DRD370T | DRD370TQ | DRD370U | DRD370UQ |\n",
       "|---|---|---|---|---|---|---|---|---|---|---|---|---|---|---|---|---|---|---|---|---|---|---|---|---|---|---|---|---|---|---|---|---|---|---|---|---|---|---|---|---|---|---|---|---|---|---|---|---|---|---|---|---|---|---|---|---|---|---|---|---|---|---|---|---|---|---|---|---|---|---|---|---|---|---|\n",
       "| -0.08936981   | -0.04787776   | 0.1017865     | 0.003659994   | -0.03626229   | -0.01215184   | -0.007206733  | 0.005549424   | 0.007825368   | 0.04247662    | -0.04000648   | 0.02423401    | -0.01636684   | -0.001755656  | 0.0374656     | 0.003737739   | 0.01993462    | -0.1627678    | -0.3599043    | -0.3276864    | -0.2935276    | -0.2005089    | -0.2495901    | -0.3495761    | -0.3347889    | -0.3320597    | -0.2840331    | -0.2516799    | -0.241615     | -0.03855484   | -0.2109587    | -0.2068049    | -0.04380518   | -0.08289472   | -0.02031371   | -0.1191843    | -0.08422109   | ...           | 0.00990279    | 0.0009317928  | -0.006623487  | 0.01851157    | 0.003757677   | 0.002251626   | -0.003293789  | 0.002370561   | -0.004369407  | 0.01158038    | -0.01153496   | 0.01182933    | 0.003472269   | 0.002669133   | 0.003314675   | 0.01054226    | -0.00211599   | 0.003117096   | 0.0005084397  | 0.01998808    | -0.02396885   | 0.01182747    | -0.02387248   | 0.004463828   | -2.034896e-15 | 0.005145164   | -4.604346e-19 | 0.01707079    | 0.01153657    | 0.0002509499  | -0.001657182  | 0.01144104    | 0.0007386257  | 0.006434017   | -0.002795238  | 0.006206618   | -0.002876238  |\n",
       "\n"
      ],
      "text/plain": [
       "  WTDRD1      WTDR2D      DR1DRSTZ  DR1EXMER    DRABF       DRDINT     \n",
       "1 -0.08936981 -0.04787776 0.1017865 0.003659994 -0.03626229 -0.01215184\n",
       "  DR1DBIH      DR1DAY      DR1LANG     DR1MNRSP   DR1HELPD    DBQ095Z   \n",
       "1 -0.007206733 0.005549424 0.007825368 0.04247662 -0.04000648 0.02423401\n",
       "  DBD100      DRQSPREP     DR1STY    DR1SKY      DRQSDIET   DR1TNUMF  \n",
       "1 -0.01636684 -0.001755656 0.0374656 0.003737739 0.01993462 -0.1627678\n",
       "  DR1TKCAL   DR1TPROT   DR1TCARB   DR1TSUGR   DR1TFIBE   DR1TTFAT   DR1TSFAT  \n",
       "1 -0.3599043 -0.3276864 -0.2935276 -0.2005089 -0.2495901 -0.3495761 -0.3347889\n",
       "  DR1TMFAT   DR1TPFAT   DR1TCHOL   DR1TATOC  DR1TATOA    DR1TRET    DR1TVARA  \n",
       "1 -0.3320597 -0.2840331 -0.2516799 -0.241615 -0.03855484 -0.2109587 -0.2068049\n",
       "  DR1TACAR    DR1TBCAR    DR1TCRYP    DR1TLYCO   DR1TLZ      ... DRD370CQ  \n",
       "1 -0.04380518 -0.08289472 -0.02031371 -0.1191843 -0.08422109 ... 0.00990279\n",
       "  DRD370D      DRD370DQ     DRD370E    DRD370EQ    DRD370F     DRD370FQ    \n",
       "1 0.0009317928 -0.006623487 0.01851157 0.003757677 0.002251626 -0.003293789\n",
       "  DRD370G     DRD370GQ     DRD370H    DRD370HQ    DRD370I    DRD370IQ   \n",
       "1 0.002370561 -0.004369407 0.01158038 -0.01153496 0.01182933 0.003472269\n",
       "  DRD370J     DRD370JQ    DRD370K    DRD370KQ    DRD370L     DRD370LQ    \n",
       "1 0.002669133 0.003314675 0.01054226 -0.00211599 0.003117096 0.0005084397\n",
       "  DRD370M    DRD370MQ    DRD370N    DRD370NQ    DRD370O     DRD370OQ     \n",
       "1 0.01998808 -0.02396885 0.01182747 -0.02387248 0.004463828 -2.034896e-15\n",
       "  DRD370P     DRD370PQ      DRD370Q    DRD370QQ   DRD370R      DRD370RQ    \n",
       "1 0.005145164 -4.604346e-19 0.01707079 0.01153657 0.0002509499 -0.001657182\n",
       "  DRD370S    DRD370SQ     DRD370T     DRD370TQ     DRD370U     DRD370UQ    \n",
       "1 0.01144104 0.0007386257 0.006434017 -0.002795238 0.006206618 -0.002876238"
      ]
     },
     "metadata": {},
     "output_type": "display_data"
    }
   ],
   "source": [
    "intracluster_dispersion.2.2 = mean(dist(datax.2.2))\n",
    "cluster_size.2.2 = nrow(datax.2.2)\n",
    "cluster_centroid.2.2 = as.data.frame(t(colMeans(datax.2.2)))\n",
    "\n",
    "data.frame(cluster_size.2.2, intracluster_dispersion.2.2)\n",
    "cluster_centroid.2.2"
   ]
  },
  {
   "cell_type": "code",
   "execution_count": 15,
   "metadata": {
    "hide_input": true
   },
   "outputs": [
    {
     "data": {
      "text/html": [
       "<table>\n",
       "<thead><tr><th scope=col>mean_intercluster_dispersion.2</th><th scope=col>mean_intracluster_dispersion.2</th><th scope=col>quality.2</th></tr></thead>\n",
       "<tbody>\n",
       "\t<tr><td>9.052272 </td><td>16.66055 </td><td>0.5433357</td></tr>\n",
       "</tbody>\n",
       "</table>\n"
      ],
      "text/latex": [
       "\\begin{tabular}{r|lll}\n",
       " mean\\_intercluster\\_dispersion.2 & mean\\_intracluster\\_dispersion.2 & quality.2\\\\\n",
       "\\hline\n",
       "\t 9.052272  & 16.66055  & 0.5433357\\\\\n",
       "\\end{tabular}\n"
      ],
      "text/markdown": [
       "\n",
       "| mean_intercluster_dispersion.2 | mean_intracluster_dispersion.2 | quality.2 |\n",
       "|---|---|---|\n",
       "| 9.052272  | 16.66055  | 0.5433357 |\n",
       "\n"
      ],
      "text/plain": [
       "  mean_intercluster_dispersion.2 mean_intracluster_dispersion.2 quality.2\n",
       "1 9.052272                       16.66055                       0.5433357"
      ]
     },
     "metadata": {},
     "output_type": "display_data"
    }
   ],
   "source": [
    "mean_intracluster_dispersion.2 = mean(c(intracluster_dispersion.2.1, intracluster_dispersion.2.2))\n",
    "mean_intercluster_dispersion.2 = mean(dist(rbind(cluster_centroid.2.1, cluster_centroid.2.2)))\n",
    "quality.2 = mean_intercluster_dispersion.2 / mean_intracluster_dispersion.2\n",
    "data.frame(mean_intercluster_dispersion.2, mean_intracluster_dispersion.2, quality.2)"
   ]
  },
  {
   "cell_type": "markdown",
   "metadata": {},
   "source": [
    "**Evaluate the 3-segment market segmentation model by dispersion ratio.**"
   ]
  },
  {
   "cell_type": "code",
   "execution_count": 16,
   "metadata": {
    "hide_input": true
   },
   "outputs": [],
   "source": [
    "datax.3.1 = datax.norm[cluster.3==1,]\n",
    "datax.3.2 = datax.norm[cluster.3==2,]\n",
    "datax.3.3 = datax.norm[cluster.3==3,]"
   ]
  },
  {
   "cell_type": "code",
   "execution_count": 17,
   "metadata": {
    "hide_input": true
   },
   "outputs": [
    {
     "data": {
      "text/html": [
       "<table>\n",
       "<thead><tr><th scope=col>cluster_size.3.1</th><th scope=col>intracluster_dispersion.3.1</th></tr></thead>\n",
       "<tbody>\n",
       "\t<tr><td>2866    </td><td>16.26149</td></tr>\n",
       "</tbody>\n",
       "</table>\n"
      ],
      "text/latex": [
       "\\begin{tabular}{r|ll}\n",
       " cluster\\_size.3.1 & intracluster\\_dispersion.3.1\\\\\n",
       "\\hline\n",
       "\t 2866     & 16.26149\\\\\n",
       "\\end{tabular}\n"
      ],
      "text/markdown": [
       "\n",
       "| cluster_size.3.1 | intracluster_dispersion.3.1 |\n",
       "|---|---|\n",
       "| 2866     | 16.26149 |\n",
       "\n"
      ],
      "text/plain": [
       "  cluster_size.3.1 intracluster_dispersion.3.1\n",
       "1 2866             16.26149                   "
      ]
     },
     "metadata": {},
     "output_type": "display_data"
    },
    {
     "data": {
      "text/html": [
       "<table>\n",
       "<thead><tr><th scope=col>WTDRD1</th><th scope=col>WTDR2D</th><th scope=col>DR1DRSTZ</th><th scope=col>DR1EXMER</th><th scope=col>DRABF</th><th scope=col>DRDINT</th><th scope=col>DR1DBIH</th><th scope=col>DR1DAY</th><th scope=col>DR1LANG</th><th scope=col>DR1MNRSP</th><th scope=col>DR1HELPD</th><th scope=col>DBQ095Z</th><th scope=col>DBD100</th><th scope=col>DRQSPREP</th><th scope=col>DR1STY</th><th scope=col>DR1SKY</th><th scope=col>DRQSDIET</th><th scope=col>DR1TNUMF</th><th scope=col>DR1TKCAL</th><th scope=col>DR1TPROT</th><th scope=col>DR1TCARB</th><th scope=col>DR1TSUGR</th><th scope=col>DR1TFIBE</th><th scope=col>DR1TTFAT</th><th scope=col>DR1TSFAT</th><th scope=col>DR1TMFAT</th><th scope=col>DR1TPFAT</th><th scope=col>DR1TCHOL</th><th scope=col>DR1TATOC</th><th scope=col>DR1TATOA</th><th scope=col>DR1TRET</th><th scope=col>DR1TVARA</th><th scope=col>DR1TACAR</th><th scope=col>DR1TBCAR</th><th scope=col>DR1TCRYP</th><th scope=col>DR1TLYCO</th><th scope=col>DR1TLZ</th><th scope=col>...</th><th scope=col>DRD370CQ</th><th scope=col>DRD370D</th><th scope=col>DRD370DQ</th><th scope=col>DRD370E</th><th scope=col>DRD370EQ</th><th scope=col>DRD370F</th><th scope=col>DRD370FQ</th><th scope=col>DRD370G</th><th scope=col>DRD370GQ</th><th scope=col>DRD370H</th><th scope=col>DRD370HQ</th><th scope=col>DRD370I</th><th scope=col>DRD370IQ</th><th scope=col>DRD370J</th><th scope=col>DRD370JQ</th><th scope=col>DRD370K</th><th scope=col>DRD370KQ</th><th scope=col>DRD370L</th><th scope=col>DRD370LQ</th><th scope=col>DRD370M</th><th scope=col>DRD370MQ</th><th scope=col>DRD370N</th><th scope=col>DRD370NQ</th><th scope=col>DRD370O</th><th scope=col>DRD370OQ</th><th scope=col>DRD370P</th><th scope=col>DRD370PQ</th><th scope=col>DRD370Q</th><th scope=col>DRD370QQ</th><th scope=col>DRD370R</th><th scope=col>DRD370RQ</th><th scope=col>DRD370S</th><th scope=col>DRD370SQ</th><th scope=col>DRD370T</th><th scope=col>DRD370TQ</th><th scope=col>DRD370U</th><th scope=col>DRD370UQ</th></tr></thead>\n",
       "<tbody>\n",
       "\t<tr><td>0.31399      </td><td>0.1850478    </td><td>-0.3745279   </td><td>-0.01048378  </td><td>0.1334286    </td><td>0.02880739   </td><td>0.001415105  </td><td>-0.01419659  </td><td>-0.04043088  </td><td>-0.1257706   </td><td>0.05931001   </td><td>-0.09086551  </td><td>0.04580134   </td><td>-0.006959658 </td><td>-0.1339237   </td><td>-0.01302101  </td><td>-0.09548087  </td><td>0.4047693    </td><td>0.5376201    </td><td>0.4873692    </td><td>0.4626932    </td><td>0.3132333    </td><td>0.427029     </td><td>0.5095991    </td><td>0.494395     </td><td>0.4746038    </td><td>0.4152377    </td><td>0.3698604    </td><td>0.2889582    </td><td>-0.03136949  </td><td>0.3019961    </td><td>0.3330099    </td><td>0.11691      </td><td>0.1708379    </td><td>0.06568553   </td><td>0.1981176    </td><td>0.1612434    </td><td>...          </td><td>-0.00741314  </td><td>0.03652445   </td><td>-0.009956512 </td><td>-0.02320575  </td><td>-0.007114419 </td><td>-0.00266185  </td><td>0.0005216303 </td><td>-0.009982076 </td><td>-0.0114848   </td><td>-0.02123479  </td><td>0.01480402   </td><td>0.004761481  </td><td>-0.04133571  </td><td>0.02376992   </td><td>-0.01784789  </td><td>-0.0183664   </td><td>-0.003184355 </td><td>0.02798521   </td><td>-0.0009955263</td><td>-0.076682    </td><td>0.007804561  </td><td>0.003535448  </td><td>0.01300808   </td><td>0.02523532   </td><td>0.02020804   </td><td>0.007107634  </td><td>-0.02033467  </td><td>-0.02999191  </td><td>-0.0005066783</td><td>-0.01234071  </td><td>0.02387782   </td><td>-0.02098019  </td><td>-0.000662856 </td><td>-0.0121217   </td><td>-0.03413273  </td><td>-0.008628664 </td><td>-0.01042568  </td></tr>\n",
       "</tbody>\n",
       "</table>\n"
      ],
      "text/latex": [
       "\\begin{tabular}{r|llllllllllllllllllllllllllllllllllllllllllllllllllllllllllllllllllllllllllllllllllllllllllllllllllllllllllllllllllllllllllllllllllllllllllllllllllllllll}\n",
       " WTDRD1 & WTDR2D & DR1DRSTZ & DR1EXMER & DRABF & DRDINT & DR1DBIH & DR1DAY & DR1LANG & DR1MNRSP & DR1HELPD & DBQ095Z & DBD100 & DRQSPREP & DR1STY & DR1SKY & DRQSDIET & DR1TNUMF & DR1TKCAL & DR1TPROT & DR1TCARB & DR1TSUGR & DR1TFIBE & DR1TTFAT & DR1TSFAT & DR1TMFAT & DR1TPFAT & DR1TCHOL & DR1TATOC & DR1TATOA & DR1TRET & DR1TVARA & DR1TACAR & DR1TBCAR & DR1TCRYP & DR1TLYCO & DR1TLZ & ... & DRD370CQ & DRD370D & DRD370DQ & DRD370E & DRD370EQ & DRD370F & DRD370FQ & DRD370G & DRD370GQ & DRD370H & DRD370HQ & DRD370I & DRD370IQ & DRD370J & DRD370JQ & DRD370K & DRD370KQ & DRD370L & DRD370LQ & DRD370M & DRD370MQ & DRD370N & DRD370NQ & DRD370O & DRD370OQ & DRD370P & DRD370PQ & DRD370Q & DRD370QQ & DRD370R & DRD370RQ & DRD370S & DRD370SQ & DRD370T & DRD370TQ & DRD370U & DRD370UQ\\\\\n",
       "\\hline\n",
       "\t 0.31399       & 0.1850478     & -0.3745279    & -0.01048378   & 0.1334286     & 0.02880739    & 0.001415105   & -0.01419659   & -0.04043088   & -0.1257706    & 0.05931001    & -0.09086551   & 0.04580134    & -0.006959658  & -0.1339237    & -0.01302101   & -0.09548087   & 0.4047693     & 0.5376201     & 0.4873692     & 0.4626932     & 0.3132333     & 0.427029      & 0.5095991     & 0.494395      & 0.4746038     & 0.4152377     & 0.3698604     & 0.2889582     & -0.03136949   & 0.3019961     & 0.3330099     & 0.11691       & 0.1708379     & 0.06568553    & 0.1981176     & 0.1612434     & ...           & -0.00741314   & 0.03652445    & -0.009956512  & -0.02320575   & -0.007114419  & -0.00266185   & 0.0005216303  & -0.009982076  & -0.0114848    & -0.02123479   & 0.01480402    & 0.004761481   & -0.04133571   & 0.02376992    & -0.01784789   & -0.0183664    & -0.003184355  & 0.02798521    & -0.0009955263 & -0.076682     & 0.007804561   & 0.003535448   & 0.01300808    & 0.02523532    & 0.02020804    & 0.007107634   & -0.02033467   & -0.02999191   & -0.0005066783 & -0.01234071   & 0.02387782    & -0.02098019   & -0.000662856  & -0.0121217    & -0.03413273   & -0.008628664  & -0.01042568  \\\\\n",
       "\\end{tabular}\n"
      ],
      "text/markdown": [
       "\n",
       "| WTDRD1 | WTDR2D | DR1DRSTZ | DR1EXMER | DRABF | DRDINT | DR1DBIH | DR1DAY | DR1LANG | DR1MNRSP | DR1HELPD | DBQ095Z | DBD100 | DRQSPREP | DR1STY | DR1SKY | DRQSDIET | DR1TNUMF | DR1TKCAL | DR1TPROT | DR1TCARB | DR1TSUGR | DR1TFIBE | DR1TTFAT | DR1TSFAT | DR1TMFAT | DR1TPFAT | DR1TCHOL | DR1TATOC | DR1TATOA | DR1TRET | DR1TVARA | DR1TACAR | DR1TBCAR | DR1TCRYP | DR1TLYCO | DR1TLZ | ... | DRD370CQ | DRD370D | DRD370DQ | DRD370E | DRD370EQ | DRD370F | DRD370FQ | DRD370G | DRD370GQ | DRD370H | DRD370HQ | DRD370I | DRD370IQ | DRD370J | DRD370JQ | DRD370K | DRD370KQ | DRD370L | DRD370LQ | DRD370M | DRD370MQ | DRD370N | DRD370NQ | DRD370O | DRD370OQ | DRD370P | DRD370PQ | DRD370Q | DRD370QQ | DRD370R | DRD370RQ | DRD370S | DRD370SQ | DRD370T | DRD370TQ | DRD370U | DRD370UQ |\n",
       "|---|---|---|---|---|---|---|---|---|---|---|---|---|---|---|---|---|---|---|---|---|---|---|---|---|---|---|---|---|---|---|---|---|---|---|---|---|---|---|---|---|---|---|---|---|---|---|---|---|---|---|---|---|---|---|---|---|---|---|---|---|---|---|---|---|---|---|---|---|---|---|---|---|---|---|\n",
       "| 0.31399       | 0.1850478     | -0.3745279    | -0.01048378   | 0.1334286     | 0.02880739    | 0.001415105   | -0.01419659   | -0.04043088   | -0.1257706    | 0.05931001    | -0.09086551   | 0.04580134    | -0.006959658  | -0.1339237    | -0.01302101   | -0.09548087   | 0.4047693     | 0.5376201     | 0.4873692     | 0.4626932     | 0.3132333     | 0.427029      | 0.5095991     | 0.494395      | 0.4746038     | 0.4152377     | 0.3698604     | 0.2889582     | -0.03136949   | 0.3019961     | 0.3330099     | 0.11691       | 0.1708379     | 0.06568553    | 0.1981176     | 0.1612434     | ...           | -0.00741314   | 0.03652445    | -0.009956512  | -0.02320575   | -0.007114419  | -0.00266185   | 0.0005216303  | -0.009982076  | -0.0114848    | -0.02123479   | 0.01480402    | 0.004761481   | -0.04133571   | 0.02376992    | -0.01784789   | -0.0183664    | -0.003184355  | 0.02798521    | -0.0009955263 | -0.076682     | 0.007804561   | 0.003535448   | 0.01300808    | 0.02523532    | 0.02020804    | 0.007107634   | -0.02033467   | -0.02999191   | -0.0005066783 | -0.01234071   | 0.02387782    | -0.02098019   | -0.000662856  | -0.0121217    | -0.03413273   | -0.008628664  | -0.01042568   |\n",
       "\n"
      ],
      "text/plain": [
       "  WTDRD1  WTDR2D    DR1DRSTZ   DR1EXMER    DRABF     DRDINT     DR1DBIH    \n",
       "1 0.31399 0.1850478 -0.3745279 -0.01048378 0.1334286 0.02880739 0.001415105\n",
       "  DR1DAY      DR1LANG     DR1MNRSP   DR1HELPD   DBQ095Z     DBD100    \n",
       "1 -0.01419659 -0.04043088 -0.1257706 0.05931001 -0.09086551 0.04580134\n",
       "  DRQSPREP     DR1STY     DR1SKY      DRQSDIET    DR1TNUMF  DR1TKCAL  DR1TPROT \n",
       "1 -0.006959658 -0.1339237 -0.01302101 -0.09548087 0.4047693 0.5376201 0.4873692\n",
       "  DR1TCARB  DR1TSUGR  DR1TFIBE DR1TTFAT  DR1TSFAT DR1TMFAT  DR1TPFAT  DR1TCHOL \n",
       "1 0.4626932 0.3132333 0.427029 0.5095991 0.494395 0.4746038 0.4152377 0.3698604\n",
       "  DR1TATOC  DR1TATOA    DR1TRET   DR1TVARA  DR1TACAR DR1TBCAR  DR1TCRYP  \n",
       "1 0.2889582 -0.03136949 0.3019961 0.3330099 0.11691  0.1708379 0.06568553\n",
       "  DR1TLYCO  DR1TLZ    ... DRD370CQ    DRD370D    DRD370DQ     DRD370E    \n",
       "1 0.1981176 0.1612434 ... -0.00741314 0.03652445 -0.009956512 -0.02320575\n",
       "  DRD370EQ     DRD370F     DRD370FQ     DRD370G      DRD370GQ   DRD370H    \n",
       "1 -0.007114419 -0.00266185 0.0005216303 -0.009982076 -0.0114848 -0.02123479\n",
       "  DRD370HQ   DRD370I     DRD370IQ    DRD370J    DRD370JQ    DRD370K   \n",
       "1 0.01480402 0.004761481 -0.04133571 0.02376992 -0.01784789 -0.0183664\n",
       "  DRD370KQ     DRD370L    DRD370LQ      DRD370M   DRD370MQ    DRD370N    \n",
       "1 -0.003184355 0.02798521 -0.0009955263 -0.076682 0.007804561 0.003535448\n",
       "  DRD370NQ   DRD370O    DRD370OQ   DRD370P     DRD370PQ    DRD370Q    \n",
       "1 0.01300808 0.02523532 0.02020804 0.007107634 -0.02033467 -0.02999191\n",
       "  DRD370QQ      DRD370R     DRD370RQ   DRD370S     DRD370SQ     DRD370T   \n",
       "1 -0.0005066783 -0.01234071 0.02387782 -0.02098019 -0.000662856 -0.0121217\n",
       "  DRD370TQ    DRD370U      DRD370UQ   \n",
       "1 -0.03413273 -0.008628664 -0.01042568"
      ]
     },
     "metadata": {},
     "output_type": "display_data"
    }
   ],
   "source": [
    "intracluster_dispersion.3.1 = mean(dist(datax.3.1))\n",
    "cluster_size.3.1 = nrow(datax.3.1)\n",
    "cluster_centroid.3.1 = as.data.frame(t(colMeans(datax.3.1)))\n",
    "\n",
    "data.frame(cluster_size.3.1, intracluster_dispersion.3.1)\n",
    "cluster_centroid.3.1"
   ]
  },
  {
   "cell_type": "code",
   "execution_count": 18,
   "metadata": {
    "hide_input": true
   },
   "outputs": [
    {
     "data": {
      "text/html": [
       "<table>\n",
       "<thead><tr><th scope=col>cluster_size.3.2</th><th scope=col>intracluster_dispersion.3.2</th></tr></thead>\n",
       "<tbody>\n",
       "\t<tr><td>6263    </td><td>12.17165</td></tr>\n",
       "</tbody>\n",
       "</table>\n"
      ],
      "text/latex": [
       "\\begin{tabular}{r|ll}\n",
       " cluster\\_size.3.2 & intracluster\\_dispersion.3.2\\\\\n",
       "\\hline\n",
       "\t 6263     & 12.17165\\\\\n",
       "\\end{tabular}\n"
      ],
      "text/markdown": [
       "\n",
       "| cluster_size.3.2 | intracluster_dispersion.3.2 |\n",
       "|---|---|\n",
       "| 6263     | 12.17165 |\n",
       "\n"
      ],
      "text/plain": [
       "  cluster_size.3.2 intracluster_dispersion.3.2\n",
       "1 6263             12.17165                   "
      ]
     },
     "metadata": {},
     "output_type": "display_data"
    },
    {
     "data": {
      "text/html": [
       "<table>\n",
       "<thead><tr><th scope=col>WTDRD1</th><th scope=col>WTDR2D</th><th scope=col>DR1DRSTZ</th><th scope=col>DR1EXMER</th><th scope=col>DRABF</th><th scope=col>DRDINT</th><th scope=col>DR1DBIH</th><th scope=col>DR1DAY</th><th scope=col>DR1LANG</th><th scope=col>DR1MNRSP</th><th scope=col>DR1HELPD</th><th scope=col>DBQ095Z</th><th scope=col>DBD100</th><th scope=col>DRQSPREP</th><th scope=col>DR1STY</th><th scope=col>DR1SKY</th><th scope=col>DRQSDIET</th><th scope=col>DR1TNUMF</th><th scope=col>DR1TKCAL</th><th scope=col>DR1TPROT</th><th scope=col>DR1TCARB</th><th scope=col>DR1TSUGR</th><th scope=col>DR1TFIBE</th><th scope=col>DR1TTFAT</th><th scope=col>DR1TSFAT</th><th scope=col>DR1TMFAT</th><th scope=col>DR1TPFAT</th><th scope=col>DR1TCHOL</th><th scope=col>DR1TATOC</th><th scope=col>DR1TATOA</th><th scope=col>DR1TRET</th><th scope=col>DR1TVARA</th><th scope=col>DR1TACAR</th><th scope=col>DR1TBCAR</th><th scope=col>DR1TCRYP</th><th scope=col>DR1TLYCO</th><th scope=col>DR1TLZ</th><th scope=col>...</th><th scope=col>DRD370CQ</th><th scope=col>DRD370D</th><th scope=col>DRD370DQ</th><th scope=col>DRD370E</th><th scope=col>DRD370EQ</th><th scope=col>DRD370F</th><th scope=col>DRD370FQ</th><th scope=col>DRD370G</th><th scope=col>DRD370GQ</th><th scope=col>DRD370H</th><th scope=col>DRD370HQ</th><th scope=col>DRD370I</th><th scope=col>DRD370IQ</th><th scope=col>DRD370J</th><th scope=col>DRD370JQ</th><th scope=col>DRD370K</th><th scope=col>DRD370KQ</th><th scope=col>DRD370L</th><th scope=col>DRD370LQ</th><th scope=col>DRD370M</th><th scope=col>DRD370MQ</th><th scope=col>DRD370N</th><th scope=col>DRD370NQ</th><th scope=col>DRD370O</th><th scope=col>DRD370OQ</th><th scope=col>DRD370P</th><th scope=col>DRD370PQ</th><th scope=col>DRD370Q</th><th scope=col>DRD370QQ</th><th scope=col>DRD370R</th><th scope=col>DRD370RQ</th><th scope=col>DRD370S</th><th scope=col>DRD370SQ</th><th scope=col>DRD370T</th><th scope=col>DRD370TQ</th><th scope=col>DRD370U</th><th scope=col>DRD370UQ</th></tr></thead>\n",
       "<tbody>\n",
       "\t<tr><td>-0.1727031   </td><td>-0.09278391  </td><td>0.2122903    </td><td>0.008928479  </td><td>-0.07563015  </td><td>-0.01105132  </td><td>-0.006041571 </td><td>0.007885221  </td><td>0.0187781    </td><td>0.07986327   </td><td>-0.05517469  </td><td>0.0538557    </td><td>-0.0361208   </td><td>-0.002629737 </td><td>0.07732407   </td><td>0.00978851   </td><td>0.04859918   </td><td>-0.2730166   </td><td>-0.4973534   </td><td>-0.4535104   </td><td>-0.411543    </td><td>-0.2799511   </td><td>-0.3625021   </td><td>-0.4772684   </td><td>-0.4550617   </td><td>-0.452154    </td><td>-0.3908628   </td><td>-0.3426485   </td><td>-0.3140689   </td><td>-0.0309552   </td><td>-0.2795874   </td><td>-0.2843516   </td><td>-0.07536835  </td><td>-0.1237843   </td><td>-0.04374668  </td><td>-0.1672479   </td><td>-0.1278048   </td><td>...          </td><td>0.01243041   </td><td>-0.0089623   </td><td>-0.007600119 </td><td>0.0185864    </td><td>0.008123141  </td><td>0.0008776848 </td><td>-0.0008933253</td><td>0.008716593  </td><td>0.003393138  </td><td>0.01343742   </td><td>-0.01161333  </td><td>0.01042408   </td><td>0.01315359   </td><td>0.002426106  </td><td>0.01225101   </td><td>0.01191488   </td><td>-0.005534637 </td><td>-0.01060143  </td><td>0.002676421  </td><td>0.03969622   </td><td>-0.02183538  </td><td>0.005520446  </td><td>-0.02690847  </td><td>0.00230537   </td><td>0.001946814  </td><td>-0.002792057 </td><td>-5.672543e-19</td><td>0.02484978   </td><td>0.007489083  </td><td>0.01237976   </td><td>-0.01186069  </td><td>0.01432597   </td><td>0.006066566  </td><td>0.008237557  </td><td>0.008249646  </td><td>0.002311961  </td><td>-0.003296361 </td></tr>\n",
       "</tbody>\n",
       "</table>\n"
      ],
      "text/latex": [
       "\\begin{tabular}{r|llllllllllllllllllllllllllllllllllllllllllllllllllllllllllllllllllllllllllllllllllllllllllllllllllllllllllllllllllllllllllllllllllllllllllllllllllllllll}\n",
       " WTDRD1 & WTDR2D & DR1DRSTZ & DR1EXMER & DRABF & DRDINT & DR1DBIH & DR1DAY & DR1LANG & DR1MNRSP & DR1HELPD & DBQ095Z & DBD100 & DRQSPREP & DR1STY & DR1SKY & DRQSDIET & DR1TNUMF & DR1TKCAL & DR1TPROT & DR1TCARB & DR1TSUGR & DR1TFIBE & DR1TTFAT & DR1TSFAT & DR1TMFAT & DR1TPFAT & DR1TCHOL & DR1TATOC & DR1TATOA & DR1TRET & DR1TVARA & DR1TACAR & DR1TBCAR & DR1TCRYP & DR1TLYCO & DR1TLZ & ... & DRD370CQ & DRD370D & DRD370DQ & DRD370E & DRD370EQ & DRD370F & DRD370FQ & DRD370G & DRD370GQ & DRD370H & DRD370HQ & DRD370I & DRD370IQ & DRD370J & DRD370JQ & DRD370K & DRD370KQ & DRD370L & DRD370LQ & DRD370M & DRD370MQ & DRD370N & DRD370NQ & DRD370O & DRD370OQ & DRD370P & DRD370PQ & DRD370Q & DRD370QQ & DRD370R & DRD370RQ & DRD370S & DRD370SQ & DRD370T & DRD370TQ & DRD370U & DRD370UQ\\\\\n",
       "\\hline\n",
       "\t -0.1727031    & -0.09278391   & 0.2122903     & 0.008928479   & -0.07563015   & -0.01105132   & -0.006041571  & 0.007885221   & 0.0187781     & 0.07986327    & -0.05517469   & 0.0538557     & -0.0361208    & -0.002629737  & 0.07732407    & 0.00978851    & 0.04859918    & -0.2730166    & -0.4973534    & -0.4535104    & -0.411543     & -0.2799511    & -0.3625021    & -0.4772684    & -0.4550617    & -0.452154     & -0.3908628    & -0.3426485    & -0.3140689    & -0.0309552    & -0.2795874    & -0.2843516    & -0.07536835   & -0.1237843    & -0.04374668   & -0.1672479    & -0.1278048    & ...           & 0.01243041    & -0.0089623    & -0.007600119  & 0.0185864     & 0.008123141   & 0.0008776848  & -0.0008933253 & 0.008716593   & 0.003393138   & 0.01343742    & -0.01161333   & 0.01042408    & 0.01315359    & 0.002426106   & 0.01225101    & 0.01191488    & -0.005534637  & -0.01060143   & 0.002676421   & 0.03969622    & -0.02183538   & 0.005520446   & -0.02690847   & 0.00230537    & 0.001946814   & -0.002792057  & -5.672543e-19 & 0.02484978    & 0.007489083   & 0.01237976    & -0.01186069   & 0.01432597    & 0.006066566   & 0.008237557   & 0.008249646   & 0.002311961   & -0.003296361 \\\\\n",
       "\\end{tabular}\n"
      ],
      "text/markdown": [
       "\n",
       "| WTDRD1 | WTDR2D | DR1DRSTZ | DR1EXMER | DRABF | DRDINT | DR1DBIH | DR1DAY | DR1LANG | DR1MNRSP | DR1HELPD | DBQ095Z | DBD100 | DRQSPREP | DR1STY | DR1SKY | DRQSDIET | DR1TNUMF | DR1TKCAL | DR1TPROT | DR1TCARB | DR1TSUGR | DR1TFIBE | DR1TTFAT | DR1TSFAT | DR1TMFAT | DR1TPFAT | DR1TCHOL | DR1TATOC | DR1TATOA | DR1TRET | DR1TVARA | DR1TACAR | DR1TBCAR | DR1TCRYP | DR1TLYCO | DR1TLZ | ... | DRD370CQ | DRD370D | DRD370DQ | DRD370E | DRD370EQ | DRD370F | DRD370FQ | DRD370G | DRD370GQ | DRD370H | DRD370HQ | DRD370I | DRD370IQ | DRD370J | DRD370JQ | DRD370K | DRD370KQ | DRD370L | DRD370LQ | DRD370M | DRD370MQ | DRD370N | DRD370NQ | DRD370O | DRD370OQ | DRD370P | DRD370PQ | DRD370Q | DRD370QQ | DRD370R | DRD370RQ | DRD370S | DRD370SQ | DRD370T | DRD370TQ | DRD370U | DRD370UQ |\n",
       "|---|---|---|---|---|---|---|---|---|---|---|---|---|---|---|---|---|---|---|---|---|---|---|---|---|---|---|---|---|---|---|---|---|---|---|---|---|---|---|---|---|---|---|---|---|---|---|---|---|---|---|---|---|---|---|---|---|---|---|---|---|---|---|---|---|---|---|---|---|---|---|---|---|---|---|\n",
       "| -0.1727031    | -0.09278391   | 0.2122903     | 0.008928479   | -0.07563015   | -0.01105132   | -0.006041571  | 0.007885221   | 0.0187781     | 0.07986327    | -0.05517469   | 0.0538557     | -0.0361208    | -0.002629737  | 0.07732407    | 0.00978851    | 0.04859918    | -0.2730166    | -0.4973534    | -0.4535104    | -0.411543     | -0.2799511    | -0.3625021    | -0.4772684    | -0.4550617    | -0.452154     | -0.3908628    | -0.3426485    | -0.3140689    | -0.0309552    | -0.2795874    | -0.2843516    | -0.07536835   | -0.1237843    | -0.04374668   | -0.1672479    | -0.1278048    | ...           | 0.01243041    | -0.0089623    | -0.007600119  | 0.0185864     | 0.008123141   | 0.0008776848  | -0.0008933253 | 0.008716593   | 0.003393138   | 0.01343742    | -0.01161333   | 0.01042408    | 0.01315359    | 0.002426106   | 0.01225101    | 0.01191488    | -0.005534637  | -0.01060143   | 0.002676421   | 0.03969622    | -0.02183538   | 0.005520446   | -0.02690847   | 0.00230537    | 0.001946814   | -0.002792057  | -5.672543e-19 | 0.02484978    | 0.007489083   | 0.01237976    | -0.01186069   | 0.01432597    | 0.006066566   | 0.008237557   | 0.008249646   | 0.002311961   | -0.003296361  |\n",
       "\n"
      ],
      "text/plain": [
       "  WTDRD1     WTDR2D      DR1DRSTZ  DR1EXMER    DRABF       DRDINT     \n",
       "1 -0.1727031 -0.09278391 0.2122903 0.008928479 -0.07563015 -0.01105132\n",
       "  DR1DBIH      DR1DAY      DR1LANG   DR1MNRSP   DR1HELPD    DBQ095Z  \n",
       "1 -0.006041571 0.007885221 0.0187781 0.07986327 -0.05517469 0.0538557\n",
       "  DBD100     DRQSPREP     DR1STY     DR1SKY     DRQSDIET   DR1TNUMF  \n",
       "1 -0.0361208 -0.002629737 0.07732407 0.00978851 0.04859918 -0.2730166\n",
       "  DR1TKCAL   DR1TPROT   DR1TCARB  DR1TSUGR   DR1TFIBE   DR1TTFAT   DR1TSFAT  \n",
       "1 -0.4973534 -0.4535104 -0.411543 -0.2799511 -0.3625021 -0.4772684 -0.4550617\n",
       "  DR1TMFAT  DR1TPFAT   DR1TCHOL   DR1TATOC   DR1TATOA   DR1TRET    DR1TVARA  \n",
       "1 -0.452154 -0.3908628 -0.3426485 -0.3140689 -0.0309552 -0.2795874 -0.2843516\n",
       "  DR1TACAR    DR1TBCAR   DR1TCRYP    DR1TLYCO   DR1TLZ     ... DRD370CQ  \n",
       "1 -0.07536835 -0.1237843 -0.04374668 -0.1672479 -0.1278048 ... 0.01243041\n",
       "  DRD370D    DRD370DQ     DRD370E   DRD370EQ    DRD370F      DRD370FQ     \n",
       "1 -0.0089623 -0.007600119 0.0185864 0.008123141 0.0008776848 -0.0008933253\n",
       "  DRD370G     DRD370GQ    DRD370H    DRD370HQ    DRD370I    DRD370IQ  \n",
       "1 0.008716593 0.003393138 0.01343742 -0.01161333 0.01042408 0.01315359\n",
       "  DRD370J     DRD370JQ   DRD370K    DRD370KQ     DRD370L     DRD370LQ   \n",
       "1 0.002426106 0.01225101 0.01191488 -0.005534637 -0.01060143 0.002676421\n",
       "  DRD370M    DRD370MQ    DRD370N     DRD370NQ    DRD370O    DRD370OQ   \n",
       "1 0.03969622 -0.02183538 0.005520446 -0.02690847 0.00230537 0.001946814\n",
       "  DRD370P      DRD370PQ      DRD370Q    DRD370QQ    DRD370R    DRD370RQ   \n",
       "1 -0.002792057 -5.672543e-19 0.02484978 0.007489083 0.01237976 -0.01186069\n",
       "  DRD370S    DRD370SQ    DRD370T     DRD370TQ    DRD370U     DRD370UQ    \n",
       "1 0.01432597 0.006066566 0.008237557 0.008249646 0.002311961 -0.003296361"
      ]
     },
     "metadata": {},
     "output_type": "display_data"
    }
   ],
   "source": [
    "intracluster_dispersion.3.2 = mean(dist(datax.3.2)) # may take about 1 minute\n",
    "cluster_size.3.2 = nrow(datax.3.2)\n",
    "cluster_centroid.3.2 = as.data.frame(t(colMeans(datax.3.2)))\n",
    "\n",
    "data.frame(cluster_size.3.2, intracluster_dispersion.3.2)\n",
    "cluster_centroid.3.2"
   ]
  },
  {
   "cell_type": "code",
   "execution_count": 19,
   "metadata": {
    "hide_input": true
   },
   "outputs": [
    {
     "data": {
      "text/html": [
       "<table>\n",
       "<thead><tr><th scope=col>cluster_size.3.3</th><th scope=col>intracluster_dispersion.3.3</th></tr></thead>\n",
       "<tbody>\n",
       "\t<tr><td>684     </td><td>24.75406</td></tr>\n",
       "</tbody>\n",
       "</table>\n"
      ],
      "text/latex": [
       "\\begin{tabular}{r|ll}\n",
       " cluster\\_size.3.3 & intracluster\\_dispersion.3.3\\\\\n",
       "\\hline\n",
       "\t 684      & 24.75406\\\\\n",
       "\\end{tabular}\n"
      ],
      "text/markdown": [
       "\n",
       "| cluster_size.3.3 | intracluster_dispersion.3.3 |\n",
       "|---|---|\n",
       "| 684      | 24.75406 |\n",
       "\n"
      ],
      "text/plain": [
       "  cluster_size.3.3 intracluster_dispersion.3.3\n",
       "1 684              24.75406                   "
      ]
     },
     "metadata": {},
     "output_type": "display_data"
    },
    {
     "data": {
      "text/html": [
       "<table>\n",
       "<thead><tr><th scope=col>WTDRD1</th><th scope=col>WTDR2D</th><th scope=col>DR1DRSTZ</th><th scope=col>DR1EXMER</th><th scope=col>DRABF</th><th scope=col>DRDINT</th><th scope=col>DR1DBIH</th><th scope=col>DR1DAY</th><th scope=col>DR1LANG</th><th scope=col>DR1MNRSP</th><th scope=col>DR1HELPD</th><th scope=col>DBQ095Z</th><th scope=col>DBD100</th><th scope=col>DRQSPREP</th><th scope=col>DR1STY</th><th scope=col>DR1SKY</th><th scope=col>DRQSDIET</th><th scope=col>DR1TNUMF</th><th scope=col>DR1TKCAL</th><th scope=col>DR1TPROT</th><th scope=col>DR1TCARB</th><th scope=col>DR1TSUGR</th><th scope=col>DR1TFIBE</th><th scope=col>DR1TTFAT</th><th scope=col>DR1TSFAT</th><th scope=col>DR1TMFAT</th><th scope=col>DR1TPFAT</th><th scope=col>DR1TCHOL</th><th scope=col>DR1TATOC</th><th scope=col>DR1TATOA</th><th scope=col>DR1TRET</th><th scope=col>DR1TVARA</th><th scope=col>DR1TACAR</th><th scope=col>DR1TBCAR</th><th scope=col>DR1TCRYP</th><th scope=col>DR1TLYCO</th><th scope=col>DR1TLZ</th><th scope=col>...</th><th scope=col>DRD370CQ</th><th scope=col>DRD370D</th><th scope=col>DRD370DQ</th><th scope=col>DRD370E</th><th scope=col>DRD370EQ</th><th scope=col>DRD370F</th><th scope=col>DRD370FQ</th><th scope=col>DRD370G</th><th scope=col>DRD370GQ</th><th scope=col>DRD370H</th><th scope=col>DRD370HQ</th><th scope=col>DRD370I</th><th scope=col>DRD370IQ</th><th scope=col>DRD370J</th><th scope=col>DRD370JQ</th><th scope=col>DRD370K</th><th scope=col>DRD370KQ</th><th scope=col>DRD370L</th><th scope=col>DRD370LQ</th><th scope=col>DRD370M</th><th scope=col>DRD370MQ</th><th scope=col>DRD370N</th><th scope=col>DRD370NQ</th><th scope=col>DRD370O</th><th scope=col>DRD370OQ</th><th scope=col>DRD370P</th><th scope=col>DRD370PQ</th><th scope=col>DRD370Q</th><th scope=col>DRD370QQ</th><th scope=col>DRD370R</th><th scope=col>DRD370RQ</th><th scope=col>DRD370S</th><th scope=col>DRD370SQ</th><th scope=col>DRD370T</th><th scope=col>DRD370TQ</th><th scope=col>DRD370U</th><th scope=col>DRD370UQ</th></tr></thead>\n",
       "<tbody>\n",
       "\t<tr><td>0.2657078   </td><td>0.07420838  </td><td>-0.3745279  </td><td>-0.03782538 </td><td>0.1334286   </td><td>-0.01951401 </td><td>0.04938987  </td><td>-0.01271596 </td><td>-0.002532693</td><td>-0.2042764  </td><td>0.256691    </td><td>-0.1123943  </td><td>0.1388274   </td><td>0.05324038  </td><td>-0.1468646  </td><td>-0.03506905 </td><td>-0.04492469 </td><td>0.803851    </td><td>2.301323    </td><td>2.110432    </td><td>1.829554    </td><td>1.250888    </td><td>1.529949    </td><td>2.234826    </td><td>2.095198    </td><td>2.1515      </td><td>1.839039    </td><td>1.587701    </td><td>1.664999    </td><td>0.4148792   </td><td>1.294642    </td><td>1.208315    </td><td>0.2002456   </td><td>0.4176021   </td><td>0.1253374   </td><td>0.7012702   </td><td>0.4946166   </td><td>...         </td><td>-0.08275668 </td><td>-0.07097689 </td><td>0.1113083   </td><td>-0.07295169 </td><td>-0.04456917 </td><td>0.003116844 </td><td>0.005994011 </td><td>-0.03798742 </td><td>0.01705293  </td><td>-0.03406382 </td><td>0.04430694  </td><td>-0.1153983  </td><td>0.05275909  </td><td>-0.1218119  </td><td>-0.03739186 </td><td>-0.03214145 </td><td>0.06402017  </td><td>-0.0201884  </td><td>-0.02033515 </td><td>-0.04217372 </td><td>0.1672326   </td><td>-0.06536132 </td><td>0.191881    </td><td>-0.1268464  </td><td>-0.1024987  </td><td>-0.004216123</td><td>0.08520346  </td><td>-0.1018675  </td><td>-0.06645027 </td><td>-0.06164612 </td><td>0.008552175 </td><td>-0.04326656 </td><td>-0.0527707  </td><td>-0.02463602 </td><td>0.06748082  </td><td>0.0149853   </td><td>0.07386712  </td></tr>\n",
       "</tbody>\n",
       "</table>\n"
      ],
      "text/latex": [
       "\\begin{tabular}{r|llllllllllllllllllllllllllllllllllllllllllllllllllllllllllllllllllllllllllllllllllllllllllllllllllllllllllllllllllllllllllllllllllllllllllllllllllllllll}\n",
       " WTDRD1 & WTDR2D & DR1DRSTZ & DR1EXMER & DRABF & DRDINT & DR1DBIH & DR1DAY & DR1LANG & DR1MNRSP & DR1HELPD & DBQ095Z & DBD100 & DRQSPREP & DR1STY & DR1SKY & DRQSDIET & DR1TNUMF & DR1TKCAL & DR1TPROT & DR1TCARB & DR1TSUGR & DR1TFIBE & DR1TTFAT & DR1TSFAT & DR1TMFAT & DR1TPFAT & DR1TCHOL & DR1TATOC & DR1TATOA & DR1TRET & DR1TVARA & DR1TACAR & DR1TBCAR & DR1TCRYP & DR1TLYCO & DR1TLZ & ... & DRD370CQ & DRD370D & DRD370DQ & DRD370E & DRD370EQ & DRD370F & DRD370FQ & DRD370G & DRD370GQ & DRD370H & DRD370HQ & DRD370I & DRD370IQ & DRD370J & DRD370JQ & DRD370K & DRD370KQ & DRD370L & DRD370LQ & DRD370M & DRD370MQ & DRD370N & DRD370NQ & DRD370O & DRD370OQ & DRD370P & DRD370PQ & DRD370Q & DRD370QQ & DRD370R & DRD370RQ & DRD370S & DRD370SQ & DRD370T & DRD370TQ & DRD370U & DRD370UQ\\\\\n",
       "\\hline\n",
       "\t 0.2657078    & 0.07420838   & -0.3745279   & -0.03782538  & 0.1334286    & -0.01951401  & 0.04938987   & -0.01271596  & -0.002532693 & -0.2042764   & 0.256691     & -0.1123943   & 0.1388274    & 0.05324038   & -0.1468646   & -0.03506905  & -0.04492469  & 0.803851     & 2.301323     & 2.110432     & 1.829554     & 1.250888     & 1.529949     & 2.234826     & 2.095198     & 2.1515       & 1.839039     & 1.587701     & 1.664999     & 0.4148792    & 1.294642     & 1.208315     & 0.2002456    & 0.4176021    & 0.1253374    & 0.7012702    & 0.4946166    & ...          & -0.08275668  & -0.07097689  & 0.1113083    & -0.07295169  & -0.04456917  & 0.003116844  & 0.005994011  & -0.03798742  & 0.01705293   & -0.03406382  & 0.04430694   & -0.1153983   & 0.05275909   & -0.1218119   & -0.03739186  & -0.03214145  & 0.06402017   & -0.0201884   & -0.02033515  & -0.04217372  & 0.1672326    & -0.06536132  & 0.191881     & -0.1268464   & -0.1024987   & -0.004216123 & 0.08520346   & -0.1018675   & -0.06645027  & -0.06164612  & 0.008552175  & -0.04326656  & -0.0527707   & -0.02463602  & 0.06748082   & 0.0149853    & 0.07386712  \\\\\n",
       "\\end{tabular}\n"
      ],
      "text/markdown": [
       "\n",
       "| WTDRD1 | WTDR2D | DR1DRSTZ | DR1EXMER | DRABF | DRDINT | DR1DBIH | DR1DAY | DR1LANG | DR1MNRSP | DR1HELPD | DBQ095Z | DBD100 | DRQSPREP | DR1STY | DR1SKY | DRQSDIET | DR1TNUMF | DR1TKCAL | DR1TPROT | DR1TCARB | DR1TSUGR | DR1TFIBE | DR1TTFAT | DR1TSFAT | DR1TMFAT | DR1TPFAT | DR1TCHOL | DR1TATOC | DR1TATOA | DR1TRET | DR1TVARA | DR1TACAR | DR1TBCAR | DR1TCRYP | DR1TLYCO | DR1TLZ | ... | DRD370CQ | DRD370D | DRD370DQ | DRD370E | DRD370EQ | DRD370F | DRD370FQ | DRD370G | DRD370GQ | DRD370H | DRD370HQ | DRD370I | DRD370IQ | DRD370J | DRD370JQ | DRD370K | DRD370KQ | DRD370L | DRD370LQ | DRD370M | DRD370MQ | DRD370N | DRD370NQ | DRD370O | DRD370OQ | DRD370P | DRD370PQ | DRD370Q | DRD370QQ | DRD370R | DRD370RQ | DRD370S | DRD370SQ | DRD370T | DRD370TQ | DRD370U | DRD370UQ |\n",
       "|---|---|---|---|---|---|---|---|---|---|---|---|---|---|---|---|---|---|---|---|---|---|---|---|---|---|---|---|---|---|---|---|---|---|---|---|---|---|---|---|---|---|---|---|---|---|---|---|---|---|---|---|---|---|---|---|---|---|---|---|---|---|---|---|---|---|---|---|---|---|---|---|---|---|---|\n",
       "| 0.2657078    | 0.07420838   | -0.3745279   | -0.03782538  | 0.1334286    | -0.01951401  | 0.04938987   | -0.01271596  | -0.002532693 | -0.2042764   | 0.256691     | -0.1123943   | 0.1388274    | 0.05324038   | -0.1468646   | -0.03506905  | -0.04492469  | 0.803851     | 2.301323     | 2.110432     | 1.829554     | 1.250888     | 1.529949     | 2.234826     | 2.095198     | 2.1515       | 1.839039     | 1.587701     | 1.664999     | 0.4148792    | 1.294642     | 1.208315     | 0.2002456    | 0.4176021    | 0.1253374    | 0.7012702    | 0.4946166    | ...          | -0.08275668  | -0.07097689  | 0.1113083    | -0.07295169  | -0.04456917  | 0.003116844  | 0.005994011  | -0.03798742  | 0.01705293   | -0.03406382  | 0.04430694   | -0.1153983   | 0.05275909   | -0.1218119   | -0.03739186  | -0.03214145  | 0.06402017   | -0.0201884   | -0.02033515  | -0.04217372  | 0.1672326    | -0.06536132  | 0.191881     | -0.1268464   | -0.1024987   | -0.004216123 | 0.08520346   | -0.1018675   | -0.06645027  | -0.06164612  | 0.008552175  | -0.04326656  | -0.0527707   | -0.02463602  | 0.06748082   | 0.0149853    | 0.07386712   |\n",
       "\n"
      ],
      "text/plain": [
       "  WTDRD1    WTDR2D     DR1DRSTZ   DR1EXMER    DRABF     DRDINT      DR1DBIH   \n",
       "1 0.2657078 0.07420838 -0.3745279 -0.03782538 0.1334286 -0.01951401 0.04938987\n",
       "  DR1DAY      DR1LANG      DR1MNRSP   DR1HELPD DBQ095Z    DBD100    DRQSPREP  \n",
       "1 -0.01271596 -0.002532693 -0.2042764 0.256691 -0.1123943 0.1388274 0.05324038\n",
       "  DR1STY     DR1SKY      DRQSDIET    DR1TNUMF DR1TKCAL DR1TPROT DR1TCARB\n",
       "1 -0.1468646 -0.03506905 -0.04492469 0.803851 2.301323 2.110432 1.829554\n",
       "  DR1TSUGR DR1TFIBE DR1TTFAT DR1TSFAT DR1TMFAT DR1TPFAT DR1TCHOL DR1TATOC\n",
       "1 1.250888 1.529949 2.234826 2.095198 2.1515   1.839039 1.587701 1.664999\n",
       "  DR1TATOA  DR1TRET  DR1TVARA DR1TACAR  DR1TBCAR  DR1TCRYP  DR1TLYCO  DR1TLZ   \n",
       "1 0.4148792 1.294642 1.208315 0.2002456 0.4176021 0.1253374 0.7012702 0.4946166\n",
       "  ... DRD370CQ    DRD370D     DRD370DQ  DRD370E     DRD370EQ    DRD370F    \n",
       "1 ... -0.08275668 -0.07097689 0.1113083 -0.07295169 -0.04456917 0.003116844\n",
       "  DRD370FQ    DRD370G     DRD370GQ   DRD370H     DRD370HQ   DRD370I   \n",
       "1 0.005994011 -0.03798742 0.01705293 -0.03406382 0.04430694 -0.1153983\n",
       "  DRD370IQ   DRD370J    DRD370JQ    DRD370K     DRD370KQ   DRD370L   \n",
       "1 0.05275909 -0.1218119 -0.03739186 -0.03214145 0.06402017 -0.0201884\n",
       "  DRD370LQ    DRD370M     DRD370MQ  DRD370N     DRD370NQ DRD370O    DRD370OQ  \n",
       "1 -0.02033515 -0.04217372 0.1672326 -0.06536132 0.191881 -0.1268464 -0.1024987\n",
       "  DRD370P      DRD370PQ   DRD370Q    DRD370QQ    DRD370R     DRD370RQ   \n",
       "1 -0.004216123 0.08520346 -0.1018675 -0.06645027 -0.06164612 0.008552175\n",
       "  DRD370S     DRD370SQ   DRD370T     DRD370TQ   DRD370U   DRD370UQ  \n",
       "1 -0.04326656 -0.0527707 -0.02463602 0.06748082 0.0149853 0.07386712"
      ]
     },
     "metadata": {},
     "output_type": "display_data"
    }
   ],
   "source": [
    "intracluster_dispersion.3.3 = mean(dist(datax.3.3))\n",
    "cluster_size.3.3 = nrow(datax.3.3)\n",
    "cluster_centroid.3.3 = as.data.frame(t(colMeans(datax.3.3)))\n",
    "\n",
    "data.frame(cluster_size.3.3, intracluster_dispersion.3.3)\n",
    "cluster_centroid.3.3"
   ]
  },
  {
   "cell_type": "code",
   "execution_count": 20,
   "metadata": {
    "hide_input": true
   },
   "outputs": [
    {
     "data": {
      "text/html": [
       "<table>\n",
       "<thead><tr><th scope=col>mean_intercluster_dispersion.3</th><th scope=col>mean_intracluster_dispersion.3</th><th scope=col>quality.3</th></tr></thead>\n",
       "<tbody>\n",
       "\t<tr><td>9.986895 </td><td>17.72906 </td><td>0.5633064</td></tr>\n",
       "</tbody>\n",
       "</table>\n"
      ],
      "text/latex": [
       "\\begin{tabular}{r|lll}\n",
       " mean\\_intercluster\\_dispersion.3 & mean\\_intracluster\\_dispersion.3 & quality.3\\\\\n",
       "\\hline\n",
       "\t 9.986895  & 17.72906  & 0.5633064\\\\\n",
       "\\end{tabular}\n"
      ],
      "text/markdown": [
       "\n",
       "| mean_intercluster_dispersion.3 | mean_intracluster_dispersion.3 | quality.3 |\n",
       "|---|---|---|\n",
       "| 9.986895  | 17.72906  | 0.5633064 |\n",
       "\n"
      ],
      "text/plain": [
       "  mean_intercluster_dispersion.3 mean_intracluster_dispersion.3 quality.3\n",
       "1 9.986895                       17.72906                       0.5633064"
      ]
     },
     "metadata": {},
     "output_type": "display_data"
    }
   ],
   "source": [
    "mean_intracluster_dispersion.3 = mean(c(intracluster_dispersion.3.1, intracluster_dispersion.3.2, intracluster_dispersion.3.3))\n",
    "mean_intercluster_dispersion.3 = mean(dist(rbind(cluster_centroid.3.1, cluster_centroid.3.2, cluster_centroid.3.3)))\n",
    "quality.3 = mean_intercluster_dispersion.3 / mean_intracluster_dispersion.3\n",
    "data.frame(mean_intercluster_dispersion.3, mean_intracluster_dispersion.3, quality.3)"
   ]
  },
  {
   "cell_type": "markdown",
   "metadata": {},
   "source": [
    "**Evaluate the 4-segment market segmentation model by dispersion ratio.**"
   ]
  },
  {
   "cell_type": "code",
   "execution_count": 21,
   "metadata": {
    "hide_input": true
   },
   "outputs": [],
   "source": [
    "datax.4.1 = datax.norm[cluster.4==1,]\n",
    "datax.4.2 = datax.norm[cluster.4==2,]\n",
    "datax.4.3 = datax.norm[cluster.4==3,]\n",
    "datax.4.4 = datax.norm[cluster.4==4,]"
   ]
  },
  {
   "cell_type": "code",
   "execution_count": 22,
   "metadata": {
    "hide_input": true
   },
   "outputs": [
    {
     "data": {
      "text/html": [
       "<table>\n",
       "<thead><tr><th scope=col>cluster_size.4.1</th><th scope=col>intracluster_dispersion.4.1</th></tr></thead>\n",
       "<tbody>\n",
       "\t<tr><td>2049    </td><td>14.04676</td></tr>\n",
       "</tbody>\n",
       "</table>\n"
      ],
      "text/latex": [
       "\\begin{tabular}{r|ll}\n",
       " cluster\\_size.4.1 & intracluster\\_dispersion.4.1\\\\\n",
       "\\hline\n",
       "\t 2049     & 14.04676\\\\\n",
       "\\end{tabular}\n"
      ],
      "text/markdown": [
       "\n",
       "| cluster_size.4.1 | intracluster_dispersion.4.1 |\n",
       "|---|---|\n",
       "| 2049     | 14.04676 |\n",
       "\n"
      ],
      "text/plain": [
       "  cluster_size.4.1 intracluster_dispersion.4.1\n",
       "1 2049             14.04676                   "
      ]
     },
     "metadata": {},
     "output_type": "display_data"
    },
    {
     "data": {
      "text/html": [
       "<table>\n",
       "<thead><tr><th scope=col>WTDRD1</th><th scope=col>WTDR2D</th><th scope=col>DR1DRSTZ</th><th scope=col>DR1EXMER</th><th scope=col>DRABF</th><th scope=col>DRDINT</th><th scope=col>DR1DBIH</th><th scope=col>DR1DAY</th><th scope=col>DR1LANG</th><th scope=col>DR1MNRSP</th><th scope=col>DR1HELPD</th><th scope=col>DBQ095Z</th><th scope=col>DBD100</th><th scope=col>DRQSPREP</th><th scope=col>DR1STY</th><th scope=col>DR1SKY</th><th scope=col>DRQSDIET</th><th scope=col>DR1TNUMF</th><th scope=col>DR1TKCAL</th><th scope=col>DR1TPROT</th><th scope=col>DR1TCARB</th><th scope=col>DR1TSUGR</th><th scope=col>DR1TFIBE</th><th scope=col>DR1TTFAT</th><th scope=col>DR1TSFAT</th><th scope=col>DR1TMFAT</th><th scope=col>DR1TPFAT</th><th scope=col>DR1TCHOL</th><th scope=col>DR1TATOC</th><th scope=col>DR1TATOA</th><th scope=col>DR1TRET</th><th scope=col>DR1TVARA</th><th scope=col>DR1TACAR</th><th scope=col>DR1TBCAR</th><th scope=col>DR1TCRYP</th><th scope=col>DR1TLYCO</th><th scope=col>DR1TLZ</th><th scope=col>...</th><th scope=col>DRD370CQ</th><th scope=col>DRD370D</th><th scope=col>DRD370DQ</th><th scope=col>DRD370E</th><th scope=col>DRD370EQ</th><th scope=col>DRD370F</th><th scope=col>DRD370FQ</th><th scope=col>DRD370G</th><th scope=col>DRD370GQ</th><th scope=col>DRD370H</th><th scope=col>DRD370HQ</th><th scope=col>DRD370I</th><th scope=col>DRD370IQ</th><th scope=col>DRD370J</th><th scope=col>DRD370JQ</th><th scope=col>DRD370K</th><th scope=col>DRD370KQ</th><th scope=col>DRD370L</th><th scope=col>DRD370LQ</th><th scope=col>DRD370M</th><th scope=col>DRD370MQ</th><th scope=col>DRD370N</th><th scope=col>DRD370NQ</th><th scope=col>DRD370O</th><th scope=col>DRD370OQ</th><th scope=col>DRD370P</th><th scope=col>DRD370PQ</th><th scope=col>DRD370Q</th><th scope=col>DRD370QQ</th><th scope=col>DRD370R</th><th scope=col>DRD370RQ</th><th scope=col>DRD370S</th><th scope=col>DRD370SQ</th><th scope=col>DRD370T</th><th scope=col>DRD370TQ</th><th scope=col>DRD370U</th><th scope=col>DRD370UQ</th></tr></thead>\n",
       "<tbody>\n",
       "\t<tr><td>0.2364222   </td><td>0.09328622  </td><td>-0.3745279  </td><td>-0.01792545 </td><td>0.1334286   </td><td>-0.001317069</td><td>0.00640167  </td><td>-0.01615808 </td><td>-0.09950046 </td><td>-0.08494313 </td><td>-0.06948144 </td><td>-0.09518269 </td><td>0.05982383  </td><td>-0.009279875</td><td>-0.1356307  </td><td>0.01649206  </td><td>-0.03924221 </td><td>0.2525452   </td><td>0.6809217   </td><td>0.4868996   </td><td>0.5761048   </td><td>0.461043    </td><td>0.2582126   </td><td>0.7457136   </td><td>0.8364378   </td><td>0.6587687   </td><td>0.5211182   </td><td>0.4421884   </td><td>0.2239463   </td><td>-0.0868144  </td><td>0.4367658   </td><td>0.2125496   </td><td>-0.1213141  </td><td>-0.1513455  </td><td>-0.03088259 </td><td>0.161067    </td><td>-0.1024585  </td><td>...         </td><td>-0.01405368 </td><td>0.01104038  </td><td>-0.04903499 </td><td>0.03853803  </td><td>-0.02337139 </td><td>0.02373442  </td><td>-0.02759292 </td><td>0.009170662 </td><td>-0.01855954 </td><td>0.04128891  </td><td>-0.0165032  </td><td>0.0003553118</td><td>-0.04865569 </td><td>-0.002987549</td><td>-0.0187233  </td><td>-0.0156546  </td><td>0.000449492 </td><td>0.05023348  </td><td>0.01183603  </td><td>0.1077435   </td><td>-0.07425622 </td><td>0.08393849  </td><td>-0.009901487</td><td>0.08991259  </td><td>-0.008925984</td><td>0.004924518 </td><td>-0.01896182 </td><td>0.02592305  </td><td>0.01481197  </td><td>0.05904673  </td><td>0.008180383 </td><td>0.03982154  </td><td>-0.007019905</td><td>0.04019893  </td><td>-0.07688553 </td><td>0.03252334  </td><td>-0.01708949 </td></tr>\n",
       "</tbody>\n",
       "</table>\n"
      ],
      "text/latex": [
       "\\begin{tabular}{r|llllllllllllllllllllllllllllllllllllllllllllllllllllllllllllllllllllllllllllllllllllllllllllllllllllllllllllllllllllllllllllllllllllllllllllllllllllllll}\n",
       " WTDRD1 & WTDR2D & DR1DRSTZ & DR1EXMER & DRABF & DRDINT & DR1DBIH & DR1DAY & DR1LANG & DR1MNRSP & DR1HELPD & DBQ095Z & DBD100 & DRQSPREP & DR1STY & DR1SKY & DRQSDIET & DR1TNUMF & DR1TKCAL & DR1TPROT & DR1TCARB & DR1TSUGR & DR1TFIBE & DR1TTFAT & DR1TSFAT & DR1TMFAT & DR1TPFAT & DR1TCHOL & DR1TATOC & DR1TATOA & DR1TRET & DR1TVARA & DR1TACAR & DR1TBCAR & DR1TCRYP & DR1TLYCO & DR1TLZ & ... & DRD370CQ & DRD370D & DRD370DQ & DRD370E & DRD370EQ & DRD370F & DRD370FQ & DRD370G & DRD370GQ & DRD370H & DRD370HQ & DRD370I & DRD370IQ & DRD370J & DRD370JQ & DRD370K & DRD370KQ & DRD370L & DRD370LQ & DRD370M & DRD370MQ & DRD370N & DRD370NQ & DRD370O & DRD370OQ & DRD370P & DRD370PQ & DRD370Q & DRD370QQ & DRD370R & DRD370RQ & DRD370S & DRD370SQ & DRD370T & DRD370TQ & DRD370U & DRD370UQ\\\\\n",
       "\\hline\n",
       "\t 0.2364222    & 0.09328622   & -0.3745279   & -0.01792545  & 0.1334286    & -0.001317069 & 0.00640167   & -0.01615808  & -0.09950046  & -0.08494313  & -0.06948144  & -0.09518269  & 0.05982383   & -0.009279875 & -0.1356307   & 0.01649206   & -0.03924221  & 0.2525452    & 0.6809217    & 0.4868996    & 0.5761048    & 0.461043     & 0.2582126    & 0.7457136    & 0.8364378    & 0.6587687    & 0.5211182    & 0.4421884    & 0.2239463    & -0.0868144   & 0.4367658    & 0.2125496    & -0.1213141   & -0.1513455   & -0.03088259  & 0.161067     & -0.1024585   & ...          & -0.01405368  & 0.01104038   & -0.04903499  & 0.03853803   & -0.02337139  & 0.02373442   & -0.02759292  & 0.009170662  & -0.01855954  & 0.04128891   & -0.0165032   & 0.0003553118 & -0.04865569  & -0.002987549 & -0.0187233   & -0.0156546   & 0.000449492  & 0.05023348   & 0.01183603   & 0.1077435    & -0.07425622  & 0.08393849   & -0.009901487 & 0.08991259   & -0.008925984 & 0.004924518  & -0.01896182  & 0.02592305   & 0.01481197   & 0.05904673   & 0.008180383  & 0.03982154   & -0.007019905 & 0.04019893   & -0.07688553  & 0.03252334   & -0.01708949 \\\\\n",
       "\\end{tabular}\n"
      ],
      "text/markdown": [
       "\n",
       "| WTDRD1 | WTDR2D | DR1DRSTZ | DR1EXMER | DRABF | DRDINT | DR1DBIH | DR1DAY | DR1LANG | DR1MNRSP | DR1HELPD | DBQ095Z | DBD100 | DRQSPREP | DR1STY | DR1SKY | DRQSDIET | DR1TNUMF | DR1TKCAL | DR1TPROT | DR1TCARB | DR1TSUGR | DR1TFIBE | DR1TTFAT | DR1TSFAT | DR1TMFAT | DR1TPFAT | DR1TCHOL | DR1TATOC | DR1TATOA | DR1TRET | DR1TVARA | DR1TACAR | DR1TBCAR | DR1TCRYP | DR1TLYCO | DR1TLZ | ... | DRD370CQ | DRD370D | DRD370DQ | DRD370E | DRD370EQ | DRD370F | DRD370FQ | DRD370G | DRD370GQ | DRD370H | DRD370HQ | DRD370I | DRD370IQ | DRD370J | DRD370JQ | DRD370K | DRD370KQ | DRD370L | DRD370LQ | DRD370M | DRD370MQ | DRD370N | DRD370NQ | DRD370O | DRD370OQ | DRD370P | DRD370PQ | DRD370Q | DRD370QQ | DRD370R | DRD370RQ | DRD370S | DRD370SQ | DRD370T | DRD370TQ | DRD370U | DRD370UQ |\n",
       "|---|---|---|---|---|---|---|---|---|---|---|---|---|---|---|---|---|---|---|---|---|---|---|---|---|---|---|---|---|---|---|---|---|---|---|---|---|---|---|---|---|---|---|---|---|---|---|---|---|---|---|---|---|---|---|---|---|---|---|---|---|---|---|---|---|---|---|---|---|---|---|---|---|---|---|\n",
       "| 0.2364222    | 0.09328622   | -0.3745279   | -0.01792545  | 0.1334286    | -0.001317069 | 0.00640167   | -0.01615808  | -0.09950046  | -0.08494313  | -0.06948144  | -0.09518269  | 0.05982383   | -0.009279875 | -0.1356307   | 0.01649206   | -0.03924221  | 0.2525452    | 0.6809217    | 0.4868996    | 0.5761048    | 0.461043     | 0.2582126    | 0.7457136    | 0.8364378    | 0.6587687    | 0.5211182    | 0.4421884    | 0.2239463    | -0.0868144   | 0.4367658    | 0.2125496    | -0.1213141   | -0.1513455   | -0.03088259  | 0.161067     | -0.1024585   | ...          | -0.01405368  | 0.01104038   | -0.04903499  | 0.03853803   | -0.02337139  | 0.02373442   | -0.02759292  | 0.009170662  | -0.01855954  | 0.04128891   | -0.0165032   | 0.0003553118 | -0.04865569  | -0.002987549 | -0.0187233   | -0.0156546   | 0.000449492  | 0.05023348   | 0.01183603   | 0.1077435    | -0.07425622  | 0.08393849   | -0.009901487 | 0.08991259   | -0.008925984 | 0.004924518  | -0.01896182  | 0.02592305   | 0.01481197   | 0.05904673   | 0.008180383  | 0.03982154   | -0.007019905 | 0.04019893   | -0.07688553  | 0.03252334   | -0.01708949  |\n",
       "\n"
      ],
      "text/plain": [
       "  WTDRD1    WTDR2D     DR1DRSTZ   DR1EXMER    DRABF     DRDINT       DR1DBIH   \n",
       "1 0.2364222 0.09328622 -0.3745279 -0.01792545 0.1334286 -0.001317069 0.00640167\n",
       "  DR1DAY      DR1LANG     DR1MNRSP    DR1HELPD    DBQ095Z     DBD100    \n",
       "1 -0.01615808 -0.09950046 -0.08494313 -0.06948144 -0.09518269 0.05982383\n",
       "  DRQSPREP     DR1STY     DR1SKY     DRQSDIET    DR1TNUMF  DR1TKCAL  DR1TPROT \n",
       "1 -0.009279875 -0.1356307 0.01649206 -0.03924221 0.2525452 0.6809217 0.4868996\n",
       "  DR1TCARB  DR1TSUGR DR1TFIBE  DR1TTFAT  DR1TSFAT  DR1TMFAT  DR1TPFAT \n",
       "1 0.5761048 0.461043 0.2582126 0.7457136 0.8364378 0.6587687 0.5211182\n",
       "  DR1TCHOL  DR1TATOC  DR1TATOA   DR1TRET   DR1TVARA  DR1TACAR   DR1TBCAR  \n",
       "1 0.4421884 0.2239463 -0.0868144 0.4367658 0.2125496 -0.1213141 -0.1513455\n",
       "  DR1TCRYP    DR1TLYCO DR1TLZ     ... DRD370CQ    DRD370D    DRD370DQ   \n",
       "1 -0.03088259 0.161067 -0.1024585 ... -0.01405368 0.01104038 -0.04903499\n",
       "  DRD370E    DRD370EQ    DRD370F    DRD370FQ    DRD370G     DRD370GQ   \n",
       "1 0.03853803 -0.02337139 0.02373442 -0.02759292 0.009170662 -0.01855954\n",
       "  DRD370H    DRD370HQ   DRD370I      DRD370IQ    DRD370J      DRD370JQ  \n",
       "1 0.04128891 -0.0165032 0.0003553118 -0.04865569 -0.002987549 -0.0187233\n",
       "  DRD370K    DRD370KQ    DRD370L    DRD370LQ   DRD370M   DRD370MQ    DRD370N   \n",
       "1 -0.0156546 0.000449492 0.05023348 0.01183603 0.1077435 -0.07425622 0.08393849\n",
       "  DRD370NQ     DRD370O    DRD370OQ     DRD370P     DRD370PQ    DRD370Q   \n",
       "1 -0.009901487 0.08991259 -0.008925984 0.004924518 -0.01896182 0.02592305\n",
       "  DRD370QQ   DRD370R    DRD370RQ    DRD370S    DRD370SQ     DRD370T   \n",
       "1 0.01481197 0.05904673 0.008180383 0.03982154 -0.007019905 0.04019893\n",
       "  DRD370TQ    DRD370U    DRD370UQ   \n",
       "1 -0.07688553 0.03252334 -0.01708949"
      ]
     },
     "metadata": {},
     "output_type": "display_data"
    }
   ],
   "source": [
    "intracluster_dispersion.4.1 = mean(dist(datax.4.1))\n",
    "cluster_size.4.1 = nrow(datax.4.1)\n",
    "cluster_centroid.4.1 = as.data.frame(t(colMeans(datax.4.1)))\n",
    "\n",
    "data.frame(cluster_size.4.1, intracluster_dispersion.4.1)\n",
    "cluster_centroid.4.1"
   ]
  },
  {
   "cell_type": "code",
   "execution_count": 23,
   "metadata": {
    "hide_input": true
   },
   "outputs": [
    {
     "data": {
      "text/html": [
       "<table>\n",
       "<thead><tr><th scope=col>cluster_size.4.2</th><th scope=col>intracluster_dispersion.4.2</th></tr></thead>\n",
       "<tbody>\n",
       "\t<tr><td>6028  </td><td>11.578</td></tr>\n",
       "</tbody>\n",
       "</table>\n"
      ],
      "text/latex": [
       "\\begin{tabular}{r|ll}\n",
       " cluster\\_size.4.2 & intracluster\\_dispersion.4.2\\\\\n",
       "\\hline\n",
       "\t 6028   & 11.578\\\\\n",
       "\\end{tabular}\n"
      ],
      "text/markdown": [
       "\n",
       "| cluster_size.4.2 | intracluster_dispersion.4.2 |\n",
       "|---|---|\n",
       "| 6028   | 11.578 |\n",
       "\n"
      ],
      "text/plain": [
       "  cluster_size.4.2 intracluster_dispersion.4.2\n",
       "1 6028             11.578                     "
      ]
     },
     "metadata": {},
     "output_type": "display_data"
    },
    {
     "data": {
      "text/html": [
       "<table>\n",
       "<thead><tr><th scope=col>WTDRD1</th><th scope=col>WTDR2D</th><th scope=col>DR1DRSTZ</th><th scope=col>DR1EXMER</th><th scope=col>DRABF</th><th scope=col>DRDINT</th><th scope=col>DR1DBIH</th><th scope=col>DR1DAY</th><th scope=col>DR1LANG</th><th scope=col>DR1MNRSP</th><th scope=col>DR1HELPD</th><th scope=col>DBQ095Z</th><th scope=col>DBD100</th><th scope=col>DRQSPREP</th><th scope=col>DR1STY</th><th scope=col>DR1SKY</th><th scope=col>DRQSDIET</th><th scope=col>DR1TNUMF</th><th scope=col>DR1TKCAL</th><th scope=col>DR1TPROT</th><th scope=col>DR1TCARB</th><th scope=col>DR1TSUGR</th><th scope=col>DR1TFIBE</th><th scope=col>DR1TTFAT</th><th scope=col>DR1TSFAT</th><th scope=col>DR1TMFAT</th><th scope=col>DR1TPFAT</th><th scope=col>DR1TCHOL</th><th scope=col>DR1TATOC</th><th scope=col>DR1TATOA</th><th scope=col>DR1TRET</th><th scope=col>DR1TVARA</th><th scope=col>DR1TACAR</th><th scope=col>DR1TBCAR</th><th scope=col>DR1TCRYP</th><th scope=col>DR1TLYCO</th><th scope=col>DR1TLZ</th><th scope=col>...</th><th scope=col>DRD370CQ</th><th scope=col>DRD370D</th><th scope=col>DRD370DQ</th><th scope=col>DRD370E</th><th scope=col>DRD370EQ</th><th scope=col>DRD370F</th><th scope=col>DRD370FQ</th><th scope=col>DRD370G</th><th scope=col>DRD370GQ</th><th scope=col>DRD370H</th><th scope=col>DRD370HQ</th><th scope=col>DRD370I</th><th scope=col>DRD370IQ</th><th scope=col>DRD370J</th><th scope=col>DRD370JQ</th><th scope=col>DRD370K</th><th scope=col>DRD370KQ</th><th scope=col>DRD370L</th><th scope=col>DRD370LQ</th><th scope=col>DRD370M</th><th scope=col>DRD370MQ</th><th scope=col>DRD370N</th><th scope=col>DRD370NQ</th><th scope=col>DRD370O</th><th scope=col>DRD370OQ</th><th scope=col>DRD370P</th><th scope=col>DRD370PQ</th><th scope=col>DRD370Q</th><th scope=col>DRD370QQ</th><th scope=col>DRD370R</th><th scope=col>DRD370RQ</th><th scope=col>DRD370S</th><th scope=col>DRD370SQ</th><th scope=col>DRD370T</th><th scope=col>DRD370TQ</th><th scope=col>DRD370U</th><th scope=col>DRD370UQ</th></tr></thead>\n",
       "<tbody>\n",
       "\t<tr><td>-0.1994469  </td><td>-0.1059942  </td><td>0.2350356   </td><td>0.004575389 </td><td>-0.08375812 </td><td>-0.01221137 </td><td>-0.001917316</td><td>0.01074825  </td><td>0.009335598 </td><td>0.08854862  </td><td>-0.06785079 </td><td>0.05785911  </td><td>-0.03818255 </td><td>-0.003027808</td><td>0.08328932  </td><td>0.008116071 </td><td>0.06205345  </td><td>-0.2961341  </td><td>-0.5014346  </td><td>-0.4670502  </td><td>-0.4111924  </td><td>-0.2742522  </td><td>-0.3804416  </td><td>-0.4777144  </td><td>-0.4525821  </td><td>-0.4535714  </td><td>-0.3931217  </td><td>-0.3474523  </td><td>-0.3257589  </td><td>-0.03589093 </td><td>-0.2741498  </td><td>-0.3005211  </td><td>-0.09407009 </td><td>-0.1538619  </td><td>-0.05593173 </td><td>-0.1700423  </td><td>-0.1571352  </td><td>...         </td><td>-0.01159958 </td><td>-0.01231567 </td><td>-0.01620288 </td><td>0.03882185  </td><td>-0.004188143</td><td>0.01575597  </td><td>-0.01205094 </td><td>0.0206777   </td><td>-0.002968773</td><td>0.02125335  </td><td>-0.01079596 </td><td>0.004190624 </td><td>0.01040096  </td><td>0.005077544 </td><td>0.01060718  </td><td>0.01147867  </td><td>-0.002958541</td><td>-0.006405933</td><td>-0.003254081</td><td>0.0638077   </td><td>-0.03336732 </td><td>0.01916537  </td><td>-0.02808173 </td><td>0.02487889  </td><td>0.007585161 </td><td>0.0002996382</td><td>0.003222692 </td><td>0.04201785  </td><td>-0.007540143</td><td>0.0210704   </td><td>-0.01555781 </td><td>0.02110351  </td><td>0.0117057   </td><td>0.01606854  </td><td>-0.01129828 </td><td>0.0003107517</td><td>-0.01236493 </td></tr>\n",
       "</tbody>\n",
       "</table>\n"
      ],
      "text/latex": [
       "\\begin{tabular}{r|llllllllllllllllllllllllllllllllllllllllllllllllllllllllllllllllllllllllllllllllllllllllllllllllllllllllllllllllllllllllllllllllllllllllllllllllllllllll}\n",
       " WTDRD1 & WTDR2D & DR1DRSTZ & DR1EXMER & DRABF & DRDINT & DR1DBIH & DR1DAY & DR1LANG & DR1MNRSP & DR1HELPD & DBQ095Z & DBD100 & DRQSPREP & DR1STY & DR1SKY & DRQSDIET & DR1TNUMF & DR1TKCAL & DR1TPROT & DR1TCARB & DR1TSUGR & DR1TFIBE & DR1TTFAT & DR1TSFAT & DR1TMFAT & DR1TPFAT & DR1TCHOL & DR1TATOC & DR1TATOA & DR1TRET & DR1TVARA & DR1TACAR & DR1TBCAR & DR1TCRYP & DR1TLYCO & DR1TLZ & ... & DRD370CQ & DRD370D & DRD370DQ & DRD370E & DRD370EQ & DRD370F & DRD370FQ & DRD370G & DRD370GQ & DRD370H & DRD370HQ & DRD370I & DRD370IQ & DRD370J & DRD370JQ & DRD370K & DRD370KQ & DRD370L & DRD370LQ & DRD370M & DRD370MQ & DRD370N & DRD370NQ & DRD370O & DRD370OQ & DRD370P & DRD370PQ & DRD370Q & DRD370QQ & DRD370R & DRD370RQ & DRD370S & DRD370SQ & DRD370T & DRD370TQ & DRD370U & DRD370UQ\\\\\n",
       "\\hline\n",
       "\t -0.1994469   & -0.1059942   & 0.2350356    & 0.004575389  & -0.08375812  & -0.01221137  & -0.001917316 & 0.01074825   & 0.009335598  & 0.08854862   & -0.06785079  & 0.05785911   & -0.03818255  & -0.003027808 & 0.08328932   & 0.008116071  & 0.06205345   & -0.2961341   & -0.5014346   & -0.4670502   & -0.4111924   & -0.2742522   & -0.3804416   & -0.4777144   & -0.4525821   & -0.4535714   & -0.3931217   & -0.3474523   & -0.3257589   & -0.03589093  & -0.2741498   & -0.3005211   & -0.09407009  & -0.1538619   & -0.05593173  & -0.1700423   & -0.1571352   & ...          & -0.01159958  & -0.01231567  & -0.01620288  & 0.03882185   & -0.004188143 & 0.01575597   & -0.01205094  & 0.0206777    & -0.002968773 & 0.02125335   & -0.01079596  & 0.004190624  & 0.01040096   & 0.005077544  & 0.01060718   & 0.01147867   & -0.002958541 & -0.006405933 & -0.003254081 & 0.0638077    & -0.03336732  & 0.01916537   & -0.02808173  & 0.02487889   & 0.007585161  & 0.0002996382 & 0.003222692  & 0.04201785   & -0.007540143 & 0.0210704    & -0.01555781  & 0.02110351   & 0.0117057    & 0.01606854   & -0.01129828  & 0.0003107517 & -0.01236493 \\\\\n",
       "\\end{tabular}\n"
      ],
      "text/markdown": [
       "\n",
       "| WTDRD1 | WTDR2D | DR1DRSTZ | DR1EXMER | DRABF | DRDINT | DR1DBIH | DR1DAY | DR1LANG | DR1MNRSP | DR1HELPD | DBQ095Z | DBD100 | DRQSPREP | DR1STY | DR1SKY | DRQSDIET | DR1TNUMF | DR1TKCAL | DR1TPROT | DR1TCARB | DR1TSUGR | DR1TFIBE | DR1TTFAT | DR1TSFAT | DR1TMFAT | DR1TPFAT | DR1TCHOL | DR1TATOC | DR1TATOA | DR1TRET | DR1TVARA | DR1TACAR | DR1TBCAR | DR1TCRYP | DR1TLYCO | DR1TLZ | ... | DRD370CQ | DRD370D | DRD370DQ | DRD370E | DRD370EQ | DRD370F | DRD370FQ | DRD370G | DRD370GQ | DRD370H | DRD370HQ | DRD370I | DRD370IQ | DRD370J | DRD370JQ | DRD370K | DRD370KQ | DRD370L | DRD370LQ | DRD370M | DRD370MQ | DRD370N | DRD370NQ | DRD370O | DRD370OQ | DRD370P | DRD370PQ | DRD370Q | DRD370QQ | DRD370R | DRD370RQ | DRD370S | DRD370SQ | DRD370T | DRD370TQ | DRD370U | DRD370UQ |\n",
       "|---|---|---|---|---|---|---|---|---|---|---|---|---|---|---|---|---|---|---|---|---|---|---|---|---|---|---|---|---|---|---|---|---|---|---|---|---|---|---|---|---|---|---|---|---|---|---|---|---|---|---|---|---|---|---|---|---|---|---|---|---|---|---|---|---|---|---|---|---|---|---|---|---|---|---|\n",
       "| -0.1994469   | -0.1059942   | 0.2350356    | 0.004575389  | -0.08375812  | -0.01221137  | -0.001917316 | 0.01074825   | 0.009335598  | 0.08854862   | -0.06785079  | 0.05785911   | -0.03818255  | -0.003027808 | 0.08328932   | 0.008116071  | 0.06205345   | -0.2961341   | -0.5014346   | -0.4670502   | -0.4111924   | -0.2742522   | -0.3804416   | -0.4777144   | -0.4525821   | -0.4535714   | -0.3931217   | -0.3474523   | -0.3257589   | -0.03589093  | -0.2741498   | -0.3005211   | -0.09407009  | -0.1538619   | -0.05593173  | -0.1700423   | -0.1571352   | ...          | -0.01159958  | -0.01231567  | -0.01620288  | 0.03882185   | -0.004188143 | 0.01575597   | -0.01205094  | 0.0206777    | -0.002968773 | 0.02125335   | -0.01079596  | 0.004190624  | 0.01040096   | 0.005077544  | 0.01060718   | 0.01147867   | -0.002958541 | -0.006405933 | -0.003254081 | 0.0638077    | -0.03336732  | 0.01916537   | -0.02808173  | 0.02487889   | 0.007585161  | 0.0002996382 | 0.003222692  | 0.04201785   | -0.007540143 | 0.0210704    | -0.01555781  | 0.02110351   | 0.0117057    | 0.01606854   | -0.01129828  | 0.0003107517 | -0.01236493  |\n",
       "\n"
      ],
      "text/plain": [
       "  WTDRD1     WTDR2D     DR1DRSTZ  DR1EXMER    DRABF       DRDINT     \n",
       "1 -0.1994469 -0.1059942 0.2350356 0.004575389 -0.08375812 -0.01221137\n",
       "  DR1DBIH      DR1DAY     DR1LANG     DR1MNRSP   DR1HELPD    DBQ095Z   \n",
       "1 -0.001917316 0.01074825 0.009335598 0.08854862 -0.06785079 0.05785911\n",
       "  DBD100      DRQSPREP     DR1STY     DR1SKY      DRQSDIET   DR1TNUMF  \n",
       "1 -0.03818255 -0.003027808 0.08328932 0.008116071 0.06205345 -0.2961341\n",
       "  DR1TKCAL   DR1TPROT   DR1TCARB   DR1TSUGR   DR1TFIBE   DR1TTFAT   DR1TSFAT  \n",
       "1 -0.5014346 -0.4670502 -0.4111924 -0.2742522 -0.3804416 -0.4777144 -0.4525821\n",
       "  DR1TMFAT   DR1TPFAT   DR1TCHOL   DR1TATOC   DR1TATOA    DR1TRET    DR1TVARA  \n",
       "1 -0.4535714 -0.3931217 -0.3474523 -0.3257589 -0.03589093 -0.2741498 -0.3005211\n",
       "  DR1TACAR    DR1TBCAR   DR1TCRYP    DR1TLYCO   DR1TLZ     ... DRD370CQ   \n",
       "1 -0.09407009 -0.1538619 -0.05593173 -0.1700423 -0.1571352 ... -0.01159958\n",
       "  DRD370D     DRD370DQ    DRD370E    DRD370EQ     DRD370F    DRD370FQ   \n",
       "1 -0.01231567 -0.01620288 0.03882185 -0.004188143 0.01575597 -0.01205094\n",
       "  DRD370G   DRD370GQ     DRD370H    DRD370HQ    DRD370I     DRD370IQ  \n",
       "1 0.0206777 -0.002968773 0.02125335 -0.01079596 0.004190624 0.01040096\n",
       "  DRD370J     DRD370JQ   DRD370K    DRD370KQ     DRD370L      DRD370LQ    \n",
       "1 0.005077544 0.01060718 0.01147867 -0.002958541 -0.006405933 -0.003254081\n",
       "  DRD370M   DRD370MQ    DRD370N    DRD370NQ    DRD370O    DRD370OQ   \n",
       "1 0.0638077 -0.03336732 0.01916537 -0.02808173 0.02487889 0.007585161\n",
       "  DRD370P      DRD370PQ    DRD370Q    DRD370QQ     DRD370R   DRD370RQ   \n",
       "1 0.0002996382 0.003222692 0.04201785 -0.007540143 0.0210704 -0.01555781\n",
       "  DRD370S    DRD370SQ  DRD370T    DRD370TQ    DRD370U      DRD370UQ   \n",
       "1 0.02110351 0.0117057 0.01606854 -0.01129828 0.0003107517 -0.01236493"
      ]
     },
     "metadata": {},
     "output_type": "display_data"
    }
   ],
   "source": [
    "intracluster_dispersion.4.2 = mean(dist(datax.4.2)) # may take about 1 minute\n",
    "cluster_size.4.2 = nrow(datax.4.2)\n",
    "cluster_centroid.4.2 = as.data.frame(t(colMeans(datax.4.2)))\n",
    "\n",
    "data.frame(cluster_size.4.2, intracluster_dispersion.4.2)\n",
    "cluster_centroid.4.2"
   ]
  },
  {
   "cell_type": "code",
   "execution_count": 24,
   "metadata": {
    "hide_input": true
   },
   "outputs": [
    {
     "data": {
      "text/html": [
       "<table>\n",
       "<thead><tr><th scope=col>cluster_size.4.3</th><th scope=col>intracluster_dispersion.4.3</th></tr></thead>\n",
       "<tbody>\n",
       "\t<tr><td>603    </td><td>24.9037</td></tr>\n",
       "</tbody>\n",
       "</table>\n"
      ],
      "text/latex": [
       "\\begin{tabular}{r|ll}\n",
       " cluster\\_size.4.3 & intracluster\\_dispersion.4.3\\\\\n",
       "\\hline\n",
       "\t 603     & 24.9037\\\\\n",
       "\\end{tabular}\n"
      ],
      "text/markdown": [
       "\n",
       "| cluster_size.4.3 | intracluster_dispersion.4.3 |\n",
       "|---|---|\n",
       "| 603     | 24.9037 |\n",
       "\n"
      ],
      "text/plain": [
       "  cluster_size.4.3 intracluster_dispersion.4.3\n",
       "1 603              24.9037                    "
      ]
     },
     "metadata": {},
     "output_type": "display_data"
    },
    {
     "data": {
      "text/html": [
       "<table>\n",
       "<thead><tr><th scope=col>WTDRD1</th><th scope=col>WTDR2D</th><th scope=col>DR1DRSTZ</th><th scope=col>DR1EXMER</th><th scope=col>DRABF</th><th scope=col>DRDINT</th><th scope=col>DR1DBIH</th><th scope=col>DR1DAY</th><th scope=col>DR1LANG</th><th scope=col>DR1MNRSP</th><th scope=col>DR1HELPD</th><th scope=col>DBQ095Z</th><th scope=col>DBD100</th><th scope=col>DRQSPREP</th><th scope=col>DR1STY</th><th scope=col>DR1SKY</th><th scope=col>DRQSDIET</th><th scope=col>DR1TNUMF</th><th scope=col>DR1TKCAL</th><th scope=col>DR1TPROT</th><th scope=col>DR1TCARB</th><th scope=col>DR1TSUGR</th><th scope=col>DR1TFIBE</th><th scope=col>DR1TTFAT</th><th scope=col>DR1TSFAT</th><th scope=col>DR1TMFAT</th><th scope=col>DR1TPFAT</th><th scope=col>DR1TCHOL</th><th scope=col>DR1TATOC</th><th scope=col>DR1TATOA</th><th scope=col>DR1TRET</th><th scope=col>DR1TVARA</th><th scope=col>DR1TACAR</th><th scope=col>DR1TBCAR</th><th scope=col>DR1TCRYP</th><th scope=col>DR1TLYCO</th><th scope=col>DR1TLZ</th><th scope=col>...</th><th scope=col>DRD370CQ</th><th scope=col>DRD370D</th><th scope=col>DRD370DQ</th><th scope=col>DRD370E</th><th scope=col>DRD370EQ</th><th scope=col>DRD370F</th><th scope=col>DRD370FQ</th><th scope=col>DRD370G</th><th scope=col>DRD370GQ</th><th scope=col>DRD370H</th><th scope=col>DRD370HQ</th><th scope=col>DRD370I</th><th scope=col>DRD370IQ</th><th scope=col>DRD370J</th><th scope=col>DRD370JQ</th><th scope=col>DRD370K</th><th scope=col>DRD370KQ</th><th scope=col>DRD370L</th><th scope=col>DRD370LQ</th><th scope=col>DRD370M</th><th scope=col>DRD370MQ</th><th scope=col>DRD370N</th><th scope=col>DRD370NQ</th><th scope=col>DRD370O</th><th scope=col>DRD370OQ</th><th scope=col>DRD370P</th><th scope=col>DRD370PQ</th><th scope=col>DRD370Q</th><th scope=col>DRD370QQ</th><th scope=col>DRD370R</th><th scope=col>DRD370RQ</th><th scope=col>DRD370S</th><th scope=col>DRD370SQ</th><th scope=col>DRD370T</th><th scope=col>DRD370TQ</th><th scope=col>DRD370U</th><th scope=col>DRD370UQ</th></tr></thead>\n",
       "<tbody>\n",
       "\t<tr><td>0.2285685   </td><td>0.05509949  </td><td>-0.3745279  </td><td>-0.04424985 </td><td>0.1334286   </td><td>-0.03900345 </td><td>0.04428038  </td><td>-0.04201849 </td><td>0.005513271 </td><td>-0.2007436  </td><td>0.2557757   </td><td>-0.1060556  </td><td>0.1579551   </td><td>0.08185981  </td><td>-0.1500693  </td><td>-0.03181908 </td><td>-0.0236631  </td><td>0.7957859   </td><td>2.425144    </td><td>2.210527    </td><td>1.934971    </td><td>1.337668    </td><td>1.556967    </td><td>2.334889    </td><td>2.184539    </td><td>2.25527     </td><td>1.918322    </td><td>1.674646    </td><td>1.750348    </td><td>0.4451355   </td><td>1.378906    </td><td>1.236489    </td><td>0.1843101   </td><td>0.3660725   </td><td>0.1236386   </td><td>0.7462761   </td><td>0.4343763   </td><td>...         </td><td>-0.106268   </td><td>-0.07776052 </td><td>0.1275859   </td><td>-0.04436481 </td><td>-0.01883362 </td><td>-0.00340207 </td><td>0.01523241  </td><td>-0.01876658 </td><td>0.03100279  </td><td>-0.05545574 </td><td>0.05025861  </td><td>-0.100828   </td><td>0.01178787  </td><td>-0.144071   </td><td>-0.04241464 </td><td>-0.0161315  </td><td>0.07303645  </td><td>-0.03299294 </td><td>-0.02306674 </td><td>-0.001333017</td><td>0.152524    </td><td>-0.03093408 </td><td>0.1323233   </td><td>-0.05330018 </td><td>-0.08593665 </td><td>-0.01016401 </td><td>0.0966487   </td><td>-0.06543188 </td><td>-0.05081286 </td><td>-0.05420798 </td><td>0.02350621  </td><td>-0.02623833 </td><td>-0.0418565  </td><td>-0.03130944 </td><td>0.06372267  </td><td>0.004797382 </td><td>0.07701211  </td></tr>\n",
       "</tbody>\n",
       "</table>\n"
      ],
      "text/latex": [
       "\\begin{tabular}{r|llllllllllllllllllllllllllllllllllllllllllllllllllllllllllllllllllllllllllllllllllllllllllllllllllllllllllllllllllllllllllllllllllllllllllllllllllllllll}\n",
       " WTDRD1 & WTDR2D & DR1DRSTZ & DR1EXMER & DRABF & DRDINT & DR1DBIH & DR1DAY & DR1LANG & DR1MNRSP & DR1HELPD & DBQ095Z & DBD100 & DRQSPREP & DR1STY & DR1SKY & DRQSDIET & DR1TNUMF & DR1TKCAL & DR1TPROT & DR1TCARB & DR1TSUGR & DR1TFIBE & DR1TTFAT & DR1TSFAT & DR1TMFAT & DR1TPFAT & DR1TCHOL & DR1TATOC & DR1TATOA & DR1TRET & DR1TVARA & DR1TACAR & DR1TBCAR & DR1TCRYP & DR1TLYCO & DR1TLZ & ... & DRD370CQ & DRD370D & DRD370DQ & DRD370E & DRD370EQ & DRD370F & DRD370FQ & DRD370G & DRD370GQ & DRD370H & DRD370HQ & DRD370I & DRD370IQ & DRD370J & DRD370JQ & DRD370K & DRD370KQ & DRD370L & DRD370LQ & DRD370M & DRD370MQ & DRD370N & DRD370NQ & DRD370O & DRD370OQ & DRD370P & DRD370PQ & DRD370Q & DRD370QQ & DRD370R & DRD370RQ & DRD370S & DRD370SQ & DRD370T & DRD370TQ & DRD370U & DRD370UQ\\\\\n",
       "\\hline\n",
       "\t 0.2285685    & 0.05509949   & -0.3745279   & -0.04424985  & 0.1334286    & -0.03900345  & 0.04428038   & -0.04201849  & 0.005513271  & -0.2007436   & 0.2557757    & -0.1060556   & 0.1579551    & 0.08185981   & -0.1500693   & -0.03181908  & -0.0236631   & 0.7957859    & 2.425144     & 2.210527     & 1.934971     & 1.337668     & 1.556967     & 2.334889     & 2.184539     & 2.25527      & 1.918322     & 1.674646     & 1.750348     & 0.4451355    & 1.378906     & 1.236489     & 0.1843101    & 0.3660725    & 0.1236386    & 0.7462761    & 0.4343763    & ...          & -0.106268    & -0.07776052  & 0.1275859    & -0.04436481  & -0.01883362  & -0.00340207  & 0.01523241   & -0.01876658  & 0.03100279   & -0.05545574  & 0.05025861   & -0.100828    & 0.01178787   & -0.144071    & -0.04241464  & -0.0161315   & 0.07303645   & -0.03299294  & -0.02306674  & -0.001333017 & 0.152524     & -0.03093408  & 0.1323233    & -0.05330018  & -0.08593665  & -0.01016401  & 0.0966487    & -0.06543188  & -0.05081286  & -0.05420798  & 0.02350621   & -0.02623833  & -0.0418565   & -0.03130944  & 0.06372267   & 0.004797382  & 0.07701211  \\\\\n",
       "\\end{tabular}\n"
      ],
      "text/markdown": [
       "\n",
       "| WTDRD1 | WTDR2D | DR1DRSTZ | DR1EXMER | DRABF | DRDINT | DR1DBIH | DR1DAY | DR1LANG | DR1MNRSP | DR1HELPD | DBQ095Z | DBD100 | DRQSPREP | DR1STY | DR1SKY | DRQSDIET | DR1TNUMF | DR1TKCAL | DR1TPROT | DR1TCARB | DR1TSUGR | DR1TFIBE | DR1TTFAT | DR1TSFAT | DR1TMFAT | DR1TPFAT | DR1TCHOL | DR1TATOC | DR1TATOA | DR1TRET | DR1TVARA | DR1TACAR | DR1TBCAR | DR1TCRYP | DR1TLYCO | DR1TLZ | ... | DRD370CQ | DRD370D | DRD370DQ | DRD370E | DRD370EQ | DRD370F | DRD370FQ | DRD370G | DRD370GQ | DRD370H | DRD370HQ | DRD370I | DRD370IQ | DRD370J | DRD370JQ | DRD370K | DRD370KQ | DRD370L | DRD370LQ | DRD370M | DRD370MQ | DRD370N | DRD370NQ | DRD370O | DRD370OQ | DRD370P | DRD370PQ | DRD370Q | DRD370QQ | DRD370R | DRD370RQ | DRD370S | DRD370SQ | DRD370T | DRD370TQ | DRD370U | DRD370UQ |\n",
       "|---|---|---|---|---|---|---|---|---|---|---|---|---|---|---|---|---|---|---|---|---|---|---|---|---|---|---|---|---|---|---|---|---|---|---|---|---|---|---|---|---|---|---|---|---|---|---|---|---|---|---|---|---|---|---|---|---|---|---|---|---|---|---|---|---|---|---|---|---|---|---|---|---|---|---|\n",
       "| 0.2285685    | 0.05509949   | -0.3745279   | -0.04424985  | 0.1334286    | -0.03900345  | 0.04428038   | -0.04201849  | 0.005513271  | -0.2007436   | 0.2557757    | -0.1060556   | 0.1579551    | 0.08185981   | -0.1500693   | -0.03181908  | -0.0236631   | 0.7957859    | 2.425144     | 2.210527     | 1.934971     | 1.337668     | 1.556967     | 2.334889     | 2.184539     | 2.25527      | 1.918322     | 1.674646     | 1.750348     | 0.4451355    | 1.378906     | 1.236489     | 0.1843101    | 0.3660725    | 0.1236386    | 0.7462761    | 0.4343763    | ...          | -0.106268    | -0.07776052  | 0.1275859    | -0.04436481  | -0.01883362  | -0.00340207  | 0.01523241   | -0.01876658  | 0.03100279   | -0.05545574  | 0.05025861   | -0.100828    | 0.01178787   | -0.144071    | -0.04241464  | -0.0161315   | 0.07303645   | -0.03299294  | -0.02306674  | -0.001333017 | 0.152524     | -0.03093408  | 0.1323233    | -0.05330018  | -0.08593665  | -0.01016401  | 0.0966487    | -0.06543188  | -0.05081286  | -0.05420798  | 0.02350621   | -0.02623833  | -0.0418565   | -0.03130944  | 0.06372267   | 0.004797382  | 0.07701211   |\n",
       "\n"
      ],
      "text/plain": [
       "  WTDRD1    WTDR2D     DR1DRSTZ   DR1EXMER    DRABF     DRDINT      DR1DBIH   \n",
       "1 0.2285685 0.05509949 -0.3745279 -0.04424985 0.1334286 -0.03900345 0.04428038\n",
       "  DR1DAY      DR1LANG     DR1MNRSP   DR1HELPD  DBQ095Z    DBD100    DRQSPREP  \n",
       "1 -0.04201849 0.005513271 -0.2007436 0.2557757 -0.1060556 0.1579551 0.08185981\n",
       "  DR1STY     DR1SKY      DRQSDIET   DR1TNUMF  DR1TKCAL DR1TPROT DR1TCARB\n",
       "1 -0.1500693 -0.03181908 -0.0236631 0.7957859 2.425144 2.210527 1.934971\n",
       "  DR1TSUGR DR1TFIBE DR1TTFAT DR1TSFAT DR1TMFAT DR1TPFAT DR1TCHOL DR1TATOC\n",
       "1 1.337668 1.556967 2.334889 2.184539 2.25527  1.918322 1.674646 1.750348\n",
       "  DR1TATOA  DR1TRET  DR1TVARA DR1TACAR  DR1TBCAR  DR1TCRYP  DR1TLYCO  DR1TLZ   \n",
       "1 0.4451355 1.378906 1.236489 0.1843101 0.3660725 0.1236386 0.7462761 0.4343763\n",
       "  ... DRD370CQ  DRD370D     DRD370DQ  DRD370E     DRD370EQ    DRD370F    \n",
       "1 ... -0.106268 -0.07776052 0.1275859 -0.04436481 -0.01883362 -0.00340207\n",
       "  DRD370FQ   DRD370G     DRD370GQ   DRD370H     DRD370HQ   DRD370I   DRD370IQ  \n",
       "1 0.01523241 -0.01876658 0.03100279 -0.05545574 0.05025861 -0.100828 0.01178787\n",
       "  DRD370J   DRD370JQ    DRD370K    DRD370KQ   DRD370L     DRD370LQ   \n",
       "1 -0.144071 -0.04241464 -0.0161315 0.07303645 -0.03299294 -0.02306674\n",
       "  DRD370M      DRD370MQ DRD370N     DRD370NQ  DRD370O     DRD370OQ   \n",
       "1 -0.001333017 0.152524 -0.03093408 0.1323233 -0.05330018 -0.08593665\n",
       "  DRD370P     DRD370PQ  DRD370Q     DRD370QQ    DRD370R     DRD370RQ  \n",
       "1 -0.01016401 0.0966487 -0.06543188 -0.05081286 -0.05420798 0.02350621\n",
       "  DRD370S     DRD370SQ   DRD370T     DRD370TQ   DRD370U     DRD370UQ  \n",
       "1 -0.02623833 -0.0418565 -0.03130944 0.06372267 0.004797382 0.07701211"
      ]
     },
     "metadata": {},
     "output_type": "display_data"
    }
   ],
   "source": [
    "intracluster_dispersion.4.3 = mean(dist(datax.4.3))\n",
    "cluster_size.4.3 = nrow(datax.4.3)\n",
    "cluster_centroid.4.3 = as.data.frame(t(colMeans(datax.4.3)))\n",
    "\n",
    "data.frame(cluster_size.4.3, intracluster_dispersion.4.3)\n",
    "cluster_centroid.4.3"
   ]
  },
  {
   "cell_type": "code",
   "execution_count": 25,
   "metadata": {
    "hide_input": true,
    "scrolled": true
   },
   "outputs": [
    {
     "data": {
      "text/html": [
       "<table>\n",
       "<thead><tr><th scope=col>cluster_size.4.4</th><th scope=col>intracluster_dispersion.4.4</th></tr></thead>\n",
       "<tbody>\n",
       "\t<tr><td>1133    </td><td>21.82738</td></tr>\n",
       "</tbody>\n",
       "</table>\n"
      ],
      "text/latex": [
       "\\begin{tabular}{r|ll}\n",
       " cluster\\_size.4.4 & intracluster\\_dispersion.4.4\\\\\n",
       "\\hline\n",
       "\t 1133     & 21.82738\\\\\n",
       "\\end{tabular}\n"
      ],
      "text/markdown": [
       "\n",
       "| cluster_size.4.4 | intracluster_dispersion.4.4 |\n",
       "|---|---|\n",
       "| 1133     | 21.82738 |\n",
       "\n"
      ],
      "text/plain": [
       "  cluster_size.4.4 intracluster_dispersion.4.4\n",
       "1 1133             21.82738                   "
      ]
     },
     "metadata": {},
     "output_type": "display_data"
    },
    {
     "data": {
      "text/html": [
       "<table>\n",
       "<thead><tr><th scope=col>WTDRD1</th><th scope=col>WTDR2D</th><th scope=col>DR1DRSTZ</th><th scope=col>DR1EXMER</th><th scope=col>DRABF</th><th scope=col>DRDINT</th><th scope=col>DR1DBIH</th><th scope=col>DR1DAY</th><th scope=col>DR1LANG</th><th scope=col>DR1MNRSP</th><th scope=col>DR1HELPD</th><th scope=col>DBQ095Z</th><th scope=col>DBD100</th><th scope=col>DRQSPREP</th><th scope=col>DR1STY</th><th scope=col>DR1SKY</th><th scope=col>DRQSDIET</th><th scope=col>DR1TNUMF</th><th scope=col>DR1TKCAL</th><th scope=col>DR1TPROT</th><th scope=col>DR1TCARB</th><th scope=col>DR1TSUGR</th><th scope=col>DR1TFIBE</th><th scope=col>DR1TTFAT</th><th scope=col>DR1TSFAT</th><th scope=col>DR1TMFAT</th><th scope=col>DR1TPFAT</th><th scope=col>DR1TCHOL</th><th scope=col>DR1TATOC</th><th scope=col>DR1TATOA</th><th scope=col>DR1TRET</th><th scope=col>DR1TVARA</th><th scope=col>DR1TACAR</th><th scope=col>DR1TBCAR</th><th scope=col>DR1TCRYP</th><th scope=col>DR1TLYCO</th><th scope=col>DR1TLZ</th><th scope=col>...</th><th scope=col>DRD370CQ</th><th scope=col>DRD370D</th><th scope=col>DRD370DQ</th><th scope=col>DRD370E</th><th scope=col>DRD370EQ</th><th scope=col>DRD370F</th><th scope=col>DRD370FQ</th><th scope=col>DRD370G</th><th scope=col>DRD370GQ</th><th scope=col>DRD370H</th><th scope=col>DRD370HQ</th><th scope=col>DRD370I</th><th scope=col>DRD370IQ</th><th scope=col>DRD370J</th><th scope=col>DRD370JQ</th><th scope=col>DRD370K</th><th scope=col>DRD370KQ</th><th scope=col>DRD370L</th><th scope=col>DRD370LQ</th><th scope=col>DRD370M</th><th scope=col>DRD370MQ</th><th scope=col>DRD370N</th><th scope=col>DRD370NQ</th><th scope=col>DRD370O</th><th scope=col>DRD370OQ</th><th scope=col>DRD370P</th><th scope=col>DRD370PQ</th><th scope=col>DRD370Q</th><th scope=col>DRD370QQ</th><th scope=col>DRD370R</th><th scope=col>DRD370RQ</th><th scope=col>DRD370S</th><th scope=col>DRD370SQ</th><th scope=col>DRD370T</th><th scope=col>DRD370TQ</th><th scope=col>DRD370U</th><th scope=col>DRD370UQ</th></tr></thead>\n",
       "<tbody>\n",
       "\t<tr><td>0.5119242    </td><td>0.3658998    </td><td>-0.3738276   </td><td>0.0316253    </td><td>0.1333109    </td><td>0.08810937   </td><td>-0.02494308  </td><td>-0.005600521 </td><td>0.1273406    </td><td>-0.2106568   </td><td>0.3505201    </td><td>-0.07925317  </td><td>0.01089007   </td><td>-0.01067553  </td><td>-0.1179779   </td><td>-0.05607149  </td><td>-0.2465861   </td><td>0.6952977    </td><td>0.1456996    </td><td>0.4278675    </td><td>0.116012     </td><td>-0.08658307  </td><td>0.7284849    </td><td>-0.04964082  </td><td>-0.2674081   </td><td>0.02152117   </td><td>0.1281713    </td><td>0.1576229    </td><td>0.3966008    </td><td>0.1110472    </td><td>-0.06517052  </td><td>0.5564204    </td><td>0.6217901    </td><td>0.8974797    </td><td>0.2876265    </td><td>0.216226     </td><td>0.790132     </td><td>...          </td><td>0.1436875    </td><td>0.08694326   </td><td>0.1069809    </td><td>-0.2526307   </td><td>0.07457262   </td><td>-0.1249403   </td><td>0.1059098    </td><td>-0.1166104   </td><td>0.0328593    </td><td>-0.1582316   </td><td>0.06053587   </td><td>0.0307239    </td><td>0.02638166   </td><td>0.05506518   </td><td>-8.518529e-15</td><td>-0.02417465  </td><td>-0.02394343  </td><td>-0.03920449  </td><td>0.008184316  </td><td>-0.5336235   </td><td>0.2306419    </td><td>-0.2373041   </td><td>0.09688777   </td><td>-0.2666027   </td><td>0.0215232    </td><td>-0.005090605 </td><td>-0.03429195  </td><td>-0.2356085   </td><td>0.04037283   </td><td>-0.1900368   </td><td>0.05546923   </td><td>-0.1703306   </td><td>-0.02730689  </td><td>-0.1415262   </td><td>0.1652425    </td><td>-0.06302415  </td><td>0.0557051    </td></tr>\n",
       "</tbody>\n",
       "</table>\n"
      ],
      "text/latex": [
       "\\begin{tabular}{r|llllllllllllllllllllllllllllllllllllllllllllllllllllllllllllllllllllllllllllllllllllllllllllllllllllllllllllllllllllllllllllllllllllllllllllllllllllllll}\n",
       " WTDRD1 & WTDR2D & DR1DRSTZ & DR1EXMER & DRABF & DRDINT & DR1DBIH & DR1DAY & DR1LANG & DR1MNRSP & DR1HELPD & DBQ095Z & DBD100 & DRQSPREP & DR1STY & DR1SKY & DRQSDIET & DR1TNUMF & DR1TKCAL & DR1TPROT & DR1TCARB & DR1TSUGR & DR1TFIBE & DR1TTFAT & DR1TSFAT & DR1TMFAT & DR1TPFAT & DR1TCHOL & DR1TATOC & DR1TATOA & DR1TRET & DR1TVARA & DR1TACAR & DR1TBCAR & DR1TCRYP & DR1TLYCO & DR1TLZ & ... & DRD370CQ & DRD370D & DRD370DQ & DRD370E & DRD370EQ & DRD370F & DRD370FQ & DRD370G & DRD370GQ & DRD370H & DRD370HQ & DRD370I & DRD370IQ & DRD370J & DRD370JQ & DRD370K & DRD370KQ & DRD370L & DRD370LQ & DRD370M & DRD370MQ & DRD370N & DRD370NQ & DRD370O & DRD370OQ & DRD370P & DRD370PQ & DRD370Q & DRD370QQ & DRD370R & DRD370RQ & DRD370S & DRD370SQ & DRD370T & DRD370TQ & DRD370U & DRD370UQ\\\\\n",
       "\\hline\n",
       "\t 0.5119242     & 0.3658998     & -0.3738276    & 0.0316253     & 0.1333109     & 0.08810937    & -0.02494308   & -0.005600521  & 0.1273406     & -0.2106568    & 0.3505201     & -0.07925317   & 0.01089007    & -0.01067553   & -0.1179779    & -0.05607149   & -0.2465861    & 0.6952977     & 0.1456996     & 0.4278675     & 0.116012      & -0.08658307   & 0.7284849     & -0.04964082   & -0.2674081    & 0.02152117    & 0.1281713     & 0.1576229     & 0.3966008     & 0.1110472     & -0.06517052   & 0.5564204     & 0.6217901     & 0.8974797     & 0.2876265     & 0.216226      & 0.790132      & ...           & 0.1436875     & 0.08694326    & 0.1069809     & -0.2526307    & 0.07457262    & -0.1249403    & 0.1059098     & -0.1166104    & 0.0328593     & -0.1582316    & 0.06053587    & 0.0307239     & 0.02638166    & 0.05506518    & -8.518529e-15 & -0.02417465   & -0.02394343   & -0.03920449   & 0.008184316   & -0.5336235    & 0.2306419     & -0.2373041    & 0.09688777    & -0.2666027    & 0.0215232     & -0.005090605  & -0.03429195   & -0.2356085    & 0.04037283    & -0.1900368    & 0.05546923    & -0.1703306    & -0.02730689   & -0.1415262    & 0.1652425     & -0.06302415   & 0.0557051    \\\\\n",
       "\\end{tabular}\n"
      ],
      "text/markdown": [
       "\n",
       "| WTDRD1 | WTDR2D | DR1DRSTZ | DR1EXMER | DRABF | DRDINT | DR1DBIH | DR1DAY | DR1LANG | DR1MNRSP | DR1HELPD | DBQ095Z | DBD100 | DRQSPREP | DR1STY | DR1SKY | DRQSDIET | DR1TNUMF | DR1TKCAL | DR1TPROT | DR1TCARB | DR1TSUGR | DR1TFIBE | DR1TTFAT | DR1TSFAT | DR1TMFAT | DR1TPFAT | DR1TCHOL | DR1TATOC | DR1TATOA | DR1TRET | DR1TVARA | DR1TACAR | DR1TBCAR | DR1TCRYP | DR1TLYCO | DR1TLZ | ... | DRD370CQ | DRD370D | DRD370DQ | DRD370E | DRD370EQ | DRD370F | DRD370FQ | DRD370G | DRD370GQ | DRD370H | DRD370HQ | DRD370I | DRD370IQ | DRD370J | DRD370JQ | DRD370K | DRD370KQ | DRD370L | DRD370LQ | DRD370M | DRD370MQ | DRD370N | DRD370NQ | DRD370O | DRD370OQ | DRD370P | DRD370PQ | DRD370Q | DRD370QQ | DRD370R | DRD370RQ | DRD370S | DRD370SQ | DRD370T | DRD370TQ | DRD370U | DRD370UQ |\n",
       "|---|---|---|---|---|---|---|---|---|---|---|---|---|---|---|---|---|---|---|---|---|---|---|---|---|---|---|---|---|---|---|---|---|---|---|---|---|---|---|---|---|---|---|---|---|---|---|---|---|---|---|---|---|---|---|---|---|---|---|---|---|---|---|---|---|---|---|---|---|---|---|---|---|---|---|\n",
       "| 0.5119242     | 0.3658998     | -0.3738276    | 0.0316253     | 0.1333109     | 0.08810937    | -0.02494308   | -0.005600521  | 0.1273406     | -0.2106568    | 0.3505201     | -0.07925317   | 0.01089007    | -0.01067553   | -0.1179779    | -0.05607149   | -0.2465861    | 0.6952977     | 0.1456996     | 0.4278675     | 0.116012      | -0.08658307   | 0.7284849     | -0.04964082   | -0.2674081    | 0.02152117    | 0.1281713     | 0.1576229     | 0.3966008     | 0.1110472     | -0.06517052   | 0.5564204     | 0.6217901     | 0.8974797     | 0.2876265     | 0.216226      | 0.790132      | ...           | 0.1436875     | 0.08694326    | 0.1069809     | -0.2526307    | 0.07457262    | -0.1249403    | 0.1059098     | -0.1166104    | 0.0328593     | -0.1582316    | 0.06053587    | 0.0307239     | 0.02638166    | 0.05506518    | -8.518529e-15 | -0.02417465   | -0.02394343   | -0.03920449   | 0.008184316   | -0.5336235    | 0.2306419     | -0.2373041    | 0.09688777    | -0.2666027    | 0.0215232     | -0.005090605  | -0.03429195   | -0.2356085    | 0.04037283    | -0.1900368    | 0.05546923    | -0.1703306    | -0.02730689   | -0.1415262    | 0.1652425     | -0.06302415   | 0.0557051     |\n",
       "\n"
      ],
      "text/plain": [
       "  WTDRD1    WTDR2D    DR1DRSTZ   DR1EXMER  DRABF     DRDINT     DR1DBIH    \n",
       "1 0.5119242 0.3658998 -0.3738276 0.0316253 0.1333109 0.08810937 -0.02494308\n",
       "  DR1DAY       DR1LANG   DR1MNRSP   DR1HELPD  DBQ095Z     DBD100    \n",
       "1 -0.005600521 0.1273406 -0.2106568 0.3505201 -0.07925317 0.01089007\n",
       "  DRQSPREP    DR1STY     DR1SKY      DRQSDIET   DR1TNUMF  DR1TKCAL  DR1TPROT \n",
       "1 -0.01067553 -0.1179779 -0.05607149 -0.2465861 0.6952977 0.1456996 0.4278675\n",
       "  DR1TCARB DR1TSUGR    DR1TFIBE  DR1TTFAT    DR1TSFAT   DR1TMFAT   DR1TPFAT \n",
       "1 0.116012 -0.08658307 0.7284849 -0.04964082 -0.2674081 0.02152117 0.1281713\n",
       "  DR1TCHOL  DR1TATOC  DR1TATOA  DR1TRET     DR1TVARA  DR1TACAR  DR1TBCAR \n",
       "1 0.1576229 0.3966008 0.1110472 -0.06517052 0.5564204 0.6217901 0.8974797\n",
       "  DR1TCRYP  DR1TLYCO DR1TLZ   ... DRD370CQ  DRD370D    DRD370DQ  DRD370E   \n",
       "1 0.2876265 0.216226 0.790132 ... 0.1436875 0.08694326 0.1069809 -0.2526307\n",
       "  DRD370EQ   DRD370F    DRD370FQ  DRD370G    DRD370GQ  DRD370H    DRD370HQ  \n",
       "1 0.07457262 -0.1249403 0.1059098 -0.1166104 0.0328593 -0.1582316 0.06053587\n",
       "  DRD370I   DRD370IQ   DRD370J    DRD370JQ      DRD370K     DRD370KQ   \n",
       "1 0.0307239 0.02638166 0.05506518 -8.518529e-15 -0.02417465 -0.02394343\n",
       "  DRD370L     DRD370LQ    DRD370M    DRD370MQ  DRD370N    DRD370NQ   DRD370O   \n",
       "1 -0.03920449 0.008184316 -0.5336235 0.2306419 -0.2373041 0.09688777 -0.2666027\n",
       "  DRD370OQ  DRD370P      DRD370PQ    DRD370Q    DRD370QQ   DRD370R   \n",
       "1 0.0215232 -0.005090605 -0.03429195 -0.2356085 0.04037283 -0.1900368\n",
       "  DRD370RQ   DRD370S    DRD370SQ    DRD370T    DRD370TQ  DRD370U     DRD370UQ \n",
       "1 0.05546923 -0.1703306 -0.02730689 -0.1415262 0.1652425 -0.06302415 0.0557051"
      ]
     },
     "metadata": {},
     "output_type": "display_data"
    }
   ],
   "source": [
    "intracluster_dispersion.4.4 = mean(dist(datax.4.4))\n",
    "cluster_size.4.4 = nrow(datax.4.4)\n",
    "cluster_centroid.4.4 = as.data.frame(t(colMeans(datax.4.4)))\n",
    "\n",
    "data.frame(cluster_size.4.4, intracluster_dispersion.4.4)\n",
    "cluster_centroid.4.4"
   ]
  },
  {
   "cell_type": "code",
   "execution_count": 26,
   "metadata": {
    "hide_input": true
   },
   "outputs": [
    {
     "data": {
      "text/html": [
       "<table>\n",
       "<thead><tr><th scope=col>mean_intercluster_dispersion.4</th><th scope=col>mean_intracluster_dispersion.4</th><th scope=col>quality.4</th></tr></thead>\n",
       "<tbody>\n",
       "\t<tr><td>8.975184 </td><td>18.08896 </td><td>0.4961692</td></tr>\n",
       "</tbody>\n",
       "</table>\n"
      ],
      "text/latex": [
       "\\begin{tabular}{r|lll}\n",
       " mean\\_intercluster\\_dispersion.4 & mean\\_intracluster\\_dispersion.4 & quality.4\\\\\n",
       "\\hline\n",
       "\t 8.975184  & 18.08896  & 0.4961692\\\\\n",
       "\\end{tabular}\n"
      ],
      "text/markdown": [
       "\n",
       "| mean_intercluster_dispersion.4 | mean_intracluster_dispersion.4 | quality.4 |\n",
       "|---|---|---|\n",
       "| 8.975184  | 18.08896  | 0.4961692 |\n",
       "\n"
      ],
      "text/plain": [
       "  mean_intercluster_dispersion.4 mean_intracluster_dispersion.4 quality.4\n",
       "1 8.975184                       18.08896                       0.4961692"
      ]
     },
     "metadata": {},
     "output_type": "display_data"
    }
   ],
   "source": [
    "mean_intracluster_dispersion.4 = mean(c(intracluster_dispersion.4.1, intracluster_dispersion.4.2, intracluster_dispersion.4.3, intracluster_dispersion.4.4))\n",
    "mean_intercluster_dispersion.4 = mean(dist(rbind(cluster_centroid.4.1, cluster_centroid.4.2, cluster_centroid.4.3, cluster_centroid.4.4)))\n",
    "quality.4 = mean_intercluster_dispersion.4 / mean_intracluster_dispersion.4\n",
    "data.frame(mean_intercluster_dispersion.4, mean_intracluster_dispersion.4, quality.4)"
   ]
  },
  {
   "cell_type": "markdown",
   "metadata": {},
   "source": [
    "**Compare segmentation model quality.**"
   ]
  },
  {
   "cell_type": "code",
   "execution_count": 27,
   "metadata": {
    "hide_input": true
   },
   "outputs": [
    {
     "data": {
      "image/png": "[encoded data removed]",
      "text/plain": [
       "plot without title"
      ]
     },
     "metadata": {},
     "output_type": "display_data"
    }
   ],
   "source": [
    "d = data.frame(number_of_segments=factor(2:4), quality=c(quality.2, quality.3, quality.4))\n",
    "\n",
    "ggplot(d) + ggtitle(\"Cluster Model Quality\") +\n",
    "geom_col(aes(x=number_of_segments, y=quality, fill=number_of_segments)) +\n",
    "theme.no_legend"
   ]
  },
  {
   "cell_type": "markdown",
   "metadata": {},
   "source": [
    "## Business Value"
   ]
  },
  {
   "cell_type": "markdown",
   "metadata": {},
   "source": [
    "**Business value of 2-segment market segmentation model.**"
   ]
  },
  {
   "cell_type": "code",
   "execution_count": 28,
   "metadata": {
    "hide_input": true
   },
   "outputs": [
    {
     "data": {
      "text/html": [
       "<table>\n",
       "<thead><tr><th scope=col>cluster</th><th scope=col>market_size</th><th scope=col>potential_market_share</th><th scope=col>intracluster_dispersion</th><th scope=col>market_share</th><th scope=col>volume</th><th scope=col>price</th><th scope=col>revenue</th><th scope=col>cost.fixed</th><th scope=col>cost.variable</th><th scope=col>cost</th><th scope=col>profit</th></tr></thead>\n",
       "<tbody>\n",
       "\t<tr><td>1          </td><td>100000     </td><td>0.2136961  </td><td>20.4465    </td><td>0.002612869</td><td> 261.2869  </td><td>999.99     </td><td> 261284.3  </td><td>150000     </td><td>100        </td><td>176128.7   </td><td>  85155.6  </td></tr>\n",
       "\t<tr><td>2          </td><td>100000     </td><td>0.7863039  </td><td>12.8746    </td><td>0.015268506</td><td>1526.8506  </td><td>999.99     </td><td>1526835.3  </td><td>150000     </td><td>100        </td><td>302685.1   </td><td>1224150.3  </td></tr>\n",
       "</tbody>\n",
       "</table>\n"
      ],
      "text/latex": [
       "\\begin{tabular}{r|llllllllllll}\n",
       " cluster & market\\_size & potential\\_market\\_share & intracluster\\_dispersion & market\\_share & volume & price & revenue & cost.fixed & cost.variable & cost & profit\\\\\n",
       "\\hline\n",
       "\t 1           & 100000      & 0.2136961   & 20.4465     & 0.002612869 &  261.2869   & 999.99      &  261284.3   & 150000      & 100         & 176128.7    &   85155.6  \\\\\n",
       "\t 2           & 100000      & 0.7863039   & 12.8746     & 0.015268506 & 1526.8506   & 999.99      & 1526835.3   & 150000      & 100         & 302685.1    & 1224150.3  \\\\\n",
       "\\end{tabular}\n"
      ],
      "text/markdown": [
       "\n",
       "| cluster | market_size | potential_market_share | intracluster_dispersion | market_share | volume | price | revenue | cost.fixed | cost.variable | cost | profit |\n",
       "|---|---|---|---|---|---|---|---|---|---|---|---|\n",
       "| 1           | 100000      | 0.2136961   | 20.4465     | 0.002612869 |  261.2869   | 999.99      |  261284.3   | 150000      | 100         | 176128.7    |   85155.6   |\n",
       "| 2           | 100000      | 0.7863039   | 12.8746     | 0.015268506 | 1526.8506   | 999.99      | 1526835.3   | 150000      | 100         | 302685.1    | 1224150.3   |\n",
       "\n"
      ],
      "text/plain": [
       "  cluster market_size potential_market_share intracluster_dispersion\n",
       "1 1       100000      0.2136961              20.4465                \n",
       "2 2       100000      0.7863039              12.8746                \n",
       "  market_share volume    price  revenue   cost.fixed cost.variable cost    \n",
       "1 0.002612869   261.2869 999.99  261284.3 150000     100           176128.7\n",
       "2 0.015268506  1526.8506 999.99 1526835.3 150000     100           302685.1\n",
       "  profit   \n",
       "1   85155.6\n",
       "2 1224150.3"
      ]
     },
     "metadata": {},
     "output_type": "display_data"
    },
    {
     "data": {
      "text/html": [
       "<table>\n",
       "<thead><tr><th scope=col>number_of_clusters</th><th scope=col>total_profit</th></tr></thead>\n",
       "<tbody>\n",
       "\t<tr><td>2      </td><td>1309306</td></tr>\n",
       "</tbody>\n",
       "</table>\n"
      ],
      "text/latex": [
       "\\begin{tabular}{r|ll}\n",
       " number\\_of\\_clusters & total\\_profit\\\\\n",
       "\\hline\n",
       "\t 2       & 1309306\\\\\n",
       "\\end{tabular}\n"
      ],
      "text/markdown": [
       "\n",
       "| number_of_clusters | total_profit |\n",
       "|---|---|\n",
       "| 2       | 1309306 |\n",
       "\n"
      ],
      "text/plain": [
       "  number_of_clusters total_profit\n",
       "1 2                  1309306     "
      ]
     },
     "metadata": {},
     "output_type": "display_data"
    }
   ],
   "source": [
    "potential_market_share.2.1 = cluster_size.2.1 / nrow(data.2)\n",
    "market_share.2.1 = potential_market_share.2.1 * (1/intracluster_dispersion.2.1) * calibration\n",
    "volume.2.1 = market_size * market_share.2.1\n",
    "revenue.2.1 = volume.2.1 * price\n",
    "cost.2.1 = cost.fixed + (cost.variable * volume.2.1)\n",
    "profit.2.1 = revenue.2.1 - cost.2.1\n",
    "\n",
    "potential_market_share.2.2 = cluster_size.2.2 / nrow(data.2)\n",
    "market_share.2.2 = potential_market_share.2.2 * (1/intracluster_dispersion.2.2) * calibration\n",
    "volume.2.2 = market_size * market_share.2.2\n",
    "revenue.2.2 = volume.2.2 * price\n",
    "cost.2.2 = cost.fixed + (cost.variable * volume.2.2)\n",
    "profit.2.2 = revenue.2.2 - cost.2.2\n",
    "\n",
    "profit.2 = profit.2.1 + profit.2.2\n",
    "\n",
    "report = data.frame(cluster=1:2,\n",
    "                    market_size,\n",
    "                    potential_market_share=c(potential_market_share.2.1, potential_market_share.2.2),\n",
    "                    intracluster_dispersion=c(intracluster_dispersion.2.1, intracluster_dispersion.2.2),\n",
    "                    market_share=c(market_share.2.1, market_share.2.2),\n",
    "                    volume=c(volume.2.1, volume.2.2),\n",
    "                    price,\n",
    "                    revenue=c(revenue.2.1, revenue.2.2),\n",
    "                    cost.fixed,\n",
    "                    cost.variable,\n",
    "                    cost=c(cost.2.1, cost.2.2),\n",
    "                    profit=c(profit.2.1, profit.2.2))\n",
    "\n",
    "report.2 = data.frame(number_of_clusters=2, total_profit=profit.2)\n",
    "\n",
    "report\n",
    "report.2"
   ]
  },
  {
   "cell_type": "markdown",
   "metadata": {},
   "source": [
    "**Business value of 3-segment market segmentation model.**"
   ]
  },
  {
   "cell_type": "code",
   "execution_count": 29,
   "metadata": {
    "hide_input": true
   },
   "outputs": [
    {
     "data": {
      "text/html": [
       "<table>\n",
       "<thead><tr><th scope=col>cluster</th><th scope=col>market_size</th><th scope=col>potential_market_share</th><th scope=col>intracluster_dispersion</th><th scope=col>market_share</th><th scope=col>volume</th><th scope=col>price</th><th scope=col>revenue</th><th scope=col>cost.fixed</th><th scope=col>cost.variable</th><th scope=col>cost</th><th scope=col>profit</th></tr></thead>\n",
       "<tbody>\n",
       "\t<tr><td>1           </td><td>100000      </td><td>0.29206155  </td><td>16.26149    </td><td>0.0044900809</td><td> 449.00809  </td><td>999.99      </td><td> 449003.60  </td><td>150000      </td><td>100         </td><td>194900.8    </td><td> 254102.79  </td></tr>\n",
       "\t<tr><td>2           </td><td>100000      </td><td>0.63823499  </td><td>12.17165    </td><td>0.0131090526</td><td>1310.90526  </td><td>999.99      </td><td>1310892.16  </td><td>150000      </td><td>100         </td><td>281090.5    </td><td>1029801.63  </td></tr>\n",
       "\t<tr><td>3           </td><td>100000      </td><td>0.06970345  </td><td>24.75406    </td><td>0.0007039599</td><td>  70.39599  </td><td>999.99      </td><td>  70395.29  </td><td>150000      </td><td>100         </td><td>157039.6    </td><td> -86644.31  </td></tr>\n",
       "</tbody>\n",
       "</table>\n"
      ],
      "text/latex": [
       "\\begin{tabular}{r|llllllllllll}\n",
       " cluster & market\\_size & potential\\_market\\_share & intracluster\\_dispersion & market\\_share & volume & price & revenue & cost.fixed & cost.variable & cost & profit\\\\\n",
       "\\hline\n",
       "\t 1            & 100000       & 0.29206155   & 16.26149     & 0.0044900809 &  449.00809   & 999.99       &  449003.60   & 150000       & 100          & 194900.8     &  254102.79  \\\\\n",
       "\t 2            & 100000       & 0.63823499   & 12.17165     & 0.0131090526 & 1310.90526   & 999.99       & 1310892.16   & 150000       & 100          & 281090.5     & 1029801.63  \\\\\n",
       "\t 3            & 100000       & 0.06970345   & 24.75406     & 0.0007039599 &   70.39599   & 999.99       &   70395.29   & 150000       & 100          & 157039.6     &  -86644.31  \\\\\n",
       "\\end{tabular}\n"
      ],
      "text/markdown": [
       "\n",
       "| cluster | market_size | potential_market_share | intracluster_dispersion | market_share | volume | price | revenue | cost.fixed | cost.variable | cost | profit |\n",
       "|---|---|---|---|---|---|---|---|---|---|---|---|\n",
       "| 1            | 100000       | 0.29206155   | 16.26149     | 0.0044900809 |  449.00809   | 999.99       |  449003.60   | 150000       | 100          | 194900.8     |  254102.79   |\n",
       "| 2            | 100000       | 0.63823499   | 12.17165     | 0.0131090526 | 1310.90526   | 999.99       | 1310892.16   | 150000       | 100          | 281090.5     | 1029801.63   |\n",
       "| 3            | 100000       | 0.06970345   | 24.75406     | 0.0007039599 |   70.39599   | 999.99       |   70395.29   | 150000       | 100          | 157039.6     |  -86644.31   |\n",
       "\n"
      ],
      "text/plain": [
       "  cluster market_size potential_market_share intracluster_dispersion\n",
       "1 1       100000      0.29206155             16.26149               \n",
       "2 2       100000      0.63823499             12.17165               \n",
       "3 3       100000      0.06970345             24.75406               \n",
       "  market_share volume     price  revenue    cost.fixed cost.variable cost    \n",
       "1 0.0044900809  449.00809 999.99  449003.60 150000     100           194900.8\n",
       "2 0.0131090526 1310.90526 999.99 1310892.16 150000     100           281090.5\n",
       "3 0.0007039599   70.39599 999.99   70395.29 150000     100           157039.6\n",
       "  profit    \n",
       "1  254102.79\n",
       "2 1029801.63\n",
       "3  -86644.31"
      ]
     },
     "metadata": {},
     "output_type": "display_data"
    },
    {
     "data": {
      "text/html": [
       "<table>\n",
       "<thead><tr><th scope=col>number_of_clusters</th><th scope=col>total_profit</th></tr></thead>\n",
       "<tbody>\n",
       "\t<tr><td>3      </td><td>1197260</td></tr>\n",
       "</tbody>\n",
       "</table>\n"
      ],
      "text/latex": [
       "\\begin{tabular}{r|ll}\n",
       " number\\_of\\_clusters & total\\_profit\\\\\n",
       "\\hline\n",
       "\t 3       & 1197260\\\\\n",
       "\\end{tabular}\n"
      ],
      "text/markdown": [
       "\n",
       "| number_of_clusters | total_profit |\n",
       "|---|---|\n",
       "| 3       | 1197260 |\n",
       "\n"
      ],
      "text/plain": [
       "  number_of_clusters total_profit\n",
       "1 3                  1197260     "
      ]
     },
     "metadata": {},
     "output_type": "display_data"
    }
   ],
   "source": [
    "potential_market_share.3.1 = cluster_size.3.1 / nrow(data.3)\n",
    "market_share.3.1 = potential_market_share.3.1 * (1/intracluster_dispersion.3.1) * calibration\n",
    "volume.3.1 = market_size * market_share.3.1\n",
    "revenue.3.1 = volume.3.1 * price\n",
    "cost.3.1 = cost.fixed + (cost.variable * volume.3.1)\n",
    "profit.3.1 = revenue.3.1 - cost.3.1\n",
    "\n",
    "potential_market_share.3.2 = cluster_size.3.2 / nrow(data.3)\n",
    "market_share.3.2 = potential_market_share.3.2 * (1/intracluster_dispersion.3.2) * calibration\n",
    "volume.3.2 = market_size * market_share.3.2\n",
    "revenue.3.2 = volume.3.2 * price\n",
    "cost.3.2 = cost.fixed + (cost.variable * volume.3.2)\n",
    "profit.3.2 = revenue.3.2 - cost.3.2\n",
    "\n",
    "potential_market_share.3.3 = cluster_size.3.3 / nrow(data.3)\n",
    "market_share.3.3 = potential_market_share.3.3 * (1/intracluster_dispersion.3.3) * calibration\n",
    "volume.3.3 = market_size * market_share.3.3\n",
    "revenue.3.3 = volume.3.3 * price\n",
    "cost.3.3 = cost.fixed + (cost.variable * volume.3.3)\n",
    "profit.3.3 = revenue.3.3 - cost.3.3\n",
    "\n",
    "profit.3 = profit.3.1 + profit.3.2 + profit.3.3\n",
    "\n",
    "report = data.frame(cluster=1:3,\n",
    "                    market_size,\n",
    "                    potential_market_share=c(potential_market_share.3.1, potential_market_share.3.2, potential_market_share.3.3),\n",
    "                    intracluster_dispersion=c(intracluster_dispersion.3.1, intracluster_dispersion.3.2, intracluster_dispersion.3.3),\n",
    "                    market_share=c(market_share.3.1, market_share.3.2, market_share.3.3),\n",
    "                    volume=c(volume.3.1, volume.3.2, volume.3.3),\n",
    "                    price,\n",
    "                    revenue=c(revenue.3.1, revenue.3.2, revenue.3.3),\n",
    "                    cost.fixed,\n",
    "                    cost.variable,\n",
    "                    cost=c(cost.3.1, cost.3.2, cost.3.3),\n",
    "                    profit=c(profit.3.1, profit.3.2, profit.3.3))\n",
    "\n",
    "report.3 = data.frame(number_of_clusters=3, total_profit=profit.3)\n",
    "\n",
    "report\n",
    "report.3"
   ]
  },
  {
   "cell_type": "markdown",
   "metadata": {},
   "source": [
    "**Business value of 4-segment market segmentation model.**"
   ]
  },
  {
   "cell_type": "code",
   "execution_count": 30,
   "metadata": {
    "hide_input": true
   },
   "outputs": [
    {
     "data": {
      "text/html": [
       "<table>\n",
       "<thead><tr><th scope=col>cluster</th><th scope=col>market_size</th><th scope=col>potential_market_share</th><th scope=col>intracluster_dispersion</th><th scope=col>market_share</th><th scope=col>volume</th><th scope=col>price</th><th scope=col>revenue</th><th scope=col>cost.fixed</th><th scope=col>cost.variable</th><th scope=col>cost</th><th scope=col>profit</th></tr></thead>\n",
       "<tbody>\n",
       "\t<tr><td>1           </td><td>100000      </td><td>0.2088046   </td><td>14.04676    </td><td>0.0037162429</td><td> 371.62429  </td><td>999.99      </td><td> 371620.6   </td><td>150000      </td><td>100         </td><td>187162.4    </td><td> 184458.14  </td></tr>\n",
       "\t<tr><td>2           </td><td>100000      </td><td>0.6142872   </td><td>11.57800    </td><td>0.0132641026</td><td>1326.41026  </td><td>999.99      </td><td>1326397.0   </td><td>150000      </td><td>100         </td><td>282641.0    </td><td>1043755.97  </td></tr>\n",
       "\t<tr><td>3           </td><td>100000      </td><td>0.0614491   </td><td>24.90370    </td><td>0.0006168672</td><td>  61.68672  </td><td>999.99      </td><td>  61686.1   </td><td>150000      </td><td>100         </td><td>156168.7    </td><td> -94482.57  </td></tr>\n",
       "\t<tr><td>4           </td><td>100000      </td><td>0.1154591   </td><td>21.82738    </td><td>0.0013224112</td><td> 132.24112  </td><td>999.99      </td><td> 132239.8   </td><td>150000      </td><td>100         </td><td>163224.1    </td><td> -30984.31  </td></tr>\n",
       "</tbody>\n",
       "</table>\n"
      ],
      "text/latex": [
       "\\begin{tabular}{r|llllllllllll}\n",
       " cluster & market\\_size & potential\\_market\\_share & intracluster\\_dispersion & market\\_share & volume & price & revenue & cost.fixed & cost.variable & cost & profit\\\\\n",
       "\\hline\n",
       "\t 1            & 100000       & 0.2088046    & 14.04676     & 0.0037162429 &  371.62429   & 999.99       &  371620.6    & 150000       & 100          & 187162.4     &  184458.14  \\\\\n",
       "\t 2            & 100000       & 0.6142872    & 11.57800     & 0.0132641026 & 1326.41026   & 999.99       & 1326397.0    & 150000       & 100          & 282641.0     & 1043755.97  \\\\\n",
       "\t 3            & 100000       & 0.0614491    & 24.90370     & 0.0006168672 &   61.68672   & 999.99       &   61686.1    & 150000       & 100          & 156168.7     &  -94482.57  \\\\\n",
       "\t 4            & 100000       & 0.1154591    & 21.82738     & 0.0013224112 &  132.24112   & 999.99       &  132239.8    & 150000       & 100          & 163224.1     &  -30984.31  \\\\\n",
       "\\end{tabular}\n"
      ],
      "text/markdown": [
       "\n",
       "| cluster | market_size | potential_market_share | intracluster_dispersion | market_share | volume | price | revenue | cost.fixed | cost.variable | cost | profit |\n",
       "|---|---|---|---|---|---|---|---|---|---|---|---|\n",
       "| 1            | 100000       | 0.2088046    | 14.04676     | 0.0037162429 |  371.62429   | 999.99       |  371620.6    | 150000       | 100          | 187162.4     |  184458.14   |\n",
       "| 2            | 100000       | 0.6142872    | 11.57800     | 0.0132641026 | 1326.41026   | 999.99       | 1326397.0    | 150000       | 100          | 282641.0     | 1043755.97   |\n",
       "| 3            | 100000       | 0.0614491    | 24.90370     | 0.0006168672 |   61.68672   | 999.99       |   61686.1    | 150000       | 100          | 156168.7     |  -94482.57   |\n",
       "| 4            | 100000       | 0.1154591    | 21.82738     | 0.0013224112 |  132.24112   | 999.99       |  132239.8    | 150000       | 100          | 163224.1     |  -30984.31   |\n",
       "\n"
      ],
      "text/plain": [
       "  cluster market_size potential_market_share intracluster_dispersion\n",
       "1 1       100000      0.2088046              14.04676               \n",
       "2 2       100000      0.6142872              11.57800               \n",
       "3 3       100000      0.0614491              24.90370               \n",
       "4 4       100000      0.1154591              21.82738               \n",
       "  market_share volume     price  revenue   cost.fixed cost.variable cost    \n",
       "1 0.0037162429  371.62429 999.99  371620.6 150000     100           187162.4\n",
       "2 0.0132641026 1326.41026 999.99 1326397.0 150000     100           282641.0\n",
       "3 0.0006168672   61.68672 999.99   61686.1 150000     100           156168.7\n",
       "4 0.0013224112  132.24112 999.99  132239.8 150000     100           163224.1\n",
       "  profit    \n",
       "1  184458.14\n",
       "2 1043755.97\n",
       "3  -94482.57\n",
       "4  -30984.31"
      ]
     },
     "metadata": {},
     "output_type": "display_data"
    },
    {
     "data": {
      "text/html": [
       "<table>\n",
       "<thead><tr><th scope=col>number_of_clusters</th><th scope=col>total_profit</th></tr></thead>\n",
       "<tbody>\n",
       "\t<tr><td>4      </td><td>1102747</td></tr>\n",
       "</tbody>\n",
       "</table>\n"
      ],
      "text/latex": [
       "\\begin{tabular}{r|ll}\n",
       " number\\_of\\_clusters & total\\_profit\\\\\n",
       "\\hline\n",
       "\t 4       & 1102747\\\\\n",
       "\\end{tabular}\n"
      ],
      "text/markdown": [
       "\n",
       "| number_of_clusters | total_profit |\n",
       "|---|---|\n",
       "| 4       | 1102747 |\n",
       "\n"
      ],
      "text/plain": [
       "  number_of_clusters total_profit\n",
       "1 4                  1102747     "
      ]
     },
     "metadata": {},
     "output_type": "display_data"
    }
   ],
   "source": [
    "potential_market_share.4.1 = cluster_size.4.1 / nrow(data.4)\n",
    "market_share.4.1 = potential_market_share.4.1 * (1/intracluster_dispersion.4.1) * calibration\n",
    "volume.4.1 = market_size * market_share.4.1\n",
    "revenue.4.1 = volume.4.1 * price\n",
    "cost.4.1 = cost.fixed + (cost.variable * volume.4.1)\n",
    "profit.4.1 = revenue.4.1 - cost.4.1\n",
    "\n",
    "potential_market_share.4.2 = cluster_size.4.2 / nrow(data.4)\n",
    "market_share.4.2 = potential_market_share.4.2 * (1/intracluster_dispersion.4.2) * calibration\n",
    "volume.4.2 = market_size * market_share.4.2\n",
    "revenue.4.2 = volume.4.2 * price\n",
    "cost.4.2 = cost.fixed + (cost.variable * volume.4.2)\n",
    "profit.4.2 = revenue.4.2 - cost.4.2\n",
    "\n",
    "potential_market_share.4.3 = cluster_size.4.3 / nrow(data.4)\n",
    "market_share.4.3 = potential_market_share.4.3 * (1/intracluster_dispersion.4.3) * calibration\n",
    "volume.4.3 = market_size * market_share.4.3\n",
    "revenue.4.3 = volume.4.3 * price\n",
    "cost.4.3 = cost.fixed + (cost.variable * volume.4.3)\n",
    "profit.4.3 = revenue.4.3 - cost.4.3\n",
    "\n",
    "potential_market_share.4.4 = cluster_size.4.4 / nrow(data.4)\n",
    "market_share.4.4 = potential_market_share.4.4 * (1/intracluster_dispersion.4.4) * calibration\n",
    "volume.4.4 = market_size * market_share.4.4\n",
    "revenue.4.4 = volume.4.4 * price\n",
    "cost.4.4 = cost.fixed + (cost.variable * volume.4.4)\n",
    "profit.4.4 = revenue.4.4 - cost.4.4\n",
    "\n",
    "profit.4 = profit.4.1 + profit.4.2 + profit.4.3 + profit.4.4\n",
    "\n",
    "report = data.frame(cluster=1:4,\n",
    "                    market_size,\n",
    "                    potential_market_share=c(potential_market_share.4.1, potential_market_share.4.2, potential_market_share.4.3, potential_market_share.4.4),\n",
    "                    intracluster_dispersion=c(intracluster_dispersion.4.1, intracluster_dispersion.4.2, intracluster_dispersion.4.3, intracluster_dispersion.4.4),\n",
    "                    market_share=c(market_share.4.1, market_share.4.2, market_share.4.3, market_share.4.4),\n",
    "                    volume=c(volume.4.1, volume.4.2, volume.4.3, volume.4.4),\n",
    "                    price,\n",
    "                    revenue=c(revenue.4.1, revenue.4.2, revenue.4.3, revenue.4.4),\n",
    "                    cost.fixed,\n",
    "                    cost.variable,\n",
    "                    cost=c(cost.4.1, cost.4.2, cost.4.3, cost.4.4),\n",
    "                    profit=c(profit.4.1, profit.4.2, profit.4.3, profit.4.4))\n",
    "\n",
    "report.4 = data.frame(number_of_clusters=4, total_profit=profit.4)\n",
    "\n",
    "report\n",
    "report.4"
   ]
  },
  {
   "cell_type": "code",
   "execution_count": 31,
   "metadata": {
    "hide_input": true
   },
   "outputs": [
    {
     "data": {
      "image/png": "[encoded data removed]",
      "text/plain": [
       "plot without title"
      ]
     },
     "metadata": {},
     "output_type": "display_data"
    }
   ],
   "source": [
    "d = data.frame(number_of_segments=factor(2:4),\n",
    "               quality=c(quality.2, quality.3, quality.4),\n",
    "               profit=c(profit.2, profit.3, profit.4))\n",
    "\n",
    "p1 = ggplot(d) + ggtitle(\"Cluster Model Quality\") +\n",
    "     geom_col(aes(x=number_of_segments, y=quality, fill=number_of_segments)) +\n",
    "     scale_fill_manual(values=PALETTE) + theme.no_legend\n",
    "\n",
    "p2 = ggplot(d) + ggtitle(\"Profit\") +\n",
    "     geom_col(aes(x=number_of_segments, y=profit, fill=number_of_segments)) +\n",
    "     scale_fill_manual(values=PALETTE) + theme.no_legend\n",
    "\n",
    "grid.arrange(p1, p2, nrow=1)"
   ]
  },
  {
   "cell_type": "markdown",
   "metadata": {},
   "source": [
    "## Sensitivity Analysis\n",
    "\n",
    "Analyze effect of changes in business parameter values on business value."
   ]
  },
  {
   "cell_type": "code",
   "execution_count": 32,
   "metadata": {},
   "outputs": [],
   "source": [
    "market_size = 100000; calibration = 0.25; price = 999.99; cost.fixed = 150000; cost.variable = 100\n",
    "# market_size = 100000; calibration = 0.25; price = 999.99; cost.fixed =  40000; cost.variable = 100\n",
    "# market_size = 100000; calibration = 0.25; price = 999.99; cost.fixed = 300000; cost.variable = 100\n",
    "# market_size = 100000; calibration = 0.50; price = 999.99; cost.fixed = 150000; cost.variable = 100\n",
    "# market_size = 100000; calibration = 0.10; price = 999.99; cost.fixed = 150000; cost.variable = 100"
   ]
  },
  {
   "cell_type": "code",
   "execution_count": 33,
   "metadata": {
    "hide_input": true
   },
   "outputs": [
    {
     "data": {
      "image/png": "[encoded data removed]",
      "text/plain": [
       "plot without title"
      ]
     },
     "metadata": {},
     "output_type": "display_data"
    }
   ],
   "source": [
    "potential_market_share.2.1 = cluster_size.2.1 / nrow(data.2)\n",
    "market_share.2.1 = potential_market_share.2.1 * (1/intracluster_dispersion.2.1) * calibration\n",
    "volume.2.1 = market_size * market_share.2.1\n",
    "revenue.2.1 = volume.2.1 * price\n",
    "cost.2.1 = cost.fixed + (cost.variable * volume.2.1)\n",
    "profit.2.1 = revenue.2.1 - cost.2.1\n",
    "\n",
    "potential_market_share.2.2 = cluster_size.2.2 / nrow(data.2)\n",
    "market_share.2.2 = potential_market_share.2.2 * (1/intracluster_dispersion.2.2) * calibration\n",
    "volume.2.2 = market_size * market_share.2.2\n",
    "revenue.2.2 = volume.2.2 * price\n",
    "cost.2.2 = cost.fixed + (cost.variable * volume.2.2)\n",
    "profit.2.2 = revenue.2.2 - cost.2.2\n",
    "\n",
    "profit.2 = profit.2.1 + profit.2.2\n",
    "\n",
    "\n",
    "potential_market_share.3.1 = cluster_size.3.1 / nrow(data.3)\n",
    "market_share.3.1 = potential_market_share.3.1 * (1/intracluster_dispersion.3.1) * calibration\n",
    "volume.3.1 = market_size * market_share.3.1\n",
    "revenue.3.1 = volume.3.1 * price\n",
    "cost.3.1 = cost.fixed + (cost.variable * volume.3.1)\n",
    "profit.3.1 = revenue.3.1 - cost.3.1\n",
    "\n",
    "potential_market_share.3.2 = cluster_size.3.2 / nrow(data.3)\n",
    "market_share.3.2 = potential_market_share.3.2 * (1/intracluster_dispersion.3.2) * calibration\n",
    "volume.3.2 = market_size * market_share.3.2\n",
    "revenue.3.2 = volume.3.2 * price\n",
    "cost.3.2 = cost.fixed + (cost.variable * volume.3.2)\n",
    "profit.3.2 = revenue.3.2 - cost.3.2\n",
    "\n",
    "potential_market_share.3.3 = cluster_size.3.3 / nrow(data.3)\n",
    "market_share.3.3 = potential_market_share.3.3 * (1/intracluster_dispersion.3.3) * calibration\n",
    "volume.3.3 = market_size * market_share.3.3\n",
    "revenue.3.3 = volume.3.3 * price\n",
    "cost.3.3 = cost.fixed + (cost.variable * volume.3.3)\n",
    "profit.3.3 = revenue.3.3 - cost.3.3\n",
    "\n",
    "profit.3 = profit.3.1 + profit.3.2 + profit.3.3\n",
    "\n",
    "\n",
    "potential_market_share.4.1 = cluster_size.4.1 / nrow(data.4)\n",
    "market_share.4.1 = potential_market_share.4.1 * (1/intracluster_dispersion.4.1) * calibration\n",
    "volume.4.1 = market_size * market_share.4.1\n",
    "revenue.4.1 = volume.4.1 * price\n",
    "cost.4.1 = cost.fixed + (cost.variable * volume.4.1)\n",
    "profit.4.1 = revenue.4.1 - cost.4.1\n",
    "\n",
    "potential_market_share.4.2 = cluster_size.4.2 / nrow(data.4)\n",
    "market_share.4.2 = potential_market_share.4.2 * (1/intracluster_dispersion.4.2) * calibration\n",
    "volume.4.2 = market_size * market_share.4.2\n",
    "revenue.4.2 = volume.4.2 * price\n",
    "cost.4.2 = cost.fixed + (cost.variable * volume.4.2)\n",
    "profit.4.2 = revenue.4.2 - cost.4.2\n",
    "\n",
    "potential_market_share.4.3 = cluster_size.4.3 / nrow(data.4)\n",
    "market_share.4.3 = potential_market_share.4.3 * (1/intracluster_dispersion.4.3) * calibration\n",
    "volume.4.3 = market_size * market_share.4.3\n",
    "revenue.4.3 = volume.4.3 * price\n",
    "cost.4.3 = cost.fixed + (cost.variable * volume.4.3)\n",
    "profit.4.3 = revenue.4.3 - cost.4.3\n",
    "\n",
    "potential_market_share.4.4 = cluster_size.4.4 / nrow(data.4)\n",
    "market_share.4.4 = potential_market_share.4.4 * (1/intracluster_dispersion.4.4) * calibration\n",
    "volume.4.4 = market_size * market_share.4.4\n",
    "revenue.4.4 = volume.4.4 * price\n",
    "cost.4.4 = cost.fixed + (cost.variable * volume.4.4)\n",
    "profit.4.4 = revenue.4.4 - cost.4.4\n",
    "\n",
    "profit.4 = profit.4.1 + profit.4.2 + profit.4.3 + profit.4.4\n",
    "\n",
    "\n",
    "d = data.frame(number_of_segments=factor(2:4),\n",
    "               quality=c(quality.2, quality.3, quality.4),\n",
    "               profit=c(profit.2, profit.3, profit.4))\n",
    "\n",
    "p1 = ggplot(d) + ggtitle(\"Cluster Model Quality\") +\n",
    "     geom_col(aes(x=number_of_segments, y=quality, fill=number_of_segments)) +\n",
    "     scale_fill_manual(values=PALETTE) + theme.no_legend\n",
    "\n",
    "p2 = ggplot(d) + ggtitle(\"Profit\") +\n",
    "     geom_col(aes(x=number_of_segments, y=profit, fill=number_of_segments)) +\n",
    "     scale_fill_manual(values=PALETTE) + theme.no_legend\n",
    "\n",
    "grid.arrange(p1, p2, nrow=1)"
   ]
  },
  {
   "cell_type": "markdown",
   "metadata": {},
   "source": [
    "## Discussion\n",
    "\n",
    "* To improve the model, which variables should you exclude?\n",
    "* To improve the model, what other variables would you like to have?\n",
    "* How sensitive is the business value to the business parameters?\n",
    "* How could you improve the business model?\n"
   ]
  },
  {
   "cell_type": "markdown",
   "metadata": {},
   "source": [
    "<font size=1;>\n",
    "<p style=\"text-align: left;\">\n",
    "Copyright (c) Berkeley Data Analytics Group, LLC\n",
    "<span style=\"float: right;\">\n",
    "Document revised February 27, 2020\n",
    "</span>\n",
    "</p>\n",
    "</font>"
   ]
  }
 ],
 "metadata": {
  "hide_code_all_hidden": false,
  "hide_input": false,
  "kernelspec": {
   "display_name": "R",
   "language": "R",
   "name": "ir"
  },
  "language_info": {
   "codemirror_mode": "r",
   "file_extension": ".r",
   "mimetype": "text/x-r-source",
   "name": "R",
   "pygments_lexer": "r",
   "version": "3.6.1"
  },
  "toc": {
   "base_numbering": 1,
   "nav_menu": {},
   "number_sections": true,
   "sideBar": true,
   "skip_h1_title": true,
   "title_cell": "Table of Contents",
   "title_sidebar": "Contents",
   "toc_cell": false,
   "toc_position": {},
   "toc_section_display": true,
   "toc_window_display": true
  }
 },
 "nbformat": 4,
 "nbformat_minor": 2
}
