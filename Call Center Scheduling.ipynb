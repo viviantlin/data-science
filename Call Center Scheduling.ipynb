{
 "cells": [
  {
   "cell_type": "markdown",
   "metadata": {
    "hideCode": false,
    "hidePrompt": false
   },
   "source": [
    "# Call Center Scheduling\n",
    "\n",
    "![](banner_pets.jpg)\n",
    "\n",
    "Linear regression"
   ]
  },
  {
   "cell_type": "code",
   "execution_count": 1,
   "metadata": {},
   "outputs": [
    {
     "data": {
      "text/html": [
       "<p style=\"text-align:center; font-size:10px;\">\n",
       ".................................................... start of document ....................................................\n",
       "</p>"
      ]
     },
     "metadata": {},
     "output_type": "display_data"
    }
   ],
   "source": [
    "f = \"setup.R\"; for (i in 1:10) { if (file.exists(f)) break else f = paste0(\"../\", f) }; source(f)\n",
    "update_geom_defaults(\"point\", list(size=1))\n",
    "options(warn=-1)"
   ]
  },
  {
   "cell_type": "markdown",
   "metadata": {},
   "source": [
    "## Situation\n",
    "\n",
    "A business process outsourcing company (BPO) is negotiating with a pet supply company (PSC) to provide customer service to the pet supply company's customers in 2015.  The contract calls for PSC to pay BPO per call handled (based on a reasonable rate and assuming PSC's call volume in 2015 will be about the same as it was in 2014).  Also, BPO will be charged a penalty for any unanswered calls beyond a certain threshold per day.  BPO will decide the appropriate daily staffing levels, but the daily staffing levels must be committed to in advance.  Note that BPO's profit will be dependent on a trade-off between saving staffing costs and incurring customer dissatisfaction penalties. \n",
    "\n",
    "\n",
    "\n",
    "### Objective\n",
    "Build a linear regression model based on 2014 data to predict daily call volumes for 2015.  Then use the model to decide the appropriate daily staffing levels, and estimate profit.  Compare to fixed high staffing level and fixed low staffing level scenarios.\n",
    "\n",
    "* **Role:** Vice President of Operations at a business process outsourcing company\n",
    "* **Decision:** Call center agent staffing levels.\n",
    "* **Approach:** Build and use a data analytic model to predict necessary staff levels and hire accordingly.\n",
    "* **Dataset:** The dataset comprises daily call volumes and associated calendar and promotion information. "
   ]
  },
  {
   "cell_type": "markdown",
   "metadata": {},
   "source": [
    "## Decision Model"
   ]
  },
  {
   "cell_type": "markdown",
   "metadata": {},
   "source": [
    "### Influence Diagram | Provider Perspective\n",
    "\n",
    "<img src=\"business-model_pets_provider.jpg\" align=left width=700 />"
   ]
  },
  {
   "cell_type": "markdown",
   "metadata": {},
   "source": [
    "### Influence Diagram | Client Perspective\n",
    "\n",
    "<img src=\"business-model_pets_client.jpg\" align=left width=640 />"
   ]
  },
  {
   "cell_type": "markdown",
   "metadata": {},
   "source": [
    "### Business Parameters"
   ]
  },
  {
   "cell_type": "markdown",
   "metadata": {},
   "source": [
    "#### Budget"
   ]
  },
  {
   "cell_type": "code",
   "execution_count": 2,
   "metadata": {},
   "outputs": [
    {
     "data": {
      "text/html": [
       "<table>\n",
       "<thead><tr><th scope=col>budget</th></tr></thead>\n",
       "<tbody>\n",
       "\t<tr><td>1000000</td></tr>\n",
       "</tbody>\n",
       "</table>\n"
      ],
      "text/latex": [
       "\\begin{tabular}{r|l}\n",
       " budget\\\\\n",
       "\\hline\n",
       "\t 1000000\\\\\n",
       "\\end{tabular}\n"
      ],
      "text/markdown": [
       "\n",
       "| budget |\n",
       "|---|\n",
       "| 1000000 |\n",
       "\n"
      ],
      "text/plain": [
       "  budget \n",
       "1 1000000"
      ]
     },
     "metadata": {},
     "output_type": "display_data"
    }
   ],
   "source": [
    "budget = 1000000 # $ per year\n",
    "data.frame(budget)"
   ]
  },
  {
   "cell_type": "markdown",
   "metadata": {},
   "source": [
    "#### Contract Terms"
   ]
  },
  {
   "cell_type": "code",
   "execution_count": 3,
   "metadata": {},
   "outputs": [
    {
     "data": {
      "text/html": [
       "<table>\n",
       "<thead><tr><th scope=col>call_payrate</th><th scope=col>dissatisfaction_payrate</th><th scope=col>threshold</th></tr></thead>\n",
       "<tbody>\n",
       "\t<tr><td>7 </td><td>25</td><td>10</td></tr>\n",
       "</tbody>\n",
       "</table>\n"
      ],
      "text/latex": [
       "\\begin{tabular}{r|lll}\n",
       " call\\_payrate & dissatisfaction\\_payrate & threshold\\\\\n",
       "\\hline\n",
       "\t 7  & 25 & 10\\\\\n",
       "\\end{tabular}\n"
      ],
      "text/markdown": [
       "\n",
       "| call_payrate | dissatisfaction_payrate | threshold |\n",
       "|---|---|---|\n",
       "| 7  | 25 | 10 |\n",
       "\n"
      ],
      "text/plain": [
       "  call_payrate dissatisfaction_payrate threshold\n",
       "1 7            25                      10       "
      ]
     },
     "metadata": {},
     "output_type": "display_data"
    }
   ],
   "source": [
    "call_payrate = 7 # $ paid per actual call answered, according to PSC\n",
    "dissatisfaction_payrate = 25 # $ penalty per missed call over some threshold per day\n",
    "threshold = 10 # permitted number of missed calls per day\n",
    "\n",
    "data.frame(call_payrate, dissatisfaction_payrate, threshold)"
   ]
  },
  {
   "cell_type": "markdown",
   "metadata": {},
   "source": [
    "#### Call Center"
   ]
  },
  {
   "cell_type": "code",
   "execution_count": 4,
   "metadata": {},
   "outputs": [
    {
     "data": {
      "text/html": [
       "<table>\n",
       "<thead><tr><th scope=col>staff_payrate</th><th scope=col>handlerate</th></tr></thead>\n",
       "<tbody>\n",
       "\t<tr><td>100</td><td>30 </td></tr>\n",
       "</tbody>\n",
       "</table>\n"
      ],
      "text/latex": [
       "\\begin{tabular}{r|ll}\n",
       " staff\\_payrate & handlerate\\\\\n",
       "\\hline\n",
       "\t 100 & 30 \\\\\n",
       "\\end{tabular}\n"
      ],
      "text/markdown": [
       "\n",
       "| staff_payrate | handlerate |\n",
       "|---|---|\n",
       "| 100 | 30  |\n",
       "\n"
      ],
      "text/plain": [
       "  staff_payrate handlerate\n",
       "1 100           30        "
      ]
     },
     "metadata": {},
     "output_type": "display_data"
    }
   ],
   "source": [
    "staff_payrate = 100 # $ per agent per day\n",
    "handlerate = 30 # maximum number of calls per agent per day\n",
    "\n",
    "data.frame(staff_payrate, handlerate)"
   ]
  },
  {
   "cell_type": "markdown",
   "metadata": {},
   "source": [
    "## Data"
   ]
  },
  {
   "cell_type": "markdown",
   "metadata": {},
   "source": [
    "### Retrieve Raw Data"
   ]
  },
  {
   "cell_type": "code",
   "execution_count": 5,
   "metadata": {
    "hide_input": false,
    "scrolled": false
   },
   "outputs": [
    {
     "data": {
      "text/html": [
       "<table>\n",
       "<thead><tr><th scope=col>observations</th><th scope=col>variables</th></tr></thead>\n",
       "<tbody>\n",
       "\t<tr><td>711</td><td>14 </td></tr>\n",
       "</tbody>\n",
       "</table>\n"
      ],
      "text/latex": [
       "\\begin{tabular}{r|ll}\n",
       " observations & variables\\\\\n",
       "\\hline\n",
       "\t 711 & 14 \\\\\n",
       "\\end{tabular}\n"
      ],
      "text/markdown": [
       "\n",
       "| observations | variables |\n",
       "|---|---|\n",
       "| 711 | 14  |\n",
       "\n"
      ],
      "text/plain": [
       "  observations variables\n",
       "1 711          14       "
      ]
     },
     "metadata": {},
     "output_type": "display_data"
    },
    {
     "data": {
      "text/html": [
       "<table>\n",
       "<thead><tr><th scope=col>Date</th><th scope=col>Day</th><th scope=col>WOM</th><th scope=col>Month</th><th scope=col>Year</th><th scope=col>Holidays</th><th scope=col>Promotions</th><th scope=col>Actual..Call.Volume..</th><th scope=col>Forecast..Call.Volume..using.original.System</th><th scope=col>X</th><th scope=col>X.1</th><th scope=col>X.2</th><th scope=col>X.3</th><th scope=col>X.4</th></tr></thead>\n",
       "<tbody>\n",
       "\t<tr><td>1-Jan-14                                                                                                                </td><td>Wednesday                                                                                                               </td><td>1                                                                                                                       </td><td>Jan                                                                                                                     </td><td>2014                                                                                                                    </td><td>New Year's Day                                                                                                          </td><td>25% Off,FS on $49                                                                                                       </td><td>373                                                                                                                     </td><td>NA                                                                                                                      </td><td>NA                                                                                                                      </td><td>NA                                                                                                                      </td><td>NA                                                                                                                      </td><td>NA                                                                                                                      </td><td>                                                                                                                        </td></tr>\n",
       "\t<tr><td>2-Jan-14                                                                                                                </td><td>Thursday                                                                                                                </td><td>1                                                                                                                       </td><td>Jan                                                                                                                     </td><td>2014                                                                                                                    </td><td>Next Day of the-New Year's Day                                                                                          </td><td>No Email Drop                                                                                                           </td><td>497                                                                                                                     </td><td>NA                                                                                                                      </td><td>NA                                                                                                                      </td><td>NA                                                                                                                      </td><td>NA                                                                                                                      </td><td>NA                                                                                                                      </td><td>                                                                                                                        </td></tr>\n",
       "\t<tr><td>3-Jan-14                                                                                                                </td><td>Friday                                                                                                                  </td><td>1                                                                                                                       </td><td>Jan                                                                                                                     </td><td>2014                                                                                                                    </td><td>                                                                                                                        </td><td>No Email Drop                                                                                                           </td><td>467                                                                                                                     </td><td>NA                                                                                                                      </td><td>NA                                                                                                                      </td><td>NA                                                                                                                      </td><td>NA                                                                                                                      </td><td>NA                                                                                                                      </td><td>                                                                                                                        </td></tr>\n",
       "\t<tr><td>4-Jan-14                                                                                                                </td><td>Saturday                                                                                                                </td><td>1                                                                                                                       </td><td>Jan                                                                                                                     </td><td>2014                                                                                                                    </td><td>                                                                                                                        </td><td>No Email Drop                                                                                                           </td><td>430                                                                                                                     </td><td>NA                                                                                                                      </td><td>NA                                                                                                                      </td><td>NA                                                                                                                      </td><td>NA                                                                                                                      </td><td>NA                                                                                                                      </td><td>                                                                                                                        </td></tr>\n",
       "\t<tr><td>5-Jan-14                                                                                                                </td><td>Sunday                                                                                                                  </td><td>1                                                                                                                       </td><td>Jan                                                                                                                     </td><td>2014                                                                                                                    </td><td>                                                                                                                        </td><td>25% Off,FS on $49                                                                                                       </td><td>523                                                                                                                     </td><td>NA                                                                                                                      </td><td>NA                                                                                                                      </td><td>NA                                                                                                                      </td><td>NA                                                                                                                      </td><td>NA                                                                                                                      </td><td>                                                                                                                        </td></tr>\n",
       "\t<tr><td>6-Jan-14                                                                                                                </td><td>Monday                                                                                                                  </td><td>1                                                                                                                       </td><td>Jan                                                                                                                     </td><td>2014                                                                                                                    </td><td>                                                                                                                        </td><td>No Email Drop                                                                                                           </td><td>617                                                                                                                     </td><td>NA                                                                                                                      </td><td>NA                                                                                                                      </td><td>NA                                                                                                                      </td><td>NA                                                                                                                      </td><td>NA                                                                                                                      </td><td>                                                                             (using original system)  (using new system)</td></tr>\n",
       "</tbody>\n",
       "</table>\n"
      ],
      "text/latex": [
       "\\begin{tabular}{r|llllllllllllll}\n",
       " Date & Day & WOM & Month & Year & Holidays & Promotions & Actual..Call.Volume.. & Forecast..Call.Volume..using.original.System & X & X.1 & X.2 & X.3 & X.4\\\\\n",
       "\\hline\n",
       "\t 1-Jan-14                                                                                                                 & Wednesday                                                                                                                & 1                                                                                                                        & Jan                                                                                                                      & 2014                                                                                                                     & New Year's Day                                                                                                           & 25\\% Off,FS on \\$49                                                                                                    & 373                                                                                                                      & NA                                                                                                                       & NA                                                                                                                       & NA                                                                                                                       & NA                                                                                                                       & NA                                                                                                                       &                                                                                                                         \\\\\n",
       "\t 2-Jan-14                                                                                                                 & Thursday                                                                                                                 & 1                                                                                                                        & Jan                                                                                                                      & 2014                                                                                                                     & Next Day of the-New Year's Day                                                                                           & No Email Drop                                                                                                            & 497                                                                                                                      & NA                                                                                                                       & NA                                                                                                                       & NA                                                                                                                       & NA                                                                                                                       & NA                                                                                                                       &                                                                                                                         \\\\\n",
       "\t 3-Jan-14                                                                                                                 & Friday                                                                                                                   & 1                                                                                                                        & Jan                                                                                                                      & 2014                                                                                                                     &                                                                                                                          & No Email Drop                                                                                                            & 467                                                                                                                      & NA                                                                                                                       & NA                                                                                                                       & NA                                                                                                                       & NA                                                                                                                       & NA                                                                                                                       &                                                                                                                         \\\\\n",
       "\t 4-Jan-14                                                                                                                 & Saturday                                                                                                                 & 1                                                                                                                        & Jan                                                                                                                      & 2014                                                                                                                     &                                                                                                                          & No Email Drop                                                                                                            & 430                                                                                                                      & NA                                                                                                                       & NA                                                                                                                       & NA                                                                                                                       & NA                                                                                                                       & NA                                                                                                                       &                                                                                                                         \\\\\n",
       "\t 5-Jan-14                                                                                                                 & Sunday                                                                                                                   & 1                                                                                                                        & Jan                                                                                                                      & 2014                                                                                                                     &                                                                                                                          & 25\\% Off,FS on \\$49                                                                                                    & 523                                                                                                                      & NA                                                                                                                       & NA                                                                                                                       & NA                                                                                                                       & NA                                                                                                                       & NA                                                                                                                       &                                                                                                                         \\\\\n",
       "\t 6-Jan-14                                                                                                                 & Monday                                                                                                                   & 1                                                                                                                        & Jan                                                                                                                      & 2014                                                                                                                     &                                                                                                                          & No Email Drop                                                                                                            & 617                                                                                                                      & NA                                                                                                                       & NA                                                                                                                       & NA                                                                                                                       & NA                                                                                                                       & NA                                                                                                                       &                                                                              (using original system)  (using new system)\\\\\n",
       "\\end{tabular}\n"
      ],
      "text/markdown": [
       "\n",
       "| Date | Day | WOM | Month | Year | Holidays | Promotions | Actual..Call.Volume.. | Forecast..Call.Volume..using.original.System | X | X.1 | X.2 | X.3 | X.4 |\n",
       "|---|---|---|---|---|---|---|---|---|---|---|---|---|---|\n",
       "| 1-Jan-14                                                                                                                 | Wednesday                                                                                                                | 1                                                                                                                        | Jan                                                                                                                      | 2014                                                                                                                     | New Year's Day                                                                                                           | 25% Off,FS on $49                                                                                                        | 373                                                                                                                      | NA                                                                                                                       | NA                                                                                                                       | NA                                                                                                                       | NA                                                                                                                       | NA                                                                                                                       |                                                                                                                          |\n",
       "| 2-Jan-14                                                                                                                 | Thursday                                                                                                                 | 1                                                                                                                        | Jan                                                                                                                      | 2014                                                                                                                     | Next Day of the-New Year's Day                                                                                           | No Email Drop                                                                                                            | 497                                                                                                                      | NA                                                                                                                       | NA                                                                                                                       | NA                                                                                                                       | NA                                                                                                                       | NA                                                                                                                       |                                                                                                                          |\n",
       "| 3-Jan-14                                                                                                                 | Friday                                                                                                                   | 1                                                                                                                        | Jan                                                                                                                      | 2014                                                                                                                     |                                                                                                                          | No Email Drop                                                                                                            | 467                                                                                                                      | NA                                                                                                                       | NA                                                                                                                       | NA                                                                                                                       | NA                                                                                                                       | NA                                                                                                                       |                                                                                                                          |\n",
       "| 4-Jan-14                                                                                                                 | Saturday                                                                                                                 | 1                                                                                                                        | Jan                                                                                                                      | 2014                                                                                                                     |                                                                                                                          | No Email Drop                                                                                                            | 430                                                                                                                      | NA                                                                                                                       | NA                                                                                                                       | NA                                                                                                                       | NA                                                                                                                       | NA                                                                                                                       |                                                                                                                          |\n",
       "| 5-Jan-14                                                                                                                 | Sunday                                                                                                                   | 1                                                                                                                        | Jan                                                                                                                      | 2014                                                                                                                     |                                                                                                                          | 25% Off,FS on $49                                                                                                        | 523                                                                                                                      | NA                                                                                                                       | NA                                                                                                                       | NA                                                                                                                       | NA                                                                                                                       | NA                                                                                                                       |                                                                                                                          |\n",
       "| 6-Jan-14                                                                                                                 | Monday                                                                                                                   | 1                                                                                                                        | Jan                                                                                                                      | 2014                                                                                                                     |                                                                                                                          | No Email Drop                                                                                                            | 617                                                                                                                      | NA                                                                                                                       | NA                                                                                                                       | NA                                                                                                                       | NA                                                                                                                       | NA                                                                                                                       |                                                                              (using original system)  (using new system) |\n",
       "\n"
      ],
      "text/plain": [
       "  Date     Day       WOM Month Year Holidays                      \n",
       "1 1-Jan-14 Wednesday 1   Jan   2014 New Year's Day                \n",
       "2 2-Jan-14 Thursday  1   Jan   2014 Next Day of the-New Year's Day\n",
       "3 3-Jan-14 Friday    1   Jan   2014                               \n",
       "4 4-Jan-14 Saturday  1   Jan   2014                               \n",
       "5 5-Jan-14 Sunday    1   Jan   2014                               \n",
       "6 6-Jan-14 Monday    1   Jan   2014                               \n",
       "  Promotions        Actual..Call.Volume..\n",
       "1 25% Off,FS on $49 373                  \n",
       "2 No Email Drop     497                  \n",
       "3 No Email Drop     467                  \n",
       "4 No Email Drop     430                  \n",
       "5 25% Off,FS on $49 523                  \n",
       "6 No Email Drop     617                  \n",
       "  Forecast..Call.Volume..using.original.System X  X.1 X.2 X.3\n",
       "1 NA                                           NA NA  NA  NA \n",
       "2 NA                                           NA NA  NA  NA \n",
       "3 NA                                           NA NA  NA  NA \n",
       "4 NA                                           NA NA  NA  NA \n",
       "5 NA                                           NA NA  NA  NA \n",
       "6 NA                                           NA NA  NA  NA \n",
       "  X.4                                                                                                                     \n",
       "1                                                                                                                         \n",
       "2                                                                                                                         \n",
       "3                                                                                                                         \n",
       "4                                                                                                                         \n",
       "5                                                                                                                         \n",
       "6                                                                              (using original system)  (using new system)"
      ]
     },
     "metadata": {},
     "output_type": "display_data"
    }
   ],
   "source": [
    "data = read.csv(\"Pets.csv\")\n",
    "size(data)\n",
    "data[1:6,]"
   ]
  },
  {
   "cell_type": "markdown",
   "metadata": {},
   "source": [
    "### Clean Up Data"
   ]
  },
  {
   "cell_type": "markdown",
   "metadata": {},
   "source": [
    "Discard comment columns."
   ]
  },
  {
   "cell_type": "code",
   "execution_count": 6,
   "metadata": {},
   "outputs": [],
   "source": [
    "data = data[,1:8]"
   ]
  },
  {
   "cell_type": "markdown",
   "metadata": {},
   "source": [
    "Rename columns for convenience."
   ]
  },
  {
   "cell_type": "code",
   "execution_count": 7,
   "metadata": {},
   "outputs": [],
   "source": [
    "colnames(data) = tolower(colnames(data))\n",
    "colnames(data)[8] = \"volume\""
   ]
  },
  {
   "cell_type": "markdown",
   "metadata": {},
   "source": [
    "Rename blank holiday variable value for convenience."
   ]
  },
  {
   "cell_type": "code",
   "execution_count": 8,
   "metadata": {},
   "outputs": [
    {
     "name": "stdout",
     "output_type": "stream",
     "text": [
      "'data.frame':\t711 obs. of  8 variables:\n",
      " $ date      : Factor w/ 711 levels \"1-Apr-14\",\"1-Apr-15\",..: 9 266 518 576 600 624 648 672 696 33 ...\n",
      " $ day       : Factor w/ 7 levels \"Friday\",\"Monday\",..: 7 5 1 3 4 2 6 7 5 1 ...\n",
      " $ wom       : int  1 1 1 1 1 1 1 2 2 2 ...\n",
      " $ month     : Factor w/ 12 levels \"Apr\",\"Aug\",\"Dec\",..: 5 5 5 5 5 5 5 5 5 5 ...\n",
      " $ year      : int  2014 2014 2014 2014 2014 2014 2014 2014 2014 2014 ...\n",
      " $ holidays  : Factor w/ 31 levels \"\",\"Christmas Day\",..: 8 15 1 1 1 1 1 1 1 1 ...\n",
      " $ promotions: Factor w/ 117 levels \"$10 Off Promo\",..: 37 78 78 78 37 78 78 37 78 13 ...\n",
      " $ volume    : int  373 497 467 430 523 617 461 569 447 622 ...\n"
     ]
    }
   ],
   "source": [
    "str(data)"
   ]
  },
  {
   "cell_type": "code",
   "execution_count": 9,
   "metadata": {},
   "outputs": [
    {
     "name": "stdout",
     "output_type": "stream",
     "text": [
      " Factor w/ 31 levels \"none\",\"Christmas Day\",..: 8 15 1 1 1 1 1 1 1 1 ...\n"
     ]
    }
   ],
   "source": [
    "levels(data$holidays)[1] = \"none\"\n",
    "str(data$holidays)"
   ]
  },
  {
   "cell_type": "markdown",
   "metadata": {},
   "source": [
    "Convert date from categorical (factor) to special date type so that order will be respected in plots. "
   ]
  },
  {
   "cell_type": "code",
   "execution_count": 10,
   "metadata": {},
   "outputs": [],
   "source": [
    "data$date = dmy(as.character(data$date))"
   ]
  },
  {
   "cell_type": "markdown",
   "metadata": {},
   "source": [
    "Data is prepared."
   ]
  },
  {
   "cell_type": "code",
   "execution_count": 11,
   "metadata": {
    "scrolled": true
   },
   "outputs": [
    {
     "data": {
      "text/html": [
       "<table>\n",
       "<thead><tr><th scope=col>observations</th><th scope=col>variables</th></tr></thead>\n",
       "<tbody>\n",
       "\t<tr><td>711</td><td>8  </td></tr>\n",
       "</tbody>\n",
       "</table>\n"
      ],
      "text/latex": [
       "\\begin{tabular}{r|ll}\n",
       " observations & variables\\\\\n",
       "\\hline\n",
       "\t 711 & 8  \\\\\n",
       "\\end{tabular}\n"
      ],
      "text/markdown": [
       "\n",
       "| observations | variables |\n",
       "|---|---|\n",
       "| 711 | 8   |\n",
       "\n"
      ],
      "text/plain": [
       "  observations variables\n",
       "1 711          8        "
      ]
     },
     "metadata": {},
     "output_type": "display_data"
    },
    {
     "data": {
      "text/html": [
       "<table>\n",
       "<thead><tr><th scope=col>date</th><th scope=col>day</th><th scope=col>wom</th><th scope=col>month</th><th scope=col>year</th><th scope=col>holidays</th><th scope=col>promotions</th><th scope=col>volume</th></tr></thead>\n",
       "<tbody>\n",
       "\t<tr><td>2014-01-01                    </td><td>Wednesday                     </td><td>1                             </td><td>Jan                           </td><td>2014                          </td><td>New Year's Day                </td><td>25% Off,FS on $49             </td><td>373                           </td></tr>\n",
       "\t<tr><td>2014-01-02                    </td><td>Thursday                      </td><td>1                             </td><td>Jan                           </td><td>2014                          </td><td>Next Day of the-New Year's Day</td><td>No Email Drop                 </td><td>497                           </td></tr>\n",
       "\t<tr><td>2014-01-03                    </td><td>Friday                        </td><td>1                             </td><td>Jan                           </td><td>2014                          </td><td>none                          </td><td>No Email Drop                 </td><td>467                           </td></tr>\n",
       "\t<tr><td>2014-01-04                    </td><td>Saturday                      </td><td>1                             </td><td>Jan                           </td><td>2014                          </td><td>none                          </td><td>No Email Drop                 </td><td>430                           </td></tr>\n",
       "\t<tr><td>2014-01-05                    </td><td>Sunday                        </td><td>1                             </td><td>Jan                           </td><td>2014                          </td><td>none                          </td><td>25% Off,FS on $49             </td><td>523                           </td></tr>\n",
       "\t<tr><td>2014-01-06                    </td><td>Monday                        </td><td>1                             </td><td>Jan                           </td><td>2014                          </td><td>none                          </td><td>No Email Drop                 </td><td>617                           </td></tr>\n",
       "</tbody>\n",
       "</table>\n"
      ],
      "text/latex": [
       "\\begin{tabular}{r|llllllll}\n",
       " date & day & wom & month & year & holidays & promotions & volume\\\\\n",
       "\\hline\n",
       "\t 2014-01-01                     & Wednesday                      & 1                              & Jan                            & 2014                           & New Year's Day                 & 25\\% Off,FS on \\$49          & 373                           \\\\\n",
       "\t 2014-01-02                     & Thursday                       & 1                              & Jan                            & 2014                           & Next Day of the-New Year's Day & No Email Drop                  & 497                           \\\\\n",
       "\t 2014-01-03                     & Friday                         & 1                              & Jan                            & 2014                           & none                           & No Email Drop                  & 467                           \\\\\n",
       "\t 2014-01-04                     & Saturday                       & 1                              & Jan                            & 2014                           & none                           & No Email Drop                  & 430                           \\\\\n",
       "\t 2014-01-05                     & Sunday                         & 1                              & Jan                            & 2014                           & none                           & 25\\% Off,FS on \\$49          & 523                           \\\\\n",
       "\t 2014-01-06                     & Monday                         & 1                              & Jan                            & 2014                           & none                           & No Email Drop                  & 617                           \\\\\n",
       "\\end{tabular}\n"
      ],
      "text/markdown": [
       "\n",
       "| date | day | wom | month | year | holidays | promotions | volume |\n",
       "|---|---|---|---|---|---|---|---|\n",
       "| 2014-01-01                     | Wednesday                      | 1                              | Jan                            | 2014                           | New Year's Day                 | 25% Off,FS on $49              | 373                            |\n",
       "| 2014-01-02                     | Thursday                       | 1                              | Jan                            | 2014                           | Next Day of the-New Year's Day | No Email Drop                  | 497                            |\n",
       "| 2014-01-03                     | Friday                         | 1                              | Jan                            | 2014                           | none                           | No Email Drop                  | 467                            |\n",
       "| 2014-01-04                     | Saturday                       | 1                              | Jan                            | 2014                           | none                           | No Email Drop                  | 430                            |\n",
       "| 2014-01-05                     | Sunday                         | 1                              | Jan                            | 2014                           | none                           | 25% Off,FS on $49              | 523                            |\n",
       "| 2014-01-06                     | Monday                         | 1                              | Jan                            | 2014                           | none                           | No Email Drop                  | 617                            |\n",
       "\n"
      ],
      "text/plain": [
       "  date       day       wom month year holidays                      \n",
       "1 2014-01-01 Wednesday 1   Jan   2014 New Year's Day                \n",
       "2 2014-01-02 Thursday  1   Jan   2014 Next Day of the-New Year's Day\n",
       "3 2014-01-03 Friday    1   Jan   2014 none                          \n",
       "4 2014-01-04 Saturday  1   Jan   2014 none                          \n",
       "5 2014-01-05 Sunday    1   Jan   2014 none                          \n",
       "6 2014-01-06 Monday    1   Jan   2014 none                          \n",
       "  promotions        volume\n",
       "1 25% Off,FS on $49 373   \n",
       "2 No Email Drop     497   \n",
       "3 No Email Drop     467   \n",
       "4 No Email Drop     430   \n",
       "5 25% Off,FS on $49 523   \n",
       "6 No Email Drop     617   "
      ]
     },
     "metadata": {},
     "output_type": "display_data"
    }
   ],
   "source": [
    "size(data)\n",
    "data[1:6,]"
   ]
  },
  {
   "cell_type": "markdown",
   "metadata": {},
   "source": [
    "## Model A: Fixed Staffing Level is High"
   ]
  },
  {
   "cell_type": "markdown",
   "metadata": {},
   "source": [
    "### Partition Data for Training & Testing"
   ]
  },
  {
   "cell_type": "code",
   "execution_count": 12,
   "metadata": {},
   "outputs": [],
   "source": [
    "data.test = data[data$year==2015, c(\"date\",\"volume\")] # for testing"
   ]
  },
  {
   "cell_type": "markdown",
   "metadata": {},
   "source": [
    "### Model"
   ]
  },
  {
   "cell_type": "code",
   "execution_count": 13,
   "metadata": {},
   "outputs": [],
   "source": [
    " volume.predicted = 500 # always predict 500 calls per day"
   ]
  },
  {
   "cell_type": "markdown",
   "metadata": {},
   "source": [
    "### Predictions"
   ]
  },
  {
   "cell_type": "code",
   "execution_count": 14,
   "metadata": {
    "hide_input": false,
    "scrolled": false
   },
   "outputs": [
    {
     "data": {
      "text/html": [
       "<table>\n",
       "<thead><tr><th></th><th scope=col>date</th><th scope=col>volume</th><th scope=col>volume.predicted</th></tr></thead>\n",
       "<tbody>\n",
       "\t<tr><th scope=row>366</th><td>2015-01-01</td><td>300       </td><td>500       </td></tr>\n",
       "\t<tr><th scope=row>367</th><td>2015-01-02</td><td>419       </td><td>500       </td></tr>\n",
       "\t<tr><th scope=row>368</th><td>2015-01-03</td><td>340       </td><td>500       </td></tr>\n",
       "\t<tr><th scope=row>369</th><td>2015-01-04</td><td>404       </td><td>500       </td></tr>\n",
       "\t<tr><th scope=row>370</th><td>2015-01-05</td><td>389       </td><td>500       </td></tr>\n",
       "\t<tr><th scope=row>371</th><td>2015-01-06</td><td>510       </td><td>500       </td></tr>\n",
       "</tbody>\n",
       "</table>\n"
      ],
      "text/latex": [
       "\\begin{tabular}{r|lll}\n",
       "  & date & volume & volume.predicted\\\\\n",
       "\\hline\n",
       "\t366 & 2015-01-01 & 300        & 500       \\\\\n",
       "\t367 & 2015-01-02 & 419        & 500       \\\\\n",
       "\t368 & 2015-01-03 & 340        & 500       \\\\\n",
       "\t369 & 2015-01-04 & 404        & 500       \\\\\n",
       "\t370 & 2015-01-05 & 389        & 500       \\\\\n",
       "\t371 & 2015-01-06 & 510        & 500       \\\\\n",
       "\\end{tabular}\n"
      ],
      "text/markdown": [
       "\n",
       "| <!--/--> | date | volume | volume.predicted |\n",
       "|---|---|---|---|\n",
       "| 366 | 2015-01-01 | 300        | 500        |\n",
       "| 367 | 2015-01-02 | 419        | 500        |\n",
       "| 368 | 2015-01-03 | 340        | 500        |\n",
       "| 369 | 2015-01-04 | 404        | 500        |\n",
       "| 370 | 2015-01-05 | 389        | 500        |\n",
       "| 371 | 2015-01-06 | 510        | 500        |\n",
       "\n"
      ],
      "text/plain": [
       "    date       volume volume.predicted\n",
       "366 2015-01-01 300    500             \n",
       "367 2015-01-02 419    500             \n",
       "368 2015-01-03 340    500             \n",
       "369 2015-01-04 404    500             \n",
       "370 2015-01-05 389    500             \n",
       "371 2015-01-06 510    500             "
      ]
     },
     "metadata": {},
     "output_type": "display_data"
    }
   ],
   "source": [
    "data.test$volume.predicted = volume.predicted\n",
    "data.test[1:6,]"
   ]
  },
  {
   "cell_type": "code",
   "execution_count": 15,
   "metadata": {
    "hide_input": false,
    "scrolled": true
   },
   "outputs": [
    {
     "data": {
      "image/png": "[encoded data removed]",
      "text/plain": [
       "plot without title"
      ]
     },
     "metadata": {},
     "output_type": "display_data"
    }
   ],
   "source": [
    "ggplot(data.test) +\n",
    "geom_line(aes(x=date, y=volume, color=\"actual\")) +\n",
    "geom_line(aes(x=date, y=volume.predicted, color=\"predicted\"))"
   ]
  },
  {
   "cell_type": "code",
   "execution_count": 16,
   "metadata": {
    "hide_input": false,
    "scrolled": false
   },
   "outputs": [
    {
     "data": {
      "text/html": [
       "<table>\n",
       "<thead><tr><th></th><th scope=col>date</th><th scope=col>volume</th><th scope=col>volume.predicted</th><th scope=col>volume.overstaffed</th><th scope=col>overstaffed</th><th scope=col>volume.understaffed</th><th scope=col>understaffed</th></tr></thead>\n",
       "<tbody>\n",
       "\t<tr><th scope=row>366</th><td>2015-01-01</td><td>300       </td><td>500       </td><td>200       </td><td>TRUE      </td><td> 0        </td><td>FALSE     </td></tr>\n",
       "\t<tr><th scope=row>367</th><td>2015-01-02</td><td>419       </td><td>500       </td><td> 81       </td><td>TRUE      </td><td> 0        </td><td>FALSE     </td></tr>\n",
       "\t<tr><th scope=row>368</th><td>2015-01-03</td><td>340       </td><td>500       </td><td>160       </td><td>TRUE      </td><td> 0        </td><td>FALSE     </td></tr>\n",
       "\t<tr><th scope=row>369</th><td>2015-01-04</td><td>404       </td><td>500       </td><td> 96       </td><td>TRUE      </td><td> 0        </td><td>FALSE     </td></tr>\n",
       "\t<tr><th scope=row>370</th><td>2015-01-05</td><td>389       </td><td>500       </td><td>111       </td><td>TRUE      </td><td> 0        </td><td>FALSE     </td></tr>\n",
       "\t<tr><th scope=row>371</th><td>2015-01-06</td><td>510       </td><td>500       </td><td>  0       </td><td>TRUE      </td><td>10        </td><td>FALSE     </td></tr>\n",
       "</tbody>\n",
       "</table>\n"
      ],
      "text/latex": [
       "\\begin{tabular}{r|lllllll}\n",
       "  & date & volume & volume.predicted & volume.overstaffed & overstaffed & volume.understaffed & understaffed\\\\\n",
       "\\hline\n",
       "\t366 & 2015-01-01 & 300        & 500        & 200        & TRUE       &  0         & FALSE     \\\\\n",
       "\t367 & 2015-01-02 & 419        & 500        &  81        & TRUE       &  0         & FALSE     \\\\\n",
       "\t368 & 2015-01-03 & 340        & 500        & 160        & TRUE       &  0         & FALSE     \\\\\n",
       "\t369 & 2015-01-04 & 404        & 500        &  96        & TRUE       &  0         & FALSE     \\\\\n",
       "\t370 & 2015-01-05 & 389        & 500        & 111        & TRUE       &  0         & FALSE     \\\\\n",
       "\t371 & 2015-01-06 & 510        & 500        &   0        & TRUE       & 10         & FALSE     \\\\\n",
       "\\end{tabular}\n"
      ],
      "text/markdown": [
       "\n",
       "| <!--/--> | date | volume | volume.predicted | volume.overstaffed | overstaffed | volume.understaffed | understaffed |\n",
       "|---|---|---|---|---|---|---|---|\n",
       "| 366 | 2015-01-01 | 300        | 500        | 200        | TRUE       |  0         | FALSE      |\n",
       "| 367 | 2015-01-02 | 419        | 500        |  81        | TRUE       |  0         | FALSE      |\n",
       "| 368 | 2015-01-03 | 340        | 500        | 160        | TRUE       |  0         | FALSE      |\n",
       "| 369 | 2015-01-04 | 404        | 500        |  96        | TRUE       |  0         | FALSE      |\n",
       "| 370 | 2015-01-05 | 389        | 500        | 111        | TRUE       |  0         | FALSE      |\n",
       "| 371 | 2015-01-06 | 510        | 500        |   0        | TRUE       | 10         | FALSE      |\n",
       "\n"
      ],
      "text/plain": [
       "    date       volume volume.predicted volume.overstaffed overstaffed\n",
       "366 2015-01-01 300    500              200                TRUE       \n",
       "367 2015-01-02 419    500               81                TRUE       \n",
       "368 2015-01-03 340    500              160                TRUE       \n",
       "369 2015-01-04 404    500               96                TRUE       \n",
       "370 2015-01-05 389    500              111                TRUE       \n",
       "371 2015-01-06 510    500                0                TRUE       \n",
       "    volume.understaffed understaffed\n",
       "366  0                  FALSE       \n",
       "367  0                  FALSE       \n",
       "368  0                  FALSE       \n",
       "369  0                  FALSE       \n",
       "370  0                  FALSE       \n",
       "371 10                  FALSE       "
      ]
     },
     "metadata": {},
     "output_type": "display_data"
    }
   ],
   "source": [
    "data.test$volume.overstaffed = data.test$volume.predicted - data.test$volume\n",
    "data.test$volume.overstaffed[data.test$volume.overstaffed < 0] = 0\n",
    "data.test$overstaffed = data.test$volume.overstaffed >= 0\n",
    "\n",
    "data.test$volume.understaffed = data.test$volume - data.test$volume.predicted\n",
    "data.test$volume.understaffed[data.test$volume.understaffed < 0] = 0\n",
    "data.test$understaffed = data.test$volume.understaffed > threshold\n",
    "\n",
    "data.test[1:6,]"
   ]
  },
  {
   "cell_type": "code",
   "execution_count": 17,
   "metadata": {
    "hide_input": false
   },
   "outputs": [
    {
     "data": {
      "image/png": "[encoded data removed]",
      "text/plain": [
       "plot without title"
      ]
     },
     "metadata": {},
     "output_type": "display_data"
    }
   ],
   "source": [
    "ggplot(data.test) +\n",
    "geom_line(aes(x=date, y=volume, color=\"actual\")) +\n",
    "geom_jitter(aes(x=date, y=volume.predicted, color=\"overstaffed\"), data=data.test[data.test$overstaffed,], height=20) +\n",
    "geom_jitter(aes(x=date, y=volume.predicted, color=\"understaffed\"), data=data.test[data.test$understaffed,], height=20) +\n",
    "scale_color_manual(values=c(actual=PALETTE[1], overstaffed=PALETTE[3], understaffed=PALETTE[4])) # + ylab(\"volume\")"
   ]
  },
  {
   "cell_type": "markdown",
   "metadata": {},
   "source": [
    "### Business Result"
   ]
  },
  {
   "cell_type": "markdown",
   "metadata": {},
   "source": [
    "#### Call Center Perspective"
   ]
  },
  {
   "cell_type": "code",
   "execution_count": 18,
   "metadata": {
    "hide_input": false
   },
   "outputs": [
    {
     "data": {
      "text/html": [
       "<table>\n",
       "<thead><tr><th scope=col>model</th><th scope=col>revenue</th><th scope=col>staff_cost</th><th scope=col>dissatisfaction_cost</th><th scope=col>cost</th><th scope=col>profit</th></tr></thead>\n",
       "<tbody>\n",
       "\t<tr><td>Fixed Staffing Rate is High</td><td>947807                     </td><td>576666.7                   </td><td>102125                     </td><td>678791.7                   </td><td>269015.3                   </td></tr>\n",
       "</tbody>\n",
       "</table>\n"
      ],
      "text/latex": [
       "\\begin{tabular}{r|llllll}\n",
       " model & revenue & staff\\_cost & dissatisfaction\\_cost & cost & profit\\\\\n",
       "\\hline\n",
       "\t Fixed Staffing Rate is High & 947807                      & 576666.7                    & 102125                      & 678791.7                    & 269015.3                   \\\\\n",
       "\\end{tabular}\n"
      ],
      "text/markdown": [
       "\n",
       "| model | revenue | staff_cost | dissatisfaction_cost | cost | profit |\n",
       "|---|---|---|---|---|---|\n",
       "| Fixed Staffing Rate is High | 947807                      | 576666.7                    | 102125                      | 678791.7                    | 269015.3                    |\n",
       "\n"
      ],
      "text/plain": [
       "  model                       revenue staff_cost dissatisfaction_cost cost    \n",
       "1 Fixed Staffing Rate is High 947807  576666.7   102125               678791.7\n",
       "  profit  \n",
       "1 269015.3"
      ]
     },
     "metadata": {},
     "output_type": "display_data"
    }
   ],
   "source": [
    "revenue = call_payrate * (sum(data.test$volume[data.test$overstaffed]) +\n",
    "                          sum(data.test$volume.predicted[data.test$understaffed]))\n",
    "          \n",
    "staff_cost = (staff_payrate/handlerate) * sum(data.test$volume.predicted)\n",
    "\n",
    "dissatisfaction_cost = dissatisfaction_payrate * sum(data.test$volume.understaffed[data.test$understaffed])\n",
    "\n",
    "cost = staff_cost + dissatisfaction_cost\n",
    "profit = revenue - cost\n",
    "business_value.hf.cc = data.frame(model=\"Fixed Staffing Rate is High\", revenue, staff_cost, dissatisfaction_cost, cost, profit)\n",
    "\n",
    "business_value.hf.cc"
   ]
  },
  {
   "cell_type": "markdown",
   "metadata": {},
   "source": [
    "#### Client Perspective"
   ]
  },
  {
   "cell_type": "code",
   "execution_count": 19,
   "metadata": {
    "hide_input": false
   },
   "outputs": [
    {
     "data": {
      "text/html": [
       "<table>\n",
       "<thead><tr><th scope=col>model</th><th scope=col>call_cost</th><th scope=col>dissatisfaction_credit</th><th scope=col>cost</th><th scope=col>savings</th><th scope=col>csat</th></tr></thead>\n",
       "<tbody>\n",
       "\t<tr><td>Fixed Staffing Rate is High</td><td>947807                     </td><td>102125                     </td><td>845682                     </td><td>154318                     </td><td>0.9664709                  </td></tr>\n",
       "</tbody>\n",
       "</table>\n"
      ],
      "text/latex": [
       "\\begin{tabular}{r|llllll}\n",
       " model & call\\_cost & dissatisfaction\\_credit & cost & savings & csat\\\\\n",
       "\\hline\n",
       "\t Fixed Staffing Rate is High & 947807                      & 102125                      & 845682                      & 154318                      & 0.9664709                  \\\\\n",
       "\\end{tabular}\n"
      ],
      "text/markdown": [
       "\n",
       "| model | call_cost | dissatisfaction_credit | cost | savings | csat |\n",
       "|---|---|---|---|---|---|\n",
       "| Fixed Staffing Rate is High | 947807                      | 102125                      | 845682                      | 154318                      | 0.9664709                   |\n",
       "\n"
      ],
      "text/plain": [
       "  model                       call_cost dissatisfaction_credit cost   savings\n",
       "1 Fixed Staffing Rate is High 947807    102125                 845682 154318 \n",
       "  csat     \n",
       "1 0.9664709"
      ]
     },
     "metadata": {},
     "output_type": "display_data"
    }
   ],
   "source": [
    "call_cost = call_payrate * (sum(data.test$volume[data.test$overstaffed]) +\n",
    "                            sum(data.test$volume.predicted[data.test$understaffed]))\n",
    "\n",
    "dissatisfaction_credit = dissatisfaction_payrate * sum(data.test$volume.understaffed[data.test$understaffed])\n",
    "\n",
    "cost = call_cost - dissatisfaction_credit\n",
    "savings = budget - cost\n",
    "\n",
    "csat = 1 - (sum(data.test$volume.understaffed) / sum(data.test$volume))\n",
    "\n",
    "business_value.hf.client = data.frame(model=\"Fixed Staffing Rate is High\", call_cost, dissatisfaction_credit, cost, savings, csat)\n",
    "\n",
    "business_value.hf.client"
   ]
  },
  {
   "cell_type": "markdown",
   "metadata": {},
   "source": [
    "## Model B: Fixed Staffing Level is Low"
   ]
  },
  {
   "cell_type": "markdown",
   "metadata": {},
   "source": [
    "### Partition Data for Training & Testing"
   ]
  },
  {
   "cell_type": "code",
   "execution_count": 20,
   "metadata": {},
   "outputs": [],
   "source": [
    "data.test = data[data$year==2015, c(\"date\",\"volume\")] # for testing"
   ]
  },
  {
   "cell_type": "markdown",
   "metadata": {},
   "source": [
    "### Model"
   ]
  },
  {
   "cell_type": "code",
   "execution_count": 21,
   "metadata": {},
   "outputs": [],
   "source": [
    " volume.predicted = 350 # always predict 350 calls"
   ]
  },
  {
   "cell_type": "markdown",
   "metadata": {},
   "source": [
    "### Predictions"
   ]
  },
  {
   "cell_type": "code",
   "execution_count": 22,
   "metadata": {
    "hide_input": false,
    "scrolled": false
   },
   "outputs": [
    {
     "data": {
      "text/html": [
       "<table>\n",
       "<thead><tr><th></th><th scope=col>date</th><th scope=col>volume</th><th scope=col>volume.predicted</th></tr></thead>\n",
       "<tbody>\n",
       "\t<tr><th scope=row>366</th><td>2015-01-01</td><td>300       </td><td>350       </td></tr>\n",
       "\t<tr><th scope=row>367</th><td>2015-01-02</td><td>419       </td><td>350       </td></tr>\n",
       "\t<tr><th scope=row>368</th><td>2015-01-03</td><td>340       </td><td>350       </td></tr>\n",
       "\t<tr><th scope=row>369</th><td>2015-01-04</td><td>404       </td><td>350       </td></tr>\n",
       "\t<tr><th scope=row>370</th><td>2015-01-05</td><td>389       </td><td>350       </td></tr>\n",
       "\t<tr><th scope=row>371</th><td>2015-01-06</td><td>510       </td><td>350       </td></tr>\n",
       "</tbody>\n",
       "</table>\n"
      ],
      "text/latex": [
       "\\begin{tabular}{r|lll}\n",
       "  & date & volume & volume.predicted\\\\\n",
       "\\hline\n",
       "\t366 & 2015-01-01 & 300        & 350       \\\\\n",
       "\t367 & 2015-01-02 & 419        & 350       \\\\\n",
       "\t368 & 2015-01-03 & 340        & 350       \\\\\n",
       "\t369 & 2015-01-04 & 404        & 350       \\\\\n",
       "\t370 & 2015-01-05 & 389        & 350       \\\\\n",
       "\t371 & 2015-01-06 & 510        & 350       \\\\\n",
       "\\end{tabular}\n"
      ],
      "text/markdown": [
       "\n",
       "| <!--/--> | date | volume | volume.predicted |\n",
       "|---|---|---|---|\n",
       "| 366 | 2015-01-01 | 300        | 350        |\n",
       "| 367 | 2015-01-02 | 419        | 350        |\n",
       "| 368 | 2015-01-03 | 340        | 350        |\n",
       "| 369 | 2015-01-04 | 404        | 350        |\n",
       "| 370 | 2015-01-05 | 389        | 350        |\n",
       "| 371 | 2015-01-06 | 510        | 350        |\n",
       "\n"
      ],
      "text/plain": [
       "    date       volume volume.predicted\n",
       "366 2015-01-01 300    350             \n",
       "367 2015-01-02 419    350             \n",
       "368 2015-01-03 340    350             \n",
       "369 2015-01-04 404    350             \n",
       "370 2015-01-05 389    350             \n",
       "371 2015-01-06 510    350             "
      ]
     },
     "metadata": {},
     "output_type": "display_data"
    }
   ],
   "source": [
    "data.test$volume.predicted = volume.predicted\n",
    "data.test[1:6,]"
   ]
  },
  {
   "cell_type": "code",
   "execution_count": 23,
   "metadata": {
    "hide_input": false,
    "scrolled": true
   },
   "outputs": [
    {
     "data": {
      "image/png": "[encoded data removed]",
      "text/plain": [
       "plot without title"
      ]
     },
     "metadata": {},
     "output_type": "display_data"
    }
   ],
   "source": [
    "ggplot(data.test) +\n",
    "geom_line(aes(x=date, y=volume, color=\"actual\")) +\n",
    "geom_line(aes(x=date, y=volume.predicted, color=\"predicted\"))"
   ]
  },
  {
   "cell_type": "code",
   "execution_count": 24,
   "metadata": {
    "hide_input": false,
    "scrolled": false
   },
   "outputs": [
    {
     "data": {
      "text/html": [
       "<table>\n",
       "<thead><tr><th></th><th scope=col>date</th><th scope=col>volume</th><th scope=col>volume.predicted</th><th scope=col>volume.overstaffed</th><th scope=col>overstaffed</th><th scope=col>volume.understaffed</th><th scope=col>understaffed</th></tr></thead>\n",
       "<tbody>\n",
       "\t<tr><th scope=row>366</th><td>2015-01-01</td><td>300       </td><td>350       </td><td>50        </td><td>TRUE      </td><td>  0       </td><td>FALSE     </td></tr>\n",
       "\t<tr><th scope=row>367</th><td>2015-01-02</td><td>419       </td><td>350       </td><td> 0        </td><td>TRUE      </td><td> 69       </td><td> TRUE     </td></tr>\n",
       "\t<tr><th scope=row>368</th><td>2015-01-03</td><td>340       </td><td>350       </td><td>10        </td><td>TRUE      </td><td>  0       </td><td>FALSE     </td></tr>\n",
       "\t<tr><th scope=row>369</th><td>2015-01-04</td><td>404       </td><td>350       </td><td> 0        </td><td>TRUE      </td><td> 54       </td><td> TRUE     </td></tr>\n",
       "\t<tr><th scope=row>370</th><td>2015-01-05</td><td>389       </td><td>350       </td><td> 0        </td><td>TRUE      </td><td> 39       </td><td> TRUE     </td></tr>\n",
       "\t<tr><th scope=row>371</th><td>2015-01-06</td><td>510       </td><td>350       </td><td> 0        </td><td>TRUE      </td><td>160       </td><td> TRUE     </td></tr>\n",
       "</tbody>\n",
       "</table>\n"
      ],
      "text/latex": [
       "\\begin{tabular}{r|lllllll}\n",
       "  & date & volume & volume.predicted & volume.overstaffed & overstaffed & volume.understaffed & understaffed\\\\\n",
       "\\hline\n",
       "\t366 & 2015-01-01 & 300        & 350        & 50         & TRUE       &   0        & FALSE     \\\\\n",
       "\t367 & 2015-01-02 & 419        & 350        &  0         & TRUE       &  69        &  TRUE     \\\\\n",
       "\t368 & 2015-01-03 & 340        & 350        & 10         & TRUE       &   0        & FALSE     \\\\\n",
       "\t369 & 2015-01-04 & 404        & 350        &  0         & TRUE       &  54        &  TRUE     \\\\\n",
       "\t370 & 2015-01-05 & 389        & 350        &  0         & TRUE       &  39        &  TRUE     \\\\\n",
       "\t371 & 2015-01-06 & 510        & 350        &  0         & TRUE       & 160        &  TRUE     \\\\\n",
       "\\end{tabular}\n"
      ],
      "text/markdown": [
       "\n",
       "| <!--/--> | date | volume | volume.predicted | volume.overstaffed | overstaffed | volume.understaffed | understaffed |\n",
       "|---|---|---|---|---|---|---|---|\n",
       "| 366 | 2015-01-01 | 300        | 350        | 50         | TRUE       |   0        | FALSE      |\n",
       "| 367 | 2015-01-02 | 419        | 350        |  0         | TRUE       |  69        |  TRUE      |\n",
       "| 368 | 2015-01-03 | 340        | 350        | 10         | TRUE       |   0        | FALSE      |\n",
       "| 369 | 2015-01-04 | 404        | 350        |  0         | TRUE       |  54        |  TRUE      |\n",
       "| 370 | 2015-01-05 | 389        | 350        |  0         | TRUE       |  39        |  TRUE      |\n",
       "| 371 | 2015-01-06 | 510        | 350        |  0         | TRUE       | 160        |  TRUE      |\n",
       "\n"
      ],
      "text/plain": [
       "    date       volume volume.predicted volume.overstaffed overstaffed\n",
       "366 2015-01-01 300    350              50                 TRUE       \n",
       "367 2015-01-02 419    350               0                 TRUE       \n",
       "368 2015-01-03 340    350              10                 TRUE       \n",
       "369 2015-01-04 404    350               0                 TRUE       \n",
       "370 2015-01-05 389    350               0                 TRUE       \n",
       "371 2015-01-06 510    350               0                 TRUE       \n",
       "    volume.understaffed understaffed\n",
       "366   0                 FALSE       \n",
       "367  69                  TRUE       \n",
       "368   0                 FALSE       \n",
       "369  54                  TRUE       \n",
       "370  39                  TRUE       \n",
       "371 160                  TRUE       "
      ]
     },
     "metadata": {},
     "output_type": "display_data"
    }
   ],
   "source": [
    "data.test$volume.overstaffed = data.test$volume.predicted - data.test$volume\n",
    "data.test$volume.overstaffed[data.test$volume.overstaffed < 0] = 0\n",
    "data.test$overstaffed = data.test$volume.overstaffed >= 0\n",
    "\n",
    "data.test$volume.understaffed = data.test$volume - data.test$volume.predicted\n",
    "data.test$volume.understaffed[data.test$volume.understaffed < 0] = 0\n",
    "data.test$understaffed = data.test$volume.understaffed > threshold\n",
    "\n",
    "data.test[1:6,]"
   ]
  },
  {
   "cell_type": "code",
   "execution_count": 25,
   "metadata": {
    "hide_input": false
   },
   "outputs": [
    {
     "data": {
      "image/png": "[encoded data removed]",
      "text/plain": [
       "plot without title"
      ]
     },
     "metadata": {},
     "output_type": "display_data"
    }
   ],
   "source": [
    "ggplot(data.test) +\n",
    "geom_line(aes(x=date, y=volume, color=\"actual\")) +\n",
    "geom_jitter(aes(x=date, y=volume.predicted, color=\"overstaffed\"), data=data.test[data.test$overstaffed,], height=20) +\n",
    "geom_jitter(aes(x=date, y=volume.predicted, color=\"understaffed\"), data=data.test[data.test$understaffed,], height=20) +\n",
    "scale_color_manual(values=c(actual=PALETTE[1], overstaffed=PALETTE[3], understaffed=PALETTE[4]))"
   ]
  },
  {
   "cell_type": "markdown",
   "metadata": {},
   "source": [
    "### Business Result"
   ]
  },
  {
   "cell_type": "markdown",
   "metadata": {},
   "source": [
    "#### Call Center Perspective"
   ]
  },
  {
   "cell_type": "code",
   "execution_count": 26,
   "metadata": {
    "hide_input": false
   },
   "outputs": [
    {
     "data": {
      "text/html": [
       "<table>\n",
       "<thead><tr><th scope=col>model</th><th scope=col>revenue</th><th scope=col>staff_cost</th><th scope=col>dissatisfaction_cost</th><th scope=col>cost</th><th scope=col>profit</th></tr></thead>\n",
       "<tbody>\n",
       "\t<tr><td>Fixed Staffing Rate is Low</td><td>1175307                   </td><td>403666.7                  </td><td>366100                    </td><td>769766.7                  </td><td>405540.3                  </td></tr>\n",
       "</tbody>\n",
       "</table>\n"
      ],
      "text/latex": [
       "\\begin{tabular}{r|llllll}\n",
       " model & revenue & staff\\_cost & dissatisfaction\\_cost & cost & profit\\\\\n",
       "\\hline\n",
       "\t Fixed Staffing Rate is Low & 1175307                    & 403666.7                   & 366100                     & 769766.7                   & 405540.3                  \\\\\n",
       "\\end{tabular}\n"
      ],
      "text/markdown": [
       "\n",
       "| model | revenue | staff_cost | dissatisfaction_cost | cost | profit |\n",
       "|---|---|---|---|---|---|\n",
       "| Fixed Staffing Rate is Low | 1175307                    | 403666.7                   | 366100                     | 769766.7                   | 405540.3                   |\n",
       "\n"
      ],
      "text/plain": [
       "  model                      revenue staff_cost dissatisfaction_cost cost    \n",
       "1 Fixed Staffing Rate is Low 1175307 403666.7   366100               769766.7\n",
       "  profit  \n",
       "1 405540.3"
      ]
     },
     "metadata": {},
     "output_type": "display_data"
    }
   ],
   "source": [
    "revenue = call_payrate * (sum(data.test$volume[data.test$overstaffed]) +\n",
    "                          sum(data.test$volume.predicted[data.test$understaffed]))\n",
    "          \n",
    "staff_cost = (staff_payrate/handlerate) * sum(data.test$volume.predicted)\n",
    "\n",
    "dissatisfaction_cost = dissatisfaction_payrate * sum(data.test$volume.understaffed[data.test$understaffed])\n",
    "\n",
    "cost = staff_cost + dissatisfaction_cost\n",
    "profit = revenue - cost\n",
    "business_value.lf.cc = data.frame(model=\"Fixed Staffing Rate is Low\", revenue, staff_cost, dissatisfaction_cost, cost, profit)\n",
    "\n",
    "business_value.lf.cc"
   ]
  },
  {
   "cell_type": "markdown",
   "metadata": {},
   "source": [
    "#### Client Perspective"
   ]
  },
  {
   "cell_type": "code",
   "execution_count": 27,
   "metadata": {
    "hide_input": false
   },
   "outputs": [
    {
     "data": {
      "text/html": [
       "<table>\n",
       "<thead><tr><th scope=col>model</th><th scope=col>call_cost</th><th scope=col>dissatisfaction_credit</th><th scope=col>cost</th><th scope=col>savings</th><th scope=col>csat</th></tr></thead>\n",
       "<tbody>\n",
       "\t<tr><td>Fixed Staffing Rate is Low</td><td>1175307                   </td><td>366100                    </td><td>809207                    </td><td>190793                    </td><td>0.8797232                 </td></tr>\n",
       "</tbody>\n",
       "</table>\n"
      ],
      "text/latex": [
       "\\begin{tabular}{r|llllll}\n",
       " model & call\\_cost & dissatisfaction\\_credit & cost & savings & csat\\\\\n",
       "\\hline\n",
       "\t Fixed Staffing Rate is Low & 1175307                    & 366100                     & 809207                     & 190793                     & 0.8797232                 \\\\\n",
       "\\end{tabular}\n"
      ],
      "text/markdown": [
       "\n",
       "| model | call_cost | dissatisfaction_credit | cost | savings | csat |\n",
       "|---|---|---|---|---|---|\n",
       "| Fixed Staffing Rate is Low | 1175307                    | 366100                     | 809207                     | 190793                     | 0.8797232                  |\n",
       "\n"
      ],
      "text/plain": [
       "  model                      call_cost dissatisfaction_credit cost   savings\n",
       "1 Fixed Staffing Rate is Low 1175307   366100                 809207 190793 \n",
       "  csat     \n",
       "1 0.8797232"
      ]
     },
     "metadata": {},
     "output_type": "display_data"
    }
   ],
   "source": [
    "call_cost = call_payrate * (sum(data.test$volume[data.test$overstaffed]) +\n",
    "                            sum(data.test$volume.predicted[data.test$understaffed]))\n",
    "\n",
    "dissatisfaction_credit = dissatisfaction_payrate * sum(data.test$volume.understaffed[data.test$understaffed])\n",
    "\n",
    "cost = call_cost - dissatisfaction_credit\n",
    "savings = budget - cost\n",
    "\n",
    "csat = 1 - (sum(data.test$volume.understaffed) / sum(data.test$volume))\n",
    "\n",
    "business_value.lf.client = data.frame(model=\"Fixed Staffing Rate is Low\", call_cost, dissatisfaction_credit, cost, savings, csat)\n",
    "\n",
    "business_value.lf.client"
   ]
  },
  {
   "cell_type": "markdown",
   "metadata": {},
   "source": [
    "## Model C: Linear Regression"
   ]
  },
  {
   "cell_type": "markdown",
   "metadata": {},
   "source": [
    "\n",
    "### Categorical Variables to Dummy Variables"
   ]
  },
  {
   "cell_type": "code",
   "execution_count": 28,
   "metadata": {
    "hide_input": false,
    "scrolled": false
   },
   "outputs": [
    {
     "data": {
      "text/html": [
       "<table>\n",
       "<thead><tr><th scope=col>observations</th><th scope=col>variables</th></tr></thead>\n",
       "<tbody>\n",
       "\t<tr><td>711</td><td>168</td></tr>\n",
       "</tbody>\n",
       "</table>\n"
      ],
      "text/latex": [
       "\\begin{tabular}{r|ll}\n",
       " observations & variables\\\\\n",
       "\\hline\n",
       "\t 711 & 168\\\\\n",
       "\\end{tabular}\n"
      ],
      "text/markdown": [
       "\n",
       "| observations | variables |\n",
       "|---|---|\n",
       "| 711 | 168 |\n",
       "\n"
      ],
      "text/plain": [
       "  observations variables\n",
       "1 711          168      "
      ]
     },
     "metadata": {},
     "output_type": "display_data"
    },
    {
     "data": {
      "text/html": [
       "<table>\n",
       "<thead><tr><th scope=col>date</th><th scope=col>dayFriday</th><th scope=col>daySaturday</th><th scope=col>daySunday</th><th scope=col>dayThursday</th><th scope=col>dayTuesday</th><th scope=col>dayWednesday</th><th scope=col>wom</th><th scope=col>monthApr</th><th scope=col>monthAug</th><th scope=col>monthDec</th><th scope=col>monthFeb</th><th scope=col>monthJul</th><th scope=col>monthJun</th><th scope=col>monthMar</th><th scope=col>monthMay</th><th scope=col>monthNov</th><th scope=col>monthOct</th><th scope=col>monthSep</th><th scope=col>year</th><th scope=col>holidaysChristmas Day</th><th scope=col>holidaysColumbus Day</th><th scope=col>holidaysIndependence Day</th><th scope=col>holidaysLabor Day</th><th scope=col>holidaysMartin Luther King Jr. Day</th><th scope=col>holidaysMemorial Day</th><th scope=col>holidaysNew Year's Day</th><th scope=col>holidaysNext Day of the-Christmas Day</th><th scope=col>holidaysNext Day of the-Columbus Day</th><th scope=col>holidaysNext Day of the-Independence Day</th><th scope=col>holidaysNext Day of the-Labor Day</th><th scope=col>holidaysNext Day of the-Martin Luther King Jr. Day</th><th scope=col>holidaysNext Day of the-Memorial Day</th><th scope=col>holidaysNext Day of the-New Year's Day</th><th scope=col>holidaysNext Day of the-President's Day</th><th scope=col>holidaysNext Day of the-Thanksgiving Day</th><th scope=col>holidaysNext Day of the-Veteran's Day</th><th scope=col>...</th><th scope=col>promotionsRD Event</th><th scope=col>promotionsRD Event, Earn $20</th><th scope=col>promotionsRD Event,20% Off on Food,FS on $49</th><th scope=col>promotionsRD Event,Double Points</th><th scope=col>promotionsRD Event,Up To 15% Off,FS on $49</th><th scope=col>promotionsReveal Your Deal Promo,$10, $20, $30 Off,FS on $49</th><th scope=col>promotionsReveal Your Deal Promo,15, 20% Off</th><th scope=col>promotionsReveal Your Deal Promo,15, 20% Off,</th><th scope=col>promotionsReveal Your Deal Promo,15, 20, 30% Off,</th><th scope=col>promotionsReveal Your Deal Promo,20, 25, 30% Off,FS on $75</th><th scope=col>promotionsReveal Your Deal, $10, $15, $20 Off</th><th scope=col>promotionsThanks Giving</th><th scope=col>promotionsThanksgiving</th><th scope=col>promotionsTiered Promo</th><th scope=col>promotionsTreat Thursday</th><th scope=col>promotionsTreat Thursday,$10 Off,</th><th scope=col>promotionsTreat Thursday,$5 Off,FS on $35</th><th scope=col>promotionsTreat Thursday,$5 Off,FS on $49</th><th scope=col>promotionsTreat Thursday,12 Items,FS on $49</th><th scope=col>promotionsTreat Thursday,12 Treats,FS on $49</th><th scope=col>promotionsTreat Thursday,30-50% Off,FS on $49</th><th scope=col>promotionsTreat Thursday,Buy $25 get $5 eGC ,</th><th scope=col>promotionsTreat Thursday,Double Points,Up to 40% Off,FS on $49</th><th scope=col>promotionsTreat Thursday,FS on $49</th><th scope=col>promotionsTreat Thursday,Up To 30% Off on Toys,FS on $49</th><th scope=col>promotionsTreat Thursday,Up to 50% on Select Items,20% Off,FS on $49</th><th scope=col>promotionsUp To 15% Off,FS on $49</th><th scope=col>promotionsUp To 20% Off,FS on $49</th><th scope=col>promotionsUp To 25% Off, FS on $49</th><th scope=col>promotionsUp To 25% Off,FS on $49</th><th scope=col>promotionsUp To 35% Off,FS on $49</th><th scope=col>promotionsUp To 40% Off plus $5 FS on $10, FS on $49</th><th scope=col>promotionsUp To 40% Off,FS on $49</th><th scope=col>promotionsUp To 50% Off,FS on $49</th><th scope=col>promotionsUpto 75% offer</th><th scope=col>promotionsValentine's Day,25% Off on Supplies,FS on $49</th><th scope=col>volume</th></tr></thead>\n",
       "<tbody>\n",
       "\t<tr><td>2014-01-01</td><td>0         </td><td>0         </td><td>0         </td><td>0         </td><td>0         </td><td>1         </td><td>1         </td><td>0         </td><td>0         </td><td>0         </td><td>0         </td><td>0         </td><td>0         </td><td>0         </td><td>0         </td><td>0         </td><td>0         </td><td>0         </td><td>2014      </td><td>0         </td><td>0         </td><td>0         </td><td>0         </td><td>0         </td><td>0         </td><td>1         </td><td>0         </td><td>0         </td><td>0         </td><td>0         </td><td>0         </td><td>0         </td><td>0         </td><td>0         </td><td>0         </td><td>0         </td><td>...       </td><td>0         </td><td>0         </td><td>0         </td><td>0         </td><td>0         </td><td>0         </td><td>0         </td><td>0         </td><td>0         </td><td>0         </td><td>0         </td><td>0         </td><td>0         </td><td>0         </td><td>0         </td><td>0         </td><td>0         </td><td>0         </td><td>0         </td><td>0         </td><td>0         </td><td>0         </td><td>0         </td><td>0         </td><td>0         </td><td>0         </td><td>0         </td><td>0         </td><td>0         </td><td>0         </td><td>0         </td><td>0         </td><td>0         </td><td>0         </td><td>0         </td><td>0         </td><td>373       </td></tr>\n",
       "\t<tr><td>2014-01-02</td><td>0         </td><td>0         </td><td>0         </td><td>1         </td><td>0         </td><td>0         </td><td>1         </td><td>0         </td><td>0         </td><td>0         </td><td>0         </td><td>0         </td><td>0         </td><td>0         </td><td>0         </td><td>0         </td><td>0         </td><td>0         </td><td>2014      </td><td>0         </td><td>0         </td><td>0         </td><td>0         </td><td>0         </td><td>0         </td><td>0         </td><td>0         </td><td>0         </td><td>0         </td><td>0         </td><td>0         </td><td>0         </td><td>1         </td><td>0         </td><td>0         </td><td>0         </td><td>...       </td><td>0         </td><td>0         </td><td>0         </td><td>0         </td><td>0         </td><td>0         </td><td>0         </td><td>0         </td><td>0         </td><td>0         </td><td>0         </td><td>0         </td><td>0         </td><td>0         </td><td>0         </td><td>0         </td><td>0         </td><td>0         </td><td>0         </td><td>0         </td><td>0         </td><td>0         </td><td>0         </td><td>0         </td><td>0         </td><td>0         </td><td>0         </td><td>0         </td><td>0         </td><td>0         </td><td>0         </td><td>0         </td><td>0         </td><td>0         </td><td>0         </td><td>0         </td><td>497       </td></tr>\n",
       "\t<tr><td>2014-01-03</td><td>1         </td><td>0         </td><td>0         </td><td>0         </td><td>0         </td><td>0         </td><td>1         </td><td>0         </td><td>0         </td><td>0         </td><td>0         </td><td>0         </td><td>0         </td><td>0         </td><td>0         </td><td>0         </td><td>0         </td><td>0         </td><td>2014      </td><td>0         </td><td>0         </td><td>0         </td><td>0         </td><td>0         </td><td>0         </td><td>0         </td><td>0         </td><td>0         </td><td>0         </td><td>0         </td><td>0         </td><td>0         </td><td>0         </td><td>0         </td><td>0         </td><td>0         </td><td>...       </td><td>0         </td><td>0         </td><td>0         </td><td>0         </td><td>0         </td><td>0         </td><td>0         </td><td>0         </td><td>0         </td><td>0         </td><td>0         </td><td>0         </td><td>0         </td><td>0         </td><td>0         </td><td>0         </td><td>0         </td><td>0         </td><td>0         </td><td>0         </td><td>0         </td><td>0         </td><td>0         </td><td>0         </td><td>0         </td><td>0         </td><td>0         </td><td>0         </td><td>0         </td><td>0         </td><td>0         </td><td>0         </td><td>0         </td><td>0         </td><td>0         </td><td>0         </td><td>467       </td></tr>\n",
       "\t<tr><td>2014-01-04</td><td>0         </td><td>1         </td><td>0         </td><td>0         </td><td>0         </td><td>0         </td><td>1         </td><td>0         </td><td>0         </td><td>0         </td><td>0         </td><td>0         </td><td>0         </td><td>0         </td><td>0         </td><td>0         </td><td>0         </td><td>0         </td><td>2014      </td><td>0         </td><td>0         </td><td>0         </td><td>0         </td><td>0         </td><td>0         </td><td>0         </td><td>0         </td><td>0         </td><td>0         </td><td>0         </td><td>0         </td><td>0         </td><td>0         </td><td>0         </td><td>0         </td><td>0         </td><td>...       </td><td>0         </td><td>0         </td><td>0         </td><td>0         </td><td>0         </td><td>0         </td><td>0         </td><td>0         </td><td>0         </td><td>0         </td><td>0         </td><td>0         </td><td>0         </td><td>0         </td><td>0         </td><td>0         </td><td>0         </td><td>0         </td><td>0         </td><td>0         </td><td>0         </td><td>0         </td><td>0         </td><td>0         </td><td>0         </td><td>0         </td><td>0         </td><td>0         </td><td>0         </td><td>0         </td><td>0         </td><td>0         </td><td>0         </td><td>0         </td><td>0         </td><td>0         </td><td>430       </td></tr>\n",
       "\t<tr><td>2014-01-05</td><td>0         </td><td>0         </td><td>1         </td><td>0         </td><td>0         </td><td>0         </td><td>1         </td><td>0         </td><td>0         </td><td>0         </td><td>0         </td><td>0         </td><td>0         </td><td>0         </td><td>0         </td><td>0         </td><td>0         </td><td>0         </td><td>2014      </td><td>0         </td><td>0         </td><td>0         </td><td>0         </td><td>0         </td><td>0         </td><td>0         </td><td>0         </td><td>0         </td><td>0         </td><td>0         </td><td>0         </td><td>0         </td><td>0         </td><td>0         </td><td>0         </td><td>0         </td><td>...       </td><td>0         </td><td>0         </td><td>0         </td><td>0         </td><td>0         </td><td>0         </td><td>0         </td><td>0         </td><td>0         </td><td>0         </td><td>0         </td><td>0         </td><td>0         </td><td>0         </td><td>0         </td><td>0         </td><td>0         </td><td>0         </td><td>0         </td><td>0         </td><td>0         </td><td>0         </td><td>0         </td><td>0         </td><td>0         </td><td>0         </td><td>0         </td><td>0         </td><td>0         </td><td>0         </td><td>0         </td><td>0         </td><td>0         </td><td>0         </td><td>0         </td><td>0         </td><td>523       </td></tr>\n",
       "\t<tr><td>2014-01-06</td><td>0         </td><td>0         </td><td>0         </td><td>0         </td><td>0         </td><td>0         </td><td>1         </td><td>0         </td><td>0         </td><td>0         </td><td>0         </td><td>0         </td><td>0         </td><td>0         </td><td>0         </td><td>0         </td><td>0         </td><td>0         </td><td>2014      </td><td>0         </td><td>0         </td><td>0         </td><td>0         </td><td>0         </td><td>0         </td><td>0         </td><td>0         </td><td>0         </td><td>0         </td><td>0         </td><td>0         </td><td>0         </td><td>0         </td><td>0         </td><td>0         </td><td>0         </td><td>...       </td><td>0         </td><td>0         </td><td>0         </td><td>0         </td><td>0         </td><td>0         </td><td>0         </td><td>0         </td><td>0         </td><td>0         </td><td>0         </td><td>0         </td><td>0         </td><td>0         </td><td>0         </td><td>0         </td><td>0         </td><td>0         </td><td>0         </td><td>0         </td><td>0         </td><td>0         </td><td>0         </td><td>0         </td><td>0         </td><td>0         </td><td>0         </td><td>0         </td><td>0         </td><td>0         </td><td>0         </td><td>0         </td><td>0         </td><td>0         </td><td>0         </td><td>0         </td><td>617       </td></tr>\n",
       "</tbody>\n",
       "</table>\n"
      ],
      "text/latex": [
       "\\begin{tabular}{r|llllllllllllllllllllllllllllllllllllllllllllllllllllllllllllllllllllllllllllllllllllllllllllllllllllllllllllllllllllllllllllllllllllllllllllllllllllllllllllllllllllllll}\n",
       " date & dayFriday & daySaturday & daySunday & dayThursday & dayTuesday & dayWednesday & wom & monthApr & monthAug & monthDec & monthFeb & monthJul & monthJun & monthMar & monthMay & monthNov & monthOct & monthSep & year & holidaysChristmas Day & holidaysColumbus Day & holidaysIndependence Day & holidaysLabor Day & holidaysMartin Luther King Jr. Day & holidaysMemorial Day & holidaysNew Year's Day & holidaysNext Day of the-Christmas Day & holidaysNext Day of the-Columbus Day & holidaysNext Day of the-Independence Day & holidaysNext Day of the-Labor Day & holidaysNext Day of the-Martin Luther King Jr. Day & holidaysNext Day of the-Memorial Day & holidaysNext Day of the-New Year's Day & holidaysNext Day of the-President's Day & holidaysNext Day of the-Thanksgiving Day & holidaysNext Day of the-Veteran's Day & ... & promotionsRD Event & promotionsRD Event, Earn \\$20 & promotionsRD Event,20\\% Off on Food,FS on \\$49 & promotionsRD Event,Double Points & promotionsRD Event,Up To 15\\% Off,FS on \\$49 & promotionsReveal Your Deal Promo,\\$10, \\$20, \\$30 Off,FS on \\$49 & promotionsReveal Your Deal Promo,15, 20\\% Off & promotionsReveal Your Deal Promo,15, 20\\% Off, & promotionsReveal Your Deal Promo,15, 20, 30\\% Off, & promotionsReveal Your Deal Promo,20, 25, 30\\% Off,FS on \\$75 & promotionsReveal Your Deal, \\$10, \\$15, \\$20 Off & promotionsThanks Giving & promotionsThanksgiving & promotionsTiered Promo & promotionsTreat Thursday & promotionsTreat Thursday,\\$10 Off, & promotionsTreat Thursday,\\$5 Off,FS on \\$35 & promotionsTreat Thursday,\\$5 Off,FS on \\$49 & promotionsTreat Thursday,12 Items,FS on \\$49 & promotionsTreat Thursday,12 Treats,FS on \\$49 & promotionsTreat Thursday,30-50\\% Off,FS on \\$49 & promotionsTreat Thursday,Buy \\$25 get \\$5 eGC , & promotionsTreat Thursday,Double Points,Up to 40\\% Off,FS on \\$49 & promotionsTreat Thursday,FS on \\$49 & promotionsTreat Thursday,Up To 30\\% Off on Toys,FS on \\$49 & promotionsTreat Thursday,Up to 50\\% on Select Items,20\\% Off,FS on \\$49 & promotionsUp To 15\\% Off,FS on \\$49 & promotionsUp To 20\\% Off,FS on \\$49 & promotionsUp To 25\\% Off, FS on \\$49 & promotionsUp To 25\\% Off,FS on \\$49 & promotionsUp To 35\\% Off,FS on \\$49 & promotionsUp To 40\\% Off plus \\$5 FS on \\$10, FS on \\$49 & promotionsUp To 40\\% Off,FS on \\$49 & promotionsUp To 50\\% Off,FS on \\$49 & promotionsUpto 75\\% offer & promotionsValentine's Day,25\\% Off on Supplies,FS on \\$49 & volume\\\\\n",
       "\\hline\n",
       "\t 2014-01-01 & 0          & 0          & 0          & 0          & 0          & 1          & 1          & 0          & 0          & 0          & 0          & 0          & 0          & 0          & 0          & 0          & 0          & 0          & 2014       & 0          & 0          & 0          & 0          & 0          & 0          & 1          & 0          & 0          & 0          & 0          & 0          & 0          & 0          & 0          & 0          & 0          & ...        & 0          & 0          & 0          & 0          & 0          & 0          & 0          & 0          & 0          & 0          & 0          & 0          & 0          & 0          & 0          & 0          & 0          & 0          & 0          & 0          & 0          & 0          & 0          & 0          & 0          & 0          & 0          & 0          & 0          & 0          & 0          & 0          & 0          & 0          & 0          & 0          & 373       \\\\\n",
       "\t 2014-01-02 & 0          & 0          & 0          & 1          & 0          & 0          & 1          & 0          & 0          & 0          & 0          & 0          & 0          & 0          & 0          & 0          & 0          & 0          & 2014       & 0          & 0          & 0          & 0          & 0          & 0          & 0          & 0          & 0          & 0          & 0          & 0          & 0          & 1          & 0          & 0          & 0          & ...        & 0          & 0          & 0          & 0          & 0          & 0          & 0          & 0          & 0          & 0          & 0          & 0          & 0          & 0          & 0          & 0          & 0          & 0          & 0          & 0          & 0          & 0          & 0          & 0          & 0          & 0          & 0          & 0          & 0          & 0          & 0          & 0          & 0          & 0          & 0          & 0          & 497       \\\\\n",
       "\t 2014-01-03 & 1          & 0          & 0          & 0          & 0          & 0          & 1          & 0          & 0          & 0          & 0          & 0          & 0          & 0          & 0          & 0          & 0          & 0          & 2014       & 0          & 0          & 0          & 0          & 0          & 0          & 0          & 0          & 0          & 0          & 0          & 0          & 0          & 0          & 0          & 0          & 0          & ...        & 0          & 0          & 0          & 0          & 0          & 0          & 0          & 0          & 0          & 0          & 0          & 0          & 0          & 0          & 0          & 0          & 0          & 0          & 0          & 0          & 0          & 0          & 0          & 0          & 0          & 0          & 0          & 0          & 0          & 0          & 0          & 0          & 0          & 0          & 0          & 0          & 467       \\\\\n",
       "\t 2014-01-04 & 0          & 1          & 0          & 0          & 0          & 0          & 1          & 0          & 0          & 0          & 0          & 0          & 0          & 0          & 0          & 0          & 0          & 0          & 2014       & 0          & 0          & 0          & 0          & 0          & 0          & 0          & 0          & 0          & 0          & 0          & 0          & 0          & 0          & 0          & 0          & 0          & ...        & 0          & 0          & 0          & 0          & 0          & 0          & 0          & 0          & 0          & 0          & 0          & 0          & 0          & 0          & 0          & 0          & 0          & 0          & 0          & 0          & 0          & 0          & 0          & 0          & 0          & 0          & 0          & 0          & 0          & 0          & 0          & 0          & 0          & 0          & 0          & 0          & 430       \\\\\n",
       "\t 2014-01-05 & 0          & 0          & 1          & 0          & 0          & 0          & 1          & 0          & 0          & 0          & 0          & 0          & 0          & 0          & 0          & 0          & 0          & 0          & 2014       & 0          & 0          & 0          & 0          & 0          & 0          & 0          & 0          & 0          & 0          & 0          & 0          & 0          & 0          & 0          & 0          & 0          & ...        & 0          & 0          & 0          & 0          & 0          & 0          & 0          & 0          & 0          & 0          & 0          & 0          & 0          & 0          & 0          & 0          & 0          & 0          & 0          & 0          & 0          & 0          & 0          & 0          & 0          & 0          & 0          & 0          & 0          & 0          & 0          & 0          & 0          & 0          & 0          & 0          & 523       \\\\\n",
       "\t 2014-01-06 & 0          & 0          & 0          & 0          & 0          & 0          & 1          & 0          & 0          & 0          & 0          & 0          & 0          & 0          & 0          & 0          & 0          & 0          & 2014       & 0          & 0          & 0          & 0          & 0          & 0          & 0          & 0          & 0          & 0          & 0          & 0          & 0          & 0          & 0          & 0          & 0          & ...        & 0          & 0          & 0          & 0          & 0          & 0          & 0          & 0          & 0          & 0          & 0          & 0          & 0          & 0          & 0          & 0          & 0          & 0          & 0          & 0          & 0          & 0          & 0          & 0          & 0          & 0          & 0          & 0          & 0          & 0          & 0          & 0          & 0          & 0          & 0          & 0          & 617       \\\\\n",
       "\\end{tabular}\n"
      ],
      "text/markdown": [
       "\n",
       "| date | dayFriday | daySaturday | daySunday | dayThursday | dayTuesday | dayWednesday | wom | monthApr | monthAug | monthDec | monthFeb | monthJul | monthJun | monthMar | monthMay | monthNov | monthOct | monthSep | year | holidaysChristmas Day | holidaysColumbus Day | holidaysIndependence Day | holidaysLabor Day | holidaysMartin Luther King Jr. Day | holidaysMemorial Day | holidaysNew Year's Day | holidaysNext Day of the-Christmas Day | holidaysNext Day of the-Columbus Day | holidaysNext Day of the-Independence Day | holidaysNext Day of the-Labor Day | holidaysNext Day of the-Martin Luther King Jr. Day | holidaysNext Day of the-Memorial Day | holidaysNext Day of the-New Year's Day | holidaysNext Day of the-President's Day | holidaysNext Day of the-Thanksgiving Day | holidaysNext Day of the-Veteran's Day | ... | promotionsRD Event | promotionsRD Event, Earn $20 | promotionsRD Event,20% Off on Food,FS on $49 | promotionsRD Event,Double Points | promotionsRD Event,Up To 15% Off,FS on $49 | promotionsReveal Your Deal Promo,$10, $20, $30 Off,FS on $49 | promotionsReveal Your Deal Promo,15, 20% Off | promotionsReveal Your Deal Promo,15, 20% Off, | promotionsReveal Your Deal Promo,15, 20, 30% Off, | promotionsReveal Your Deal Promo,20, 25, 30% Off,FS on $75 | promotionsReveal Your Deal, $10, $15, $20 Off | promotionsThanks Giving | promotionsThanksgiving | promotionsTiered Promo | promotionsTreat Thursday | promotionsTreat Thursday,$10 Off, | promotionsTreat Thursday,$5 Off,FS on $35 | promotionsTreat Thursday,$5 Off,FS on $49 | promotionsTreat Thursday,12 Items,FS on $49 | promotionsTreat Thursday,12 Treats,FS on $49 | promotionsTreat Thursday,30-50% Off,FS on $49 | promotionsTreat Thursday,Buy $25 get $5 eGC , | promotionsTreat Thursday,Double Points,Up to 40% Off,FS on $49 | promotionsTreat Thursday,FS on $49 | promotionsTreat Thursday,Up To 30% Off on Toys,FS on $49 | promotionsTreat Thursday,Up to 50% on Select Items,20% Off,FS on $49 | promotionsUp To 15% Off,FS on $49 | promotionsUp To 20% Off,FS on $49 | promotionsUp To 25% Off, FS on $49 | promotionsUp To 25% Off,FS on $49 | promotionsUp To 35% Off,FS on $49 | promotionsUp To 40% Off plus $5 FS on $10, FS on $49 | promotionsUp To 40% Off,FS on $49 | promotionsUp To 50% Off,FS on $49 | promotionsUpto 75% offer | promotionsValentine's Day,25% Off on Supplies,FS on $49 | volume |\n",
       "|---|---|---|---|---|---|---|---|---|---|---|---|---|---|---|---|---|---|---|---|---|---|---|---|---|---|---|---|---|---|---|---|---|---|---|---|---|---|---|---|---|---|---|---|---|---|---|---|---|---|---|---|---|---|---|---|---|---|---|---|---|---|---|---|---|---|---|---|---|---|---|---|---|---|---|\n",
       "| 2014-01-01 | 0          | 0          | 0          | 0          | 0          | 1          | 1          | 0          | 0          | 0          | 0          | 0          | 0          | 0          | 0          | 0          | 0          | 0          | 2014       | 0          | 0          | 0          | 0          | 0          | 0          | 1          | 0          | 0          | 0          | 0          | 0          | 0          | 0          | 0          | 0          | 0          | ...        | 0          | 0          | 0          | 0          | 0          | 0          | 0          | 0          | 0          | 0          | 0          | 0          | 0          | 0          | 0          | 0          | 0          | 0          | 0          | 0          | 0          | 0          | 0          | 0          | 0          | 0          | 0          | 0          | 0          | 0          | 0          | 0          | 0          | 0          | 0          | 0          | 373        |\n",
       "| 2014-01-02 | 0          | 0          | 0          | 1          | 0          | 0          | 1          | 0          | 0          | 0          | 0          | 0          | 0          | 0          | 0          | 0          | 0          | 0          | 2014       | 0          | 0          | 0          | 0          | 0          | 0          | 0          | 0          | 0          | 0          | 0          | 0          | 0          | 1          | 0          | 0          | 0          | ...        | 0          | 0          | 0          | 0          | 0          | 0          | 0          | 0          | 0          | 0          | 0          | 0          | 0          | 0          | 0          | 0          | 0          | 0          | 0          | 0          | 0          | 0          | 0          | 0          | 0          | 0          | 0          | 0          | 0          | 0          | 0          | 0          | 0          | 0          | 0          | 0          | 497        |\n",
       "| 2014-01-03 | 1          | 0          | 0          | 0          | 0          | 0          | 1          | 0          | 0          | 0          | 0          | 0          | 0          | 0          | 0          | 0          | 0          | 0          | 2014       | 0          | 0          | 0          | 0          | 0          | 0          | 0          | 0          | 0          | 0          | 0          | 0          | 0          | 0          | 0          | 0          | 0          | ...        | 0          | 0          | 0          | 0          | 0          | 0          | 0          | 0          | 0          | 0          | 0          | 0          | 0          | 0          | 0          | 0          | 0          | 0          | 0          | 0          | 0          | 0          | 0          | 0          | 0          | 0          | 0          | 0          | 0          | 0          | 0          | 0          | 0          | 0          | 0          | 0          | 467        |\n",
       "| 2014-01-04 | 0          | 1          | 0          | 0          | 0          | 0          | 1          | 0          | 0          | 0          | 0          | 0          | 0          | 0          | 0          | 0          | 0          | 0          | 2014       | 0          | 0          | 0          | 0          | 0          | 0          | 0          | 0          | 0          | 0          | 0          | 0          | 0          | 0          | 0          | 0          | 0          | ...        | 0          | 0          | 0          | 0          | 0          | 0          | 0          | 0          | 0          | 0          | 0          | 0          | 0          | 0          | 0          | 0          | 0          | 0          | 0          | 0          | 0          | 0          | 0          | 0          | 0          | 0          | 0          | 0          | 0          | 0          | 0          | 0          | 0          | 0          | 0          | 0          | 430        |\n",
       "| 2014-01-05 | 0          | 0          | 1          | 0          | 0          | 0          | 1          | 0          | 0          | 0          | 0          | 0          | 0          | 0          | 0          | 0          | 0          | 0          | 2014       | 0          | 0          | 0          | 0          | 0          | 0          | 0          | 0          | 0          | 0          | 0          | 0          | 0          | 0          | 0          | 0          | 0          | ...        | 0          | 0          | 0          | 0          | 0          | 0          | 0          | 0          | 0          | 0          | 0          | 0          | 0          | 0          | 0          | 0          | 0          | 0          | 0          | 0          | 0          | 0          | 0          | 0          | 0          | 0          | 0          | 0          | 0          | 0          | 0          | 0          | 0          | 0          | 0          | 0          | 523        |\n",
       "| 2014-01-06 | 0          | 0          | 0          | 0          | 0          | 0          | 1          | 0          | 0          | 0          | 0          | 0          | 0          | 0          | 0          | 0          | 0          | 0          | 2014       | 0          | 0          | 0          | 0          | 0          | 0          | 0          | 0          | 0          | 0          | 0          | 0          | 0          | 0          | 0          | 0          | 0          | ...        | 0          | 0          | 0          | 0          | 0          | 0          | 0          | 0          | 0          | 0          | 0          | 0          | 0          | 0          | 0          | 0          | 0          | 0          | 0          | 0          | 0          | 0          | 0          | 0          | 0          | 0          | 0          | 0          | 0          | 0          | 0          | 0          | 0          | 0          | 0          | 0          | 617        |\n",
       "\n"
      ],
      "text/plain": [
       "  date       dayFriday daySaturday daySunday dayThursday dayTuesday\n",
       "1 2014-01-01 0         0           0         0           0         \n",
       "2 2014-01-02 0         0           0         1           0         \n",
       "3 2014-01-03 1         0           0         0           0         \n",
       "4 2014-01-04 0         1           0         0           0         \n",
       "5 2014-01-05 0         0           1         0           0         \n",
       "6 2014-01-06 0         0           0         0           0         \n",
       "  dayWednesday wom monthApr monthAug monthDec monthFeb monthJul monthJun\n",
       "1 1            1   0        0        0        0        0        0       \n",
       "2 0            1   0        0        0        0        0        0       \n",
       "3 0            1   0        0        0        0        0        0       \n",
       "4 0            1   0        0        0        0        0        0       \n",
       "5 0            1   0        0        0        0        0        0       \n",
       "6 0            1   0        0        0        0        0        0       \n",
       "  monthMar monthMay monthNov monthOct monthSep year holidaysChristmas Day\n",
       "1 0        0        0        0        0        2014 0                    \n",
       "2 0        0        0        0        0        2014 0                    \n",
       "3 0        0        0        0        0        2014 0                    \n",
       "4 0        0        0        0        0        2014 0                    \n",
       "5 0        0        0        0        0        2014 0                    \n",
       "6 0        0        0        0        0        2014 0                    \n",
       "  holidaysColumbus Day holidaysIndependence Day holidaysLabor Day\n",
       "1 0                    0                        0                \n",
       "2 0                    0                        0                \n",
       "3 0                    0                        0                \n",
       "4 0                    0                        0                \n",
       "5 0                    0                        0                \n",
       "6 0                    0                        0                \n",
       "  holidaysMartin Luther King Jr. Day holidaysMemorial Day\n",
       "1 0                                  0                   \n",
       "2 0                                  0                   \n",
       "3 0                                  0                   \n",
       "4 0                                  0                   \n",
       "5 0                                  0                   \n",
       "6 0                                  0                   \n",
       "  holidaysNew Year's Day holidaysNext Day of the-Christmas Day\n",
       "1 1                      0                                    \n",
       "2 0                      0                                    \n",
       "3 0                      0                                    \n",
       "4 0                      0                                    \n",
       "5 0                      0                                    \n",
       "6 0                      0                                    \n",
       "  holidaysNext Day of the-Columbus Day holidaysNext Day of the-Independence Day\n",
       "1 0                                    0                                       \n",
       "2 0                                    0                                       \n",
       "3 0                                    0                                       \n",
       "4 0                                    0                                       \n",
       "5 0                                    0                                       \n",
       "6 0                                    0                                       \n",
       "  holidaysNext Day of the-Labor Day\n",
       "1 0                                \n",
       "2 0                                \n",
       "3 0                                \n",
       "4 0                                \n",
       "5 0                                \n",
       "6 0                                \n",
       "  holidaysNext Day of the-Martin Luther King Jr. Day\n",
       "1 0                                                 \n",
       "2 0                                                 \n",
       "3 0                                                 \n",
       "4 0                                                 \n",
       "5 0                                                 \n",
       "6 0                                                 \n",
       "  holidaysNext Day of the-Memorial Day holidaysNext Day of the-New Year's Day\n",
       "1 0                                    0                                     \n",
       "2 0                                    1                                     \n",
       "3 0                                    0                                     \n",
       "4 0                                    0                                     \n",
       "5 0                                    0                                     \n",
       "6 0                                    0                                     \n",
       "  holidaysNext Day of the-President's Day\n",
       "1 0                                      \n",
       "2 0                                      \n",
       "3 0                                      \n",
       "4 0                                      \n",
       "5 0                                      \n",
       "6 0                                      \n",
       "  holidaysNext Day of the-Thanksgiving Day\n",
       "1 0                                       \n",
       "2 0                                       \n",
       "3 0                                       \n",
       "4 0                                       \n",
       "5 0                                       \n",
       "6 0                                       \n",
       "  holidaysNext Day of the-Veteran's Day ... promotionsRD Event\n",
       "1 0                                     ... 0                 \n",
       "2 0                                     ... 0                 \n",
       "3 0                                     ... 0                 \n",
       "4 0                                     ... 0                 \n",
       "5 0                                     ... 0                 \n",
       "6 0                                     ... 0                 \n",
       "  promotionsRD Event, Earn $20 promotionsRD Event,20% Off on Food,FS on $49\n",
       "1 0                            0                                           \n",
       "2 0                            0                                           \n",
       "3 0                            0                                           \n",
       "4 0                            0                                           \n",
       "5 0                            0                                           \n",
       "6 0                            0                                           \n",
       "  promotionsRD Event,Double Points promotionsRD Event,Up To 15% Off,FS on $49\n",
       "1 0                                0                                         \n",
       "2 0                                0                                         \n",
       "3 0                                0                                         \n",
       "4 0                                0                                         \n",
       "5 0                                0                                         \n",
       "6 0                                0                                         \n",
       "  promotionsReveal Your Deal Promo,$10, $20, $30 Off,FS on $49\n",
       "1 0                                                           \n",
       "2 0                                                           \n",
       "3 0                                                           \n",
       "4 0                                                           \n",
       "5 0                                                           \n",
       "6 0                                                           \n",
       "  promotionsReveal Your Deal Promo,15, 20% Off\n",
       "1 0                                           \n",
       "2 0                                           \n",
       "3 0                                           \n",
       "4 0                                           \n",
       "5 0                                           \n",
       "6 0                                           \n",
       "  promotionsReveal Your Deal Promo,15, 20% Off,\n",
       "1 0                                            \n",
       "2 0                                            \n",
       "3 0                                            \n",
       "4 0                                            \n",
       "5 0                                            \n",
       "6 0                                            \n",
       "  promotionsReveal Your Deal Promo,15, 20, 30% Off,\n",
       "1 0                                                \n",
       "2 0                                                \n",
       "3 0                                                \n",
       "4 0                                                \n",
       "5 0                                                \n",
       "6 0                                                \n",
       "  promotionsReveal Your Deal Promo,20, 25, 30% Off,FS on $75\n",
       "1 0                                                         \n",
       "2 0                                                         \n",
       "3 0                                                         \n",
       "4 0                                                         \n",
       "5 0                                                         \n",
       "6 0                                                         \n",
       "  promotionsReveal Your Deal, $10, $15, $20 Off promotionsThanks Giving\n",
       "1 0                                             0                      \n",
       "2 0                                             0                      \n",
       "3 0                                             0                      \n",
       "4 0                                             0                      \n",
       "5 0                                             0                      \n",
       "6 0                                             0                      \n",
       "  promotionsThanksgiving promotionsTiered Promo promotionsTreat Thursday\n",
       "1 0                      0                      0                       \n",
       "2 0                      0                      0                       \n",
       "3 0                      0                      0                       \n",
       "4 0                      0                      0                       \n",
       "5 0                      0                      0                       \n",
       "6 0                      0                      0                       \n",
       "  promotionsTreat Thursday,$10 Off, promotionsTreat Thursday,$5 Off,FS on $35\n",
       "1 0                                 0                                        \n",
       "2 0                                 0                                        \n",
       "3 0                                 0                                        \n",
       "4 0                                 0                                        \n",
       "5 0                                 0                                        \n",
       "6 0                                 0                                        \n",
       "  promotionsTreat Thursday,$5 Off,FS on $49\n",
       "1 0                                        \n",
       "2 0                                        \n",
       "3 0                                        \n",
       "4 0                                        \n",
       "5 0                                        \n",
       "6 0                                        \n",
       "  promotionsTreat Thursday,12 Items,FS on $49\n",
       "1 0                                          \n",
       "2 0                                          \n",
       "3 0                                          \n",
       "4 0                                          \n",
       "5 0                                          \n",
       "6 0                                          \n",
       "  promotionsTreat Thursday,12 Treats,FS on $49\n",
       "1 0                                           \n",
       "2 0                                           \n",
       "3 0                                           \n",
       "4 0                                           \n",
       "5 0                                           \n",
       "6 0                                           \n",
       "  promotionsTreat Thursday,30-50% Off,FS on $49\n",
       "1 0                                            \n",
       "2 0                                            \n",
       "3 0                                            \n",
       "4 0                                            \n",
       "5 0                                            \n",
       "6 0                                            \n",
       "  promotionsTreat Thursday,Buy $25 get $5 eGC ,\n",
       "1 0                                            \n",
       "2 0                                            \n",
       "3 0                                            \n",
       "4 0                                            \n",
       "5 0                                            \n",
       "6 0                                            \n",
       "  promotionsTreat Thursday,Double Points,Up to 40% Off,FS on $49\n",
       "1 0                                                             \n",
       "2 0                                                             \n",
       "3 0                                                             \n",
       "4 0                                                             \n",
       "5 0                                                             \n",
       "6 0                                                             \n",
       "  promotionsTreat Thursday,FS on $49\n",
       "1 0                                 \n",
       "2 0                                 \n",
       "3 0                                 \n",
       "4 0                                 \n",
       "5 0                                 \n",
       "6 0                                 \n",
       "  promotionsTreat Thursday,Up To 30% Off on Toys,FS on $49\n",
       "1 0                                                       \n",
       "2 0                                                       \n",
       "3 0                                                       \n",
       "4 0                                                       \n",
       "5 0                                                       \n",
       "6 0                                                       \n",
       "  promotionsTreat Thursday,Up to 50% on Select Items,20% Off,FS on $49\n",
       "1 0                                                                   \n",
       "2 0                                                                   \n",
       "3 0                                                                   \n",
       "4 0                                                                   \n",
       "5 0                                                                   \n",
       "6 0                                                                   \n",
       "  promotionsUp To 15% Off,FS on $49 promotionsUp To 20% Off,FS on $49\n",
       "1 0                                 0                                \n",
       "2 0                                 0                                \n",
       "3 0                                 0                                \n",
       "4 0                                 0                                \n",
       "5 0                                 0                                \n",
       "6 0                                 0                                \n",
       "  promotionsUp To 25% Off, FS on $49 promotionsUp To 25% Off,FS on $49\n",
       "1 0                                  0                                \n",
       "2 0                                  0                                \n",
       "3 0                                  0                                \n",
       "4 0                                  0                                \n",
       "5 0                                  0                                \n",
       "6 0                                  0                                \n",
       "  promotionsUp To 35% Off,FS on $49\n",
       "1 0                                \n",
       "2 0                                \n",
       "3 0                                \n",
       "4 0                                \n",
       "5 0                                \n",
       "6 0                                \n",
       "  promotionsUp To 40% Off plus $5 FS on $10, FS on $49\n",
       "1 0                                                   \n",
       "2 0                                                   \n",
       "3 0                                                   \n",
       "4 0                                                   \n",
       "5 0                                                   \n",
       "6 0                                                   \n",
       "  promotionsUp To 40% Off,FS on $49 promotionsUp To 50% Off,FS on $49\n",
       "1 0                                 0                                \n",
       "2 0                                 0                                \n",
       "3 0                                 0                                \n",
       "4 0                                 0                                \n",
       "5 0                                 0                                \n",
       "6 0                                 0                                \n",
       "  promotionsUpto 75% offer\n",
       "1 0                       \n",
       "2 0                       \n",
       "3 0                       \n",
       "4 0                       \n",
       "5 0                       \n",
       "6 0                       \n",
       "  promotionsValentine's Day,25% Off on Supplies,FS on $49 volume\n",
       "1 0                                                       373   \n",
       "2 0                                                       497   \n",
       "3 0                                                       467   \n",
       "4 0                                                       430   \n",
       "5 0                                                       523   \n",
       "6 0                                                       617   "
      ]
     },
     "metadata": {},
     "output_type": "display_data"
    }
   ],
   "source": [
    "data.d = dummify(data)\n",
    "data.d$dayMonday = NULL\n",
    "data.d$monthJan = NULL\n",
    "data.d$holidaysnone = NULL\n",
    "data.d$\"PromotionsNo Email Drop\" = NULL\n",
    "size(data.d)\n",
    "data.d[1:6,]"
   ]
  },
  {
   "cell_type": "markdown",
   "metadata": {},
   "source": [
    "### Partition Data for Training & Testing"
   ]
  },
  {
   "cell_type": "code",
   "execution_count": 29,
   "metadata": {},
   "outputs": [],
   "source": [
    "data.train = data.d[data.d$year==2014,] # to build model\n",
    "data.test  = data.d[data.d$year==2015,] # to test model predictions"
   ]
  },
  {
   "cell_type": "markdown",
   "metadata": {},
   "source": [
    "### Model"
   ]
  },
  {
   "cell_type": "code",
   "execution_count": 30,
   "metadata": {
    "hide_input": false,
    "scrolled": true
   },
   "outputs": [
    {
     "data": {
      "text/html": [
       "<table>\n",
       "<thead><tr><th></th><th scope=col>model.coefficients</th></tr></thead>\n",
       "<tbody>\n",
       "\t<tr><th scope=row>(Intercept)</th><td> 686.410216</td></tr>\n",
       "\t<tr><th scope=row>dayFriday</th><td> -75.886818</td></tr>\n",
       "\t<tr><th scope=row>daySaturday</th><td>-114.474064</td></tr>\n",
       "\t<tr><th scope=row>daySunday</th><td>-121.454166</td></tr>\n",
       "\t<tr><th scope=row>dayThursday</th><td>-107.771273</td></tr>\n",
       "\t<tr><th scope=row>dayTuesday</th><td> -14.471350</td></tr>\n",
       "\t<tr><th scope=row>dayWednesday</th><td> -46.728440</td></tr>\n",
       "\t<tr><th scope=row>wom</th><td>  -6.780597</td></tr>\n",
       "\t<tr><th scope=row>monthApr</th><td> -81.093910</td></tr>\n",
       "\t<tr><th scope=row>monthAug</th><td>-153.521260</td></tr>\n",
       "\t<tr><th scope=row>monthDec</th><td> -98.713286</td></tr>\n",
       "\t<tr><th scope=row>monthFeb</th><td> -53.278283</td></tr>\n",
       "\t<tr><th scope=row>monthJul</th><td>-248.517139</td></tr>\n",
       "\t<tr><th scope=row>monthJun</th><td>-225.150147</td></tr>\n",
       "\t<tr><th scope=row>monthMar</th><td> -64.898721</td></tr>\n",
       "\t<tr><th scope=row>monthMay</th><td>-134.087400</td></tr>\n",
       "\t<tr><th scope=row>monthNov</th><td>-187.140143</td></tr>\n",
       "\t<tr><th scope=row>monthOct</th><td>-224.862569</td></tr>\n",
       "\t<tr><th scope=row>monthSep</th><td>-161.152904</td></tr>\n",
       "\t<tr><th scope=row>year</th><td>         NA</td></tr>\n",
       "\t<tr><th scope=row>`holidaysChristmas Day`</th><td>-452.803271</td></tr>\n",
       "\t<tr><th scope=row>`holidaysColumbus Day`</th><td> -76.986453</td></tr>\n",
       "\t<tr><th scope=row>`holidaysIndependence Day`</th><td>  22.397761</td></tr>\n",
       "\t<tr><th scope=row>`holidaysLabor Day`</th><td>  76.591522</td></tr>\n",
       "\t<tr><th scope=row>`holidaysMartin Luther King Jr. Day`</th><td> -74.514353</td></tr>\n",
       "\t<tr><th scope=row>`holidaysMemorial Day`</th><td>  -7.200429</td></tr>\n",
       "\t<tr><th scope=row>`holidaysNew Year's Day`</th><td>-254.832943</td></tr>\n",
       "\t<tr><th scope=row>`holidaysNext Day of the-Christmas Day`</th><td>  71.412754</td></tr>\n",
       "\t<tr><th scope=row>`holidaysNext Day of the-Columbus Day`</th><td>-192.515103</td></tr>\n",
       "\t<tr><th scope=row>`holidaysNext Day of the-Independence Day`</th><td>  11.138543</td></tr>\n",
       "\t<tr><th scope=row>...</th><td>...</td></tr>\n",
       "\t<tr><th scope=row>`promotionsReveal Your Deal Promo,15, 20% Off`</th><td>        NA</td></tr>\n",
       "\t<tr><th scope=row>`promotionsReveal Your Deal Promo,15, 20% Off,`</th><td> 192.76038</td></tr>\n",
       "\t<tr><th scope=row>`promotionsReveal Your Deal Promo,15, 20, 30% Off,`</th><td>-116.13000</td></tr>\n",
       "\t<tr><th scope=row>`promotionsReveal Your Deal Promo,20, 25, 30% Off,FS on $75`</th><td>  45.06506</td></tr>\n",
       "\t<tr><th scope=row>`promotionsReveal Your Deal, $10, $15, $20 Off`</th><td>        NA</td></tr>\n",
       "\t<tr><th scope=row>`promotionsThanks Giving`</th><td>        NA</td></tr>\n",
       "\t<tr><th scope=row>promotionsThanksgiving</th><td>        NA</td></tr>\n",
       "\t<tr><th scope=row>`promotionsTiered Promo`</th><td> -76.40006</td></tr>\n",
       "\t<tr><th scope=row>`promotionsTreat Thursday`</th><td> -62.16670</td></tr>\n",
       "\t<tr><th scope=row>`promotionsTreat Thursday,$10 Off,`</th><td>  -1.99035</td></tr>\n",
       "\t<tr><th scope=row>`promotionsTreat Thursday,$5 Off,FS on $35`</th><td>  33.21999</td></tr>\n",
       "\t<tr><th scope=row>`promotionsTreat Thursday,$5 Off,FS on $49`</th><td> -48.42265</td></tr>\n",
       "\t<tr><th scope=row>`promotionsTreat Thursday,12 Items,FS on $49`</th><td>-124.76444</td></tr>\n",
       "\t<tr><th scope=row>`promotionsTreat Thursday,12 Treats,FS on $49`</th><td> -53.32151</td></tr>\n",
       "\t<tr><th scope=row>`promotionsTreat Thursday,30-50% Off,FS on $49`</th><td>  49.35144</td></tr>\n",
       "\t<tr><th scope=row>`promotionsTreat Thursday,Buy $25 get $5 eGC ,`</th><td>  78.04037</td></tr>\n",
       "\t<tr><th scope=row>`promotionsTreat Thursday,Double Points,Up to 40% Off,FS on $49`</th><td> -51.61783</td></tr>\n",
       "\t<tr><th scope=row>`promotionsTreat Thursday,FS on $49`</th><td> -67.79947</td></tr>\n",
       "\t<tr><th scope=row>`promotionsTreat Thursday,Up To 30% Off on Toys,FS on $49`</th><td>-136.42916</td></tr>\n",
       "\t<tr><th scope=row>`promotionsTreat Thursday,Up to 50% on Select Items,20% Off,FS on $49`</th><td>-138.20324</td></tr>\n",
       "\t<tr><th scope=row>`promotionsUp To 15% Off,FS on $49`</th><td>-182.40730</td></tr>\n",
       "\t<tr><th scope=row>`promotionsUp To 20% Off,FS on $49`</th><td> -69.82790</td></tr>\n",
       "\t<tr><th scope=row>`promotionsUp To 25% Off, FS on $49`</th><td> 202.04880</td></tr>\n",
       "\t<tr><th scope=row>`promotionsUp To 25% Off,FS on $49`</th><td>        NA</td></tr>\n",
       "\t<tr><th scope=row>`promotionsUp To 35% Off,FS on $49`</th><td>-152.32260</td></tr>\n",
       "\t<tr><th scope=row>`promotionsUp To 40% Off plus $5 FS on $10, FS on $49`</th><td> -88.80930</td></tr>\n",
       "\t<tr><th scope=row>`promotionsUp To 40% Off,FS on $49`</th><td>-146.62342</td></tr>\n",
       "\t<tr><th scope=row>`promotionsUp To 50% Off,FS on $49`</th><td> -58.81208</td></tr>\n",
       "\t<tr><th scope=row>`promotionsUpto 75% offer`</th><td>        NA</td></tr>\n",
       "\t<tr><th scope=row>`promotionsValentine's Day,25% Off on Supplies,FS on $49`</th><td>        NA</td></tr>\n",
       "</tbody>\n",
       "</table>\n"
      ],
      "text/latex": [
       "\\begin{tabular}{r|l}\n",
       "  & model.coefficients\\\\\n",
       "\\hline\n",
       "\t(Intercept) &  686.410216\\\\\n",
       "\tdayFriday &  -75.886818\\\\\n",
       "\tdaySaturday & -114.474064\\\\\n",
       "\tdaySunday & -121.454166\\\\\n",
       "\tdayThursday & -107.771273\\\\\n",
       "\tdayTuesday &  -14.471350\\\\\n",
       "\tdayWednesday &  -46.728440\\\\\n",
       "\twom &   -6.780597\\\\\n",
       "\tmonthApr &  -81.093910\\\\\n",
       "\tmonthAug & -153.521260\\\\\n",
       "\tmonthDec &  -98.713286\\\\\n",
       "\tmonthFeb &  -53.278283\\\\\n",
       "\tmonthJul & -248.517139\\\\\n",
       "\tmonthJun & -225.150147\\\\\n",
       "\tmonthMar &  -64.898721\\\\\n",
       "\tmonthMay & -134.087400\\\\\n",
       "\tmonthNov & -187.140143\\\\\n",
       "\tmonthOct & -224.862569\\\\\n",
       "\tmonthSep & -161.152904\\\\\n",
       "\tyear &          NA\\\\\n",
       "\t`holidaysChristmas Day` & -452.803271\\\\\n",
       "\t`holidaysColumbus Day` &  -76.986453\\\\\n",
       "\t`holidaysIndependence Day` &   22.397761\\\\\n",
       "\t`holidaysLabor Day` &   76.591522\\\\\n",
       "\t`holidaysMartin Luther King Jr. Day` &  -74.514353\\\\\n",
       "\t`holidaysMemorial Day` &   -7.200429\\\\\n",
       "\t`holidaysNew Year's Day` & -254.832943\\\\\n",
       "\t`holidaysNext Day of the-Christmas Day` &   71.412754\\\\\n",
       "\t`holidaysNext Day of the-Columbus Day` & -192.515103\\\\\n",
       "\t`holidaysNext Day of the-Independence Day` &   11.138543\\\\\n",
       "\t... & ...\\\\\n",
       "\t`promotionsReveal Your Deal Promo,15, 20\\% Off` &         NA\\\\\n",
       "\t`promotionsReveal Your Deal Promo,15, 20\\% Off,` &  192.76038\\\\\n",
       "\t`promotionsReveal Your Deal Promo,15, 20, 30\\% Off,` & -116.13000\\\\\n",
       "\t`promotionsReveal Your Deal Promo,20, 25, 30\\% Off,FS on \\$75` &   45.06506\\\\\n",
       "\t`promotionsReveal Your Deal, \\$10, \\$15, \\$20 Off` &         NA\\\\\n",
       "\t`promotionsThanks Giving` &         NA\\\\\n",
       "\tpromotionsThanksgiving &         NA\\\\\n",
       "\t`promotionsTiered Promo` &  -76.40006\\\\\n",
       "\t`promotionsTreat Thursday` &  -62.16670\\\\\n",
       "\t`promotionsTreat Thursday,\\$10 Off,` &   -1.99035\\\\\n",
       "\t`promotionsTreat Thursday,\\$5 Off,FS on \\$35` &   33.21999\\\\\n",
       "\t`promotionsTreat Thursday,\\$5 Off,FS on \\$49` &  -48.42265\\\\\n",
       "\t`promotionsTreat Thursday,12 Items,FS on \\$49` & -124.76444\\\\\n",
       "\t`promotionsTreat Thursday,12 Treats,FS on \\$49` &  -53.32151\\\\\n",
       "\t`promotionsTreat Thursday,30-50\\% Off,FS on \\$49` &   49.35144\\\\\n",
       "\t`promotionsTreat Thursday,Buy \\$25 get \\$5 eGC ,` &   78.04037\\\\\n",
       "\t`promotionsTreat Thursday,Double Points,Up to 40\\% Off,FS on \\$49` &  -51.61783\\\\\n",
       "\t`promotionsTreat Thursday,FS on \\$49` &  -67.79947\\\\\n",
       "\t`promotionsTreat Thursday,Up To 30\\% Off on Toys,FS on \\$49` & -136.42916\\\\\n",
       "\t`promotionsTreat Thursday,Up to 50\\% on Select Items,20\\% Off,FS on \\$49` & -138.20324\\\\\n",
       "\t`promotionsUp To 15\\% Off,FS on \\$49` & -182.40730\\\\\n",
       "\t`promotionsUp To 20\\% Off,FS on \\$49` &  -69.82790\\\\\n",
       "\t`promotionsUp To 25\\% Off, FS on \\$49` &  202.04880\\\\\n",
       "\t`promotionsUp To 25\\% Off,FS on \\$49` &         NA\\\\\n",
       "\t`promotionsUp To 35\\% Off,FS on \\$49` & -152.32260\\\\\n",
       "\t`promotionsUp To 40\\% Off plus \\$5 FS on \\$10, FS on \\$49` &  -88.80930\\\\\n",
       "\t`promotionsUp To 40\\% Off,FS on \\$49` & -146.62342\\\\\n",
       "\t`promotionsUp To 50\\% Off,FS on \\$49` &  -58.81208\\\\\n",
       "\t`promotionsUpto 75\\% offer` &         NA\\\\\n",
       "\t`promotionsValentine's Day,25\\% Off on Supplies,FS on \\$49` &         NA\\\\\n",
       "\\end{tabular}\n"
      ],
      "text/markdown": [
       "\n",
       "| <!--/--> | model.coefficients |\n",
       "|---|---|\n",
       "| (Intercept) |  686.410216 |\n",
       "| dayFriday |  -75.886818 |\n",
       "| daySaturday | -114.474064 |\n",
       "| daySunday | -121.454166 |\n",
       "| dayThursday | -107.771273 |\n",
       "| dayTuesday |  -14.471350 |\n",
       "| dayWednesday |  -46.728440 |\n",
       "| wom |   -6.780597 |\n",
       "| monthApr |  -81.093910 |\n",
       "| monthAug | -153.521260 |\n",
       "| monthDec |  -98.713286 |\n",
       "| monthFeb |  -53.278283 |\n",
       "| monthJul | -248.517139 |\n",
       "| monthJun | -225.150147 |\n",
       "| monthMar |  -64.898721 |\n",
       "| monthMay | -134.087400 |\n",
       "| monthNov | -187.140143 |\n",
       "| monthOct | -224.862569 |\n",
       "| monthSep | -161.152904 |\n",
       "| year |          NA |\n",
       "| `holidaysChristmas Day` | -452.803271 |\n",
       "| `holidaysColumbus Day` |  -76.986453 |\n",
       "| `holidaysIndependence Day` |   22.397761 |\n",
       "| `holidaysLabor Day` |   76.591522 |\n",
       "| `holidaysMartin Luther King Jr. Day` |  -74.514353 |\n",
       "| `holidaysMemorial Day` |   -7.200429 |\n",
       "| `holidaysNew Year's Day` | -254.832943 |\n",
       "| `holidaysNext Day of the-Christmas Day` |   71.412754 |\n",
       "| `holidaysNext Day of the-Columbus Day` | -192.515103 |\n",
       "| `holidaysNext Day of the-Independence Day` |   11.138543 |\n",
       "| ... | ... |\n",
       "| `promotionsReveal Your Deal Promo,15, 20% Off` |         NA |\n",
       "| `promotionsReveal Your Deal Promo,15, 20% Off,` |  192.76038 |\n",
       "| `promotionsReveal Your Deal Promo,15, 20, 30% Off,` | -116.13000 |\n",
       "| `promotionsReveal Your Deal Promo,20, 25, 30% Off,FS on $75` |   45.06506 |\n",
       "| `promotionsReveal Your Deal, $10, $15, $20 Off` |         NA |\n",
       "| `promotionsThanks Giving` |         NA |\n",
       "| promotionsThanksgiving |         NA |\n",
       "| `promotionsTiered Promo` |  -76.40006 |\n",
       "| `promotionsTreat Thursday` |  -62.16670 |\n",
       "| `promotionsTreat Thursday,$10 Off,` |   -1.99035 |\n",
       "| `promotionsTreat Thursday,$5 Off,FS on $35` |   33.21999 |\n",
       "| `promotionsTreat Thursday,$5 Off,FS on $49` |  -48.42265 |\n",
       "| `promotionsTreat Thursday,12 Items,FS on $49` | -124.76444 |\n",
       "| `promotionsTreat Thursday,12 Treats,FS on $49` |  -53.32151 |\n",
       "| `promotionsTreat Thursday,30-50% Off,FS on $49` |   49.35144 |\n",
       "| `promotionsTreat Thursday,Buy $25 get $5 eGC ,` |   78.04037 |\n",
       "| `promotionsTreat Thursday,Double Points,Up to 40% Off,FS on $49` |  -51.61783 |\n",
       "| `promotionsTreat Thursday,FS on $49` |  -67.79947 |\n",
       "| `promotionsTreat Thursday,Up To 30% Off on Toys,FS on $49` | -136.42916 |\n",
       "| `promotionsTreat Thursday,Up to 50% on Select Items,20% Off,FS on $49` | -138.20324 |\n",
       "| `promotionsUp To 15% Off,FS on $49` | -182.40730 |\n",
       "| `promotionsUp To 20% Off,FS on $49` |  -69.82790 |\n",
       "| `promotionsUp To 25% Off, FS on $49` |  202.04880 |\n",
       "| `promotionsUp To 25% Off,FS on $49` |         NA |\n",
       "| `promotionsUp To 35% Off,FS on $49` | -152.32260 |\n",
       "| `promotionsUp To 40% Off plus $5 FS on $10, FS on $49` |  -88.80930 |\n",
       "| `promotionsUp To 40% Off,FS on $49` | -146.62342 |\n",
       "| `promotionsUp To 50% Off,FS on $49` |  -58.81208 |\n",
       "| `promotionsUpto 75% offer` |         NA |\n",
       "| `promotionsValentine's Day,25% Off on Supplies,FS on $49` |         NA |\n",
       "\n"
      ],
      "text/plain": [
       "                                                                       model.coefficients\n",
       "(Intercept)                                                             686.410216       \n",
       "dayFriday                                                               -75.886818       \n",
       "daySaturday                                                            -114.474064       \n",
       "daySunday                                                              -121.454166       \n",
       "dayThursday                                                            -107.771273       \n",
       "dayTuesday                                                              -14.471350       \n",
       "dayWednesday                                                            -46.728440       \n",
       "wom                                                                      -6.780597       \n",
       "monthApr                                                                -81.093910       \n",
       "monthAug                                                               -153.521260       \n",
       "monthDec                                                                -98.713286       \n",
       "monthFeb                                                                -53.278283       \n",
       "monthJul                                                               -248.517139       \n",
       "monthJun                                                               -225.150147       \n",
       "monthMar                                                                -64.898721       \n",
       "monthMay                                                               -134.087400       \n",
       "monthNov                                                               -187.140143       \n",
       "monthOct                                                               -224.862569       \n",
       "monthSep                                                               -161.152904       \n",
       "year                                                                            NA       \n",
       "`holidaysChristmas Day`                                                -452.803271       \n",
       "`holidaysColumbus Day`                                                  -76.986453       \n",
       "`holidaysIndependence Day`                                               22.397761       \n",
       "`holidaysLabor Day`                                                      76.591522       \n",
       "`holidaysMartin Luther King Jr. Day`                                    -74.514353       \n",
       "`holidaysMemorial Day`                                                   -7.200429       \n",
       "`holidaysNew Year's Day`                                               -254.832943       \n",
       "`holidaysNext Day of the-Christmas Day`                                  71.412754       \n",
       "`holidaysNext Day of the-Columbus Day`                                 -192.515103       \n",
       "`holidaysNext Day of the-Independence Day`                               11.138543       \n",
       "...                                                                    ...               \n",
       "`promotionsReveal Your Deal Promo,15, 20% Off`                                 NA        \n",
       "`promotionsReveal Your Deal Promo,15, 20% Off,`                         192.76038        \n",
       "`promotionsReveal Your Deal Promo,15, 20, 30% Off,`                    -116.13000        \n",
       "`promotionsReveal Your Deal Promo,20, 25, 30% Off,FS on $75`             45.06506        \n",
       "`promotionsReveal Your Deal, $10, $15, $20 Off`                                NA        \n",
       "`promotionsThanks Giving`                                                      NA        \n",
       "promotionsThanksgiving                                                         NA        \n",
       "`promotionsTiered Promo`                                                -76.40006        \n",
       "`promotionsTreat Thursday`                                              -62.16670        \n",
       "`promotionsTreat Thursday,$10 Off,`                                      -1.99035        \n",
       "`promotionsTreat Thursday,$5 Off,FS on $35`                              33.21999        \n",
       "`promotionsTreat Thursday,$5 Off,FS on $49`                             -48.42265        \n",
       "`promotionsTreat Thursday,12 Items,FS on $49`                          -124.76444        \n",
       "`promotionsTreat Thursday,12 Treats,FS on $49`                          -53.32151        \n",
       "`promotionsTreat Thursday,30-50% Off,FS on $49`                          49.35144        \n",
       "`promotionsTreat Thursday,Buy $25 get $5 eGC ,`                          78.04037        \n",
       "`promotionsTreat Thursday,Double Points,Up to 40% Off,FS on $49`        -51.61783        \n",
       "`promotionsTreat Thursday,FS on $49`                                    -67.79947        \n",
       "`promotionsTreat Thursday,Up To 30% Off on Toys,FS on $49`             -136.42916        \n",
       "`promotionsTreat Thursday,Up to 50% on Select Items,20% Off,FS on $49` -138.20324        \n",
       "`promotionsUp To 15% Off,FS on $49`                                    -182.40730        \n",
       "`promotionsUp To 20% Off,FS on $49`                                     -69.82790        \n",
       "`promotionsUp To 25% Off, FS on $49`                                    202.04880        \n",
       "`promotionsUp To 25% Off,FS on $49`                                            NA        \n",
       "`promotionsUp To 35% Off,FS on $49`                                    -152.32260        \n",
       "`promotionsUp To 40% Off plus $5 FS on $10, FS on $49`                  -88.80930        \n",
       "`promotionsUp To 40% Off,FS on $49`                                    -146.62342        \n",
       "`promotionsUp To 50% Off,FS on $49`                                     -58.81208        \n",
       "`promotionsUpto 75% offer`                                                     NA        \n",
       "`promotionsValentine's Day,25% Off on Supplies,FS on $49`                      NA        "
      ]
     },
     "metadata": {},
     "output_type": "display_data"
    }
   ],
   "source": [
    "model = lm(volume ~ ., data.train[,-1]) # model will predict volume given all other variables except date\n",
    "data.frame(model$coefficients)"
   ]
  },
  {
   "cell_type": "markdown",
   "metadata": {},
   "source": [
    "### Predictions"
   ]
  },
  {
   "cell_type": "code",
   "execution_count": 31,
   "metadata": {
    "hide_input": false,
    "scrolled": false
   },
   "outputs": [
    {
     "data": {
      "text/html": [
       "<table>\n",
       "<thead><tr><th></th><th scope=col>date</th><th scope=col>volume</th><th scope=col>volume.predicted</th></tr></thead>\n",
       "<tbody>\n",
       "\t<tr><th scope=row>366</th><td>2015-01-01</td><td>300       </td><td>317.0254  </td></tr>\n",
       "\t<tr><th scope=row>367</th><td>2015-01-02</td><td>419       </td><td>689.4385  </td></tr>\n",
       "\t<tr><th scope=row>368</th><td>2015-01-03</td><td>340       </td><td>565.1556  </td></tr>\n",
       "\t<tr><th scope=row>369</th><td>2015-01-04</td><td>404       </td><td>558.1755  </td></tr>\n",
       "\t<tr><th scope=row>370</th><td>2015-01-05</td><td>389       </td><td>674.5614  </td></tr>\n",
       "\t<tr><th scope=row>371</th><td>2015-01-06</td><td>510       </td><td>696.8772  </td></tr>\n",
       "</tbody>\n",
       "</table>\n"
      ],
      "text/latex": [
       "\\begin{tabular}{r|lll}\n",
       "  & date & volume & volume.predicted\\\\\n",
       "\\hline\n",
       "\t366 & 2015-01-01 & 300        & 317.0254  \\\\\n",
       "\t367 & 2015-01-02 & 419        & 689.4385  \\\\\n",
       "\t368 & 2015-01-03 & 340        & 565.1556  \\\\\n",
       "\t369 & 2015-01-04 & 404        & 558.1755  \\\\\n",
       "\t370 & 2015-01-05 & 389        & 674.5614  \\\\\n",
       "\t371 & 2015-01-06 & 510        & 696.8772  \\\\\n",
       "\\end{tabular}\n"
      ],
      "text/markdown": [
       "\n",
       "| <!--/--> | date | volume | volume.predicted |\n",
       "|---|---|---|---|\n",
       "| 366 | 2015-01-01 | 300        | 317.0254   |\n",
       "| 367 | 2015-01-02 | 419        | 689.4385   |\n",
       "| 368 | 2015-01-03 | 340        | 565.1556   |\n",
       "| 369 | 2015-01-04 | 404        | 558.1755   |\n",
       "| 370 | 2015-01-05 | 389        | 674.5614   |\n",
       "| 371 | 2015-01-06 | 510        | 696.8772   |\n",
       "\n"
      ],
      "text/plain": [
       "    date       volume volume.predicted\n",
       "366 2015-01-01 300    317.0254        \n",
       "367 2015-01-02 419    689.4385        \n",
       "368 2015-01-03 340    565.1556        \n",
       "369 2015-01-04 404    558.1755        \n",
       "370 2015-01-05 389    674.5614        \n",
       "371 2015-01-06 510    696.8772        "
      ]
     },
     "metadata": {},
     "output_type": "display_data"
    }
   ],
   "source": [
    "hide = 2:167\n",
    "data.test$volume.predicted = predict(model, data.test[,-1])\n",
    "data.test[1:6, -hide]"
   ]
  },
  {
   "cell_type": "code",
   "execution_count": 32,
   "metadata": {
    "hide_input": false,
    "scrolled": true
   },
   "outputs": [
    {
     "data": {
      "image/png": "[encoded data removed]",
      "text/plain": [
       "plot without title"
      ]
     },
     "metadata": {},
     "output_type": "display_data"
    }
   ],
   "source": [
    "ggplot(data.test) +\n",
    "geom_line(aes(x=date, y=volume, color=\"actual\")) +\n",
    "geom_line(aes(x=date, y=volume.predicted, color=\"predicted\")) + \n",
    "ylab(\"volume\")"
   ]
  },
  {
   "cell_type": "code",
   "execution_count": 33,
   "metadata": {
    "hide_input": false,
    "scrolled": false
   },
   "outputs": [
    {
     "data": {
      "text/html": [
       "<table>\n",
       "<thead><tr><th></th><th scope=col>date</th><th scope=col>volume</th><th scope=col>volume.predicted</th><th scope=col>volume.overstaffed</th><th scope=col>overstaffed</th><th scope=col>volume.understaffed</th><th scope=col>understaffed</th></tr></thead>\n",
       "<tbody>\n",
       "\t<tr><th scope=row>366</th><td>2015-01-01</td><td>300       </td><td>317.0254  </td><td> 17.0254  </td><td>TRUE      </td><td>0         </td><td>FALSE     </td></tr>\n",
       "\t<tr><th scope=row>367</th><td>2015-01-02</td><td>419       </td><td>689.4385  </td><td>270.4385  </td><td>TRUE      </td><td>0         </td><td>FALSE     </td></tr>\n",
       "\t<tr><th scope=row>368</th><td>2015-01-03</td><td>340       </td><td>565.1556  </td><td>225.1556  </td><td>TRUE      </td><td>0         </td><td>FALSE     </td></tr>\n",
       "\t<tr><th scope=row>369</th><td>2015-01-04</td><td>404       </td><td>558.1755  </td><td>154.1755  </td><td>TRUE      </td><td>0         </td><td>FALSE     </td></tr>\n",
       "\t<tr><th scope=row>370</th><td>2015-01-05</td><td>389       </td><td>674.5614  </td><td>285.5614  </td><td>TRUE      </td><td>0         </td><td>FALSE     </td></tr>\n",
       "\t<tr><th scope=row>371</th><td>2015-01-06</td><td>510       </td><td>696.8772  </td><td>186.8772  </td><td>TRUE      </td><td>0         </td><td>FALSE     </td></tr>\n",
       "</tbody>\n",
       "</table>\n"
      ],
      "text/latex": [
       "\\begin{tabular}{r|lllllll}\n",
       "  & date & volume & volume.predicted & volume.overstaffed & overstaffed & volume.understaffed & understaffed\\\\\n",
       "\\hline\n",
       "\t366 & 2015-01-01 & 300        & 317.0254   &  17.0254   & TRUE       & 0          & FALSE     \\\\\n",
       "\t367 & 2015-01-02 & 419        & 689.4385   & 270.4385   & TRUE       & 0          & FALSE     \\\\\n",
       "\t368 & 2015-01-03 & 340        & 565.1556   & 225.1556   & TRUE       & 0          & FALSE     \\\\\n",
       "\t369 & 2015-01-04 & 404        & 558.1755   & 154.1755   & TRUE       & 0          & FALSE     \\\\\n",
       "\t370 & 2015-01-05 & 389        & 674.5614   & 285.5614   & TRUE       & 0          & FALSE     \\\\\n",
       "\t371 & 2015-01-06 & 510        & 696.8772   & 186.8772   & TRUE       & 0          & FALSE     \\\\\n",
       "\\end{tabular}\n"
      ],
      "text/markdown": [
       "\n",
       "| <!--/--> | date | volume | volume.predicted | volume.overstaffed | overstaffed | volume.understaffed | understaffed |\n",
       "|---|---|---|---|---|---|---|---|\n",
       "| 366 | 2015-01-01 | 300        | 317.0254   |  17.0254   | TRUE       | 0          | FALSE      |\n",
       "| 367 | 2015-01-02 | 419        | 689.4385   | 270.4385   | TRUE       | 0          | FALSE      |\n",
       "| 368 | 2015-01-03 | 340        | 565.1556   | 225.1556   | TRUE       | 0          | FALSE      |\n",
       "| 369 | 2015-01-04 | 404        | 558.1755   | 154.1755   | TRUE       | 0          | FALSE      |\n",
       "| 370 | 2015-01-05 | 389        | 674.5614   | 285.5614   | TRUE       | 0          | FALSE      |\n",
       "| 371 | 2015-01-06 | 510        | 696.8772   | 186.8772   | TRUE       | 0          | FALSE      |\n",
       "\n"
      ],
      "text/plain": [
       "    date       volume volume.predicted volume.overstaffed overstaffed\n",
       "366 2015-01-01 300    317.0254          17.0254           TRUE       \n",
       "367 2015-01-02 419    689.4385         270.4385           TRUE       \n",
       "368 2015-01-03 340    565.1556         225.1556           TRUE       \n",
       "369 2015-01-04 404    558.1755         154.1755           TRUE       \n",
       "370 2015-01-05 389    674.5614         285.5614           TRUE       \n",
       "371 2015-01-06 510    696.8772         186.8772           TRUE       \n",
       "    volume.understaffed understaffed\n",
       "366 0                   FALSE       \n",
       "367 0                   FALSE       \n",
       "368 0                   FALSE       \n",
       "369 0                   FALSE       \n",
       "370 0                   FALSE       \n",
       "371 0                   FALSE       "
      ]
     },
     "metadata": {},
     "output_type": "display_data"
    }
   ],
   "source": [
    "data.test$volume.overstaffed = data.test$volume.predicted - data.test$volume\n",
    "data.test$volume.overstaffed[data.test$volume.overstaffed < 0] = 0\n",
    "data.test$overstaffed = data.test$volume.overstaffed >= 0\n",
    "\n",
    "data.test$volume.understaffed = data.test$volume - data.test$volume.predicted\n",
    "data.test$volume.understaffed[data.test$volume.understaffed < 0] = 0\n",
    "data.test$understaffed = data.test$volume.understaffed > threshold\n",
    "\n",
    "data.test[1:6, -hide]"
   ]
  },
  {
   "cell_type": "code",
   "execution_count": 34,
   "metadata": {
    "hide_input": false,
    "scrolled": true
   },
   "outputs": [
    {
     "data": {
      "image/png": "[encoded data removed]",
      "text/plain": [
       "plot without title"
      ]
     },
     "metadata": {},
     "output_type": "display_data"
    }
   ],
   "source": [
    "ggplot(data.test) +\n",
    "geom_line(aes(x=date, y=volume, color=\"actual\")) +\n",
    "geom_point(aes(x=date, y=volume.predicted, color=\"overstaffed\"), data=data.test[data.test$overstaffed,]) +\n",
    "geom_point(aes(x=date, y=volume.predicted, color=\"understaffed\"), data=data.test[data.test$understaffed,]) +\n",
    "scale_color_manual(values=c(actual=PALETTE[1], overstaffed=PALETTE[3], understaffed=PALETTE[4]))"
   ]
  },
  {
   "cell_type": "markdown",
   "metadata": {},
   "source": [
    "### Business Result"
   ]
  },
  {
   "cell_type": "markdown",
   "metadata": {},
   "source": [
    "#### Call Center Perspective"
   ]
  },
  {
   "cell_type": "code",
   "execution_count": 35,
   "metadata": {
    "hide_input": false
   },
   "outputs": [
    {
     "data": {
      "text/html": [
       "<table>\n",
       "<thead><tr><th scope=col>model</th><th scope=col>revenue</th><th scope=col>staff_cost</th><th scope=col>dissatisfaction_cost</th><th scope=col>cost</th><th scope=col>profit</th></tr></thead>\n",
       "<tbody>\n",
       "\t<tr><td>Linear Regression</td><td>1060117          </td><td>471982           </td><td>208692.4         </td><td>680674.4         </td><td>379442.8         </td></tr>\n",
       "</tbody>\n",
       "</table>\n"
      ],
      "text/latex": [
       "\\begin{tabular}{r|llllll}\n",
       " model & revenue & staff\\_cost & dissatisfaction\\_cost & cost & profit\\\\\n",
       "\\hline\n",
       "\t Linear Regression & 1060117           & 471982            & 208692.4          & 680674.4          & 379442.8         \\\\\n",
       "\\end{tabular}\n"
      ],
      "text/markdown": [
       "\n",
       "| model | revenue | staff_cost | dissatisfaction_cost | cost | profit |\n",
       "|---|---|---|---|---|---|\n",
       "| Linear Regression | 1060117           | 471982            | 208692.4          | 680674.4          | 379442.8          |\n",
       "\n"
      ],
      "text/plain": [
       "  model             revenue staff_cost dissatisfaction_cost cost     profit  \n",
       "1 Linear Regression 1060117 471982     208692.4             680674.4 379442.8"
      ]
     },
     "metadata": {},
     "output_type": "display_data"
    }
   ],
   "source": [
    "revenue = call_payrate * (sum(data.test$volume[data.test$overstaffed]) +\n",
    "                          sum(data.test$volume.predicted[data.test$understaffed]))\n",
    "\n",
    "staff_cost = (staff_payrate/handlerate) * sum(data.test$volume.predicted)\n",
    "\n",
    "dissatisfaction_cost = dissatisfaction_payrate * sum(data.test$volume.understaffed[data.test$understaffed])\n",
    "\n",
    "cost = staff_cost + dissatisfaction_cost\n",
    "profit = revenue - cost\n",
    "business_value.lr.cc = data.frame(model=\"Linear Regression\", revenue, staff_cost, dissatisfaction_cost, cost, profit)\n",
    "\n",
    "business_value.lr.cc"
   ]
  },
  {
   "cell_type": "markdown",
   "metadata": {},
   "source": [
    "#### Client Perspective"
   ]
  },
  {
   "cell_type": "code",
   "execution_count": 36,
   "metadata": {
    "hide_input": false
   },
   "outputs": [
    {
     "data": {
      "text/html": [
       "<table>\n",
       "<thead><tr><th scope=col>model</th><th scope=col>call_cost</th><th scope=col>dissatisfaction_credit</th><th scope=col>cost</th><th scope=col>savings</th><th scope=col>csat</th></tr></thead>\n",
       "<tbody>\n",
       "\t<tr><td>Linear Regression</td><td>1060117          </td><td>208692.4         </td><td>851424.8         </td><td>148575.2         </td><td>0.9312927        </td></tr>\n",
       "</tbody>\n",
       "</table>\n"
      ],
      "text/latex": [
       "\\begin{tabular}{r|llllll}\n",
       " model & call\\_cost & dissatisfaction\\_credit & cost & savings & csat\\\\\n",
       "\\hline\n",
       "\t Linear Regression & 1060117           & 208692.4          & 851424.8          & 148575.2          & 0.9312927        \\\\\n",
       "\\end{tabular}\n"
      ],
      "text/markdown": [
       "\n",
       "| model | call_cost | dissatisfaction_credit | cost | savings | csat |\n",
       "|---|---|---|---|---|---|\n",
       "| Linear Regression | 1060117           | 208692.4          | 851424.8          | 148575.2          | 0.9312927         |\n",
       "\n"
      ],
      "text/plain": [
       "  model             call_cost dissatisfaction_credit cost     savings \n",
       "1 Linear Regression 1060117   208692.4               851424.8 148575.2\n",
       "  csat     \n",
       "1 0.9312927"
      ]
     },
     "metadata": {},
     "output_type": "display_data"
    }
   ],
   "source": [
    "call_cost = call_payrate * (sum(data.test$volume[data.test$overstaffed]) +\n",
    "                            sum(data.test$volume.predicted[data.test$understaffed]))\n",
    "\n",
    "dissatisfaction_credit = dissatisfaction_payrate * sum(data.test$volume.understaffed[data.test$understaffed])\n",
    "\n",
    "cost = call_cost - dissatisfaction_credit\n",
    "savings = budget - cost\n",
    "\n",
    "csat = 1 - (sum(data.test$volume.understaffed) / sum(data.test$volume))\n",
    "\n",
    "business_value.lr.client = data.frame(model=\"Linear Regression\", call_cost, dissatisfaction_credit, cost, savings, csat)\n",
    "\n",
    "business_value.lr.client"
   ]
  },
  {
   "cell_type": "markdown",
   "metadata": {},
   "source": [
    "## Model D:  Linear Regression with Staffing Buffer"
   ]
  },
  {
   "cell_type": "code",
   "execution_count": 37,
   "metadata": {},
   "outputs": [
    {
     "data": {
      "text/html": [
       "<table>\n",
       " <thead>\n",
       "  <tr>\n",
       "   <th style=\"text-align:right;background-color: #FFFFFF !important;\"> buffer </th>\n",
       "  </tr>\n",
       " </thead>\n",
       "<tbody>\n",
       "  <tr>\n",
       "   <td style=\"text-align:right;\"> 50 </td>\n",
       "  </tr>\n",
       "</tbody>\n",
       "</table>"
      ]
     },
     "metadata": {},
     "output_type": "display_data"
    }
   ],
   "source": [
    "buffer = 50\n",
    "fmt(buffer)"
   ]
  },
  {
   "cell_type": "code",
   "execution_count": 38,
   "metadata": {},
   "outputs": [
    {
     "data": {
      "text/html": [
       "<table>\n",
       "<thead><tr><th></th><th scope=col>date</th><th scope=col>volume</th><th scope=col>volume.predicted</th></tr></thead>\n",
       "<tbody>\n",
       "\t<tr><th scope=row>366</th><td>2015-01-01</td><td>300       </td><td>367.0254  </td></tr>\n",
       "\t<tr><th scope=row>367</th><td>2015-01-02</td><td>419       </td><td>739.4385  </td></tr>\n",
       "\t<tr><th scope=row>368</th><td>2015-01-03</td><td>340       </td><td>615.1556  </td></tr>\n",
       "\t<tr><th scope=row>369</th><td>2015-01-04</td><td>404       </td><td>608.1755  </td></tr>\n",
       "\t<tr><th scope=row>370</th><td>2015-01-05</td><td>389       </td><td>724.5614  </td></tr>\n",
       "\t<tr><th scope=row>371</th><td>2015-01-06</td><td>510       </td><td>746.8772  </td></tr>\n",
       "</tbody>\n",
       "</table>\n"
      ],
      "text/latex": [
       "\\begin{tabular}{r|lll}\n",
       "  & date & volume & volume.predicted\\\\\n",
       "\\hline\n",
       "\t366 & 2015-01-01 & 300        & 367.0254  \\\\\n",
       "\t367 & 2015-01-02 & 419        & 739.4385  \\\\\n",
       "\t368 & 2015-01-03 & 340        & 615.1556  \\\\\n",
       "\t369 & 2015-01-04 & 404        & 608.1755  \\\\\n",
       "\t370 & 2015-01-05 & 389        & 724.5614  \\\\\n",
       "\t371 & 2015-01-06 & 510        & 746.8772  \\\\\n",
       "\\end{tabular}\n"
      ],
      "text/markdown": [
       "\n",
       "| <!--/--> | date | volume | volume.predicted |\n",
       "|---|---|---|---|\n",
       "| 366 | 2015-01-01 | 300        | 367.0254   |\n",
       "| 367 | 2015-01-02 | 419        | 739.4385   |\n",
       "| 368 | 2015-01-03 | 340        | 615.1556   |\n",
       "| 369 | 2015-01-04 | 404        | 608.1755   |\n",
       "| 370 | 2015-01-05 | 389        | 724.5614   |\n",
       "| 371 | 2015-01-06 | 510        | 746.8772   |\n",
       "\n"
      ],
      "text/plain": [
       "    date       volume volume.predicted\n",
       "366 2015-01-01 300    367.0254        \n",
       "367 2015-01-02 419    739.4385        \n",
       "368 2015-01-03 340    615.1556        \n",
       "369 2015-01-04 404    608.1755        \n",
       "370 2015-01-05 389    724.5614        \n",
       "371 2015-01-06 510    746.8772        "
      ]
     },
     "metadata": {},
     "output_type": "display_data"
    }
   ],
   "source": [
    "hide = 2:167\n",
    "data.test$volume.predicted = buffer+predict(model, data.test[,-1])\n",
    "data.test[1:6, -hide][,1:3]"
   ]
  },
  {
   "cell_type": "code",
   "execution_count": 39,
   "metadata": {},
   "outputs": [
    {
     "data": {
      "image/png": "[encoded data removed]",
      "text/plain": [
       "plot without title"
      ]
     },
     "metadata": {},
     "output_type": "display_data"
    }
   ],
   "source": [
    "ggplot(data.test) +\n",
    "geom_line(aes(x=date, y=volume, color=\"actual\")) +\n",
    "geom_line(aes(x=date, y=volume.predicted, color=\"predicted\"))"
   ]
  },
  {
   "cell_type": "code",
   "execution_count": 40,
   "metadata": {
    "hide_input": false,
    "scrolled": false
   },
   "outputs": [
    {
     "data": {
      "text/html": [
       "<table>\n",
       "<thead><tr><th></th><th scope=col>date</th><th scope=col>volume</th><th scope=col>volume.predicted</th><th scope=col>volume.overstaffed</th><th scope=col>overstaffed</th><th scope=col>volume.understaffed</th><th scope=col>understaffed</th></tr></thead>\n",
       "<tbody>\n",
       "\t<tr><th scope=row>366</th><td>2015-01-01</td><td>300       </td><td>367.0254  </td><td> 67.0254  </td><td>TRUE      </td><td>0         </td><td>FALSE     </td></tr>\n",
       "\t<tr><th scope=row>367</th><td>2015-01-02</td><td>419       </td><td>739.4385  </td><td>320.4385  </td><td>TRUE      </td><td>0         </td><td>FALSE     </td></tr>\n",
       "\t<tr><th scope=row>368</th><td>2015-01-03</td><td>340       </td><td>615.1556  </td><td>275.1556  </td><td>TRUE      </td><td>0         </td><td>FALSE     </td></tr>\n",
       "\t<tr><th scope=row>369</th><td>2015-01-04</td><td>404       </td><td>608.1755  </td><td>204.1755  </td><td>TRUE      </td><td>0         </td><td>FALSE     </td></tr>\n",
       "\t<tr><th scope=row>370</th><td>2015-01-05</td><td>389       </td><td>724.5614  </td><td>335.5614  </td><td>TRUE      </td><td>0         </td><td>FALSE     </td></tr>\n",
       "\t<tr><th scope=row>371</th><td>2015-01-06</td><td>510       </td><td>746.8772  </td><td>236.8772  </td><td>TRUE      </td><td>0         </td><td>FALSE     </td></tr>\n",
       "</tbody>\n",
       "</table>\n"
      ],
      "text/latex": [
       "\\begin{tabular}{r|lllllll}\n",
       "  & date & volume & volume.predicted & volume.overstaffed & overstaffed & volume.understaffed & understaffed\\\\\n",
       "\\hline\n",
       "\t366 & 2015-01-01 & 300        & 367.0254   &  67.0254   & TRUE       & 0          & FALSE     \\\\\n",
       "\t367 & 2015-01-02 & 419        & 739.4385   & 320.4385   & TRUE       & 0          & FALSE     \\\\\n",
       "\t368 & 2015-01-03 & 340        & 615.1556   & 275.1556   & TRUE       & 0          & FALSE     \\\\\n",
       "\t369 & 2015-01-04 & 404        & 608.1755   & 204.1755   & TRUE       & 0          & FALSE     \\\\\n",
       "\t370 & 2015-01-05 & 389        & 724.5614   & 335.5614   & TRUE       & 0          & FALSE     \\\\\n",
       "\t371 & 2015-01-06 & 510        & 746.8772   & 236.8772   & TRUE       & 0          & FALSE     \\\\\n",
       "\\end{tabular}\n"
      ],
      "text/markdown": [
       "\n",
       "| <!--/--> | date | volume | volume.predicted | volume.overstaffed | overstaffed | volume.understaffed | understaffed |\n",
       "|---|---|---|---|---|---|---|---|\n",
       "| 366 | 2015-01-01 | 300        | 367.0254   |  67.0254   | TRUE       | 0          | FALSE      |\n",
       "| 367 | 2015-01-02 | 419        | 739.4385   | 320.4385   | TRUE       | 0          | FALSE      |\n",
       "| 368 | 2015-01-03 | 340        | 615.1556   | 275.1556   | TRUE       | 0          | FALSE      |\n",
       "| 369 | 2015-01-04 | 404        | 608.1755   | 204.1755   | TRUE       | 0          | FALSE      |\n",
       "| 370 | 2015-01-05 | 389        | 724.5614   | 335.5614   | TRUE       | 0          | FALSE      |\n",
       "| 371 | 2015-01-06 | 510        | 746.8772   | 236.8772   | TRUE       | 0          | FALSE      |\n",
       "\n"
      ],
      "text/plain": [
       "    date       volume volume.predicted volume.overstaffed overstaffed\n",
       "366 2015-01-01 300    367.0254          67.0254           TRUE       \n",
       "367 2015-01-02 419    739.4385         320.4385           TRUE       \n",
       "368 2015-01-03 340    615.1556         275.1556           TRUE       \n",
       "369 2015-01-04 404    608.1755         204.1755           TRUE       \n",
       "370 2015-01-05 389    724.5614         335.5614           TRUE       \n",
       "371 2015-01-06 510    746.8772         236.8772           TRUE       \n",
       "    volume.understaffed understaffed\n",
       "366 0                   FALSE       \n",
       "367 0                   FALSE       \n",
       "368 0                   FALSE       \n",
       "369 0                   FALSE       \n",
       "370 0                   FALSE       \n",
       "371 0                   FALSE       "
      ]
     },
     "metadata": {},
     "output_type": "display_data"
    }
   ],
   "source": [
    "data.test$volume.overstaffed = data.test$volume.predicted - data.test$volume\n",
    "data.test$volume.overstaffed[data.test$volume.overstaffed < 0] = 0\n",
    "data.test$overstaffed = data.test$volume.overstaffed >= 0\n",
    "\n",
    "data.test$volume.understaffed = data.test$volume - data.test$volume.predicted\n",
    "data.test$volume.understaffed[data.test$volume.understaffed < 0] = 0\n",
    "data.test$understaffed = data.test$volume.understaffed > threshold\n",
    "\n",
    "data.test[1:6, -hide]"
   ]
  },
  {
   "cell_type": "code",
   "execution_count": 41,
   "metadata": {
    "hide_input": false,
    "scrolled": true
   },
   "outputs": [
    {
     "data": {
      "image/png": "[encoded data removed]",
      "text/plain": [
       "plot without title"
      ]
     },
     "metadata": {},
     "output_type": "display_data"
    }
   ],
   "source": [
    "ggplot(data.test) +\n",
    "geom_line(aes(x=date, y=volume, color=\"actual\")) +\n",
    "geom_point(aes(x=date, y=volume.predicted, color=\"overstaffed\"), data=data.test[data.test$overstaffed,]) +\n",
    "geom_point(aes(x=date, y=volume.predicted, color=\"understaffed\"), data=data.test[data.test$understaffed,]) +\n",
    "scale_color_manual(values=c(actual=PALETTE[1], overstaffed=PALETTE[3], understaffed=PALETTE[4]))"
   ]
  },
  {
   "cell_type": "markdown",
   "metadata": {},
   "source": [
    "### Business Result"
   ]
  },
  {
   "cell_type": "markdown",
   "metadata": {},
   "source": [
    "#### Call Center Perspective"
   ]
  },
  {
   "cell_type": "code",
   "execution_count": 42,
   "metadata": {
    "hide_input": false,
    "scrolled": true
   },
   "outputs": [
    {
     "data": {
      "text/html": [
       "<table>\n",
       "<thead><tr><th scope=col>model</th><th scope=col>revenue</th><th scope=col>staff_cost</th><th scope=col>dissatisfaction_cost</th><th scope=col>cost</th><th scope=col>profit</th></tr></thead>\n",
       "<tbody>\n",
       "\t<tr><td>Linear Regression + Buffer</td><td>991559.2                  </td><td>529648.7                  </td><td>107967                    </td><td>637615.6                  </td><td>353943.6                  </td></tr>\n",
       "</tbody>\n",
       "</table>\n"
      ],
      "text/latex": [
       "\\begin{tabular}{r|llllll}\n",
       " model & revenue & staff\\_cost & dissatisfaction\\_cost & cost & profit\\\\\n",
       "\\hline\n",
       "\t Linear Regression + Buffer & 991559.2                   & 529648.7                   & 107967                     & 637615.6                   & 353943.6                  \\\\\n",
       "\\end{tabular}\n"
      ],
      "text/markdown": [
       "\n",
       "| model | revenue | staff_cost | dissatisfaction_cost | cost | profit |\n",
       "|---|---|---|---|---|---|\n",
       "| Linear Regression + Buffer | 991559.2                   | 529648.7                   | 107967                     | 637615.6                   | 353943.6                   |\n",
       "\n"
      ],
      "text/plain": [
       "  model                      revenue  staff_cost dissatisfaction_cost cost    \n",
       "1 Linear Regression + Buffer 991559.2 529648.7   107967               637615.6\n",
       "  profit  \n",
       "1 353943.6"
      ]
     },
     "metadata": {},
     "output_type": "display_data"
    }
   ],
   "source": [
    "revenue = call_payrate * (sum(data.test$volume[data.test$overstaffed]) +\n",
    "                          sum(data.test$volume.predicted[data.test$understaffed]))\n",
    "\n",
    "staff_cost = (staff_payrate/handlerate) * sum(data.test$volume.predicted)\n",
    "\n",
    "dissatisfaction_cost = dissatisfaction_payrate * sum(data.test$volume.understaffed[data.test$understaffed])\n",
    "\n",
    "cost = staff_cost + dissatisfaction_cost\n",
    "profit = revenue - cost\n",
    "business_value.lrb.cc = data.frame(model=\"Linear Regression + Buffer\", revenue, staff_cost, dissatisfaction_cost, cost, profit)\n",
    "\n",
    "business_value.lrb.cc"
   ]
  },
  {
   "cell_type": "markdown",
   "metadata": {},
   "source": [
    "#### Client Perspective"
   ]
  },
  {
   "cell_type": "code",
   "execution_count": 43,
   "metadata": {
    "hide_input": false,
    "scrolled": true
   },
   "outputs": [
    {
     "data": {
      "text/html": [
       "<table>\n",
       "<thead><tr><th scope=col>model</th><th scope=col>call_cost</th><th scope=col>dissatisfaction_credit</th><th scope=col>cost</th><th scope=col>savings</th><th scope=col>csat</th></tr></thead>\n",
       "<tbody>\n",
       "\t<tr><td>Linear Regression + Buffer</td><td>991559.2                  </td><td>107967                    </td><td>883592.3                  </td><td>116407.7                  </td><td>0.9642675                 </td></tr>\n",
       "</tbody>\n",
       "</table>\n"
      ],
      "text/latex": [
       "\\begin{tabular}{r|llllll}\n",
       " model & call\\_cost & dissatisfaction\\_credit & cost & savings & csat\\\\\n",
       "\\hline\n",
       "\t Linear Regression + Buffer & 991559.2                   & 107967                     & 883592.3                   & 116407.7                   & 0.9642675                 \\\\\n",
       "\\end{tabular}\n"
      ],
      "text/markdown": [
       "\n",
       "| model | call_cost | dissatisfaction_credit | cost | savings | csat |\n",
       "|---|---|---|---|---|---|\n",
       "| Linear Regression + Buffer | 991559.2                   | 107967                     | 883592.3                   | 116407.7                   | 0.9642675                  |\n",
       "\n"
      ],
      "text/plain": [
       "  model                      call_cost dissatisfaction_credit cost     savings \n",
       "1 Linear Regression + Buffer 991559.2  107967                 883592.3 116407.7\n",
       "  csat     \n",
       "1 0.9642675"
      ]
     },
     "metadata": {},
     "output_type": "display_data"
    }
   ],
   "source": [
    "call_cost = call_payrate * (sum(data.test$volume[data.test$overstaffed]) +\n",
    "                            sum(data.test$volume.predicted[data.test$understaffed]))\n",
    "\n",
    "dissatisfaction_credit = dissatisfaction_payrate * sum(data.test$volume.understaffed[data.test$understaffed])\n",
    "\n",
    "cost = call_cost - dissatisfaction_credit\n",
    "savings = budget - cost\n",
    "\n",
    "csat = 1 - (sum(data.test$volume.understaffed) / sum(data.test$volume))\n",
    "\n",
    "business_value.lrb.client = data.frame(model=\"Linear Regression + Buffer\", call_cost, dissatisfaction_credit, cost, savings, csat)\n",
    "\n",
    "business_value.lrb.client"
   ]
  },
  {
   "cell_type": "markdown",
   "metadata": {},
   "source": [
    "## Model E: Piece-wise Linear Regression"
   ]
  },
  {
   "cell_type": "markdown",
   "metadata": {},
   "source": [
    "### Synthetic Variable for Halfyear "
   ]
  },
  {
   "cell_type": "code",
   "execution_count": 44,
   "metadata": {
    "hide_input": false,
    "scrolled": false
   },
   "outputs": [
    {
     "data": {
      "text/html": [
       "<table>\n",
       "<thead><tr><th scope=col>halfyear</th><th scope=col>date</th><th scope=col>dayFriday</th><th scope=col>daySaturday</th><th scope=col>daySunday</th><th scope=col>dayThursday</th><th scope=col>dayTuesday</th><th scope=col>dayWednesday</th><th scope=col>wom</th><th scope=col>monthApr</th><th scope=col>monthAug</th><th scope=col>monthDec</th><th scope=col>monthFeb</th><th scope=col>monthJul</th><th scope=col>monthJun</th><th scope=col>monthMar</th><th scope=col>monthMay</th><th scope=col>monthNov</th><th scope=col>monthOct</th><th scope=col>monthSep</th><th scope=col>year</th><th scope=col>holidaysChristmas Day</th><th scope=col>holidaysColumbus Day</th><th scope=col>holidaysIndependence Day</th><th scope=col>holidaysLabor Day</th><th scope=col>holidaysMartin Luther King Jr. Day</th><th scope=col>holidaysMemorial Day</th><th scope=col>holidaysNew Year's Day</th><th scope=col>holidaysNext Day of the-Christmas Day</th><th scope=col>holidaysNext Day of the-Columbus Day</th><th scope=col>holidaysNext Day of the-Independence Day</th><th scope=col>holidaysNext Day of the-Labor Day</th><th scope=col>holidaysNext Day of the-Martin Luther King Jr. Day</th><th scope=col>holidaysNext Day of the-Memorial Day</th><th scope=col>holidaysNext Day of the-New Year's Day</th><th scope=col>holidaysNext Day of the-President's Day</th><th scope=col>holidaysNext Day of the-Thanksgiving Day</th><th scope=col>...</th><th scope=col>promotionsRD Event</th><th scope=col>promotionsRD Event, Earn $20</th><th scope=col>promotionsRD Event,20% Off on Food,FS on $49</th><th scope=col>promotionsRD Event,Double Points</th><th scope=col>promotionsRD Event,Up To 15% Off,FS on $49</th><th scope=col>promotionsReveal Your Deal Promo,$10, $20, $30 Off,FS on $49</th><th scope=col>promotionsReveal Your Deal Promo,15, 20% Off</th><th scope=col>promotionsReveal Your Deal Promo,15, 20% Off,</th><th scope=col>promotionsReveal Your Deal Promo,15, 20, 30% Off,</th><th scope=col>promotionsReveal Your Deal Promo,20, 25, 30% Off,FS on $75</th><th scope=col>promotionsReveal Your Deal, $10, $15, $20 Off</th><th scope=col>promotionsThanks Giving</th><th scope=col>promotionsThanksgiving</th><th scope=col>promotionsTiered Promo</th><th scope=col>promotionsTreat Thursday</th><th scope=col>promotionsTreat Thursday,$10 Off,</th><th scope=col>promotionsTreat Thursday,$5 Off,FS on $35</th><th scope=col>promotionsTreat Thursday,$5 Off,FS on $49</th><th scope=col>promotionsTreat Thursday,12 Items,FS on $49</th><th scope=col>promotionsTreat Thursday,12 Treats,FS on $49</th><th scope=col>promotionsTreat Thursday,30-50% Off,FS on $49</th><th scope=col>promotionsTreat Thursday,Buy $25 get $5 eGC ,</th><th scope=col>promotionsTreat Thursday,Double Points,Up to 40% Off,FS on $49</th><th scope=col>promotionsTreat Thursday,FS on $49</th><th scope=col>promotionsTreat Thursday,Up To 30% Off on Toys,FS on $49</th><th scope=col>promotionsTreat Thursday,Up to 50% on Select Items,20% Off,FS on $49</th><th scope=col>promotionsUp To 15% Off,FS on $49</th><th scope=col>promotionsUp To 20% Off,FS on $49</th><th scope=col>promotionsUp To 25% Off, FS on $49</th><th scope=col>promotionsUp To 25% Off,FS on $49</th><th scope=col>promotionsUp To 35% Off,FS on $49</th><th scope=col>promotionsUp To 40% Off plus $5 FS on $10, FS on $49</th><th scope=col>promotionsUp To 40% Off,FS on $49</th><th scope=col>promotionsUp To 50% Off,FS on $49</th><th scope=col>promotionsUpto 75% offer</th><th scope=col>promotionsValentine's Day,25% Off on Supplies,FS on $49</th><th scope=col>volume</th></tr></thead>\n",
       "<tbody>\n",
       "\t<tr><td>1st_half  </td><td>2014-01-01</td><td>0         </td><td>0         </td><td>0         </td><td>0         </td><td>0         </td><td>1         </td><td>1         </td><td>0         </td><td>0         </td><td>0         </td><td>0         </td><td>0         </td><td>0         </td><td>0         </td><td>0         </td><td>0         </td><td>0         </td><td>0         </td><td>2014      </td><td>0         </td><td>0         </td><td>0         </td><td>0         </td><td>0         </td><td>0         </td><td>1         </td><td>0         </td><td>0         </td><td>0         </td><td>0         </td><td>0         </td><td>0         </td><td>0         </td><td>0         </td><td>0         </td><td>...       </td><td>0         </td><td>0         </td><td>0         </td><td>0         </td><td>0         </td><td>0         </td><td>0         </td><td>0         </td><td>0         </td><td>0         </td><td>0         </td><td>0         </td><td>0         </td><td>0         </td><td>0         </td><td>0         </td><td>0         </td><td>0         </td><td>0         </td><td>0         </td><td>0         </td><td>0         </td><td>0         </td><td>0         </td><td>0         </td><td>0         </td><td>0         </td><td>0         </td><td>0         </td><td>0         </td><td>0         </td><td>0         </td><td>0         </td><td>0         </td><td>0         </td><td>0         </td><td>373       </td></tr>\n",
       "\t<tr><td>1st_half  </td><td>2014-01-02</td><td>0         </td><td>0         </td><td>0         </td><td>1         </td><td>0         </td><td>0         </td><td>1         </td><td>0         </td><td>0         </td><td>0         </td><td>0         </td><td>0         </td><td>0         </td><td>0         </td><td>0         </td><td>0         </td><td>0         </td><td>0         </td><td>2014      </td><td>0         </td><td>0         </td><td>0         </td><td>0         </td><td>0         </td><td>0         </td><td>0         </td><td>0         </td><td>0         </td><td>0         </td><td>0         </td><td>0         </td><td>0         </td><td>1         </td><td>0         </td><td>0         </td><td>...       </td><td>0         </td><td>0         </td><td>0         </td><td>0         </td><td>0         </td><td>0         </td><td>0         </td><td>0         </td><td>0         </td><td>0         </td><td>0         </td><td>0         </td><td>0         </td><td>0         </td><td>0         </td><td>0         </td><td>0         </td><td>0         </td><td>0         </td><td>0         </td><td>0         </td><td>0         </td><td>0         </td><td>0         </td><td>0         </td><td>0         </td><td>0         </td><td>0         </td><td>0         </td><td>0         </td><td>0         </td><td>0         </td><td>0         </td><td>0         </td><td>0         </td><td>0         </td><td>497       </td></tr>\n",
       "\t<tr><td>1st_half  </td><td>2014-01-03</td><td>1         </td><td>0         </td><td>0         </td><td>0         </td><td>0         </td><td>0         </td><td>1         </td><td>0         </td><td>0         </td><td>0         </td><td>0         </td><td>0         </td><td>0         </td><td>0         </td><td>0         </td><td>0         </td><td>0         </td><td>0         </td><td>2014      </td><td>0         </td><td>0         </td><td>0         </td><td>0         </td><td>0         </td><td>0         </td><td>0         </td><td>0         </td><td>0         </td><td>0         </td><td>0         </td><td>0         </td><td>0         </td><td>0         </td><td>0         </td><td>0         </td><td>...       </td><td>0         </td><td>0         </td><td>0         </td><td>0         </td><td>0         </td><td>0         </td><td>0         </td><td>0         </td><td>0         </td><td>0         </td><td>0         </td><td>0         </td><td>0         </td><td>0         </td><td>0         </td><td>0         </td><td>0         </td><td>0         </td><td>0         </td><td>0         </td><td>0         </td><td>0         </td><td>0         </td><td>0         </td><td>0         </td><td>0         </td><td>0         </td><td>0         </td><td>0         </td><td>0         </td><td>0         </td><td>0         </td><td>0         </td><td>0         </td><td>0         </td><td>0         </td><td>467       </td></tr>\n",
       "\t<tr><td>1st_half  </td><td>2014-01-04</td><td>0         </td><td>1         </td><td>0         </td><td>0         </td><td>0         </td><td>0         </td><td>1         </td><td>0         </td><td>0         </td><td>0         </td><td>0         </td><td>0         </td><td>0         </td><td>0         </td><td>0         </td><td>0         </td><td>0         </td><td>0         </td><td>2014      </td><td>0         </td><td>0         </td><td>0         </td><td>0         </td><td>0         </td><td>0         </td><td>0         </td><td>0         </td><td>0         </td><td>0         </td><td>0         </td><td>0         </td><td>0         </td><td>0         </td><td>0         </td><td>0         </td><td>...       </td><td>0         </td><td>0         </td><td>0         </td><td>0         </td><td>0         </td><td>0         </td><td>0         </td><td>0         </td><td>0         </td><td>0         </td><td>0         </td><td>0         </td><td>0         </td><td>0         </td><td>0         </td><td>0         </td><td>0         </td><td>0         </td><td>0         </td><td>0         </td><td>0         </td><td>0         </td><td>0         </td><td>0         </td><td>0         </td><td>0         </td><td>0         </td><td>0         </td><td>0         </td><td>0         </td><td>0         </td><td>0         </td><td>0         </td><td>0         </td><td>0         </td><td>0         </td><td>430       </td></tr>\n",
       "\t<tr><td>1st_half  </td><td>2014-01-05</td><td>0         </td><td>0         </td><td>1         </td><td>0         </td><td>0         </td><td>0         </td><td>1         </td><td>0         </td><td>0         </td><td>0         </td><td>0         </td><td>0         </td><td>0         </td><td>0         </td><td>0         </td><td>0         </td><td>0         </td><td>0         </td><td>2014      </td><td>0         </td><td>0         </td><td>0         </td><td>0         </td><td>0         </td><td>0         </td><td>0         </td><td>0         </td><td>0         </td><td>0         </td><td>0         </td><td>0         </td><td>0         </td><td>0         </td><td>0         </td><td>0         </td><td>...       </td><td>0         </td><td>0         </td><td>0         </td><td>0         </td><td>0         </td><td>0         </td><td>0         </td><td>0         </td><td>0         </td><td>0         </td><td>0         </td><td>0         </td><td>0         </td><td>0         </td><td>0         </td><td>0         </td><td>0         </td><td>0         </td><td>0         </td><td>0         </td><td>0         </td><td>0         </td><td>0         </td><td>0         </td><td>0         </td><td>0         </td><td>0         </td><td>0         </td><td>0         </td><td>0         </td><td>0         </td><td>0         </td><td>0         </td><td>0         </td><td>0         </td><td>0         </td><td>523       </td></tr>\n",
       "\t<tr><td>1st_half  </td><td>2014-01-06</td><td>0         </td><td>0         </td><td>0         </td><td>0         </td><td>0         </td><td>0         </td><td>1         </td><td>0         </td><td>0         </td><td>0         </td><td>0         </td><td>0         </td><td>0         </td><td>0         </td><td>0         </td><td>0         </td><td>0         </td><td>0         </td><td>2014      </td><td>0         </td><td>0         </td><td>0         </td><td>0         </td><td>0         </td><td>0         </td><td>0         </td><td>0         </td><td>0         </td><td>0         </td><td>0         </td><td>0         </td><td>0         </td><td>0         </td><td>0         </td><td>0         </td><td>...       </td><td>0         </td><td>0         </td><td>0         </td><td>0         </td><td>0         </td><td>0         </td><td>0         </td><td>0         </td><td>0         </td><td>0         </td><td>0         </td><td>0         </td><td>0         </td><td>0         </td><td>0         </td><td>0         </td><td>0         </td><td>0         </td><td>0         </td><td>0         </td><td>0         </td><td>0         </td><td>0         </td><td>0         </td><td>0         </td><td>0         </td><td>0         </td><td>0         </td><td>0         </td><td>0         </td><td>0         </td><td>0         </td><td>0         </td><td>0         </td><td>0         </td><td>0         </td><td>617       </td></tr>\n",
       "</tbody>\n",
       "</table>\n"
      ],
      "text/latex": [
       "\\begin{tabular}{r|lllllllllllllllllllllllllllllllllllllllllllllllllllllllllllllllllllllllllllllllllllllllllllllllllllllllllllllllllllllllllllllllllllllllllllllllllllllllllllllllllllllllll}\n",
       " halfyear & date & dayFriday & daySaturday & daySunday & dayThursday & dayTuesday & dayWednesday & wom & monthApr & monthAug & monthDec & monthFeb & monthJul & monthJun & monthMar & monthMay & monthNov & monthOct & monthSep & year & holidaysChristmas Day & holidaysColumbus Day & holidaysIndependence Day & holidaysLabor Day & holidaysMartin Luther King Jr. Day & holidaysMemorial Day & holidaysNew Year's Day & holidaysNext Day of the-Christmas Day & holidaysNext Day of the-Columbus Day & holidaysNext Day of the-Independence Day & holidaysNext Day of the-Labor Day & holidaysNext Day of the-Martin Luther King Jr. Day & holidaysNext Day of the-Memorial Day & holidaysNext Day of the-New Year's Day & holidaysNext Day of the-President's Day & holidaysNext Day of the-Thanksgiving Day & ... & promotionsRD Event & promotionsRD Event, Earn \\$20 & promotionsRD Event,20\\% Off on Food,FS on \\$49 & promotionsRD Event,Double Points & promotionsRD Event,Up To 15\\% Off,FS on \\$49 & promotionsReveal Your Deal Promo,\\$10, \\$20, \\$30 Off,FS on \\$49 & promotionsReveal Your Deal Promo,15, 20\\% Off & promotionsReveal Your Deal Promo,15, 20\\% Off, & promotionsReveal Your Deal Promo,15, 20, 30\\% Off, & promotionsReveal Your Deal Promo,20, 25, 30\\% Off,FS on \\$75 & promotionsReveal Your Deal, \\$10, \\$15, \\$20 Off & promotionsThanks Giving & promotionsThanksgiving & promotionsTiered Promo & promotionsTreat Thursday & promotionsTreat Thursday,\\$10 Off, & promotionsTreat Thursday,\\$5 Off,FS on \\$35 & promotionsTreat Thursday,\\$5 Off,FS on \\$49 & promotionsTreat Thursday,12 Items,FS on \\$49 & promotionsTreat Thursday,12 Treats,FS on \\$49 & promotionsTreat Thursday,30-50\\% Off,FS on \\$49 & promotionsTreat Thursday,Buy \\$25 get \\$5 eGC , & promotionsTreat Thursday,Double Points,Up to 40\\% Off,FS on \\$49 & promotionsTreat Thursday,FS on \\$49 & promotionsTreat Thursday,Up To 30\\% Off on Toys,FS on \\$49 & promotionsTreat Thursday,Up to 50\\% on Select Items,20\\% Off,FS on \\$49 & promotionsUp To 15\\% Off,FS on \\$49 & promotionsUp To 20\\% Off,FS on \\$49 & promotionsUp To 25\\% Off, FS on \\$49 & promotionsUp To 25\\% Off,FS on \\$49 & promotionsUp To 35\\% Off,FS on \\$49 & promotionsUp To 40\\% Off plus \\$5 FS on \\$10, FS on \\$49 & promotionsUp To 40\\% Off,FS on \\$49 & promotionsUp To 50\\% Off,FS on \\$49 & promotionsUpto 75\\% offer & promotionsValentine's Day,25\\% Off on Supplies,FS on \\$49 & volume\\\\\n",
       "\\hline\n",
       "\t 1st\\_half & 2014-01-01 & 0          & 0          & 0          & 0          & 0          & 1          & 1          & 0          & 0          & 0          & 0          & 0          & 0          & 0          & 0          & 0          & 0          & 0          & 2014       & 0          & 0          & 0          & 0          & 0          & 0          & 1          & 0          & 0          & 0          & 0          & 0          & 0          & 0          & 0          & 0          & ...        & 0          & 0          & 0          & 0          & 0          & 0          & 0          & 0          & 0          & 0          & 0          & 0          & 0          & 0          & 0          & 0          & 0          & 0          & 0          & 0          & 0          & 0          & 0          & 0          & 0          & 0          & 0          & 0          & 0          & 0          & 0          & 0          & 0          & 0          & 0          & 0          & 373       \\\\\n",
       "\t 1st\\_half & 2014-01-02 & 0          & 0          & 0          & 1          & 0          & 0          & 1          & 0          & 0          & 0          & 0          & 0          & 0          & 0          & 0          & 0          & 0          & 0          & 2014       & 0          & 0          & 0          & 0          & 0          & 0          & 0          & 0          & 0          & 0          & 0          & 0          & 0          & 1          & 0          & 0          & ...        & 0          & 0          & 0          & 0          & 0          & 0          & 0          & 0          & 0          & 0          & 0          & 0          & 0          & 0          & 0          & 0          & 0          & 0          & 0          & 0          & 0          & 0          & 0          & 0          & 0          & 0          & 0          & 0          & 0          & 0          & 0          & 0          & 0          & 0          & 0          & 0          & 497       \\\\\n",
       "\t 1st\\_half & 2014-01-03 & 1          & 0          & 0          & 0          & 0          & 0          & 1          & 0          & 0          & 0          & 0          & 0          & 0          & 0          & 0          & 0          & 0          & 0          & 2014       & 0          & 0          & 0          & 0          & 0          & 0          & 0          & 0          & 0          & 0          & 0          & 0          & 0          & 0          & 0          & 0          & ...        & 0          & 0          & 0          & 0          & 0          & 0          & 0          & 0          & 0          & 0          & 0          & 0          & 0          & 0          & 0          & 0          & 0          & 0          & 0          & 0          & 0          & 0          & 0          & 0          & 0          & 0          & 0          & 0          & 0          & 0          & 0          & 0          & 0          & 0          & 0          & 0          & 467       \\\\\n",
       "\t 1st\\_half & 2014-01-04 & 0          & 1          & 0          & 0          & 0          & 0          & 1          & 0          & 0          & 0          & 0          & 0          & 0          & 0          & 0          & 0          & 0          & 0          & 2014       & 0          & 0          & 0          & 0          & 0          & 0          & 0          & 0          & 0          & 0          & 0          & 0          & 0          & 0          & 0          & 0          & ...        & 0          & 0          & 0          & 0          & 0          & 0          & 0          & 0          & 0          & 0          & 0          & 0          & 0          & 0          & 0          & 0          & 0          & 0          & 0          & 0          & 0          & 0          & 0          & 0          & 0          & 0          & 0          & 0          & 0          & 0          & 0          & 0          & 0          & 0          & 0          & 0          & 430       \\\\\n",
       "\t 1st\\_half & 2014-01-05 & 0          & 0          & 1          & 0          & 0          & 0          & 1          & 0          & 0          & 0          & 0          & 0          & 0          & 0          & 0          & 0          & 0          & 0          & 2014       & 0          & 0          & 0          & 0          & 0          & 0          & 0          & 0          & 0          & 0          & 0          & 0          & 0          & 0          & 0          & 0          & ...        & 0          & 0          & 0          & 0          & 0          & 0          & 0          & 0          & 0          & 0          & 0          & 0          & 0          & 0          & 0          & 0          & 0          & 0          & 0          & 0          & 0          & 0          & 0          & 0          & 0          & 0          & 0          & 0          & 0          & 0          & 0          & 0          & 0          & 0          & 0          & 0          & 523       \\\\\n",
       "\t 1st\\_half & 2014-01-06 & 0          & 0          & 0          & 0          & 0          & 0          & 1          & 0          & 0          & 0          & 0          & 0          & 0          & 0          & 0          & 0          & 0          & 0          & 2014       & 0          & 0          & 0          & 0          & 0          & 0          & 0          & 0          & 0          & 0          & 0          & 0          & 0          & 0          & 0          & 0          & ...        & 0          & 0          & 0          & 0          & 0          & 0          & 0          & 0          & 0          & 0          & 0          & 0          & 0          & 0          & 0          & 0          & 0          & 0          & 0          & 0          & 0          & 0          & 0          & 0          & 0          & 0          & 0          & 0          & 0          & 0          & 0          & 0          & 0          & 0          & 0          & 0          & 617       \\\\\n",
       "\\end{tabular}\n"
      ],
      "text/markdown": [
       "\n",
       "| halfyear | date | dayFriday | daySaturday | daySunday | dayThursday | dayTuesday | dayWednesday | wom | monthApr | monthAug | monthDec | monthFeb | monthJul | monthJun | monthMar | monthMay | monthNov | monthOct | monthSep | year | holidaysChristmas Day | holidaysColumbus Day | holidaysIndependence Day | holidaysLabor Day | holidaysMartin Luther King Jr. Day | holidaysMemorial Day | holidaysNew Year's Day | holidaysNext Day of the-Christmas Day | holidaysNext Day of the-Columbus Day | holidaysNext Day of the-Independence Day | holidaysNext Day of the-Labor Day | holidaysNext Day of the-Martin Luther King Jr. Day | holidaysNext Day of the-Memorial Day | holidaysNext Day of the-New Year's Day | holidaysNext Day of the-President's Day | holidaysNext Day of the-Thanksgiving Day | ... | promotionsRD Event | promotionsRD Event, Earn $20 | promotionsRD Event,20% Off on Food,FS on $49 | promotionsRD Event,Double Points | promotionsRD Event,Up To 15% Off,FS on $49 | promotionsReveal Your Deal Promo,$10, $20, $30 Off,FS on $49 | promotionsReveal Your Deal Promo,15, 20% Off | promotionsReveal Your Deal Promo,15, 20% Off, | promotionsReveal Your Deal Promo,15, 20, 30% Off, | promotionsReveal Your Deal Promo,20, 25, 30% Off,FS on $75 | promotionsReveal Your Deal, $10, $15, $20 Off | promotionsThanks Giving | promotionsThanksgiving | promotionsTiered Promo | promotionsTreat Thursday | promotionsTreat Thursday,$10 Off, | promotionsTreat Thursday,$5 Off,FS on $35 | promotionsTreat Thursday,$5 Off,FS on $49 | promotionsTreat Thursday,12 Items,FS on $49 | promotionsTreat Thursday,12 Treats,FS on $49 | promotionsTreat Thursday,30-50% Off,FS on $49 | promotionsTreat Thursday,Buy $25 get $5 eGC , | promotionsTreat Thursday,Double Points,Up to 40% Off,FS on $49 | promotionsTreat Thursday,FS on $49 | promotionsTreat Thursday,Up To 30% Off on Toys,FS on $49 | promotionsTreat Thursday,Up to 50% on Select Items,20% Off,FS on $49 | promotionsUp To 15% Off,FS on $49 | promotionsUp To 20% Off,FS on $49 | promotionsUp To 25% Off, FS on $49 | promotionsUp To 25% Off,FS on $49 | promotionsUp To 35% Off,FS on $49 | promotionsUp To 40% Off plus $5 FS on $10, FS on $49 | promotionsUp To 40% Off,FS on $49 | promotionsUp To 50% Off,FS on $49 | promotionsUpto 75% offer | promotionsValentine's Day,25% Off on Supplies,FS on $49 | volume |\n",
       "|---|---|---|---|---|---|---|---|---|---|---|---|---|---|---|---|---|---|---|---|---|---|---|---|---|---|---|---|---|---|---|---|---|---|---|---|---|---|---|---|---|---|---|---|---|---|---|---|---|---|---|---|---|---|---|---|---|---|---|---|---|---|---|---|---|---|---|---|---|---|---|---|---|---|---|\n",
       "| 1st_half   | 2014-01-01 | 0          | 0          | 0          | 0          | 0          | 1          | 1          | 0          | 0          | 0          | 0          | 0          | 0          | 0          | 0          | 0          | 0          | 0          | 2014       | 0          | 0          | 0          | 0          | 0          | 0          | 1          | 0          | 0          | 0          | 0          | 0          | 0          | 0          | 0          | 0          | ...        | 0          | 0          | 0          | 0          | 0          | 0          | 0          | 0          | 0          | 0          | 0          | 0          | 0          | 0          | 0          | 0          | 0          | 0          | 0          | 0          | 0          | 0          | 0          | 0          | 0          | 0          | 0          | 0          | 0          | 0          | 0          | 0          | 0          | 0          | 0          | 0          | 373        |\n",
       "| 1st_half   | 2014-01-02 | 0          | 0          | 0          | 1          | 0          | 0          | 1          | 0          | 0          | 0          | 0          | 0          | 0          | 0          | 0          | 0          | 0          | 0          | 2014       | 0          | 0          | 0          | 0          | 0          | 0          | 0          | 0          | 0          | 0          | 0          | 0          | 0          | 1          | 0          | 0          | ...        | 0          | 0          | 0          | 0          | 0          | 0          | 0          | 0          | 0          | 0          | 0          | 0          | 0          | 0          | 0          | 0          | 0          | 0          | 0          | 0          | 0          | 0          | 0          | 0          | 0          | 0          | 0          | 0          | 0          | 0          | 0          | 0          | 0          | 0          | 0          | 0          | 497        |\n",
       "| 1st_half   | 2014-01-03 | 1          | 0          | 0          | 0          | 0          | 0          | 1          | 0          | 0          | 0          | 0          | 0          | 0          | 0          | 0          | 0          | 0          | 0          | 2014       | 0          | 0          | 0          | 0          | 0          | 0          | 0          | 0          | 0          | 0          | 0          | 0          | 0          | 0          | 0          | 0          | ...        | 0          | 0          | 0          | 0          | 0          | 0          | 0          | 0          | 0          | 0          | 0          | 0          | 0          | 0          | 0          | 0          | 0          | 0          | 0          | 0          | 0          | 0          | 0          | 0          | 0          | 0          | 0          | 0          | 0          | 0          | 0          | 0          | 0          | 0          | 0          | 0          | 467        |\n",
       "| 1st_half   | 2014-01-04 | 0          | 1          | 0          | 0          | 0          | 0          | 1          | 0          | 0          | 0          | 0          | 0          | 0          | 0          | 0          | 0          | 0          | 0          | 2014       | 0          | 0          | 0          | 0          | 0          | 0          | 0          | 0          | 0          | 0          | 0          | 0          | 0          | 0          | 0          | 0          | ...        | 0          | 0          | 0          | 0          | 0          | 0          | 0          | 0          | 0          | 0          | 0          | 0          | 0          | 0          | 0          | 0          | 0          | 0          | 0          | 0          | 0          | 0          | 0          | 0          | 0          | 0          | 0          | 0          | 0          | 0          | 0          | 0          | 0          | 0          | 0          | 0          | 430        |\n",
       "| 1st_half   | 2014-01-05 | 0          | 0          | 1          | 0          | 0          | 0          | 1          | 0          | 0          | 0          | 0          | 0          | 0          | 0          | 0          | 0          | 0          | 0          | 2014       | 0          | 0          | 0          | 0          | 0          | 0          | 0          | 0          | 0          | 0          | 0          | 0          | 0          | 0          | 0          | 0          | ...        | 0          | 0          | 0          | 0          | 0          | 0          | 0          | 0          | 0          | 0          | 0          | 0          | 0          | 0          | 0          | 0          | 0          | 0          | 0          | 0          | 0          | 0          | 0          | 0          | 0          | 0          | 0          | 0          | 0          | 0          | 0          | 0          | 0          | 0          | 0          | 0          | 523        |\n",
       "| 1st_half   | 2014-01-06 | 0          | 0          | 0          | 0          | 0          | 0          | 1          | 0          | 0          | 0          | 0          | 0          | 0          | 0          | 0          | 0          | 0          | 0          | 2014       | 0          | 0          | 0          | 0          | 0          | 0          | 0          | 0          | 0          | 0          | 0          | 0          | 0          | 0          | 0          | 0          | ...        | 0          | 0          | 0          | 0          | 0          | 0          | 0          | 0          | 0          | 0          | 0          | 0          | 0          | 0          | 0          | 0          | 0          | 0          | 0          | 0          | 0          | 0          | 0          | 0          | 0          | 0          | 0          | 0          | 0          | 0          | 0          | 0          | 0          | 0          | 0          | 0          | 617        |\n",
       "\n"
      ],
      "text/plain": [
       "  halfyear date       dayFriday daySaturday daySunday dayThursday dayTuesday\n",
       "1 1st_half 2014-01-01 0         0           0         0           0         \n",
       "2 1st_half 2014-01-02 0         0           0         1           0         \n",
       "3 1st_half 2014-01-03 1         0           0         0           0         \n",
       "4 1st_half 2014-01-04 0         1           0         0           0         \n",
       "5 1st_half 2014-01-05 0         0           1         0           0         \n",
       "6 1st_half 2014-01-06 0         0           0         0           0         \n",
       "  dayWednesday wom monthApr monthAug monthDec monthFeb monthJul monthJun\n",
       "1 1            1   0        0        0        0        0        0       \n",
       "2 0            1   0        0        0        0        0        0       \n",
       "3 0            1   0        0        0        0        0        0       \n",
       "4 0            1   0        0        0        0        0        0       \n",
       "5 0            1   0        0        0        0        0        0       \n",
       "6 0            1   0        0        0        0        0        0       \n",
       "  monthMar monthMay monthNov monthOct monthSep year holidaysChristmas Day\n",
       "1 0        0        0        0        0        2014 0                    \n",
       "2 0        0        0        0        0        2014 0                    \n",
       "3 0        0        0        0        0        2014 0                    \n",
       "4 0        0        0        0        0        2014 0                    \n",
       "5 0        0        0        0        0        2014 0                    \n",
       "6 0        0        0        0        0        2014 0                    \n",
       "  holidaysColumbus Day holidaysIndependence Day holidaysLabor Day\n",
       "1 0                    0                        0                \n",
       "2 0                    0                        0                \n",
       "3 0                    0                        0                \n",
       "4 0                    0                        0                \n",
       "5 0                    0                        0                \n",
       "6 0                    0                        0                \n",
       "  holidaysMartin Luther King Jr. Day holidaysMemorial Day\n",
       "1 0                                  0                   \n",
       "2 0                                  0                   \n",
       "3 0                                  0                   \n",
       "4 0                                  0                   \n",
       "5 0                                  0                   \n",
       "6 0                                  0                   \n",
       "  holidaysNew Year's Day holidaysNext Day of the-Christmas Day\n",
       "1 1                      0                                    \n",
       "2 0                      0                                    \n",
       "3 0                      0                                    \n",
       "4 0                      0                                    \n",
       "5 0                      0                                    \n",
       "6 0                      0                                    \n",
       "  holidaysNext Day of the-Columbus Day holidaysNext Day of the-Independence Day\n",
       "1 0                                    0                                       \n",
       "2 0                                    0                                       \n",
       "3 0                                    0                                       \n",
       "4 0                                    0                                       \n",
       "5 0                                    0                                       \n",
       "6 0                                    0                                       \n",
       "  holidaysNext Day of the-Labor Day\n",
       "1 0                                \n",
       "2 0                                \n",
       "3 0                                \n",
       "4 0                                \n",
       "5 0                                \n",
       "6 0                                \n",
       "  holidaysNext Day of the-Martin Luther King Jr. Day\n",
       "1 0                                                 \n",
       "2 0                                                 \n",
       "3 0                                                 \n",
       "4 0                                                 \n",
       "5 0                                                 \n",
       "6 0                                                 \n",
       "  holidaysNext Day of the-Memorial Day holidaysNext Day of the-New Year's Day\n",
       "1 0                                    0                                     \n",
       "2 0                                    1                                     \n",
       "3 0                                    0                                     \n",
       "4 0                                    0                                     \n",
       "5 0                                    0                                     \n",
       "6 0                                    0                                     \n",
       "  holidaysNext Day of the-President's Day\n",
       "1 0                                      \n",
       "2 0                                      \n",
       "3 0                                      \n",
       "4 0                                      \n",
       "5 0                                      \n",
       "6 0                                      \n",
       "  holidaysNext Day of the-Thanksgiving Day ... promotionsRD Event\n",
       "1 0                                        ... 0                 \n",
       "2 0                                        ... 0                 \n",
       "3 0                                        ... 0                 \n",
       "4 0                                        ... 0                 \n",
       "5 0                                        ... 0                 \n",
       "6 0                                        ... 0                 \n",
       "  promotionsRD Event, Earn $20 promotionsRD Event,20% Off on Food,FS on $49\n",
       "1 0                            0                                           \n",
       "2 0                            0                                           \n",
       "3 0                            0                                           \n",
       "4 0                            0                                           \n",
       "5 0                            0                                           \n",
       "6 0                            0                                           \n",
       "  promotionsRD Event,Double Points promotionsRD Event,Up To 15% Off,FS on $49\n",
       "1 0                                0                                         \n",
       "2 0                                0                                         \n",
       "3 0                                0                                         \n",
       "4 0                                0                                         \n",
       "5 0                                0                                         \n",
       "6 0                                0                                         \n",
       "  promotionsReveal Your Deal Promo,$10, $20, $30 Off,FS on $49\n",
       "1 0                                                           \n",
       "2 0                                                           \n",
       "3 0                                                           \n",
       "4 0                                                           \n",
       "5 0                                                           \n",
       "6 0                                                           \n",
       "  promotionsReveal Your Deal Promo,15, 20% Off\n",
       "1 0                                           \n",
       "2 0                                           \n",
       "3 0                                           \n",
       "4 0                                           \n",
       "5 0                                           \n",
       "6 0                                           \n",
       "  promotionsReveal Your Deal Promo,15, 20% Off,\n",
       "1 0                                            \n",
       "2 0                                            \n",
       "3 0                                            \n",
       "4 0                                            \n",
       "5 0                                            \n",
       "6 0                                            \n",
       "  promotionsReveal Your Deal Promo,15, 20, 30% Off,\n",
       "1 0                                                \n",
       "2 0                                                \n",
       "3 0                                                \n",
       "4 0                                                \n",
       "5 0                                                \n",
       "6 0                                                \n",
       "  promotionsReveal Your Deal Promo,20, 25, 30% Off,FS on $75\n",
       "1 0                                                         \n",
       "2 0                                                         \n",
       "3 0                                                         \n",
       "4 0                                                         \n",
       "5 0                                                         \n",
       "6 0                                                         \n",
       "  promotionsReveal Your Deal, $10, $15, $20 Off promotionsThanks Giving\n",
       "1 0                                             0                      \n",
       "2 0                                             0                      \n",
       "3 0                                             0                      \n",
       "4 0                                             0                      \n",
       "5 0                                             0                      \n",
       "6 0                                             0                      \n",
       "  promotionsThanksgiving promotionsTiered Promo promotionsTreat Thursday\n",
       "1 0                      0                      0                       \n",
       "2 0                      0                      0                       \n",
       "3 0                      0                      0                       \n",
       "4 0                      0                      0                       \n",
       "5 0                      0                      0                       \n",
       "6 0                      0                      0                       \n",
       "  promotionsTreat Thursday,$10 Off, promotionsTreat Thursday,$5 Off,FS on $35\n",
       "1 0                                 0                                        \n",
       "2 0                                 0                                        \n",
       "3 0                                 0                                        \n",
       "4 0                                 0                                        \n",
       "5 0                                 0                                        \n",
       "6 0                                 0                                        \n",
       "  promotionsTreat Thursday,$5 Off,FS on $49\n",
       "1 0                                        \n",
       "2 0                                        \n",
       "3 0                                        \n",
       "4 0                                        \n",
       "5 0                                        \n",
       "6 0                                        \n",
       "  promotionsTreat Thursday,12 Items,FS on $49\n",
       "1 0                                          \n",
       "2 0                                          \n",
       "3 0                                          \n",
       "4 0                                          \n",
       "5 0                                          \n",
       "6 0                                          \n",
       "  promotionsTreat Thursday,12 Treats,FS on $49\n",
       "1 0                                           \n",
       "2 0                                           \n",
       "3 0                                           \n",
       "4 0                                           \n",
       "5 0                                           \n",
       "6 0                                           \n",
       "  promotionsTreat Thursday,30-50% Off,FS on $49\n",
       "1 0                                            \n",
       "2 0                                            \n",
       "3 0                                            \n",
       "4 0                                            \n",
       "5 0                                            \n",
       "6 0                                            \n",
       "  promotionsTreat Thursday,Buy $25 get $5 eGC ,\n",
       "1 0                                            \n",
       "2 0                                            \n",
       "3 0                                            \n",
       "4 0                                            \n",
       "5 0                                            \n",
       "6 0                                            \n",
       "  promotionsTreat Thursday,Double Points,Up to 40% Off,FS on $49\n",
       "1 0                                                             \n",
       "2 0                                                             \n",
       "3 0                                                             \n",
       "4 0                                                             \n",
       "5 0                                                             \n",
       "6 0                                                             \n",
       "  promotionsTreat Thursday,FS on $49\n",
       "1 0                                 \n",
       "2 0                                 \n",
       "3 0                                 \n",
       "4 0                                 \n",
       "5 0                                 \n",
       "6 0                                 \n",
       "  promotionsTreat Thursday,Up To 30% Off on Toys,FS on $49\n",
       "1 0                                                       \n",
       "2 0                                                       \n",
       "3 0                                                       \n",
       "4 0                                                       \n",
       "5 0                                                       \n",
       "6 0                                                       \n",
       "  promotionsTreat Thursday,Up to 50% on Select Items,20% Off,FS on $49\n",
       "1 0                                                                   \n",
       "2 0                                                                   \n",
       "3 0                                                                   \n",
       "4 0                                                                   \n",
       "5 0                                                                   \n",
       "6 0                                                                   \n",
       "  promotionsUp To 15% Off,FS on $49 promotionsUp To 20% Off,FS on $49\n",
       "1 0                                 0                                \n",
       "2 0                                 0                                \n",
       "3 0                                 0                                \n",
       "4 0                                 0                                \n",
       "5 0                                 0                                \n",
       "6 0                                 0                                \n",
       "  promotionsUp To 25% Off, FS on $49 promotionsUp To 25% Off,FS on $49\n",
       "1 0                                  0                                \n",
       "2 0                                  0                                \n",
       "3 0                                  0                                \n",
       "4 0                                  0                                \n",
       "5 0                                  0                                \n",
       "6 0                                  0                                \n",
       "  promotionsUp To 35% Off,FS on $49\n",
       "1 0                                \n",
       "2 0                                \n",
       "3 0                                \n",
       "4 0                                \n",
       "5 0                                \n",
       "6 0                                \n",
       "  promotionsUp To 40% Off plus $5 FS on $10, FS on $49\n",
       "1 0                                                   \n",
       "2 0                                                   \n",
       "3 0                                                   \n",
       "4 0                                                   \n",
       "5 0                                                   \n",
       "6 0                                                   \n",
       "  promotionsUp To 40% Off,FS on $49 promotionsUp To 50% Off,FS on $49\n",
       "1 0                                 0                                \n",
       "2 0                                 0                                \n",
       "3 0                                 0                                \n",
       "4 0                                 0                                \n",
       "5 0                                 0                                \n",
       "6 0                                 0                                \n",
       "  promotionsUpto 75% offer\n",
       "1 0                       \n",
       "2 0                       \n",
       "3 0                       \n",
       "4 0                       \n",
       "5 0                       \n",
       "6 0                       \n",
       "  promotionsValentine's Day,25% Off on Supplies,FS on $49 volume\n",
       "1 0                                                       373   \n",
       "2 0                                                       497   \n",
       "3 0                                                       467   \n",
       "4 0                                                       430   \n",
       "5 0                                                       523   \n",
       "6 0                                                       617   "
      ]
     },
     "metadata": {},
     "output_type": "display_data"
    }
   ],
   "source": [
    "data.dh = data.d\n",
    "data.dh$halfyear = factor(month(data.dh$date) <= 6, levels=c(TRUE,FALSE), labels=c(\"1st_half\",\"2nd_half\"))\n",
    "data.dh = front(data.dh)\n",
    "data.dh[1:6,]"
   ]
  },
  {
   "cell_type": "markdown",
   "metadata": {},
   "source": [
    "### Partition Data for Training & Testing"
   ]
  },
  {
   "cell_type": "code",
   "execution_count": 45,
   "metadata": {
    "hide_input": false
   },
   "outputs": [],
   "source": [
    "data.train = data.dh[data.dh$year==2014,] # to build model\n",
    "data.test = data.dh[data.dh$year==2015,] # to test model predictions\n",
    "\n",
    "data.train.1st_half = data.train[data.train$halfyear==\"1st_half\",]\n",
    "data.train.2nd_half = data.train[data.train$halfyear==\"2nd_half\",]\n",
    "data.test.1st_half = data.test[data.test$halfyear==\"1st_half\",]\n",
    "data.test.2nd_half = data.test[data.test$halfyear==\"2nd_half\",]"
   ]
  },
  {
   "cell_type": "markdown",
   "metadata": {},
   "source": [
    "### Models"
   ]
  },
  {
   "cell_type": "code",
   "execution_count": 46,
   "metadata": {
    "hide_input": false,
    "scrolled": true
   },
   "outputs": [
    {
     "data": {
      "text/html": [
       "<table>\n",
       "<thead><tr><th></th><th scope=col>model.1st_half.coefficients</th></tr></thead>\n",
       "<tbody>\n",
       "\t<tr><th scope=row>(Intercept)</th><td> 697.125228</td></tr>\n",
       "\t<tr><th scope=row>dayFriday</th><td> -73.284860</td></tr>\n",
       "\t<tr><th scope=row>daySaturday</th><td>-120.221542</td></tr>\n",
       "\t<tr><th scope=row>daySunday</th><td> -98.691332</td></tr>\n",
       "\t<tr><th scope=row>dayThursday</th><td>-128.620443</td></tr>\n",
       "\t<tr><th scope=row>dayTuesday</th><td>  17.778968</td></tr>\n",
       "\t<tr><th scope=row>dayWednesday</th><td> -37.933546</td></tr>\n",
       "\t<tr><th scope=row>wom</th><td> -11.216109</td></tr>\n",
       "\t<tr><th scope=row>monthApr</th><td> -87.963918</td></tr>\n",
       "\t<tr><th scope=row>monthAug</th><td>         NA</td></tr>\n",
       "\t<tr><th scope=row>monthDec</th><td>         NA</td></tr>\n",
       "\t<tr><th scope=row>monthFeb</th><td> -51.331755</td></tr>\n",
       "\t<tr><th scope=row>monthJul</th><td>         NA</td></tr>\n",
       "\t<tr><th scope=row>monthJun</th><td>-227.877036</td></tr>\n",
       "\t<tr><th scope=row>monthMar</th><td> -53.508865</td></tr>\n",
       "\t<tr><th scope=row>monthMay</th><td>-136.162320</td></tr>\n",
       "\t<tr><th scope=row>monthNov</th><td>         NA</td></tr>\n",
       "\t<tr><th scope=row>monthOct</th><td>         NA</td></tr>\n",
       "\t<tr><th scope=row>monthSep</th><td>         NA</td></tr>\n",
       "\t<tr><th scope=row>year</th><td>         NA</td></tr>\n",
       "\t<tr><th scope=row>`holidaysChristmas Day`</th><td>         NA</td></tr>\n",
       "\t<tr><th scope=row>`holidaysColumbus Day`</th><td>         NA</td></tr>\n",
       "\t<tr><th scope=row>`holidaysIndependence Day`</th><td>         NA</td></tr>\n",
       "\t<tr><th scope=row>`holidaysLabor Day`</th><td>         NA</td></tr>\n",
       "\t<tr><th scope=row>`holidaysMartin Luther King Jr. Day`</th><td> -59.270390</td></tr>\n",
       "\t<tr><th scope=row>`holidaysMemorial Day`</th><td>   1.901528</td></tr>\n",
       "\t<tr><th scope=row>`holidaysNew Year's Day`</th><td>-278.725858</td></tr>\n",
       "\t<tr><th scope=row>`holidaysNext Day of the-Christmas Day`</th><td>         NA</td></tr>\n",
       "\t<tr><th scope=row>`holidaysNext Day of the-Columbus Day`</th><td>         NA</td></tr>\n",
       "\t<tr><th scope=row>`holidaysNext Day of the-Independence Day`</th><td>         NA</td></tr>\n",
       "\t<tr><th scope=row>...</th><td>...</td></tr>\n",
       "\t<tr><th scope=row>`promotionsReveal Your Deal Promo,15, 20% Off`</th><td>         NA</td></tr>\n",
       "\t<tr><th scope=row>`promotionsReveal Your Deal Promo,15, 20% Off,`</th><td>         NA</td></tr>\n",
       "\t<tr><th scope=row>`promotionsReveal Your Deal Promo,15, 20, 30% Off,`</th><td>-113.321981</td></tr>\n",
       "\t<tr><th scope=row>`promotionsReveal Your Deal Promo,20, 25, 30% Off,FS on $75`</th><td>  17.939405</td></tr>\n",
       "\t<tr><th scope=row>`promotionsReveal Your Deal, $10, $15, $20 Off`</th><td>         NA</td></tr>\n",
       "\t<tr><th scope=row>`promotionsThanks Giving`</th><td>         NA</td></tr>\n",
       "\t<tr><th scope=row>promotionsThanksgiving</th><td>         NA</td></tr>\n",
       "\t<tr><th scope=row>`promotionsTiered Promo`</th><td>         NA</td></tr>\n",
       "\t<tr><th scope=row>`promotionsTreat Thursday`</th><td> -47.931701</td></tr>\n",
       "\t<tr><th scope=row>`promotionsTreat Thursday,$10 Off,`</th><td>  19.089753</td></tr>\n",
       "\t<tr><th scope=row>`promotionsTreat Thursday,$5 Off,FS on $35`</th><td>         NA</td></tr>\n",
       "\t<tr><th scope=row>`promotionsTreat Thursday,$5 Off,FS on $49`</th><td> -13.676431</td></tr>\n",
       "\t<tr><th scope=row>`promotionsTreat Thursday,12 Items,FS on $49`</th><td>-103.324758</td></tr>\n",
       "\t<tr><th scope=row>`promotionsTreat Thursday,12 Treats,FS on $49`</th><td> -30.643048</td></tr>\n",
       "\t<tr><th scope=row>`promotionsTreat Thursday,30-50% Off,FS on $49`</th><td>  83.738080</td></tr>\n",
       "\t<tr><th scope=row>`promotionsTreat Thursday,Buy $25 get $5 eGC ,`</th><td>  81.220189</td></tr>\n",
       "\t<tr><th scope=row>`promotionsTreat Thursday,Double Points,Up to 40% Off,FS on $49`</th><td> -35.131485</td></tr>\n",
       "\t<tr><th scope=row>`promotionsTreat Thursday,FS on $49`</th><td> -50.740813</td></tr>\n",
       "\t<tr><th scope=row>`promotionsTreat Thursday,Up To 30% Off on Toys,FS on $49`</th><td>-106.478029</td></tr>\n",
       "\t<tr><th scope=row>`promotionsTreat Thursday,Up to 50% on Select Items,20% Off,FS on $49`</th><td>-107.892540</td></tr>\n",
       "\t<tr><th scope=row>`promotionsUp To 15% Off,FS on $49`</th><td>         NA</td></tr>\n",
       "\t<tr><th scope=row>`promotionsUp To 20% Off,FS on $49`</th><td> -95.729864</td></tr>\n",
       "\t<tr><th scope=row>`promotionsUp To 25% Off, FS on $49`</th><td>         NA</td></tr>\n",
       "\t<tr><th scope=row>`promotionsUp To 25% Off,FS on $49`</th><td>         NA</td></tr>\n",
       "\t<tr><th scope=row>`promotionsUp To 35% Off,FS on $49`</th><td>         NA</td></tr>\n",
       "\t<tr><th scope=row>`promotionsUp To 40% Off plus $5 FS on $10, FS on $49`</th><td>         NA</td></tr>\n",
       "\t<tr><th scope=row>`promotionsUp To 40% Off,FS on $49`</th><td>-248.821651</td></tr>\n",
       "\t<tr><th scope=row>`promotionsUp To 50% Off,FS on $49`</th><td>  -8.222047</td></tr>\n",
       "\t<tr><th scope=row>`promotionsUpto 75% offer`</th><td>         NA</td></tr>\n",
       "\t<tr><th scope=row>`promotionsValentine's Day,25% Off on Supplies,FS on $49`</th><td>         NA</td></tr>\n",
       "</tbody>\n",
       "</table>\n"
      ],
      "text/latex": [
       "\\begin{tabular}{r|l}\n",
       "  & model.1st\\_half.coefficients\\\\\n",
       "\\hline\n",
       "\t(Intercept) &  697.125228\\\\\n",
       "\tdayFriday &  -73.284860\\\\\n",
       "\tdaySaturday & -120.221542\\\\\n",
       "\tdaySunday &  -98.691332\\\\\n",
       "\tdayThursday & -128.620443\\\\\n",
       "\tdayTuesday &   17.778968\\\\\n",
       "\tdayWednesday &  -37.933546\\\\\n",
       "\twom &  -11.216109\\\\\n",
       "\tmonthApr &  -87.963918\\\\\n",
       "\tmonthAug &          NA\\\\\n",
       "\tmonthDec &          NA\\\\\n",
       "\tmonthFeb &  -51.331755\\\\\n",
       "\tmonthJul &          NA\\\\\n",
       "\tmonthJun & -227.877036\\\\\n",
       "\tmonthMar &  -53.508865\\\\\n",
       "\tmonthMay & -136.162320\\\\\n",
       "\tmonthNov &          NA\\\\\n",
       "\tmonthOct &          NA\\\\\n",
       "\tmonthSep &          NA\\\\\n",
       "\tyear &          NA\\\\\n",
       "\t`holidaysChristmas Day` &          NA\\\\\n",
       "\t`holidaysColumbus Day` &          NA\\\\\n",
       "\t`holidaysIndependence Day` &          NA\\\\\n",
       "\t`holidaysLabor Day` &          NA\\\\\n",
       "\t`holidaysMartin Luther King Jr. Day` &  -59.270390\\\\\n",
       "\t`holidaysMemorial Day` &    1.901528\\\\\n",
       "\t`holidaysNew Year's Day` & -278.725858\\\\\n",
       "\t`holidaysNext Day of the-Christmas Day` &          NA\\\\\n",
       "\t`holidaysNext Day of the-Columbus Day` &          NA\\\\\n",
       "\t`holidaysNext Day of the-Independence Day` &          NA\\\\\n",
       "\t... & ...\\\\\n",
       "\t`promotionsReveal Your Deal Promo,15, 20\\% Off` &          NA\\\\\n",
       "\t`promotionsReveal Your Deal Promo,15, 20\\% Off,` &          NA\\\\\n",
       "\t`promotionsReveal Your Deal Promo,15, 20, 30\\% Off,` & -113.321981\\\\\n",
       "\t`promotionsReveal Your Deal Promo,20, 25, 30\\% Off,FS on \\$75` &   17.939405\\\\\n",
       "\t`promotionsReveal Your Deal, \\$10, \\$15, \\$20 Off` &          NA\\\\\n",
       "\t`promotionsThanks Giving` &          NA\\\\\n",
       "\tpromotionsThanksgiving &          NA\\\\\n",
       "\t`promotionsTiered Promo` &          NA\\\\\n",
       "\t`promotionsTreat Thursday` &  -47.931701\\\\\n",
       "\t`promotionsTreat Thursday,\\$10 Off,` &   19.089753\\\\\n",
       "\t`promotionsTreat Thursday,\\$5 Off,FS on \\$35` &          NA\\\\\n",
       "\t`promotionsTreat Thursday,\\$5 Off,FS on \\$49` &  -13.676431\\\\\n",
       "\t`promotionsTreat Thursday,12 Items,FS on \\$49` & -103.324758\\\\\n",
       "\t`promotionsTreat Thursday,12 Treats,FS on \\$49` &  -30.643048\\\\\n",
       "\t`promotionsTreat Thursday,30-50\\% Off,FS on \\$49` &   83.738080\\\\\n",
       "\t`promotionsTreat Thursday,Buy \\$25 get \\$5 eGC ,` &   81.220189\\\\\n",
       "\t`promotionsTreat Thursday,Double Points,Up to 40\\% Off,FS on \\$49` &  -35.131485\\\\\n",
       "\t`promotionsTreat Thursday,FS on \\$49` &  -50.740813\\\\\n",
       "\t`promotionsTreat Thursday,Up To 30\\% Off on Toys,FS on \\$49` & -106.478029\\\\\n",
       "\t`promotionsTreat Thursday,Up to 50\\% on Select Items,20\\% Off,FS on \\$49` & -107.892540\\\\\n",
       "\t`promotionsUp To 15\\% Off,FS on \\$49` &          NA\\\\\n",
       "\t`promotionsUp To 20\\% Off,FS on \\$49` &  -95.729864\\\\\n",
       "\t`promotionsUp To 25\\% Off, FS on \\$49` &          NA\\\\\n",
       "\t`promotionsUp To 25\\% Off,FS on \\$49` &          NA\\\\\n",
       "\t`promotionsUp To 35\\% Off,FS on \\$49` &          NA\\\\\n",
       "\t`promotionsUp To 40\\% Off plus \\$5 FS on \\$10, FS on \\$49` &          NA\\\\\n",
       "\t`promotionsUp To 40\\% Off,FS on \\$49` & -248.821651\\\\\n",
       "\t`promotionsUp To 50\\% Off,FS on \\$49` &   -8.222047\\\\\n",
       "\t`promotionsUpto 75\\% offer` &          NA\\\\\n",
       "\t`promotionsValentine's Day,25\\% Off on Supplies,FS on \\$49` &          NA\\\\\n",
       "\\end{tabular}\n"
      ],
      "text/markdown": [
       "\n",
       "| <!--/--> | model.1st_half.coefficients |\n",
       "|---|---|\n",
       "| (Intercept) |  697.125228 |\n",
       "| dayFriday |  -73.284860 |\n",
       "| daySaturday | -120.221542 |\n",
       "| daySunday |  -98.691332 |\n",
       "| dayThursday | -128.620443 |\n",
       "| dayTuesday |   17.778968 |\n",
       "| dayWednesday |  -37.933546 |\n",
       "| wom |  -11.216109 |\n",
       "| monthApr |  -87.963918 |\n",
       "| monthAug |          NA |\n",
       "| monthDec |          NA |\n",
       "| monthFeb |  -51.331755 |\n",
       "| monthJul |          NA |\n",
       "| monthJun | -227.877036 |\n",
       "| monthMar |  -53.508865 |\n",
       "| monthMay | -136.162320 |\n",
       "| monthNov |          NA |\n",
       "| monthOct |          NA |\n",
       "| monthSep |          NA |\n",
       "| year |          NA |\n",
       "| `holidaysChristmas Day` |          NA |\n",
       "| `holidaysColumbus Day` |          NA |\n",
       "| `holidaysIndependence Day` |          NA |\n",
       "| `holidaysLabor Day` |          NA |\n",
       "| `holidaysMartin Luther King Jr. Day` |  -59.270390 |\n",
       "| `holidaysMemorial Day` |    1.901528 |\n",
       "| `holidaysNew Year's Day` | -278.725858 |\n",
       "| `holidaysNext Day of the-Christmas Day` |          NA |\n",
       "| `holidaysNext Day of the-Columbus Day` |          NA |\n",
       "| `holidaysNext Day of the-Independence Day` |          NA |\n",
       "| ... | ... |\n",
       "| `promotionsReveal Your Deal Promo,15, 20% Off` |          NA |\n",
       "| `promotionsReveal Your Deal Promo,15, 20% Off,` |          NA |\n",
       "| `promotionsReveal Your Deal Promo,15, 20, 30% Off,` | -113.321981 |\n",
       "| `promotionsReveal Your Deal Promo,20, 25, 30% Off,FS on $75` |   17.939405 |\n",
       "| `promotionsReveal Your Deal, $10, $15, $20 Off` |          NA |\n",
       "| `promotionsThanks Giving` |          NA |\n",
       "| promotionsThanksgiving |          NA |\n",
       "| `promotionsTiered Promo` |          NA |\n",
       "| `promotionsTreat Thursday` |  -47.931701 |\n",
       "| `promotionsTreat Thursday,$10 Off,` |   19.089753 |\n",
       "| `promotionsTreat Thursday,$5 Off,FS on $35` |          NA |\n",
       "| `promotionsTreat Thursday,$5 Off,FS on $49` |  -13.676431 |\n",
       "| `promotionsTreat Thursday,12 Items,FS on $49` | -103.324758 |\n",
       "| `promotionsTreat Thursday,12 Treats,FS on $49` |  -30.643048 |\n",
       "| `promotionsTreat Thursday,30-50% Off,FS on $49` |   83.738080 |\n",
       "| `promotionsTreat Thursday,Buy $25 get $5 eGC ,` |   81.220189 |\n",
       "| `promotionsTreat Thursday,Double Points,Up to 40% Off,FS on $49` |  -35.131485 |\n",
       "| `promotionsTreat Thursday,FS on $49` |  -50.740813 |\n",
       "| `promotionsTreat Thursday,Up To 30% Off on Toys,FS on $49` | -106.478029 |\n",
       "| `promotionsTreat Thursday,Up to 50% on Select Items,20% Off,FS on $49` | -107.892540 |\n",
       "| `promotionsUp To 15% Off,FS on $49` |          NA |\n",
       "| `promotionsUp To 20% Off,FS on $49` |  -95.729864 |\n",
       "| `promotionsUp To 25% Off, FS on $49` |          NA |\n",
       "| `promotionsUp To 25% Off,FS on $49` |          NA |\n",
       "| `promotionsUp To 35% Off,FS on $49` |          NA |\n",
       "| `promotionsUp To 40% Off plus $5 FS on $10, FS on $49` |          NA |\n",
       "| `promotionsUp To 40% Off,FS on $49` | -248.821651 |\n",
       "| `promotionsUp To 50% Off,FS on $49` |   -8.222047 |\n",
       "| `promotionsUpto 75% offer` |          NA |\n",
       "| `promotionsValentine's Day,25% Off on Supplies,FS on $49` |          NA |\n",
       "\n"
      ],
      "text/plain": [
       "                                                                       model.1st_half.coefficients\n",
       "(Intercept)                                                             697.125228                \n",
       "dayFriday                                                               -73.284860                \n",
       "daySaturday                                                            -120.221542                \n",
       "daySunday                                                               -98.691332                \n",
       "dayThursday                                                            -128.620443                \n",
       "dayTuesday                                                               17.778968                \n",
       "dayWednesday                                                            -37.933546                \n",
       "wom                                                                     -11.216109                \n",
       "monthApr                                                                -87.963918                \n",
       "monthAug                                                                        NA                \n",
       "monthDec                                                                        NA                \n",
       "monthFeb                                                                -51.331755                \n",
       "monthJul                                                                        NA                \n",
       "monthJun                                                               -227.877036                \n",
       "monthMar                                                                -53.508865                \n",
       "monthMay                                                               -136.162320                \n",
       "monthNov                                                                        NA                \n",
       "monthOct                                                                        NA                \n",
       "monthSep                                                                        NA                \n",
       "year                                                                            NA                \n",
       "`holidaysChristmas Day`                                                         NA                \n",
       "`holidaysColumbus Day`                                                          NA                \n",
       "`holidaysIndependence Day`                                                      NA                \n",
       "`holidaysLabor Day`                                                             NA                \n",
       "`holidaysMartin Luther King Jr. Day`                                    -59.270390                \n",
       "`holidaysMemorial Day`                                                    1.901528                \n",
       "`holidaysNew Year's Day`                                               -278.725858                \n",
       "`holidaysNext Day of the-Christmas Day`                                         NA                \n",
       "`holidaysNext Day of the-Columbus Day`                                          NA                \n",
       "`holidaysNext Day of the-Independence Day`                                      NA                \n",
       "...                                                                    ...                        \n",
       "`promotionsReveal Your Deal Promo,15, 20% Off`                                  NA                \n",
       "`promotionsReveal Your Deal Promo,15, 20% Off,`                                 NA                \n",
       "`promotionsReveal Your Deal Promo,15, 20, 30% Off,`                    -113.321981                \n",
       "`promotionsReveal Your Deal Promo,20, 25, 30% Off,FS on $75`             17.939405                \n",
       "`promotionsReveal Your Deal, $10, $15, $20 Off`                                 NA                \n",
       "`promotionsThanks Giving`                                                       NA                \n",
       "promotionsThanksgiving                                                          NA                \n",
       "`promotionsTiered Promo`                                                        NA                \n",
       "`promotionsTreat Thursday`                                              -47.931701                \n",
       "`promotionsTreat Thursday,$10 Off,`                                      19.089753                \n",
       "`promotionsTreat Thursday,$5 Off,FS on $35`                                     NA                \n",
       "`promotionsTreat Thursday,$5 Off,FS on $49`                             -13.676431                \n",
       "`promotionsTreat Thursday,12 Items,FS on $49`                          -103.324758                \n",
       "`promotionsTreat Thursday,12 Treats,FS on $49`                          -30.643048                \n",
       "`promotionsTreat Thursday,30-50% Off,FS on $49`                          83.738080                \n",
       "`promotionsTreat Thursday,Buy $25 get $5 eGC ,`                          81.220189                \n",
       "`promotionsTreat Thursday,Double Points,Up to 40% Off,FS on $49`        -35.131485                \n",
       "`promotionsTreat Thursday,FS on $49`                                    -50.740813                \n",
       "`promotionsTreat Thursday,Up To 30% Off on Toys,FS on $49`             -106.478029                \n",
       "`promotionsTreat Thursday,Up to 50% on Select Items,20% Off,FS on $49` -107.892540                \n",
       "`promotionsUp To 15% Off,FS on $49`                                             NA                \n",
       "`promotionsUp To 20% Off,FS on $49`                                     -95.729864                \n",
       "`promotionsUp To 25% Off, FS on $49`                                            NA                \n",
       "`promotionsUp To 25% Off,FS on $49`                                             NA                \n",
       "`promotionsUp To 35% Off,FS on $49`                                             NA                \n",
       "`promotionsUp To 40% Off plus $5 FS on $10, FS on $49`                          NA                \n",
       "`promotionsUp To 40% Off,FS on $49`                                    -248.821651                \n",
       "`promotionsUp To 50% Off,FS on $49`                                      -8.222047                \n",
       "`promotionsUpto 75% offer`                                                      NA                \n",
       "`promotionsValentine's Day,25% Off on Supplies,FS on $49`                       NA                "
      ]
     },
     "metadata": {},
     "output_type": "display_data"
    }
   ],
   "source": [
    "model.1st_half = lm(volume ~ ., data.train.1st_half[,-(1:2)]) # model will predict volume given all other variables except date and halfyear\n",
    "data.frame(model.1st_half$coefficients)"
   ]
  },
  {
   "cell_type": "code",
   "execution_count": 47,
   "metadata": {
    "hide_input": false,
    "scrolled": true
   },
   "outputs": [
    {
     "data": {
      "text/html": [
       "<table>\n",
       "<thead><tr><th></th><th scope=col>model.2nd_half.coefficients</th></tr></thead>\n",
       "<tbody>\n",
       "\t<tr><th scope=row>(Intercept)</th><td> 431.2383465</td></tr>\n",
       "\t<tr><th scope=row>dayFriday</th><td> -68.6023025</td></tr>\n",
       "\t<tr><th scope=row>daySaturday</th><td>-105.1864759</td></tr>\n",
       "\t<tr><th scope=row>daySunday</th><td>-144.3789517</td></tr>\n",
       "\t<tr><th scope=row>dayThursday</th><td> -94.6458951</td></tr>\n",
       "\t<tr><th scope=row>dayTuesday</th><td> -66.9812371</td></tr>\n",
       "\t<tr><th scope=row>dayWednesday</th><td> -57.5571038</td></tr>\n",
       "\t<tr><th scope=row>wom</th><td>   0.7428355</td></tr>\n",
       "\t<tr><th scope=row>monthApr</th><td>          NA</td></tr>\n",
       "\t<tr><th scope=row>monthAug</th><td>   0.4317190</td></tr>\n",
       "\t<tr><th scope=row>monthDec</th><td>  55.5562717</td></tr>\n",
       "\t<tr><th scope=row>monthFeb</th><td>          NA</td></tr>\n",
       "\t<tr><th scope=row>monthJul</th><td> -94.9371716</td></tr>\n",
       "\t<tr><th scope=row>monthJun</th><td>          NA</td></tr>\n",
       "\t<tr><th scope=row>monthMar</th><td>          NA</td></tr>\n",
       "\t<tr><th scope=row>monthMay</th><td>          NA</td></tr>\n",
       "\t<tr><th scope=row>monthNov</th><td> -26.3192388</td></tr>\n",
       "\t<tr><th scope=row>monthOct</th><td> -66.7015984</td></tr>\n",
       "\t<tr><th scope=row>monthSep</th><td>          NA</td></tr>\n",
       "\t<tr><th scope=row>year</th><td>          NA</td></tr>\n",
       "\t<tr><th scope=row>`holidaysChristmas Day`</th><td>-395.1200652</td></tr>\n",
       "\t<tr><th scope=row>`holidaysColumbus Day`</th><td>   4.9775809</td></tr>\n",
       "\t<tr><th scope=row>`holidaysIndependence Day`</th><td>  13.4820571</td></tr>\n",
       "\t<tr><th scope=row>`holidaysLabor Day`</th><td> 127.9627732</td></tr>\n",
       "\t<tr><th scope=row>`holidaysMartin Luther King Jr. Day`</th><td>          NA</td></tr>\n",
       "\t<tr><th scope=row>`holidaysMemorial Day`</th><td>          NA</td></tr>\n",
       "\t<tr><th scope=row>`holidaysNew Year's Day`</th><td>          NA</td></tr>\n",
       "\t<tr><th scope=row>`holidaysNext Day of the-Christmas Day`</th><td>  73.4158266</td></tr>\n",
       "\t<tr><th scope=row>`holidaysNext Day of the-Columbus Day`</th><td> -58.0411820</td></tr>\n",
       "\t<tr><th scope=row>`holidaysNext Day of the-Independence Day`</th><td>   2.4653240</td></tr>\n",
       "\t<tr><th scope=row>...</th><td>...</td></tr>\n",
       "\t<tr><th scope=row>`promotionsReveal Your Deal Promo,15, 20% Off`</th><td>       NA</td></tr>\n",
       "\t<tr><th scope=row>`promotionsReveal Your Deal Promo,15, 20% Off,`</th><td>278.43956</td></tr>\n",
       "\t<tr><th scope=row>`promotionsReveal Your Deal Promo,15, 20, 30% Off,`</th><td>       NA</td></tr>\n",
       "\t<tr><th scope=row>`promotionsReveal Your Deal Promo,20, 25, 30% Off,FS on $75`</th><td>       NA</td></tr>\n",
       "\t<tr><th scope=row>`promotionsReveal Your Deal, $10, $15, $20 Off`</th><td>       NA</td></tr>\n",
       "\t<tr><th scope=row>`promotionsThanks Giving`</th><td>       NA</td></tr>\n",
       "\t<tr><th scope=row>promotionsThanksgiving</th><td>       NA</td></tr>\n",
       "\t<tr><th scope=row>`promotionsTiered Promo`</th><td> 35.71033</td></tr>\n",
       "\t<tr><th scope=row>`promotionsTreat Thursday`</th><td> 25.24480</td></tr>\n",
       "\t<tr><th scope=row>`promotionsTreat Thursday,$10 Off,`</th><td>       NA</td></tr>\n",
       "\t<tr><th scope=row>`promotionsTreat Thursday,$5 Off,FS on $35`</th><td> 99.11621</td></tr>\n",
       "\t<tr><th scope=row>`promotionsTreat Thursday,$5 Off,FS on $49`</th><td>       NA</td></tr>\n",
       "\t<tr><th scope=row>`promotionsTreat Thursday,12 Items,FS on $49`</th><td>       NA</td></tr>\n",
       "\t<tr><th scope=row>`promotionsTreat Thursday,12 Treats,FS on $49`</th><td>       NA</td></tr>\n",
       "\t<tr><th scope=row>`promotionsTreat Thursday,30-50% Off,FS on $49`</th><td>       NA</td></tr>\n",
       "\t<tr><th scope=row>`promotionsTreat Thursday,Buy $25 get $5 eGC ,`</th><td>       NA</td></tr>\n",
       "\t<tr><th scope=row>`promotionsTreat Thursday,Double Points,Up to 40% Off,FS on $49`</th><td>       NA</td></tr>\n",
       "\t<tr><th scope=row>`promotionsTreat Thursday,FS on $49`</th><td>       NA</td></tr>\n",
       "\t<tr><th scope=row>`promotionsTreat Thursday,Up To 30% Off on Toys,FS on $49`</th><td>       NA</td></tr>\n",
       "\t<tr><th scope=row>`promotionsTreat Thursday,Up to 50% on Select Items,20% Off,FS on $49`</th><td>       NA</td></tr>\n",
       "\t<tr><th scope=row>`promotionsUp To 15% Off,FS on $49`</th><td>-85.72319</td></tr>\n",
       "\t<tr><th scope=row>`promotionsUp To 20% Off,FS on $49`</th><td>       NA</td></tr>\n",
       "\t<tr><th scope=row>`promotionsUp To 25% Off, FS on $49`</th><td>259.67839</td></tr>\n",
       "\t<tr><th scope=row>`promotionsUp To 25% Off,FS on $49`</th><td>       NA</td></tr>\n",
       "\t<tr><th scope=row>`promotionsUp To 35% Off,FS on $49`</th><td>-36.52756</td></tr>\n",
       "\t<tr><th scope=row>`promotionsUp To 40% Off plus $5 FS on $10, FS on $49`</th><td>-17.12172</td></tr>\n",
       "\t<tr><th scope=row>`promotionsUp To 40% Off,FS on $49`</th><td>-50.92377</td></tr>\n",
       "\t<tr><th scope=row>`promotionsUp To 50% Off,FS on $49`</th><td>       NA</td></tr>\n",
       "\t<tr><th scope=row>`promotionsUpto 75% offer`</th><td>       NA</td></tr>\n",
       "\t<tr><th scope=row>`promotionsValentine's Day,25% Off on Supplies,FS on $49`</th><td>       NA</td></tr>\n",
       "</tbody>\n",
       "</table>\n"
      ],
      "text/latex": [
       "\\begin{tabular}{r|l}\n",
       "  & model.2nd\\_half.coefficients\\\\\n",
       "\\hline\n",
       "\t(Intercept) &  431.2383465\\\\\n",
       "\tdayFriday &  -68.6023025\\\\\n",
       "\tdaySaturday & -105.1864759\\\\\n",
       "\tdaySunday & -144.3789517\\\\\n",
       "\tdayThursday &  -94.6458951\\\\\n",
       "\tdayTuesday &  -66.9812371\\\\\n",
       "\tdayWednesday &  -57.5571038\\\\\n",
       "\twom &    0.7428355\\\\\n",
       "\tmonthApr &           NA\\\\\n",
       "\tmonthAug &    0.4317190\\\\\n",
       "\tmonthDec &   55.5562717\\\\\n",
       "\tmonthFeb &           NA\\\\\n",
       "\tmonthJul &  -94.9371716\\\\\n",
       "\tmonthJun &           NA\\\\\n",
       "\tmonthMar &           NA\\\\\n",
       "\tmonthMay &           NA\\\\\n",
       "\tmonthNov &  -26.3192388\\\\\n",
       "\tmonthOct &  -66.7015984\\\\\n",
       "\tmonthSep &           NA\\\\\n",
       "\tyear &           NA\\\\\n",
       "\t`holidaysChristmas Day` & -395.1200652\\\\\n",
       "\t`holidaysColumbus Day` &    4.9775809\\\\\n",
       "\t`holidaysIndependence Day` &   13.4820571\\\\\n",
       "\t`holidaysLabor Day` &  127.9627732\\\\\n",
       "\t`holidaysMartin Luther King Jr. Day` &           NA\\\\\n",
       "\t`holidaysMemorial Day` &           NA\\\\\n",
       "\t`holidaysNew Year's Day` &           NA\\\\\n",
       "\t`holidaysNext Day of the-Christmas Day` &   73.4158266\\\\\n",
       "\t`holidaysNext Day of the-Columbus Day` &  -58.0411820\\\\\n",
       "\t`holidaysNext Day of the-Independence Day` &    2.4653240\\\\\n",
       "\t... & ...\\\\\n",
       "\t`promotionsReveal Your Deal Promo,15, 20\\% Off` &        NA\\\\\n",
       "\t`promotionsReveal Your Deal Promo,15, 20\\% Off,` & 278.43956\\\\\n",
       "\t`promotionsReveal Your Deal Promo,15, 20, 30\\% Off,` &        NA\\\\\n",
       "\t`promotionsReveal Your Deal Promo,20, 25, 30\\% Off,FS on \\$75` &        NA\\\\\n",
       "\t`promotionsReveal Your Deal, \\$10, \\$15, \\$20 Off` &        NA\\\\\n",
       "\t`promotionsThanks Giving` &        NA\\\\\n",
       "\tpromotionsThanksgiving &        NA\\\\\n",
       "\t`promotionsTiered Promo` &  35.71033\\\\\n",
       "\t`promotionsTreat Thursday` &  25.24480\\\\\n",
       "\t`promotionsTreat Thursday,\\$10 Off,` &        NA\\\\\n",
       "\t`promotionsTreat Thursday,\\$5 Off,FS on \\$35` &  99.11621\\\\\n",
       "\t`promotionsTreat Thursday,\\$5 Off,FS on \\$49` &        NA\\\\\n",
       "\t`promotionsTreat Thursday,12 Items,FS on \\$49` &        NA\\\\\n",
       "\t`promotionsTreat Thursday,12 Treats,FS on \\$49` &        NA\\\\\n",
       "\t`promotionsTreat Thursday,30-50\\% Off,FS on \\$49` &        NA\\\\\n",
       "\t`promotionsTreat Thursday,Buy \\$25 get \\$5 eGC ,` &        NA\\\\\n",
       "\t`promotionsTreat Thursday,Double Points,Up to 40\\% Off,FS on \\$49` &        NA\\\\\n",
       "\t`promotionsTreat Thursday,FS on \\$49` &        NA\\\\\n",
       "\t`promotionsTreat Thursday,Up To 30\\% Off on Toys,FS on \\$49` &        NA\\\\\n",
       "\t`promotionsTreat Thursday,Up to 50\\% on Select Items,20\\% Off,FS on \\$49` &        NA\\\\\n",
       "\t`promotionsUp To 15\\% Off,FS on \\$49` & -85.72319\\\\\n",
       "\t`promotionsUp To 20\\% Off,FS on \\$49` &        NA\\\\\n",
       "\t`promotionsUp To 25\\% Off, FS on \\$49` & 259.67839\\\\\n",
       "\t`promotionsUp To 25\\% Off,FS on \\$49` &        NA\\\\\n",
       "\t`promotionsUp To 35\\% Off,FS on \\$49` & -36.52756\\\\\n",
       "\t`promotionsUp To 40\\% Off plus \\$5 FS on \\$10, FS on \\$49` & -17.12172\\\\\n",
       "\t`promotionsUp To 40\\% Off,FS on \\$49` & -50.92377\\\\\n",
       "\t`promotionsUp To 50\\% Off,FS on \\$49` &        NA\\\\\n",
       "\t`promotionsUpto 75\\% offer` &        NA\\\\\n",
       "\t`promotionsValentine's Day,25\\% Off on Supplies,FS on \\$49` &        NA\\\\\n",
       "\\end{tabular}\n"
      ],
      "text/markdown": [
       "\n",
       "| <!--/--> | model.2nd_half.coefficients |\n",
       "|---|---|\n",
       "| (Intercept) |  431.2383465 |\n",
       "| dayFriday |  -68.6023025 |\n",
       "| daySaturday | -105.1864759 |\n",
       "| daySunday | -144.3789517 |\n",
       "| dayThursday |  -94.6458951 |\n",
       "| dayTuesday |  -66.9812371 |\n",
       "| dayWednesday |  -57.5571038 |\n",
       "| wom |    0.7428355 |\n",
       "| monthApr |           NA |\n",
       "| monthAug |    0.4317190 |\n",
       "| monthDec |   55.5562717 |\n",
       "| monthFeb |           NA |\n",
       "| monthJul |  -94.9371716 |\n",
       "| monthJun |           NA |\n",
       "| monthMar |           NA |\n",
       "| monthMay |           NA |\n",
       "| monthNov |  -26.3192388 |\n",
       "| monthOct |  -66.7015984 |\n",
       "| monthSep |           NA |\n",
       "| year |           NA |\n",
       "| `holidaysChristmas Day` | -395.1200652 |\n",
       "| `holidaysColumbus Day` |    4.9775809 |\n",
       "| `holidaysIndependence Day` |   13.4820571 |\n",
       "| `holidaysLabor Day` |  127.9627732 |\n",
       "| `holidaysMartin Luther King Jr. Day` |           NA |\n",
       "| `holidaysMemorial Day` |           NA |\n",
       "| `holidaysNew Year's Day` |           NA |\n",
       "| `holidaysNext Day of the-Christmas Day` |   73.4158266 |\n",
       "| `holidaysNext Day of the-Columbus Day` |  -58.0411820 |\n",
       "| `holidaysNext Day of the-Independence Day` |    2.4653240 |\n",
       "| ... | ... |\n",
       "| `promotionsReveal Your Deal Promo,15, 20% Off` |        NA |\n",
       "| `promotionsReveal Your Deal Promo,15, 20% Off,` | 278.43956 |\n",
       "| `promotionsReveal Your Deal Promo,15, 20, 30% Off,` |        NA |\n",
       "| `promotionsReveal Your Deal Promo,20, 25, 30% Off,FS on $75` |        NA |\n",
       "| `promotionsReveal Your Deal, $10, $15, $20 Off` |        NA |\n",
       "| `promotionsThanks Giving` |        NA |\n",
       "| promotionsThanksgiving |        NA |\n",
       "| `promotionsTiered Promo` |  35.71033 |\n",
       "| `promotionsTreat Thursday` |  25.24480 |\n",
       "| `promotionsTreat Thursday,$10 Off,` |        NA |\n",
       "| `promotionsTreat Thursday,$5 Off,FS on $35` |  99.11621 |\n",
       "| `promotionsTreat Thursday,$5 Off,FS on $49` |        NA |\n",
       "| `promotionsTreat Thursday,12 Items,FS on $49` |        NA |\n",
       "| `promotionsTreat Thursday,12 Treats,FS on $49` |        NA |\n",
       "| `promotionsTreat Thursday,30-50% Off,FS on $49` |        NA |\n",
       "| `promotionsTreat Thursday,Buy $25 get $5 eGC ,` |        NA |\n",
       "| `promotionsTreat Thursday,Double Points,Up to 40% Off,FS on $49` |        NA |\n",
       "| `promotionsTreat Thursday,FS on $49` |        NA |\n",
       "| `promotionsTreat Thursday,Up To 30% Off on Toys,FS on $49` |        NA |\n",
       "| `promotionsTreat Thursday,Up to 50% on Select Items,20% Off,FS on $49` |        NA |\n",
       "| `promotionsUp To 15% Off,FS on $49` | -85.72319 |\n",
       "| `promotionsUp To 20% Off,FS on $49` |        NA |\n",
       "| `promotionsUp To 25% Off, FS on $49` | 259.67839 |\n",
       "| `promotionsUp To 25% Off,FS on $49` |        NA |\n",
       "| `promotionsUp To 35% Off,FS on $49` | -36.52756 |\n",
       "| `promotionsUp To 40% Off plus $5 FS on $10, FS on $49` | -17.12172 |\n",
       "| `promotionsUp To 40% Off,FS on $49` | -50.92377 |\n",
       "| `promotionsUp To 50% Off,FS on $49` |        NA |\n",
       "| `promotionsUpto 75% offer` |        NA |\n",
       "| `promotionsValentine's Day,25% Off on Supplies,FS on $49` |        NA |\n",
       "\n"
      ],
      "text/plain": [
       "                                                                       model.2nd_half.coefficients\n",
       "(Intercept)                                                             431.2383465               \n",
       "dayFriday                                                               -68.6023025               \n",
       "daySaturday                                                            -105.1864759               \n",
       "daySunday                                                              -144.3789517               \n",
       "dayThursday                                                             -94.6458951               \n",
       "dayTuesday                                                              -66.9812371               \n",
       "dayWednesday                                                            -57.5571038               \n",
       "wom                                                                       0.7428355               \n",
       "monthApr                                                                         NA               \n",
       "monthAug                                                                  0.4317190               \n",
       "monthDec                                                                 55.5562717               \n",
       "monthFeb                                                                         NA               \n",
       "monthJul                                                                -94.9371716               \n",
       "monthJun                                                                         NA               \n",
       "monthMar                                                                         NA               \n",
       "monthMay                                                                         NA               \n",
       "monthNov                                                                -26.3192388               \n",
       "monthOct                                                                -66.7015984               \n",
       "monthSep                                                                         NA               \n",
       "year                                                                             NA               \n",
       "`holidaysChristmas Day`                                                -395.1200652               \n",
       "`holidaysColumbus Day`                                                    4.9775809               \n",
       "`holidaysIndependence Day`                                               13.4820571               \n",
       "`holidaysLabor Day`                                                     127.9627732               \n",
       "`holidaysMartin Luther King Jr. Day`                                             NA               \n",
       "`holidaysMemorial Day`                                                           NA               \n",
       "`holidaysNew Year's Day`                                                         NA               \n",
       "`holidaysNext Day of the-Christmas Day`                                  73.4158266               \n",
       "`holidaysNext Day of the-Columbus Day`                                  -58.0411820               \n",
       "`holidaysNext Day of the-Independence Day`                                2.4653240               \n",
       "...                                                                    ...                        \n",
       "`promotionsReveal Your Deal Promo,15, 20% Off`                                NA                  \n",
       "`promotionsReveal Your Deal Promo,15, 20% Off,`                        278.43956                  \n",
       "`promotionsReveal Your Deal Promo,15, 20, 30% Off,`                           NA                  \n",
       "`promotionsReveal Your Deal Promo,20, 25, 30% Off,FS on $75`                  NA                  \n",
       "`promotionsReveal Your Deal, $10, $15, $20 Off`                               NA                  \n",
       "`promotionsThanks Giving`                                                     NA                  \n",
       "promotionsThanksgiving                                                        NA                  \n",
       "`promotionsTiered Promo`                                                35.71033                  \n",
       "`promotionsTreat Thursday`                                              25.24480                  \n",
       "`promotionsTreat Thursday,$10 Off,`                                           NA                  \n",
       "`promotionsTreat Thursday,$5 Off,FS on $35`                             99.11621                  \n",
       "`promotionsTreat Thursday,$5 Off,FS on $49`                                   NA                  \n",
       "`promotionsTreat Thursday,12 Items,FS on $49`                                 NA                  \n",
       "`promotionsTreat Thursday,12 Treats,FS on $49`                                NA                  \n",
       "`promotionsTreat Thursday,30-50% Off,FS on $49`                               NA                  \n",
       "`promotionsTreat Thursday,Buy $25 get $5 eGC ,`                               NA                  \n",
       "`promotionsTreat Thursday,Double Points,Up to 40% Off,FS on $49`              NA                  \n",
       "`promotionsTreat Thursday,FS on $49`                                          NA                  \n",
       "`promotionsTreat Thursday,Up To 30% Off on Toys,FS on $49`                    NA                  \n",
       "`promotionsTreat Thursday,Up to 50% on Select Items,20% Off,FS on $49`        NA                  \n",
       "`promotionsUp To 15% Off,FS on $49`                                    -85.72319                  \n",
       "`promotionsUp To 20% Off,FS on $49`                                           NA                  \n",
       "`promotionsUp To 25% Off, FS on $49`                                   259.67839                  \n",
       "`promotionsUp To 25% Off,FS on $49`                                           NA                  \n",
       "`promotionsUp To 35% Off,FS on $49`                                    -36.52756                  \n",
       "`promotionsUp To 40% Off plus $5 FS on $10, FS on $49`                 -17.12172                  \n",
       "`promotionsUp To 40% Off,FS on $49`                                    -50.92377                  \n",
       "`promotionsUp To 50% Off,FS on $49`                                           NA                  \n",
       "`promotionsUpto 75% offer`                                                    NA                  \n",
       "`promotionsValentine's Day,25% Off on Supplies,FS on $49`                     NA                  "
      ]
     },
     "metadata": {},
     "output_type": "display_data"
    }
   ],
   "source": [
    "model.2nd_half = lm(volume ~ ., data.train.2nd_half[,-(1:2)]) # model will predict volume given all other variables except date and halfyear\n",
    "data.frame(model.2nd_half$coefficients)"
   ]
  },
  {
   "cell_type": "markdown",
   "metadata": {},
   "source": [
    "### Predictions"
   ]
  },
  {
   "cell_type": "code",
   "execution_count": 48,
   "metadata": {
    "hide_input": false,
    "scrolled": false
   },
   "outputs": [
    {
     "data": {
      "text/html": [
       "<table>\n",
       "<thead><tr><th></th><th scope=col>halfyear</th><th scope=col>date</th><th scope=col>volume</th><th scope=col>volume.predicted</th></tr></thead>\n",
       "<tbody>\n",
       "\t<tr><th scope=row>366</th><td>1st_half  </td><td>2015-01-01</td><td>300       </td><td>278.5628  </td></tr>\n",
       "\t<tr><th scope=row>367</th><td>1st_half  </td><td>2015-01-02</td><td>419       </td><td>725.5421  </td></tr>\n",
       "\t<tr><th scope=row>368</th><td>1st_half  </td><td>2015-01-03</td><td>340       </td><td>565.6876  </td></tr>\n",
       "\t<tr><th scope=row>369</th><td>1st_half  </td><td>2015-01-04</td><td>404       </td><td>587.2178  </td></tr>\n",
       "\t<tr><th scope=row>370</th><td>1st_half  </td><td>2015-01-05</td><td>389       </td><td>689.6594  </td></tr>\n",
       "\t<tr><th scope=row>371</th><td>1st_half  </td><td>2015-01-06</td><td>510       </td><td>731.6926  </td></tr>\n",
       "</tbody>\n",
       "</table>\n"
      ],
      "text/latex": [
       "\\begin{tabular}{r|llll}\n",
       "  & halfyear & date & volume & volume.predicted\\\\\n",
       "\\hline\n",
       "\t366 & 1st\\_half & 2015-01-01 & 300        & 278.5628  \\\\\n",
       "\t367 & 1st\\_half & 2015-01-02 & 419        & 725.5421  \\\\\n",
       "\t368 & 1st\\_half & 2015-01-03 & 340        & 565.6876  \\\\\n",
       "\t369 & 1st\\_half & 2015-01-04 & 404        & 587.2178  \\\\\n",
       "\t370 & 1st\\_half & 2015-01-05 & 389        & 689.6594  \\\\\n",
       "\t371 & 1st\\_half & 2015-01-06 & 510        & 731.6926  \\\\\n",
       "\\end{tabular}\n"
      ],
      "text/markdown": [
       "\n",
       "| <!--/--> | halfyear | date | volume | volume.predicted |\n",
       "|---|---|---|---|---|\n",
       "| 366 | 1st_half   | 2015-01-01 | 300        | 278.5628   |\n",
       "| 367 | 1st_half   | 2015-01-02 | 419        | 725.5421   |\n",
       "| 368 | 1st_half   | 2015-01-03 | 340        | 565.6876   |\n",
       "| 369 | 1st_half   | 2015-01-04 | 404        | 587.2178   |\n",
       "| 370 | 1st_half   | 2015-01-05 | 389        | 689.6594   |\n",
       "| 371 | 1st_half   | 2015-01-06 | 510        | 731.6926   |\n",
       "\n"
      ],
      "text/plain": [
       "    halfyear date       volume volume.predicted\n",
       "366 1st_half 2015-01-01 300    278.5628        \n",
       "367 1st_half 2015-01-02 419    725.5421        \n",
       "368 1st_half 2015-01-03 340    565.6876        \n",
       "369 1st_half 2015-01-04 404    587.2178        \n",
       "370 1st_half 2015-01-05 389    689.6594        \n",
       "371 1st_half 2015-01-06 510    731.6926        "
      ]
     },
     "metadata": {},
     "output_type": "display_data"
    }
   ],
   "source": [
    "hide = 3:168\n",
    "\n",
    "data.test.1st_half$volume.predicted = predict(model.1st_half, data.test.1st_half[,-(1:2)])\n",
    "data.test.2nd_half$volume.predicted = predict(model.2nd_half, data.test.2nd_half[,-(1:2)])\n",
    "data.test = rbind(data.test.1st_half, data.test.2nd_half)\n",
    "\n",
    "data.test[1:6, -hide]"
   ]
  },
  {
   "cell_type": "code",
   "execution_count": 49,
   "metadata": {
    "hide_input": false,
    "scrolled": true
   },
   "outputs": [
    {
     "data": {
      "image/png": "[encoded data removed]",
      "text/plain": [
       "plot without title"
      ]
     },
     "metadata": {},
     "output_type": "display_data"
    }
   ],
   "source": [
    "ggplot(data.test) +\n",
    "geom_line(aes(x=date, y=volume, color=\"actual\")) +\n",
    "geom_line(aes(x=date, y=volume.predicted, color=\"predicted\"))"
   ]
  },
  {
   "cell_type": "code",
   "execution_count": 50,
   "metadata": {
    "hide_input": false,
    "scrolled": false
   },
   "outputs": [
    {
     "data": {
      "text/html": [
       "<table>\n",
       "<thead><tr><th></th><th scope=col>halfyear</th><th scope=col>date</th><th scope=col>volume</th><th scope=col>volume.predicted</th><th scope=col>volume.overstaffed</th><th scope=col>overstaffed</th><th scope=col>volume.understaffed</th><th scope=col>understaffed</th></tr></thead>\n",
       "<tbody>\n",
       "\t<tr><th scope=row>366</th><td>1st_half  </td><td>2015-01-01</td><td>300       </td><td>278.5628  </td><td>  0.0000  </td><td>TRUE      </td><td>21.43718  </td><td> TRUE     </td></tr>\n",
       "\t<tr><th scope=row>367</th><td>1st_half  </td><td>2015-01-02</td><td>419       </td><td>725.5421  </td><td>306.5421  </td><td>TRUE      </td><td> 0.00000  </td><td>FALSE     </td></tr>\n",
       "\t<tr><th scope=row>368</th><td>1st_half  </td><td>2015-01-03</td><td>340       </td><td>565.6876  </td><td>225.6876  </td><td>TRUE      </td><td> 0.00000  </td><td>FALSE     </td></tr>\n",
       "\t<tr><th scope=row>369</th><td>1st_half  </td><td>2015-01-04</td><td>404       </td><td>587.2178  </td><td>183.2178  </td><td>TRUE      </td><td> 0.00000  </td><td>FALSE     </td></tr>\n",
       "\t<tr><th scope=row>370</th><td>1st_half  </td><td>2015-01-05</td><td>389       </td><td>689.6594  </td><td>300.6594  </td><td>TRUE      </td><td> 0.00000  </td><td>FALSE     </td></tr>\n",
       "\t<tr><th scope=row>371</th><td>1st_half  </td><td>2015-01-06</td><td>510       </td><td>731.6926  </td><td>221.6926  </td><td>TRUE      </td><td> 0.00000  </td><td>FALSE     </td></tr>\n",
       "</tbody>\n",
       "</table>\n"
      ],
      "text/latex": [
       "\\begin{tabular}{r|llllllll}\n",
       "  & halfyear & date & volume & volume.predicted & volume.overstaffed & overstaffed & volume.understaffed & understaffed\\\\\n",
       "\\hline\n",
       "\t366 & 1st\\_half & 2015-01-01 & 300        & 278.5628   &   0.0000   & TRUE       & 21.43718   &  TRUE     \\\\\n",
       "\t367 & 1st\\_half & 2015-01-02 & 419        & 725.5421   & 306.5421   & TRUE       &  0.00000   & FALSE     \\\\\n",
       "\t368 & 1st\\_half & 2015-01-03 & 340        & 565.6876   & 225.6876   & TRUE       &  0.00000   & FALSE     \\\\\n",
       "\t369 & 1st\\_half & 2015-01-04 & 404        & 587.2178   & 183.2178   & TRUE       &  0.00000   & FALSE     \\\\\n",
       "\t370 & 1st\\_half & 2015-01-05 & 389        & 689.6594   & 300.6594   & TRUE       &  0.00000   & FALSE     \\\\\n",
       "\t371 & 1st\\_half & 2015-01-06 & 510        & 731.6926   & 221.6926   & TRUE       &  0.00000   & FALSE     \\\\\n",
       "\\end{tabular}\n"
      ],
      "text/markdown": [
       "\n",
       "| <!--/--> | halfyear | date | volume | volume.predicted | volume.overstaffed | overstaffed | volume.understaffed | understaffed |\n",
       "|---|---|---|---|---|---|---|---|---|\n",
       "| 366 | 1st_half   | 2015-01-01 | 300        | 278.5628   |   0.0000   | TRUE       | 21.43718   |  TRUE      |\n",
       "| 367 | 1st_half   | 2015-01-02 | 419        | 725.5421   | 306.5421   | TRUE       |  0.00000   | FALSE      |\n",
       "| 368 | 1st_half   | 2015-01-03 | 340        | 565.6876   | 225.6876   | TRUE       |  0.00000   | FALSE      |\n",
       "| 369 | 1st_half   | 2015-01-04 | 404        | 587.2178   | 183.2178   | TRUE       |  0.00000   | FALSE      |\n",
       "| 370 | 1st_half   | 2015-01-05 | 389        | 689.6594   | 300.6594   | TRUE       |  0.00000   | FALSE      |\n",
       "| 371 | 1st_half   | 2015-01-06 | 510        | 731.6926   | 221.6926   | TRUE       |  0.00000   | FALSE      |\n",
       "\n"
      ],
      "text/plain": [
       "    halfyear date       volume volume.predicted volume.overstaffed overstaffed\n",
       "366 1st_half 2015-01-01 300    278.5628           0.0000           TRUE       \n",
       "367 1st_half 2015-01-02 419    725.5421         306.5421           TRUE       \n",
       "368 1st_half 2015-01-03 340    565.6876         225.6876           TRUE       \n",
       "369 1st_half 2015-01-04 404    587.2178         183.2178           TRUE       \n",
       "370 1st_half 2015-01-05 389    689.6594         300.6594           TRUE       \n",
       "371 1st_half 2015-01-06 510    731.6926         221.6926           TRUE       \n",
       "    volume.understaffed understaffed\n",
       "366 21.43718             TRUE       \n",
       "367  0.00000            FALSE       \n",
       "368  0.00000            FALSE       \n",
       "369  0.00000            FALSE       \n",
       "370  0.00000            FALSE       \n",
       "371  0.00000            FALSE       "
      ]
     },
     "metadata": {},
     "output_type": "display_data"
    }
   ],
   "source": [
    "data.test$volume.overstaffed = data.test$volume.predicted - data.test$volume\n",
    "data.test$volume.overstaffed[data.test$volume.overstaffed < 0] = 0\n",
    "data.test$overstaffed = data.test$volume.overstaffed >= 0\n",
    "\n",
    "data.test$volume.understaffed = data.test$volume - data.test$volume.predicted\n",
    "data.test$volume.understaffed[data.test$volume.understaffed < 0] = 0\n",
    "data.test$understaffed = data.test$volume.understaffed > threshold\n",
    "\n",
    "data.test[1:6, -hide]"
   ]
  },
  {
   "cell_type": "code",
   "execution_count": 51,
   "metadata": {
    "hide_input": false,
    "scrolled": true
   },
   "outputs": [
    {
     "data": {
      "image/png": "[encoded data removed]",
      "text/plain": [
       "plot without title"
      ]
     },
     "metadata": {},
     "output_type": "display_data"
    }
   ],
   "source": [
    "ggplot(data.test) +\n",
    "geom_line(aes(x=date, y=volume, color=\"actual\")) +\n",
    "geom_point(aes(x=date, y=volume.predicted, color=\"overstaffed\"), data=data.test[data.test$overstaffed,]) +\n",
    "geom_point(aes(x=date, y=volume.predicted, color=\"understaffed\"), data=data.test[data.test$understaffed,]) +\n",
    "scale_color_manual(values=c(actual=PALETTE[1], overstaffed=PALETTE[3], understaffed=PALETTE[4]))"
   ]
  },
  {
   "cell_type": "markdown",
   "metadata": {},
   "source": [
    "### Business Result"
   ]
  },
  {
   "cell_type": "markdown",
   "metadata": {},
   "source": [
    "#### Call Center Perspective"
   ]
  },
  {
   "cell_type": "code",
   "execution_count": 52,
   "metadata": {
    "hide_input": false,
    "scrolled": true
   },
   "outputs": [
    {
     "data": {
      "text/html": [
       "<table>\n",
       "<thead><tr><th scope=col>model</th><th scope=col>revenue</th><th scope=col>staff_cost</th><th scope=col>dissatisfaction_cost</th><th scope=col>cost</th><th scope=col>profit</th></tr></thead>\n",
       "<tbody>\n",
       "\t<tr><td>Piece-wise Linear Regression</td><td>1104974                     </td><td>465671.5                    </td><td>253215.9                    </td><td>718887.4                    </td><td>386086.1                    </td></tr>\n",
       "</tbody>\n",
       "</table>\n"
      ],
      "text/latex": [
       "\\begin{tabular}{r|llllll}\n",
       " model & revenue & staff\\_cost & dissatisfaction\\_cost & cost & profit\\\\\n",
       "\\hline\n",
       "\t Piece-wise Linear Regression & 1104974                      & 465671.5                     & 253215.9                     & 718887.4                     & 386086.1                    \\\\\n",
       "\\end{tabular}\n"
      ],
      "text/markdown": [
       "\n",
       "| model | revenue | staff_cost | dissatisfaction_cost | cost | profit |\n",
       "|---|---|---|---|---|---|\n",
       "| Piece-wise Linear Regression | 1104974                      | 465671.5                     | 253215.9                     | 718887.4                     | 386086.1                     |\n",
       "\n"
      ],
      "text/plain": [
       "  model                        revenue staff_cost dissatisfaction_cost cost    \n",
       "1 Piece-wise Linear Regression 1104974 465671.5   253215.9             718887.4\n",
       "  profit  \n",
       "1 386086.1"
      ]
     },
     "metadata": {},
     "output_type": "display_data"
    }
   ],
   "source": [
    "revenue = call_payrate * (sum(data.test$volume[data.test$overstaffed]) +\n",
    "                          sum(data.test$volume.predicted[data.test$understaffed]))\n",
    "\n",
    "staff_cost = (staff_payrate/handlerate) * sum(data.test$volume.predicted)\n",
    "\n",
    "dissatisfaction_cost = dissatisfaction_payrate * sum(data.test$volume.understaffed[data.test$understaffed])\n",
    "\n",
    "cost = staff_cost + dissatisfaction_cost\n",
    "profit = revenue - cost\n",
    "business_value.plr.cc = data.frame(model=\"Piece-wise Linear Regression\", revenue, staff_cost, dissatisfaction_cost, cost, profit)\n",
    "\n",
    "business_value.plr.cc"
   ]
  },
  {
   "cell_type": "markdown",
   "metadata": {},
   "source": [
    "#### Client Perspective"
   ]
  },
  {
   "cell_type": "code",
   "execution_count": 53,
   "metadata": {
    "hide_input": false,
    "scrolled": true
   },
   "outputs": [
    {
     "data": {
      "text/html": [
       "<table>\n",
       "<thead><tr><th scope=col>model</th><th scope=col>call_cost</th><th scope=col>dissatisfaction_credit</th><th scope=col>cost</th><th scope=col>savings</th><th scope=col>csat</th></tr></thead>\n",
       "<tbody>\n",
       "\t<tr><td>Piece-wise Linear Regression</td><td>1104974                     </td><td>253215.9                    </td><td>851757.6                    </td><td>148242.4                    </td><td>0.9166433                   </td></tr>\n",
       "</tbody>\n",
       "</table>\n"
      ],
      "text/latex": [
       "\\begin{tabular}{r|llllll}\n",
       " model & call\\_cost & dissatisfaction\\_credit & cost & savings & csat\\\\\n",
       "\\hline\n",
       "\t Piece-wise Linear Regression & 1104974                      & 253215.9                     & 851757.6                     & 148242.4                     & 0.9166433                   \\\\\n",
       "\\end{tabular}\n"
      ],
      "text/markdown": [
       "\n",
       "| model | call_cost | dissatisfaction_credit | cost | savings | csat |\n",
       "|---|---|---|---|---|---|\n",
       "| Piece-wise Linear Regression | 1104974                      | 253215.9                     | 851757.6                     | 148242.4                     | 0.9166433                    |\n",
       "\n"
      ],
      "text/plain": [
       "  model                        call_cost dissatisfaction_credit cost    \n",
       "1 Piece-wise Linear Regression 1104974   253215.9               851757.6\n",
       "  savings  csat     \n",
       "1 148242.4 0.9166433"
      ]
     },
     "metadata": {},
     "output_type": "display_data"
    }
   ],
   "source": [
    "call_cost = call_payrate * (sum(data.test$volume[data.test$overstaffed]) +\n",
    "                            sum(data.test$volume.predicted[data.test$understaffed]))\n",
    "\n",
    "dissatisfaction_credit = dissatisfaction_payrate * sum(data.test$volume.understaffed[data.test$understaffed])\n",
    "\n",
    "cost = call_cost - dissatisfaction_credit\n",
    "savings = budget - cost\n",
    "\n",
    "csat = 1 - (sum(data.test$volume.understaffed) / sum(data.test$volume))\n",
    "\n",
    "business_value.plr.client = data.frame(model=\"Piece-wise Linear Regression\", call_cost, dissatisfaction_credit, cost, savings, csat)\n",
    "\n",
    "business_value.plr.client"
   ]
  },
  {
   "cell_type": "markdown",
   "metadata": {},
   "source": [
    "## Comparative Analysis"
   ]
  },
  {
   "cell_type": "markdown",
   "metadata": {},
   "source": [
    "### Call Center Perspective"
   ]
  },
  {
   "cell_type": "code",
   "execution_count": 54,
   "metadata": {
    "hide_input": false
   },
   "outputs": [
    {
     "data": {
      "text/html": [
       "<table>\n",
       "<thead><tr><th scope=col>model</th><th scope=col>revenue</th><th scope=col>staff_cost</th><th scope=col>dissatisfaction_cost</th><th scope=col>cost</th><th scope=col>profit</th></tr></thead>\n",
       "<tbody>\n",
       "\t<tr><td>Fixed Staffing Rate is High </td><td> 947807.0                   </td><td>576666.7                    </td><td>102125.0                    </td><td>678791.7                    </td><td>269015.3                    </td></tr>\n",
       "\t<tr><td>Fixed Staffing Rate is Low  </td><td>1175307.0                   </td><td>403666.7                    </td><td>366100.0                    </td><td>769766.7                    </td><td>405540.3                    </td></tr>\n",
       "\t<tr><td>Linear Regression           </td><td>1060117.1                   </td><td>471982.0                    </td><td>208692.4                    </td><td>680674.4                    </td><td>379442.8                    </td></tr>\n",
       "\t<tr><td>Linear Regression + Buffer  </td><td> 991559.2                   </td><td>529648.7                    </td><td>107967.0                    </td><td>637615.6                    </td><td>353943.6                    </td></tr>\n",
       "\t<tr><td>Piece-wise Linear Regression</td><td>1104973.5                   </td><td>465671.5                    </td><td>253215.9                    </td><td>718887.4                    </td><td>386086.1                    </td></tr>\n",
       "</tbody>\n",
       "</table>\n"
      ],
      "text/latex": [
       "\\begin{tabular}{r|llllll}\n",
       " model & revenue & staff\\_cost & dissatisfaction\\_cost & cost & profit\\\\\n",
       "\\hline\n",
       "\t Fixed Staffing Rate is High  &  947807.0                    & 576666.7                     & 102125.0                     & 678791.7                     & 269015.3                    \\\\\n",
       "\t Fixed Staffing Rate is Low   & 1175307.0                    & 403666.7                     & 366100.0                     & 769766.7                     & 405540.3                    \\\\\n",
       "\t Linear Regression            & 1060117.1                    & 471982.0                     & 208692.4                     & 680674.4                     & 379442.8                    \\\\\n",
       "\t Linear Regression + Buffer   &  991559.2                    & 529648.7                     & 107967.0                     & 637615.6                     & 353943.6                    \\\\\n",
       "\t Piece-wise Linear Regression & 1104973.5                    & 465671.5                     & 253215.9                     & 718887.4                     & 386086.1                    \\\\\n",
       "\\end{tabular}\n"
      ],
      "text/markdown": [
       "\n",
       "| model | revenue | staff_cost | dissatisfaction_cost | cost | profit |\n",
       "|---|---|---|---|---|---|\n",
       "| Fixed Staffing Rate is High  |  947807.0                    | 576666.7                     | 102125.0                     | 678791.7                     | 269015.3                     |\n",
       "| Fixed Staffing Rate is Low   | 1175307.0                    | 403666.7                     | 366100.0                     | 769766.7                     | 405540.3                     |\n",
       "| Linear Regression            | 1060117.1                    | 471982.0                     | 208692.4                     | 680674.4                     | 379442.8                     |\n",
       "| Linear Regression + Buffer   |  991559.2                    | 529648.7                     | 107967.0                     | 637615.6                     | 353943.6                     |\n",
       "| Piece-wise Linear Regression | 1104973.5                    | 465671.5                     | 253215.9                     | 718887.4                     | 386086.1                     |\n",
       "\n"
      ],
      "text/plain": [
       "  model                        revenue   staff_cost dissatisfaction_cost\n",
       "1 Fixed Staffing Rate is High   947807.0 576666.7   102125.0            \n",
       "2 Fixed Staffing Rate is Low   1175307.0 403666.7   366100.0            \n",
       "3 Linear Regression            1060117.1 471982.0   208692.4            \n",
       "4 Linear Regression + Buffer    991559.2 529648.7   107967.0            \n",
       "5 Piece-wise Linear Regression 1104973.5 465671.5   253215.9            \n",
       "  cost     profit  \n",
       "1 678791.7 269015.3\n",
       "2 769766.7 405540.3\n",
       "3 680674.4 379442.8\n",
       "4 637615.6 353943.6\n",
       "5 718887.4 386086.1"
      ]
     },
     "metadata": {},
     "output_type": "display_data"
    }
   ],
   "source": [
    "business_value.cc = rbind(business_value.hf.cc,\n",
    "                          business_value.lf.cc,\n",
    "                          business_value.lr.cc,\n",
    "                          business_value.lrb.cc,\n",
    "                          business_value.plr.cc)\n",
    "business_value.cc"
   ]
  },
  {
   "cell_type": "code",
   "execution_count": 55,
   "metadata": {
    "hide_input": false,
    "scrolled": true
   },
   "outputs": [
    {
     "data": {
      "image/png": "[encoded data removed]",
      "text/plain": [
       "plot without title"
      ]
     },
     "metadata": {},
     "output_type": "display_data"
    }
   ],
   "source": [
    "ggplot(business_value.cc) + ggtitle(\"Call Center Profit\") +\n",
    "geom_col(aes(x=model, y=profit, fill=model)) + theme.x_axis_45 + theme.no_legend"
   ]
  },
  {
   "cell_type": "markdown",
   "metadata": {},
   "source": [
    "### Client Perspective"
   ]
  },
  {
   "cell_type": "code",
   "execution_count": 56,
   "metadata": {
    "hide_input": false,
    "scrolled": true
   },
   "outputs": [
    {
     "data": {
      "text/html": [
       "<table>\n",
       "<thead><tr><th scope=col>model</th><th scope=col>call_cost</th><th scope=col>dissatisfaction_credit</th><th scope=col>cost</th><th scope=col>savings</th><th scope=col>csat</th></tr></thead>\n",
       "<tbody>\n",
       "\t<tr><td>Fixed Staffing Rate is High </td><td> 947807.0                   </td><td>102125.0                    </td><td>845682.0                    </td><td>154318.0                    </td><td>0.9664709                   </td></tr>\n",
       "\t<tr><td>Fixed Staffing Rate is Low  </td><td>1175307.0                   </td><td>366100.0                    </td><td>809207.0                    </td><td>190793.0                    </td><td>0.8797232                   </td></tr>\n",
       "\t<tr><td>Linear Regression           </td><td>1060117.1                   </td><td>208692.4                    </td><td>851424.8                    </td><td>148575.2                    </td><td>0.9312927                   </td></tr>\n",
       "\t<tr><td>Linear Regression + Buffer  </td><td> 991559.2                   </td><td>107967.0                    </td><td>883592.3                    </td><td>116407.7                    </td><td>0.9642675                   </td></tr>\n",
       "\t<tr><td>Piece-wise Linear Regression</td><td>1104973.5                   </td><td>253215.9                    </td><td>851757.6                    </td><td>148242.4                    </td><td>0.9166433                   </td></tr>\n",
       "</tbody>\n",
       "</table>\n"
      ],
      "text/latex": [
       "\\begin{tabular}{r|llllll}\n",
       " model & call\\_cost & dissatisfaction\\_credit & cost & savings & csat\\\\\n",
       "\\hline\n",
       "\t Fixed Staffing Rate is High  &  947807.0                    & 102125.0                     & 845682.0                     & 154318.0                     & 0.9664709                   \\\\\n",
       "\t Fixed Staffing Rate is Low   & 1175307.0                    & 366100.0                     & 809207.0                     & 190793.0                     & 0.8797232                   \\\\\n",
       "\t Linear Regression            & 1060117.1                    & 208692.4                     & 851424.8                     & 148575.2                     & 0.9312927                   \\\\\n",
       "\t Linear Regression + Buffer   &  991559.2                    & 107967.0                     & 883592.3                     & 116407.7                     & 0.9642675                   \\\\\n",
       "\t Piece-wise Linear Regression & 1104973.5                    & 253215.9                     & 851757.6                     & 148242.4                     & 0.9166433                   \\\\\n",
       "\\end{tabular}\n"
      ],
      "text/markdown": [
       "\n",
       "| model | call_cost | dissatisfaction_credit | cost | savings | csat |\n",
       "|---|---|---|---|---|---|\n",
       "| Fixed Staffing Rate is High  |  947807.0                    | 102125.0                     | 845682.0                     | 154318.0                     | 0.9664709                    |\n",
       "| Fixed Staffing Rate is Low   | 1175307.0                    | 366100.0                     | 809207.0                     | 190793.0                     | 0.8797232                    |\n",
       "| Linear Regression            | 1060117.1                    | 208692.4                     | 851424.8                     | 148575.2                     | 0.9312927                    |\n",
       "| Linear Regression + Buffer   |  991559.2                    | 107967.0                     | 883592.3                     | 116407.7                     | 0.9642675                    |\n",
       "| Piece-wise Linear Regression | 1104973.5                    | 253215.9                     | 851757.6                     | 148242.4                     | 0.9166433                    |\n",
       "\n"
      ],
      "text/plain": [
       "  model                        call_cost dissatisfaction_credit cost    \n",
       "1 Fixed Staffing Rate is High   947807.0 102125.0               845682.0\n",
       "2 Fixed Staffing Rate is Low   1175307.0 366100.0               809207.0\n",
       "3 Linear Regression            1060117.1 208692.4               851424.8\n",
       "4 Linear Regression + Buffer    991559.2 107967.0               883592.3\n",
       "5 Piece-wise Linear Regression 1104973.5 253215.9               851757.6\n",
       "  savings  csat     \n",
       "1 154318.0 0.9664709\n",
       "2 190793.0 0.8797232\n",
       "3 148575.2 0.9312927\n",
       "4 116407.7 0.9642675\n",
       "5 148242.4 0.9166433"
      ]
     },
     "metadata": {},
     "output_type": "display_data"
    }
   ],
   "source": [
    "business_value.client = rbind(business_value.hf.client,\n",
    "                              business_value.lf.client,\n",
    "                              business_value.lr.client,\n",
    "                              business_value.lrb.client,\n",
    "                              business_value.plr.client)\n",
    "business_value.client"
   ]
  },
  {
   "cell_type": "code",
   "execution_count": 57,
   "metadata": {
    "hide_input": false,
    "scrolled": true
   },
   "outputs": [
    {
     "data": {
      "image/png": "[encoded data removed]",
      "text/plain": [
       "plot without title"
      ]
     },
     "metadata": {},
     "output_type": "display_data"
    }
   ],
   "source": [
    "ggplot(business_value.client) + ggtitle(\"Client Savings\") +\n",
    "geom_col(aes(x=model, y=savings, fill=model)) +\n",
    "theme.x_axis_45 + theme.no_legend"
   ]
  },
  {
   "cell_type": "code",
   "execution_count": 58,
   "metadata": {
    "hide_input": false,
    "scrolled": true
   },
   "outputs": [
    {
     "data": {
      "image/png": "[encoded data removed]",
      "text/plain": [
       "plot without title"
      ]
     },
     "metadata": {},
     "output_type": "display_data"
    }
   ],
   "source": [
    "ggplot(business_value.client) + ggtitle(\"Customer Satisfaction\") +\n",
    "geom_col(aes(x=model, y=csat-0.80, fill=model)) + \n",
    "theme.x_axis_45 + theme.no_legend"
   ]
  },
  {
   "cell_type": "markdown",
   "metadata": {},
   "source": [
    "### Partnership Perspective"
   ]
  },
  {
   "cell_type": "code",
   "execution_count": 59,
   "metadata": {},
   "outputs": [
    {
     "data": {
      "image/png": "[encoded data removed]",
      "text/plain": [
       "plot without title"
      ]
     },
     "metadata": {},
     "output_type": "display_data"
    }
   ],
   "source": [
    "business_value = merge(business_value.cc[,c(1,6)], business_value.client[,c(1,5,6)])\n",
    "business_value$csat = business_value$csat * max(business_value$profit)\n",
    "business_value.long = melt(business_value, id=\"model\")\n",
    "\n",
    "output_size(8, 5)\n",
    "ggplot(business_value.long) + ggtitle(\"Competing Incentives\") +\n",
    "geom_line(aes(x=model, y=value, group=variable, color=variable)) + \n",
    "geom_point(aes(x=model, y=value, group=variable, color=variable)) + \n",
    "facet_wrap(~variable, nrow=3) +\n",
    "ylab(\"$ or csat\") + theme.no_legend"
   ]
  },
  {
   "cell_type": "markdown",
   "metadata": {},
   "source": [
    "## Discussion\n",
    "\n",
    "* How are incentives for call center and client aligned/misaligned?\n",
    "* How are client goals for savings and customer satisfaction aligned/misaligned?\n",
    "* How could you improve the model?\n",
    "* How could you improve the contract?"
   ]
  },
  {
   "cell_type": "markdown",
   "metadata": {},
   "source": [
    "<font size=1;>\n",
    "<p style=\"text-align: left;\">\n",
    "Copyright (c) Berkeley Data Analytics Group, LLC\n",
    "<span style=\"float: right;\">\n",
    "Document revised April 20, 2020\n",
    "</span>\n",
    "</p>\n",
    "</font>"
   ]
  }
 ],
 "metadata": {
  "hide_code_all_hidden": false,
  "hide_input": false,
  "kernelspec": {
   "display_name": "R",
   "language": "R",
   "name": "ir"
  },
  "language_info": {
   "codemirror_mode": "r",
   "file_extension": ".r",
   "mimetype": "text/x-r-source",
   "name": "R",
   "pygments_lexer": "r",
   "version": "3.6.1"
  },
  "toc": {
   "base_numbering": 1,
   "nav_menu": {},
   "number_sections": true,
   "sideBar": true,
   "skip_h1_title": true,
   "title_cell": "Table of Contents",
   "title_sidebar": "Contents",
   "toc_cell": false,
   "toc_position": {},
   "toc_section_display": true,
   "toc_window_display": true
  }
 },
 "nbformat": 4,
 "nbformat_minor": 2
}
