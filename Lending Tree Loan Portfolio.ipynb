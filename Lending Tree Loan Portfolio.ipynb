{
 "cells": [
  {
   "cell_type": "markdown",
   "metadata": {
    "hideCode": false,
    "hidePrompt": false
   },
   "source": [
    "# Lending Tree Loan Portfolio\n",
    "\n",
    "![](banner_lending_tree.jpg)\n",
    "\n",
    "Exploratory Data Analysis (EDA), Kernel Density Estimation (KDE), Principal Component Analysis (PCA), Classification"
   ]
  },
  {
   "cell_type": "code",
   "execution_count": 1,
   "metadata": {
    "hide_input": true,
    "scrolled": true
   },
   "outputs": [
    {
     "data": {
      "text/html": [
       "<p style=\"text-align:center; font-size:10px;\">\n",
       ".................................................... start of document ....................................................\n",
       "</p>"
      ]
     },
     "metadata": {},
     "output_type": "display_data"
    }
   ],
   "source": [
    "f = \"setup.R\"; for (i in 1:10) { if (file.exists(f)) break else f = paste0(\"../\", f) }; source(f)                                                     \n",
    "update_geom_defaults(\"point\", list(size=0.01, colour=PALETTE[1]))\n",
    "update_geom_defaults(\"vline\", list(color=\"black\", size=0.15))"
   ]
  },
  {
   "cell_type": "markdown",
   "metadata": {},
   "source": [
    "## Situation\n",
    "\n",
    "LendingTree is an online lending exchange that connects consumers with multiple lenders, banks, and credit partners who compete for business.  Since being founded in 1998 LendingTree has facilitated more than 32 million loan requests.\n",
    "\n",
    "* **Role:** Banker. \n",
    "* **Business Decision:** Take on a new portfolio of loans?\n",
    "* **Approach:** Use kernel density estimation and principal component analysis to look for features that distinguish known good vs. bad loans, and use that insight to inform decisions about taking on on new portfolio of loans.  \n",
    "* **Dataset:** Lending Tree Loans 2007-2010"
   ]
  },
  {
   "cell_type": "markdown",
   "metadata": {},
   "source": [
    "## Decision Model"
   ]
  },
  {
   "cell_type": "markdown",
   "metadata": {},
   "source": [
    "### Influence Diagram\n",
    "\n",
    "<img src=\"business-model_lending_tree.jpg\" align=left width=600 />"
   ]
  },
  {
   "cell_type": "markdown",
   "metadata": {},
   "source": [
    "## Data "
   ]
  },
  {
   "cell_type": "code",
   "execution_count": 2,
   "metadata": {
    "hide_input": true,
    "scrolled": false
   },
   "outputs": [
    {
     "data": {
      "text/html": [
       "<table>\n",
       "<thead><tr><th scope=col>observations</th><th scope=col>variables</th></tr></thead>\n",
       "<tbody>\n",
       "\t<tr><td>887379</td><td>74    </td></tr>\n",
       "</tbody>\n",
       "</table>\n"
      ],
      "text/latex": [
       "\\begin{tabular}{r|ll}\n",
       " observations & variables\\\\\n",
       "\\hline\n",
       "\t 887379 & 74    \\\\\n",
       "\\end{tabular}\n"
      ],
      "text/markdown": [
       "\n",
       "| observations | variables |\n",
       "|---|---|\n",
       "| 887379 | 74     |\n",
       "\n"
      ],
      "text/plain": [
       "  observations variables\n",
       "1 887379       74       "
      ]
     },
     "metadata": {},
     "output_type": "display_data"
    },
    {
     "data": {
      "text/html": [
       "<table>\n",
       "<caption><left><font color=\"black\"><b>First few observations ...</b></font></left></caption>\n",
       " <thead>\n",
       "  <tr>\n",
       "   <th style=\"text-align:right;background-color: #FFFFFF !important;\"> id </th>\n",
       "   <th style=\"text-align:right;background-color: #FFFFFF !important;\"> member_id </th>\n",
       "   <th style=\"text-align:right;background-color: #FFFFFF !important;\"> loan_amnt </th>\n",
       "   <th style=\"text-align:right;background-color: #FFFFFF !important;\"> funded_amnt </th>\n",
       "   <th style=\"text-align:right;background-color: #FFFFFF !important;\"> funded_amnt_inv </th>\n",
       "   <th style=\"text-align:right;background-color: #FFFFFF !important;\"> term </th>\n",
       "   <th style=\"text-align:right;background-color: #FFFFFF !important;\"> int_rate </th>\n",
       "   <th style=\"text-align:right;background-color: #FFFFFF !important;\"> installment </th>\n",
       "   <th style=\"text-align:right;background-color: #FFFFFF !important;\"> grade </th>\n",
       "   <th style=\"text-align:right;background-color: #FFFFFF !important;\"> sub_grade </th>\n",
       "   <th style=\"text-align:right;background-color: #FFFFFF !important;\"> emp_title </th>\n",
       "   <th style=\"text-align:right;background-color: #FFFFFF !important;\"> emp_length </th>\n",
       "   <th style=\"text-align:right;background-color: #FFFFFF !important;\"> home_ownership </th>\n",
       "   <th style=\"text-align:right;background-color: #FFFFFF !important;\"> annual_inc </th>\n",
       "   <th style=\"text-align:right;background-color: #FFFFFF !important;\"> verification_status </th>\n",
       "   <th style=\"text-align:right;background-color: #FFFFFF !important;\"> issue_d </th>\n",
       "   <th style=\"text-align:right;background-color: #FFFFFF !important;\"> loan_status </th>\n",
       "   <th style=\"text-align:right;background-color: #FFFFFF !important;\"> pymnt_plan </th>\n",
       "   <th style=\"text-align:right;background-color: #FFFFFF !important;\"> url </th>\n",
       "   <th style=\"text-align:right;background-color: #FFFFFF !important;\"> desc </th>\n",
       "   <th style=\"text-align:right;background-color: #FFFFFF !important;\"> purpose </th>\n",
       "   <th style=\"text-align:right;background-color: #FFFFFF !important;\"> title </th>\n",
       "   <th style=\"text-align:right;background-color: #FFFFFF !important;\"> zip_code </th>\n",
       "   <th style=\"text-align:right;background-color: #FFFFFF !important;\"> addr_state </th>\n",
       "   <th style=\"text-align:right;background-color: #FFFFFF !important;\"> dti </th>\n",
       "   <th style=\"text-align:right;background-color: #FFFFFF !important;\"> delinq_2yrs </th>\n",
       "   <th style=\"text-align:right;background-color: #FFFFFF !important;\"> earliest_cr_line </th>\n",
       "   <th style=\"text-align:right;background-color: #FFFFFF !important;\"> inq_last_6mths </th>\n",
       "   <th style=\"text-align:right;background-color: #FFFFFF !important;\"> mths_since_last_delinq </th>\n",
       "   <th style=\"text-align:right;background-color: #FFFFFF !important;\"> mths_since_last_record </th>\n",
       "   <th style=\"text-align:right;background-color: #FFFFFF !important;\"> open_acc </th>\n",
       "   <th style=\"text-align:right;background-color: #FFFFFF !important;\"> pub_rec </th>\n",
       "   <th style=\"text-align:right;background-color: #FFFFFF !important;\"> revol_bal </th>\n",
       "   <th style=\"text-align:right;background-color: #FFFFFF !important;\"> revol_util </th>\n",
       "   <th style=\"text-align:right;background-color: #FFFFFF !important;\"> total_acc </th>\n",
       "   <th style=\"text-align:right;background-color: #FFFFFF !important;\"> initial_list_status </th>\n",
       "   <th style=\"text-align:right;background-color: #FFFFFF !important;\"> out_prncp </th>\n",
       "   <th style=\"text-align:right;background-color: #FFFFFF !important;\"> out_prncp_inv </th>\n",
       "   <th style=\"text-align:right;background-color: #FFFFFF !important;\"> total_pymnt </th>\n",
       "   <th style=\"text-align:right;background-color: #FFFFFF !important;\"> total_pymnt_inv </th>\n",
       "   <th style=\"text-align:right;background-color: #FFFFFF !important;\"> total_rec_prncp </th>\n",
       "   <th style=\"text-align:right;background-color: #FFFFFF !important;\"> total_rec_int </th>\n",
       "   <th style=\"text-align:right;background-color: #FFFFFF !important;\"> total_rec_late_fee </th>\n",
       "   <th style=\"text-align:right;background-color: #FFFFFF !important;\"> recoveries </th>\n",
       "   <th style=\"text-align:right;background-color: #FFFFFF !important;\"> collection_recovery_fee </th>\n",
       "   <th style=\"text-align:right;background-color: #FFFFFF !important;\"> last_pymnt_d </th>\n",
       "   <th style=\"text-align:right;background-color: #FFFFFF !important;\"> last_pymnt_amnt </th>\n",
       "   <th style=\"text-align:right;background-color: #FFFFFF !important;\"> next_pymnt_d </th>\n",
       "   <th style=\"text-align:right;background-color: #FFFFFF !important;\"> last_credit_pull_d </th>\n",
       "   <th style=\"text-align:right;background-color: #FFFFFF !important;\"> collections_12_mths_ex_med </th>\n",
       "   <th style=\"text-align:right;background-color: #FFFFFF !important;\"> mths_since_last_major_derog </th>\n",
       "   <th style=\"text-align:right;background-color: #FFFFFF !important;\"> policy_code </th>\n",
       "   <th style=\"text-align:right;background-color: #FFFFFF !important;\"> application_type </th>\n",
       "   <th style=\"text-align:right;background-color: #FFFFFF !important;\"> annual_inc_joint </th>\n",
       "   <th style=\"text-align:right;background-color: #FFFFFF !important;\"> dti_joint </th>\n",
       "   <th style=\"text-align:right;background-color: #FFFFFF !important;\"> verification_status_joint </th>\n",
       "   <th style=\"text-align:right;background-color: #FFFFFF !important;\"> acc_now_delinq </th>\n",
       "   <th style=\"text-align:right;background-color: #FFFFFF !important;\"> tot_coll_amt </th>\n",
       "   <th style=\"text-align:right;background-color: #FFFFFF !important;\"> tot_cur_bal </th>\n",
       "   <th style=\"text-align:right;background-color: #FFFFFF !important;\"> open_acc_6m </th>\n",
       "   <th style=\"text-align:right;background-color: #FFFFFF !important;\"> open_il_6m </th>\n",
       "   <th style=\"text-align:right;background-color: #FFFFFF !important;\"> open_il_12m </th>\n",
       "   <th style=\"text-align:right;background-color: #FFFFFF !important;\"> open_il_24m </th>\n",
       "   <th style=\"text-align:right;background-color: #FFFFFF !important;\"> mths_since_rcnt_il </th>\n",
       "   <th style=\"text-align:right;background-color: #FFFFFF !important;\"> total_bal_il </th>\n",
       "   <th style=\"text-align:right;background-color: #FFFFFF !important;\"> il_util </th>\n",
       "   <th style=\"text-align:right;background-color: #FFFFFF !important;\"> open_rv_12m </th>\n",
       "   <th style=\"text-align:right;background-color: #FFFFFF !important;\"> open_rv_24m </th>\n",
       "   <th style=\"text-align:right;background-color: #FFFFFF !important;\"> max_bal_bc </th>\n",
       "   <th style=\"text-align:right;background-color: #FFFFFF !important;\"> all_util </th>\n",
       "   <th style=\"text-align:right;background-color: #FFFFFF !important;\"> total_rev_hi_lim </th>\n",
       "   <th style=\"text-align:right;background-color: #FFFFFF !important;\"> inq_fi </th>\n",
       "   <th style=\"text-align:right;background-color: #FFFFFF !important;\"> total_cu_tl </th>\n",
       "   <th style=\"text-align:right;background-color: #FFFFFF !important;\"> inq_last_12m </th>\n",
       "  </tr>\n",
       " </thead>\n",
       "<tbody>\n",
       "  <tr>\n",
       "   <td style=\"text-align:right;\"> 1077501 </td>\n",
       "   <td style=\"text-align:right;\"> 1296599 </td>\n",
       "   <td style=\"text-align:right;\"> 5000 </td>\n",
       "   <td style=\"text-align:right;\"> 5000 </td>\n",
       "   <td style=\"text-align:right;\"> 4975 </td>\n",
       "   <td style=\"text-align:right;\"> 36 months </td>\n",
       "   <td style=\"text-align:right;\"> 10.65 </td>\n",
       "   <td style=\"text-align:right;\"> 162.87 </td>\n",
       "   <td style=\"text-align:right;\"> B </td>\n",
       "   <td style=\"text-align:right;\"> B2 </td>\n",
       "   <td style=\"text-align:right;\">  </td>\n",
       "   <td style=\"text-align:right;\"> 10+ years </td>\n",
       "   <td style=\"text-align:right;\"> RENT </td>\n",
       "   <td style=\"text-align:right;\"> 24000 </td>\n",
       "   <td style=\"text-align:right;\"> Verified </td>\n",
       "   <td style=\"text-align:right;\"> Dec-2011 </td>\n",
       "   <td style=\"text-align:right;\"> Fully Paid </td>\n",
       "   <td style=\"text-align:right;\"> n </td>\n",
       "   <td style=\"text-align:right;\"> https://www.lendingclub.com/browse/loanDetail.action?loan_id=1077501 </td>\n",
       "   <td style=\"text-align:right;\"> Borrower added on 12/22/11 &gt; I need to upgrade my business technologies.&lt;br&gt; </td>\n",
       "   <td style=\"text-align:right;\"> credit_card </td>\n",
       "   <td style=\"text-align:right;\"> Computer </td>\n",
       "   <td style=\"text-align:right;\"> 860xx </td>\n",
       "   <td style=\"text-align:right;\"> AZ </td>\n",
       "   <td style=\"text-align:right;\"> 27.65 </td>\n",
       "   <td style=\"text-align:right;\"> 0 </td>\n",
       "   <td style=\"text-align:right;\"> Jan-1985 </td>\n",
       "   <td style=\"text-align:right;\"> 1 </td>\n",
       "   <td style=\"text-align:right;\"> NA </td>\n",
       "   <td style=\"text-align:right;\"> NA </td>\n",
       "   <td style=\"text-align:right;\"> 3 </td>\n",
       "   <td style=\"text-align:right;\"> 0 </td>\n",
       "   <td style=\"text-align:right;\"> 13648 </td>\n",
       "   <td style=\"text-align:right;\"> 83.7 </td>\n",
       "   <td style=\"text-align:right;\"> 9 </td>\n",
       "   <td style=\"text-align:right;\"> f </td>\n",
       "   <td style=\"text-align:right;\"> 0 </td>\n",
       "   <td style=\"text-align:right;\"> 0 </td>\n",
       "   <td style=\"text-align:right;\"> 5861.071 </td>\n",
       "   <td style=\"text-align:right;\"> 5831.78 </td>\n",
       "   <td style=\"text-align:right;\"> 5000.00 </td>\n",
       "   <td style=\"text-align:right;\"> 861.07 </td>\n",
       "   <td style=\"text-align:right;\"> 0 </td>\n",
       "   <td style=\"text-align:right;\"> 0.00 </td>\n",
       "   <td style=\"text-align:right;\"> 0.00 </td>\n",
       "   <td style=\"text-align:right;\"> Jan-2015 </td>\n",
       "   <td style=\"text-align:right;\"> 171.62 </td>\n",
       "   <td style=\"text-align:right;\">  </td>\n",
       "   <td style=\"text-align:right;\"> Jan-2016 </td>\n",
       "   <td style=\"text-align:right;\"> 0 </td>\n",
       "   <td style=\"text-align:right;\"> NA </td>\n",
       "   <td style=\"text-align:right;\"> 1 </td>\n",
       "   <td style=\"text-align:right;\"> INDIVIDUAL </td>\n",
       "   <td style=\"text-align:right;\"> NA </td>\n",
       "   <td style=\"text-align:right;\"> NA </td>\n",
       "   <td style=\"text-align:right;\">  </td>\n",
       "   <td style=\"text-align:right;\"> 0 </td>\n",
       "   <td style=\"text-align:right;\"> NA </td>\n",
       "   <td style=\"text-align:right;\"> NA </td>\n",
       "   <td style=\"text-align:right;\"> NA </td>\n",
       "   <td style=\"text-align:right;\"> NA </td>\n",
       "   <td style=\"text-align:right;\"> NA </td>\n",
       "   <td style=\"text-align:right;\"> NA </td>\n",
       "   <td style=\"text-align:right;\"> NA </td>\n",
       "   <td style=\"text-align:right;\"> NA </td>\n",
       "   <td style=\"text-align:right;\"> NA </td>\n",
       "   <td style=\"text-align:right;\"> NA </td>\n",
       "   <td style=\"text-align:right;\"> NA </td>\n",
       "   <td style=\"text-align:right;\"> NA </td>\n",
       "   <td style=\"text-align:right;\"> NA </td>\n",
       "   <td style=\"text-align:right;\"> NA </td>\n",
       "   <td style=\"text-align:right;\"> NA </td>\n",
       "   <td style=\"text-align:right;\"> NA </td>\n",
       "   <td style=\"text-align:right;\"> NA </td>\n",
       "  </tr>\n",
       "  <tr>\n",
       "   <td style=\"text-align:right;\"> 1077430 </td>\n",
       "   <td style=\"text-align:right;\"> 1314167 </td>\n",
       "   <td style=\"text-align:right;\"> 2500 </td>\n",
       "   <td style=\"text-align:right;\"> 2500 </td>\n",
       "   <td style=\"text-align:right;\"> 2500 </td>\n",
       "   <td style=\"text-align:right;\"> 60 months </td>\n",
       "   <td style=\"text-align:right;\"> 15.27 </td>\n",
       "   <td style=\"text-align:right;\"> 59.83 </td>\n",
       "   <td style=\"text-align:right;\"> C </td>\n",
       "   <td style=\"text-align:right;\"> C4 </td>\n",
       "   <td style=\"text-align:right;\"> Ryder </td>\n",
       "   <td style=\"text-align:right;\"> &lt; 1 year </td>\n",
       "   <td style=\"text-align:right;\"> RENT </td>\n",
       "   <td style=\"text-align:right;\"> 30000 </td>\n",
       "   <td style=\"text-align:right;\"> Source Verified </td>\n",
       "   <td style=\"text-align:right;\"> Dec-2011 </td>\n",
       "   <td style=\"text-align:right;\"> Charged Off </td>\n",
       "   <td style=\"text-align:right;\"> n </td>\n",
       "   <td style=\"text-align:right;\"> https://www.lendingclub.com/browse/loanDetail.action?loan_id=1077430 </td>\n",
       "   <td style=\"text-align:right;\"> Borrower added on 12/22/11 &gt; I plan to use this money to finance the motorcycle i am looking at. I plan to have it paid off as soon as possible/when i sell my old bike. I only need this money because the deal im looking at is to good to pass up.&lt;br&gt;&lt;br&gt;  Borrower added on 12/22/11 &gt; I plan to use this money to finance the motorcycle i am looking at. I plan to have it paid off as soon as possible/when i sell my old bike.I only need this money because the deal im looking at is to good to pass up. I have finished college with an associates degree in business and its takingmeplaces&lt;br&gt; </td>\n",
       "   <td style=\"text-align:right;\"> car </td>\n",
       "   <td style=\"text-align:right;\"> bike </td>\n",
       "   <td style=\"text-align:right;\"> 309xx </td>\n",
       "   <td style=\"text-align:right;\"> GA </td>\n",
       "   <td style=\"text-align:right;\"> 1.00 </td>\n",
       "   <td style=\"text-align:right;\"> 0 </td>\n",
       "   <td style=\"text-align:right;\"> Apr-1999 </td>\n",
       "   <td style=\"text-align:right;\"> 5 </td>\n",
       "   <td style=\"text-align:right;\"> NA </td>\n",
       "   <td style=\"text-align:right;\"> NA </td>\n",
       "   <td style=\"text-align:right;\"> 3 </td>\n",
       "   <td style=\"text-align:right;\"> 0 </td>\n",
       "   <td style=\"text-align:right;\"> 1687 </td>\n",
       "   <td style=\"text-align:right;\"> 9.4 </td>\n",
       "   <td style=\"text-align:right;\"> 4 </td>\n",
       "   <td style=\"text-align:right;\"> f </td>\n",
       "   <td style=\"text-align:right;\"> 0 </td>\n",
       "   <td style=\"text-align:right;\"> 0 </td>\n",
       "   <td style=\"text-align:right;\"> 1008.710 </td>\n",
       "   <td style=\"text-align:right;\"> 1008.71 </td>\n",
       "   <td style=\"text-align:right;\"> 456.46 </td>\n",
       "   <td style=\"text-align:right;\"> 435.17 </td>\n",
       "   <td style=\"text-align:right;\"> 0 </td>\n",
       "   <td style=\"text-align:right;\"> 117.08 </td>\n",
       "   <td style=\"text-align:right;\"> 1.11 </td>\n",
       "   <td style=\"text-align:right;\"> Apr-2013 </td>\n",
       "   <td style=\"text-align:right;\"> 119.66 </td>\n",
       "   <td style=\"text-align:right;\">  </td>\n",
       "   <td style=\"text-align:right;\"> Sep-2013 </td>\n",
       "   <td style=\"text-align:right;\"> 0 </td>\n",
       "   <td style=\"text-align:right;\"> NA </td>\n",
       "   <td style=\"text-align:right;\"> 1 </td>\n",
       "   <td style=\"text-align:right;\"> INDIVIDUAL </td>\n",
       "   <td style=\"text-align:right;\"> NA </td>\n",
       "   <td style=\"text-align:right;\"> NA </td>\n",
       "   <td style=\"text-align:right;\">  </td>\n",
       "   <td style=\"text-align:right;\"> 0 </td>\n",
       "   <td style=\"text-align:right;\"> NA </td>\n",
       "   <td style=\"text-align:right;\"> NA </td>\n",
       "   <td style=\"text-align:right;\"> NA </td>\n",
       "   <td style=\"text-align:right;\"> NA </td>\n",
       "   <td style=\"text-align:right;\"> NA </td>\n",
       "   <td style=\"text-align:right;\"> NA </td>\n",
       "   <td style=\"text-align:right;\"> NA </td>\n",
       "   <td style=\"text-align:right;\"> NA </td>\n",
       "   <td style=\"text-align:right;\"> NA </td>\n",
       "   <td style=\"text-align:right;\"> NA </td>\n",
       "   <td style=\"text-align:right;\"> NA </td>\n",
       "   <td style=\"text-align:right;\"> NA </td>\n",
       "   <td style=\"text-align:right;\"> NA </td>\n",
       "   <td style=\"text-align:right;\"> NA </td>\n",
       "   <td style=\"text-align:right;\"> NA </td>\n",
       "   <td style=\"text-align:right;\"> NA </td>\n",
       "   <td style=\"text-align:right;\"> NA </td>\n",
       "  </tr>\n",
       "  <tr>\n",
       "   <td style=\"text-align:right;\"> 1077175 </td>\n",
       "   <td style=\"text-align:right;\"> 1313524 </td>\n",
       "   <td style=\"text-align:right;\"> 2400 </td>\n",
       "   <td style=\"text-align:right;\"> 2400 </td>\n",
       "   <td style=\"text-align:right;\"> 2400 </td>\n",
       "   <td style=\"text-align:right;\"> 36 months </td>\n",
       "   <td style=\"text-align:right;\"> 15.96 </td>\n",
       "   <td style=\"text-align:right;\"> 84.33 </td>\n",
       "   <td style=\"text-align:right;\"> C </td>\n",
       "   <td style=\"text-align:right;\"> C5 </td>\n",
       "   <td style=\"text-align:right;\">  </td>\n",
       "   <td style=\"text-align:right;\"> 10+ years </td>\n",
       "   <td style=\"text-align:right;\"> RENT </td>\n",
       "   <td style=\"text-align:right;\"> 12252 </td>\n",
       "   <td style=\"text-align:right;\"> Not Verified </td>\n",
       "   <td style=\"text-align:right;\"> Dec-2011 </td>\n",
       "   <td style=\"text-align:right;\"> Fully Paid </td>\n",
       "   <td style=\"text-align:right;\"> n </td>\n",
       "   <td style=\"text-align:right;\"> https://www.lendingclub.com/browse/loanDetail.action?loan_id=1077175 </td>\n",
       "   <td style=\"text-align:right;\">  </td>\n",
       "   <td style=\"text-align:right;\"> small_business </td>\n",
       "   <td style=\"text-align:right;\"> real estate business </td>\n",
       "   <td style=\"text-align:right;\"> 606xx </td>\n",
       "   <td style=\"text-align:right;\"> IL </td>\n",
       "   <td style=\"text-align:right;\"> 8.72 </td>\n",
       "   <td style=\"text-align:right;\"> 0 </td>\n",
       "   <td style=\"text-align:right;\"> Nov-2001 </td>\n",
       "   <td style=\"text-align:right;\"> 2 </td>\n",
       "   <td style=\"text-align:right;\"> NA </td>\n",
       "   <td style=\"text-align:right;\"> NA </td>\n",
       "   <td style=\"text-align:right;\"> 2 </td>\n",
       "   <td style=\"text-align:right;\"> 0 </td>\n",
       "   <td style=\"text-align:right;\"> 2956 </td>\n",
       "   <td style=\"text-align:right;\"> 98.5 </td>\n",
       "   <td style=\"text-align:right;\"> 10 </td>\n",
       "   <td style=\"text-align:right;\"> f </td>\n",
       "   <td style=\"text-align:right;\"> 0 </td>\n",
       "   <td style=\"text-align:right;\"> 0 </td>\n",
       "   <td style=\"text-align:right;\"> 3003.654 </td>\n",
       "   <td style=\"text-align:right;\"> 3003.65 </td>\n",
       "   <td style=\"text-align:right;\"> 2400.00 </td>\n",
       "   <td style=\"text-align:right;\"> 603.65 </td>\n",
       "   <td style=\"text-align:right;\"> 0 </td>\n",
       "   <td style=\"text-align:right;\"> 0.00 </td>\n",
       "   <td style=\"text-align:right;\"> 0.00 </td>\n",
       "   <td style=\"text-align:right;\"> Jun-2014 </td>\n",
       "   <td style=\"text-align:right;\"> 649.91 </td>\n",
       "   <td style=\"text-align:right;\">  </td>\n",
       "   <td style=\"text-align:right;\"> Jan-2016 </td>\n",
       "   <td style=\"text-align:right;\"> 0 </td>\n",
       "   <td style=\"text-align:right;\"> NA </td>\n",
       "   <td style=\"text-align:right;\"> 1 </td>\n",
       "   <td style=\"text-align:right;\"> INDIVIDUAL </td>\n",
       "   <td style=\"text-align:right;\"> NA </td>\n",
       "   <td style=\"text-align:right;\"> NA </td>\n",
       "   <td style=\"text-align:right;\">  </td>\n",
       "   <td style=\"text-align:right;\"> 0 </td>\n",
       "   <td style=\"text-align:right;\"> NA </td>\n",
       "   <td style=\"text-align:right;\"> NA </td>\n",
       "   <td style=\"text-align:right;\"> NA </td>\n",
       "   <td style=\"text-align:right;\"> NA </td>\n",
       "   <td style=\"text-align:right;\"> NA </td>\n",
       "   <td style=\"text-align:right;\"> NA </td>\n",
       "   <td style=\"text-align:right;\"> NA </td>\n",
       "   <td style=\"text-align:right;\"> NA </td>\n",
       "   <td style=\"text-align:right;\"> NA </td>\n",
       "   <td style=\"text-align:right;\"> NA </td>\n",
       "   <td style=\"text-align:right;\"> NA </td>\n",
       "   <td style=\"text-align:right;\"> NA </td>\n",
       "   <td style=\"text-align:right;\"> NA </td>\n",
       "   <td style=\"text-align:right;\"> NA </td>\n",
       "   <td style=\"text-align:right;\"> NA </td>\n",
       "   <td style=\"text-align:right;\"> NA </td>\n",
       "   <td style=\"text-align:right;\"> NA </td>\n",
       "  </tr>\n",
       "</tbody>\n",
       "</table>"
      ]
     },
     "metadata": {},
     "output_type": "display_data"
    }
   ],
   "source": [
    "datax = read.csv(\"Lending Tree Loans.csv\") # may take about 2 minutes\n",
    "size(datax)\n",
    "fmt(datax[1:3,], \"First few observations ...\", position=\"left\")"
   ]
  },
  {
   "cell_type": "markdown",
   "metadata": {},
   "source": [
    "## Prepare Data"
   ]
  },
  {
   "cell_type": "markdown",
   "metadata": {
    "hide_input": true
   },
   "source": [
    "### Focus Analysis on Data Subset\n",
    "\n",
    "Note which loans are inactive.  Note which inactive loans were not paid back."
   ]
  },
  {
   "cell_type": "code",
   "execution_count": 3,
   "metadata": {
    "hide_input": true
   },
   "outputs": [
    {
     "data": {
      "text/html": [
       "<table>\n",
       " <thead>\n",
       "  <tr>\n",
       "   <th style=\"text-align:right;background-color: #FFFFFF !important;\"> all labels </th>\n",
       "  </tr>\n",
       " </thead>\n",
       "<tbody>\n",
       "  <tr>\n",
       "   <td style=\"text-align:right;\"> Fully Paid </td>\n",
       "  </tr>\n",
       "  <tr>\n",
       "   <td style=\"text-align:right;\"> Charged Off </td>\n",
       "  </tr>\n",
       "  <tr>\n",
       "   <td style=\"text-align:right;\"> Current </td>\n",
       "  </tr>\n",
       "  <tr>\n",
       "   <td style=\"text-align:right;\"> Default </td>\n",
       "  </tr>\n",
       "  <tr>\n",
       "   <td style=\"text-align:right;\"> Late (31-120 days) </td>\n",
       "  </tr>\n",
       "  <tr>\n",
       "   <td style=\"text-align:right;\"> In Grace Period </td>\n",
       "  </tr>\n",
       "  <tr>\n",
       "   <td style=\"text-align:right;\"> Late (16-30 days) </td>\n",
       "  </tr>\n",
       "  <tr>\n",
       "   <td style=\"text-align:right;\"> Does not meet the credit policy. Status:Fully Paid </td>\n",
       "  </tr>\n",
       "  <tr>\n",
       "   <td style=\"text-align:right;\"> Does not meet the credit policy. Status:Charged Off </td>\n",
       "  </tr>\n",
       "  <tr>\n",
       "   <td style=\"text-align:right;\"> Issued </td>\n",
       "  </tr>\n",
       "</tbody>\n",
       "</table>"
      ]
     },
     "metadata": {},
     "output_type": "display_data"
    }
   ],
   "source": [
    "fmt(unique(datax$loan_status), \"all labels\")"
   ]
  },
  {
   "cell_type": "code",
   "execution_count": 4,
   "metadata": {
    "hide_input": true
   },
   "outputs": [
    {
     "data": {
      "text/html": [
       "<table><tr><td style=\"background-color:white; vertical-align:top; padding-right:40px;\"><table>\n",
       " <thead>\n",
       "  <tr>\n",
       "   <th style=\"text-align:right;background-color: #FFFFFF !important;\"> good_labels </th>\n",
       "  </tr>\n",
       " </thead>\n",
       "<tbody>\n",
       "  <tr>\n",
       "   <td style=\"text-align:right;\"> Fully Paid </td>\n",
       "  </tr>\n",
       "  <tr>\n",
       "   <td style=\"text-align:right;\"> Does not meet the credit policy. Status:Fully Paid </td>\n",
       "  </tr>\n",
       "</tbody>\n",
       "</table></td><td style=\"background-color:white; vertical-align:top;\"><table>\n",
       " <thead>\n",
       "  <tr>\n",
       "   <th style=\"text-align:right;background-color: #FFFFFF !important;\"> bad_labels </th>\n",
       "  </tr>\n",
       " </thead>\n",
       "<tbody>\n",
       "  <tr>\n",
       "   <td style=\"text-align:right;\"> Default </td>\n",
       "  </tr>\n",
       "  <tr>\n",
       "   <td style=\"text-align:right;\"> Charged Off </td>\n",
       "  </tr>\n",
       "  <tr>\n",
       "   <td style=\"text-align:right;\"> Does not meet the credit policy. Status:Charged Off </td>\n",
       "  </tr>\n",
       "</tbody>\n",
       "</table></td></tr></table>"
      ]
     },
     "metadata": {},
     "output_type": "display_data"
    }
   ],
   "source": [
    "good_labels = c(\"Fully Paid\", \"Does not meet the credit policy. Status:Fully Paid\")\n",
    "bad_labels  = c(\"Default\", \"Charged Off\", \"Does not meet the credit policy. Status:Charged Off\")\n",
    "\n",
    "layout(fmt(good_labels), fmt(bad_labels))"
   ]
  },
  {
   "cell_type": "code",
   "execution_count": 5,
   "metadata": {
    "hide_input": true,
    "scrolled": true
   },
   "outputs": [
    {
     "data": {
      "text/html": [
       "<table>\n",
       "<caption><center><font color=\"black\"><b>observation count</b></font></center></caption>\n",
       " <thead>\n",
       "  <tr>\n",
       "   <th style=\"text-align:right;background-color: #FFFFFF !important;\"> inactive.good </th>\n",
       "   <th style=\"text-align:right;background-color: #FFFFFF !important;\"> inactive.bad </th>\n",
       "   <th style=\"text-align:right;background-color: #FFFFFF !important;\"> inactive </th>\n",
       "  </tr>\n",
       " </thead>\n",
       "<tbody>\n",
       "  <tr>\n",
       "   <td style=\"text-align:right;\"> 209711 </td>\n",
       "   <td style=\"text-align:right;\"> 47228 </td>\n",
       "   <td style=\"text-align:right;\"> 256939 </td>\n",
       "  </tr>\n",
       "</tbody>\n",
       "</table>"
      ]
     },
     "metadata": {},
     "output_type": "display_data"
    }
   ],
   "source": [
    "inactive.good = which(datax$loan_status %in% good_labels)\n",
    "inactive.bad = which(datax$loan_status %in% bad_labels)\n",
    "inactive = c(inactive.good, inactive.bad)\n",
    "fmt(data.frame(inactive.good=length(inactive.good), inactive.bad=length(inactive.bad), inactive=length(inactive)), \"observation count\")"
   ]
  },
  {
   "cell_type": "markdown",
   "metadata": {},
   "source": [
    "### Focus Analysis on Convenient Variables"
   ]
  },
  {
   "cell_type": "markdown",
   "metadata": {
    "hide_input": true
   },
   "source": [
    "Which variables are not IDs?"
   ]
  },
  {
   "cell_type": "code",
   "execution_count": 6,
   "metadata": {
    "hide_input": true
   },
   "outputs": [
    {
     "data": {
      "text/html": [
       "<ol class=list-inline>\n",
       "\t<li>3</li>\n",
       "\t<li>4</li>\n",
       "\t<li>5</li>\n",
       "\t<li>6</li>\n",
       "\t<li>7</li>\n",
       "\t<li>8</li>\n",
       "\t<li>9</li>\n",
       "\t<li>10</li>\n",
       "\t<li>11</li>\n",
       "\t<li>12</li>\n",
       "\t<li>13</li>\n",
       "\t<li>14</li>\n",
       "\t<li>15</li>\n",
       "\t<li>16</li>\n",
       "\t<li>17</li>\n",
       "\t<li>18</li>\n",
       "\t<li>19</li>\n",
       "\t<li>20</li>\n",
       "\t<li>21</li>\n",
       "\t<li>22</li>\n",
       "\t<li>23</li>\n",
       "\t<li>24</li>\n",
       "\t<li>25</li>\n",
       "\t<li>26</li>\n",
       "\t<li>27</li>\n",
       "\t<li>28</li>\n",
       "\t<li>29</li>\n",
       "\t<li>30</li>\n",
       "\t<li>31</li>\n",
       "\t<li>32</li>\n",
       "\t<li>33</li>\n",
       "\t<li>34</li>\n",
       "\t<li>35</li>\n",
       "\t<li>36</li>\n",
       "\t<li>37</li>\n",
       "\t<li>38</li>\n",
       "\t<li>39</li>\n",
       "\t<li>40</li>\n",
       "\t<li>41</li>\n",
       "\t<li>42</li>\n",
       "\t<li>43</li>\n",
       "\t<li>44</li>\n",
       "\t<li>45</li>\n",
       "\t<li>46</li>\n",
       "\t<li>47</li>\n",
       "\t<li>48</li>\n",
       "\t<li>49</li>\n",
       "\t<li>50</li>\n",
       "\t<li>51</li>\n",
       "\t<li>52</li>\n",
       "\t<li>53</li>\n",
       "\t<li>54</li>\n",
       "\t<li>55</li>\n",
       "\t<li>56</li>\n",
       "\t<li>57</li>\n",
       "\t<li>58</li>\n",
       "\t<li>59</li>\n",
       "\t<li>60</li>\n",
       "\t<li>61</li>\n",
       "\t<li>62</li>\n",
       "\t<li>63</li>\n",
       "\t<li>64</li>\n",
       "\t<li>65</li>\n",
       "\t<li>66</li>\n",
       "\t<li>67</li>\n",
       "\t<li>68</li>\n",
       "\t<li>69</li>\n",
       "\t<li>70</li>\n",
       "\t<li>71</li>\n",
       "\t<li>72</li>\n",
       "\t<li>73</li>\n",
       "\t<li>74</li>\n",
       "</ol>\n"
      ],
      "text/latex": [
       "\\begin{enumerate*}\n",
       "\\item 3\n",
       "\\item 4\n",
       "\\item 5\n",
       "\\item 6\n",
       "\\item 7\n",
       "\\item 8\n",
       "\\item 9\n",
       "\\item 10\n",
       "\\item 11\n",
       "\\item 12\n",
       "\\item 13\n",
       "\\item 14\n",
       "\\item 15\n",
       "\\item 16\n",
       "\\item 17\n",
       "\\item 18\n",
       "\\item 19\n",
       "\\item 20\n",
       "\\item 21\n",
       "\\item 22\n",
       "\\item 23\n",
       "\\item 24\n",
       "\\item 25\n",
       "\\item 26\n",
       "\\item 27\n",
       "\\item 28\n",
       "\\item 29\n",
       "\\item 30\n",
       "\\item 31\n",
       "\\item 32\n",
       "\\item 33\n",
       "\\item 34\n",
       "\\item 35\n",
       "\\item 36\n",
       "\\item 37\n",
       "\\item 38\n",
       "\\item 39\n",
       "\\item 40\n",
       "\\item 41\n",
       "\\item 42\n",
       "\\item 43\n",
       "\\item 44\n",
       "\\item 45\n",
       "\\item 46\n",
       "\\item 47\n",
       "\\item 48\n",
       "\\item 49\n",
       "\\item 50\n",
       "\\item 51\n",
       "\\item 52\n",
       "\\item 53\n",
       "\\item 54\n",
       "\\item 55\n",
       "\\item 56\n",
       "\\item 57\n",
       "\\item 58\n",
       "\\item 59\n",
       "\\item 60\n",
       "\\item 61\n",
       "\\item 62\n",
       "\\item 63\n",
       "\\item 64\n",
       "\\item 65\n",
       "\\item 66\n",
       "\\item 67\n",
       "\\item 68\n",
       "\\item 69\n",
       "\\item 70\n",
       "\\item 71\n",
       "\\item 72\n",
       "\\item 73\n",
       "\\item 74\n",
       "\\end{enumerate*}\n"
      ],
      "text/markdown": [
       "1. 3\n",
       "2. 4\n",
       "3. 5\n",
       "4. 6\n",
       "5. 7\n",
       "6. 8\n",
       "7. 9\n",
       "8. 10\n",
       "9. 11\n",
       "10. 12\n",
       "11. 13\n",
       "12. 14\n",
       "13. 15\n",
       "14. 16\n",
       "15. 17\n",
       "16. 18\n",
       "17. 19\n",
       "18. 20\n",
       "19. 21\n",
       "20. 22\n",
       "21. 23\n",
       "22. 24\n",
       "23. 25\n",
       "24. 26\n",
       "25. 27\n",
       "26. 28\n",
       "27. 29\n",
       "28. 30\n",
       "29. 31\n",
       "30. 32\n",
       "31. 33\n",
       "32. 34\n",
       "33. 35\n",
       "34. 36\n",
       "35. 37\n",
       "36. 38\n",
       "37. 39\n",
       "38. 40\n",
       "39. 41\n",
       "40. 42\n",
       "41. 43\n",
       "42. 44\n",
       "43. 45\n",
       "44. 46\n",
       "45. 47\n",
       "46. 48\n",
       "47. 49\n",
       "48. 50\n",
       "49. 51\n",
       "50. 52\n",
       "51. 53\n",
       "52. 54\n",
       "53. 55\n",
       "54. 56\n",
       "55. 57\n",
       "56. 58\n",
       "57. 59\n",
       "58. 60\n",
       "59. 61\n",
       "60. 62\n",
       "61. 63\n",
       "62. 64\n",
       "63. 65\n",
       "64. 66\n",
       "65. 67\n",
       "66. 68\n",
       "67. 69\n",
       "68. 70\n",
       "69. 71\n",
       "70. 72\n",
       "71. 73\n",
       "72. 74\n",
       "\n",
       "\n"
      ],
      "text/plain": [
       " [1]  3  4  5  6  7  8  9 10 11 12 13 14 15 16 17 18 19 20 21 22 23 24 25 26 27\n",
       "[26] 28 29 30 31 32 33 34 35 36 37 38 39 40 41 42 43 44 45 46 47 48 49 50 51 52\n",
       "[51] 53 54 55 56 57 58 59 60 61 62 63 64 65 66 67 68 69 70 71 72 73 74"
      ]
     },
     "metadata": {},
     "output_type": "display_data"
    }
   ],
   "source": [
    "m = which(!(colnames(datax) %in% c(\"id\",\"member_id\")))\n",
    "m"
   ]
  },
  {
   "cell_type": "markdown",
   "metadata": {},
   "source": [
    "Which variables are numeric?"
   ]
  },
  {
   "cell_type": "code",
   "execution_count": 7,
   "metadata": {
    "hide_input": true,
    "scrolled": true
   },
   "outputs": [
    {
     "data": {
      "text/html": [
       "<ol class=list-inline>\n",
       "\t<li>1</li>\n",
       "\t<li>2</li>\n",
       "\t<li>3</li>\n",
       "\t<li>4</li>\n",
       "\t<li>5</li>\n",
       "\t<li>7</li>\n",
       "\t<li>8</li>\n",
       "\t<li>14</li>\n",
       "\t<li>25</li>\n",
       "\t<li>26</li>\n",
       "\t<li>28</li>\n",
       "\t<li>29</li>\n",
       "\t<li>30</li>\n",
       "\t<li>31</li>\n",
       "\t<li>32</li>\n",
       "\t<li>33</li>\n",
       "\t<li>34</li>\n",
       "\t<li>35</li>\n",
       "\t<li>37</li>\n",
       "\t<li>38</li>\n",
       "\t<li>39</li>\n",
       "\t<li>40</li>\n",
       "\t<li>41</li>\n",
       "\t<li>42</li>\n",
       "\t<li>43</li>\n",
       "\t<li>44</li>\n",
       "\t<li>45</li>\n",
       "\t<li>47</li>\n",
       "\t<li>50</li>\n",
       "\t<li>51</li>\n",
       "\t<li>52</li>\n",
       "\t<li>54</li>\n",
       "\t<li>55</li>\n",
       "\t<li>57</li>\n",
       "\t<li>58</li>\n",
       "\t<li>59</li>\n",
       "\t<li>60</li>\n",
       "\t<li>61</li>\n",
       "\t<li>62</li>\n",
       "\t<li>63</li>\n",
       "\t<li>64</li>\n",
       "\t<li>65</li>\n",
       "\t<li>66</li>\n",
       "\t<li>67</li>\n",
       "\t<li>68</li>\n",
       "\t<li>69</li>\n",
       "\t<li>70</li>\n",
       "\t<li>71</li>\n",
       "\t<li>72</li>\n",
       "\t<li>73</li>\n",
       "\t<li>74</li>\n",
       "</ol>\n"
      ],
      "text/latex": [
       "\\begin{enumerate*}\n",
       "\\item 1\n",
       "\\item 2\n",
       "\\item 3\n",
       "\\item 4\n",
       "\\item 5\n",
       "\\item 7\n",
       "\\item 8\n",
       "\\item 14\n",
       "\\item 25\n",
       "\\item 26\n",
       "\\item 28\n",
       "\\item 29\n",
       "\\item 30\n",
       "\\item 31\n",
       "\\item 32\n",
       "\\item 33\n",
       "\\item 34\n",
       "\\item 35\n",
       "\\item 37\n",
       "\\item 38\n",
       "\\item 39\n",
       "\\item 40\n",
       "\\item 41\n",
       "\\item 42\n",
       "\\item 43\n",
       "\\item 44\n",
       "\\item 45\n",
       "\\item 47\n",
       "\\item 50\n",
       "\\item 51\n",
       "\\item 52\n",
       "\\item 54\n",
       "\\item 55\n",
       "\\item 57\n",
       "\\item 58\n",
       "\\item 59\n",
       "\\item 60\n",
       "\\item 61\n",
       "\\item 62\n",
       "\\item 63\n",
       "\\item 64\n",
       "\\item 65\n",
       "\\item 66\n",
       "\\item 67\n",
       "\\item 68\n",
       "\\item 69\n",
       "\\item 70\n",
       "\\item 71\n",
       "\\item 72\n",
       "\\item 73\n",
       "\\item 74\n",
       "\\end{enumerate*}\n"
      ],
      "text/markdown": [
       "1. 1\n",
       "2. 2\n",
       "3. 3\n",
       "4. 4\n",
       "5. 5\n",
       "6. 7\n",
       "7. 8\n",
       "8. 14\n",
       "9. 25\n",
       "10. 26\n",
       "11. 28\n",
       "12. 29\n",
       "13. 30\n",
       "14. 31\n",
       "15. 32\n",
       "16. 33\n",
       "17. 34\n",
       "18. 35\n",
       "19. 37\n",
       "20. 38\n",
       "21. 39\n",
       "22. 40\n",
       "23. 41\n",
       "24. 42\n",
       "25. 43\n",
       "26. 44\n",
       "27. 45\n",
       "28. 47\n",
       "29. 50\n",
       "30. 51\n",
       "31. 52\n",
       "32. 54\n",
       "33. 55\n",
       "34. 57\n",
       "35. 58\n",
       "36. 59\n",
       "37. 60\n",
       "38. 61\n",
       "39. 62\n",
       "40. 63\n",
       "41. 64\n",
       "42. 65\n",
       "43. 66\n",
       "44. 67\n",
       "45. 68\n",
       "46. 69\n",
       "47. 70\n",
       "48. 71\n",
       "49. 72\n",
       "50. 73\n",
       "51. 74\n",
       "\n",
       "\n"
      ],
      "text/plain": [
       " [1]  1  2  3  4  5  7  8 14 25 26 28 29 30 31 32 33 34 35 37 38 39 40 41 42 43\n",
       "[26] 44 45 47 50 51 52 54 55 57 58 59 60 61 62 63 64 65 66 67 68 69 70 71 72 73\n",
       "[51] 74"
      ]
     },
     "metadata": {},
     "output_type": "display_data"
    }
   ],
   "source": [
    "n = which(var_info.type(datax[inactive,]) %in% c(\"integer\",\"numeric\"))                  \n",
    "n"
   ]
  },
  {
   "cell_type": "markdown",
   "metadata": {},
   "source": [
    "Which variables are complete (no missing data)?"
   ]
  },
  {
   "cell_type": "code",
   "execution_count": 8,
   "metadata": {
    "hide_input": true,
    "scrolled": true
   },
   "outputs": [
    {
     "data": {
      "text/html": [
       "<ol class=list-inline>\n",
       "\t<li>1</li>\n",
       "\t<li>2</li>\n",
       "\t<li>3</li>\n",
       "\t<li>4</li>\n",
       "\t<li>5</li>\n",
       "\t<li>6</li>\n",
       "\t<li>7</li>\n",
       "\t<li>8</li>\n",
       "\t<li>9</li>\n",
       "\t<li>10</li>\n",
       "\t<li>11</li>\n",
       "\t<li>12</li>\n",
       "\t<li>13</li>\n",
       "\t<li>15</li>\n",
       "\t<li>16</li>\n",
       "\t<li>17</li>\n",
       "\t<li>18</li>\n",
       "\t<li>19</li>\n",
       "\t<li>20</li>\n",
       "\t<li>21</li>\n",
       "\t<li>22</li>\n",
       "\t<li>23</li>\n",
       "\t<li>24</li>\n",
       "\t<li>25</li>\n",
       "\t<li>27</li>\n",
       "\t<li>33</li>\n",
       "\t<li>36</li>\n",
       "\t<li>37</li>\n",
       "\t<li>38</li>\n",
       "\t<li>39</li>\n",
       "\t<li>40</li>\n",
       "\t<li>41</li>\n",
       "\t<li>42</li>\n",
       "\t<li>43</li>\n",
       "\t<li>44</li>\n",
       "\t<li>45</li>\n",
       "\t<li>46</li>\n",
       "\t<li>47</li>\n",
       "\t<li>48</li>\n",
       "\t<li>49</li>\n",
       "\t<li>52</li>\n",
       "\t<li>53</li>\n",
       "\t<li>56</li>\n",
       "</ol>\n"
      ],
      "text/latex": [
       "\\begin{enumerate*}\n",
       "\\item 1\n",
       "\\item 2\n",
       "\\item 3\n",
       "\\item 4\n",
       "\\item 5\n",
       "\\item 6\n",
       "\\item 7\n",
       "\\item 8\n",
       "\\item 9\n",
       "\\item 10\n",
       "\\item 11\n",
       "\\item 12\n",
       "\\item 13\n",
       "\\item 15\n",
       "\\item 16\n",
       "\\item 17\n",
       "\\item 18\n",
       "\\item 19\n",
       "\\item 20\n",
       "\\item 21\n",
       "\\item 22\n",
       "\\item 23\n",
       "\\item 24\n",
       "\\item 25\n",
       "\\item 27\n",
       "\\item 33\n",
       "\\item 36\n",
       "\\item 37\n",
       "\\item 38\n",
       "\\item 39\n",
       "\\item 40\n",
       "\\item 41\n",
       "\\item 42\n",
       "\\item 43\n",
       "\\item 44\n",
       "\\item 45\n",
       "\\item 46\n",
       "\\item 47\n",
       "\\item 48\n",
       "\\item 49\n",
       "\\item 52\n",
       "\\item 53\n",
       "\\item 56\n",
       "\\end{enumerate*}\n"
      ],
      "text/markdown": [
       "1. 1\n",
       "2. 2\n",
       "3. 3\n",
       "4. 4\n",
       "5. 5\n",
       "6. 6\n",
       "7. 7\n",
       "8. 8\n",
       "9. 9\n",
       "10. 10\n",
       "11. 11\n",
       "12. 12\n",
       "13. 13\n",
       "14. 15\n",
       "15. 16\n",
       "16. 17\n",
       "17. 18\n",
       "18. 19\n",
       "19. 20\n",
       "20. 21\n",
       "21. 22\n",
       "22. 23\n",
       "23. 24\n",
       "24. 25\n",
       "25. 27\n",
       "26. 33\n",
       "27. 36\n",
       "28. 37\n",
       "29. 38\n",
       "30. 39\n",
       "31. 40\n",
       "32. 41\n",
       "33. 42\n",
       "34. 43\n",
       "35. 44\n",
       "36. 45\n",
       "37. 46\n",
       "38. 47\n",
       "39. 48\n",
       "40. 49\n",
       "41. 52\n",
       "42. 53\n",
       "43. 56\n",
       "\n",
       "\n"
      ],
      "text/plain": [
       " [1]  1  2  3  4  5  6  7  8  9 10 11 12 13 15 16 17 18 19 20 21 22 23 24 25 27\n",
       "[26] 33 36 37 38 39 40 41 42 43 44 45 46 47 48 49 52 53 56"
      ]
     },
     "metadata": {},
     "output_type": "display_data"
    }
   ],
   "source": [
    "f = which(var_info.na_count(datax[inactive,], labels=FALSE) == 0)\n",
    "f"
   ]
  },
  {
   "cell_type": "markdown",
   "metadata": {},
   "source": [
    "Which variables have at least some variation (distribution of more than one value)?"
   ]
  },
  {
   "cell_type": "code",
   "execution_count": 9,
   "metadata": {
    "hide_input": true,
    "scrolled": false
   },
   "outputs": [
    {
     "data": {
      "text/html": [
       "<ol class=list-inline>\n",
       "\t<li>1</li>\n",
       "\t<li>2</li>\n",
       "\t<li>3</li>\n",
       "\t<li>4</li>\n",
       "\t<li>5</li>\n",
       "\t<li>6</li>\n",
       "\t<li>7</li>\n",
       "\t<li>8</li>\n",
       "\t<li>9</li>\n",
       "\t<li>10</li>\n",
       "\t<li>11</li>\n",
       "\t<li>12</li>\n",
       "\t<li>13</li>\n",
       "\t<li>14</li>\n",
       "\t<li>15</li>\n",
       "\t<li>16</li>\n",
       "\t<li>17</li>\n",
       "\t<li>18</li>\n",
       "\t<li>19</li>\n",
       "\t<li>20</li>\n",
       "\t<li>21</li>\n",
       "\t<li>22</li>\n",
       "\t<li>23</li>\n",
       "\t<li>24</li>\n",
       "\t<li>25</li>\n",
       "\t<li>26</li>\n",
       "\t<li>27</li>\n",
       "\t<li>28</li>\n",
       "\t<li>29</li>\n",
       "\t<li>30</li>\n",
       "\t<li>31</li>\n",
       "\t<li>32</li>\n",
       "\t<li>33</li>\n",
       "\t<li>34</li>\n",
       "\t<li>35</li>\n",
       "\t<li>36</li>\n",
       "\t<li>37</li>\n",
       "\t<li>38</li>\n",
       "\t<li>39</li>\n",
       "\t<li>40</li>\n",
       "\t<li>41</li>\n",
       "\t<li>42</li>\n",
       "\t<li>43</li>\n",
       "\t<li>44</li>\n",
       "\t<li>45</li>\n",
       "\t<li>46</li>\n",
       "\t<li>47</li>\n",
       "\t<li>48</li>\n",
       "\t<li>49</li>\n",
       "\t<li>50</li>\n",
       "\t<li>51</li>\n",
       "\t<li>53</li>\n",
       "\t<li>54</li>\n",
       "\t<li>55</li>\n",
       "\t<li>56</li>\n",
       "\t<li>57</li>\n",
       "\t<li>58</li>\n",
       "\t<li>59</li>\n",
       "\t<li>60</li>\n",
       "\t<li>61</li>\n",
       "\t<li>62</li>\n",
       "\t<li>63</li>\n",
       "\t<li>64</li>\n",
       "\t<li>65</li>\n",
       "\t<li>66</li>\n",
       "\t<li>67</li>\n",
       "\t<li>68</li>\n",
       "\t<li>69</li>\n",
       "\t<li>70</li>\n",
       "\t<li>71</li>\n",
       "\t<li>72</li>\n",
       "\t<li>73</li>\n",
       "\t<li>74</li>\n",
       "</ol>\n"
      ],
      "text/latex": [
       "\\begin{enumerate*}\n",
       "\\item 1\n",
       "\\item 2\n",
       "\\item 3\n",
       "\\item 4\n",
       "\\item 5\n",
       "\\item 6\n",
       "\\item 7\n",
       "\\item 8\n",
       "\\item 9\n",
       "\\item 10\n",
       "\\item 11\n",
       "\\item 12\n",
       "\\item 13\n",
       "\\item 14\n",
       "\\item 15\n",
       "\\item 16\n",
       "\\item 17\n",
       "\\item 18\n",
       "\\item 19\n",
       "\\item 20\n",
       "\\item 21\n",
       "\\item 22\n",
       "\\item 23\n",
       "\\item 24\n",
       "\\item 25\n",
       "\\item 26\n",
       "\\item 27\n",
       "\\item 28\n",
       "\\item 29\n",
       "\\item 30\n",
       "\\item 31\n",
       "\\item 32\n",
       "\\item 33\n",
       "\\item 34\n",
       "\\item 35\n",
       "\\item 36\n",
       "\\item 37\n",
       "\\item 38\n",
       "\\item 39\n",
       "\\item 40\n",
       "\\item 41\n",
       "\\item 42\n",
       "\\item 43\n",
       "\\item 44\n",
       "\\item 45\n",
       "\\item 46\n",
       "\\item 47\n",
       "\\item 48\n",
       "\\item 49\n",
       "\\item 50\n",
       "\\item 51\n",
       "\\item 53\n",
       "\\item 54\n",
       "\\item 55\n",
       "\\item 56\n",
       "\\item 57\n",
       "\\item 58\n",
       "\\item 59\n",
       "\\item 60\n",
       "\\item 61\n",
       "\\item 62\n",
       "\\item 63\n",
       "\\item 64\n",
       "\\item 65\n",
       "\\item 66\n",
       "\\item 67\n",
       "\\item 68\n",
       "\\item 69\n",
       "\\item 70\n",
       "\\item 71\n",
       "\\item 72\n",
       "\\item 73\n",
       "\\item 74\n",
       "\\end{enumerate*}\n"
      ],
      "text/markdown": [
       "1. 1\n",
       "2. 2\n",
       "3. 3\n",
       "4. 4\n",
       "5. 5\n",
       "6. 6\n",
       "7. 7\n",
       "8. 8\n",
       "9. 9\n",
       "10. 10\n",
       "11. 11\n",
       "12. 12\n",
       "13. 13\n",
       "14. 14\n",
       "15. 15\n",
       "16. 16\n",
       "17. 17\n",
       "18. 18\n",
       "19. 19\n",
       "20. 20\n",
       "21. 21\n",
       "22. 22\n",
       "23. 23\n",
       "24. 24\n",
       "25. 25\n",
       "26. 26\n",
       "27. 27\n",
       "28. 28\n",
       "29. 29\n",
       "30. 30\n",
       "31. 31\n",
       "32. 32\n",
       "33. 33\n",
       "34. 34\n",
       "35. 35\n",
       "36. 36\n",
       "37. 37\n",
       "38. 38\n",
       "39. 39\n",
       "40. 40\n",
       "41. 41\n",
       "42. 42\n",
       "43. 43\n",
       "44. 44\n",
       "45. 45\n",
       "46. 46\n",
       "47. 47\n",
       "48. 48\n",
       "49. 49\n",
       "50. 50\n",
       "51. 51\n",
       "52. 53\n",
       "53. 54\n",
       "54. 55\n",
       "55. 56\n",
       "56. 57\n",
       "57. 58\n",
       "58. 59\n",
       "59. 60\n",
       "60. 61\n",
       "61. 62\n",
       "62. 63\n",
       "63. 64\n",
       "64. 65\n",
       "65. 66\n",
       "66. 67\n",
       "67. 68\n",
       "68. 69\n",
       "69. 70\n",
       "70. 71\n",
       "71. 72\n",
       "72. 73\n",
       "73. 74\n",
       "\n",
       "\n"
      ],
      "text/plain": [
       " [1]  1  2  3  4  5  6  7  8  9 10 11 12 13 14 15 16 17 18 19 20 21 22 23 24 25\n",
       "[26] 26 27 28 29 30 31 32 33 34 35 36 37 38 39 40 41 42 43 44 45 46 47 48 49 50\n",
       "[51] 51 53 54 55 56 57 58 59 60 61 62 63 64 65 66 67 68 69 70 71 72 73 74"
      ]
     },
     "metadata": {},
     "output_type": "display_data"
    }
   ],
   "source": [
    "v = which(var_info.unique(datax[inactive,], labels=FALSE) > 1)\n",
    "v"
   ]
  },
  {
   "cell_type": "markdown",
   "metadata": {},
   "source": [
    "These are the convenient variables:"
   ]
  },
  {
   "cell_type": "code",
   "execution_count": 10,
   "metadata": {
    "hide_input": true
   },
   "outputs": [
    {
     "data": {
      "text/html": [
       "<ol class=list-inline>\n",
       "\t<li>3</li>\n",
       "\t<li>4</li>\n",
       "\t<li>5</li>\n",
       "\t<li>7</li>\n",
       "\t<li>8</li>\n",
       "\t<li>25</li>\n",
       "\t<li>33</li>\n",
       "\t<li>37</li>\n",
       "\t<li>38</li>\n",
       "\t<li>39</li>\n",
       "\t<li>40</li>\n",
       "\t<li>41</li>\n",
       "\t<li>42</li>\n",
       "\t<li>43</li>\n",
       "\t<li>44</li>\n",
       "\t<li>45</li>\n",
       "\t<li>47</li>\n",
       "</ol>\n"
      ],
      "text/latex": [
       "\\begin{enumerate*}\n",
       "\\item 3\n",
       "\\item 4\n",
       "\\item 5\n",
       "\\item 7\n",
       "\\item 8\n",
       "\\item 25\n",
       "\\item 33\n",
       "\\item 37\n",
       "\\item 38\n",
       "\\item 39\n",
       "\\item 40\n",
       "\\item 41\n",
       "\\item 42\n",
       "\\item 43\n",
       "\\item 44\n",
       "\\item 45\n",
       "\\item 47\n",
       "\\end{enumerate*}\n"
      ],
      "text/markdown": [
       "1. 3\n",
       "2. 4\n",
       "3. 5\n",
       "4. 7\n",
       "5. 8\n",
       "6. 25\n",
       "7. 33\n",
       "8. 37\n",
       "9. 38\n",
       "10. 39\n",
       "11. 40\n",
       "12. 41\n",
       "13. 42\n",
       "14. 43\n",
       "15. 44\n",
       "16. 45\n",
       "17. 47\n",
       "\n",
       "\n"
      ],
      "text/plain": [
       " [1]  3  4  5  7  8 25 33 37 38 39 40 41 42 43 44 45 47"
      ]
     },
     "metadata": {},
     "output_type": "display_data"
    }
   ],
   "source": [
    "convenient_variables = intersect(intersect(m, n), intersect(f, v))\n",
    "convenient_variables"
   ]
  },
  {
   "cell_type": "markdown",
   "metadata": {},
   "source": [
    "### Prepared Data"
   ]
  },
  {
   "cell_type": "code",
   "execution_count": 11,
   "metadata": {
    "hide_input": true,
    "scrolled": false
   },
   "outputs": [
    {
     "data": {
      "text/html": [
       "<table>\n",
       "<thead><tr><th scope=col>observations</th><th scope=col>variables</th></tr></thead>\n",
       "<tbody>\n",
       "\t<tr><td>256939</td><td>17    </td></tr>\n",
       "</tbody>\n",
       "</table>\n"
      ],
      "text/latex": [
       "\\begin{tabular}{r|ll}\n",
       " observations & variables\\\\\n",
       "\\hline\n",
       "\t 256939 & 17    \\\\\n",
       "\\end{tabular}\n"
      ],
      "text/markdown": [
       "\n",
       "| observations | variables |\n",
       "|---|---|\n",
       "| 256939 | 17     |\n",
       "\n"
      ],
      "text/plain": [
       "  observations variables\n",
       "1 256939       17       "
      ]
     },
     "metadata": {},
     "output_type": "display_data"
    },
    {
     "data": {
      "text/html": [
       "<table>\n",
       "<caption><left><font color=\"black\"><b>First few good loan observations ...</b></font></left></caption>\n",
       " <thead>\n",
       "  <tr>\n",
       "   <th style=\"text-align:right;background-color: #FFFFFF !important;\"> loan_amnt </th>\n",
       "   <th style=\"text-align:right;background-color: #FFFFFF !important;\"> funded_amnt </th>\n",
       "   <th style=\"text-align:right;background-color: #FFFFFF !important;\"> funded_amnt_inv </th>\n",
       "   <th style=\"text-align:right;background-color: #FFFFFF !important;\"> int_rate </th>\n",
       "   <th style=\"text-align:right;background-color: #FFFFFF !important;\"> installment </th>\n",
       "   <th style=\"text-align:right;background-color: #FFFFFF !important;\"> dti </th>\n",
       "   <th style=\"text-align:right;background-color: #FFFFFF !important;\"> revol_bal </th>\n",
       "   <th style=\"text-align:right;background-color: #FFFFFF !important;\"> out_prncp </th>\n",
       "   <th style=\"text-align:right;background-color: #FFFFFF !important;\"> out_prncp_inv </th>\n",
       "   <th style=\"text-align:right;background-color: #FFFFFF !important;\"> total_pymnt </th>\n",
       "   <th style=\"text-align:right;background-color: #FFFFFF !important;\"> total_pymnt_inv </th>\n",
       "   <th style=\"text-align:right;background-color: #FFFFFF !important;\"> total_rec_prncp </th>\n",
       "   <th style=\"text-align:right;background-color: #FFFFFF !important;\"> total_rec_int </th>\n",
       "   <th style=\"text-align:right;background-color: #FFFFFF !important;\"> total_rec_late_fee </th>\n",
       "   <th style=\"text-align:right;background-color: #FFFFFF !important;\"> recoveries </th>\n",
       "   <th style=\"text-align:right;background-color: #FFFFFF !important;\"> collection_recovery_fee </th>\n",
       "   <th style=\"text-align:right;background-color: #FFFFFF !important;\"> last_pymnt_amnt </th>\n",
       "  </tr>\n",
       " </thead>\n",
       "<tbody>\n",
       "  <tr>\n",
       "   <td style=\"text-align:right;\"> 5000 </td>\n",
       "   <td style=\"text-align:right;\"> 5000 </td>\n",
       "   <td style=\"text-align:right;\"> 4975 </td>\n",
       "   <td style=\"text-align:right;\"> 10.65 </td>\n",
       "   <td style=\"text-align:right;\"> 162.87 </td>\n",
       "   <td style=\"text-align:right;\"> 27.65 </td>\n",
       "   <td style=\"text-align:right;\"> 13648 </td>\n",
       "   <td style=\"text-align:right;\"> 0 </td>\n",
       "   <td style=\"text-align:right;\"> 0 </td>\n",
       "   <td style=\"text-align:right;\"> 5861.071 </td>\n",
       "   <td style=\"text-align:right;\"> 5831.78 </td>\n",
       "   <td style=\"text-align:right;\"> 5000 </td>\n",
       "   <td style=\"text-align:right;\"> 861.07 </td>\n",
       "   <td style=\"text-align:right;\"> 0.00 </td>\n",
       "   <td style=\"text-align:right;\"> 0 </td>\n",
       "   <td style=\"text-align:right;\"> 0 </td>\n",
       "   <td style=\"text-align:right;\"> 171.62 </td>\n",
       "  </tr>\n",
       "  <tr>\n",
       "   <td style=\"text-align:right;\"> 2400 </td>\n",
       "   <td style=\"text-align:right;\"> 2400 </td>\n",
       "   <td style=\"text-align:right;\"> 2400 </td>\n",
       "   <td style=\"text-align:right;\"> 15.96 </td>\n",
       "   <td style=\"text-align:right;\"> 84.33 </td>\n",
       "   <td style=\"text-align:right;\"> 8.72 </td>\n",
       "   <td style=\"text-align:right;\"> 2956 </td>\n",
       "   <td style=\"text-align:right;\"> 0 </td>\n",
       "   <td style=\"text-align:right;\"> 0 </td>\n",
       "   <td style=\"text-align:right;\"> 3003.654 </td>\n",
       "   <td style=\"text-align:right;\"> 3003.65 </td>\n",
       "   <td style=\"text-align:right;\"> 2400 </td>\n",
       "   <td style=\"text-align:right;\"> 603.65 </td>\n",
       "   <td style=\"text-align:right;\"> 0.00 </td>\n",
       "   <td style=\"text-align:right;\"> 0 </td>\n",
       "   <td style=\"text-align:right;\"> 0 </td>\n",
       "   <td style=\"text-align:right;\"> 649.91 </td>\n",
       "  </tr>\n",
       "  <tr>\n",
       "   <td style=\"text-align:right;\"> 10000 </td>\n",
       "   <td style=\"text-align:right;\"> 10000 </td>\n",
       "   <td style=\"text-align:right;\"> 10000 </td>\n",
       "   <td style=\"text-align:right;\"> 13.49 </td>\n",
       "   <td style=\"text-align:right;\"> 339.31 </td>\n",
       "   <td style=\"text-align:right;\"> 20.00 </td>\n",
       "   <td style=\"text-align:right;\"> 5598 </td>\n",
       "   <td style=\"text-align:right;\"> 0 </td>\n",
       "   <td style=\"text-align:right;\"> 0 </td>\n",
       "   <td style=\"text-align:right;\"> 12226.302 </td>\n",
       "   <td style=\"text-align:right;\"> 12226.30 </td>\n",
       "   <td style=\"text-align:right;\"> 10000 </td>\n",
       "   <td style=\"text-align:right;\"> 2209.33 </td>\n",
       "   <td style=\"text-align:right;\"> 16.97 </td>\n",
       "   <td style=\"text-align:right;\"> 0 </td>\n",
       "   <td style=\"text-align:right;\"> 0 </td>\n",
       "   <td style=\"text-align:right;\"> 357.48 </td>\n",
       "  </tr>\n",
       "  <tr>\n",
       "   <td style=\"text-align:right;\"> 5000 </td>\n",
       "   <td style=\"text-align:right;\"> 5000 </td>\n",
       "   <td style=\"text-align:right;\"> 5000 </td>\n",
       "   <td style=\"text-align:right;\"> 7.90 </td>\n",
       "   <td style=\"text-align:right;\"> 156.46 </td>\n",
       "   <td style=\"text-align:right;\"> 11.20 </td>\n",
       "   <td style=\"text-align:right;\"> 7963 </td>\n",
       "   <td style=\"text-align:right;\"> 0 </td>\n",
       "   <td style=\"text-align:right;\"> 0 </td>\n",
       "   <td style=\"text-align:right;\"> 5631.378 </td>\n",
       "   <td style=\"text-align:right;\"> 5631.38 </td>\n",
       "   <td style=\"text-align:right;\"> 5000 </td>\n",
       "   <td style=\"text-align:right;\"> 631.38 </td>\n",
       "   <td style=\"text-align:right;\"> 0.00 </td>\n",
       "   <td style=\"text-align:right;\"> 0 </td>\n",
       "   <td style=\"text-align:right;\"> 0 </td>\n",
       "   <td style=\"text-align:right;\"> 161.03 </td>\n",
       "  </tr>\n",
       "  <tr>\n",
       "   <td style=\"text-align:right;\"> 3000 </td>\n",
       "   <td style=\"text-align:right;\"> 3000 </td>\n",
       "   <td style=\"text-align:right;\"> 3000 </td>\n",
       "   <td style=\"text-align:right;\"> 18.64 </td>\n",
       "   <td style=\"text-align:right;\"> 109.43 </td>\n",
       "   <td style=\"text-align:right;\"> 5.35 </td>\n",
       "   <td style=\"text-align:right;\"> 8221 </td>\n",
       "   <td style=\"text-align:right;\"> 0 </td>\n",
       "   <td style=\"text-align:right;\"> 0 </td>\n",
       "   <td style=\"text-align:right;\"> 3938.144 </td>\n",
       "   <td style=\"text-align:right;\"> 3938.14 </td>\n",
       "   <td style=\"text-align:right;\"> 3000 </td>\n",
       "   <td style=\"text-align:right;\"> 938.14 </td>\n",
       "   <td style=\"text-align:right;\"> 0.00 </td>\n",
       "   <td style=\"text-align:right;\"> 0 </td>\n",
       "   <td style=\"text-align:right;\"> 0 </td>\n",
       "   <td style=\"text-align:right;\"> 111.34 </td>\n",
       "  </tr>\n",
       "  <tr>\n",
       "   <td style=\"text-align:right;\"> 6500 </td>\n",
       "   <td style=\"text-align:right;\"> 6500 </td>\n",
       "   <td style=\"text-align:right;\"> 6500 </td>\n",
       "   <td style=\"text-align:right;\"> 14.65 </td>\n",
       "   <td style=\"text-align:right;\"> 153.45 </td>\n",
       "   <td style=\"text-align:right;\"> 16.12 </td>\n",
       "   <td style=\"text-align:right;\"> 4032 </td>\n",
       "   <td style=\"text-align:right;\"> 0 </td>\n",
       "   <td style=\"text-align:right;\"> 0 </td>\n",
       "   <td style=\"text-align:right;\"> 7677.520 </td>\n",
       "   <td style=\"text-align:right;\"> 7677.52 </td>\n",
       "   <td style=\"text-align:right;\"> 6500 </td>\n",
       "   <td style=\"text-align:right;\"> 1177.52 </td>\n",
       "   <td style=\"text-align:right;\"> 0.00 </td>\n",
       "   <td style=\"text-align:right;\"> 0 </td>\n",
       "   <td style=\"text-align:right;\"> 0 </td>\n",
       "   <td style=\"text-align:right;\"> 1655.54 </td>\n",
       "  </tr>\n",
       "</tbody>\n",
       "</table>"
      ]
     },
     "metadata": {},
     "output_type": "display_data"
    },
    {
     "data": {
      "text/html": [
       "<table>\n",
       "<caption><left><font color=\"black\"><b>First few bad loan observations ...</b></font></left></caption>\n",
       " <thead>\n",
       "  <tr>\n",
       "   <th style=\"text-align:right;background-color: #FFFFFF !important;\"> loan_amnt </th>\n",
       "   <th style=\"text-align:right;background-color: #FFFFFF !important;\"> funded_amnt </th>\n",
       "   <th style=\"text-align:right;background-color: #FFFFFF !important;\"> funded_amnt_inv </th>\n",
       "   <th style=\"text-align:right;background-color: #FFFFFF !important;\"> int_rate </th>\n",
       "   <th style=\"text-align:right;background-color: #FFFFFF !important;\"> installment </th>\n",
       "   <th style=\"text-align:right;background-color: #FFFFFF !important;\"> dti </th>\n",
       "   <th style=\"text-align:right;background-color: #FFFFFF !important;\"> revol_bal </th>\n",
       "   <th style=\"text-align:right;background-color: #FFFFFF !important;\"> out_prncp </th>\n",
       "   <th style=\"text-align:right;background-color: #FFFFFF !important;\"> out_prncp_inv </th>\n",
       "   <th style=\"text-align:right;background-color: #FFFFFF !important;\"> total_pymnt </th>\n",
       "   <th style=\"text-align:right;background-color: #FFFFFF !important;\"> total_pymnt_inv </th>\n",
       "   <th style=\"text-align:right;background-color: #FFFFFF !important;\"> total_rec_prncp </th>\n",
       "   <th style=\"text-align:right;background-color: #FFFFFF !important;\"> total_rec_int </th>\n",
       "   <th style=\"text-align:right;background-color: #FFFFFF !important;\"> total_rec_late_fee </th>\n",
       "   <th style=\"text-align:right;background-color: #FFFFFF !important;\"> recoveries </th>\n",
       "   <th style=\"text-align:right;background-color: #FFFFFF !important;\"> collection_recovery_fee </th>\n",
       "   <th style=\"text-align:right;background-color: #FFFFFF !important;\"> last_pymnt_amnt </th>\n",
       "  </tr>\n",
       " </thead>\n",
       "<tbody>\n",
       "  <tr>\n",
       "   <td style=\"text-align:right;\"> 2500 </td>\n",
       "   <td style=\"text-align:right;\"> 2500 </td>\n",
       "   <td style=\"text-align:right;\"> 2500 </td>\n",
       "   <td style=\"text-align:right;\"> 15.27 </td>\n",
       "   <td style=\"text-align:right;\"> 59.83 </td>\n",
       "   <td style=\"text-align:right;\"> 1.00 </td>\n",
       "   <td style=\"text-align:right;\"> 1687 </td>\n",
       "   <td style=\"text-align:right;\"> 0 </td>\n",
       "   <td style=\"text-align:right;\"> 0 </td>\n",
       "   <td style=\"text-align:right;\"> 1008.71 </td>\n",
       "   <td style=\"text-align:right;\"> 1008.71 </td>\n",
       "   <td style=\"text-align:right;\"> 456.46 </td>\n",
       "   <td style=\"text-align:right;\"> 435.17 </td>\n",
       "   <td style=\"text-align:right;\"> 0 </td>\n",
       "   <td style=\"text-align:right;\"> 117.08 </td>\n",
       "   <td style=\"text-align:right;\"> 1.1100 </td>\n",
       "   <td style=\"text-align:right;\"> 119.66 </td>\n",
       "  </tr>\n",
       "  <tr>\n",
       "   <td style=\"text-align:right;\"> 5600 </td>\n",
       "   <td style=\"text-align:right;\"> 5600 </td>\n",
       "   <td style=\"text-align:right;\"> 5600 </td>\n",
       "   <td style=\"text-align:right;\"> 21.28 </td>\n",
       "   <td style=\"text-align:right;\"> 152.39 </td>\n",
       "   <td style=\"text-align:right;\"> 5.55 </td>\n",
       "   <td style=\"text-align:right;\"> 5210 </td>\n",
       "   <td style=\"text-align:right;\"> 0 </td>\n",
       "   <td style=\"text-align:right;\"> 0 </td>\n",
       "   <td style=\"text-align:right;\"> 646.02 </td>\n",
       "   <td style=\"text-align:right;\"> 646.02 </td>\n",
       "   <td style=\"text-align:right;\"> 162.02 </td>\n",
       "   <td style=\"text-align:right;\"> 294.94 </td>\n",
       "   <td style=\"text-align:right;\"> 0 </td>\n",
       "   <td style=\"text-align:right;\"> 189.06 </td>\n",
       "   <td style=\"text-align:right;\"> 2.0900 </td>\n",
       "   <td style=\"text-align:right;\"> 152.39 </td>\n",
       "  </tr>\n",
       "  <tr>\n",
       "   <td style=\"text-align:right;\"> 5375 </td>\n",
       "   <td style=\"text-align:right;\"> 5375 </td>\n",
       "   <td style=\"text-align:right;\"> 5350 </td>\n",
       "   <td style=\"text-align:right;\"> 12.69 </td>\n",
       "   <td style=\"text-align:right;\"> 121.45 </td>\n",
       "   <td style=\"text-align:right;\"> 18.08 </td>\n",
       "   <td style=\"text-align:right;\"> 9279 </td>\n",
       "   <td style=\"text-align:right;\"> 0 </td>\n",
       "   <td style=\"text-align:right;\"> 0 </td>\n",
       "   <td style=\"text-align:right;\"> 1476.19 </td>\n",
       "   <td style=\"text-align:right;\"> 1469.34 </td>\n",
       "   <td style=\"text-align:right;\"> 673.48 </td>\n",
       "   <td style=\"text-align:right;\"> 533.42 </td>\n",
       "   <td style=\"text-align:right;\"> 0 </td>\n",
       "   <td style=\"text-align:right;\"> 269.29 </td>\n",
       "   <td style=\"text-align:right;\"> 2.5200 </td>\n",
       "   <td style=\"text-align:right;\"> 121.45 </td>\n",
       "  </tr>\n",
       "  <tr>\n",
       "   <td style=\"text-align:right;\"> 9000 </td>\n",
       "   <td style=\"text-align:right;\"> 9000 </td>\n",
       "   <td style=\"text-align:right;\"> 9000 </td>\n",
       "   <td style=\"text-align:right;\"> 13.49 </td>\n",
       "   <td style=\"text-align:right;\"> 305.38 </td>\n",
       "   <td style=\"text-align:right;\"> 10.08 </td>\n",
       "   <td style=\"text-align:right;\"> 10452 </td>\n",
       "   <td style=\"text-align:right;\"> 0 </td>\n",
       "   <td style=\"text-align:right;\"> 0 </td>\n",
       "   <td style=\"text-align:right;\"> 2270.70 </td>\n",
       "   <td style=\"text-align:right;\"> 2270.70 </td>\n",
       "   <td style=\"text-align:right;\"> 1256.14 </td>\n",
       "   <td style=\"text-align:right;\"> 570.26 </td>\n",
       "   <td style=\"text-align:right;\"> 0 </td>\n",
       "   <td style=\"text-align:right;\"> 444.30 </td>\n",
       "   <td style=\"text-align:right;\"> 4.1600 </td>\n",
       "   <td style=\"text-align:right;\"> 305.38 </td>\n",
       "  </tr>\n",
       "  <tr>\n",
       "   <td style=\"text-align:right;\"> 10000 </td>\n",
       "   <td style=\"text-align:right;\"> 10000 </td>\n",
       "   <td style=\"text-align:right;\"> 10000 </td>\n",
       "   <td style=\"text-align:right;\"> 10.65 </td>\n",
       "   <td style=\"text-align:right;\"> 325.74 </td>\n",
       "   <td style=\"text-align:right;\"> 7.06 </td>\n",
       "   <td style=\"text-align:right;\"> 11997 </td>\n",
       "   <td style=\"text-align:right;\"> 0 </td>\n",
       "   <td style=\"text-align:right;\"> 0 </td>\n",
       "   <td style=\"text-align:right;\"> 7471.99 </td>\n",
       "   <td style=\"text-align:right;\"> 7471.99 </td>\n",
       "   <td style=\"text-align:right;\"> 5433.47 </td>\n",
       "   <td style=\"text-align:right;\"> 1393.42 </td>\n",
       "   <td style=\"text-align:right;\"> 0 </td>\n",
       "   <td style=\"text-align:right;\"> 645.10 </td>\n",
       "   <td style=\"text-align:right;\"> 6.3145 </td>\n",
       "   <td style=\"text-align:right;\"> 325.74 </td>\n",
       "  </tr>\n",
       "  <tr>\n",
       "   <td style=\"text-align:right;\"> 21000 </td>\n",
       "   <td style=\"text-align:right;\"> 21000 </td>\n",
       "   <td style=\"text-align:right;\"> 21000 </td>\n",
       "   <td style=\"text-align:right;\"> 12.42 </td>\n",
       "   <td style=\"text-align:right;\"> 701.73 </td>\n",
       "   <td style=\"text-align:right;\"> 13.22 </td>\n",
       "   <td style=\"text-align:right;\"> 32135 </td>\n",
       "   <td style=\"text-align:right;\"> 0 </td>\n",
       "   <td style=\"text-align:right;\"> 0 </td>\n",
       "   <td style=\"text-align:right;\"> 14025.40 </td>\n",
       "   <td style=\"text-align:right;\"> 14025.40 </td>\n",
       "   <td style=\"text-align:right;\"> 10694.96 </td>\n",
       "   <td style=\"text-align:right;\"> 3330.44 </td>\n",
       "   <td style=\"text-align:right;\"> 0 </td>\n",
       "   <td style=\"text-align:right;\"> 0.00 </td>\n",
       "   <td style=\"text-align:right;\"> 0.0000 </td>\n",
       "   <td style=\"text-align:right;\"> 701.73 </td>\n",
       "  </tr>\n",
       "</tbody>\n",
       "</table>"
      ]
     },
     "metadata": {},
     "output_type": "display_data"
    }
   ],
   "source": [
    "data  = datax[inactive, convenient_variables]\n",
    "class = c(rep(\"good\", length(inactive.good)), rep(\"bad\", length(inactive.bad)))\n",
    "\n",
    "size(data)\n",
    "fmt(head(data[class==\"good\",]), \"First few good loan observations ...\", position=\"left\")\n",
    "fmt(head(data[class==\"bad\",]),  \"First few bad loan observations ...\",  position=\"left\")"
   ]
  },
  {
   "cell_type": "markdown",
   "metadata": {},
   "source": [
    "## Explore Data"
   ]
  },
  {
   "cell_type": "markdown",
   "metadata": {},
   "source": [
    "### Scree Plot of Variables"
   ]
  },
  {
   "cell_type": "code",
   "execution_count": 12,
   "metadata": {
    "hide_input": true
   },
   "outputs": [
    {
     "data": {
      "text/html": [
       "<table>\n",
       "<thead><tr><th scope=col>variable</th><th scope=col>sdev</th><th scope=col>variance</th><th scope=col>cum_variance</th><th scope=col>relative_variance</th><th scope=col>cum_relative_variance</th></tr></thead>\n",
       "<tbody>\n",
       "\t<tr><td>loan_amnt              </td><td> 8128.811481           </td><td> 66077576.08731        </td><td> 66077576              </td><td>0.07372040774082       </td><td>0.07372041             </td></tr>\n",
       "\t<tr><td>funded_amnt            </td><td> 8106.456843           </td><td> 65714642.55324        </td><td>131792219              </td><td>0.07331549567082       </td><td>0.14703590             </td></tr>\n",
       "\t<tr><td>funded_amnt_inv        </td><td> 8141.904114           </td><td> 66290602.60264        </td><td>198082821              </td><td>0.07395807386751       </td><td>0.22099398             </td></tr>\n",
       "\t<tr><td>int_rate               </td><td>    4.389704           </td><td>       19.26950        </td><td>198082841              </td><td>0.00000002149830       </td><td>0.22099400             </td></tr>\n",
       "\t<tr><td>installment            </td><td>  244.878760           </td><td>    59965.60734        </td><td>198142806              </td><td>0.00006690150101       </td><td>0.22106090             </td></tr>\n",
       "\t<tr><td>dti                    </td><td>    7.793541           </td><td>       60.73928        </td><td>198142867              </td><td>0.00000006776466       </td><td>0.22106097             </td></tr>\n",
       "\t<tr><td>revol_bal              </td><td>19708.797999           </td><td>388436718.57730        </td><td>586579585              </td><td>0.43336506831285       </td><td>0.65442604             </td></tr>\n",
       "\t<tr><td>out_prncp              </td><td>  951.034000           </td><td>   904465.66837        </td><td>587484051              </td><td>0.00100908026305       </td><td>0.65543512             </td></tr>\n",
       "\t<tr><td>out_prncp_inv          </td><td>  950.770737           </td><td>   903964.99381        </td><td>588388016              </td><td>0.00100852167820       </td><td>0.65644364             </td></tr>\n",
       "\t<tr><td>total_pymnt            </td><td> 9474.816669           </td><td> 89772150.91713        </td><td>678160167              </td><td>0.10015560438592       </td><td>0.75659924             </td></tr>\n",
       "\t<tr><td>total_pymnt_inv        </td><td> 9487.339561           </td><td> 90009611.95400        </td><td>768169779              </td><td>0.10042053124155       </td><td>0.85701977             </td></tr>\n",
       "\t<tr><td>total_rec_prncp        </td><td> 8331.138609           </td><td> 69407870.52591        </td><td>837577649              </td><td>0.07743589911396       </td><td>0.93445567             </td></tr>\n",
       "\t<tr><td>total_rec_int          </td><td> 2063.549500           </td><td>  4258236.53795        </td><td>841835886              </td><td>0.00475076345748       </td><td>0.93920644             </td></tr>\n",
       "\t<tr><td>total_rec_late_fee     </td><td>    5.569508           </td><td>       31.01942        </td><td>841835917              </td><td>0.00000003460727       </td><td>0.93920647             </td></tr>\n",
       "\t<tr><td>recoveries             </td><td>  749.550714           </td><td>   561826.27299        </td><td>842397743              </td><td>0.00062680964371       </td><td>0.93983328             </td></tr>\n",
       "\t<tr><td>collection_recovery_fee</td><td>  116.448713           </td><td>    13560.30281        </td><td>842411304              </td><td>0.00001512874883       </td><td>0.93984841             </td></tr>\n",
       "\t<tr><td>last_pymnt_amnt        </td><td> 7342.716238           </td><td> 53915481.75208        </td><td>896326785              </td><td>0.06015159050408       </td><td>1.00000000             </td></tr>\n",
       "</tbody>\n",
       "</table>\n"
      ],
      "text/latex": [
       "\\begin{tabular}{r|llllll}\n",
       " variable & sdev & variance & cum\\_variance & relative\\_variance & cum\\_relative\\_variance\\\\\n",
       "\\hline\n",
       "\t loan\\_amnt               &  8128.811481              &  66077576.08731           &  66077576                 & 0.07372040774082          & 0.07372041               \\\\\n",
       "\t funded\\_amnt             &  8106.456843              &  65714642.55324           & 131792219                 & 0.07331549567082          & 0.14703590               \\\\\n",
       "\t funded\\_amnt\\_inv         &  8141.904114                &  66290602.60264             & 198082821                   & 0.07395807386751            & 0.22099398                 \\\\\n",
       "\t int\\_rate                &     4.389704              &        19.26950           & 198082841                 & 0.00000002149830          & 0.22099400               \\\\\n",
       "\t installment             &   244.878760            &     59965.60734         & 198142806               & 0.00006690150101        & 0.22106090             \\\\\n",
       "\t dti                     &     7.793541            &        60.73928         & 198142867               & 0.00000006776466        & 0.22106097             \\\\\n",
       "\t revol\\_bal               & 19708.797999              & 388436718.57730           & 586579585                 & 0.43336506831285          & 0.65442604               \\\\\n",
       "\t out\\_prncp               &   951.034000              &    904465.66837           & 587484051                 & 0.00100908026305          & 0.65543512               \\\\\n",
       "\t out\\_prncp\\_inv           &   950.770737                &    903964.99381             & 588388016                   & 0.00100852167820            & 0.65644364                 \\\\\n",
       "\t total\\_pymnt             &  9474.816669              &  89772150.91713           & 678160167                 & 0.10015560438592          & 0.75659924               \\\\\n",
       "\t total\\_pymnt\\_inv         &  9487.339561                &  90009611.95400             & 768169779                   & 0.10042053124155            & 0.85701977                 \\\\\n",
       "\t total\\_rec\\_prncp         &  8331.138609                &  69407870.52591             & 837577649                   & 0.07743589911396            & 0.93445567                 \\\\\n",
       "\t total\\_rec\\_int           &  2063.549500                &   4258236.53795             & 841835886                   & 0.00475076345748            & 0.93920644                 \\\\\n",
       "\t total\\_rec\\_late\\_fee      &     5.569508                  &        31.01942               & 841835917                     & 0.00000003460727              & 0.93920647                   \\\\\n",
       "\t recoveries              &   749.550714            &    561826.27299         & 842397743               & 0.00062680964371        & 0.93983328             \\\\\n",
       "\t collection\\_recovery\\_fee &   116.448713                &     13560.30281             & 842411304                   & 0.00001512874883            & 0.93984841                 \\\\\n",
       "\t last\\_pymnt\\_amnt         &  7342.716238                &  53915481.75208             & 896326785                   & 0.06015159050408            & 1.00000000                 \\\\\n",
       "\\end{tabular}\n"
      ],
      "text/markdown": [
       "\n",
       "| variable | sdev | variance | cum_variance | relative_variance | cum_relative_variance |\n",
       "|---|---|---|---|---|---|\n",
       "| loan_amnt               |  8128.811481            |  66077576.08731         |  66077576               | 0.07372040774082        | 0.07372041              |\n",
       "| funded_amnt             |  8106.456843            |  65714642.55324         | 131792219               | 0.07331549567082        | 0.14703590              |\n",
       "| funded_amnt_inv         |  8141.904114            |  66290602.60264         | 198082821               | 0.07395807386751        | 0.22099398              |\n",
       "| int_rate                |     4.389704            |        19.26950         | 198082841               | 0.00000002149830        | 0.22099400              |\n",
       "| installment             |   244.878760            |     59965.60734         | 198142806               | 0.00006690150101        | 0.22106090              |\n",
       "| dti                     |     7.793541            |        60.73928         | 198142867               | 0.00000006776466        | 0.22106097              |\n",
       "| revol_bal               | 19708.797999            | 388436718.57730         | 586579585               | 0.43336506831285        | 0.65442604              |\n",
       "| out_prncp               |   951.034000            |    904465.66837         | 587484051               | 0.00100908026305        | 0.65543512              |\n",
       "| out_prncp_inv           |   950.770737            |    903964.99381         | 588388016               | 0.00100852167820        | 0.65644364              |\n",
       "| total_pymnt             |  9474.816669            |  89772150.91713         | 678160167               | 0.10015560438592        | 0.75659924              |\n",
       "| total_pymnt_inv         |  9487.339561            |  90009611.95400         | 768169779               | 0.10042053124155        | 0.85701977              |\n",
       "| total_rec_prncp         |  8331.138609            |  69407870.52591         | 837577649               | 0.07743589911396        | 0.93445567              |\n",
       "| total_rec_int           |  2063.549500            |   4258236.53795         | 841835886               | 0.00475076345748        | 0.93920644              |\n",
       "| total_rec_late_fee      |     5.569508            |        31.01942         | 841835917               | 0.00000003460727        | 0.93920647              |\n",
       "| recoveries              |   749.550714            |    561826.27299         | 842397743               | 0.00062680964371        | 0.93983328              |\n",
       "| collection_recovery_fee |   116.448713            |     13560.30281         | 842411304               | 0.00001512874883        | 0.93984841              |\n",
       "| last_pymnt_amnt         |  7342.716238            |  53915481.75208         | 896326785               | 0.06015159050408        | 1.00000000              |\n",
       "\n"
      ],
      "text/plain": [
       "   variable                sdev         variance        cum_variance\n",
       "1  loan_amnt                8128.811481  66077576.08731  66077576   \n",
       "2  funded_amnt              8106.456843  65714642.55324 131792219   \n",
       "3  funded_amnt_inv          8141.904114  66290602.60264 198082821   \n",
       "4  int_rate                    4.389704        19.26950 198082841   \n",
       "5  installment               244.878760     59965.60734 198142806   \n",
       "6  dti                         7.793541        60.73928 198142867   \n",
       "7  revol_bal               19708.797999 388436718.57730 586579585   \n",
       "8  out_prncp                 951.034000    904465.66837 587484051   \n",
       "9  out_prncp_inv             950.770737    903964.99381 588388016   \n",
       "10 total_pymnt              9474.816669  89772150.91713 678160167   \n",
       "11 total_pymnt_inv          9487.339561  90009611.95400 768169779   \n",
       "12 total_rec_prncp          8331.138609  69407870.52591 837577649   \n",
       "13 total_rec_int            2063.549500   4258236.53795 841835886   \n",
       "14 total_rec_late_fee          5.569508        31.01942 841835917   \n",
       "15 recoveries                749.550714    561826.27299 842397743   \n",
       "16 collection_recovery_fee   116.448713     13560.30281 842411304   \n",
       "17 last_pymnt_amnt          7342.716238  53915481.75208 896326785   \n",
       "   relative_variance cum_relative_variance\n",
       "1  0.07372040774082  0.07372041           \n",
       "2  0.07331549567082  0.14703590           \n",
       "3  0.07395807386751  0.22099398           \n",
       "4  0.00000002149830  0.22099400           \n",
       "5  0.00006690150101  0.22106090           \n",
       "6  0.00000006776466  0.22106097           \n",
       "7  0.43336506831285  0.65442604           \n",
       "8  0.00100908026305  0.65543512           \n",
       "9  0.00100852167820  0.65644364           \n",
       "10 0.10015560438592  0.75659924           \n",
       "11 0.10042053124155  0.85701977           \n",
       "12 0.07743589911396  0.93445567           \n",
       "13 0.00475076345748  0.93920644           \n",
       "14 0.00000003460727  0.93920647           \n",
       "15 0.00062680964371  0.93983328           \n",
       "16 0.00001512874883  0.93984841           \n",
       "17 0.06015159050408  1.00000000           "
      ]
     },
     "metadata": {},
     "output_type": "display_data"
    }
   ],
   "source": [
    "variable = names(data)\n",
    "sdev = var_info.sd(data, labels=FALSE)\n",
    "variance = var_info.var(data, labels=FALSE)\n",
    "cum_variance = cumsum(variance)\n",
    "relative_variance = variance / sum(variance)\n",
    "cum_relative_variance = cumsum(relative_variance)\n",
    "\n",
    "scree = data.frame(variable, sdev, variance, cum_variance, relative_variance, cum_relative_variance)\n",
    "scree"
   ]
  },
  {
   "cell_type": "code",
   "execution_count": 13,
   "metadata": {
    "hide_input": true,
    "scrolled": false
   },
   "outputs": [
    {
     "data": {
      "image/png": "[encoded data removed]",
      "text/plain": [
       "plot without title"
      ]
     },
     "metadata": {},
     "output_type": "display_data"
    }
   ],
   "source": [
    "ggplot(scree) + ylim(0,1) +\n",
    "geom_col(aes(x=factor(variable, levels=variable), y=relative_variance, fill=variable)) +\n",
    "theme.no_x_axis_title + theme.x_axis_45 + theme.no_legend"
   ]
  },
  {
   "cell_type": "markdown",
   "metadata": {
    "hide_input": true
   },
   "source": [
    "### 1D Scatter Plots of 2 Variables"
   ]
  },
  {
   "cell_type": "code",
   "execution_count": 14,
   "metadata": {
    "hide_input": true,
    "scrolled": true
   },
   "outputs": [
    {
     "data": {
      "image/png": "[encoded data removed]",
      "text/plain": [
       "plot without title"
      ]
     },
     "metadata": {},
     "output_type": "display_data"
    }
   ],
   "source": [
    "output_size(8,1)\n",
    "p1 = ggplot(data) + geom_jitter(aes(x=loan_amnt, y=0)) + theme.x_axis_only\n",
    "p2 = ggplot(data) + geom_jitter(aes(x=int_rate, y=0))  + theme.x_axis_only\n",
    "grid.arrange(p1, p2, nrow=1)\n",
    "output_size(restore)"
   ]
  },
  {
   "cell_type": "markdown",
   "metadata": {},
   "source": [
    "### Probability Density Functions of 2 Variables\n",
    "\n",
    "Use kernel density estimation to estimate probability densities."
   ]
  },
  {
   "cell_type": "code",
   "execution_count": 15,
   "metadata": {
    "hide_input": true
   },
   "outputs": [
    {
     "data": {
      "image/png": "[encoded data removed]",
      "text/plain": [
       "plot without title"
      ]
     },
     "metadata": {},
     "output_type": "display_data"
    }
   ],
   "source": [
    "p1 = ggplot(data) + ggtitle(\"PDF for loan_amnt\") +\n",
    "     geom_density(aes(x=loan_amnt), kernel=\"gaussian\", bw=1000, fill=PALETTE[1]) +\n",
    "     theme.no_axis_titles\n",
    "\n",
    "p2 = ggplot(data) + ggtitle(\"PDF for int_rate\") +\n",
    "     geom_density(aes(x=int_rate), kernel=\"gaussian\", bw=0.5, fill=PALETTE[1]) +\n",
    "     theme.no_axis_titles\n",
    "\n",
    "grid.arrange(p1, p2, nrow=1)"
   ]
  },
  {
   "cell_type": "markdown",
   "metadata": {},
   "source": [
    "### 2D Scatter Plot of 2 Variables"
   ]
  },
  {
   "cell_type": "code",
   "execution_count": 16,
   "metadata": {
    "hide_input": true,
    "scrolled": false
   },
   "outputs": [
    {
     "data": {
      "image/png": "[encoded data removed]",
      "text/plain": [
       "plot without title"
      ]
     },
     "metadata": {},
     "output_type": "display_data"
    }
   ],
   "source": [
    "ggplot(data) + geom_point(aes(x=loan_amnt, y=int_rate))"
   ]
  },
  {
   "cell_type": "markdown",
   "metadata": {},
   "source": [
    "## Try to Distiguish Observations by Loan Class"
   ]
  },
  {
   "cell_type": "markdown",
   "metadata": {},
   "source": [
    "### Probabilities of Variable Values in Certain Ranges"
   ]
  },
  {
   "cell_type": "code",
   "execution_count": 17,
   "metadata": {
    "hide_input": true,
    "scrolled": false
   },
   "outputs": [
    {
     "data": {
      "text/html": [
       "<table>\n",
       "<thead><tr><th scope=col>variable</th><th scope=col>probability</th><th scope=col>range_low</th><th scope=col>range_high</th></tr></thead>\n",
       "<tbody>\n",
       "\t<tr><td>loan_amnt</td><td>0.7360615</td><td> 0       </td><td>18000    </td></tr>\n",
       "\t<tr><td>int_rate </td><td>0.7026378</td><td>10       </td><td>   20    </td></tr>\n",
       "</tbody>\n",
       "</table>\n"
      ],
      "text/latex": [
       "\\begin{tabular}{r|llll}\n",
       " variable & probability & range\\_low & range\\_high\\\\\n",
       "\\hline\n",
       "\t loan\\_amnt & 0.7360615   &  0          & 18000      \\\\\n",
       "\t int\\_rate  & 0.7026378   & 10          &    20      \\\\\n",
       "\\end{tabular}\n"
      ],
      "text/markdown": [
       "\n",
       "| variable | probability | range_low | range_high |\n",
       "|---|---|---|---|\n",
       "| loan_amnt | 0.7360615 |  0        | 18000     |\n",
       "| int_rate  | 0.7026378 | 10        |    20     |\n",
       "\n"
      ],
      "text/plain": [
       "  variable  probability range_low range_high\n",
       "1 loan_amnt 0.7360615    0        18000     \n",
       "2 int_rate  0.7026378   10           20     "
      ]
     },
     "metadata": {},
     "output_type": "display_data"
    },
    {
     "data": {
      "image/png": "[encoded data removed]",
      "text/plain": [
       "plot without title"
      ]
     },
     "metadata": {},
     "output_type": "display_data"
    }
   ],
   "source": [
    "d.loan_amnt = density(data$loan_amnt, kernel=\"gaussian\", bw=1000, from=0, to=40000)\n",
    "d.int_rate  = density(data$int_rate,  kernel=\"gaussian\", bw=0.5,  from=0, to=30)\n",
    "\n",
    "pdf.loan_amnt = approxfun(d.loan_amnt)\n",
    "pdf.int_rate = approxfun(d.int_rate)\n",
    "\n",
    "data.frame(variable=c(\"loan_amnt\",\"int_rate\"),\n",
    "           probability=c(integrate(pdf.loan_amnt, 0, 18000)$value, integrate(pdf.int_rate, 10, 20)$value),\n",
    "           range_low=c(0, 10),\n",
    "           range_high=c(18000, 20))\n",
    "\n",
    "p1 = ggplot(data) + xlim(0, 40000) + ggtitle(\"PDF for loan_amnt\") +\n",
    "     stat_function(fun=pdf.loan_amnt, geom=\"area\", n=2000, fill=PALETTE[1]) +\n",
    "     stat_function(fun=pdf.loan_amnt, geom=\"area\", n=2000, xlim=c(0,18000), fill=PALETTE[5]) +\n",
    "     geom_vline(xintercept=0) + geom_vline(xintercept=18000) +\n",
    "     theme.no_axis_titles\n",
    "\n",
    "p2 = ggplot(data) + xlim(0, 30) + ggtitle(\"PDF for int_rate\") +\n",
    "     stat_function(fun=pdf.int_rate, geom=\"area\", n=2000, fill=PALETTE[1]) +\n",
    "     stat_function(fun=pdf.int_rate, geom=\"area\", n=2000, xlim=c(10,20), fill=PALETTE[5]) +\n",
    "     geom_vline(xintercept=10) + geom_vline(xintercept=20) +\n",
    "     theme.no_axis_titles\n",
    "\n",
    "grid.arrange(p1, p2, nrow=1)"
   ]
  },
  {
   "cell_type": "markdown",
   "metadata": {},
   "source": [
    "### Probabilities of Variable Values in Certain Ranges: Good Loans"
   ]
  },
  {
   "cell_type": "code",
   "execution_count": 18,
   "metadata": {
    "hide_input": true,
    "scrolled": false
   },
   "outputs": [
    {
     "data": {
      "text/html": [
       "<table>\n",
       "<thead><tr><th scope=col>variable</th><th scope=col>probability</th><th scope=col>range_low</th><th scope=col>range_high</th></tr></thead>\n",
       "<tbody>\n",
       "\t<tr><td>loan_amnt</td><td>0.7458814</td><td> 0       </td><td>18000    </td></tr>\n",
       "\t<tr><td>int_rate </td><td>0.6938446</td><td>10       </td><td>   20    </td></tr>\n",
       "</tbody>\n",
       "</table>\n"
      ],
      "text/latex": [
       "\\begin{tabular}{r|llll}\n",
       " variable & probability & range\\_low & range\\_high\\\\\n",
       "\\hline\n",
       "\t loan\\_amnt & 0.7458814   &  0          & 18000      \\\\\n",
       "\t int\\_rate  & 0.6938446   & 10          &    20      \\\\\n",
       "\\end{tabular}\n"
      ],
      "text/markdown": [
       "\n",
       "| variable | probability | range_low | range_high |\n",
       "|---|---|---|---|\n",
       "| loan_amnt | 0.7458814 |  0        | 18000     |\n",
       "| int_rate  | 0.6938446 | 10        |    20     |\n",
       "\n"
      ],
      "text/plain": [
       "  variable  probability range_low range_high\n",
       "1 loan_amnt 0.7458814    0        18000     \n",
       "2 int_rate  0.6938446   10           20     "
      ]
     },
     "metadata": {},
     "output_type": "display_data"
    },
    {
     "data": {
      "image/png": "[encoded data removed]",
      "text/plain": [
       "plot without title"
      ]
     },
     "metadata": {},
     "output_type": "display_data"
    }
   ],
   "source": [
    "d.loan_amnt = density(data$loan_amnt[class==\"good\"], kernel=\"gaussian\", bw=1000, from=0, to=40000)\n",
    "d.int_rate  = density(data$int_rate[class==\"good\"],  kernel=\"gaussian\", bw=0.5,  from=0, to=30)\n",
    "\n",
    "pdf.loan_amnt = approxfun(d.loan_amnt)\n",
    "pdf.int_rate = approxfun(d.int_rate)\n",
    "\n",
    "data.frame(variable=c(\"loan_amnt\",\"int_rate\"),\n",
    "           probability=c(integrate(pdf.loan_amnt, 0, 18000)$value, integrate(pdf.int_rate, 10, 20)$value),\n",
    "           range_low=c(0, 10),\n",
    "           range_high=c(18000, 20))\n",
    "\n",
    "p1 = ggplot(data[class==\"good\",]) + xlim(0, 40000) + ggtitle(\"PDF for loan_amnt\") +\n",
    "     stat_function(fun=pdf.loan_amnt, geom=\"area\", n=2000, fill=PALETTE[3]) +\n",
    "     stat_function(fun=pdf.loan_amnt, geom=\"area\", n=2000, xlim=c(0,18000), fill=PALETTE[5]) +\n",
    "     geom_vline(xintercept=0) + geom_vline(xintercept=18000) +\n",
    "     theme.no_axis_titles\n",
    "\n",
    "p2 = ggplot(data[class==\"good\",]) + xlim(0, 30) + ggtitle(\"PDF for int_rate\") +\n",
    "     stat_function(fun=pdf.int_rate, geom=\"area\", n=2000, fill=PALETTE[3]) +\n",
    "     stat_function(fun=pdf.int_rate, geom=\"area\", n=2000, xlim=c(10,20), fill=PALETTE[5]) +\n",
    "     geom_vline(xintercept=10) + geom_vline(xintercept=20) +\n",
    "     theme.no_axis_titles\n",
    "\n",
    "grid.arrange(p1, p2, nrow=1)"
   ]
  },
  {
   "cell_type": "markdown",
   "metadata": {},
   "source": [
    "### Probabilities of Variable Values in Certain Ranges: Bad Loans"
   ]
  },
  {
   "cell_type": "code",
   "execution_count": 19,
   "metadata": {
    "hide_input": true,
    "scrolled": false
   },
   "outputs": [
    {
     "data": {
      "text/html": [
       "<table>\n",
       "<thead><tr><th scope=col>variable</th><th scope=col>probability</th><th scope=col>range_low</th><th scope=col>range_high</th></tr></thead>\n",
       "<tbody>\n",
       "\t<tr><td>loan_amnt</td><td>0.6924573</td><td> 0       </td><td>18000    </td></tr>\n",
       "\t<tr><td>int_rate </td><td>0.7416823</td><td>10       </td><td>   20    </td></tr>\n",
       "</tbody>\n",
       "</table>\n"
      ],
      "text/latex": [
       "\\begin{tabular}{r|llll}\n",
       " variable & probability & range\\_low & range\\_high\\\\\n",
       "\\hline\n",
       "\t loan\\_amnt & 0.6924573   &  0          & 18000      \\\\\n",
       "\t int\\_rate  & 0.7416823   & 10          &    20      \\\\\n",
       "\\end{tabular}\n"
      ],
      "text/markdown": [
       "\n",
       "| variable | probability | range_low | range_high |\n",
       "|---|---|---|---|\n",
       "| loan_amnt | 0.6924573 |  0        | 18000     |\n",
       "| int_rate  | 0.7416823 | 10        |    20     |\n",
       "\n"
      ],
      "text/plain": [
       "  variable  probability range_low range_high\n",
       "1 loan_amnt 0.6924573    0        18000     \n",
       "2 int_rate  0.7416823   10           20     "
      ]
     },
     "metadata": {},
     "output_type": "display_data"
    },
    {
     "data": {
      "image/png": "[encoded data removed]",
      "text/plain": [
       "plot without title"
      ]
     },
     "metadata": {},
     "output_type": "display_data"
    }
   ],
   "source": [
    "d.loan_amnt = density(data$loan_amnt[class==\"bad\"], kernel=\"gaussian\", bw=1000, from=0, to=40000)\n",
    "d.int_rate  = density(data$int_rate[class==\"bad\"],  kernel=\"gaussian\", bw=0.5,  from=0, to=30)\n",
    "\n",
    "pdf.loan_amnt = approxfun(d.loan_amnt)\n",
    "pdf.int_rate = approxfun(d.int_rate)\n",
    "\n",
    "data.frame(variable=c(\"loan_amnt\",\"int_rate\"),\n",
    "           probability=c(integrate(pdf.loan_amnt, 0, 18000)$value, integrate(pdf.int_rate, 10, 20)$value),\n",
    "           range_low=c(0, 10),\n",
    "           range_high=c(18000, 20))\n",
    "\n",
    "p1 = ggplot(data[class==\"bad\",]) + xlim(0, 40000) + ggtitle(\"PDF for loan_amnt\") +\n",
    "     stat_function(fun=pdf.loan_amnt, geom=\"area\", n=2000, fill=PALETTE[2]) +\n",
    "     stat_function(fun=pdf.loan_amnt, geom=\"area\", n=2000, xlim=c(0,18000), fill=PALETTE[5]) +\n",
    "     geom_vline(xintercept=0) + geom_vline(xintercept=18000) +\n",
    "     theme.no_axis_titles\n",
    "\n",
    "p2 = ggplot(data[class==\"bad\",]) + xlim(0, 30) + ggtitle(\"PDF for int_rate\") +\n",
    "     stat_function(fun=pdf.int_rate, geom=\"area\", n=2000, fill=PALETTE[2]) +\n",
    "     stat_function(fun=pdf.int_rate, geom=\"area\", n=2000, xlim=c(10,20), fill=PALETTE[5]) +\n",
    "     geom_vline(xintercept=10) + geom_vline(xintercept=20) +\n",
    "     theme.no_axis_titles\n",
    "\n",
    "grid.arrange(p1, p2, nrow=1)"
   ]
  },
  {
   "cell_type": "markdown",
   "metadata": {},
   "source": [
    "### 2D Scatter Plot of 2 Variables + Loan Class\n",
    "\n",
    "Note that distinguishing characteristics are obscured."
   ]
  },
  {
   "cell_type": "code",
   "execution_count": 20,
   "metadata": {
    "hide_input": true
   },
   "outputs": [
    {
     "data": {
      "image/png": "[encoded data removed]",
      "text/plain": [
       "plot without title"
      ]
     },
     "metadata": {},
     "output_type": "display_data"
    }
   ],
   "source": [
    "ggplot(data) +\n",
    "geom_point(aes(x=loan_amnt, y=int_rate, color=class), alpha=0.2) +\n",
    "scale_color_manual(values=PALETTE[2:3]) + guides.standard + theme.legend_title"
   ]
  },
  {
   "cell_type": "markdown",
   "metadata": {},
   "source": [
    "## Further Prepare Data: Principal Component Analysis"
   ]
  },
  {
   "cell_type": "markdown",
   "metadata": {},
   "source": [
    "### Data Represented as Principal Components"
   ]
  },
  {
   "cell_type": "code",
   "execution_count": 21,
   "metadata": {
    "hide_input": true
   },
   "outputs": [
    {
     "data": {
      "text/html": [
       "<table>\n",
       "<thead><tr><th scope=col>observations</th><th scope=col>variables</th></tr></thead>\n",
       "<tbody>\n",
       "\t<tr><td>256939</td><td>17    </td></tr>\n",
       "</tbody>\n",
       "</table>\n"
      ],
      "text/latex": [
       "\\begin{tabular}{r|ll}\n",
       " observations & variables\\\\\n",
       "\\hline\n",
       "\t 256939 & 17    \\\\\n",
       "\\end{tabular}\n"
      ],
      "text/markdown": [
       "\n",
       "| observations | variables |\n",
       "|---|---|\n",
       "| 256939 | 17     |\n",
       "\n"
      ],
      "text/plain": [
       "  observations variables\n",
       "1 256939       17       "
      ]
     },
     "metadata": {},
     "output_type": "display_data"
    },
    {
     "data": {
      "text/html": [
       "<table>\n",
       "<caption><left><font color=\"black\"><b>First few observations ...</b></font></left></caption>\n",
       " <thead>\n",
       "  <tr>\n",
       "   <th style=\"text-align:right;background-color: #FFFFFF !important;\"> PC1 </th>\n",
       "   <th style=\"text-align:right;background-color: #FFFFFF !important;\"> PC2 </th>\n",
       "   <th style=\"text-align:right;background-color: #FFFFFF !important;\"> PC3 </th>\n",
       "   <th style=\"text-align:right;background-color: #FFFFFF !important;\"> PC4 </th>\n",
       "   <th style=\"text-align:right;background-color: #FFFFFF !important;\"> PC5 </th>\n",
       "   <th style=\"text-align:right;background-color: #FFFFFF !important;\"> PC6 </th>\n",
       "   <th style=\"text-align:right;background-color: #FFFFFF !important;\"> PC7 </th>\n",
       "   <th style=\"text-align:right;background-color: #FFFFFF !important;\"> PC8 </th>\n",
       "   <th style=\"text-align:right;background-color: #FFFFFF !important;\"> PC9 </th>\n",
       "   <th style=\"text-align:right;background-color: #FFFFFF !important;\"> PC10 </th>\n",
       "   <th style=\"text-align:right;background-color: #FFFFFF !important;\"> PC11 </th>\n",
       "   <th style=\"text-align:right;background-color: #FFFFFF !important;\"> PC12 </th>\n",
       "   <th style=\"text-align:right;background-color: #FFFFFF !important;\"> PC13 </th>\n",
       "   <th style=\"text-align:right;background-color: #FFFFFF !important;\"> PC14 </th>\n",
       "   <th style=\"text-align:right;background-color: #FFFFFF !important;\"> PC15 </th>\n",
       "   <th style=\"text-align:right;background-color: #FFFFFF !important;\"> PC16 </th>\n",
       "   <th style=\"text-align:right;background-color: #FFFFFF !important;\"> PC17 </th>\n",
       "  </tr>\n",
       " </thead>\n",
       "<tbody>\n",
       "  <tr>\n",
       "   <td style=\"text-align:right;\"> -2.6728263 </td>\n",
       "   <td style=\"text-align:right;\"> -0.1465467 </td>\n",
       "   <td style=\"text-align:right;\"> 0.0450934 </td>\n",
       "   <td style=\"text-align:right;\"> 0.8419750 </td>\n",
       "   <td style=\"text-align:right;\"> 0.8696164 </td>\n",
       "   <td style=\"text-align:right;\"> -0.3897855 </td>\n",
       "   <td style=\"text-align:right;\"> -0.5294172 </td>\n",
       "   <td style=\"text-align:right;\"> 0.7748944 </td>\n",
       "   <td style=\"text-align:right;\"> 0.4203098 </td>\n",
       "   <td style=\"text-align:right;\"> -0.0536682 </td>\n",
       "   <td style=\"text-align:right;\"> -0.0249489 </td>\n",
       "   <td style=\"text-align:right;\"> -0.0257247 </td>\n",
       "   <td style=\"text-align:right;\"> 0.0059798 </td>\n",
       "   <td style=\"text-align:right;\"> 0.0023199 </td>\n",
       "   <td style=\"text-align:right;\"> 0.0012540 </td>\n",
       "   <td style=\"text-align:right;\"> -0.0000036 </td>\n",
       "   <td style=\"text-align:right;\"> -0.0000001 </td>\n",
       "  </tr>\n",
       "  <tr>\n",
       "   <td style=\"text-align:right;\"> -3.4690408 </td>\n",
       "   <td style=\"text-align:right;\"> -0.1686156 </td>\n",
       "   <td style=\"text-align:right;\"> -0.0128454 </td>\n",
       "   <td style=\"text-align:right;\"> -0.0778179 </td>\n",
       "   <td style=\"text-align:right;\"> -0.7831999 </td>\n",
       "   <td style=\"text-align:right;\"> 0.5919857 </td>\n",
       "   <td style=\"text-align:right;\"> 0.6007657 </td>\n",
       "   <td style=\"text-align:right;\"> -0.5759597 </td>\n",
       "   <td style=\"text-align:right;\"> 0.1728710 </td>\n",
       "   <td style=\"text-align:right;\"> 0.0679205 </td>\n",
       "   <td style=\"text-align:right;\"> -0.0906673 </td>\n",
       "   <td style=\"text-align:right;\"> -0.0424623 </td>\n",
       "   <td style=\"text-align:right;\"> 0.0172338 </td>\n",
       "   <td style=\"text-align:right;\"> 0.0015672 </td>\n",
       "   <td style=\"text-align:right;\"> 0.0006855 </td>\n",
       "   <td style=\"text-align:right;\"> 0.0000004 </td>\n",
       "   <td style=\"text-align:right;\"> -0.0000003 </td>\n",
       "  </tr>\n",
       "  <tr>\n",
       "   <td style=\"text-align:right;\"> -0.9233908 </td>\n",
       "   <td style=\"text-align:right;\"> 0.3227803 </td>\n",
       "   <td style=\"text-align:right;\"> -0.1853512 </td>\n",
       "   <td style=\"text-align:right;\"> 0.6327526 </td>\n",
       "   <td style=\"text-align:right;\"> -1.8526851 </td>\n",
       "   <td style=\"text-align:right;\"> -2.1063312 </td>\n",
       "   <td style=\"text-align:right;\"> -0.8736050 </td>\n",
       "   <td style=\"text-align:right;\"> 0.3179850 </td>\n",
       "   <td style=\"text-align:right;\"> 0.3868079 </td>\n",
       "   <td style=\"text-align:right;\"> 0.1452196 </td>\n",
       "   <td style=\"text-align:right;\"> -0.3080882 </td>\n",
       "   <td style=\"text-align:right;\"> -0.0586827 </td>\n",
       "   <td style=\"text-align:right;\"> 0.0314312 </td>\n",
       "   <td style=\"text-align:right;\"> -0.0011145 </td>\n",
       "   <td style=\"text-align:right;\"> 0.0019065 </td>\n",
       "   <td style=\"text-align:right;\"> -0.0000014 </td>\n",
       "   <td style=\"text-align:right;\"> -0.0000002 </td>\n",
       "  </tr>\n",
       "  <tr>\n",
       "   <td style=\"text-align:right;\"> -2.8601307 </td>\n",
       "   <td style=\"text-align:right;\"> -0.5530504 </td>\n",
       "   <td style=\"text-align:right;\"> 0.1121233 </td>\n",
       "   <td style=\"text-align:right;\"> -0.9970486 </td>\n",
       "   <td style=\"text-align:right;\"> 0.0589515 </td>\n",
       "   <td style=\"text-align:right;\"> -0.2607079 </td>\n",
       "   <td style=\"text-align:right;\"> 0.2205148 </td>\n",
       "   <td style=\"text-align:right;\"> 0.4953472 </td>\n",
       "   <td style=\"text-align:right;\"> 0.2642117 </td>\n",
       "   <td style=\"text-align:right;\"> -0.1202111 </td>\n",
       "   <td style=\"text-align:right;\"> 0.0950570 </td>\n",
       "   <td style=\"text-align:right;\"> -0.0187472 </td>\n",
       "   <td style=\"text-align:right;\"> 0.0277040 </td>\n",
       "   <td style=\"text-align:right;\"> 0.0038231 </td>\n",
       "   <td style=\"text-align:right;\"> 0.0011372 </td>\n",
       "   <td style=\"text-align:right;\"> -0.0000006 </td>\n",
       "   <td style=\"text-align:right;\"> 0.0000002 </td>\n",
       "  </tr>\n",
       "  <tr>\n",
       "   <td style=\"text-align:right;\"> -3.1631177 </td>\n",
       "   <td style=\"text-align:right;\"> -0.0416238 </td>\n",
       "   <td style=\"text-align:right;\"> -0.0576907 </td>\n",
       "   <td style=\"text-align:right;\"> 0.0428298 </td>\n",
       "   <td style=\"text-align:right;\"> -1.0869344 </td>\n",
       "   <td style=\"text-align:right;\"> 0.7352626 </td>\n",
       "   <td style=\"text-align:right;\"> 1.1560934 </td>\n",
       "   <td style=\"text-align:right;\"> -0.9323186 </td>\n",
       "   <td style=\"text-align:right;\"> 0.1285576 </td>\n",
       "   <td style=\"text-align:right;\"> 0.2022035 </td>\n",
       "   <td style=\"text-align:right;\"> -0.2282229 </td>\n",
       "   <td style=\"text-align:right;\"> -0.0714973 </td>\n",
       "   <td style=\"text-align:right;\"> 0.0190179 </td>\n",
       "   <td style=\"text-align:right;\"> 0.0015922 </td>\n",
       "   <td style=\"text-align:right;\"> 0.0008001 </td>\n",
       "   <td style=\"text-align:right;\"> 0.0000009 </td>\n",
       "   <td style=\"text-align:right;\"> -0.0000003 </td>\n",
       "  </tr>\n",
       "  <tr>\n",
       "   <td style=\"text-align:right;\"> -2.2223630 </td>\n",
       "   <td style=\"text-align:right;\"> -0.1828012 </td>\n",
       "   <td style=\"text-align:right;\"> 0.0160060 </td>\n",
       "   <td style=\"text-align:right;\"> 0.2814129 </td>\n",
       "   <td style=\"text-align:right;\"> -0.3269076 </td>\n",
       "   <td style=\"text-align:right;\"> 0.3858523 </td>\n",
       "   <td style=\"text-align:right;\"> 0.0359717 </td>\n",
       "   <td style=\"text-align:right;\"> 0.0186176 </td>\n",
       "   <td style=\"text-align:right;\"> 0.2733875 </td>\n",
       "   <td style=\"text-align:right;\"> 0.0445881 </td>\n",
       "   <td style=\"text-align:right;\"> -0.1191158 </td>\n",
       "   <td style=\"text-align:right;\"> -0.2463197 </td>\n",
       "   <td style=\"text-align:right;\"> -0.0109397 </td>\n",
       "   <td style=\"text-align:right;\"> 0.0094793 </td>\n",
       "   <td style=\"text-align:right;\"> 0.0034006 </td>\n",
       "   <td style=\"text-align:right;\"> -0.0000021 </td>\n",
       "   <td style=\"text-align:right;\"> 0.0000000 </td>\n",
       "  </tr>\n",
       "</tbody>\n",
       "</table>"
      ]
     },
     "metadata": {},
     "output_type": "display_data"
    }
   ],
   "source": [
    "pc = prcomp(data, scale=TRUE, retx=TRUE)\n",
    "data.pc = as.data.frame(pc$x)\n",
    "\n",
    "size(data.pc)\n",
    "fmt(data.pc[1:6,], \"First few observations ...\", position=\"left\")"
   ]
  },
  {
   "cell_type": "markdown",
   "metadata": {},
   "source": [
    "### Qualitative Interpretation of Principal Components.\n",
    "\n",
    "Here, each column lists variable names sorted by weight applied to the principal component."
   ]
  },
  {
   "cell_type": "code",
   "execution_count": 22,
   "metadata": {
    "hide_input": true
   },
   "outputs": [
    {
     "data": {
      "text/html": [
       "<table>\n",
       "<thead><tr><th scope=col>PC1</th><th scope=col>PC2</th><th scope=col>PC3</th><th scope=col>PC4</th><th scope=col>PC5</th><th scope=col>PC6</th><th scope=col>PC7</th><th scope=col>PC8</th><th scope=col>PC9</th><th scope=col>PC10</th><th scope=col>PC11</th><th scope=col>PC12</th><th scope=col>PC13</th><th scope=col>PC14</th><th scope=col>PC15</th><th scope=col>PC16</th><th scope=col>PC17</th></tr></thead>\n",
       "<tbody>\n",
       "\t<tr><td>funded_amnt            </td><td>recoveries             </td><td>out_prncp              </td><td>dti                    </td><td>total_rec_late_fee     </td><td>total_rec_late_fee     </td><td>revol_bal              </td><td>last_pymnt_amnt        </td><td>total_rec_int          </td><td>recoveries             </td><td>total_rec_int          </td><td>installment            </td><td>funded_amnt_inv        </td><td>loan_amnt              </td><td>funded_amnt            </td><td>out_prncp_inv          </td><td>total_pymnt            </td></tr>\n",
       "\t<tr><td>loan_amnt              </td><td>collection_recovery_fee</td><td>out_prncp_inv          </td><td>int_rate               </td><td>revol_bal              </td><td>revol_bal              </td><td>dti                    </td><td>int_rate               </td><td>collection_recovery_fee</td><td>collection_recovery_fee</td><td>last_pymnt_amnt        </td><td>funded_amnt_inv        </td><td>total_pymnt_inv        </td><td>funded_amnt            </td><td>total_pymnt_inv        </td><td>out_prncp              </td><td>total_rec_prncp        </td></tr>\n",
       "\t<tr><td>funded_amnt_inv        </td><td>out_prncp              </td><td>recoveries             </td><td>collection_recovery_fee</td><td>dti                    </td><td>int_rate               </td><td>last_pymnt_amnt        </td><td>total_rec_int          </td><td>installment            </td><td>last_pymnt_amnt        </td><td>recoveries             </td><td>loan_amnt              </td><td>loan_amnt              </td><td>total_pymnt_inv        </td><td>funded_amnt_inv        </td><td>funded_amnt            </td><td>total_rec_int          </td></tr>\n",
       "\t<tr><td>total_pymnt            </td><td>out_prncp_inv          </td><td>collection_recovery_fee</td><td>total_rec_int          </td><td>int_rate               </td><td>dti                    </td><td>total_rec_int          </td><td>dti                    </td><td>total_pymnt            </td><td>total_rec_int          </td><td>total_rec_prncp        </td><td>funded_amnt            </td><td>funded_amnt            </td><td>funded_amnt_inv        </td><td>total_rec_prncp        </td><td>total_pymnt_inv        </td><td>recoveries             </td></tr>\n",
       "\t<tr><td>total_pymnt_inv        </td><td>int_rate               </td><td>int_rate               </td><td>recoveries             </td><td>total_rec_int          </td><td>last_pymnt_amnt        </td><td>total_rec_late_fee     </td><td>revol_bal              </td><td>funded_amnt            </td><td>installment            </td><td>collection_recovery_fee</td><td>last_pymnt_amnt        </td><td>total_rec_prncp        </td><td>total_rec_prncp        </td><td>total_pymnt            </td><td>funded_amnt_inv        </td><td>total_rec_late_fee     </td></tr>\n",
       "\t<tr><td>installment            </td><td>total_rec_prncp        </td><td>total_rec_late_fee     </td><td>revol_bal              </td><td>collection_recovery_fee</td><td>total_rec_int          </td><td>int_rate               </td><td>total_rec_late_fee     </td><td>funded_amnt_inv        </td><td>int_rate               </td><td>total_pymnt_inv        </td><td>total_rec_int          </td><td>total_pymnt            </td><td>total_pymnt            </td><td>loan_amnt              </td><td>total_rec_prncp        </td><td>funded_amnt            </td></tr>\n",
       "\t<tr><td>total_rec_prncp        </td><td>last_pymnt_amnt        </td><td>last_pymnt_amnt        </td><td>total_rec_prncp        </td><td>last_pymnt_amnt        </td><td>recoveries             </td><td>collection_recovery_fee</td><td>collection_recovery_fee</td><td>total_pymnt_inv        </td><td>total_rec_prncp        </td><td>total_pymnt            </td><td>total_pymnt_inv        </td><td>installment            </td><td>total_rec_int          </td><td>total_rec_int          </td><td>total_pymnt            </td><td>loan_amnt              </td></tr>\n",
       "\t<tr><td>total_rec_int          </td><td>total_rec_late_fee     </td><td>total_rec_prncp        </td><td>total_rec_late_fee     </td><td>recoveries             </td><td>collection_recovery_fee</td><td>total_rec_prncp        </td><td>installment            </td><td>loan_amnt              </td><td>total_pymnt            </td><td>int_rate               </td><td>total_rec_prncp        </td><td>total_rec_int          </td><td>installment            </td><td>recoveries             </td><td>total_rec_int          </td><td>out_prncp_inv          </td></tr>\n",
       "\t<tr><td>last_pymnt_amnt        </td><td>total_rec_int          </td><td>total_rec_int          </td><td>out_prncp_inv          </td><td>total_pymnt            </td><td>installment            </td><td>recoveries             </td><td>loan_amnt              </td><td>total_rec_prncp        </td><td>total_pymnt_inv        </td><td>loan_amnt              </td><td>int_rate               </td><td>recoveries             </td><td>recoveries             </td><td>installment            </td><td>installment            </td><td>out_prncp              </td></tr>\n",
       "\t<tr><td>revol_bal              </td><td>total_pymnt_inv        </td><td>total_pymnt_inv        </td><td>out_prncp              </td><td>total_pymnt_inv        </td><td>total_pymnt_inv        </td><td>total_pymnt_inv        </td><td>funded_amnt            </td><td>last_pymnt_amnt        </td><td>dti                    </td><td>funded_amnt            </td><td>recoveries             </td><td>last_pymnt_amnt        </td><td>last_pymnt_amnt        </td><td>last_pymnt_amnt        </td><td>loan_amnt              </td><td>total_pymnt_inv        </td></tr>\n",
       "\t<tr><td>int_rate               </td><td>total_pymnt            </td><td>installment            </td><td>loan_amnt              </td><td>total_rec_prncp        </td><td>total_pymnt            </td><td>funded_amnt_inv        </td><td>funded_amnt_inv        </td><td>int_rate               </td><td>total_rec_late_fee     </td><td>funded_amnt_inv        </td><td>total_pymnt            </td><td>int_rate               </td><td>revol_bal              </td><td>revol_bal              </td><td>recoveries             </td><td>funded_amnt_inv        </td></tr>\n",
       "\t<tr><td>recoveries             </td><td>dti                    </td><td>total_pymnt            </td><td>funded_amnt            </td><td>funded_amnt_inv        </td><td>loan_amnt              </td><td>out_prncp_inv          </td><td>recoveries             </td><td>revol_bal              </td><td>out_prncp              </td><td>installment            </td><td>collection_recovery_fee</td><td>dti                    </td><td>dti                    </td><td>total_rec_late_fee     </td><td>dti                    </td><td>installment            </td></tr>\n",
       "\t<tr><td>dti                    </td><td>funded_amnt            </td><td>loan_amnt              </td><td>installment            </td><td>out_prncp              </td><td>funded_amnt            </td><td>out_prncp              </td><td>total_pymnt            </td><td>dti                    </td><td>out_prncp_inv          </td><td>out_prncp_inv          </td><td>total_rec_late_fee     </td><td>revol_bal              </td><td>out_prncp              </td><td>collection_recovery_fee</td><td>last_pymnt_amnt        </td><td>last_pymnt_amnt        </td></tr>\n",
       "\t<tr><td>collection_recovery_fee</td><td>loan_amnt              </td><td>funded_amnt            </td><td>funded_amnt_inv        </td><td>out_prncp_inv          </td><td>out_prncp_inv          </td><td>total_pymnt            </td><td>total_pymnt_inv        </td><td>out_prncp              </td><td>funded_amnt            </td><td>out_prncp              </td><td>out_prncp_inv          </td><td>collection_recovery_fee</td><td>out_prncp_inv          </td><td>out_prncp              </td><td>revol_bal              </td><td>collection_recovery_fee</td></tr>\n",
       "\t<tr><td>total_rec_late_fee     </td><td>funded_amnt_inv        </td><td>funded_amnt_inv        </td><td>last_pymnt_amnt        </td><td>funded_amnt            </td><td>out_prncp              </td><td>funded_amnt            </td><td>total_rec_prncp        </td><td>out_prncp_inv          </td><td>funded_amnt_inv        </td><td>total_rec_late_fee     </td><td>out_prncp              </td><td>total_rec_late_fee     </td><td>collection_recovery_fee</td><td>dti                    </td><td>int_rate               </td><td>revol_bal              </td></tr>\n",
       "\t<tr><td>out_prncp_inv          </td><td>installment            </td><td>dti                    </td><td>total_pymnt            </td><td>loan_amnt              </td><td>funded_amnt_inv        </td><td>loan_amnt              </td><td>out_prncp_inv          </td><td>total_rec_late_fee     </td><td>revol_bal              </td><td>dti                    </td><td>revol_bal              </td><td>out_prncp              </td><td>total_rec_late_fee     </td><td>int_rate               </td><td>total_rec_late_fee     </td><td>int_rate               </td></tr>\n",
       "\t<tr><td>out_prncp              </td><td>revol_bal              </td><td>revol_bal              </td><td>total_pymnt_inv        </td><td>installment            </td><td>total_rec_prncp        </td><td>installment            </td><td>out_prncp              </td><td>recoveries             </td><td>loan_amnt              </td><td>revol_bal              </td><td>dti                    </td><td>out_prncp_inv          </td><td>int_rate               </td><td>out_prncp_inv          </td><td>collection_recovery_fee</td><td>dti                    </td></tr>\n",
       "</tbody>\n",
       "</table>\n"
      ],
      "text/latex": [
       "\\begin{tabular}{r|lllllllllllllllll}\n",
       " PC1 & PC2 & PC3 & PC4 & PC5 & PC6 & PC7 & PC8 & PC9 & PC10 & PC11 & PC12 & PC13 & PC14 & PC15 & PC16 & PC17\\\\\n",
       "\\hline\n",
       "\t funded\\_amnt                 & recoveries                    & out\\_prncp                   & dti                           & total\\_rec\\_late\\_fee      & total\\_rec\\_late\\_fee      & revol\\_bal                   & last\\_pymnt\\_amnt           & total\\_rec\\_int             & recoveries                    & total\\_rec\\_int             & installment                   & funded\\_amnt\\_inv           & loan\\_amnt                   & funded\\_amnt                 & out\\_prncp\\_inv             & total\\_pymnt                \\\\\n",
       "\t loan\\_amnt                 & collection\\_recovery\\_fee & out\\_prncp\\_inv           & int\\_rate                  & revol\\_bal                 & revol\\_bal                 & dti                         & int\\_rate                  & collection\\_recovery\\_fee & collection\\_recovery\\_fee & last\\_pymnt\\_amnt         & funded\\_amnt\\_inv         & total\\_pymnt\\_inv         & funded\\_amnt               & total\\_pymnt\\_inv         & out\\_prncp                 & total\\_rec\\_prncp        \\\\\n",
       "\t funded\\_amnt\\_inv         & out\\_prncp                 & recoveries                  & collection\\_recovery\\_fee & dti                         & int\\_rate                  & last\\_pymnt\\_amnt         & total\\_rec\\_int           & installment                 & last\\_pymnt\\_amnt         & recoveries                  & loan\\_amnt                 & loan\\_amnt                 & total\\_pymnt\\_inv         & funded\\_amnt\\_inv         & funded\\_amnt               & total\\_rec\\_int          \\\\\n",
       "\t total\\_pymnt               & out\\_prncp\\_inv           & collection\\_recovery\\_fee & total\\_rec\\_int           & int\\_rate                  & dti                         & total\\_rec\\_int           & dti                         & total\\_pymnt               & total\\_rec\\_int           & total\\_rec\\_prncp         & funded\\_amnt               & funded\\_amnt               & funded\\_amnt\\_inv         & total\\_rec\\_prncp         & total\\_pymnt\\_inv         & recoveries                 \\\\\n",
       "\t total\\_pymnt\\_inv           & int\\_rate                    & int\\_rate                    & recoveries                    & total\\_rec\\_int             & last\\_pymnt\\_amnt           & total\\_rec\\_late\\_fee      & revol\\_bal                   & funded\\_amnt                 & installment                   & collection\\_recovery\\_fee   & last\\_pymnt\\_amnt           & total\\_rec\\_prncp           & total\\_rec\\_prncp           & total\\_pymnt                 & funded\\_amnt\\_inv           & total\\_rec\\_late\\_fee     \\\\\n",
       "\t installment                   & total\\_rec\\_prncp           & total\\_rec\\_late\\_fee      & revol\\_bal                   & collection\\_recovery\\_fee   & total\\_rec\\_int             & int\\_rate                    & total\\_rec\\_late\\_fee      & funded\\_amnt\\_inv           & int\\_rate                    & total\\_pymnt\\_inv           & total\\_rec\\_int             & total\\_pymnt                 & total\\_pymnt                 & loan\\_amnt                   & total\\_rec\\_prncp           & funded\\_amnt                \\\\\n",
       "\t total\\_rec\\_prncp         & last\\_pymnt\\_amnt         & last\\_pymnt\\_amnt         & total\\_rec\\_prncp         & last\\_pymnt\\_amnt         & recoveries                  & collection\\_recovery\\_fee & collection\\_recovery\\_fee & total\\_pymnt\\_inv         & total\\_rec\\_prncp         & total\\_pymnt               & total\\_pymnt\\_inv         & installment                 & total\\_rec\\_int           & total\\_rec\\_int           & total\\_pymnt               & loan\\_amnt                \\\\\n",
       "\t total\\_rec\\_int             & total\\_rec\\_late\\_fee      & total\\_rec\\_prncp           & total\\_rec\\_late\\_fee      & recoveries                    & collection\\_recovery\\_fee   & total\\_rec\\_prncp           & installment                   & loan\\_amnt                   & total\\_pymnt                 & int\\_rate                    & total\\_rec\\_prncp           & total\\_rec\\_int             & installment                   & recoveries                    & total\\_rec\\_int             & out\\_prncp\\_inv            \\\\\n",
       "\t last\\_pymnt\\_amnt         & total\\_rec\\_int           & total\\_rec\\_int           & out\\_prncp\\_inv           & total\\_pymnt               & installment                 & recoveries                  & loan\\_amnt                 & total\\_rec\\_prncp         & total\\_pymnt\\_inv         & loan\\_amnt                 & int\\_rate                  & recoveries                  & recoveries                  & installment                 & installment                 & out\\_prncp                \\\\\n",
       "\t revol\\_bal                 & total\\_pymnt\\_inv         & total\\_pymnt\\_inv         & out\\_prncp                 & total\\_pymnt\\_inv         & total\\_pymnt\\_inv         & total\\_pymnt\\_inv         & funded\\_amnt               & last\\_pymnt\\_amnt         & dti                         & funded\\_amnt               & recoveries                  & last\\_pymnt\\_amnt         & last\\_pymnt\\_amnt         & last\\_pymnt\\_amnt         & loan\\_amnt                 & total\\_pymnt\\_inv        \\\\\n",
       "\t int\\_rate                    & total\\_pymnt                 & installment                   & loan\\_amnt                   & total\\_rec\\_prncp           & total\\_pymnt                 & funded\\_amnt\\_inv           & funded\\_amnt\\_inv           & int\\_rate                    & total\\_rec\\_late\\_fee      & funded\\_amnt\\_inv           & total\\_pymnt                 & int\\_rate                    & revol\\_bal                   & revol\\_bal                   & recoveries                    & funded\\_amnt\\_inv          \\\\\n",
       "\t recoveries                    & dti                           & total\\_pymnt                 & funded\\_amnt                 & funded\\_amnt\\_inv           & loan\\_amnt                   & out\\_prncp\\_inv             & recoveries                    & revol\\_bal                   & out\\_prncp                   & installment                   & collection\\_recovery\\_fee   & dti                           & dti                           & total\\_rec\\_late\\_fee      & dti                           & installment                  \\\\\n",
       "\t dti                           & funded\\_amnt                 & loan\\_amnt                   & installment                   & out\\_prncp                   & funded\\_amnt                 & out\\_prncp                   & total\\_pymnt                 & dti                           & out\\_prncp\\_inv             & out\\_prncp\\_inv             & total\\_rec\\_late\\_fee      & revol\\_bal                   & out\\_prncp                   & collection\\_recovery\\_fee   & last\\_pymnt\\_amnt           & last\\_pymnt\\_amnt          \\\\\n",
       "\t collection\\_recovery\\_fee & loan\\_amnt                 & funded\\_amnt               & funded\\_amnt\\_inv         & out\\_prncp\\_inv           & out\\_prncp\\_inv           & total\\_pymnt               & total\\_pymnt\\_inv         & out\\_prncp                 & funded\\_amnt               & out\\_prncp                 & out\\_prncp\\_inv           & collection\\_recovery\\_fee & out\\_prncp\\_inv           & out\\_prncp                 & revol\\_bal                 & collection\\_recovery\\_fee\\\\\n",
       "\t total\\_rec\\_late\\_fee      & funded\\_amnt\\_inv           & funded\\_amnt\\_inv           & last\\_pymnt\\_amnt           & funded\\_amnt                 & out\\_prncp                   & funded\\_amnt                 & total\\_rec\\_prncp           & out\\_prncp\\_inv             & funded\\_amnt\\_inv           & total\\_rec\\_late\\_fee      & out\\_prncp                   & total\\_rec\\_late\\_fee      & collection\\_recovery\\_fee   & dti                           & int\\_rate                    & revol\\_bal                  \\\\\n",
       "\t out\\_prncp\\_inv             & installment                   & dti                           & total\\_pymnt                 & loan\\_amnt                   & funded\\_amnt\\_inv           & loan\\_amnt                   & out\\_prncp\\_inv             & total\\_rec\\_late\\_fee      & revol\\_bal                   & dti                           & revol\\_bal                   & out\\_prncp                   & total\\_rec\\_late\\_fee      & int\\_rate                    & total\\_rec\\_late\\_fee      & int\\_rate                   \\\\\n",
       "\t out\\_prncp                 & revol\\_bal                 & revol\\_bal                 & total\\_pymnt\\_inv         & installment                 & total\\_rec\\_prncp         & installment                 & out\\_prncp                 & recoveries                  & loan\\_amnt                 & revol\\_bal                 & dti                         & out\\_prncp\\_inv           & int\\_rate                  & out\\_prncp\\_inv           & collection\\_recovery\\_fee & dti                        \\\\\n",
       "\\end{tabular}\n"
      ],
      "text/markdown": [
       "\n",
       "| PC1 | PC2 | PC3 | PC4 | PC5 | PC6 | PC7 | PC8 | PC9 | PC10 | PC11 | PC12 | PC13 | PC14 | PC15 | PC16 | PC17 |\n",
       "|---|---|---|---|---|---|---|---|---|---|---|---|---|---|---|---|---|\n",
       "| funded_amnt             | recoveries              | out_prncp               | dti                     | total_rec_late_fee      | total_rec_late_fee      | revol_bal               | last_pymnt_amnt         | total_rec_int           | recoveries              | total_rec_int           | installment             | funded_amnt_inv         | loan_amnt               | funded_amnt             | out_prncp_inv           | total_pymnt             |\n",
       "| loan_amnt               | collection_recovery_fee | out_prncp_inv           | int_rate                | revol_bal               | revol_bal               | dti                     | int_rate                | collection_recovery_fee | collection_recovery_fee | last_pymnt_amnt         | funded_amnt_inv         | total_pymnt_inv         | funded_amnt             | total_pymnt_inv         | out_prncp               | total_rec_prncp         |\n",
       "| funded_amnt_inv         | out_prncp               | recoveries              | collection_recovery_fee | dti                     | int_rate                | last_pymnt_amnt         | total_rec_int           | installment             | last_pymnt_amnt         | recoveries              | loan_amnt               | loan_amnt               | total_pymnt_inv         | funded_amnt_inv         | funded_amnt             | total_rec_int           |\n",
       "| total_pymnt             | out_prncp_inv           | collection_recovery_fee | total_rec_int           | int_rate                | dti                     | total_rec_int           | dti                     | total_pymnt             | total_rec_int           | total_rec_prncp         | funded_amnt             | funded_amnt             | funded_amnt_inv         | total_rec_prncp         | total_pymnt_inv         | recoveries              |\n",
       "| total_pymnt_inv         | int_rate                | int_rate                | recoveries              | total_rec_int           | last_pymnt_amnt         | total_rec_late_fee      | revol_bal               | funded_amnt             | installment             | collection_recovery_fee | last_pymnt_amnt         | total_rec_prncp         | total_rec_prncp         | total_pymnt             | funded_amnt_inv         | total_rec_late_fee      |\n",
       "| installment             | total_rec_prncp         | total_rec_late_fee      | revol_bal               | collection_recovery_fee | total_rec_int           | int_rate                | total_rec_late_fee      | funded_amnt_inv         | int_rate                | total_pymnt_inv         | total_rec_int           | total_pymnt             | total_pymnt             | loan_amnt               | total_rec_prncp         | funded_amnt             |\n",
       "| total_rec_prncp         | last_pymnt_amnt         | last_pymnt_amnt         | total_rec_prncp         | last_pymnt_amnt         | recoveries              | collection_recovery_fee | collection_recovery_fee | total_pymnt_inv         | total_rec_prncp         | total_pymnt             | total_pymnt_inv         | installment             | total_rec_int           | total_rec_int           | total_pymnt             | loan_amnt               |\n",
       "| total_rec_int           | total_rec_late_fee      | total_rec_prncp         | total_rec_late_fee      | recoveries              | collection_recovery_fee | total_rec_prncp         | installment             | loan_amnt               | total_pymnt             | int_rate                | total_rec_prncp         | total_rec_int           | installment             | recoveries              | total_rec_int           | out_prncp_inv           |\n",
       "| last_pymnt_amnt         | total_rec_int           | total_rec_int           | out_prncp_inv           | total_pymnt             | installment             | recoveries              | loan_amnt               | total_rec_prncp         | total_pymnt_inv         | loan_amnt               | int_rate                | recoveries              | recoveries              | installment             | installment             | out_prncp               |\n",
       "| revol_bal               | total_pymnt_inv         | total_pymnt_inv         | out_prncp               | total_pymnt_inv         | total_pymnt_inv         | total_pymnt_inv         | funded_amnt             | last_pymnt_amnt         | dti                     | funded_amnt             | recoveries              | last_pymnt_amnt         | last_pymnt_amnt         | last_pymnt_amnt         | loan_amnt               | total_pymnt_inv         |\n",
       "| int_rate                | total_pymnt             | installment             | loan_amnt               | total_rec_prncp         | total_pymnt             | funded_amnt_inv         | funded_amnt_inv         | int_rate                | total_rec_late_fee      | funded_amnt_inv         | total_pymnt             | int_rate                | revol_bal               | revol_bal               | recoveries              | funded_amnt_inv         |\n",
       "| recoveries              | dti                     | total_pymnt             | funded_amnt             | funded_amnt_inv         | loan_amnt               | out_prncp_inv           | recoveries              | revol_bal               | out_prncp               | installment             | collection_recovery_fee | dti                     | dti                     | total_rec_late_fee      | dti                     | installment             |\n",
       "| dti                     | funded_amnt             | loan_amnt               | installment             | out_prncp               | funded_amnt             | out_prncp               | total_pymnt             | dti                     | out_prncp_inv           | out_prncp_inv           | total_rec_late_fee      | revol_bal               | out_prncp               | collection_recovery_fee | last_pymnt_amnt         | last_pymnt_amnt         |\n",
       "| collection_recovery_fee | loan_amnt               | funded_amnt             | funded_amnt_inv         | out_prncp_inv           | out_prncp_inv           | total_pymnt             | total_pymnt_inv         | out_prncp               | funded_amnt             | out_prncp               | out_prncp_inv           | collection_recovery_fee | out_prncp_inv           | out_prncp               | revol_bal               | collection_recovery_fee |\n",
       "| total_rec_late_fee      | funded_amnt_inv         | funded_amnt_inv         | last_pymnt_amnt         | funded_amnt             | out_prncp               | funded_amnt             | total_rec_prncp         | out_prncp_inv           | funded_amnt_inv         | total_rec_late_fee      | out_prncp               | total_rec_late_fee      | collection_recovery_fee | dti                     | int_rate                | revol_bal               |\n",
       "| out_prncp_inv           | installment             | dti                     | total_pymnt             | loan_amnt               | funded_amnt_inv         | loan_amnt               | out_prncp_inv           | total_rec_late_fee      | revol_bal               | dti                     | revol_bal               | out_prncp               | total_rec_late_fee      | int_rate                | total_rec_late_fee      | int_rate                |\n",
       "| out_prncp               | revol_bal               | revol_bal               | total_pymnt_inv         | installment             | total_rec_prncp         | installment             | out_prncp               | recoveries              | loan_amnt               | revol_bal               | dti                     | out_prncp_inv           | int_rate                | out_prncp_inv           | collection_recovery_fee | dti                     |\n",
       "\n"
      ],
      "text/plain": [
       "   PC1                     PC2                     PC3                    \n",
       "1  funded_amnt             recoveries              out_prncp              \n",
       "2  loan_amnt               collection_recovery_fee out_prncp_inv          \n",
       "3  funded_amnt_inv         out_prncp               recoveries             \n",
       "4  total_pymnt             out_prncp_inv           collection_recovery_fee\n",
       "5  total_pymnt_inv         int_rate                int_rate               \n",
       "6  installment             total_rec_prncp         total_rec_late_fee     \n",
       "7  total_rec_prncp         last_pymnt_amnt         last_pymnt_amnt        \n",
       "8  total_rec_int           total_rec_late_fee      total_rec_prncp        \n",
       "9  last_pymnt_amnt         total_rec_int           total_rec_int          \n",
       "10 revol_bal               total_pymnt_inv         total_pymnt_inv        \n",
       "11 int_rate                total_pymnt             installment            \n",
       "12 recoveries              dti                     total_pymnt            \n",
       "13 dti                     funded_amnt             loan_amnt              \n",
       "14 collection_recovery_fee loan_amnt               funded_amnt            \n",
       "15 total_rec_late_fee      funded_amnt_inv         funded_amnt_inv        \n",
       "16 out_prncp_inv           installment             dti                    \n",
       "17 out_prncp               revol_bal               revol_bal              \n",
       "   PC4                     PC5                     PC6                    \n",
       "1  dti                     total_rec_late_fee      total_rec_late_fee     \n",
       "2  int_rate                revol_bal               revol_bal              \n",
       "3  collection_recovery_fee dti                     int_rate               \n",
       "4  total_rec_int           int_rate                dti                    \n",
       "5  recoveries              total_rec_int           last_pymnt_amnt        \n",
       "6  revol_bal               collection_recovery_fee total_rec_int          \n",
       "7  total_rec_prncp         last_pymnt_amnt         recoveries             \n",
       "8  total_rec_late_fee      recoveries              collection_recovery_fee\n",
       "9  out_prncp_inv           total_pymnt             installment            \n",
       "10 out_prncp               total_pymnt_inv         total_pymnt_inv        \n",
       "11 loan_amnt               total_rec_prncp         total_pymnt            \n",
       "12 funded_amnt             funded_amnt_inv         loan_amnt              \n",
       "13 installment             out_prncp               funded_amnt            \n",
       "14 funded_amnt_inv         out_prncp_inv           out_prncp_inv          \n",
       "15 last_pymnt_amnt         funded_amnt             out_prncp              \n",
       "16 total_pymnt             loan_amnt               funded_amnt_inv        \n",
       "17 total_pymnt_inv         installment             total_rec_prncp        \n",
       "   PC7                     PC8                     PC9                    \n",
       "1  revol_bal               last_pymnt_amnt         total_rec_int          \n",
       "2  dti                     int_rate                collection_recovery_fee\n",
       "3  last_pymnt_amnt         total_rec_int           installment            \n",
       "4  total_rec_int           dti                     total_pymnt            \n",
       "5  total_rec_late_fee      revol_bal               funded_amnt            \n",
       "6  int_rate                total_rec_late_fee      funded_amnt_inv        \n",
       "7  collection_recovery_fee collection_recovery_fee total_pymnt_inv        \n",
       "8  total_rec_prncp         installment             loan_amnt              \n",
       "9  recoveries              loan_amnt               total_rec_prncp        \n",
       "10 total_pymnt_inv         funded_amnt             last_pymnt_amnt        \n",
       "11 funded_amnt_inv         funded_amnt_inv         int_rate               \n",
       "12 out_prncp_inv           recoveries              revol_bal              \n",
       "13 out_prncp               total_pymnt             dti                    \n",
       "14 total_pymnt             total_pymnt_inv         out_prncp              \n",
       "15 funded_amnt             total_rec_prncp         out_prncp_inv          \n",
       "16 loan_amnt               out_prncp_inv           total_rec_late_fee     \n",
       "17 installment             out_prncp               recoveries             \n",
       "   PC10                    PC11                    PC12                   \n",
       "1  recoveries              total_rec_int           installment            \n",
       "2  collection_recovery_fee last_pymnt_amnt         funded_amnt_inv        \n",
       "3  last_pymnt_amnt         recoveries              loan_amnt              \n",
       "4  total_rec_int           total_rec_prncp         funded_amnt            \n",
       "5  installment             collection_recovery_fee last_pymnt_amnt        \n",
       "6  int_rate                total_pymnt_inv         total_rec_int          \n",
       "7  total_rec_prncp         total_pymnt             total_pymnt_inv        \n",
       "8  total_pymnt             int_rate                total_rec_prncp        \n",
       "9  total_pymnt_inv         loan_amnt               int_rate               \n",
       "10 dti                     funded_amnt             recoveries             \n",
       "11 total_rec_late_fee      funded_amnt_inv         total_pymnt            \n",
       "12 out_prncp               installment             collection_recovery_fee\n",
       "13 out_prncp_inv           out_prncp_inv           total_rec_late_fee     \n",
       "14 funded_amnt             out_prncp               out_prncp_inv          \n",
       "15 funded_amnt_inv         total_rec_late_fee      out_prncp              \n",
       "16 revol_bal               dti                     revol_bal              \n",
       "17 loan_amnt               revol_bal               dti                    \n",
       "   PC13                    PC14                    PC15                   \n",
       "1  funded_amnt_inv         loan_amnt               funded_amnt            \n",
       "2  total_pymnt_inv         funded_amnt             total_pymnt_inv        \n",
       "3  loan_amnt               total_pymnt_inv         funded_amnt_inv        \n",
       "4  funded_amnt             funded_amnt_inv         total_rec_prncp        \n",
       "5  total_rec_prncp         total_rec_prncp         total_pymnt            \n",
       "6  total_pymnt             total_pymnt             loan_amnt              \n",
       "7  installment             total_rec_int           total_rec_int          \n",
       "8  total_rec_int           installment             recoveries             \n",
       "9  recoveries              recoveries              installment            \n",
       "10 last_pymnt_amnt         last_pymnt_amnt         last_pymnt_amnt        \n",
       "11 int_rate                revol_bal               revol_bal              \n",
       "12 dti                     dti                     total_rec_late_fee     \n",
       "13 revol_bal               out_prncp               collection_recovery_fee\n",
       "14 collection_recovery_fee out_prncp_inv           out_prncp              \n",
       "15 total_rec_late_fee      collection_recovery_fee dti                    \n",
       "16 out_prncp               total_rec_late_fee      int_rate               \n",
       "17 out_prncp_inv           int_rate                out_prncp_inv          \n",
       "   PC16                    PC17                   \n",
       "1  out_prncp_inv           total_pymnt            \n",
       "2  out_prncp               total_rec_prncp        \n",
       "3  funded_amnt             total_rec_int          \n",
       "4  total_pymnt_inv         recoveries             \n",
       "5  funded_amnt_inv         total_rec_late_fee     \n",
       "6  total_rec_prncp         funded_amnt            \n",
       "7  total_pymnt             loan_amnt              \n",
       "8  total_rec_int           out_prncp_inv          \n",
       "9  installment             out_prncp              \n",
       "10 loan_amnt               total_pymnt_inv        \n",
       "11 recoveries              funded_amnt_inv        \n",
       "12 dti                     installment            \n",
       "13 last_pymnt_amnt         last_pymnt_amnt        \n",
       "14 revol_bal               collection_recovery_fee\n",
       "15 int_rate                revol_bal              \n",
       "16 total_rec_late_fee      int_rate               \n",
       "17 collection_recovery_fee dti                    "
      ]
     },
     "metadata": {},
     "output_type": "display_data"
    }
   ],
   "source": [
    "pc_constituents(pc)"
   ]
  },
  {
   "cell_type": "markdown",
   "metadata": {},
   "source": [
    "### Scree Plot of Principal Components"
   ]
  },
  {
   "cell_type": "code",
   "execution_count": 23,
   "metadata": {
    "hide_input": true,
    "scrolled": false
   },
   "outputs": [
    {
     "data": {
      "text/html": [
       "<table>\n",
       "<thead><tr><th scope=col>variable</th><th scope=col>sdev</th><th scope=col>variance</th><th scope=col>cum_variance</th><th scope=col>relative_variance</th><th scope=col>cum_relative_variance</th></tr></thead>\n",
       "<tbody>\n",
       "\t<tr><td>PC1                   </td><td>2.7173098262308       </td><td>7.38377269173050354567</td><td> 7.383773             </td><td>4.343396e-01          </td><td>0.4343396             </td></tr>\n",
       "\t<tr><td>PC2                   </td><td>1.4721417710771       </td><td>2.16720139414998724803</td><td> 9.550974             </td><td>1.274824e-01          </td><td>0.5618220             </td></tr>\n",
       "\t<tr><td>PC3                   </td><td>1.4095611181014       </td><td>1.98686254566316522485</td><td>11.537837             </td><td>1.168743e-01          </td><td>0.6786963             </td></tr>\n",
       "\t<tr><td>PC4                   </td><td>1.0740640204197       </td><td>1.15361351996019578792</td><td>12.691450             </td><td>6.785962e-02          </td><td>0.7465559             </td></tr>\n",
       "\t<tr><td>PC5                   </td><td>1.0252282001400       </td><td>1.05109286236220822452</td><td>13.742543             </td><td>6.182899e-02          </td><td>0.8083849             </td></tr>\n",
       "\t<tr><td>PC6                   </td><td>0.9839736782539       </td><td>0.96820419949641245427</td><td>14.710747             </td><td>5.695319e-02          </td><td>0.8653381             </td></tr>\n",
       "\t<tr><td>PC7                   </td><td>0.8726487333024       </td><td>0.76151581173426796667</td><td>15.472263             </td><td>4.479505e-02          </td><td>0.9101331             </td></tr>\n",
       "\t<tr><td>PC8                   </td><td>0.8007443563781       </td><td>0.64119152427136827388</td><td>16.113455             </td><td>3.771715e-02          </td><td>0.9478503             </td></tr>\n",
       "\t<tr><td>PC9                   </td><td>0.6959904525408       </td><td>0.48440271002792323340</td><td>16.597857             </td><td>2.849428e-02          </td><td>0.9763445             </td></tr>\n",
       "\t<tr><td>PC10                  </td><td>0.4282900978415       </td><td>0.18343240790906042981</td><td>16.781290             </td><td>1.079014e-02          </td><td>0.9871347             </td></tr>\n",
       "\t<tr><td>PC11                  </td><td>0.3838905536732       </td><td>0.14737195719954723772</td><td>16.928662             </td><td>8.668939e-03          </td><td>0.9958036             </td></tr>\n",
       "\t<tr><td>PC12                  </td><td>0.2264373204043       </td><td>0.05127386007188090150</td><td>16.979935             </td><td>3.016109e-03          </td><td>0.9988197             </td></tr>\n",
       "\t<tr><td>PC13                  </td><td>0.1296854523344       </td><td>0.01681831654718120642</td><td>16.996754             </td><td>9.893127e-04          </td><td>0.9998090             </td></tr>\n",
       "\t<tr><td>PC14                  </td><td>0.0516619051102       </td><td>0.00266895243961772855</td><td>16.999423             </td><td>1.569972e-04          </td><td>0.9999660             </td></tr>\n",
       "\t<tr><td>PC15                  </td><td>0.0240075314565       </td><td>0.00057636156663439626</td><td>16.999999             </td><td>3.390362e-05          </td><td>0.9999999             </td></tr>\n",
       "\t<tr><td>PC16                  </td><td>0.0009406752990       </td><td>0.00000088487001808063</td><td>17.000000             </td><td>5.205118e-08          </td><td>1.0000000             </td></tr>\n",
       "\t<tr><td>PC17                  </td><td>0.0000001309906       </td><td>0.00000000000001715855</td><td>17.000000             </td><td>1.009326e-15          </td><td>1.0000000             </td></tr>\n",
       "</tbody>\n",
       "</table>\n"
      ],
      "text/latex": [
       "\\begin{tabular}{r|llllll}\n",
       " variable & sdev & variance & cum\\_variance & relative\\_variance & cum\\_relative\\_variance\\\\\n",
       "\\hline\n",
       "\t PC1                    & 2.7173098262308        & 7.38377269173050354567 &  7.383773              & 4.343396e-01           & 0.4343396             \\\\\n",
       "\t PC2                    & 1.4721417710771        & 2.16720139414998724803 &  9.550974              & 1.274824e-01           & 0.5618220             \\\\\n",
       "\t PC3                    & 1.4095611181014        & 1.98686254566316522485 & 11.537837              & 1.168743e-01           & 0.6786963             \\\\\n",
       "\t PC4                    & 1.0740640204197        & 1.15361351996019578792 & 12.691450              & 6.785962e-02           & 0.7465559             \\\\\n",
       "\t PC5                    & 1.0252282001400        & 1.05109286236220822452 & 13.742543              & 6.182899e-02           & 0.8083849             \\\\\n",
       "\t PC6                    & 0.9839736782539        & 0.96820419949641245427 & 14.710747              & 5.695319e-02           & 0.8653381             \\\\\n",
       "\t PC7                    & 0.8726487333024        & 0.76151581173426796667 & 15.472263              & 4.479505e-02           & 0.9101331             \\\\\n",
       "\t PC8                    & 0.8007443563781        & 0.64119152427136827388 & 16.113455              & 3.771715e-02           & 0.9478503             \\\\\n",
       "\t PC9                    & 0.6959904525408        & 0.48440271002792323340 & 16.597857              & 2.849428e-02           & 0.9763445             \\\\\n",
       "\t PC10                   & 0.4282900978415        & 0.18343240790906042981 & 16.781290              & 1.079014e-02           & 0.9871347             \\\\\n",
       "\t PC11                   & 0.3838905536732        & 0.14737195719954723772 & 16.928662              & 8.668939e-03           & 0.9958036             \\\\\n",
       "\t PC12                   & 0.2264373204043        & 0.05127386007188090150 & 16.979935              & 3.016109e-03           & 0.9988197             \\\\\n",
       "\t PC13                   & 0.1296854523344        & 0.01681831654718120642 & 16.996754              & 9.893127e-04           & 0.9998090             \\\\\n",
       "\t PC14                   & 0.0516619051102        & 0.00266895243961772855 & 16.999423              & 1.569972e-04           & 0.9999660             \\\\\n",
       "\t PC15                   & 0.0240075314565        & 0.00057636156663439626 & 16.999999              & 3.390362e-05           & 0.9999999             \\\\\n",
       "\t PC16                   & 0.0009406752990        & 0.00000088487001808063 & 17.000000              & 5.205118e-08           & 1.0000000             \\\\\n",
       "\t PC17                   & 0.0000001309906        & 0.00000000000001715855 & 17.000000              & 1.009326e-15           & 1.0000000             \\\\\n",
       "\\end{tabular}\n"
      ],
      "text/markdown": [
       "\n",
       "| variable | sdev | variance | cum_variance | relative_variance | cum_relative_variance |\n",
       "|---|---|---|---|---|---|\n",
       "| PC1                    | 2.7173098262308        | 7.38377269173050354567 |  7.383773              | 4.343396e-01           | 0.4343396              |\n",
       "| PC2                    | 1.4721417710771        | 2.16720139414998724803 |  9.550974              | 1.274824e-01           | 0.5618220              |\n",
       "| PC3                    | 1.4095611181014        | 1.98686254566316522485 | 11.537837              | 1.168743e-01           | 0.6786963              |\n",
       "| PC4                    | 1.0740640204197        | 1.15361351996019578792 | 12.691450              | 6.785962e-02           | 0.7465559              |\n",
       "| PC5                    | 1.0252282001400        | 1.05109286236220822452 | 13.742543              | 6.182899e-02           | 0.8083849              |\n",
       "| PC6                    | 0.9839736782539        | 0.96820419949641245427 | 14.710747              | 5.695319e-02           | 0.8653381              |\n",
       "| PC7                    | 0.8726487333024        | 0.76151581173426796667 | 15.472263              | 4.479505e-02           | 0.9101331              |\n",
       "| PC8                    | 0.8007443563781        | 0.64119152427136827388 | 16.113455              | 3.771715e-02           | 0.9478503              |\n",
       "| PC9                    | 0.6959904525408        | 0.48440271002792323340 | 16.597857              | 2.849428e-02           | 0.9763445              |\n",
       "| PC10                   | 0.4282900978415        | 0.18343240790906042981 | 16.781290              | 1.079014e-02           | 0.9871347              |\n",
       "| PC11                   | 0.3838905536732        | 0.14737195719954723772 | 16.928662              | 8.668939e-03           | 0.9958036              |\n",
       "| PC12                   | 0.2264373204043        | 0.05127386007188090150 | 16.979935              | 3.016109e-03           | 0.9988197              |\n",
       "| PC13                   | 0.1296854523344        | 0.01681831654718120642 | 16.996754              | 9.893127e-04           | 0.9998090              |\n",
       "| PC14                   | 0.0516619051102        | 0.00266895243961772855 | 16.999423              | 1.569972e-04           | 0.9999660              |\n",
       "| PC15                   | 0.0240075314565        | 0.00057636156663439626 | 16.999999              | 3.390362e-05           | 0.9999999              |\n",
       "| PC16                   | 0.0009406752990        | 0.00000088487001808063 | 17.000000              | 5.205118e-08           | 1.0000000              |\n",
       "| PC17                   | 0.0000001309906        | 0.00000000000001715855 | 17.000000              | 1.009326e-15           | 1.0000000              |\n",
       "\n"
      ],
      "text/plain": [
       "   variable sdev            variance               cum_variance\n",
       "1  PC1      2.7173098262308 7.38377269173050354567  7.383773   \n",
       "2  PC2      1.4721417710771 2.16720139414998724803  9.550974   \n",
       "3  PC3      1.4095611181014 1.98686254566316522485 11.537837   \n",
       "4  PC4      1.0740640204197 1.15361351996019578792 12.691450   \n",
       "5  PC5      1.0252282001400 1.05109286236220822452 13.742543   \n",
       "6  PC6      0.9839736782539 0.96820419949641245427 14.710747   \n",
       "7  PC7      0.8726487333024 0.76151581173426796667 15.472263   \n",
       "8  PC8      0.8007443563781 0.64119152427136827388 16.113455   \n",
       "9  PC9      0.6959904525408 0.48440271002792323340 16.597857   \n",
       "10 PC10     0.4282900978415 0.18343240790906042981 16.781290   \n",
       "11 PC11     0.3838905536732 0.14737195719954723772 16.928662   \n",
       "12 PC12     0.2264373204043 0.05127386007188090150 16.979935   \n",
       "13 PC13     0.1296854523344 0.01681831654718120642 16.996754   \n",
       "14 PC14     0.0516619051102 0.00266895243961772855 16.999423   \n",
       "15 PC15     0.0240075314565 0.00057636156663439626 16.999999   \n",
       "16 PC16     0.0009406752990 0.00000088487001808063 17.000000   \n",
       "17 PC17     0.0000001309906 0.00000000000001715855 17.000000   \n",
       "   relative_variance cum_relative_variance\n",
       "1  4.343396e-01      0.4343396            \n",
       "2  1.274824e-01      0.5618220            \n",
       "3  1.168743e-01      0.6786963            \n",
       "4  6.785962e-02      0.7465559            \n",
       "5  6.182899e-02      0.8083849            \n",
       "6  5.695319e-02      0.8653381            \n",
       "7  4.479505e-02      0.9101331            \n",
       "8  3.771715e-02      0.9478503            \n",
       "9  2.849428e-02      0.9763445            \n",
       "10 1.079014e-02      0.9871347            \n",
       "11 8.668939e-03      0.9958036            \n",
       "12 3.016109e-03      0.9988197            \n",
       "13 9.893127e-04      0.9998090            \n",
       "14 1.569972e-04      0.9999660            \n",
       "15 3.390362e-05      0.9999999            \n",
       "16 5.205118e-08      1.0000000            \n",
       "17 1.009326e-15      1.0000000            "
      ]
     },
     "metadata": {},
     "output_type": "display_data"
    }
   ],
   "source": [
    "variable = names(data.pc)\n",
    "sdev = var_info.sd(data.pc, labels=FALSE)\n",
    "variance = var_info.var(data.pc, labels=FALSE)\n",
    "cum_variance = cumsum(variance)\n",
    "relative_variance = variance / sum(variance)\n",
    "cum_relative_variance = cumsum(relative_variance)\n",
    "\n",
    "scree.pc = data.frame(variable, sdev, variance, cum_variance, relative_variance, cum_relative_variance)\n",
    "scree.pc"
   ]
  },
  {
   "cell_type": "code",
   "execution_count": 24,
   "metadata": {
    "hide_input": true
   },
   "outputs": [
    {
     "data": {
      "image/png": "[encoded data removed]",
      "text/plain": [
       "plot without title"
      ]
     },
     "metadata": {},
     "output_type": "display_data"
    }
   ],
   "source": [
    "ggplot(scree.pc) + ylim(0,1) + xlab(\"variable\") +\n",
    "geom_col(aes(x=factor(variable, levels=variable), y=relative_variance, fill=variable)) +\n",
    "theme.no_legend"
   ]
  },
  {
   "cell_type": "markdown",
   "metadata": {},
   "source": [
    "## Try to Distiguish Transformed Observations by Loan Class"
   ]
  },
  {
   "cell_type": "markdown",
   "metadata": {},
   "source": [
    "### Probabilities of Principal Component Values in Certain Ranges: Good Loans"
   ]
  },
  {
   "cell_type": "code",
   "execution_count": 25,
   "metadata": {
    "hide_input": true,
    "scrolled": false
   },
   "outputs": [
    {
     "data": {
      "text/html": [
       "<table>\n",
       "<thead><tr><th scope=col>variable</th><th scope=col>probability</th><th scope=col>range_low</th><th scope=col>range_high</th></tr></thead>\n",
       "<tbody>\n",
       "\t<tr><td>PC1      </td><td>0.6844254</td><td>-5       </td><td>1        </td></tr>\n",
       "\t<tr><td>PC2      </td><td>0.8486356</td><td>-2       </td><td>0        </td></tr>\n",
       "</tbody>\n",
       "</table>\n"
      ],
      "text/latex": [
       "\\begin{tabular}{r|llll}\n",
       " variable & probability & range\\_low & range\\_high\\\\\n",
       "\\hline\n",
       "\t PC1       & 0.6844254 & -5        & 1        \\\\\n",
       "\t PC2       & 0.8486356 & -2        & 0        \\\\\n",
       "\\end{tabular}\n"
      ],
      "text/markdown": [
       "\n",
       "| variable | probability | range_low | range_high |\n",
       "|---|---|---|---|\n",
       "| PC1       | 0.6844254 | -5        | 1         |\n",
       "| PC2       | 0.8486356 | -2        | 0         |\n",
       "\n"
      ],
      "text/plain": [
       "  variable probability range_low range_high\n",
       "1 PC1      0.6844254   -5        1         \n",
       "2 PC2      0.8486356   -2        0         "
      ]
     },
     "metadata": {},
     "output_type": "display_data"
    },
    {
     "data": {
      "image/png": "[encoded data removed]",
      "text/plain": [
       "plot without title"
      ]
     },
     "metadata": {},
     "output_type": "display_data"
    }
   ],
   "source": [
    "d.PC1 = density(data.pc$PC1[class==\"good\"], kernel=\"gaussian\", bw=0.2, from=-5, to=5)\n",
    "d.PC2 = density(data.pc$PC2[class==\"good\"], kernel=\"gaussian\", bw=0.2, from=-5, to=5)\n",
    "\n",
    "pdf.PC1 = approxfun(d.PC1)\n",
    "pdf.PC2 = approxfun(d.PC2)\n",
    "\n",
    "data.frame(variable=c(\"PC1\",\"PC2\"),\n",
    "           probability=c(integrate(pdf.PC1, -5, 1)$value, integrate(pdf.PC2, -2, 0)$value),\n",
    "           range_low=c(-5, -2),\n",
    "           range_high=c(1, 0))\n",
    "\n",
    "\n",
    "p1 = ggplot(data.pc[class==\"good\",]) + xlim(-5, 5) + ggtitle(\"PDF for PC1\") +\n",
    "     stat_function(fun=pdf.PC1, geom=\"area\", n=2000, fill=PALETTE[3]) +\n",
    "     stat_function(fun=pdf.PC1, geom=\"area\", n=2000, xlim=c(-5,1), fill=PALETTE[5]) +\n",
    "     geom_vline(xintercept=-5) + geom_vline(xintercept=1) +\n",
    "     theme.no_axis_titles\n",
    "\n",
    "p2 = ggplot(data.pc[class==\"good\",]) + xlim(-5, 5) + ggtitle(\"PDF for PC2\") +\n",
    "     stat_function(fun=pdf.PC2, geom=\"area\", n=2000, fill=PALETTE[3]) +\n",
    "     stat_function(fun=pdf.PC2, geom=\"area\", n=2000, xlim=c(-2,0), fill=PALETTE[5]) +\n",
    "     geom_vline(xintercept=-2) + geom_vline(xintercept=0) +\n",
    "     theme.no_axis_titles\n",
    "\n",
    "grid.arrange(p1, p2, nrow=1)"
   ]
  },
  {
   "cell_type": "code",
   "execution_count": 26,
   "metadata": {
    "hide_input": true,
    "scrolled": false
   },
   "outputs": [
    {
     "data": {
      "text/html": [
       "<table>\n",
       "<thead><tr><th scope=col>variable</th><th scope=col>probability</th><th scope=col>range_low</th><th scope=col>range_high</th></tr></thead>\n",
       "<tbody>\n",
       "\t<tr><td>PC1      </td><td>0.5677632</td><td>-5       </td><td>0        </td></tr>\n",
       "\t<tr><td>PC2      </td><td>0.1519486</td><td> 0       </td><td>2        </td></tr>\n",
       "</tbody>\n",
       "</table>\n"
      ],
      "text/latex": [
       "\\begin{tabular}{r|llll}\n",
       " variable & probability & range\\_low & range\\_high\\\\\n",
       "\\hline\n",
       "\t PC1       & 0.5677632 & -5        & 0        \\\\\n",
       "\t PC2       & 0.1519486 &  0        & 2        \\\\\n",
       "\\end{tabular}\n"
      ],
      "text/markdown": [
       "\n",
       "| variable | probability | range_low | range_high |\n",
       "|---|---|---|---|\n",
       "| PC1       | 0.5677632 | -5        | 0         |\n",
       "| PC2       | 0.1519486 |  0        | 2         |\n",
       "\n"
      ],
      "text/plain": [
       "  variable probability range_low range_high\n",
       "1 PC1      0.5677632   -5        0         \n",
       "2 PC2      0.1519486    0        2         "
      ]
     },
     "metadata": {},
     "output_type": "display_data"
    },
    {
     "data": {
      "image/png": "[encoded data removed]",
      "text/plain": [
       "plot without title"
      ]
     },
     "metadata": {},
     "output_type": "display_data"
    }
   ],
   "source": [
    "d.PC1 = density(data.pc$PC1[class==\"good\"], kernel=\"gaussian\", bw=0.2, from=-5, to=5)\n",
    "d.PC2 = density(data.pc$PC2[class==\"good\"], kernel=\"gaussian\", bw=0.2, from=-5, to=5)\n",
    "\n",
    "pdf.PC1 = approxfun(d.PC1)\n",
    "pdf.PC2 = approxfun(d.PC2)\n",
    "\n",
    "data.frame(variable=c(\"PC1\",\"PC2\"),\n",
    "           probability=c(integrate(pdf.PC1, -5, 0)$value, integrate(pdf.PC2, 0, 2)$value),\n",
    "           range_low=c(-5, 0),\n",
    "           range_high=c(0, 2))\n",
    "\n",
    "p1 = ggplot(data.pc[class==\"good\",]) + xlim(-5, 5) + ggtitle(\"PDF for PC1\") +\n",
    "     stat_function(fun=pdf.PC1, geom=\"area\", n=2000, fill=PALETTE[3]) +\n",
    "     stat_function(fun=pdf.PC1, geom=\"area\", n=2000, xlim=c(-5,0), fill=PALETTE[5]) +\n",
    "     geom_vline(xintercept=-5) + geom_vline(xintercept=0) +\n",
    "     theme.no_axis_titles\n",
    "\n",
    "p2 = ggplot(data.pc[class==\"good\",]) + xlim(-5, 5) + ggtitle(\"PDF for PC2\") +\n",
    "     stat_function(fun=pdf.PC2, geom=\"area\", n=2000, fill=PALETTE[3]) +\n",
    "     stat_function(fun=pdf.PC2, geom=\"area\", n=2000, xlim=c(0,2), fill=PALETTE[5]) +\n",
    "     geom_vline(xintercept=0) + geom_vline(xintercept=2) +\n",
    "     theme.no_axis_titles\n",
    "\n",
    "grid.arrange(p1, p2, nrow=1)"
   ]
  },
  {
   "cell_type": "markdown",
   "metadata": {},
   "source": [
    "### Probabilities of Principal Component Values in Certain Ranges: Bad Loans"
   ]
  },
  {
   "cell_type": "code",
   "execution_count": 27,
   "metadata": {
    "hide_input": true,
    "scrolled": false
   },
   "outputs": [
    {
     "data": {
      "text/html": [
       "<table>\n",
       "<thead><tr><th scope=col>variable</th><th scope=col>probability</th><th scope=col>range_low</th><th scope=col>range_high</th></tr></thead>\n",
       "<tbody>\n",
       "\t<tr><td>PC1       </td><td>0.81221398</td><td>-5        </td><td>1         </td></tr>\n",
       "\t<tr><td>PC2       </td><td>0.09706742</td><td>-2        </td><td>0         </td></tr>\n",
       "</tbody>\n",
       "</table>\n"
      ],
      "text/latex": [
       "\\begin{tabular}{r|llll}\n",
       " variable & probability & range\\_low & range\\_high\\\\\n",
       "\\hline\n",
       "\t PC1        & 0.81221398 & -5         & 1         \\\\\n",
       "\t PC2        & 0.09706742 & -2         & 0         \\\\\n",
       "\\end{tabular}\n"
      ],
      "text/markdown": [
       "\n",
       "| variable | probability | range_low | range_high |\n",
       "|---|---|---|---|\n",
       "| PC1        | 0.81221398 | -5         | 1          |\n",
       "| PC2        | 0.09706742 | -2         | 0          |\n",
       "\n"
      ],
      "text/plain": [
       "  variable probability range_low range_high\n",
       "1 PC1      0.81221398  -5        1         \n",
       "2 PC2      0.09706742  -2        0         "
      ]
     },
     "metadata": {},
     "output_type": "display_data"
    },
    {
     "data": {
      "image/png": "[encoded data removed]",
      "text/plain": [
       "plot without title"
      ]
     },
     "metadata": {},
     "output_type": "display_data"
    }
   ],
   "source": [
    "d.PC1 = density(data.pc$PC1[class==\"bad\"], kernel=\"gaussian\", bw=0.2, from=-5, to=5)\n",
    "d.PC2 = density(data.pc$PC2[class==\"bad\"], kernel=\"gaussian\", bw=0.2, from=-5, to=5)\n",
    "\n",
    "pdf.PC1 = approxfun(d.PC1)\n",
    "pdf.PC2 = approxfun(d.PC2)\n",
    "\n",
    "data.frame(variable=c(\"PC1\",\"PC2\"),\n",
    "           probability=c(integrate(pdf.PC1, -5, 1)$value, integrate(pdf.PC2, -2, 0)$value),\n",
    "           range_low=c(-5, -2),\n",
    "           range_high=c(1, 0))\n",
    "\n",
    "p1 = ggplot(data.pc[class==\"bad\",]) + xlim(-5, 5) + ggtitle(\"PDF for PC1\") +\n",
    "     stat_function(fun=pdf.PC1, geom=\"area\", n=2000, fill=PALETTE[2]) +\n",
    "     stat_function(fun=pdf.PC1, geom=\"area\", n=2000, xlim=c(-5,1), fill=PALETTE[5]) +\n",
    "     geom_vline(xintercept=-5) + geom_vline(xintercept=1) +\n",
    "     theme.no_axis_titles\n",
    "\n",
    "p2 = ggplot(data.pc[class==\"bad\",]) + xlim(-5, 5) + ggtitle(\"PDF for PC2\") +\n",
    "     stat_function(fun=pdf.PC2, geom=\"area\", n=2000, fill=PALETTE[2]) +\n",
    "     stat_function(fun=pdf.PC2, geom=\"area\", n=2000, xlim=c(-2,0), fill=PALETTE[5]) +\n",
    "     geom_vline(xintercept=-2) + geom_vline(xintercept=0) +\n",
    "     theme.no_axis_titles\n",
    "\n",
    "grid.arrange(p1, p2, nrow=1)"
   ]
  },
  {
   "cell_type": "code",
   "execution_count": 28,
   "metadata": {
    "hide_input": true,
    "scrolled": false
   },
   "outputs": [
    {
     "data": {
      "text/html": [
       "<table>\n",
       "<thead><tr><th scope=col>variable</th><th scope=col>probability</th><th scope=col>range_low</th><th scope=col>range_high</th></tr></thead>\n",
       "<tbody>\n",
       "\t<tr><td>PC1      </td><td>0.6979371</td><td>-5       </td><td>0        </td></tr>\n",
       "\t<tr><td>PC2      </td><td>0.6455254</td><td> 0       </td><td>2        </td></tr>\n",
       "</tbody>\n",
       "</table>\n"
      ],
      "text/latex": [
       "\\begin{tabular}{r|llll}\n",
       " variable & probability & range\\_low & range\\_high\\\\\n",
       "\\hline\n",
       "\t PC1       & 0.6979371 & -5        & 0        \\\\\n",
       "\t PC2       & 0.6455254 &  0        & 2        \\\\\n",
       "\\end{tabular}\n"
      ],
      "text/markdown": [
       "\n",
       "| variable | probability | range_low | range_high |\n",
       "|---|---|---|---|\n",
       "| PC1       | 0.6979371 | -5        | 0         |\n",
       "| PC2       | 0.6455254 |  0        | 2         |\n",
       "\n"
      ],
      "text/plain": [
       "  variable probability range_low range_high\n",
       "1 PC1      0.6979371   -5        0         \n",
       "2 PC2      0.6455254    0        2         "
      ]
     },
     "metadata": {},
     "output_type": "display_data"
    },
    {
     "data": {
      "image/png": "[encoded data removed]",
      "text/plain": [
       "plot without title"
      ]
     },
     "metadata": {},
     "output_type": "display_data"
    }
   ],
   "source": [
    "d.PC1 = density(data.pc$PC1[class==\"bad\"], kernel=\"gaussian\", bw=0.2, from=-5, to=5)\n",
    "d.PC2 = density(data.pc$PC2[class==\"bad\"], kernel=\"gaussian\", bw=0.2, from=-5, to=5)\n",
    "\n",
    "pdf.PC1 = approxfun(d.PC1)\n",
    "pdf.PC2 = approxfun(d.PC2)\n",
    "\n",
    "data.frame(variable=c(\"PC1\",\"PC2\"),\n",
    "           probability=c(integrate(pdf.PC1, -5, 0)$value, integrate(pdf.PC2, 0, 2)$value),\n",
    "           range_low=c(-5, 0),\n",
    "           range_high=c(0, 2))\n",
    "\n",
    "p1 = ggplot(data.pc[class==\"bad\",]) + xlim(-5, 5) + ggtitle(\"PDF for PC1\") +\n",
    "     stat_function(fun=pdf.PC1, geom=\"area\", n=2000, fill=PALETTE[2]) +\n",
    "     stat_function(fun=pdf.PC1, geom=\"area\", n=2000, xlim=c(-5,0), fill=PALETTE[5]) +\n",
    "     geom_vline(xintercept=-5) + geom_vline(xintercept=0) +\n",
    "     theme.no_axis_titles\n",
    "\n",
    "p2 = ggplot(data.pc[class==\"bad\",]) + xlim(-5, 5) + ggtitle(\"PDF for PC2\") +\n",
    "     stat_function(fun=pdf.PC2, geom=\"area\", n=2000, fill=PALETTE[2]) +\n",
    "     stat_function(fun=pdf.PC2, geom=\"area\", n=2000, xlim=c(0,2), fill=PALETTE[5]) +\n",
    "     geom_vline(xintercept=0) + geom_vline(xintercept=2) +\n",
    "     theme.no_axis_titles\n",
    "\n",
    "grid.arrange(p1, p2, nrow=1)"
   ]
  },
  {
   "cell_type": "markdown",
   "metadata": {},
   "source": [
    "### 2D Scatter Plot of 2 Principal Components + Loan Class\n",
    "\n",
    "Note that distinguishing characteristics are revealed."
   ]
  },
  {
   "cell_type": "code",
   "execution_count": 29,
   "metadata": {
    "hide_input": true
   },
   "outputs": [
    {
     "data": {
      "image/png": "[encoded data removed]",
      "text/plain": [
       "plot without title"
      ]
     },
     "metadata": {},
     "output_type": "display_data"
    }
   ],
   "source": [
    "ggplot(data.pc) + xlim(-5,20) + ylim(-5,50) +\n",
    "geom_point(aes(x=PC1, y=PC2, color=class), alpha=0.2, na.rm=TRUE) +\n",
    "scale_color_manual(values=PALETTE[2:3]) + guides.standard + theme.legend_title"
   ]
  },
  {
   "cell_type": "markdown",
   "metadata": {},
   "source": [
    "## Predictive Model\n",
    "\n",
    "Here is one of infinitely many predictive models."
   ]
  },
  {
   "cell_type": "markdown",
   "metadata": {},
   "source": [
    "### Homogeneous Spaces"
   ]
  },
  {
   "cell_type": "markdown",
   "metadata": {},
   "source": [
    "#### Convex Hulls Around Observations by Loan Class"
   ]
  },
  {
   "cell_type": "code",
   "execution_count": 30,
   "metadata": {
    "hide_input": true,
    "scrolled": false
   },
   "outputs": [
    {
     "data": {
      "image/png": "[encoded data removed]",
      "text/plain": [
       "plot without title"
      ]
     },
     "metadata": {},
     "output_type": "display_data"
    }
   ],
   "source": [
    "convex_hull.good = data.pc[class==\"good\", c(\"PC1\",\"PC2\")][chull(data.pc$PC1[class==\"good\"], data.pc$PC2[class==\"good\"]),]\n",
    "convex_hull.bad  = data.pc[class==\"bad\",  c(\"PC1\",\"PC2\")][chull(data.pc$PC1[class==\"bad\"],  data.pc$PC2[class==\"bad\"]),]\n",
    "\n",
    "ggplot(data.pc) + xlim(-5,20) + ylim(-5,50) +\n",
    "geom_point(aes(x=PC1, y=PC2, color=class), alpha=0.2) +\n",
    "geom_polygon(aes(x=PC1, y=PC2), data=convex_hull.good, fill=PALETTE[3], color=\"black\", alpha=0.2) +\n",
    "geom_polygon(aes(x=PC1, y=PC2), data=convex_hull.bad,  fill=PALETTE[2], color=\"black\", alpha=0.2) +\n",
    "scale_color_manual(values=PALETTE[2:3]) + guides.standard + theme.legend_title"
   ]
  },
  {
   "cell_type": "markdown",
   "metadata": {},
   "source": [
    "#### Homogeneous Spaces by Loan Class\n",
    "\n",
    "A predictive model with high certainty ..."
   ]
  },
  {
   "cell_type": "code",
   "execution_count": 31,
   "metadata": {
    "hide_input": true,
    "scrolled": false
   },
   "outputs": [
    {
     "data": {
      "image/png": "[encoded data removed]",
      "text/plain": [
       "plot without title"
      ]
     },
     "metadata": {},
     "output_type": "display_data"
    }
   ],
   "source": [
    "A = list(x=convex_hull.good$PC1, y=convex_hull.good$PC2)\n",
    "B = list(x=convex_hull.bad$PC1,  y=convex_hull.bad$PC2)\n",
    "X = polyclip(A, B, op=\"minus\")\n",
    "space.high.good = as.data.frame(X[[1]]); names(space.high.good) = c(\"PC1\",\"PC2\")\n",
    "X = polyclip(B, A, op=\"minus\")\n",
    "space.high.bad = as.data.frame(X[[1]]); names(space.high.bad) = c(\"PC1\",\"PC2\")\n",
    "\n",
    "ggplot() + ggtitle(\"High Certainty Spaces\") + xlim(-5,20) + ylim(-5,50) +\n",
    "geom_polygon(aes(x=PC1, y=PC2, fill=\"good\"), data=space.high.good) +\n",
    "geom_polygon(aes(x=PC1, y=PC2, fill=\"bad\"),  data=space.high.bad) +\n",
    "scale_fill_manual(\"class\", values=c(\"good\"=PALETTE[3], \"bad\"=PALETTE[2])) + theme.legend_title"
   ]
  },
  {
   "cell_type": "markdown",
   "metadata": {},
   "source": [
    "### Non-Homogeneous Space\n",
    "\n",
    "A predictive model with medium certainty ..."
   ]
  },
  {
   "cell_type": "code",
   "execution_count": 32,
   "metadata": {
    "hide_input": true
   },
   "outputs": [
    {
     "data": {
      "image/png": "[encoded data removed]",
      "text/plain": [
       "plot without title"
      ]
     },
     "metadata": {},
     "output_type": "display_data"
    }
   ],
   "source": [
    "A = list(x=convex_hull.good$PC1, y=convex_hull.good$PC2)\n",
    "B = list(x=convex_hull.bad$PC1,  y=convex_hull.bad$PC2)\n",
    "X = polyclip(A, B, op=\"intersection\")\n",
    "space.medium = as.data.frame(X[[1]]); names(space.medium) = c(\"PC1\",\"PC2\")\n",
    "\n",
    "A = list(x=space.medium$PC1, y=space.medium$PC2)\n",
    "B = list(x=c(-5,-5,20,20), y=c(0,-5,-5,0))\n",
    "X = polyclip(A, B, op=\"intersection\")\n",
    "space.medium.good = as.data.frame(X[[1]]); names(space.medium.good) = c(\"PC1\",\"PC2\")\n",
    "\n",
    "A = list(x=space.medium$PC1, y=space.medium$PC2)\n",
    "B = list(x=c(-5,-5,20,20), y=c(0,50,50,0))\n",
    "X = polyclip(A, B, op=\"intersection\")\n",
    "space.medium.bad = as.data.frame(X[[1]]); names(space.medium.bad) = c(\"PC1\",\"PC2\")\n",
    "\n",
    "ggplot() + ggtitle(\"Medium Certainty Spaces\", \"PC2 threshold = 0.00\") + xlim(-5,20) + ylim(-5,50) +\n",
    "geom_polygon(aes(x=PC1, y=PC2, fill=\"good\"), data=space.medium.good, alpha=0.5) +\n",
    "geom_polygon(aes(x=PC1, y=PC2, fill=\"bad\"),  data=space.medium.bad,  alpha=0.5) +\n",
    "geom_hline(yintercept=0, linetype=\"dashed\") +\n",
    "scale_fill_manual(\"class\", values=PALETTE[2:3]) + guides.standard + theme.legend_title"
   ]
  },
  {
   "cell_type": "markdown",
   "metadata": {},
   "source": [
    "### Model Form & Parameterization\n",
    "\n",
    "A predictive model with high and medium certainties ..."
   ]
  },
  {
   "cell_type": "code",
   "execution_count": 33,
   "metadata": {
    "hide_input": true,
    "scrolled": false
   },
   "outputs": [
    {
     "data": {
      "image/png": "[encoded data removed]",
      "text/plain": [
       "plot without title"
      ]
     },
     "metadata": {},
     "output_type": "display_data"
    }
   ],
   "source": [
    "ggplot() + ggtitle(\"Predictive Model\") + xlim(-5,20) + ylim(-5,50) +\n",
    "geom_polygon(aes(x=PC1, y=PC2, fill=\"good\", alpha=\"medium\"), data=space.medium.good) +\n",
    "geom_polygon(aes(x=PC1, y=PC2, fill=\"bad\", alpha=\"medium\"), data=space.medium.bad) +\n",
    "geom_polygon(aes(x=PC1, y=PC2, fill=\"good\", alpha=\"high\"), data=space.high.good) +\n",
    "geom_polygon(aes(x=PC1, y=PC2, fill=\"bad\", alpha=\"high\"), data=space.high.bad) +\n",
    "scale_fill_manual(\"class\", values=c(\"good\"=PALETTE[3], \"bad\"=PALETTE[2])) +\n",
    "scale_alpha_manual(\"certainty\", values=c(\"medium\"=0.5, \"high\"=1)) + \n",
    "theme.legend_title"
   ]
  },
  {
   "cell_type": "markdown",
   "metadata": {},
   "source": [
    "#### Hyper-Parameters\n",
    "\n",
    "You pick the hyper-parameter value(s).  This model's parameters were determined by form and 1 hyper-parameter:\n",
    "1. PC2 threshold for medium non-homogeneous space"
   ]
  },
  {
   "cell_type": "code",
   "execution_count": 34,
   "metadata": {
    "hide_input": true
   },
   "outputs": [
    {
     "data": {
      "text/html": [
       "<table>\n",
       " <thead>\n",
       "  <tr>\n",
       "   <th style=\"text-align:right;background-color: #FFFFFF !important;\"> PC2 threshold </th>\n",
       "  </tr>\n",
       " </thead>\n",
       "<tbody>\n",
       "  <tr>\n",
       "   <td style=\"text-align:right;\"> 0 </td>\n",
       "  </tr>\n",
       "</tbody>\n",
       "</table>"
      ]
     },
     "metadata": {},
     "output_type": "display_data"
    }
   ],
   "source": [
    "fmt(0.00, \"PC2 threshold\")"
   ]
  },
  {
   "cell_type": "markdown",
   "metadata": {},
   "source": [
    "#### Parameters\n",
    "\n",
    "This model is defined by these parameters:\n",
    "1. Polygon vertices for high certainty good loans\n",
    "1. Polygon vertices for high certainty bad loans\n",
    "\n",
    "Note that polygon vertices for medium certainty good loans are implied by hyper-parameter value and parameter values.<br/>\n",
    "Note that polygon vertices for medium certainty bad loans are implied by hyper-parameter value and parameter values."
   ]
  },
  {
   "cell_type": "code",
   "execution_count": 35,
   "metadata": {
    "hide_input": true,
    "scrolled": true
   },
   "outputs": [
    {
     "data": {
      "text/html": [
       "<table>\n",
       "<caption><left><font color=\"black\"><b>If new observation is within this space, then predict it's a good loan with high certainty:</b></font></left></caption>\n",
       " <thead>\n",
       "  <tr>\n",
       "   <th style=\"text-align:left;background-color: #FFFFFF !important;\">   </th>\n",
       "   <th style=\"text-align:right;background-color: #FFFFFF !important;\"> X1 </th>\n",
       "   <th style=\"text-align:right;background-color: #FFFFFF !important;\"> X2 </th>\n",
       "   <th style=\"text-align:right;background-color: #FFFFFF !important;\"> X3 </th>\n",
       "   <th style=\"text-align:right;background-color: #FFFFFF !important;\"> X4 </th>\n",
       "   <th style=\"text-align:right;background-color: #FFFFFF !important;\"> X5 </th>\n",
       "   <th style=\"text-align:right;background-color: #FFFFFF !important;\"> X6 </th>\n",
       "   <th style=\"text-align:right;background-color: #FFFFFF !important;\"> X7 </th>\n",
       "   <th style=\"text-align:right;background-color: #FFFFFF !important;\"> X8 </th>\n",
       "   <th style=\"text-align:right;background-color: #FFFFFF !important;\"> X9 </th>\n",
       "   <th style=\"text-align:right;background-color: #FFFFFF !important;\"> X10 </th>\n",
       "   <th style=\"text-align:right;background-color: #FFFFFF !important;\"> X11 </th>\n",
       "   <th style=\"text-align:right;background-color: #FFFFFF !important;\"> X12 </th>\n",
       "   <th style=\"text-align:right;background-color: #FFFFFF !important;\"> X13 </th>\n",
       "   <th style=\"text-align:right;background-color: #FFFFFF !important;\"> X14 </th>\n",
       "   <th style=\"text-align:right;background-color: #FFFFFF !important;\"> X15 </th>\n",
       "  </tr>\n",
       " </thead>\n",
       "<tbody>\n",
       "  <tr>\n",
       "   <td style=\"text-align:left;font-weight: bold;\"> PC1 </td>\n",
       "   <td style=\"text-align:right;\"> 6.899866 </td>\n",
       "   <td style=\"text-align:right;\"> 18.586382 </td>\n",
       "   <td style=\"text-align:right;\"> 16.715751 </td>\n",
       "   <td style=\"text-align:right;\"> 7.7807580 </td>\n",
       "   <td style=\"text-align:right;\"> -2.6168771 </td>\n",
       "   <td style=\"text-align:right;\"> -3.822216 </td>\n",
       "   <td style=\"text-align:right;\"> -4.2185936 </td>\n",
       "   <td style=\"text-align:right;\"> -4.3480485 </td>\n",
       "   <td style=\"text-align:right;\"> -4.3566855 </td>\n",
       "   <td style=\"text-align:right;\"> -4.2202007 </td>\n",
       "   <td style=\"text-align:right;\"> -4.1992759 </td>\n",
       "   <td style=\"text-align:right;\"> -3.5756162 </td>\n",
       "   <td style=\"text-align:right;\"> -0.6746178 </td>\n",
       "   <td style=\"text-align:right;\"> 4.469709 </td>\n",
       "   <td style=\"text-align:right;\"> 6.829755 </td>\n",
       "  </tr>\n",
       "  <tr>\n",
       "   <td style=\"text-align:left;font-weight: bold;\"> PC2 </td>\n",
       "   <td style=\"text-align:right;\"> -1.926050 </td>\n",
       "   <td style=\"text-align:right;\"> 1.750368 </td>\n",
       "   <td style=\"text-align:right;\"> 2.860872 </td>\n",
       "   <td style=\"text-align:right;\"> -0.7392996 </td>\n",
       "   <td style=\"text-align:right;\"> -0.7838926 </td>\n",
       "   <td style=\"text-align:right;\"> -0.728736 </td>\n",
       "   <td style=\"text-align:right;\"> -0.7044975 </td>\n",
       "   <td style=\"text-align:right;\"> -0.6523005 </td>\n",
       "   <td style=\"text-align:right;\"> -0.7143197 </td>\n",
       "   <td style=\"text-align:right;\"> -0.8148443 </td>\n",
       "   <td style=\"text-align:right;\"> -0.8198754 </td>\n",
       "   <td style=\"text-align:right;\"> -0.9286186 </td>\n",
       "   <td style=\"text-align:right;\"> -1.2927344 </td>\n",
       "   <td style=\"text-align:right;\"> -1.828825 </td>\n",
       "   <td style=\"text-align:right;\"> -1.933555 </td>\n",
       "  </tr>\n",
       "</tbody>\n",
       "</table>"
      ]
     },
     "metadata": {},
     "output_type": "display_data"
    }
   ],
   "source": [
    "fmt(data.frame(t(space.high.good)), \"If new observation is within this space, then predict it's a good loan with high certainty:\", row.names=TRUE, position=\"left\")"
   ]
  },
  {
   "cell_type": "code",
   "execution_count": 36,
   "metadata": {
    "hide_input": true,
    "scrolled": true
   },
   "outputs": [
    {
     "data": {
      "text/html": [
       "<table>\n",
       "<caption><left><font color=\"black\"><b>If new observation is within this space, then predict it's a bad loan with high certainty:</b></font></left></caption>\n",
       " <thead>\n",
       "  <tr>\n",
       "   <th style=\"text-align:left;background-color: #FFFFFF !important;\">   </th>\n",
       "   <th style=\"text-align:right;background-color: #FFFFFF !important;\"> X1 </th>\n",
       "   <th style=\"text-align:right;background-color: #FFFFFF !important;\"> X2 </th>\n",
       "   <th style=\"text-align:right;background-color: #FFFFFF !important;\"> X3 </th>\n",
       "   <th style=\"text-align:right;background-color: #FFFFFF !important;\"> X4 </th>\n",
       "   <th style=\"text-align:right;background-color: #FFFFFF !important;\"> X5 </th>\n",
       "   <th style=\"text-align:right;background-color: #FFFFFF !important;\"> X6 </th>\n",
       "   <th style=\"text-align:right;background-color: #FFFFFF !important;\"> X7 </th>\n",
       "   <th style=\"text-align:right;background-color: #FFFFFF !important;\"> X8 </th>\n",
       "   <th style=\"text-align:right;background-color: #FFFFFF !important;\"> X9 </th>\n",
       "   <th style=\"text-align:right;background-color: #FFFFFF !important;\"> X10 </th>\n",
       "   <th style=\"text-align:right;background-color: #FFFFFF !important;\"> X11 </th>\n",
       "   <th style=\"text-align:right;background-color: #FFFFFF !important;\"> X12 </th>\n",
       "   <th style=\"text-align:right;background-color: #FFFFFF !important;\"> X13 </th>\n",
       "   <th style=\"text-align:right;background-color: #FFFFFF !important;\"> X14 </th>\n",
       "   <th style=\"text-align:right;background-color: #FFFFFF !important;\"> X15 </th>\n",
       "  </tr>\n",
       " </thead>\n",
       "<tbody>\n",
       "  <tr>\n",
       "   <td style=\"text-align:left;font-weight: bold;\"> PC1 </td>\n",
       "   <td style=\"text-align:right;\"> -4.3473015 </td>\n",
       "   <td style=\"text-align:right;\"> -4.0007488 </td>\n",
       "   <td style=\"text-align:right;\"> -3.892890 </td>\n",
       "   <td style=\"text-align:right;\"> -3.088704 </td>\n",
       "   <td style=\"text-align:right;\"> 3.622604 </td>\n",
       "   <td style=\"text-align:right;\"> 8.874498 </td>\n",
       "   <td style=\"text-align:right;\"> 16.715751 </td>\n",
       "   <td style=\"text-align:right;\"> 17.727861 </td>\n",
       "   <td style=\"text-align:right;\"> 8.014715 </td>\n",
       "   <td style=\"text-align:right;\"> 4.398551 </td>\n",
       "   <td style=\"text-align:right;\"> 1.781564 </td>\n",
       "   <td style=\"text-align:right;\"> -0.8352832 </td>\n",
       "   <td style=\"text-align:right;\"> -2.25130 </td>\n",
       "   <td style=\"text-align:right;\"> -4.4103049 </td>\n",
       "   <td style=\"text-align:right;\"> -4.3480485 </td>\n",
       "  </tr>\n",
       "  <tr>\n",
       "   <td style=\"text-align:left;font-weight: bold;\"> PC2 </td>\n",
       "   <td style=\"text-align:right;\"> -0.6469363 </td>\n",
       "   <td style=\"text-align:right;\"> 0.5945983 </td>\n",
       "   <td style=\"text-align:right;\"> 0.929579 </td>\n",
       "   <td style=\"text-align:right;\"> 2.797726 </td>\n",
       "   <td style=\"text-align:right;\"> 5.477395 </td>\n",
       "   <td style=\"text-align:right;\"> 7.515850 </td>\n",
       "   <td style=\"text-align:right;\"> 2.860872 </td>\n",
       "   <td style=\"text-align:right;\"> 3.268681 </td>\n",
       "   <td style=\"text-align:right;\"> 48.066636 </td>\n",
       "   <td style=\"text-align:right;\"> 44.386622 </td>\n",
       "   <td style=\"text-align:right;\"> 37.548973 </td>\n",
       "   <td style=\"text-align:right;\"> 25.1209963 </td>\n",
       "   <td style=\"text-align:right;\"> 15.15825 </td>\n",
       "   <td style=\"text-align:right;\"> -0.6271984 </td>\n",
       "   <td style=\"text-align:right;\"> -0.6523005 </td>\n",
       "  </tr>\n",
       "</tbody>\n",
       "</table>"
      ]
     },
     "metadata": {},
     "output_type": "display_data"
    }
   ],
   "source": [
    "fmt(data.frame(t(space.high.bad)), \"If new observation is within this space, then predict it's a bad loan with high certainty:\", position=\"left\", row.names=TRUE)"
   ]
  },
  {
   "cell_type": "code",
   "execution_count": 37,
   "metadata": {
    "hide_input": true,
    "scrolled": false
   },
   "outputs": [
    {
     "data": {
      "text/html": [
       "<table>\n",
       "<caption><left><font color=\"black\"><b>If new observation is within this space, then predict it's a good loan with moderate certainty:</b></font></left></caption>\n",
       " <thead>\n",
       "  <tr>\n",
       "   <th style=\"text-align:left;background-color: #FFFFFF !important;\">   </th>\n",
       "   <th style=\"text-align:right;background-color: #FFFFFF !important;\"> X1 </th>\n",
       "   <th style=\"text-align:right;background-color: #FFFFFF !important;\"> X2 </th>\n",
       "   <th style=\"text-align:right;background-color: #FFFFFF !important;\"> X3 </th>\n",
       "   <th style=\"text-align:right;background-color: #FFFFFF !important;\"> X4 </th>\n",
       "   <th style=\"text-align:right;background-color: #FFFFFF !important;\"> X5 </th>\n",
       "   <th style=\"text-align:right;background-color: #FFFFFF !important;\"> X6 </th>\n",
       "   <th style=\"text-align:right;background-color: #FFFFFF !important;\"> X7 </th>\n",
       "   <th style=\"text-align:right;background-color: #FFFFFF !important;\"> X8 </th>\n",
       "  </tr>\n",
       " </thead>\n",
       "<tbody>\n",
       "  <tr>\n",
       "   <td style=\"text-align:left;font-weight: bold;\"> PC1 </td>\n",
       "   <td style=\"text-align:right;\"> 7.7807580 </td>\n",
       "   <td style=\"text-align:right;\"> 9.61557 </td>\n",
       "   <td style=\"text-align:right;\"> -4.166721 </td>\n",
       "   <td style=\"text-align:right;\"> -4.3473015 </td>\n",
       "   <td style=\"text-align:right;\"> -4.3480485 </td>\n",
       "   <td style=\"text-align:right;\"> -4.2185936 </td>\n",
       "   <td style=\"text-align:right;\"> -3.822216 </td>\n",
       "   <td style=\"text-align:right;\"> -2.6168771 </td>\n",
       "  </tr>\n",
       "  <tr>\n",
       "   <td style=\"text-align:left;font-weight: bold;\"> PC2 </td>\n",
       "   <td style=\"text-align:right;\"> -0.7392996 </td>\n",
       "   <td style=\"text-align:right;\"> 0.00000 </td>\n",
       "   <td style=\"text-align:right;\"> 0.000000 </td>\n",
       "   <td style=\"text-align:right;\"> -0.6469363 </td>\n",
       "   <td style=\"text-align:right;\"> -0.6523005 </td>\n",
       "   <td style=\"text-align:right;\"> -0.7044975 </td>\n",
       "   <td style=\"text-align:right;\"> -0.728736 </td>\n",
       "   <td style=\"text-align:right;\"> -0.7838926 </td>\n",
       "  </tr>\n",
       "</tbody>\n",
       "</table>"
      ]
     },
     "metadata": {},
     "output_type": "display_data"
    }
   ],
   "source": [
    "fmt(data.frame(t(space.medium.good)), \"If new observation is within this space, then predict it's a good loan with moderate certainty:\", position=\"left\", row.names=TRUE)"
   ]
  },
  {
   "cell_type": "code",
   "execution_count": 38,
   "metadata": {
    "hide_input": true
   },
   "outputs": [
    {
     "data": {
      "text/html": [
       "<table>\n",
       "<caption><left><font color=\"black\"><b>If new observation is within this space, then predict it's a bad loan with high certainty:</b></font></left></caption>\n",
       " <thead>\n",
       "  <tr>\n",
       "   <th style=\"text-align:left;background-color: #FFFFFF !important;\">   </th>\n",
       "   <th style=\"text-align:right;background-color: #FFFFFF !important;\"> X1 </th>\n",
       "   <th style=\"text-align:right;background-color: #FFFFFF !important;\"> X2 </th>\n",
       "   <th style=\"text-align:right;background-color: #FFFFFF !important;\"> X3 </th>\n",
       "   <th style=\"text-align:right;background-color: #FFFFFF !important;\"> X4 </th>\n",
       "   <th style=\"text-align:right;background-color: #FFFFFF !important;\"> X5 </th>\n",
       "   <th style=\"text-align:right;background-color: #FFFFFF !important;\"> X6 </th>\n",
       "   <th style=\"text-align:right;background-color: #FFFFFF !important;\"> X7 </th>\n",
       "   <th style=\"text-align:right;background-color: #FFFFFF !important;\"> X8 </th>\n",
       "  </tr>\n",
       " </thead>\n",
       "<tbody>\n",
       "  <tr>\n",
       "   <td style=\"text-align:left;font-weight: bold;\"> PC1 </td>\n",
       "   <td style=\"text-align:right;\"> 16.715751 </td>\n",
       "   <td style=\"text-align:right;\"> 8.874498 </td>\n",
       "   <td style=\"text-align:right;\"> 3.622604 </td>\n",
       "   <td style=\"text-align:right;\"> -3.088704 </td>\n",
       "   <td style=\"text-align:right;\"> -3.892890 </td>\n",
       "   <td style=\"text-align:right;\"> -4.0007488 </td>\n",
       "   <td style=\"text-align:right;\"> -4.166721 </td>\n",
       "   <td style=\"text-align:right;\"> 9.61557 </td>\n",
       "  </tr>\n",
       "  <tr>\n",
       "   <td style=\"text-align:left;font-weight: bold;\"> PC2 </td>\n",
       "   <td style=\"text-align:right;\"> 2.860872 </td>\n",
       "   <td style=\"text-align:right;\"> 7.515850 </td>\n",
       "   <td style=\"text-align:right;\"> 5.477395 </td>\n",
       "   <td style=\"text-align:right;\"> 2.797727 </td>\n",
       "   <td style=\"text-align:right;\"> 0.929579 </td>\n",
       "   <td style=\"text-align:right;\"> 0.5945983 </td>\n",
       "   <td style=\"text-align:right;\"> 0.000000 </td>\n",
       "   <td style=\"text-align:right;\"> 0.00000 </td>\n",
       "  </tr>\n",
       "</tbody>\n",
       "</table>"
      ]
     },
     "metadata": {},
     "output_type": "display_data"
    }
   ],
   "source": [
    "fmt(data.frame(t(space.medium.bad)), \"If new observation is within this space, then predict it's a bad loan with high certainty:\", position=\"left\", row.names=TRUE)"
   ]
  },
  {
   "cell_type": "markdown",
   "metadata": {},
   "source": [
    "## Prediction"
   ]
  },
  {
   "cell_type": "markdown",
   "metadata": {},
   "source": [
    "Some new observations ..."
   ]
  },
  {
   "cell_type": "code",
   "execution_count": 39,
   "metadata": {
    "hide_input": true,
    "scrolled": false
   },
   "outputs": [
    {
     "data": {
      "text/html": [
       "<table>\n",
       " <thead>\n",
       "  <tr>\n",
       "   <th style=\"text-align:right;background-color: #FFFFFF !important;\"> id </th>\n",
       "   <th style=\"text-align:right;background-color: #FFFFFF !important;\"> member_id </th>\n",
       "   <th style=\"text-align:right;background-color: #FFFFFF !important;\"> loan_amnt </th>\n",
       "   <th style=\"text-align:right;background-color: #FFFFFF !important;\"> funded_amnt </th>\n",
       "   <th style=\"text-align:right;background-color: #FFFFFF !important;\"> funded_amnt_inv </th>\n",
       "   <th style=\"text-align:right;background-color: #FFFFFF !important;\"> term </th>\n",
       "   <th style=\"text-align:right;background-color: #FFFFFF !important;\"> int_rate </th>\n",
       "   <th style=\"text-align:right;background-color: #FFFFFF !important;\"> installment </th>\n",
       "   <th style=\"text-align:right;background-color: #FFFFFF !important;\"> grade </th>\n",
       "   <th style=\"text-align:right;background-color: #FFFFFF !important;\"> sub_grade </th>\n",
       "   <th style=\"text-align:right;background-color: #FFFFFF !important;\"> emp_title </th>\n",
       "   <th style=\"text-align:right;background-color: #FFFFFF !important;\"> emp_length </th>\n",
       "   <th style=\"text-align:right;background-color: #FFFFFF !important;\"> home_ownership </th>\n",
       "   <th style=\"text-align:right;background-color: #FFFFFF !important;\"> annual_inc </th>\n",
       "   <th style=\"text-align:right;background-color: #FFFFFF !important;\"> verification_status </th>\n",
       "   <th style=\"text-align:right;background-color: #FFFFFF !important;\"> issue_d </th>\n",
       "   <th style=\"text-align:right;background-color: #FFFFFF !important;\"> loan_status </th>\n",
       "   <th style=\"text-align:right;background-color: #FFFFFF !important;\"> pymnt_plan </th>\n",
       "   <th style=\"text-align:right;background-color: #FFFFFF !important;\"> url </th>\n",
       "   <th style=\"text-align:right;background-color: #FFFFFF !important;\"> desc </th>\n",
       "   <th style=\"text-align:right;background-color: #FFFFFF !important;\"> purpose </th>\n",
       "   <th style=\"text-align:right;background-color: #FFFFFF !important;\"> title </th>\n",
       "   <th style=\"text-align:right;background-color: #FFFFFF !important;\"> zip_code </th>\n",
       "   <th style=\"text-align:right;background-color: #FFFFFF !important;\"> addr_state </th>\n",
       "   <th style=\"text-align:right;background-color: #FFFFFF !important;\"> dti </th>\n",
       "   <th style=\"text-align:right;background-color: #FFFFFF !important;\"> delinq_2yrs </th>\n",
       "   <th style=\"text-align:right;background-color: #FFFFFF !important;\"> earliest_cr_line </th>\n",
       "   <th style=\"text-align:right;background-color: #FFFFFF !important;\"> inq_last_6mths </th>\n",
       "   <th style=\"text-align:right;background-color: #FFFFFF !important;\"> mths_since_last_delinq </th>\n",
       "   <th style=\"text-align:right;background-color: #FFFFFF !important;\"> mths_since_last_record </th>\n",
       "   <th style=\"text-align:right;background-color: #FFFFFF !important;\"> open_acc </th>\n",
       "   <th style=\"text-align:right;background-color: #FFFFFF !important;\"> pub_rec </th>\n",
       "   <th style=\"text-align:right;background-color: #FFFFFF !important;\"> revol_bal </th>\n",
       "   <th style=\"text-align:right;background-color: #FFFFFF !important;\"> revol_util </th>\n",
       "   <th style=\"text-align:right;background-color: #FFFFFF !important;\"> total_acc </th>\n",
       "   <th style=\"text-align:right;background-color: #FFFFFF !important;\"> initial_list_status </th>\n",
       "   <th style=\"text-align:right;background-color: #FFFFFF !important;\"> out_prncp </th>\n",
       "   <th style=\"text-align:right;background-color: #FFFFFF !important;\"> out_prncp_inv </th>\n",
       "   <th style=\"text-align:right;background-color: #FFFFFF !important;\"> total_pymnt </th>\n",
       "   <th style=\"text-align:right;background-color: #FFFFFF !important;\"> total_pymnt_inv </th>\n",
       "   <th style=\"text-align:right;background-color: #FFFFFF !important;\"> total_rec_prncp </th>\n",
       "   <th style=\"text-align:right;background-color: #FFFFFF !important;\"> total_rec_int </th>\n",
       "   <th style=\"text-align:right;background-color: #FFFFFF !important;\"> total_rec_late_fee </th>\n",
       "   <th style=\"text-align:right;background-color: #FFFFFF !important;\"> recoveries </th>\n",
       "   <th style=\"text-align:right;background-color: #FFFFFF !important;\"> collection_recovery_fee </th>\n",
       "   <th style=\"text-align:right;background-color: #FFFFFF !important;\"> last_pymnt_d </th>\n",
       "   <th style=\"text-align:right;background-color: #FFFFFF !important;\"> last_pymnt_amnt </th>\n",
       "   <th style=\"text-align:right;background-color: #FFFFFF !important;\"> next_pymnt_d </th>\n",
       "   <th style=\"text-align:right;background-color: #FFFFFF !important;\"> last_credit_pull_d </th>\n",
       "   <th style=\"text-align:right;background-color: #FFFFFF !important;\"> collections_12_mths_ex_med </th>\n",
       "   <th style=\"text-align:right;background-color: #FFFFFF !important;\"> mths_since_last_major_derog </th>\n",
       "   <th style=\"text-align:right;background-color: #FFFFFF !important;\"> policy_code </th>\n",
       "   <th style=\"text-align:right;background-color: #FFFFFF !important;\"> application_type </th>\n",
       "   <th style=\"text-align:right;background-color: #FFFFFF !important;\"> annual_inc_joint </th>\n",
       "   <th style=\"text-align:right;background-color: #FFFFFF !important;\"> dti_joint </th>\n",
       "   <th style=\"text-align:right;background-color: #FFFFFF !important;\"> verification_status_joint </th>\n",
       "   <th style=\"text-align:right;background-color: #FFFFFF !important;\"> acc_now_delinq </th>\n",
       "   <th style=\"text-align:right;background-color: #FFFFFF !important;\"> tot_coll_amt </th>\n",
       "   <th style=\"text-align:right;background-color: #FFFFFF !important;\"> tot_cur_bal </th>\n",
       "   <th style=\"text-align:right;background-color: #FFFFFF !important;\"> open_acc_6m </th>\n",
       "   <th style=\"text-align:right;background-color: #FFFFFF !important;\"> open_il_6m </th>\n",
       "   <th style=\"text-align:right;background-color: #FFFFFF !important;\"> open_il_12m </th>\n",
       "   <th style=\"text-align:right;background-color: #FFFFFF !important;\"> open_il_24m </th>\n",
       "   <th style=\"text-align:right;background-color: #FFFFFF !important;\"> mths_since_rcnt_il </th>\n",
       "   <th style=\"text-align:right;background-color: #FFFFFF !important;\"> total_bal_il </th>\n",
       "   <th style=\"text-align:right;background-color: #FFFFFF !important;\"> il_util </th>\n",
       "   <th style=\"text-align:right;background-color: #FFFFFF !important;\"> open_rv_12m </th>\n",
       "   <th style=\"text-align:right;background-color: #FFFFFF !important;\"> open_rv_24m </th>\n",
       "   <th style=\"text-align:right;background-color: #FFFFFF !important;\"> max_bal_bc </th>\n",
       "   <th style=\"text-align:right;background-color: #FFFFFF !important;\"> all_util </th>\n",
       "   <th style=\"text-align:right;background-color: #FFFFFF !important;\"> total_rev_hi_lim </th>\n",
       "   <th style=\"text-align:right;background-color: #FFFFFF !important;\"> inq_fi </th>\n",
       "   <th style=\"text-align:right;background-color: #FFFFFF !important;\"> total_cu_tl </th>\n",
       "   <th style=\"text-align:right;background-color: #FFFFFF !important;\"> inq_last_12m </th>\n",
       "  </tr>\n",
       " </thead>\n",
       "<tbody>\n",
       "  <tr>\n",
       "   <td style=\"text-align:right;\"> 1028052 </td>\n",
       "   <td style=\"text-align:right;\"> 1257431 </td>\n",
       "   <td style=\"text-align:right;\"> 16800 </td>\n",
       "   <td style=\"text-align:right;\"> 16800 </td>\n",
       "   <td style=\"text-align:right;\"> 16800 </td>\n",
       "   <td style=\"text-align:right;\"> 36 months </td>\n",
       "   <td style=\"text-align:right;\"> 6.03 </td>\n",
       "   <td style=\"text-align:right;\"> 511.32 </td>\n",
       "   <td style=\"text-align:right;\"> A </td>\n",
       "   <td style=\"text-align:right;\"> A1 </td>\n",
       "   <td style=\"text-align:right;\"> BNY Mellon </td>\n",
       "   <td style=\"text-align:right;\"> 5 years </td>\n",
       "   <td style=\"text-align:right;\"> MORTGAGE </td>\n",
       "   <td style=\"text-align:right;\"> 75000 </td>\n",
       "   <td style=\"text-align:right;\"> Not Verified </td>\n",
       "   <td style=\"text-align:right;\"> Nov-2011 </td>\n",
       "   <td style=\"text-align:right;\"> Fully Paid </td>\n",
       "   <td style=\"text-align:right;\"> n </td>\n",
       "   <td style=\"text-align:right;\"> https://www.lendingclub.com/browse/loanDetail.action?loan_id=1028052 </td>\n",
       "   <td style=\"text-align:right;\">  </td>\n",
       "   <td style=\"text-align:right;\"> debt_consolidation </td>\n",
       "   <td style=\"text-align:right;\"> Personal </td>\n",
       "   <td style=\"text-align:right;\"> 027xx </td>\n",
       "   <td style=\"text-align:right;\"> MA </td>\n",
       "   <td style=\"text-align:right;\"> 12.50 </td>\n",
       "   <td style=\"text-align:right;\"> 0 </td>\n",
       "   <td style=\"text-align:right;\"> Nov-1997 </td>\n",
       "   <td style=\"text-align:right;\"> 1 </td>\n",
       "   <td style=\"text-align:right;\"> NA </td>\n",
       "   <td style=\"text-align:right;\"> NA </td>\n",
       "   <td style=\"text-align:right;\"> 10 </td>\n",
       "   <td style=\"text-align:right;\"> 0 </td>\n",
       "   <td style=\"text-align:right;\"> 13325 </td>\n",
       "   <td style=\"text-align:right;\"> 20.2 </td>\n",
       "   <td style=\"text-align:right;\"> 22 </td>\n",
       "   <td style=\"text-align:right;\"> f </td>\n",
       "   <td style=\"text-align:right;\"> 0.00 </td>\n",
       "   <td style=\"text-align:right;\"> 0.00 </td>\n",
       "   <td style=\"text-align:right;\"> 17982.38 </td>\n",
       "   <td style=\"text-align:right;\"> 17982.38 </td>\n",
       "   <td style=\"text-align:right;\"> 16800.00 </td>\n",
       "   <td style=\"text-align:right;\"> 1182.38 </td>\n",
       "   <td style=\"text-align:right;\"> 0 </td>\n",
       "   <td style=\"text-align:right;\"> 0 </td>\n",
       "   <td style=\"text-align:right;\"> 0 </td>\n",
       "   <td style=\"text-align:right;\"> Jun-2013 </td>\n",
       "   <td style=\"text-align:right;\"> 9292.76 </td>\n",
       "   <td style=\"text-align:right;\">  </td>\n",
       "   <td style=\"text-align:right;\"> Jun-2013 </td>\n",
       "   <td style=\"text-align:right;\"> 0 </td>\n",
       "   <td style=\"text-align:right;\"> NA </td>\n",
       "   <td style=\"text-align:right;\"> 1 </td>\n",
       "   <td style=\"text-align:right;\"> INDIVIDUAL </td>\n",
       "   <td style=\"text-align:right;\"> NA </td>\n",
       "   <td style=\"text-align:right;\"> NA </td>\n",
       "   <td style=\"text-align:right;\">  </td>\n",
       "   <td style=\"text-align:right;\"> 0 </td>\n",
       "   <td style=\"text-align:right;\"> NA </td>\n",
       "   <td style=\"text-align:right;\"> NA </td>\n",
       "   <td style=\"text-align:right;\"> NA </td>\n",
       "   <td style=\"text-align:right;\"> NA </td>\n",
       "   <td style=\"text-align:right;\"> NA </td>\n",
       "   <td style=\"text-align:right;\"> NA </td>\n",
       "   <td style=\"text-align:right;\"> NA </td>\n",
       "   <td style=\"text-align:right;\"> NA </td>\n",
       "   <td style=\"text-align:right;\"> NA </td>\n",
       "   <td style=\"text-align:right;\"> NA </td>\n",
       "   <td style=\"text-align:right;\"> NA </td>\n",
       "   <td style=\"text-align:right;\"> NA </td>\n",
       "   <td style=\"text-align:right;\"> NA </td>\n",
       "   <td style=\"text-align:right;\"> NA </td>\n",
       "   <td style=\"text-align:right;\"> NA </td>\n",
       "   <td style=\"text-align:right;\"> NA </td>\n",
       "   <td style=\"text-align:right;\"> NA </td>\n",
       "  </tr>\n",
       "  <tr>\n",
       "   <td style=\"text-align:right;\"> 976629 </td>\n",
       "   <td style=\"text-align:right;\"> 1199392 </td>\n",
       "   <td style=\"text-align:right;\"> 19075 </td>\n",
       "   <td style=\"text-align:right;\"> 19075 </td>\n",
       "   <td style=\"text-align:right;\"> 19075 </td>\n",
       "   <td style=\"text-align:right;\"> 60 months </td>\n",
       "   <td style=\"text-align:right;\"> 13.49 </td>\n",
       "   <td style=\"text-align:right;\"> 438.82 </td>\n",
       "   <td style=\"text-align:right;\"> C </td>\n",
       "   <td style=\"text-align:right;\"> C1 </td>\n",
       "   <td style=\"text-align:right;\"> San Bernardino County Superior Court </td>\n",
       "   <td style=\"text-align:right;\"> 10+ years </td>\n",
       "   <td style=\"text-align:right;\"> MORTGAGE </td>\n",
       "   <td style=\"text-align:right;\"> 82776 </td>\n",
       "   <td style=\"text-align:right;\"> Verified </td>\n",
       "   <td style=\"text-align:right;\"> Oct-2011 </td>\n",
       "   <td style=\"text-align:right;\"> Fully Paid </td>\n",
       "   <td style=\"text-align:right;\"> n </td>\n",
       "   <td style=\"text-align:right;\"> https://www.lendingclub.com/browse/loanDetail.action?loan_id=976629 </td>\n",
       "   <td style=\"text-align:right;\">  </td>\n",
       "   <td style=\"text-align:right;\"> debt_consolidation </td>\n",
       "   <td style=\"text-align:right;\"> Enough is Enough </td>\n",
       "   <td style=\"text-align:right;\"> 917xx </td>\n",
       "   <td style=\"text-align:right;\"> CA </td>\n",
       "   <td style=\"text-align:right;\"> 14.08 </td>\n",
       "   <td style=\"text-align:right;\"> 0 </td>\n",
       "   <td style=\"text-align:right;\"> Nov-1990 </td>\n",
       "   <td style=\"text-align:right;\"> 1 </td>\n",
       "   <td style=\"text-align:right;\"> 47 </td>\n",
       "   <td style=\"text-align:right;\"> NA </td>\n",
       "   <td style=\"text-align:right;\"> 11 </td>\n",
       "   <td style=\"text-align:right;\"> 0 </td>\n",
       "   <td style=\"text-align:right;\"> 41170 </td>\n",
       "   <td style=\"text-align:right;\"> 50.0 </td>\n",
       "   <td style=\"text-align:right;\"> 48 </td>\n",
       "   <td style=\"text-align:right;\"> f </td>\n",
       "   <td style=\"text-align:right;\"> 0.00 </td>\n",
       "   <td style=\"text-align:right;\"> 0.00 </td>\n",
       "   <td style=\"text-align:right;\"> 23747.61 </td>\n",
       "   <td style=\"text-align:right;\"> 23747.61 </td>\n",
       "   <td style=\"text-align:right;\"> 19075.00 </td>\n",
       "   <td style=\"text-align:right;\"> 4672.61 </td>\n",
       "   <td style=\"text-align:right;\"> 0 </td>\n",
       "   <td style=\"text-align:right;\"> 0 </td>\n",
       "   <td style=\"text-align:right;\"> 0 </td>\n",
       "   <td style=\"text-align:right;\"> Jan-2014 </td>\n",
       "   <td style=\"text-align:right;\"> 12788.74 </td>\n",
       "   <td style=\"text-align:right;\">  </td>\n",
       "   <td style=\"text-align:right;\"> Jan-2016 </td>\n",
       "   <td style=\"text-align:right;\"> 0 </td>\n",
       "   <td style=\"text-align:right;\"> NA </td>\n",
       "   <td style=\"text-align:right;\"> 1 </td>\n",
       "   <td style=\"text-align:right;\"> INDIVIDUAL </td>\n",
       "   <td style=\"text-align:right;\"> NA </td>\n",
       "   <td style=\"text-align:right;\"> NA </td>\n",
       "   <td style=\"text-align:right;\">  </td>\n",
       "   <td style=\"text-align:right;\"> 0 </td>\n",
       "   <td style=\"text-align:right;\"> NA </td>\n",
       "   <td style=\"text-align:right;\"> NA </td>\n",
       "   <td style=\"text-align:right;\"> NA </td>\n",
       "   <td style=\"text-align:right;\"> NA </td>\n",
       "   <td style=\"text-align:right;\"> NA </td>\n",
       "   <td style=\"text-align:right;\"> NA </td>\n",
       "   <td style=\"text-align:right;\"> NA </td>\n",
       "   <td style=\"text-align:right;\"> NA </td>\n",
       "   <td style=\"text-align:right;\"> NA </td>\n",
       "   <td style=\"text-align:right;\"> NA </td>\n",
       "   <td style=\"text-align:right;\"> NA </td>\n",
       "   <td style=\"text-align:right;\"> NA </td>\n",
       "   <td style=\"text-align:right;\"> NA </td>\n",
       "   <td style=\"text-align:right;\"> NA </td>\n",
       "   <td style=\"text-align:right;\"> NA </td>\n",
       "   <td style=\"text-align:right;\"> NA </td>\n",
       "   <td style=\"text-align:right;\"> NA </td>\n",
       "  </tr>\n",
       "  <tr>\n",
       "   <td style=\"text-align:right;\"> 993747 </td>\n",
       "   <td style=\"text-align:right;\"> 1218133 </td>\n",
       "   <td style=\"text-align:right;\"> 9100 </td>\n",
       "   <td style=\"text-align:right;\"> 9100 </td>\n",
       "   <td style=\"text-align:right;\"> 9100 </td>\n",
       "   <td style=\"text-align:right;\"> 36 months </td>\n",
       "   <td style=\"text-align:right;\"> 12.42 </td>\n",
       "   <td style=\"text-align:right;\"> 304.08 </td>\n",
       "   <td style=\"text-align:right;\"> B </td>\n",
       "   <td style=\"text-align:right;\"> B4 </td>\n",
       "   <td style=\"text-align:right;\"> Bellhelicopter </td>\n",
       "   <td style=\"text-align:right;\"> 6 years </td>\n",
       "   <td style=\"text-align:right;\"> MORTGAGE </td>\n",
       "   <td style=\"text-align:right;\"> 66000 </td>\n",
       "   <td style=\"text-align:right;\"> Source Verified </td>\n",
       "   <td style=\"text-align:right;\"> Oct-2011 </td>\n",
       "   <td style=\"text-align:right;\"> Fully Paid </td>\n",
       "   <td style=\"text-align:right;\"> n </td>\n",
       "   <td style=\"text-align:right;\"> https://www.lendingclub.com/browse/loanDetail.action?loan_id=993747 </td>\n",
       "   <td style=\"text-align:right;\">  </td>\n",
       "   <td style=\"text-align:right;\"> other </td>\n",
       "   <td style=\"text-align:right;\"> Other Loan </td>\n",
       "   <td style=\"text-align:right;\"> 761xx </td>\n",
       "   <td style=\"text-align:right;\"> TX </td>\n",
       "   <td style=\"text-align:right;\"> 18.51 </td>\n",
       "   <td style=\"text-align:right;\"> 0 </td>\n",
       "   <td style=\"text-align:right;\"> Mar-2000 </td>\n",
       "   <td style=\"text-align:right;\"> 1 </td>\n",
       "   <td style=\"text-align:right;\"> NA </td>\n",
       "   <td style=\"text-align:right;\"> 92 </td>\n",
       "   <td style=\"text-align:right;\"> 11 </td>\n",
       "   <td style=\"text-align:right;\"> 1 </td>\n",
       "   <td style=\"text-align:right;\"> 9947 </td>\n",
       "   <td style=\"text-align:right;\"> 34.1 </td>\n",
       "   <td style=\"text-align:right;\"> 25 </td>\n",
       "   <td style=\"text-align:right;\"> f </td>\n",
       "   <td style=\"text-align:right;\"> 0.00 </td>\n",
       "   <td style=\"text-align:right;\"> 0.00 </td>\n",
       "   <td style=\"text-align:right;\"> 10946.31 </td>\n",
       "   <td style=\"text-align:right;\"> 10946.31 </td>\n",
       "   <td style=\"text-align:right;\"> 9100.00 </td>\n",
       "   <td style=\"text-align:right;\"> 1846.31 </td>\n",
       "   <td style=\"text-align:right;\"> 0 </td>\n",
       "   <td style=\"text-align:right;\"> 0 </td>\n",
       "   <td style=\"text-align:right;\"> 0 </td>\n",
       "   <td style=\"text-align:right;\"> Nov-2014 </td>\n",
       "   <td style=\"text-align:right;\"> 306.75 </td>\n",
       "   <td style=\"text-align:right;\">  </td>\n",
       "   <td style=\"text-align:right;\"> Jan-2016 </td>\n",
       "   <td style=\"text-align:right;\"> 0 </td>\n",
       "   <td style=\"text-align:right;\"> NA </td>\n",
       "   <td style=\"text-align:right;\"> 1 </td>\n",
       "   <td style=\"text-align:right;\"> INDIVIDUAL </td>\n",
       "   <td style=\"text-align:right;\"> NA </td>\n",
       "   <td style=\"text-align:right;\"> NA </td>\n",
       "   <td style=\"text-align:right;\">  </td>\n",
       "   <td style=\"text-align:right;\"> 0 </td>\n",
       "   <td style=\"text-align:right;\"> NA </td>\n",
       "   <td style=\"text-align:right;\"> NA </td>\n",
       "   <td style=\"text-align:right;\"> NA </td>\n",
       "   <td style=\"text-align:right;\"> NA </td>\n",
       "   <td style=\"text-align:right;\"> NA </td>\n",
       "   <td style=\"text-align:right;\"> NA </td>\n",
       "   <td style=\"text-align:right;\"> NA </td>\n",
       "   <td style=\"text-align:right;\"> NA </td>\n",
       "   <td style=\"text-align:right;\"> NA </td>\n",
       "   <td style=\"text-align:right;\"> NA </td>\n",
       "   <td style=\"text-align:right;\"> NA </td>\n",
       "   <td style=\"text-align:right;\"> NA </td>\n",
       "   <td style=\"text-align:right;\"> NA </td>\n",
       "   <td style=\"text-align:right;\"> NA </td>\n",
       "   <td style=\"text-align:right;\"> NA </td>\n",
       "   <td style=\"text-align:right;\"> NA </td>\n",
       "   <td style=\"text-align:right;\"> NA </td>\n",
       "  </tr>\n",
       "  <tr>\n",
       "   <td style=\"text-align:right;\"> 867871 </td>\n",
       "   <td style=\"text-align:right;\"> 1081504 </td>\n",
       "   <td style=\"text-align:right;\"> 21000 </td>\n",
       "   <td style=\"text-align:right;\"> 21000 </td>\n",
       "   <td style=\"text-align:right;\"> 21000 </td>\n",
       "   <td style=\"text-align:right;\"> 60 months </td>\n",
       "   <td style=\"text-align:right;\"> 14.65 </td>\n",
       "   <td style=\"text-align:right;\"> 495.74 </td>\n",
       "   <td style=\"text-align:right;\"> C </td>\n",
       "   <td style=\"text-align:right;\"> C3 </td>\n",
       "   <td style=\"text-align:right;\"> Christus St.Francis Cabrini Hospital </td>\n",
       "   <td style=\"text-align:right;\"> 5 years </td>\n",
       "   <td style=\"text-align:right;\"> MORTGAGE </td>\n",
       "   <td style=\"text-align:right;\"> 72000 </td>\n",
       "   <td style=\"text-align:right;\"> Source Verified </td>\n",
       "   <td style=\"text-align:right;\"> Oct-2011 </td>\n",
       "   <td style=\"text-align:right;\"> Current </td>\n",
       "   <td style=\"text-align:right;\"> n </td>\n",
       "   <td style=\"text-align:right;\"> https://www.lendingclub.com/browse/loanDetail.action?loan_id=867871 </td>\n",
       "   <td style=\"text-align:right;\"> Borrower added on 10/25/11 &gt; Outdoor Kitchen and Patio with Fireplace&lt;br/&gt; </td>\n",
       "   <td style=\"text-align:right;\"> home_improvement </td>\n",
       "   <td style=\"text-align:right;\"> Backyard Addition </td>\n",
       "   <td style=\"text-align:right;\"> 713xx </td>\n",
       "   <td style=\"text-align:right;\"> LA </td>\n",
       "   <td style=\"text-align:right;\"> 22.98 </td>\n",
       "   <td style=\"text-align:right;\"> 0 </td>\n",
       "   <td style=\"text-align:right;\"> Aug-1999 </td>\n",
       "   <td style=\"text-align:right;\"> 1 </td>\n",
       "   <td style=\"text-align:right;\"> NA </td>\n",
       "   <td style=\"text-align:right;\"> NA </td>\n",
       "   <td style=\"text-align:right;\"> 9 </td>\n",
       "   <td style=\"text-align:right;\"> 0 </td>\n",
       "   <td style=\"text-align:right;\"> 7476 </td>\n",
       "   <td style=\"text-align:right;\"> 64.4 </td>\n",
       "   <td style=\"text-align:right;\"> 27 </td>\n",
       "   <td style=\"text-align:right;\"> f </td>\n",
       "   <td style=\"text-align:right;\"> 4641.44 </td>\n",
       "   <td style=\"text-align:right;\"> 4641.44 </td>\n",
       "   <td style=\"text-align:right;\"> 24784.57 </td>\n",
       "   <td style=\"text-align:right;\"> 24784.57 </td>\n",
       "   <td style=\"text-align:right;\"> 16358.56 </td>\n",
       "   <td style=\"text-align:right;\"> 8426.01 </td>\n",
       "   <td style=\"text-align:right;\"> 0 </td>\n",
       "   <td style=\"text-align:right;\"> 0 </td>\n",
       "   <td style=\"text-align:right;\"> 0 </td>\n",
       "   <td style=\"text-align:right;\"> Jan-2016 </td>\n",
       "   <td style=\"text-align:right;\"> 495.74 </td>\n",
       "   <td style=\"text-align:right;\"> Jan-2016 </td>\n",
       "   <td style=\"text-align:right;\"> Jan-2016 </td>\n",
       "   <td style=\"text-align:right;\"> 0 </td>\n",
       "   <td style=\"text-align:right;\"> NA </td>\n",
       "   <td style=\"text-align:right;\"> 1 </td>\n",
       "   <td style=\"text-align:right;\"> INDIVIDUAL </td>\n",
       "   <td style=\"text-align:right;\"> NA </td>\n",
       "   <td style=\"text-align:right;\"> NA </td>\n",
       "   <td style=\"text-align:right;\">  </td>\n",
       "   <td style=\"text-align:right;\"> 0 </td>\n",
       "   <td style=\"text-align:right;\"> NA </td>\n",
       "   <td style=\"text-align:right;\"> NA </td>\n",
       "   <td style=\"text-align:right;\"> NA </td>\n",
       "   <td style=\"text-align:right;\"> NA </td>\n",
       "   <td style=\"text-align:right;\"> NA </td>\n",
       "   <td style=\"text-align:right;\"> NA </td>\n",
       "   <td style=\"text-align:right;\"> NA </td>\n",
       "   <td style=\"text-align:right;\"> NA </td>\n",
       "   <td style=\"text-align:right;\"> NA </td>\n",
       "   <td style=\"text-align:right;\"> NA </td>\n",
       "   <td style=\"text-align:right;\"> NA </td>\n",
       "   <td style=\"text-align:right;\"> NA </td>\n",
       "   <td style=\"text-align:right;\"> NA </td>\n",
       "   <td style=\"text-align:right;\"> NA </td>\n",
       "   <td style=\"text-align:right;\"> NA </td>\n",
       "   <td style=\"text-align:right;\"> NA </td>\n",
       "   <td style=\"text-align:right;\"> NA </td>\n",
       "  </tr>\n",
       "</tbody>\n",
       "</table>"
      ]
     },
     "metadata": {},
     "output_type": "display_data"
    }
   ],
   "source": [
    "new = datax[c(3000, 6000, 5014, 5017),]\n",
    "fmt(new, title=NA)"
   ]
  },
  {
   "cell_type": "markdown",
   "metadata": {},
   "source": [
    "Represent the new observations as principal components ..."
   ]
  },
  {
   "cell_type": "code",
   "execution_count": 40,
   "metadata": {
    "hide_input": true,
    "scrolled": false
   },
   "outputs": [
    {
     "data": {
      "text/html": [
       "<table>\n",
       " <thead>\n",
       "  <tr>\n",
       "   <th style=\"text-align:right;background-color: #FFFFFF !important;\"> PC1 </th>\n",
       "   <th style=\"text-align:right;background-color: #FFFFFF !important;\"> PC2 </th>\n",
       "   <th style=\"text-align:right;background-color: #FFFFFF !important;\"> PC3 </th>\n",
       "   <th style=\"text-align:right;background-color: #FFFFFF !important;\"> PC4 </th>\n",
       "   <th style=\"text-align:right;background-color: #FFFFFF !important;\"> PC5 </th>\n",
       "   <th style=\"text-align:right;background-color: #FFFFFF !important;\"> PC6 </th>\n",
       "   <th style=\"text-align:right;background-color: #FFFFFF !important;\"> PC7 </th>\n",
       "   <th style=\"text-align:right;background-color: #FFFFFF !important;\"> PC8 </th>\n",
       "   <th style=\"text-align:right;background-color: #FFFFFF !important;\"> PC9 </th>\n",
       "   <th style=\"text-align:right;background-color: #FFFFFF !important;\"> PC10 </th>\n",
       "   <th style=\"text-align:right;background-color: #FFFFFF !important;\"> PC11 </th>\n",
       "   <th style=\"text-align:right;background-color: #FFFFFF !important;\"> PC12 </th>\n",
       "   <th style=\"text-align:right;background-color: #FFFFFF !important;\"> PC13 </th>\n",
       "   <th style=\"text-align:right;background-color: #FFFFFF !important;\"> PC14 </th>\n",
       "   <th style=\"text-align:right;background-color: #FFFFFF !important;\"> PC15 </th>\n",
       "   <th style=\"text-align:right;background-color: #FFFFFF !important;\"> PC16 </th>\n",
       "   <th style=\"text-align:right;background-color: #FFFFFF !important;\"> PC17 </th>\n",
       "  </tr>\n",
       " </thead>\n",
       "<tbody>\n",
       "  <tr>\n",
       "   <td style=\"text-align:right;\"> 0.939510 </td>\n",
       "   <td style=\"text-align:right;\"> -0.9517519 </td>\n",
       "   <td style=\"text-align:right;\"> 0.2478433 </td>\n",
       "   <td style=\"text-align:right;\"> -1.5846141 </td>\n",
       "   <td style=\"text-align:right;\"> 0.4814426 </td>\n",
       "   <td style=\"text-align:right;\"> -0.4668083 </td>\n",
       "   <td style=\"text-align:right;\"> -0.4343095 </td>\n",
       "   <td style=\"text-align:right;\"> 0.5425070 </td>\n",
       "   <td style=\"text-align:right;\"> -0.0718848 </td>\n",
       "   <td style=\"text-align:right;\"> -0.0758574 </td>\n",
       "   <td style=\"text-align:right;\"> 0.0629571 </td>\n",
       "   <td style=\"text-align:right;\"> -0.0125530 </td>\n",
       "   <td style=\"text-align:right;\"> 0.0206848 </td>\n",
       "   <td style=\"text-align:right;\"> 0.0033950 </td>\n",
       "   <td style=\"text-align:right;\"> 0.0007629 </td>\n",
       "   <td style=\"text-align:right;\"> 0.0000005 </td>\n",
       "   <td style=\"text-align:right;\"> 0.0000000 </td>\n",
       "  </tr>\n",
       "  <tr>\n",
       "   <td style=\"text-align:right;\"> 2.533915 </td>\n",
       "   <td style=\"text-align:right;\"> -0.5280182 </td>\n",
       "   <td style=\"text-align:right;\"> 0.1288180 </td>\n",
       "   <td style=\"text-align:right;\"> 0.0405290 </td>\n",
       "   <td style=\"text-align:right;\"> 0.2564283 </td>\n",
       "   <td style=\"text-align:right;\"> -0.3348072 </td>\n",
       "   <td style=\"text-align:right;\"> 0.9617236 </td>\n",
       "   <td style=\"text-align:right;\"> -0.1806087 </td>\n",
       "   <td style=\"text-align:right;\"> 0.8802431 </td>\n",
       "   <td style=\"text-align:right;\"> -0.4340605 </td>\n",
       "   <td style=\"text-align:right;\"> 0.3831211 </td>\n",
       "   <td style=\"text-align:right;\"> -0.3200990 </td>\n",
       "   <td style=\"text-align:right;\"> -0.0020988 </td>\n",
       "   <td style=\"text-align:right;\"> 0.0195083 </td>\n",
       "   <td style=\"text-align:right;\"> 0.0065554 </td>\n",
       "   <td style=\"text-align:right;\"> -0.0000046 </td>\n",
       "   <td style=\"text-align:right;\"> 0.0000000 </td>\n",
       "  </tr>\n",
       "  <tr>\n",
       "   <td style=\"text-align:right;\"> -1.288913 </td>\n",
       "   <td style=\"text-align:right;\"> -0.1838009 </td>\n",
       "   <td style=\"text-align:right;\"> 0.0295805 </td>\n",
       "   <td style=\"text-align:right;\"> 0.1911345 </td>\n",
       "   <td style=\"text-align:right;\"> -0.0036448 </td>\n",
       "   <td style=\"text-align:right;\"> 0.0081050 </td>\n",
       "   <td style=\"text-align:right;\"> 0.0726286 </td>\n",
       "   <td style=\"text-align:right;\"> 0.6637054 </td>\n",
       "   <td style=\"text-align:right;\"> 0.2647919 </td>\n",
       "   <td style=\"text-align:right;\"> 0.1275329 </td>\n",
       "   <td style=\"text-align:right;\"> -0.1933606 </td>\n",
       "   <td style=\"text-align:right;\"> -0.0367259 </td>\n",
       "   <td style=\"text-align:right;\"> 0.0175672 </td>\n",
       "   <td style=\"text-align:right;\"> 0.0012574 </td>\n",
       "   <td style=\"text-align:right;\"> 0.0020289 </td>\n",
       "   <td style=\"text-align:right;\"> -0.0000017 </td>\n",
       "   <td style=\"text-align:right;\"> 0.0000002 </td>\n",
       "  </tr>\n",
       "  <tr>\n",
       "   <td style=\"text-align:right;\"> 2.727733 </td>\n",
       "   <td style=\"text-align:right;\"> 3.5232720 </td>\n",
       "   <td style=\"text-align:right;\"> 5.9354508 </td>\n",
       "   <td style=\"text-align:right;\"> 0.4987758 </td>\n",
       "   <td style=\"text-align:right;\"> -0.8589747 </td>\n",
       "   <td style=\"text-align:right;\"> 0.5706727 </td>\n",
       "   <td style=\"text-align:right;\"> 0.4026023 </td>\n",
       "   <td style=\"text-align:right;\"> 2.0772339 </td>\n",
       "   <td style=\"text-align:right;\"> 1.6221660 </td>\n",
       "   <td style=\"text-align:right;\"> -0.4264108 </td>\n",
       "   <td style=\"text-align:right;\"> 0.2956805 </td>\n",
       "   <td style=\"text-align:right;\"> -0.3406679 </td>\n",
       "   <td style=\"text-align:right;\"> -0.0089201 </td>\n",
       "   <td style=\"text-align:right;\"> 0.0198996 </td>\n",
       "   <td style=\"text-align:right;\"> 0.0118017 </td>\n",
       "   <td style=\"text-align:right;\"> -0.0009636 </td>\n",
       "   <td style=\"text-align:right;\"> 0.0000000 </td>\n",
       "  </tr>\n",
       "</tbody>\n",
       "</table>"
      ]
     },
     "metadata": {},
     "output_type": "display_data"
    }
   ],
   "source": [
    "new.pc = as.data.frame(predict(pc, new))\n",
    "fmt(new.pc, title=NA)"
   ]
  },
  {
   "cell_type": "markdown",
   "metadata": {},
   "source": [
    "Visualize observations and model ..."
   ]
  },
  {
   "cell_type": "code",
   "execution_count": 41,
   "metadata": {
    "hide_input": true
   },
   "outputs": [
    {
     "data": {
      "image/png": "[encoded data removed]",
      "text/plain": [
       "plot without title"
      ]
     },
     "metadata": {},
     "output_type": "display_data"
    }
   ],
   "source": [
    "ggplot() + ggtitle(\"New Observations & Model\")+ xlim(-5,20) + ylim(-5,50) +\n",
    "geom_polygon(aes(x=PC1, y=PC2, fill=\"good\", alpha=\"medium\"), data=space.medium.good) +\n",
    "geom_polygon(aes(x=PC1, y=PC2, fill=\"bad\", alpha=\"medium\"), data=space.medium.bad) +\n",
    "geom_polygon(aes(x=PC1, y=PC2, fill=\"good\", alpha=\"high\"), data=space.high.good) +\n",
    "geom_polygon(aes(x=PC1, y=PC2, fill=\"bad\", alpha=\"high\"), data=space.high.bad) +\n",
    "geom_point(aes(x=PC1, y=PC2), data=new.pc, size=3, color=\"black\") +\n",
    "scale_fill_manual(\"class\", values=c(\"good\"=PALETTE[3], \"bad\"=PALETTE[2])) +\n",
    "scale_alpha_manual(\"certainty\", values=c(\"medium\"=0.5, \"high\"=1)) + \n",
    "theme.legend_title"
   ]
  },
  {
   "cell_type": "markdown",
   "metadata": {},
   "source": [
    "Make predictions ..."
   ]
  },
  {
   "cell_type": "code",
   "execution_count": 42,
   "metadata": {
    "hide_input": true,
    "scrolled": true
   },
   "outputs": [
    {
     "data": {
      "text/html": [
       "<table>\n",
       "<caption><center><font color=\"black\"><b>prediction</b></font></center></caption>\n",
       " <thead>\n",
       "  <tr>\n",
       "   <th style=\"text-align:right;background-color: #FFFFFF !important;\"> PC1 </th>\n",
       "   <th style=\"text-align:right;background-color: #FFFFFF !important;\"> PC2 </th>\n",
       "   <th style=\"text-align:right;background-color: #FFFFFF !important;\"> high_good </th>\n",
       "   <th style=\"text-align:right;background-color: #FFFFFF !important;\"> high_bad </th>\n",
       "   <th style=\"text-align:right;background-color: #FFFFFF !important;\"> medium_good </th>\n",
       "   <th style=\"text-align:right;background-color: #FFFFFF !important;\"> medium_bad </th>\n",
       "   <th style=\"text-align:right;background-color: #FFFFFF !important;\"> commit </th>\n",
       "  </tr>\n",
       " </thead>\n",
       "<tbody>\n",
       "  <tr>\n",
       "   <td style=\"text-align:right;\"> 0.939510 </td>\n",
       "   <td style=\"text-align:right;\"> -0.9517519 </td>\n",
       "   <td style=\"text-align:right;\"> TRUE </td>\n",
       "   <td style=\"text-align:right;\"> FALSE </td>\n",
       "   <td style=\"text-align:right;\"> FALSE </td>\n",
       "   <td style=\"text-align:right;\"> FALSE </td>\n",
       "   <td style=\"text-align:right;\"> high_good </td>\n",
       "  </tr>\n",
       "  <tr>\n",
       "   <td style=\"text-align:right;\"> 2.533915 </td>\n",
       "   <td style=\"text-align:right;\"> -0.5280182 </td>\n",
       "   <td style=\"text-align:right;\"> FALSE </td>\n",
       "   <td style=\"text-align:right;\"> FALSE </td>\n",
       "   <td style=\"text-align:right;\"> TRUE </td>\n",
       "   <td style=\"text-align:right;\"> FALSE </td>\n",
       "   <td style=\"text-align:right;\"> medium_good </td>\n",
       "  </tr>\n",
       "  <tr>\n",
       "   <td style=\"text-align:right;\"> -1.288913 </td>\n",
       "   <td style=\"text-align:right;\"> -0.1838009 </td>\n",
       "   <td style=\"text-align:right;\"> FALSE </td>\n",
       "   <td style=\"text-align:right;\"> FALSE </td>\n",
       "   <td style=\"text-align:right;\"> TRUE </td>\n",
       "   <td style=\"text-align:right;\"> FALSE </td>\n",
       "   <td style=\"text-align:right;\"> medium_good </td>\n",
       "  </tr>\n",
       "  <tr>\n",
       "   <td style=\"text-align:right;\"> 2.727733 </td>\n",
       "   <td style=\"text-align:right;\"> 3.5232720 </td>\n",
       "   <td style=\"text-align:right;\"> FALSE </td>\n",
       "   <td style=\"text-align:right;\"> FALSE </td>\n",
       "   <td style=\"text-align:right;\"> FALSE </td>\n",
       "   <td style=\"text-align:right;\"> TRUE </td>\n",
       "   <td style=\"text-align:right;\"> medium_bad </td>\n",
       "  </tr>\n",
       "</tbody>\n",
       "</table>"
      ]
     },
     "metadata": {},
     "output_type": "display_data"
    }
   ],
   "source": [
    "prediction = data.frame(PC1=new.pc$PC1, PC2=new.pc$PC2,\n",
    "                        high_good=inside(new.pc[,c(\"PC1\",\"PC2\")],   space.high.good),\n",
    "                        high_bad=inside(new.pc[,c(\"PC1\",\"PC2\")],    space.high.bad),\n",
    "                        medium_good=inside(new.pc[,c(\"PC1\",\"PC2\")], space.medium.good),\n",
    "                        medium_bad=inside(new.pc[,c(\"PC1\",\"PC2\")],  space.medium.bad))\n",
    "\n",
    "prediction$commit = factor(aaply(1:nrow(prediction), 1, function(i) which(as.logical(prediction[i,3:6]))),\n",
    "                           levels=1:4,\n",
    "                           labels=names(prediction)[3:6])\n",
    "\n",
    "fmt(prediction)"
   ]
  },
  {
   "cell_type": "markdown",
   "metadata": {},
   "source": [
    "Visualize observations, model, & predictions ..."
   ]
  },
  {
   "cell_type": "code",
   "execution_count": 43,
   "metadata": {
    "hide_input": true,
    "scrolled": false
   },
   "outputs": [
    {
     "data": {
      "image/png": "[encoded data removed]",
      "text/plain": [
       "plot without title"
      ]
     },
     "metadata": {},
     "output_type": "display_data"
    }
   ],
   "source": [
    "ggplot() + ggtitle(\"New Observations, Model, & Predictions\") + xlim(-5,20) + ylim(-5,50) +\n",
    "geom_polygon(aes(x=PC1, y=PC2, fill=\"good\", alpha=\"medium\"), data=space.medium.good) +\n",
    "geom_polygon(aes(x=PC1, y=PC2, fill=\"bad\", alpha=\"medium\"), data=space.medium.bad) +\n",
    "geom_polygon(aes(x=PC1, y=PC2, fill=\"good\", alpha=\"high\"), data=space.high.good) +\n",
    "geom_polygon(aes(x=PC1, y=PC2, fill=\"bad\", alpha=\"high\"), data=space.high.bad) +\n",
    "geom_point(aes(x=PC1, y=PC2), data=new.pc[1,], size=3, fill=PALETTE[3], color=\"black\", alpha=1.0, shape=21) +\n",
    "geom_point(aes(x=PC1, y=PC2), data=new.pc[2,], size=3, fill=PALETTE[3], color=\"black\", alpha=0.5, shape=21) +\n",
    "geom_point(aes(x=PC1, y=PC2), data=new.pc[3,], size=3, fill=PALETTE[3], color=\"black\", alpha=0.5, shape=21) +\n",
    "geom_point(aes(x=PC1, y=PC2), data=new.pc[4,], size=3, fill=PALETTE[2], color=\"black\", alpha=0.5, shape=21) +\n",
    "scale_fill_manual(\"class\", values=c(\"good\"=PALETTE[3], \"bad\"=PALETTE[2])) +\n",
    "scale_alpha_manual(\"certainty\", values=c(\"medium\"=0.5, \"high\"=1)) + \n",
    "theme.legend_title"
   ]
  },
  {
   "cell_type": "markdown",
   "metadata": {},
   "source": [
    "## Evaluation"
   ]
  },
  {
   "cell_type": "markdown",
   "metadata": {},
   "source": [
    "### Evaluate Model's Performance on New Observations"
   ]
  },
  {
   "cell_type": "code",
   "execution_count": 44,
   "metadata": {
    "hide_input": true,
    "scrolled": true
   },
   "outputs": [
    {
     "data": {
      "text/html": [
       "<table>\n",
       "<thead><tr><th scope=col>PC1</th><th scope=col>PC2</th><th scope=col>high_good</th><th scope=col>high_bad</th><th scope=col>medium_good</th><th scope=col>medium_bad</th><th scope=col>commit</th><th scope=col>actual</th></tr></thead>\n",
       "<tbody>\n",
       "\t<tr><td> 0.939510  </td><td>-0.9517519 </td><td> TRUE      </td><td>FALSE      </td><td>FALSE      </td><td>FALSE      </td><td>high_good  </td><td>good       </td></tr>\n",
       "\t<tr><td> 2.533915  </td><td>-0.5280182 </td><td>FALSE      </td><td>FALSE      </td><td> TRUE      </td><td>FALSE      </td><td>medium_good</td><td>good       </td></tr>\n",
       "\t<tr><td>-1.288913  </td><td>-0.1838009 </td><td>FALSE      </td><td>FALSE      </td><td> TRUE      </td><td>FALSE      </td><td>medium_good</td><td>good       </td></tr>\n",
       "\t<tr><td> 2.727733  </td><td> 3.5232720 </td><td>FALSE      </td><td>FALSE      </td><td>FALSE      </td><td> TRUE      </td><td>medium_bad </td><td>good       </td></tr>\n",
       "</tbody>\n",
       "</table>\n"
      ],
      "text/latex": [
       "\\begin{tabular}{r|llllllll}\n",
       " PC1 & PC2 & high\\_good & high\\_bad & medium\\_good & medium\\_bad & commit & actual\\\\\n",
       "\\hline\n",
       "\t  0.939510     & -0.9517519    &  TRUE         & FALSE         & FALSE         & FALSE         & high\\_good   & good         \\\\\n",
       "\t  2.533915     & -0.5280182    & FALSE         & FALSE         &  TRUE         & FALSE         & medium\\_good & good         \\\\\n",
       "\t -1.288913     & -0.1838009    & FALSE         & FALSE         &  TRUE         & FALSE         & medium\\_good & good         \\\\\n",
       "\t  2.727733     &  3.5232720    & FALSE         & FALSE         & FALSE         &  TRUE         & medium\\_bad  & good         \\\\\n",
       "\\end{tabular}\n"
      ],
      "text/markdown": [
       "\n",
       "| PC1 | PC2 | high_good | high_bad | medium_good | medium_bad | commit | actual |\n",
       "|---|---|---|---|---|---|---|---|\n",
       "|  0.939510   | -0.9517519  |  TRUE       | FALSE       | FALSE       | FALSE       | high_good   | good        |\n",
       "|  2.533915   | -0.5280182  | FALSE       | FALSE       |  TRUE       | FALSE       | medium_good | good        |\n",
       "| -1.288913   | -0.1838009  | FALSE       | FALSE       |  TRUE       | FALSE       | medium_good | good        |\n",
       "|  2.727733   |  3.5232720  | FALSE       | FALSE       | FALSE       |  TRUE       | medium_bad  | good        |\n",
       "\n"
      ],
      "text/plain": [
       "  PC1       PC2        high_good high_bad medium_good medium_bad commit     \n",
       "1  0.939510 -0.9517519  TRUE     FALSE    FALSE       FALSE      high_good  \n",
       "2  2.533915 -0.5280182 FALSE     FALSE     TRUE       FALSE      medium_good\n",
       "3 -1.288913 -0.1838009 FALSE     FALSE     TRUE       FALSE      medium_good\n",
       "4  2.727733  3.5232720 FALSE     FALSE    FALSE        TRUE      medium_bad \n",
       "  actual\n",
       "1 good  \n",
       "2 good  \n",
       "3 good  \n",
       "4 good  "
      ]
     },
     "metadata": {},
     "output_type": "display_data"
    }
   ],
   "source": [
    "evaluation = prediction\n",
    "evaluation$actual = class[c(3000, 6000, 5014, 5017)]\n",
    "evaluation"
   ]
  },
  {
   "cell_type": "markdown",
   "metadata": {},
   "source": [
    "### Evaluate Model's Perfromance on All Data"
   ]
  },
  {
   "cell_type": "code",
   "execution_count": 45,
   "metadata": {
    "hide_input": true
   },
   "outputs": [
    {
     "data": {
      "text/html": [
       "<table>\n",
       "<caption><center><font color=\"black\"><b>Correct predictions (%)</b></font></center></caption>\n",
       " <thead>\n",
       "  <tr>\n",
       "   <th style=\"text-align:right;background-color: #FFFFFF !important;\"> high.good </th>\n",
       "   <th style=\"text-align:right;background-color: #FFFFFF !important;\"> medium.good </th>\n",
       "   <th style=\"text-align:right;background-color: #FFFFFF !important;\"> high.bad </th>\n",
       "   <th style=\"text-align:right;background-color: #FFFFFF !important;\"> medium.bad </th>\n",
       "  </tr>\n",
       " </thead>\n",
       "<tbody>\n",
       "  <tr>\n",
       "   <td style=\"text-align:right;\"> 100 </td>\n",
       "   <td style=\"text-align:right;\"> 97.57178 </td>\n",
       "   <td style=\"text-align:right;\"> 100 </td>\n",
       "   <td style=\"text-align:right;\"> 61.47775 </td>\n",
       "  </tr>\n",
       "</tbody>\n",
       "</table>"
      ]
     },
     "metadata": {},
     "output_type": "display_data"
    }
   ],
   "source": [
    "data.pc.high.good = data.pc[inside(data.pc[,c(\"PC1\",\"PC2\")], space.high.good),]\n",
    "class.high.good   = class[inside(data.pc[,c(\"PC1\",\"PC2\")], space.high.good)]\n",
    "\n",
    "data.pc.high.bad = data.pc[inside(data.pc[,c(\"PC1\",\"PC2\")], space.high.bad), ]\n",
    "class.high.bad   = class[inside(data.pc[,c(\"PC1\",\"PC2\")], space.high.bad)]\n",
    "\n",
    "data.pc.medium.good = data.pc[inside(data.pc[,c(\"PC1\",\"PC2\")], space.medium.good),]\n",
    "class.medium.good   = class[inside(data.pc[,c(\"PC1\",\"PC2\")], space.medium.good)]\n",
    "\n",
    "data.pc.medium.bad = data.pc[inside(data.pc[,c(\"PC1\",\"PC2\")], space.medium.bad),]\n",
    "class.medium.bad   = class[inside(data.pc[,c(\"PC1\",\"PC2\")], space.medium.bad)]\n",
    "\n",
    "d = data.frame(high.good=100,\n",
    "               medium.good=100*table(class.medium.good)[\"good\"] / length(class.medium.good),\n",
    "               high.bad=100,\n",
    "               medium.bad=100*table(class.medium.bad)[\"bad\"] / length(class.medium.bad))\n",
    "\n",
    "fmt(d, \"Correct predictions (%)\")"
   ]
  },
  {
   "cell_type": "code",
   "execution_count": 46,
   "metadata": {
    "hide_input": true
   },
   "outputs": [
    {
     "data": {
      "image/png": "[encoded data removed]",
      "text/plain": [
       "plot without title"
      ]
     },
     "metadata": {},
     "output_type": "display_data"
    }
   ],
   "source": [
    "output_size(8,5)\n",
    "\n",
    "p1 = ggplot(data.pc.high.good) + xlim(-5,20) + ylim(-5,50) +\n",
    "     geom_point(aes(x=PC1, y=PC2, color=class.high.good), alpha=0.2) +\n",
    "     scale_color_manual(values=PALETTE[2:3]) + theme.no_legend +\n",
    "     ggtitle(\"High certainty that it's a good loan\")\n",
    "\n",
    "p2 = ggplot(data.pc.medium.good) + xlim(-5,20) + ylim(-5,50) +\n",
    "     geom_point(aes(x=PC1, y=PC2, color=class.medium.good), alpha=0.2) +\n",
    "     geom_point(aes(x=PC1, y=PC2), data=data.pc.medium.good[class.medium.good==\"bad\",], color=\"gray30\", size=2, shape=4) +\n",
    "     scale_color_manual(values=PALETTE[2:3]) + theme.no_legend +\n",
    "     ggtitle(\"Medium certainty that it's a good loan\")\n",
    "\n",
    "p3 = ggplot(data.pc.high.bad) + xlim(-5,20) + ylim(-5,50) +\n",
    "     geom_point(aes(x=PC1, y=PC2, color=class.high.bad), alpha=0.2) +\n",
    "     scale_color_manual(values=PALETTE[2:3]) + theme.no_legend +\n",
    "     ggtitle(\"High certainty that it's a bad loan\")\n",
    "\n",
    "p4 = ggplot(data.pc.medium.bad) + xlim(-5,20) + ylim(-5,50) +\n",
    "     geom_point(aes(x=PC1, y=PC2, color=class.medium.bad), alpha=0.2) +\n",
    "     geom_point(aes(x=PC1, y=PC2), data=data.pc.medium.bad[class.medium.bad==\"good\",], color=\"gray30\", size=2, shape=4) +\n",
    "     scale_color_manual(values=PALETTE[2:3]) + theme.no_legend +\n",
    "     ggtitle(\"Medium certainty that it's a bad loan\")\n",
    "\n",
    "grid.arrange(p1, p2, p3, p4, nrow=2, ncol=2)\n",
    "\n",
    "output_size(restore)"
   ]
  },
  {
   "cell_type": "markdown",
   "metadata": {},
   "source": [
    "<p style=\"text-align:left; font-size:10px;\">\n",
    "Copyright (c) Berkeley Data Analytics Group, LLC\n",
    "<span style=\"float:right;\">\n",
    "Document revised March 1, 2020\n",
    "</span>\n",
    "</p>"
   ]
  }
 ],
 "metadata": {
  "hide_code_all_hidden": false,
  "hide_input": false,
  "kernelspec": {
   "display_name": "R",
   "language": "R",
   "name": "ir"
  },
  "language_info": {
   "codemirror_mode": "r",
   "file_extension": ".r",
   "mimetype": "text/x-r-source",
   "name": "R",
   "pygments_lexer": "r",
   "version": "3.6.1"
  },
  "toc": {
   "base_numbering": 1,
   "nav_menu": {},
   "number_sections": true,
   "sideBar": true,
   "skip_h1_title": true,
   "title_cell": "Table of Contents",
   "title_sidebar": "Contents",
   "toc_cell": false,
   "toc_position": {
    "height": "calc(100% - 180px)",
    "left": "10px",
    "top": "150px",
    "width": "255.865px"
   },
   "toc_section_display": true,
   "toc_window_display": false
  }
 },
 "nbformat": 4,
 "nbformat_minor": 2
}
